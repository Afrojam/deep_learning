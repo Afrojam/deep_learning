{
 "cells": [
  {
   "cell_type": "markdown",
   "metadata": {
    "collapsed": true,
    "hideCode": false,
    "hidePrompt": false
   },
   "source": [
    "# MAI - Deep Learning: Autonomous Lab 01"
   ]
  },
  {
   "cell_type": "markdown",
   "metadata": {
    "hideCode": false,
    "hidePrompt": false
   },
   "source": [
    "Jamie Arjona Martínez"
   ]
  },
  {
   "cell_type": "code",
   "execution_count": 1,
   "metadata": {},
   "outputs": [
    {
     "name": "stderr",
     "output_type": "stream",
     "text": [
      "Using TensorFlow backend.\n"
     ]
    }
   ],
   "source": [
    "from __future__ import division\n",
    "from pathlib import Path\n",
    "import time\n",
    "from IPython.core.interactiveshell import InteractiveShell\n",
    "InteractiveShell.ast_node_interactivity = \"all\"\n",
    "\n",
    "import ipdb\n",
    "from ipdb import set_trace as bp\n",
    "\n",
    "import keras\n",
    "from keras.datasets import mnist\n",
    "from keras.utils import np_utils\n",
    "from keras.models import Sequential\n",
    "from keras.layers import Dense, Activation\n",
    "from keras.utils import plot_model\n",
    "from keras.models import model_from_json #to load a model from a json file.\n",
    "import matplotlib\n",
    "import matplotlib.pyplot as plt\n",
    "from sklearn.metrics import classification_report, confusion_matrix\n",
    "import numpy as np\n",
    "np.random.seed(12345678)\n",
    "import pandas as pd\n",
    "\n",
    "%matplotlib inline"
   ]
  },
  {
   "cell_type": "markdown",
   "metadata": {
    "hideCode": false,
    "hidePrompt": false
   },
   "source": [
    "## Feedforward NN\n"
   ]
  },
  {
   "cell_type": "markdown",
   "metadata": {},
   "source": [
    "### The code"
   ]
  },
  {
   "cell_type": "code",
   "execution_count": 27,
   "metadata": {},
   "outputs": [
    {
     "name": "stdout",
     "output_type": "stream",
     "text": [
      "Using keras version 2.2.2\n",
      "\n",
      "\n",
      "Number of training examples: '60000'\n",
      "Size of train samples: '(28, 28)'\n",
      "Size of test samples: '(28, 28)'\n",
      "Train on 60000 samples, validate on 10000 samples\n",
      "Epoch 1/20\n",
      "60000/60000 [==============================] - 3s 52us/step - loss: 2.1724 - acc: 0.1811 - val_loss: 2.0583 - val_acc: 0.2110\n",
      "Epoch 2/20\n",
      "60000/60000 [==============================] - 2s 40us/step - loss: 2.0262 - acc: 0.2128 - val_loss: 1.9842 - val_acc: 0.2207\n",
      "Epoch 3/20\n",
      "60000/60000 [==============================] - 2s 38us/step - loss: 1.9698 - acc: 0.2256 - val_loss: 1.9387 - val_acc: 0.2398\n",
      "Epoch 4/20\n",
      "60000/60000 [==============================] - 2s 36us/step - loss: 1.9258 - acc: 0.2452 - val_loss: 1.8962 - val_acc: 0.2583\n",
      "Epoch 5/20\n",
      "60000/60000 [==============================] - 2s 40us/step - loss: 1.8758 - acc: 0.2703 - val_loss: 1.8405 - val_acc: 0.2701\n",
      "Epoch 6/20\n",
      "60000/60000 [==============================] - 2s 40us/step - loss: 1.8141 - acc: 0.2836 - val_loss: 1.7825 - val_acc: 0.2864\n",
      "Epoch 7/20\n",
      "60000/60000 [==============================] - 2s 38us/step - loss: 1.7563 - acc: 0.3047 - val_loss: 1.7259 - val_acc: 0.3294\n",
      "Epoch 8/20\n",
      "60000/60000 [==============================] - 2s 38us/step - loss: 1.6965 - acc: 0.3328 - val_loss: 1.6630 - val_acc: 0.3528\n",
      "Epoch 9/20\n",
      "60000/60000 [==============================] - 2s 36us/step - loss: 1.6312 - acc: 0.3588 - val_loss: 1.5974 - val_acc: 0.3746\n",
      "Epoch 10/20\n",
      "60000/60000 [==============================] - 2s 37us/step - loss: 1.5648 - acc: 0.3837 - val_loss: 1.5305 - val_acc: 0.3988\n",
      "Epoch 11/20\n",
      "60000/60000 [==============================] - 2s 40us/step - loss: 1.4995 - acc: 0.3990 - val_loss: 1.4654 - val_acc: 0.4158\n",
      "Epoch 12/20\n",
      "60000/60000 [==============================] - 2s 37us/step - loss: 1.4365 - acc: 0.4178 - val_loss: 1.4070 - val_acc: 0.4378\n",
      "Epoch 13/20\n",
      "60000/60000 [==============================] - 2s 37us/step - loss: 1.3820 - acc: 0.4421 - val_loss: 1.3586 - val_acc: 0.4587\n",
      "Epoch 14/20\n",
      "60000/60000 [==============================] - 2s 37us/step - loss: 1.3375 - acc: 0.4647 - val_loss: 1.3206 - val_acc: 0.4814\n",
      "Epoch 15/20\n",
      "60000/60000 [==============================] - 2s 37us/step - loss: 1.2999 - acc: 0.4902 - val_loss: 1.2872 - val_acc: 0.5001\n",
      "Epoch 16/20\n",
      "60000/60000 [==============================] - 2s 37us/step - loss: 1.2668 - acc: 0.5140 - val_loss: 1.2577 - val_acc: 0.5332\n",
      "Epoch 17/20\n",
      "60000/60000 [==============================] - 3s 48us/step - loss: 1.2340 - acc: 0.5375 - val_loss: 1.2247 - val_acc: 0.5408\n",
      "Epoch 18/20\n",
      "60000/60000 [==============================] - 3s 49us/step - loss: 1.2007 - acc: 0.5526 - val_loss: 1.1897 - val_acc: 0.5454\n",
      "Epoch 19/20\n",
      "60000/60000 [==============================] - 2s 37us/step - loss: 1.1648 - acc: 0.5570 - val_loss: 1.1543 - val_acc: 0.5633\n",
      "Epoch 20/20\n",
      "60000/60000 [==============================] - 2s 39us/step - loss: 1.1239 - acc: 0.5517 - val_loss: 1.0998 - val_acc: 0.5603\n"
     ]
    },
    {
     "data": {
      "text/plain": [
       "42"
      ]
     },
     "execution_count": 27,
     "metadata": {},
     "output_type": "execute_result"
    },
    {
     "data": {
      "text/plain": [
       "23"
      ]
     },
     "execution_count": 27,
     "metadata": {},
     "output_type": "execute_result"
    },
    {
     "data": {
      "text/plain": [
       "1"
      ]
     },
     "execution_count": 27,
     "metadata": {},
     "output_type": "execute_result"
    },
    {
     "data": {
      "text/plain": [
       "15"
      ]
     },
     "execution_count": 27,
     "metadata": {},
     "output_type": "execute_result"
    },
    {
     "data": {
      "text/plain": [
       "2"
      ]
     },
     "execution_count": 27,
     "metadata": {},
     "output_type": "execute_result"
    },
    {
     "data": {
      "text/plain": [
       "[<matplotlib.lines.Line2D at 0x29151433630>]"
      ]
     },
     "execution_count": 27,
     "metadata": {},
     "output_type": "execute_result"
    },
    {
     "data": {
      "text/plain": [
       "[<matplotlib.lines.Line2D at 0x29151433588>]"
      ]
     },
     "execution_count": 27,
     "metadata": {},
     "output_type": "execute_result"
    },
    {
     "data": {
      "text/plain": [
       "Text(0.5,1,'model accuracy')"
      ]
     },
     "execution_count": 27,
     "metadata": {},
     "output_type": "execute_result"
    },
    {
     "data": {
      "text/plain": [
       "Text(0,0.5,'accuracy')"
      ]
     },
     "execution_count": 27,
     "metadata": {},
     "output_type": "execute_result"
    },
    {
     "data": {
      "text/plain": [
       "Text(0.5,0,'epoch')"
      ]
     },
     "execution_count": 27,
     "metadata": {},
     "output_type": "execute_result"
    },
    {
     "data": {
      "text/plain": [
       "<matplotlib.legend.Legend at 0x29151412a20>"
      ]
     },
     "execution_count": 27,
     "metadata": {},
     "output_type": "execute_result"
    },
    {
     "data": {
      "text/plain": [
       "[<matplotlib.lines.Line2D at 0x2914e2277f0>]"
      ]
     },
     "execution_count": 27,
     "metadata": {},
     "output_type": "execute_result"
    },
    {
     "data": {
      "text/plain": [
       "[<matplotlib.lines.Line2D at 0x2914e2278d0>]"
      ]
     },
     "execution_count": 27,
     "metadata": {},
     "output_type": "execute_result"
    },
    {
     "data": {
      "text/plain": [
       "Text(0.5,1,'model loss')"
      ]
     },
     "execution_count": 27,
     "metadata": {},
     "output_type": "execute_result"
    },
    {
     "data": {
      "text/plain": [
       "Text(0,0.5,'loss')"
      ]
     },
     "execution_count": 27,
     "metadata": {},
     "output_type": "execute_result"
    },
    {
     "data": {
      "text/plain": [
       "Text(0.5,0,'epoch')"
      ]
     },
     "execution_count": 27,
     "metadata": {},
     "output_type": "execute_result"
    },
    {
     "data": {
      "text/plain": [
       "<matplotlib.legend.Legend at 0x2914e23c2b0>"
      ]
     },
     "execution_count": 27,
     "metadata": {},
     "output_type": "execute_result"
    },
    {
     "name": "stdout",
     "output_type": "stream",
     "text": [
      "Analysis of results\n",
      "              precision    recall  f1-score   support\n",
      "\n",
      "           0       0.00      0.00      0.00       980\n",
      "           1       0.28      0.96      0.43      1135\n",
      "           2       0.03      0.00      0.00      1032\n",
      "           3       0.51      0.50      0.50      1010\n",
      "           4       0.89      0.95      0.92       982\n",
      "           5       0.61      0.79      0.69       892\n",
      "           6       0.00      0.00      0.00       958\n",
      "           7       0.92      0.87      0.89      1028\n",
      "           8       0.65      0.60      0.62       974\n",
      "           9       0.90      0.89      0.90      1009\n",
      "\n",
      "   micro avg       0.56      0.56      0.56     10000\n",
      "   macro avg       0.48      0.56      0.50     10000\n",
      "weighted avg       0.48      0.56      0.49     10000\n",
      "\n",
      "[[   0  947    2    2    1    1    0    1   26    0]\n",
      " [   0 1088   17    0   17    0    0    0   13    0]\n",
      " [   0  892    1    6   25    3    0    2  100    3]\n",
      " [   0    3    2  500    0  404    0   25   70    6]\n",
      " [   0   16    2    0  932    0    0    0    1   31]\n",
      " [   0    9    0  126    0  703    0   18   33    3]\n",
      " [   0  908    0    1    8    0    0    0   41    0]\n",
      " [   0    4    3   28    6   20    0  895   23   49]\n",
      " [   0   50   12  296    8    9    0   11  581    7]\n",
      " [   0    6    1   18   45    5    0   22    9  903]]\n"
     ]
    },
    {
     "name": "stderr",
     "output_type": "stream",
     "text": [
      "C:\\Users\\Worldsensing\\Anaconda3\\lib\\site-packages\\sklearn\\metrics\\classification.py:1143: UndefinedMetricWarning: Precision and F-score are ill-defined and being set to 0.0 in labels with no predicted samples.\n",
      "  'precision', 'predicted', average, warn_for)\n"
     ]
    },
    {
     "name": "stdout",
     "output_type": "stream",
     "text": [
      "Train on 60000 samples, validate on 10000 samples\n",
      "Epoch 1/20\n",
      "60000/60000 [==============================] - 4s 63us/step - loss: 1.7603 - acc: 0.3936 - val_loss: 1.1236 - val_acc: 0.6975\n",
      "Epoch 2/20\n",
      "60000/60000 [==============================] - 3s 47us/step - loss: 0.7249 - acc: 0.8177 - val_loss: 0.4753 - val_acc: 0.8708\n",
      "Epoch 3/20\n",
      "60000/60000 [==============================] - 3s 42us/step - loss: 0.4329 - acc: 0.8802 - val_loss: 0.3716 - val_acc: 0.8952\n",
      "Epoch 4/20\n",
      "60000/60000 [==============================] - 3s 44us/step - loss: 0.3599 - acc: 0.8972 - val_loss: 0.3250 - val_acc: 0.9073\n",
      "Epoch 5/20\n",
      "60000/60000 [==============================] - 2s 39us/step - loss: 0.3208 - acc: 0.9082 - val_loss: 0.2980 - val_acc: 0.9125\n",
      "Epoch 6/20\n",
      "60000/60000 [==============================] - 2s 41us/step - loss: 0.2940 - acc: 0.9158 - val_loss: 0.2778 - val_acc: 0.9175\n",
      "Epoch 7/20\n",
      "60000/60000 [==============================] - 3s 45us/step - loss: 0.2718 - acc: 0.9220 - val_loss: 0.2567 - val_acc: 0.9255\n",
      "Epoch 8/20\n",
      "60000/60000 [==============================] - 2s 39us/step - loss: 0.2536 - acc: 0.9273 - val_loss: 0.2426 - val_acc: 0.9282\n",
      "Epoch 9/20\n",
      "60000/60000 [==============================] - 3s 48us/step - loss: 0.2376 - acc: 0.9320 - val_loss: 0.2291 - val_acc: 0.9310\n",
      "Epoch 10/20\n",
      "60000/60000 [==============================] - 3s 46us/step - loss: 0.2234 - acc: 0.9357 - val_loss: 0.2147 - val_acc: 0.9388\n",
      "Epoch 11/20\n",
      "60000/60000 [==============================] - 2s 37us/step - loss: 0.2111 - acc: 0.9398 - val_loss: 0.2043 - val_acc: 0.9396\n",
      "Epoch 12/20\n",
      "60000/60000 [==============================] - 3s 47us/step - loss: 0.1998 - acc: 0.9428 - val_loss: 0.1965 - val_acc: 0.9434\n",
      "Epoch 13/20\n",
      "60000/60000 [==============================] - 3s 45us/step - loss: 0.1896 - acc: 0.9462 - val_loss: 0.1853 - val_acc: 0.9469\n",
      "Epoch 14/20\n",
      "60000/60000 [==============================] - 2s 41us/step - loss: 0.1799 - acc: 0.9486 - val_loss: 0.1802 - val_acc: 0.9470\n",
      "Epoch 15/20\n",
      "60000/60000 [==============================] - 3s 42us/step - loss: 0.1713 - acc: 0.9512 - val_loss: 0.1702 - val_acc: 0.9506\n",
      "Epoch 16/20\n",
      "60000/60000 [==============================] - 2s 37us/step - loss: 0.1639 - acc: 0.9528 - val_loss: 0.1664 - val_acc: 0.9524\n",
      "Epoch 17/20\n",
      "60000/60000 [==============================] - 2s 39us/step - loss: 0.1563 - acc: 0.9548 - val_loss: 0.1568 - val_acc: 0.9531\n",
      "Epoch 18/20\n",
      "60000/60000 [==============================] - 2s 38us/step - loss: 0.1500 - acc: 0.9565 - val_loss: 0.1537 - val_acc: 0.9535\n",
      "Epoch 19/20\n",
      "60000/60000 [==============================] - 2s 38us/step - loss: 0.1430 - acc: 0.9593 - val_loss: 0.1473 - val_acc: 0.9555\n",
      "Epoch 20/20\n",
      "60000/60000 [==============================] - 2s 38us/step - loss: 0.1379 - acc: 0.9605 - val_loss: 0.1468 - val_acc: 0.9565\n"
     ]
    },
    {
     "data": {
      "text/plain": [
       "42"
      ]
     },
     "execution_count": 27,
     "metadata": {},
     "output_type": "execute_result"
    },
    {
     "data": {
      "text/plain": [
       "23"
      ]
     },
     "execution_count": 27,
     "metadata": {},
     "output_type": "execute_result"
    },
    {
     "data": {
      "text/plain": [
       "1"
      ]
     },
     "execution_count": 27,
     "metadata": {},
     "output_type": "execute_result"
    },
    {
     "data": {
      "text/plain": [
       "15"
      ]
     },
     "execution_count": 27,
     "metadata": {},
     "output_type": "execute_result"
    },
    {
     "data": {
      "text/plain": [
       "2"
      ]
     },
     "execution_count": 27,
     "metadata": {},
     "output_type": "execute_result"
    },
    {
     "data": {
      "text/plain": [
       "[<matplotlib.lines.Line2D at 0x2915a4aa5c0>]"
      ]
     },
     "execution_count": 27,
     "metadata": {},
     "output_type": "execute_result"
    },
    {
     "data": {
      "text/plain": [
       "[<matplotlib.lines.Line2D at 0x2915a4aaef0>]"
      ]
     },
     "execution_count": 27,
     "metadata": {},
     "output_type": "execute_result"
    },
    {
     "data": {
      "text/plain": [
       "Text(0.5,1,'model accuracy')"
      ]
     },
     "execution_count": 27,
     "metadata": {},
     "output_type": "execute_result"
    },
    {
     "data": {
      "text/plain": [
       "Text(0,0.5,'accuracy')"
      ]
     },
     "execution_count": 27,
     "metadata": {},
     "output_type": "execute_result"
    },
    {
     "data": {
      "text/plain": [
       "Text(0.5,0,'epoch')"
      ]
     },
     "execution_count": 27,
     "metadata": {},
     "output_type": "execute_result"
    },
    {
     "data": {
      "text/plain": [
       "<matplotlib.legend.Legend at 0x2914c59dcc0>"
      ]
     },
     "execution_count": 27,
     "metadata": {},
     "output_type": "execute_result"
    },
    {
     "data": {
      "text/plain": [
       "[<matplotlib.lines.Line2D at 0x291000add30>]"
      ]
     },
     "execution_count": 27,
     "metadata": {},
     "output_type": "execute_result"
    },
    {
     "data": {
      "text/plain": [
       "[<matplotlib.lines.Line2D at 0x291000af2b0>]"
      ]
     },
     "execution_count": 27,
     "metadata": {},
     "output_type": "execute_result"
    },
    {
     "data": {
      "text/plain": [
       "Text(0.5,1,'model loss')"
      ]
     },
     "execution_count": 27,
     "metadata": {},
     "output_type": "execute_result"
    },
    {
     "data": {
      "text/plain": [
       "Text(0,0.5,'loss')"
      ]
     },
     "execution_count": 27,
     "metadata": {},
     "output_type": "execute_result"
    },
    {
     "data": {
      "text/plain": [
       "Text(0.5,0,'epoch')"
      ]
     },
     "execution_count": 27,
     "metadata": {},
     "output_type": "execute_result"
    },
    {
     "data": {
      "text/plain": [
       "<matplotlib.legend.Legend at 0x29100081748>"
      ]
     },
     "execution_count": 27,
     "metadata": {},
     "output_type": "execute_result"
    },
    {
     "name": "stdout",
     "output_type": "stream",
     "text": [
      "Analysis of results\n",
      "              precision    recall  f1-score   support\n",
      "\n",
      "           0       0.96      0.99      0.97       980\n",
      "           1       0.98      0.98      0.98      1135\n",
      "           2       0.96      0.95      0.95      1032\n",
      "           3       0.95      0.95      0.95      1010\n",
      "           4       0.96      0.96      0.96       982\n",
      "           5       0.95      0.95      0.95       892\n",
      "           6       0.95      0.97      0.96       958\n",
      "           7       0.96      0.94      0.95      1028\n",
      "           8       0.95      0.94      0.94       974\n",
      "           9       0.95      0.93      0.94      1009\n",
      "\n",
      "   micro avg       0.96      0.96      0.96     10000\n",
      "   macro avg       0.96      0.96      0.96     10000\n",
      "weighted avg       0.96      0.96      0.96     10000\n",
      "\n",
      "[[ 969    0    0    2    0    3    3    2    1    0]\n",
      " [   0 1113    3    2    0    2    3    2   10    0]\n",
      " [  10    2  981   10    3    1    9    6    9    1]\n",
      " [   0    0   12  960    0   15    0   10   12    1]\n",
      " [   1    1    4    0  944    0   10    2    2   18]\n",
      " [  10    0    0   11    1  846   11    1    8    4]\n",
      " [   6    3    2    0    9    7  929    0    2    0]\n",
      " [   2    9   19    9    2    0    0  968    0   19]\n",
      " [   6    2    4   12    4    9    8    3  917    9]\n",
      " [  10    8    2    7   22    4    1   10    7  938]]\n",
      "Train on 60000 samples, validate on 10000 samples\n",
      "Epoch 1/20\n",
      "60000/60000 [==============================] - 3s 57us/step - loss: 1.4554 - acc: 0.5713 - val_loss: 0.6833 - val_acc: 0.8272\n",
      "Epoch 2/20\n",
      "60000/60000 [==============================] - 2s 40us/step - loss: 0.5361 - acc: 0.8559 - val_loss: 0.4224 - val_acc: 0.8832\n",
      "Epoch 3/20\n",
      "60000/60000 [==============================] - 2s 39us/step - loss: 0.3953 - acc: 0.8899 - val_loss: 0.3471 - val_acc: 0.8996\n",
      "Epoch 4/20\n",
      "60000/60000 [==============================] - 2s 41us/step - loss: 0.3381 - acc: 0.9039 - val_loss: 0.3082 - val_acc: 0.9098\n",
      "Epoch 5/20\n",
      "60000/60000 [==============================] - 2s 39us/step - loss: 0.3019 - acc: 0.9137 - val_loss: 0.2790 - val_acc: 0.9196\n",
      "Epoch 6/20\n",
      "60000/60000 [==============================] - 2s 39us/step - loss: 0.2748 - acc: 0.9217 - val_loss: 0.2593 - val_acc: 0.9232\n",
      "Epoch 7/20\n",
      "60000/60000 [==============================] - 2s 39us/step - loss: 0.2535 - acc: 0.9270 - val_loss: 0.2427 - val_acc: 0.9277\n",
      "Epoch 8/20\n",
      "60000/60000 [==============================] - 2s 39us/step - loss: 0.2361 - acc: 0.9318 - val_loss: 0.2297 - val_acc: 0.9323\n",
      "Epoch 9/20\n",
      "60000/60000 [==============================] - 2s 38us/step - loss: 0.2207 - acc: 0.9364 - val_loss: 0.2161 - val_acc: 0.9350\n",
      "Epoch 10/20\n",
      "60000/60000 [==============================] - 3s 48us/step - loss: 0.2077 - acc: 0.9413 - val_loss: 0.2008 - val_acc: 0.9410\n",
      "Epoch 11/20\n",
      "60000/60000 [==============================] - 2s 39us/step - loss: 0.1963 - acc: 0.9436 - val_loss: 0.1928 - val_acc: 0.9422\n",
      "Epoch 12/20\n",
      "60000/60000 [==============================] - 2s 42us/step - loss: 0.1862 - acc: 0.9462 - val_loss: 0.1855 - val_acc: 0.9442\n",
      "Epoch 13/20\n",
      "60000/60000 [==============================] - 3s 43us/step - loss: 0.1774 - acc: 0.9496 - val_loss: 0.1798 - val_acc: 0.9455\n",
      "Epoch 14/20\n",
      "60000/60000 [==============================] - 3s 42us/step - loss: 0.1688 - acc: 0.9520 - val_loss: 0.1714 - val_acc: 0.9477\n",
      "Epoch 15/20\n",
      "60000/60000 [==============================] - 2s 41us/step - loss: 0.1619 - acc: 0.9534 - val_loss: 0.1653 - val_acc: 0.9508\n",
      "Epoch 16/20\n",
      "60000/60000 [==============================] - 3s 43us/step - loss: 0.1547 - acc: 0.9557 - val_loss: 0.1609 - val_acc: 0.9511\n",
      "Epoch 17/20\n",
      "60000/60000 [==============================] - 2s 41us/step - loss: 0.1486 - acc: 0.9579 - val_loss: 0.1540 - val_acc: 0.9533\n",
      "Epoch 18/20\n",
      "60000/60000 [==============================] - 2s 41us/step - loss: 0.1430 - acc: 0.9587 - val_loss: 0.1507 - val_acc: 0.9550\n",
      "Epoch 19/20\n",
      "60000/60000 [==============================] - 2s 41us/step - loss: 0.1377 - acc: 0.9606 - val_loss: 0.1473 - val_acc: 0.9551\n",
      "Epoch 20/20\n",
      "60000/60000 [==============================] - 2s 41us/step - loss: 0.1327 - acc: 0.9622 - val_loss: 0.1462 - val_acc: 0.9543\n"
     ]
    },
    {
     "data": {
      "text/plain": [
       "42"
      ]
     },
     "execution_count": 27,
     "metadata": {},
     "output_type": "execute_result"
    },
    {
     "data": {
      "text/plain": [
       "24"
      ]
     },
     "execution_count": 27,
     "metadata": {},
     "output_type": "execute_result"
    },
    {
     "data": {
      "text/plain": [
       "1"
      ]
     },
     "execution_count": 27,
     "metadata": {},
     "output_type": "execute_result"
    },
    {
     "data": {
      "text/plain": [
       "15"
      ]
     },
     "execution_count": 27,
     "metadata": {},
     "output_type": "execute_result"
    },
    {
     "data": {
      "text/plain": [
       "2"
      ]
     },
     "execution_count": 27,
     "metadata": {},
     "output_type": "execute_result"
    },
    {
     "data": {
      "text/plain": [
       "[<matplotlib.lines.Line2D at 0x2910032ebe0>]"
      ]
     },
     "execution_count": 27,
     "metadata": {},
     "output_type": "execute_result"
    },
    {
     "data": {
      "text/plain": [
       "[<matplotlib.lines.Line2D at 0x29100331128>]"
      ]
     },
     "execution_count": 27,
     "metadata": {},
     "output_type": "execute_result"
    },
    {
     "data": {
      "text/plain": [
       "Text(0.5,1,'model accuracy')"
      ]
     },
     "execution_count": 27,
     "metadata": {},
     "output_type": "execute_result"
    },
    {
     "data": {
      "text/plain": [
       "Text(0,0.5,'accuracy')"
      ]
     },
     "execution_count": 27,
     "metadata": {},
     "output_type": "execute_result"
    },
    {
     "data": {
      "text/plain": [
       "Text(0.5,0,'epoch')"
      ]
     },
     "execution_count": 27,
     "metadata": {},
     "output_type": "execute_result"
    },
    {
     "data": {
      "text/plain": [
       "<matplotlib.legend.Legend at 0x2910030a5f8>"
      ]
     },
     "execution_count": 27,
     "metadata": {},
     "output_type": "execute_result"
    },
    {
     "data": {
      "text/plain": [
       "[<matplotlib.lines.Line2D at 0x29101334080>]"
      ]
     },
     "execution_count": 27,
     "metadata": {},
     "output_type": "execute_result"
    },
    {
     "data": {
      "text/plain": [
       "[<matplotlib.lines.Line2D at 0x291013341d0>]"
      ]
     },
     "execution_count": 27,
     "metadata": {},
     "output_type": "execute_result"
    },
    {
     "data": {
      "text/plain": [
       "Text(0.5,1,'model loss')"
      ]
     },
     "execution_count": 27,
     "metadata": {},
     "output_type": "execute_result"
    },
    {
     "data": {
      "text/plain": [
       "Text(0,0.5,'loss')"
      ]
     },
     "execution_count": 27,
     "metadata": {},
     "output_type": "execute_result"
    },
    {
     "data": {
      "text/plain": [
       "Text(0.5,0,'epoch')"
      ]
     },
     "execution_count": 27,
     "metadata": {},
     "output_type": "execute_result"
    },
    {
     "data": {
      "text/plain": [
       "<matplotlib.legend.Legend at 0x29101334be0>"
      ]
     },
     "execution_count": 27,
     "metadata": {},
     "output_type": "execute_result"
    },
    {
     "name": "stdout",
     "output_type": "stream",
     "text": [
      "Analysis of results\n",
      "              precision    recall  f1-score   support\n",
      "\n",
      "           0       0.96      0.98      0.97       980\n",
      "           1       0.97      0.99      0.98      1135\n",
      "           2       0.97      0.96      0.96      1032\n",
      "           3       0.95      0.94      0.95      1010\n",
      "           4       0.94      0.96      0.95       982\n",
      "           5       0.94      0.95      0.95       892\n",
      "           6       0.95      0.97      0.96       958\n",
      "           7       0.96      0.94      0.95      1028\n",
      "           8       0.96      0.92      0.94       974\n",
      "           9       0.93      0.93      0.93      1009\n",
      "\n",
      "   micro avg       0.95      0.95      0.95     10000\n",
      "   macro avg       0.95      0.95      0.95     10000\n",
      "weighted avg       0.95      0.95      0.95     10000\n",
      "\n",
      "[[ 959    0    0    3    1    4    6    4    1    2]\n",
      " [   0 1124    3    0    0    1    2    1    4    0]\n",
      " [   8    2  986    9    5    1    8    7    6    0]\n",
      " [   0    4    6  950    1   19    1   10   13    6]\n",
      " [   1    0    1    1  941    0   11    3    2   22]\n",
      " [   9    2    0    9    3  849    8    2    4    6]\n",
      " [   6    3    4    1    7    9  926    0    1    1]\n",
      " [   0   11   15    4    2    0    0  970    2   24]\n",
      " [   6    4    3   11    9   12   13   11  898    7]\n",
      " [  10    8    1    8   29    5    0    7    1  940]]\n",
      "Train on 60000 samples, validate on 10000 samples\n",
      "Epoch 1/20\n",
      "60000/60000 [==============================] - 4s 66us/step - loss: 1.3897 - acc: 0.6179 - val_loss: 0.6828 - val_acc: 0.8256\n",
      "Epoch 2/20\n",
      "60000/60000 [==============================] - 3s 44us/step - loss: 0.5509 - acc: 0.8489 - val_loss: 0.4392 - val_acc: 0.8790\n",
      "Epoch 3/20\n",
      "60000/60000 [==============================] - 2s 40us/step - loss: 0.4118 - acc: 0.8827 - val_loss: 0.3641 - val_acc: 0.8979\n",
      "Epoch 4/20\n",
      "60000/60000 [==============================] - 2s 39us/step - loss: 0.3509 - acc: 0.8995 - val_loss: 0.3161 - val_acc: 0.9104\n",
      "Epoch 5/20\n",
      "60000/60000 [==============================] - 2s 39us/step - loss: 0.3128 - acc: 0.9101 - val_loss: 0.2877 - val_acc: 0.9177\n",
      "Epoch 6/20\n",
      "60000/60000 [==============================] - 2s 39us/step - loss: 0.2855 - acc: 0.9184 - val_loss: 0.2631 - val_acc: 0.9250\n",
      "Epoch 7/20\n",
      "60000/60000 [==============================] - 2s 41us/step - loss: 0.2633 - acc: 0.9252 - val_loss: 0.2460 - val_acc: 0.9308\n",
      "Epoch 8/20\n",
      "60000/60000 [==============================] - 3s 42us/step - loss: 0.2449 - acc: 0.9302 - val_loss: 0.2308 - val_acc: 0.9333\n",
      "Epoch 9/20\n",
      "60000/60000 [==============================] - 2s 39us/step - loss: 0.2298 - acc: 0.9347 - val_loss: 0.2215 - val_acc: 0.9363\n",
      "Epoch 10/20\n",
      "60000/60000 [==============================] - 2s 41us/step - loss: 0.2166 - acc: 0.9389 - val_loss: 0.2130 - val_acc: 0.9384\n",
      "Epoch 11/20\n",
      "60000/60000 [==============================] - 2s 41us/step - loss: 0.2050 - acc: 0.9418 - val_loss: 0.2022 - val_acc: 0.9426\n",
      "Epoch 12/20\n",
      "60000/60000 [==============================] - 2s 41us/step - loss: 0.1943 - acc: 0.9454 - val_loss: 0.1946 - val_acc: 0.9437\n",
      "Epoch 13/20\n",
      "60000/60000 [==============================] - 2s 41us/step - loss: 0.1851 - acc: 0.9472 - val_loss: 0.1863 - val_acc: 0.9455\n",
      "Epoch 14/20\n",
      "60000/60000 [==============================] - 3s 45us/step - loss: 0.1768 - acc: 0.9503 - val_loss: 0.1781 - val_acc: 0.9486\n",
      "Epoch 15/20\n",
      "60000/60000 [==============================] - 2s 40us/step - loss: 0.1689 - acc: 0.9523 - val_loss: 0.1709 - val_acc: 0.9506\n",
      "Epoch 16/20\n",
      "60000/60000 [==============================] - 2s 39us/step - loss: 0.1619 - acc: 0.9538 - val_loss: 0.1701 - val_acc: 0.9525\n",
      "Epoch 17/20\n",
      "60000/60000 [==============================] - 3s 45us/step - loss: 0.1552 - acc: 0.9570 - val_loss: 0.1635 - val_acc: 0.9516\n",
      "Epoch 18/20\n",
      "60000/60000 [==============================] - 2s 39us/step - loss: 0.1495 - acc: 0.9573 - val_loss: 0.1598 - val_acc: 0.9537\n",
      "Epoch 19/20\n",
      "60000/60000 [==============================] - 2s 39us/step - loss: 0.1438 - acc: 0.9590 - val_loss: 0.1542 - val_acc: 0.9561\n",
      "Epoch 20/20\n",
      "60000/60000 [==============================] - 2s 38us/step - loss: 0.1387 - acc: 0.9605 - val_loss: 0.1488 - val_acc: 0.9568\n"
     ]
    },
    {
     "data": {
      "text/plain": [
       "42"
      ]
     },
     "execution_count": 27,
     "metadata": {},
     "output_type": "execute_result"
    },
    {
     "data": {
      "text/plain": [
       "24"
      ]
     },
     "execution_count": 27,
     "metadata": {},
     "output_type": "execute_result"
    },
    {
     "data": {
      "text/plain": [
       "1"
      ]
     },
     "execution_count": 27,
     "metadata": {},
     "output_type": "execute_result"
    },
    {
     "data": {
      "text/plain": [
       "15"
      ]
     },
     "execution_count": 27,
     "metadata": {},
     "output_type": "execute_result"
    },
    {
     "data": {
      "text/plain": [
       "2"
      ]
     },
     "execution_count": 27,
     "metadata": {},
     "output_type": "execute_result"
    },
    {
     "data": {
      "text/plain": [
       "[<matplotlib.lines.Line2D at 0x29101611780>]"
      ]
     },
     "execution_count": 27,
     "metadata": {},
     "output_type": "execute_result"
    },
    {
     "data": {
      "text/plain": [
       "[<matplotlib.lines.Line2D at 0x29101603ef0>]"
      ]
     },
     "execution_count": 27,
     "metadata": {},
     "output_type": "execute_result"
    },
    {
     "data": {
      "text/plain": [
       "Text(0.5,1,'model accuracy')"
      ]
     },
     "execution_count": 27,
     "metadata": {},
     "output_type": "execute_result"
    },
    {
     "data": {
      "text/plain": [
       "Text(0,0.5,'accuracy')"
      ]
     },
     "execution_count": 27,
     "metadata": {},
     "output_type": "execute_result"
    },
    {
     "data": {
      "text/plain": [
       "Text(0.5,0,'epoch')"
      ]
     },
     "execution_count": 27,
     "metadata": {},
     "output_type": "execute_result"
    },
    {
     "data": {
      "text/plain": [
       "<matplotlib.legend.Legend at 0x2910162e278>"
      ]
     },
     "execution_count": 27,
     "metadata": {},
     "output_type": "execute_result"
    },
    {
     "data": {
      "text/plain": [
       "[<matplotlib.lines.Line2D at 0x29101682828>]"
      ]
     },
     "execution_count": 27,
     "metadata": {},
     "output_type": "execute_result"
    },
    {
     "data": {
      "text/plain": [
       "[<matplotlib.lines.Line2D at 0x29101682978>]"
      ]
     },
     "execution_count": 27,
     "metadata": {},
     "output_type": "execute_result"
    },
    {
     "data": {
      "text/plain": [
       "Text(0.5,1,'model loss')"
      ]
     },
     "execution_count": 27,
     "metadata": {},
     "output_type": "execute_result"
    },
    {
     "data": {
      "text/plain": [
       "Text(0,0.5,'loss')"
      ]
     },
     "execution_count": 27,
     "metadata": {},
     "output_type": "execute_result"
    },
    {
     "data": {
      "text/plain": [
       "Text(0.5,0,'epoch')"
      ]
     },
     "execution_count": 27,
     "metadata": {},
     "output_type": "execute_result"
    },
    {
     "data": {
      "text/plain": [
       "<matplotlib.legend.Legend at 0x29101665320>"
      ]
     },
     "execution_count": 27,
     "metadata": {},
     "output_type": "execute_result"
    },
    {
     "name": "stdout",
     "output_type": "stream",
     "text": [
      "Analysis of results\n",
      "              precision    recall  f1-score   support\n",
      "\n",
      "           0       0.96      0.98      0.97       980\n",
      "           1       0.98      0.98      0.98      1135\n",
      "           2       0.97      0.95      0.96      1032\n",
      "           3       0.95      0.95      0.95      1010\n",
      "           4       0.96      0.96      0.96       982\n",
      "           5       0.95      0.95      0.95       892\n",
      "           6       0.96      0.96      0.96       958\n",
      "           7       0.96      0.95      0.95      1028\n",
      "           8       0.95      0.95      0.95       974\n",
      "           9       0.94      0.94      0.94      1009\n",
      "\n",
      "   micro avg       0.96      0.96      0.96     10000\n",
      "   macro avg       0.96      0.96      0.96     10000\n",
      "weighted avg       0.96      0.96      0.96     10000\n",
      "\n",
      "[[ 964    0    1    2    0    4    4    2    1    2]\n",
      " [   0 1114    3    2    0    0    3    1   12    0]\n",
      " [   5    2  982    9    9    2    4    8   10    1]\n",
      " [   1    1    8  961    0   16    0   12    7    4]\n",
      " [   1    0    3    2  939    0    9    2    2   24]\n",
      " [   8    3    1   10    2  847   10    0    6    5]\n",
      " [   9    3    1    0    8   13  917    0    7    0]\n",
      " [   0    9   14    4    3    1    0  976    2   19]\n",
      " [   4    1    2   12    5    5    7    9  923    6]\n",
      " [   8    8    2   10   17    6    0    9    4  945]]\n",
      "Train on 60000 samples, validate on 10000 samples\n",
      "Epoch 1/20\n",
      "60000/60000 [==============================] - 3s 56us/step - loss: 1.3243 - acc: 0.6172 - val_loss: 0.6502 - val_acc: 0.8314\n",
      "Epoch 2/20\n",
      "60000/60000 [==============================] - 3s 51us/step - loss: 0.5123 - acc: 0.8601 - val_loss: 0.3985 - val_acc: 0.8903\n",
      "Epoch 3/20\n",
      "60000/60000 [==============================] - 3s 43us/step - loss: 0.3749 - acc: 0.8939 - val_loss: 0.3264 - val_acc: 0.9081\n",
      "Epoch 4/20\n",
      "60000/60000 [==============================] - 3s 47us/step - loss: 0.3224 - acc: 0.9076 - val_loss: 0.2895 - val_acc: 0.9166\n",
      "Epoch 5/20\n",
      "60000/60000 [==============================] - 2s 39us/step - loss: 0.2914 - acc: 0.9164 - val_loss: 0.2691 - val_acc: 0.9232\n",
      "Epoch 6/20\n",
      "60000/60000 [==============================] - 2s 39us/step - loss: 0.2696 - acc: 0.9225 - val_loss: 0.2496 - val_acc: 0.9292\n",
      "Epoch 7/20\n",
      "60000/60000 [==============================] - 2s 39us/step - loss: 0.2518 - acc: 0.9274 - val_loss: 0.2377 - val_acc: 0.9320\n",
      "Epoch 8/20\n",
      "60000/60000 [==============================] - 2s 39us/step - loss: 0.2368 - acc: 0.9313 - val_loss: 0.2246 - val_acc: 0.9358\n",
      "Epoch 9/20\n",
      "60000/60000 [==============================] - 2s 40us/step - loss: 0.2235 - acc: 0.9357 - val_loss: 0.2139 - val_acc: 0.9394\n",
      "Epoch 10/20\n",
      "60000/60000 [==============================] - 3s 47us/step - loss: 0.2124 - acc: 0.9386 - val_loss: 0.2120 - val_acc: 0.9384\n",
      "Epoch 11/20\n",
      "60000/60000 [==============================] - 2s 39us/step - loss: 0.2022 - acc: 0.9414 - val_loss: 0.1981 - val_acc: 0.9423\n",
      "Epoch 12/20\n",
      "60000/60000 [==============================] - 2s 40us/step - loss: 0.1930 - acc: 0.9444 - val_loss: 0.1927 - val_acc: 0.9443\n",
      "Epoch 13/20\n",
      "60000/60000 [==============================] - 2s 40us/step - loss: 0.1842 - acc: 0.9473 - val_loss: 0.1848 - val_acc: 0.9468\n",
      "Epoch 14/20\n",
      "60000/60000 [==============================] - 2s 40us/step - loss: 0.1765 - acc: 0.9489 - val_loss: 0.1786 - val_acc: 0.9485\n",
      "Epoch 15/20\n",
      "60000/60000 [==============================] - 2s 39us/step - loss: 0.1691 - acc: 0.9507 - val_loss: 0.1715 - val_acc: 0.9500\n",
      "Epoch 16/20\n",
      "60000/60000 [==============================] - 2s 39us/step - loss: 0.1623 - acc: 0.9533 - val_loss: 0.1690 - val_acc: 0.9517\n",
      "Epoch 17/20\n",
      "60000/60000 [==============================] - 2s 40us/step - loss: 0.1561 - acc: 0.9556 - val_loss: 0.1605 - val_acc: 0.9527\n",
      "Epoch 18/20\n",
      "60000/60000 [==============================] - 2s 40us/step - loss: 0.1500 - acc: 0.9568 - val_loss: 0.1572 - val_acc: 0.9531\n",
      "Epoch 19/20\n",
      "60000/60000 [==============================] - 2s 40us/step - loss: 0.1444 - acc: 0.9584 - val_loss: 0.1519 - val_acc: 0.9543\n",
      "Epoch 20/20\n",
      "60000/60000 [==============================] - 2s 40us/step - loss: 0.1389 - acc: 0.9601 - val_loss: 0.1495 - val_acc: 0.9546\n"
     ]
    },
    {
     "data": {
      "text/plain": [
       "42"
      ]
     },
     "execution_count": 27,
     "metadata": {},
     "output_type": "execute_result"
    },
    {
     "data": {
      "text/plain": [
       "24"
      ]
     },
     "execution_count": 27,
     "metadata": {},
     "output_type": "execute_result"
    },
    {
     "data": {
      "text/plain": [
       "1"
      ]
     },
     "execution_count": 27,
     "metadata": {},
     "output_type": "execute_result"
    },
    {
     "data": {
      "text/plain": [
       "15"
      ]
     },
     "execution_count": 27,
     "metadata": {},
     "output_type": "execute_result"
    },
    {
     "data": {
      "text/plain": [
       "2"
      ]
     },
     "execution_count": 27,
     "metadata": {},
     "output_type": "execute_result"
    },
    {
     "data": {
      "text/plain": [
       "[<matplotlib.lines.Line2D at 0x291019bcef0>]"
      ]
     },
     "execution_count": 27,
     "metadata": {},
     "output_type": "execute_result"
    },
    {
     "data": {
      "text/plain": [
       "[<matplotlib.lines.Line2D at 0x291019ca438>]"
      ]
     },
     "execution_count": 27,
     "metadata": {},
     "output_type": "execute_result"
    },
    {
     "data": {
      "text/plain": [
       "Text(0.5,1,'model accuracy')"
      ]
     },
     "execution_count": 27,
     "metadata": {},
     "output_type": "execute_result"
    },
    {
     "data": {
      "text/plain": [
       "Text(0,0.5,'accuracy')"
      ]
     },
     "execution_count": 27,
     "metadata": {},
     "output_type": "execute_result"
    },
    {
     "data": {
      "text/plain": [
       "Text(0.5,0,'epoch')"
      ]
     },
     "execution_count": 27,
     "metadata": {},
     "output_type": "execute_result"
    },
    {
     "data": {
      "text/plain": [
       "<matplotlib.legend.Legend at 0x291019ad908>"
      ]
     },
     "execution_count": 27,
     "metadata": {},
     "output_type": "execute_result"
    },
    {
     "data": {
      "text/plain": [
       "[<matplotlib.lines.Line2D at 0x29101a35f98>]"
      ]
     },
     "execution_count": 27,
     "metadata": {},
     "output_type": "execute_result"
    },
    {
     "data": {
      "text/plain": [
       "[<matplotlib.lines.Line2D at 0x29101a3f128>]"
      ]
     },
     "execution_count": 27,
     "metadata": {},
     "output_type": "execute_result"
    },
    {
     "data": {
      "text/plain": [
       "Text(0.5,1,'model loss')"
      ]
     },
     "execution_count": 27,
     "metadata": {},
     "output_type": "execute_result"
    },
    {
     "data": {
      "text/plain": [
       "Text(0,0.5,'loss')"
      ]
     },
     "execution_count": 27,
     "metadata": {},
     "output_type": "execute_result"
    },
    {
     "data": {
      "text/plain": [
       "Text(0.5,0,'epoch')"
      ]
     },
     "execution_count": 27,
     "metadata": {},
     "output_type": "execute_result"
    },
    {
     "data": {
      "text/plain": [
       "<matplotlib.legend.Legend at 0x29101a279b0>"
      ]
     },
     "execution_count": 27,
     "metadata": {},
     "output_type": "execute_result"
    },
    {
     "name": "stdout",
     "output_type": "stream",
     "text": [
      "Analysis of results\n",
      "              precision    recall  f1-score   support\n",
      "\n",
      "           0       0.96      0.99      0.97       980\n",
      "           1       0.98      0.98      0.98      1135\n",
      "           2       0.95      0.96      0.95      1032\n",
      "           3       0.95      0.96      0.95      1010\n",
      "           4       0.95      0.95      0.95       982\n",
      "           5       0.96      0.94      0.95       892\n",
      "           6       0.96      0.95      0.96       958\n",
      "           7       0.96      0.94      0.95      1028\n",
      "           8       0.95      0.93      0.94       974\n",
      "           9       0.92      0.95      0.94      1009\n",
      "\n",
      "   micro avg       0.95      0.95      0.95     10000\n",
      "   macro avg       0.95      0.95      0.95     10000\n",
      "weighted avg       0.95      0.95      0.95     10000\n",
      "\n",
      "[[ 966    0    1    2    0    3    3    2    1    2]\n",
      " [   0 1111    3    2    0    1    3    3   12    0]\n",
      " [   8    1  987    6    7    0    5    8    9    1]\n",
      " [   0    0    9  968    0   10    0    9    9    5]\n",
      " [   2    1    6    1  930    0    7    2    2   31]\n",
      " [  10    2    1   14    3  836   10    0    9    7]\n",
      " [  11    3    6    0    8   15  912    0    3    0]\n",
      " [   1    6   19    3    5    1    0  965    1   27]\n",
      " [   5    1    4   16    6    7    8    5  910   12]\n",
      " [   6    5    1    8   15    1    1    6    5  961]]\n",
      "Train on 60000 samples, validate on 10000 samples\n",
      "Epoch 1/20\n",
      "60000/60000 [==============================] - 3s 54us/step - loss: 1.4710 - acc: 0.5639 - val_loss: 0.6661 - val_acc: 0.8259\n",
      "Epoch 2/20\n",
      "60000/60000 [==============================] - 3s 42us/step - loss: 0.5204 - acc: 0.8586 - val_loss: 0.4072 - val_acc: 0.8877\n",
      "Epoch 3/20\n",
      "60000/60000 [==============================] - 3s 43us/step - loss: 0.3836 - acc: 0.8921 - val_loss: 0.3403 - val_acc: 0.9024\n",
      "Epoch 4/20\n",
      "60000/60000 [==============================] - 3s 44us/step - loss: 0.3295 - acc: 0.9067 - val_loss: 0.2989 - val_acc: 0.9156\n",
      "Epoch 5/20\n",
      "60000/60000 [==============================] - 3s 44us/step - loss: 0.2960 - acc: 0.9156 - val_loss: 0.2753 - val_acc: 0.9224\n",
      "Epoch 6/20\n",
      "60000/60000 [==============================] - 2s 40us/step - loss: 0.2708 - acc: 0.9216 - val_loss: 0.2529 - val_acc: 0.9306\n",
      "Epoch 7/20\n",
      "60000/60000 [==============================] - 2s 42us/step - loss: 0.2507 - acc: 0.9285 - val_loss: 0.2401 - val_acc: 0.9307\n",
      "Epoch 8/20\n",
      "60000/60000 [==============================] - 3s 45us/step - loss: 0.2332 - acc: 0.9334 - val_loss: 0.2227 - val_acc: 0.9373\n",
      "Epoch 9/20\n",
      "60000/60000 [==============================] - 3s 45us/step - loss: 0.2181 - acc: 0.9371 - val_loss: 0.2156 - val_acc: 0.9378\n",
      "Epoch 10/20\n",
      "60000/60000 [==============================] - 2s 42us/step - loss: 0.2043 - acc: 0.9416 - val_loss: 0.1979 - val_acc: 0.9430\n",
      "Epoch 11/20\n",
      "60000/60000 [==============================] - 3s 42us/step - loss: 0.1927 - acc: 0.9446 - val_loss: 0.1915 - val_acc: 0.9451\n",
      "Epoch 12/20\n",
      "60000/60000 [==============================] - 3s 46us/step - loss: 0.1824 - acc: 0.9486 - val_loss: 0.1807 - val_acc: 0.9468\n",
      "Epoch 13/20\n",
      "60000/60000 [==============================] - 3s 47us/step - loss: 0.1731 - acc: 0.9504 - val_loss: 0.1721 - val_acc: 0.9478\n",
      "Epoch 14/20\n",
      "60000/60000 [==============================] - 3s 43us/step - loss: 0.1649 - acc: 0.9537 - val_loss: 0.1643 - val_acc: 0.9497\n",
      "Epoch 15/20\n",
      "60000/60000 [==============================] - 3s 46us/step - loss: 0.1575 - acc: 0.9554 - val_loss: 0.1630 - val_acc: 0.9513\n",
      "Epoch 16/20\n",
      "60000/60000 [==============================] - 3s 46us/step - loss: 0.1504 - acc: 0.9572 - val_loss: 0.1539 - val_acc: 0.9529\n",
      "Epoch 17/20\n",
      "60000/60000 [==============================] - 3s 51us/step - loss: 0.1445 - acc: 0.9591 - val_loss: 0.1491 - val_acc: 0.9558\n",
      "Epoch 18/20\n",
      "60000/60000 [==============================] - 3s 46us/step - loss: 0.1385 - acc: 0.9608 - val_loss: 0.1442 - val_acc: 0.9573\n",
      "Epoch 19/20\n",
      "60000/60000 [==============================] - 2s 41us/step - loss: 0.1333 - acc: 0.9621 - val_loss: 0.1404 - val_acc: 0.9596\n",
      "Epoch 20/20\n",
      "60000/60000 [==============================] - 3s 49us/step - loss: 0.1283 - acc: 0.9637 - val_loss: 0.1358 - val_acc: 0.9600\n"
     ]
    },
    {
     "data": {
      "text/plain": [
       "42"
      ]
     },
     "execution_count": 27,
     "metadata": {},
     "output_type": "execute_result"
    },
    {
     "data": {
      "text/plain": [
       "24"
      ]
     },
     "execution_count": 27,
     "metadata": {},
     "output_type": "execute_result"
    },
    {
     "data": {
      "text/plain": [
       "1"
      ]
     },
     "execution_count": 27,
     "metadata": {},
     "output_type": "execute_result"
    },
    {
     "data": {
      "text/plain": [
       "13"
      ]
     },
     "execution_count": 27,
     "metadata": {},
     "output_type": "execute_result"
    },
    {
     "data": {
      "text/plain": [
       "2"
      ]
     },
     "execution_count": 27,
     "metadata": {},
     "output_type": "execute_result"
    },
    {
     "data": {
      "text/plain": [
       "[<matplotlib.lines.Line2D at 0x29101d761d0>]"
      ]
     },
     "execution_count": 27,
     "metadata": {},
     "output_type": "execute_result"
    },
    {
     "data": {
      "text/plain": [
       "[<matplotlib.lines.Line2D at 0x29101d76668>]"
      ]
     },
     "execution_count": 27,
     "metadata": {},
     "output_type": "execute_result"
    },
    {
     "data": {
      "text/plain": [
       "Text(0.5,1,'model accuracy')"
      ]
     },
     "execution_count": 27,
     "metadata": {},
     "output_type": "execute_result"
    },
    {
     "data": {
      "text/plain": [
       "Text(0,0.5,'accuracy')"
      ]
     },
     "execution_count": 27,
     "metadata": {},
     "output_type": "execute_result"
    },
    {
     "data": {
      "text/plain": [
       "Text(0.5,0,'epoch')"
      ]
     },
     "execution_count": 27,
     "metadata": {},
     "output_type": "execute_result"
    },
    {
     "data": {
      "text/plain": [
       "<matplotlib.legend.Legend at 0x2915852d198>"
      ]
     },
     "execution_count": 27,
     "metadata": {},
     "output_type": "execute_result"
    },
    {
     "data": {
      "text/plain": [
       "[<matplotlib.lines.Line2D at 0x2915ac09240>]"
      ]
     },
     "execution_count": 27,
     "metadata": {},
     "output_type": "execute_result"
    },
    {
     "data": {
      "text/plain": [
       "[<matplotlib.lines.Line2D at 0x2915ac09dd8>]"
      ]
     },
     "execution_count": 27,
     "metadata": {},
     "output_type": "execute_result"
    },
    {
     "data": {
      "text/plain": [
       "Text(0.5,1,'model loss')"
      ]
     },
     "execution_count": 27,
     "metadata": {},
     "output_type": "execute_result"
    },
    {
     "data": {
      "text/plain": [
       "Text(0,0.5,'loss')"
      ]
     },
     "execution_count": 27,
     "metadata": {},
     "output_type": "execute_result"
    },
    {
     "data": {
      "text/plain": [
       "Text(0.5,0,'epoch')"
      ]
     },
     "execution_count": 27,
     "metadata": {},
     "output_type": "execute_result"
    },
    {
     "data": {
      "text/plain": [
       "<matplotlib.legend.Legend at 0x2915ac71518>"
      ]
     },
     "execution_count": 27,
     "metadata": {},
     "output_type": "execute_result"
    },
    {
     "name": "stdout",
     "output_type": "stream",
     "text": [
      "Analysis of results\n",
      "              precision    recall  f1-score   support\n",
      "\n",
      "           0       0.97      0.98      0.98       980\n",
      "           1       0.98      0.98      0.98      1135\n",
      "           2       0.96      0.96      0.96      1032\n",
      "           3       0.94      0.96      0.95      1010\n",
      "           4       0.96      0.96      0.96       982\n",
      "           5       0.96      0.94      0.95       892\n",
      "           6       0.97      0.97      0.97       958\n",
      "           7       0.96      0.96      0.96      1028\n",
      "           8       0.94      0.94      0.94       974\n",
      "           9       0.96      0.94      0.95      1009\n",
      "\n",
      "   micro avg       0.96      0.96      0.96     10000\n",
      "   macro avg       0.96      0.96      0.96     10000\n",
      "weighted avg       0.96      0.96      0.96     10000\n",
      "\n",
      "[[ 964    0    1    2    0    5    5    2    1    0]\n",
      " [   0 1116    2    4    0    1    4    2    6    0]\n",
      " [   4    1  993    9    3    1    4    9    8    0]\n",
      " [   0    0    8  969    0    5    0   10   17    1]\n",
      " [   1    0    7    0  942    1    4    2    3   22]\n",
      " [   6    1    0   18    3  838   10    1    9    6]\n",
      " [   6    3    3    1    7    8  925    1    4    0]\n",
      " [   2   10   16    1    1    0    0  985    2   11]\n",
      " [   4    1    3   16    7    8    6    6  920    3]\n",
      " [   7    6    1    9   16    2    0    9   11  948]]\n",
      "Train on 60000 samples, validate on 10000 samples\n",
      "Epoch 1/20\n",
      "60000/60000 [==============================] - 4s 74us/step - loss: 1.6162 - acc: 0.5297 - val_loss: 0.7345 - val_acc: 0.8197\n",
      "Epoch 2/20\n",
      "60000/60000 [==============================] - 3s 43us/step - loss: 0.5350 - acc: 0.8581 - val_loss: 0.4097 - val_acc: 0.8891\n",
      "Epoch 3/20\n",
      "60000/60000 [==============================] - 3s 45us/step - loss: 0.3767 - acc: 0.8940 - val_loss: 0.3311 - val_acc: 0.9063\n",
      "Epoch 4/20\n",
      "60000/60000 [==============================] - 3s 42us/step - loss: 0.3225 - acc: 0.9077 - val_loss: 0.2925 - val_acc: 0.9173\n",
      "Epoch 5/20\n",
      "60000/60000 [==============================] - 3s 43us/step - loss: 0.2902 - acc: 0.9165 - val_loss: 0.2690 - val_acc: 0.9243\n",
      "Epoch 6/20\n",
      "60000/60000 [==============================] - 3s 43us/step - loss: 0.2670 - acc: 0.9222 - val_loss: 0.2521 - val_acc: 0.9314\n",
      "Epoch 7/20\n",
      "60000/60000 [==============================] - 3s 43us/step - loss: 0.2479 - acc: 0.9284 - val_loss: 0.2337 - val_acc: 0.9348\n",
      "Epoch 8/20\n",
      "60000/60000 [==============================] - 3s 44us/step - loss: 0.2314 - acc: 0.9329 - val_loss: 0.2209 - val_acc: 0.9375\n",
      "Epoch 9/20\n",
      "60000/60000 [==============================] - 3s 46us/step - loss: 0.2172 - acc: 0.9377 - val_loss: 0.2108 - val_acc: 0.9395\n",
      "Epoch 10/20\n",
      "60000/60000 [==============================] - 3s 54us/step - loss: 0.2048 - acc: 0.9407 - val_loss: 0.2001 - val_acc: 0.9430\n",
      "Epoch 11/20\n",
      "60000/60000 [==============================] - 3s 57us/step - loss: 0.1940 - acc: 0.9441 - val_loss: 0.1893 - val_acc: 0.9452\n",
      "Epoch 12/20\n",
      "60000/60000 [==============================] - 3s 45us/step - loss: 0.1835 - acc: 0.9471 - val_loss: 0.1798 - val_acc: 0.9481\n",
      "Epoch 13/20\n",
      "60000/60000 [==============================] - 3s 47us/step - loss: 0.1750 - acc: 0.9500 - val_loss: 0.1800 - val_acc: 0.9483\n",
      "Epoch 14/20\n",
      "60000/60000 [==============================] - 3s 49us/step - loss: 0.1666 - acc: 0.9517 - val_loss: 0.1710 - val_acc: 0.9488\n",
      "Epoch 15/20\n",
      "60000/60000 [==============================] - 3s 48us/step - loss: 0.1595 - acc: 0.9538 - val_loss: 0.1615 - val_acc: 0.9524\n",
      "Epoch 16/20\n",
      "60000/60000 [==============================] - 3s 44us/step - loss: 0.1526 - acc: 0.9557 - val_loss: 0.1575 - val_acc: 0.9539\n",
      "Epoch 17/20\n",
      "60000/60000 [==============================] - 3s 43us/step - loss: 0.1465 - acc: 0.9576 - val_loss: 0.1515 - val_acc: 0.9559\n",
      "Epoch 18/20\n",
      "60000/60000 [==============================] - 3s 43us/step - loss: 0.1410 - acc: 0.9598 - val_loss: 0.1478 - val_acc: 0.9555\n",
      "Epoch 19/20\n",
      "60000/60000 [==============================] - 3s 42us/step - loss: 0.1358 - acc: 0.9606 - val_loss: 0.1444 - val_acc: 0.9569\n",
      "Epoch 20/20\n",
      "60000/60000 [==============================] - 3s 44us/step - loss: 0.1307 - acc: 0.9621 - val_loss: 0.1408 - val_acc: 0.9575\n"
     ]
    },
    {
     "data": {
      "text/plain": [
       "42"
      ]
     },
     "execution_count": 27,
     "metadata": {},
     "output_type": "execute_result"
    },
    {
     "data": {
      "text/plain": [
       "24"
      ]
     },
     "execution_count": 27,
     "metadata": {},
     "output_type": "execute_result"
    },
    {
     "data": {
      "text/plain": [
       "1"
      ]
     },
     "execution_count": 27,
     "metadata": {},
     "output_type": "execute_result"
    },
    {
     "data": {
      "text/plain": [
       "15"
      ]
     },
     "execution_count": 27,
     "metadata": {},
     "output_type": "execute_result"
    },
    {
     "data": {
      "text/plain": [
       "2"
      ]
     },
     "execution_count": 27,
     "metadata": {},
     "output_type": "execute_result"
    },
    {
     "data": {
      "text/plain": [
       "[<matplotlib.lines.Line2D at 0x29103382048>]"
      ]
     },
     "execution_count": 27,
     "metadata": {},
     "output_type": "execute_result"
    },
    {
     "data": {
      "text/plain": [
       "[<matplotlib.lines.Line2D at 0x291033824e0>]"
      ]
     },
     "execution_count": 27,
     "metadata": {},
     "output_type": "execute_result"
    },
    {
     "data": {
      "text/plain": [
       "Text(0.5,1,'model accuracy')"
      ]
     },
     "execution_count": 27,
     "metadata": {},
     "output_type": "execute_result"
    },
    {
     "data": {
      "text/plain": [
       "Text(0,0.5,'accuracy')"
      ]
     },
     "execution_count": 27,
     "metadata": {},
     "output_type": "execute_result"
    },
    {
     "data": {
      "text/plain": [
       "Text(0.5,0,'epoch')"
      ]
     },
     "execution_count": 27,
     "metadata": {},
     "output_type": "execute_result"
    },
    {
     "data": {
      "text/plain": [
       "<matplotlib.legend.Legend at 0x29103382860>"
      ]
     },
     "execution_count": 27,
     "metadata": {},
     "output_type": "execute_result"
    },
    {
     "data": {
      "text/plain": [
       "[<matplotlib.lines.Line2D at 0x291033f8208>]"
      ]
     },
     "execution_count": 27,
     "metadata": {},
     "output_type": "execute_result"
    },
    {
     "data": {
      "text/plain": [
       "[<matplotlib.lines.Line2D at 0x291033f8358>]"
      ]
     },
     "execution_count": 27,
     "metadata": {},
     "output_type": "execute_result"
    },
    {
     "data": {
      "text/plain": [
       "Text(0.5,1,'model loss')"
      ]
     },
     "execution_count": 27,
     "metadata": {},
     "output_type": "execute_result"
    },
    {
     "data": {
      "text/plain": [
       "Text(0,0.5,'loss')"
      ]
     },
     "execution_count": 27,
     "metadata": {},
     "output_type": "execute_result"
    },
    {
     "data": {
      "text/plain": [
       "Text(0.5,0,'epoch')"
      ]
     },
     "execution_count": 27,
     "metadata": {},
     "output_type": "execute_result"
    },
    {
     "data": {
      "text/plain": [
       "<matplotlib.legend.Legend at 0x291033ddcc0>"
      ]
     },
     "execution_count": 27,
     "metadata": {},
     "output_type": "execute_result"
    },
    {
     "name": "stdout",
     "output_type": "stream",
     "text": [
      "Analysis of results\n",
      "              precision    recall  f1-score   support\n",
      "\n",
      "           0       0.96      0.99      0.97       980\n",
      "           1       0.98      0.99      0.98      1135\n",
      "           2       0.95      0.96      0.96      1032\n",
      "           3       0.96      0.94      0.95      1010\n",
      "           4       0.95      0.96      0.96       982\n",
      "           5       0.95      0.95      0.95       892\n",
      "           6       0.95      0.97      0.96       958\n",
      "           7       0.97      0.94      0.95      1028\n",
      "           8       0.95      0.95      0.95       974\n",
      "           9       0.95      0.94      0.94      1009\n",
      "\n",
      "   micro avg       0.96      0.96      0.96     10000\n",
      "   macro avg       0.96      0.96      0.96     10000\n",
      "weighted avg       0.96      0.96      0.96     10000\n",
      "\n",
      "[[ 966    0    1    1    0    5    5    1    1    0]\n",
      " [   0 1118    2    2    1    0    3    2    7    0]\n",
      " [   8    2  991    9    4    0    8    6    4    0]\n",
      " [   0    1   12  952    0   19    1    9   13    3]\n",
      " [   1    0    5    0  943    0   12    1    3   17]\n",
      " [   8    1    0    6    1  850    9    0   12    5]\n",
      " [   9    3    3    0    6    7  926    0    4    0]\n",
      " [   1   10   21    4    4    2    0  964    1   21]\n",
      " [   3    1    4   10    5    9   11    7  921    3]\n",
      " [   6    6    1    9   24    5    1    6    7  944]]\n",
      "Train on 60000 samples, validate on 10000 samples\n",
      "Epoch 1/20\n",
      "60000/60000 [==============================] - 3s 57us/step - loss: 1.5226 - acc: 0.6077 - val_loss: 0.6739 - val_acc: 0.8524\n",
      "Epoch 2/20\n",
      "60000/60000 [==============================] - 3s 43us/step - loss: 0.5077 - acc: 0.8675 - val_loss: 0.3960 - val_acc: 0.8890\n",
      "Epoch 3/20\n",
      "60000/60000 [==============================] - 3s 44us/step - loss: 0.3722 - acc: 0.8932 - val_loss: 0.3286 - val_acc: 0.9053\n",
      "Epoch 4/20\n",
      "60000/60000 [==============================] - 3s 44us/step - loss: 0.3244 - acc: 0.9058 - val_loss: 0.3016 - val_acc: 0.9129\n",
      "Epoch 5/20\n",
      "60000/60000 [==============================] - 3s 43us/step - loss: 0.2944 - acc: 0.9148 - val_loss: 0.2721 - val_acc: 0.9212\n",
      "Epoch 6/20\n",
      "60000/60000 [==============================] - 3s 43us/step - loss: 0.2719 - acc: 0.9211 - val_loss: 0.2542 - val_acc: 0.9255\n",
      "Epoch 7/20\n",
      "60000/60000 [==============================] - 3s 43us/step - loss: 0.2535 - acc: 0.9266 - val_loss: 0.2394 - val_acc: 0.9304\n",
      "Epoch 8/20\n",
      "60000/60000 [==============================] - 3s 44us/step - loss: 0.2377 - acc: 0.9316 - val_loss: 0.2270 - val_acc: 0.9340\n",
      "Epoch 9/20\n",
      "60000/60000 [==============================] - 3s 45us/step - loss: 0.2240 - acc: 0.9351 - val_loss: 0.2175 - val_acc: 0.9371\n",
      "Epoch 10/20\n",
      "60000/60000 [==============================] - 3s 43us/step - loss: 0.2118 - acc: 0.9387 - val_loss: 0.2063 - val_acc: 0.9396\n",
      "Epoch 11/20\n",
      "60000/60000 [==============================] - 3s 44us/step - loss: 0.2011 - acc: 0.9416 - val_loss: 0.1982 - val_acc: 0.9421\n",
      "Epoch 12/20\n",
      "60000/60000 [==============================] - 3s 46us/step - loss: 0.1911 - acc: 0.9445 - val_loss: 0.1890 - val_acc: 0.9451\n",
      "Epoch 13/20\n",
      "60000/60000 [==============================] - 3s 47us/step - loss: 0.1823 - acc: 0.9474 - val_loss: 0.1819 - val_acc: 0.9461\n",
      "Epoch 14/20\n",
      "60000/60000 [==============================] - 3s 44us/step - loss: 0.1742 - acc: 0.9500 - val_loss: 0.1769 - val_acc: 0.9473\n",
      "Epoch 15/20\n",
      "60000/60000 [==============================] - 3s 43us/step - loss: 0.1664 - acc: 0.9519 - val_loss: 0.1710 - val_acc: 0.9494\n",
      "Epoch 16/20\n",
      "60000/60000 [==============================] - 3s 47us/step - loss: 0.1599 - acc: 0.9535 - val_loss: 0.1616 - val_acc: 0.9519\n",
      "Epoch 17/20\n",
      "60000/60000 [==============================] - 3s 55us/step - loss: 0.1532 - acc: 0.9559 - val_loss: 0.1613 - val_acc: 0.9523\n",
      "Epoch 18/20\n",
      "60000/60000 [==============================] - 3s 44us/step - loss: 0.1471 - acc: 0.9576 - val_loss: 0.1540 - val_acc: 0.9539\n",
      "Epoch 19/20\n",
      "60000/60000 [==============================] - 3s 43us/step - loss: 0.1417 - acc: 0.9593 - val_loss: 0.1470 - val_acc: 0.9563\n",
      "Epoch 20/20\n",
      "60000/60000 [==============================] - 3s 44us/step - loss: 0.1367 - acc: 0.9605 - val_loss: 0.1466 - val_acc: 0.9570\n"
     ]
    },
    {
     "data": {
      "text/plain": [
       "42"
      ]
     },
     "execution_count": 27,
     "metadata": {},
     "output_type": "execute_result"
    },
    {
     "data": {
      "text/plain": [
       "24"
      ]
     },
     "execution_count": 27,
     "metadata": {},
     "output_type": "execute_result"
    },
    {
     "data": {
      "text/plain": [
       "1"
      ]
     },
     "execution_count": 27,
     "metadata": {},
     "output_type": "execute_result"
    },
    {
     "data": {
      "text/plain": [
       "14"
      ]
     },
     "execution_count": 27,
     "metadata": {},
     "output_type": "execute_result"
    },
    {
     "data": {
      "text/plain": [
       "2"
      ]
     },
     "execution_count": 27,
     "metadata": {},
     "output_type": "execute_result"
    },
    {
     "data": {
      "text/plain": [
       "[<matplotlib.lines.Line2D at 0x29103727cc0>]"
      ]
     },
     "execution_count": 27,
     "metadata": {},
     "output_type": "execute_result"
    },
    {
     "data": {
      "text/plain": [
       "[<matplotlib.lines.Line2D at 0x29103731208>]"
      ]
     },
     "execution_count": 27,
     "metadata": {},
     "output_type": "execute_result"
    },
    {
     "data": {
      "text/plain": [
       "Text(0.5,1,'model accuracy')"
      ]
     },
     "execution_count": 27,
     "metadata": {},
     "output_type": "execute_result"
    },
    {
     "data": {
      "text/plain": [
       "Text(0,0.5,'accuracy')"
      ]
     },
     "execution_count": 27,
     "metadata": {},
     "output_type": "execute_result"
    },
    {
     "data": {
      "text/plain": [
       "Text(0.5,0,'epoch')"
      ]
     },
     "execution_count": 27,
     "metadata": {},
     "output_type": "execute_result"
    },
    {
     "data": {
      "text/plain": [
       "<matplotlib.legend.Legend at 0x291037537b8>"
      ]
     },
     "execution_count": 27,
     "metadata": {},
     "output_type": "execute_result"
    },
    {
     "data": {
      "text/plain": [
       "[<matplotlib.lines.Line2D at 0x291037b2198>]"
      ]
     },
     "execution_count": 27,
     "metadata": {},
     "output_type": "execute_result"
    },
    {
     "data": {
      "text/plain": [
       "[<matplotlib.lines.Line2D at 0x291037b26d8>]"
      ]
     },
     "execution_count": 27,
     "metadata": {},
     "output_type": "execute_result"
    },
    {
     "data": {
      "text/plain": [
       "Text(0.5,1,'model loss')"
      ]
     },
     "execution_count": 27,
     "metadata": {},
     "output_type": "execute_result"
    },
    {
     "data": {
      "text/plain": [
       "Text(0,0.5,'loss')"
      ]
     },
     "execution_count": 27,
     "metadata": {},
     "output_type": "execute_result"
    },
    {
     "data": {
      "text/plain": [
       "Text(0.5,0,'epoch')"
      ]
     },
     "execution_count": 27,
     "metadata": {},
     "output_type": "execute_result"
    },
    {
     "data": {
      "text/plain": [
       "<matplotlib.legend.Legend at 0x2910379bc50>"
      ]
     },
     "execution_count": 27,
     "metadata": {},
     "output_type": "execute_result"
    },
    {
     "name": "stdout",
     "output_type": "stream",
     "text": [
      "Analysis of results\n",
      "              precision    recall  f1-score   support\n",
      "\n",
      "           0       0.96      0.98      0.97       980\n",
      "           1       0.98      0.99      0.98      1135\n",
      "           2       0.96      0.96      0.96      1032\n",
      "           3       0.93      0.96      0.95      1010\n",
      "           4       0.95      0.96      0.96       982\n",
      "           5       0.96      0.94      0.95       892\n",
      "           6       0.96      0.96      0.96       958\n",
      "           7       0.95      0.96      0.95      1028\n",
      "           8       0.96      0.93      0.94       974\n",
      "           9       0.96      0.92      0.94      1009\n",
      "\n",
      "   micro avg       0.96      0.96      0.96     10000\n",
      "   macro avg       0.96      0.96      0.96     10000\n",
      "weighted avg       0.96      0.96      0.96     10000\n",
      "\n",
      "[[ 964    0    1    1    1    4    4    3    2    0]\n",
      " [   0 1119    2    2    0    1    3    2    6    0]\n",
      " [   6    3  986   12    5    1    3   10    5    1]\n",
      " [   1    0    7  974    0    9    0   12    5    2]\n",
      " [   1    1    5    0  945    0    7    3    3   17]\n",
      " [   7    2    1   22    2  842    8    0    6    2]\n",
      " [   9    3    2    0    9   10  920    0    5    0]\n",
      " [   1   11   16    2    3    1    0  982    2   10]\n",
      " [   5    2    6   21    5    7    9   12  905    2]\n",
      " [  10    6    2   16   22    1    0   15    4  933]]\n",
      "Train on 60000 samples, validate on 10000 samples\n",
      "Epoch 1/20\n",
      "60000/60000 [==============================] - 4s 68us/step - loss: 1.4754 - acc: 0.5967 - val_loss: 0.6728 - val_acc: 0.8395\n",
      "Epoch 2/20\n",
      "60000/60000 [==============================] - 3s 56us/step - loss: 0.5107 - acc: 0.8653 - val_loss: 0.3997 - val_acc: 0.8924\n",
      "Epoch 3/20\n",
      "60000/60000 [==============================] - 3s 46us/step - loss: 0.3758 - acc: 0.8941 - val_loss: 0.3328 - val_acc: 0.9071\n",
      "Epoch 4/20\n",
      "60000/60000 [==============================] - 3s 50us/step - loss: 0.3278 - acc: 0.9052 - val_loss: 0.2997 - val_acc: 0.9143\n",
      "Epoch 5/20\n",
      "60000/60000 [==============================] - 3s 44us/step - loss: 0.2989 - acc: 0.9140 - val_loss: 0.2783 - val_acc: 0.9209\n",
      "Epoch 6/20\n",
      "60000/60000 [==============================] - 3s 45us/step - loss: 0.2764 - acc: 0.9194 - val_loss: 0.2586 - val_acc: 0.9280\n",
      "Epoch 7/20\n",
      "60000/60000 [==============================] - 3s 45us/step - loss: 0.2584 - acc: 0.9262 - val_loss: 0.2445 - val_acc: 0.9280\n",
      "Epoch 8/20\n",
      "60000/60000 [==============================] - 3s 45us/step - loss: 0.2425 - acc: 0.9309 - val_loss: 0.2352 - val_acc: 0.9342\n",
      "Epoch 9/20\n",
      "60000/60000 [==============================] - 3s 44us/step - loss: 0.2289 - acc: 0.9347 - val_loss: 0.2190 - val_acc: 0.9366\n",
      "Epoch 10/20\n",
      "60000/60000 [==============================] - 3s 46us/step - loss: 0.2166 - acc: 0.9383 - val_loss: 0.2086 - val_acc: 0.9399\n",
      "Epoch 11/20\n",
      "60000/60000 [==============================] - 3s 44us/step - loss: 0.2055 - acc: 0.9410 - val_loss: 0.1969 - val_acc: 0.9443\n",
      "Epoch 12/20\n",
      "60000/60000 [==============================] - 3s 45us/step - loss: 0.1952 - acc: 0.9441 - val_loss: 0.1912 - val_acc: 0.9468\n",
      "Epoch 13/20\n",
      "60000/60000 [==============================] - 3s 46us/step - loss: 0.1861 - acc: 0.9468 - val_loss: 0.1812 - val_acc: 0.9481\n",
      "Epoch 14/20\n",
      "60000/60000 [==============================] - 3s 49us/step - loss: 0.1777 - acc: 0.9490 - val_loss: 0.1729 - val_acc: 0.9514\n",
      "Epoch 15/20\n",
      "60000/60000 [==============================] - 3s 58us/step - loss: 0.1699 - acc: 0.9514 - val_loss: 0.1680 - val_acc: 0.9522\n",
      "Epoch 16/20\n",
      "60000/60000 [==============================] - 3s 54us/step - loss: 0.1626 - acc: 0.9534 - val_loss: 0.1611 - val_acc: 0.9533\n",
      "Epoch 17/20\n",
      "60000/60000 [==============================] - 3s 48us/step - loss: 0.1561 - acc: 0.9554 - val_loss: 0.1550 - val_acc: 0.9552\n",
      "Epoch 18/20\n",
      "60000/60000 [==============================] - 4s 60us/step - loss: 0.1499 - acc: 0.9572 - val_loss: 0.1494 - val_acc: 0.9562\n",
      "Epoch 19/20\n",
      "60000/60000 [==============================] - 3s 50us/step - loss: 0.1441 - acc: 0.9590 - val_loss: 0.1457 - val_acc: 0.9573\n",
      "Epoch 20/20\n",
      "60000/60000 [==============================] - 3s 47us/step - loss: 0.1386 - acc: 0.9603 - val_loss: 0.1432 - val_acc: 0.9574\n"
     ]
    },
    {
     "data": {
      "text/plain": [
       "42"
      ]
     },
     "execution_count": 27,
     "metadata": {},
     "output_type": "execute_result"
    },
    {
     "data": {
      "text/plain": [
       "24"
      ]
     },
     "execution_count": 27,
     "metadata": {},
     "output_type": "execute_result"
    },
    {
     "data": {
      "text/plain": [
       "1"
      ]
     },
     "execution_count": 27,
     "metadata": {},
     "output_type": "execute_result"
    },
    {
     "data": {
      "text/plain": [
       "15"
      ]
     },
     "execution_count": 27,
     "metadata": {},
     "output_type": "execute_result"
    },
    {
     "data": {
      "text/plain": [
       "2"
      ]
     },
     "execution_count": 27,
     "metadata": {},
     "output_type": "execute_result"
    },
    {
     "data": {
      "text/plain": [
       "[<matplotlib.lines.Line2D at 0x29103b14898>]"
      ]
     },
     "execution_count": 27,
     "metadata": {},
     "output_type": "execute_result"
    },
    {
     "data": {
      "text/plain": [
       "[<matplotlib.lines.Line2D at 0x29103b14d30>]"
      ]
     },
     "execution_count": 27,
     "metadata": {},
     "output_type": "execute_result"
    },
    {
     "data": {
      "text/plain": [
       "Text(0.5,1,'model accuracy')"
      ]
     },
     "execution_count": 27,
     "metadata": {},
     "output_type": "execute_result"
    },
    {
     "data": {
      "text/plain": [
       "Text(0,0.5,'accuracy')"
      ]
     },
     "execution_count": 27,
     "metadata": {},
     "output_type": "execute_result"
    },
    {
     "data": {
      "text/plain": [
       "Text(0.5,0,'epoch')"
      ]
     },
     "execution_count": 27,
     "metadata": {},
     "output_type": "execute_result"
    },
    {
     "data": {
      "text/plain": [
       "<matplotlib.legend.Legend at 0x29103ad9390>"
      ]
     },
     "execution_count": 27,
     "metadata": {},
     "output_type": "execute_result"
    },
    {
     "data": {
      "text/plain": [
       "[<matplotlib.lines.Line2D at 0x29103b65cf8>]"
      ]
     },
     "execution_count": 27,
     "metadata": {},
     "output_type": "execute_result"
    },
    {
     "data": {
      "text/plain": [
       "[<matplotlib.lines.Line2D at 0x29103b71278>]"
      ]
     },
     "execution_count": 27,
     "metadata": {},
     "output_type": "execute_result"
    },
    {
     "data": {
      "text/plain": [
       "Text(0.5,1,'model loss')"
      ]
     },
     "execution_count": 27,
     "metadata": {},
     "output_type": "execute_result"
    },
    {
     "data": {
      "text/plain": [
       "Text(0,0.5,'loss')"
      ]
     },
     "execution_count": 27,
     "metadata": {},
     "output_type": "execute_result"
    },
    {
     "data": {
      "text/plain": [
       "Text(0.5,0,'epoch')"
      ]
     },
     "execution_count": 27,
     "metadata": {},
     "output_type": "execute_result"
    },
    {
     "data": {
      "text/plain": [
       "<matplotlib.legend.Legend at 0x29103b587f0>"
      ]
     },
     "execution_count": 27,
     "metadata": {},
     "output_type": "execute_result"
    },
    {
     "name": "stdout",
     "output_type": "stream",
     "text": [
      "Analysis of results\n",
      "              precision    recall  f1-score   support\n",
      "\n",
      "           0       0.96      0.98      0.97       980\n",
      "           1       0.97      0.99      0.98      1135\n",
      "           2       0.95      0.96      0.96      1032\n",
      "           3       0.95      0.95      0.95      1010\n",
      "           4       0.96      0.96      0.96       982\n",
      "           5       0.96      0.93      0.95       892\n",
      "           6       0.94      0.97      0.96       958\n",
      "           7       0.95      0.95      0.95      1028\n",
      "           8       0.95      0.95      0.95       974\n",
      "           9       0.96      0.94      0.95      1009\n",
      "\n",
      "   micro avg       0.96      0.96      0.96     10000\n",
      "   macro avg       0.96      0.96      0.96     10000\n",
      "weighted avg       0.96      0.96      0.96     10000\n",
      "\n",
      "[[ 959    0    3    2    1    4    7    3    1    0]\n",
      " [   0 1119    3    2    0    1    4    2    4    0]\n",
      " [   6    2  988    4    4    0   10    9    7    2]\n",
      " [   0    1   11  964    1    6    1   11   12    3]\n",
      " [   1    2    8    0  942    0    9    3    3   14]\n",
      " [  10    1    0   17    2  830   14    0   11    7]\n",
      " [   9    3    1    0    6    8  926    1    4    0]\n",
      " [   0   10   18    4    4    1    0  979    1   11]\n",
      " [   5    2    3   14    3    8    8    7  923    1]\n",
      " [   8    9    1    6   19    3    1   11    7  944]]\n",
      "Train on 60000 samples, validate on 10000 samples\n",
      "Epoch 1/20\n",
      "60000/60000 [==============================] - 4s 63us/step - loss: 1.4088 - acc: 0.6223 - val_loss: 0.6155 - val_acc: 0.8472\n",
      "Epoch 2/20\n",
      "60000/60000 [==============================] - 3s 50us/step - loss: 0.4820 - acc: 0.8718 - val_loss: 0.3817 - val_acc: 0.8942\n",
      "Epoch 3/20\n",
      "60000/60000 [==============================] - 3s 46us/step - loss: 0.3650 - acc: 0.8962 - val_loss: 0.3273 - val_acc: 0.9066\n",
      "Epoch 4/20\n",
      "60000/60000 [==============================] - 3s 53us/step - loss: 0.3194 - acc: 0.9085 - val_loss: 0.2935 - val_acc: 0.9160\n",
      "Epoch 5/20\n",
      "60000/60000 [==============================] - 3s 56us/step - loss: 0.2898 - acc: 0.9170 - val_loss: 0.2703 - val_acc: 0.9201\n",
      "Epoch 6/20\n",
      "60000/60000 [==============================] - 3s 45us/step - loss: 0.2670 - acc: 0.9224 - val_loss: 0.2472 - val_acc: 0.9288\n",
      "Epoch 7/20\n",
      "60000/60000 [==============================] - 3s 53us/step - loss: 0.2483 - acc: 0.9285 - val_loss: 0.2319 - val_acc: 0.9326\n",
      "Epoch 8/20\n",
      "60000/60000 [==============================] - 3s 54us/step - loss: 0.2322 - acc: 0.9321 - val_loss: 0.2245 - val_acc: 0.9364\n",
      "Epoch 9/20\n",
      "60000/60000 [==============================] - 3s 49us/step - loss: 0.2182 - acc: 0.9365 - val_loss: 0.2067 - val_acc: 0.9387\n",
      "Epoch 10/20\n",
      "60000/60000 [==============================] - 3s 45us/step - loss: 0.2053 - acc: 0.9404 - val_loss: 0.2007 - val_acc: 0.9411\n",
      "Epoch 11/20\n",
      "60000/60000 [==============================] - 3s 49us/step - loss: 0.1948 - acc: 0.9431 - val_loss: 0.1887 - val_acc: 0.9455\n",
      "Epoch 12/20\n",
      "60000/60000 [==============================] - 3s 48us/step - loss: 0.1845 - acc: 0.9466 - val_loss: 0.1800 - val_acc: 0.9470\n",
      "Epoch 13/20\n",
      "60000/60000 [==============================] - 3s 48us/step - loss: 0.1755 - acc: 0.9487 - val_loss: 0.1752 - val_acc: 0.9484\n",
      "Epoch 14/20\n",
      "60000/60000 [==============================] - 3s 46us/step - loss: 0.1671 - acc: 0.9512 - val_loss: 0.1663 - val_acc: 0.9503\n",
      "Epoch 15/20\n",
      "60000/60000 [==============================] - 3s 53us/step - loss: 0.1594 - acc: 0.9540 - val_loss: 0.1602 - val_acc: 0.9525\n",
      "Epoch 16/20\n",
      "60000/60000 [==============================] - 3s 48us/step - loss: 0.1527 - acc: 0.9556 - val_loss: 0.1539 - val_acc: 0.9559\n",
      "Epoch 17/20\n",
      "60000/60000 [==============================] - 3s 45us/step - loss: 0.1460 - acc: 0.9574 - val_loss: 0.1470 - val_acc: 0.9566\n",
      "Epoch 18/20\n",
      "60000/60000 [==============================] - 3s 47us/step - loss: 0.1403 - acc: 0.9594 - val_loss: 0.1456 - val_acc: 0.9565\n",
      "Epoch 19/20\n",
      "60000/60000 [==============================] - 3s 49us/step - loss: 0.1347 - acc: 0.9613 - val_loss: 0.1403 - val_acc: 0.9571\n",
      "Epoch 20/20\n",
      "60000/60000 [==============================] - 3s 53us/step - loss: 0.1300 - acc: 0.9624 - val_loss: 0.1353 - val_acc: 0.9598\n"
     ]
    },
    {
     "data": {
      "text/plain": [
       "42"
      ]
     },
     "execution_count": 27,
     "metadata": {},
     "output_type": "execute_result"
    },
    {
     "data": {
      "text/plain": [
       "23"
      ]
     },
     "execution_count": 27,
     "metadata": {},
     "output_type": "execute_result"
    },
    {
     "data": {
      "text/plain": [
       "1"
      ]
     },
     "execution_count": 27,
     "metadata": {},
     "output_type": "execute_result"
    },
    {
     "data": {
      "text/plain": [
       "15"
      ]
     },
     "execution_count": 27,
     "metadata": {},
     "output_type": "execute_result"
    },
    {
     "data": {
      "text/plain": [
       "2"
      ]
     },
     "execution_count": 27,
     "metadata": {},
     "output_type": "execute_result"
    },
    {
     "data": {
      "text/plain": [
       "[<matplotlib.lines.Line2D at 0x29108c4e438>]"
      ]
     },
     "execution_count": 27,
     "metadata": {},
     "output_type": "execute_result"
    },
    {
     "data": {
      "text/plain": [
       "[<matplotlib.lines.Line2D at 0x29108c4e8d0>]"
      ]
     },
     "execution_count": 27,
     "metadata": {},
     "output_type": "execute_result"
    },
    {
     "data": {
      "text/plain": [
       "Text(0.5,1,'model accuracy')"
      ]
     },
     "execution_count": 27,
     "metadata": {},
     "output_type": "execute_result"
    },
    {
     "data": {
      "text/plain": [
       "Text(0,0.5,'accuracy')"
      ]
     },
     "execution_count": 27,
     "metadata": {},
     "output_type": "execute_result"
    },
    {
     "data": {
      "text/plain": [
       "Text(0.5,0,'epoch')"
      ]
     },
     "execution_count": 27,
     "metadata": {},
     "output_type": "execute_result"
    },
    {
     "data": {
      "text/plain": [
       "<matplotlib.legend.Legend at 0x29107c10ef0>"
      ]
     },
     "execution_count": 27,
     "metadata": {},
     "output_type": "execute_result"
    },
    {
     "data": {
      "text/plain": [
       "[<matplotlib.lines.Line2D at 0x29108ca2400>]"
      ]
     },
     "execution_count": 27,
     "metadata": {},
     "output_type": "execute_result"
    },
    {
     "data": {
      "text/plain": [
       "[<matplotlib.lines.Line2D at 0x29108ca2550>]"
      ]
     },
     "execution_count": 27,
     "metadata": {},
     "output_type": "execute_result"
    },
    {
     "data": {
      "text/plain": [
       "Text(0.5,1,'model loss')"
      ]
     },
     "execution_count": 27,
     "metadata": {},
     "output_type": "execute_result"
    },
    {
     "data": {
      "text/plain": [
       "Text(0,0.5,'loss')"
      ]
     },
     "execution_count": 27,
     "metadata": {},
     "output_type": "execute_result"
    },
    {
     "data": {
      "text/plain": [
       "Text(0.5,0,'epoch')"
      ]
     },
     "execution_count": 27,
     "metadata": {},
     "output_type": "execute_result"
    },
    {
     "data": {
      "text/plain": [
       "<matplotlib.legend.Legend at 0x29108c8add8>"
      ]
     },
     "execution_count": 27,
     "metadata": {},
     "output_type": "execute_result"
    },
    {
     "name": "stdout",
     "output_type": "stream",
     "text": [
      "Analysis of results\n",
      "              precision    recall  f1-score   support\n",
      "\n",
      "           0       0.97      0.98      0.97       980\n",
      "           1       0.98      0.98      0.98      1135\n",
      "           2       0.95      0.96      0.96      1032\n",
      "           3       0.94      0.96      0.95      1010\n",
      "           4       0.96      0.97      0.96       982\n",
      "           5       0.96      0.95      0.95       892\n",
      "           6       0.96      0.97      0.96       958\n",
      "           7       0.97      0.95      0.96      1028\n",
      "           8       0.94      0.96      0.95       974\n",
      "           9       0.96      0.93      0.95      1009\n",
      "\n",
      "   micro avg       0.96      0.96      0.96     10000\n",
      "   macro avg       0.96      0.96      0.96     10000\n",
      "weighted avg       0.96      0.96      0.96     10000\n",
      "\n",
      "[[ 961    0    1    1    1    4    5    3    3    1]\n",
      " [   0 1114    4    2    0    1    4    2    8    0]\n",
      " [   6    1  987    9    3    1    6    7   10    2]\n",
      " [   0    1    9  967    0   13    0    8    9    3]\n",
      " [   1    0    5    0  949    0    6    1    3   17]\n",
      " [   5    1    0   18    0  844    9    1   12    2]\n",
      " [   8    3    1    0    4   10  925    0    7    0]\n",
      " [   0    7   23    4    3    0    0  977    3   11]\n",
      " [   4    1    4   11    3    6    6    3  935    1]\n",
      " [   7    9    1   12   24    4    1    5    7  939]]\n",
      "Train on 60000 samples, validate on 10000 samples\n",
      "Epoch 1/20\n",
      "60000/60000 [==============================] - 5s 78us/step - loss: 1.4248 - acc: 0.6280 - val_loss: 0.6045 - val_acc: 0.8493\n",
      "Epoch 2/20\n",
      "60000/60000 [==============================] - 4s 59us/step - loss: 0.4832 - acc: 0.8713 - val_loss: 0.3822 - val_acc: 0.8909\n",
      "Epoch 3/20\n",
      "60000/60000 [==============================] - 4s 63us/step - loss: 0.3679 - acc: 0.8958 - val_loss: 0.3316 - val_acc: 0.9033\n",
      "Epoch 4/20\n",
      "60000/60000 [==============================] - 3s 56us/step - loss: 0.3233 - acc: 0.9069 - val_loss: 0.2980 - val_acc: 0.9134\n",
      "Epoch 5/20\n",
      "60000/60000 [==============================] - 3s 58us/step - loss: 0.2938 - acc: 0.9163 - val_loss: 0.2703 - val_acc: 0.9221\n",
      "Epoch 6/20\n",
      "60000/60000 [==============================] - 3s 49us/step - loss: 0.2723 - acc: 0.9219 - val_loss: 0.2552 - val_acc: 0.9266\n",
      "Epoch 7/20\n",
      "60000/60000 [==============================] - 3s 53us/step - loss: 0.2542 - acc: 0.9275 - val_loss: 0.2410 - val_acc: 0.9294\n",
      "Epoch 8/20\n",
      "60000/60000 [==============================] - 3s 52us/step - loss: 0.2388 - acc: 0.9320 - val_loss: 0.2321 - val_acc: 0.9333\n",
      "Epoch 9/20\n",
      "60000/60000 [==============================] - 3s 53us/step - loss: 0.2252 - acc: 0.9361 - val_loss: 0.2161 - val_acc: 0.9360\n",
      "Epoch 10/20\n",
      "60000/60000 [==============================] - 3s 55us/step - loss: 0.2126 - acc: 0.9388 - val_loss: 0.2034 - val_acc: 0.9400\n",
      "Epoch 11/20\n",
      "60000/60000 [==============================] - 3s 52us/step - loss: 0.2016 - acc: 0.9425 - val_loss: 0.1952 - val_acc: 0.9436\n",
      "Epoch 12/20\n",
      "60000/60000 [==============================] - 3s 56us/step - loss: 0.1919 - acc: 0.9448 - val_loss: 0.1846 - val_acc: 0.9449\n",
      "Epoch 13/20\n",
      "60000/60000 [==============================] - 3s 57us/step - loss: 0.1824 - acc: 0.9479 - val_loss: 0.1774 - val_acc: 0.9476\n",
      "Epoch 14/20\n",
      "60000/60000 [==============================] - 3s 50us/step - loss: 0.1739 - acc: 0.9505 - val_loss: 0.1733 - val_acc: 0.9481\n",
      "Epoch 15/20\n",
      "60000/60000 [==============================] - 3s 52us/step - loss: 0.1665 - acc: 0.9524 - val_loss: 0.1636 - val_acc: 0.9507\n",
      "Epoch 16/20\n",
      "60000/60000 [==============================] - 3s 53us/step - loss: 0.1599 - acc: 0.9543 - val_loss: 0.1581 - val_acc: 0.9532\n",
      "Epoch 17/20\n",
      "60000/60000 [==============================] - 3s 52us/step - loss: 0.1532 - acc: 0.9558 - val_loss: 0.1560 - val_acc: 0.9544\n",
      "Epoch 18/20\n",
      "60000/60000 [==============================] - 3s 52us/step - loss: 0.1475 - acc: 0.9580 - val_loss: 0.1505 - val_acc: 0.9555\n",
      "Epoch 19/20\n",
      "60000/60000 [==============================] - 3s 50us/step - loss: 0.1421 - acc: 0.9594 - val_loss: 0.1437 - val_acc: 0.9575\n",
      "Epoch 20/20\n",
      "60000/60000 [==============================] - 3s 51us/step - loss: 0.1370 - acc: 0.9611 - val_loss: 0.1425 - val_acc: 0.9592\n"
     ]
    },
    {
     "data": {
      "text/plain": [
       "42"
      ]
     },
     "execution_count": 27,
     "metadata": {},
     "output_type": "execute_result"
    },
    {
     "data": {
      "text/plain": [
       "24"
      ]
     },
     "execution_count": 27,
     "metadata": {},
     "output_type": "execute_result"
    },
    {
     "data": {
      "text/plain": [
       "1"
      ]
     },
     "execution_count": 27,
     "metadata": {},
     "output_type": "execute_result"
    },
    {
     "data": {
      "text/plain": [
       "15"
      ]
     },
     "execution_count": 27,
     "metadata": {},
     "output_type": "execute_result"
    },
    {
     "data": {
      "text/plain": [
       "2"
      ]
     },
     "execution_count": 27,
     "metadata": {},
     "output_type": "execute_result"
    },
    {
     "data": {
      "text/plain": [
       "[<matplotlib.lines.Line2D at 0x29109fcac88>]"
      ]
     },
     "execution_count": 27,
     "metadata": {},
     "output_type": "execute_result"
    },
    {
     "data": {
      "text/plain": [
       "[<matplotlib.lines.Line2D at 0x29109fb41d0>]"
      ]
     },
     "execution_count": 27,
     "metadata": {},
     "output_type": "execute_result"
    },
    {
     "data": {
      "text/plain": [
       "Text(0.5,1,'model accuracy')"
      ]
     },
     "execution_count": 27,
     "metadata": {},
     "output_type": "execute_result"
    },
    {
     "data": {
      "text/plain": [
       "Text(0,0.5,'accuracy')"
      ]
     },
     "execution_count": 27,
     "metadata": {},
     "output_type": "execute_result"
    },
    {
     "data": {
      "text/plain": [
       "Text(0.5,0,'epoch')"
      ]
     },
     "execution_count": 27,
     "metadata": {},
     "output_type": "execute_result"
    },
    {
     "data": {
      "text/plain": [
       "<matplotlib.legend.Legend at 0x29109fb4710>"
      ]
     },
     "execution_count": 27,
     "metadata": {},
     "output_type": "execute_result"
    },
    {
     "data": {
      "text/plain": [
       "[<matplotlib.lines.Line2D at 0x2910a02ac50>]"
      ]
     },
     "execution_count": 27,
     "metadata": {},
     "output_type": "execute_result"
    },
    {
     "data": {
      "text/plain": [
       "[<matplotlib.lines.Line2D at 0x2910a0361d0>]"
      ]
     },
     "execution_count": 27,
     "metadata": {},
     "output_type": "execute_result"
    },
    {
     "data": {
      "text/plain": [
       "Text(0.5,1,'model loss')"
      ]
     },
     "execution_count": 27,
     "metadata": {},
     "output_type": "execute_result"
    },
    {
     "data": {
      "text/plain": [
       "Text(0,0.5,'loss')"
      ]
     },
     "execution_count": 27,
     "metadata": {},
     "output_type": "execute_result"
    },
    {
     "data": {
      "text/plain": [
       "Text(0.5,0,'epoch')"
      ]
     },
     "execution_count": 27,
     "metadata": {},
     "output_type": "execute_result"
    },
    {
     "data": {
      "text/plain": [
       "<matplotlib.legend.Legend at 0x2910a01c748>"
      ]
     },
     "execution_count": 27,
     "metadata": {},
     "output_type": "execute_result"
    },
    {
     "name": "stdout",
     "output_type": "stream",
     "text": [
      "Analysis of results\n",
      "              precision    recall  f1-score   support\n",
      "\n",
      "           0       0.96      0.99      0.97       980\n",
      "           1       0.98      0.99      0.98      1135\n",
      "           2       0.95      0.97      0.96      1032\n",
      "           3       0.93      0.97      0.95      1010\n",
      "           4       0.96      0.96      0.96       982\n",
      "           5       0.97      0.92      0.95       892\n",
      "           6       0.96      0.97      0.97       958\n",
      "           7       0.96      0.95      0.96      1028\n",
      "           8       0.97      0.93      0.95       974\n",
      "           9       0.95      0.94      0.94      1009\n",
      "\n",
      "   micro avg       0.96      0.96      0.96     10000\n",
      "   macro avg       0.96      0.96      0.96     10000\n",
      "weighted avg       0.96      0.96      0.96     10000\n",
      "\n",
      "[[ 966    0    1    2    0    4    4    2    1    0]\n",
      " [   0 1119    3    2    0    1    3    2    5    0]\n",
      " [   7    2 1000    5    2    1    3    6    4    2]\n",
      " [   0    1   10  979    1    4    0    9    4    2]\n",
      " [   1    1    5    0  942    0    6    3    2   22]\n",
      " [   9    1    2   26    2  824   10    2   11    5]\n",
      " [  10    3    3    0    4    7  928    1    2    0]\n",
      " [   2    9   15    5    1    1    0  979    0   16]\n",
      " [   4    2    7   16    8    6    9    9  910    3]\n",
      " [   7    6    3   14   18    3    1    8    4  945]]\n",
      "Train on 60000 samples, validate on 10000 samples\n",
      "Epoch 1/20\n",
      "60000/60000 [==============================] - 5s 82us/step - loss: 1.4952 - acc: 0.5940 - val_loss: 0.6678 - val_acc: 0.8338\n",
      "Epoch 2/20\n",
      "60000/60000 [==============================] - 4s 63us/step - loss: 0.5153 - acc: 0.8603 - val_loss: 0.3967 - val_acc: 0.8869\n",
      "Epoch 3/20\n",
      "60000/60000 [==============================] - 5s 88us/step - loss: 0.3730 - acc: 0.8953 - val_loss: 0.3270 - val_acc: 0.9036\n",
      "Epoch 4/20\n",
      "60000/60000 [==============================] - 4s 65us/step - loss: 0.3219 - acc: 0.9081 - val_loss: 0.2882 - val_acc: 0.9159\n",
      "Epoch 5/20\n",
      "60000/60000 [==============================] - 4s 60us/step - loss: 0.2916 - acc: 0.9162 - val_loss: 0.2675 - val_acc: 0.9210\n",
      "Epoch 6/20\n",
      "60000/60000 [==============================] - 3s 57us/step - loss: 0.2690 - acc: 0.9218 - val_loss: 0.2505 - val_acc: 0.9272\n",
      "Epoch 7/20\n",
      "60000/60000 [==============================] - 4s 65us/step - loss: 0.2509 - acc: 0.9276 - val_loss: 0.2369 - val_acc: 0.9290\n",
      "Epoch 8/20\n",
      "60000/60000 [==============================] - 4s 69us/step - loss: 0.2350 - acc: 0.9323 - val_loss: 0.2229 - val_acc: 0.9337\n",
      "Epoch 9/20\n",
      "60000/60000 [==============================] - 4s 73us/step - loss: 0.2220 - acc: 0.9361 - val_loss: 0.2105 - val_acc: 0.9377\n",
      "Epoch 10/20\n",
      "60000/60000 [==============================] - 3s 58us/step - loss: 0.2096 - acc: 0.9397 - val_loss: 0.2004 - val_acc: 0.9385\n",
      "Epoch 11/20\n",
      "60000/60000 [==============================] - 3s 57us/step - loss: 0.1994 - acc: 0.9429 - val_loss: 0.1938 - val_acc: 0.9423\n",
      "Epoch 12/20\n",
      "60000/60000 [==============================] - 4s 73us/step - loss: 0.1897 - acc: 0.9457 - val_loss: 0.1894 - val_acc: 0.9425\n",
      "Epoch 13/20\n",
      "60000/60000 [==============================] - 4s 73us/step - loss: 0.1810 - acc: 0.9475 - val_loss: 0.1781 - val_acc: 0.9467\n",
      "Epoch 14/20\n",
      "60000/60000 [==============================] - 4s 64us/step - loss: 0.1727 - acc: 0.9502 - val_loss: 0.1733 - val_acc: 0.9476\n",
      "Epoch 15/20\n",
      "60000/60000 [==============================] - 4s 59us/step - loss: 0.1650 - acc: 0.9520 - val_loss: 0.1663 - val_acc: 0.9492\n",
      "Epoch 16/20\n",
      "60000/60000 [==============================] - 3s 58us/step - loss: 0.1583 - acc: 0.9543 - val_loss: 0.1629 - val_acc: 0.9514\n",
      "Epoch 17/20\n",
      "60000/60000 [==============================] - 4s 65us/step - loss: 0.1516 - acc: 0.9564 - val_loss: 0.1597 - val_acc: 0.9531\n",
      "Epoch 18/20\n",
      "60000/60000 [==============================] - 4s 64us/step - loss: 0.1456 - acc: 0.9583 - val_loss: 0.1529 - val_acc: 0.9549\n",
      "Epoch 19/20\n",
      "60000/60000 [==============================] - 3s 56us/step - loss: 0.1400 - acc: 0.9601 - val_loss: 0.1477 - val_acc: 0.9557\n",
      "Epoch 20/20\n",
      "60000/60000 [==============================] - 3s 57us/step - loss: 0.1347 - acc: 0.9618 - val_loss: 0.1434 - val_acc: 0.9571\n"
     ]
    },
    {
     "data": {
      "text/plain": [
       "42"
      ]
     },
     "execution_count": 27,
     "metadata": {},
     "output_type": "execute_result"
    },
    {
     "data": {
      "text/plain": [
       "23"
      ]
     },
     "execution_count": 27,
     "metadata": {},
     "output_type": "execute_result"
    },
    {
     "data": {
      "text/plain": [
       "1"
      ]
     },
     "execution_count": 27,
     "metadata": {},
     "output_type": "execute_result"
    },
    {
     "data": {
      "text/plain": [
       "15"
      ]
     },
     "execution_count": 27,
     "metadata": {},
     "output_type": "execute_result"
    },
    {
     "data": {
      "text/plain": [
       "2"
      ]
     },
     "execution_count": 27,
     "metadata": {},
     "output_type": "execute_result"
    },
    {
     "data": {
      "text/plain": [
       "[<matplotlib.lines.Line2D at 0x2910a393278>]"
      ]
     },
     "execution_count": 27,
     "metadata": {},
     "output_type": "execute_result"
    },
    {
     "data": {
      "text/plain": [
       "[<matplotlib.lines.Line2D at 0x2910a393710>]"
      ]
     },
     "execution_count": 27,
     "metadata": {},
     "output_type": "execute_result"
    },
    {
     "data": {
      "text/plain": [
       "Text(0.5,1,'model accuracy')"
      ]
     },
     "execution_count": 27,
     "metadata": {},
     "output_type": "execute_result"
    },
    {
     "data": {
      "text/plain": [
       "Text(0,0.5,'accuracy')"
      ]
     },
     "execution_count": 27,
     "metadata": {},
     "output_type": "execute_result"
    },
    {
     "data": {
      "text/plain": [
       "Text(0.5,0,'epoch')"
      ]
     },
     "execution_count": 27,
     "metadata": {},
     "output_type": "execute_result"
    },
    {
     "data": {
      "text/plain": [
       "<matplotlib.legend.Legend at 0x2910a34bd30>"
      ]
     },
     "execution_count": 27,
     "metadata": {},
     "output_type": "execute_result"
    },
    {
     "data": {
      "text/plain": [
       "[<matplotlib.lines.Line2D at 0x2910a3ef748>]"
      ]
     },
     "execution_count": 27,
     "metadata": {},
     "output_type": "execute_result"
    },
    {
     "data": {
      "text/plain": [
       "[<matplotlib.lines.Line2D at 0x2910a3ef898>]"
      ]
     },
     "execution_count": 27,
     "metadata": {},
     "output_type": "execute_result"
    },
    {
     "data": {
      "text/plain": [
       "Text(0.5,1,'model loss')"
      ]
     },
     "execution_count": 27,
     "metadata": {},
     "output_type": "execute_result"
    },
    {
     "data": {
      "text/plain": [
       "Text(0,0.5,'loss')"
      ]
     },
     "execution_count": 27,
     "metadata": {},
     "output_type": "execute_result"
    },
    {
     "data": {
      "text/plain": [
       "Text(0.5,0,'epoch')"
      ]
     },
     "execution_count": 27,
     "metadata": {},
     "output_type": "execute_result"
    },
    {
     "data": {
      "text/plain": [
       "<matplotlib.legend.Legend at 0x2910a3de240>"
      ]
     },
     "execution_count": 27,
     "metadata": {},
     "output_type": "execute_result"
    },
    {
     "name": "stdout",
     "output_type": "stream",
     "text": [
      "Analysis of results\n",
      "              precision    recall  f1-score   support\n",
      "\n",
      "           0       0.96      0.98      0.97       980\n",
      "           1       0.98      0.98      0.98      1135\n",
      "           2       0.96      0.95      0.95      1032\n",
      "           3       0.94      0.95      0.94      1010\n",
      "           4       0.96      0.96      0.96       982\n",
      "           5       0.94      0.96      0.95       892\n",
      "           6       0.96      0.96      0.96       958\n",
      "           7       0.96      0.95      0.96      1028\n",
      "           8       0.96      0.94      0.95       974\n",
      "           9       0.94      0.94      0.94      1009\n",
      "\n",
      "   micro avg       0.96      0.96      0.96     10000\n",
      "   macro avg       0.96      0.96      0.96     10000\n",
      "weighted avg       0.96      0.96      0.96     10000\n",
      "\n",
      "[[ 964    0    0    2    0    5    3    2    2    2]\n",
      " [   0 1115    3    2    0    1    3    2    9    0]\n",
      " [   6    2  979   14    5    2    5    9    8    2]\n",
      " [   0    1    8  962    0   20    0    8    6    5]\n",
      " [   1    0    4    1  941    0    9    2    2   22]\n",
      " [   4    1    1   12    1  855    8    1    4    5]\n",
      " [  10    3    2    1    7   11  919    1    4    0]\n",
      " [   1    9   19    4    2    1    0  975    1   16]\n",
      " [   3    1    2   16    8   13    7    7  911    6]\n",
      " [  10    6    1   12   19    2    0    6    3  950]]\n",
      "Train on 60000 samples, validate on 10000 samples\n",
      "Epoch 1/20\n",
      "60000/60000 [==============================] - 5s 82us/step - loss: 1.3832 - acc: 0.6286 - val_loss: 0.6012 - val_acc: 0.8433\n",
      "Epoch 2/20\n",
      "60000/60000 [==============================] - 4s 67us/step - loss: 0.4810 - acc: 0.8660 - val_loss: 0.3875 - val_acc: 0.8881\n",
      "Epoch 3/20\n",
      "60000/60000 [==============================] - 4s 63us/step - loss: 0.3671 - acc: 0.8932 - val_loss: 0.3268 - val_acc: 0.9044\n",
      "Epoch 4/20\n",
      "60000/60000 [==============================] - 4s 59us/step - loss: 0.3211 - acc: 0.9066 - val_loss: 0.2956 - val_acc: 0.9152\n",
      "Epoch 5/20\n",
      "60000/60000 [==============================] - 3s 57us/step - loss: 0.2918 - acc: 0.9148 - val_loss: 0.2730 - val_acc: 0.9223\n",
      "Epoch 6/20\n",
      "60000/60000 [==============================] - 4s 60us/step - loss: 0.2697 - acc: 0.9215 - val_loss: 0.2556 - val_acc: 0.9258\n",
      "Epoch 7/20\n",
      "60000/60000 [==============================] - 4s 58us/step - loss: 0.2515 - acc: 0.9268 - val_loss: 0.2385 - val_acc: 0.9314\n",
      "Epoch 8/20\n",
      "60000/60000 [==============================] - 4s 59us/step - loss: 0.2357 - acc: 0.9320 - val_loss: 0.2258 - val_acc: 0.9352\n",
      "Epoch 9/20\n",
      "60000/60000 [==============================] - 3s 57us/step - loss: 0.2220 - acc: 0.9360 - val_loss: 0.2148 - val_acc: 0.9375\n",
      "Epoch 10/20\n",
      "60000/60000 [==============================] - 4s 60us/step - loss: 0.2095 - acc: 0.9397 - val_loss: 0.2050 - val_acc: 0.9407\n",
      "Epoch 11/20\n",
      "60000/60000 [==============================] - 4s 60us/step - loss: 0.1990 - acc: 0.9426 - val_loss: 0.1967 - val_acc: 0.9414\n",
      "Epoch 12/20\n",
      "60000/60000 [==============================] - 3s 57us/step - loss: 0.1894 - acc: 0.9456 - val_loss: 0.1862 - val_acc: 0.9444\n",
      "Epoch 13/20\n",
      "60000/60000 [==============================] - 4s 60us/step - loss: 0.1802 - acc: 0.9476 - val_loss: 0.1810 - val_acc: 0.9446\n",
      "Epoch 14/20\n",
      "60000/60000 [==============================] - 3s 56us/step - loss: 0.1725 - acc: 0.9503 - val_loss: 0.1733 - val_acc: 0.9469\n",
      "Epoch 15/20\n",
      "60000/60000 [==============================] - 4s 61us/step - loss: 0.1650 - acc: 0.9519 - val_loss: 0.1663 - val_acc: 0.9480\n",
      "Epoch 16/20\n",
      "60000/60000 [==============================] - 4s 61us/step - loss: 0.1579 - acc: 0.9542 - val_loss: 0.1658 - val_acc: 0.9494\n",
      "Epoch 17/20\n",
      "60000/60000 [==============================] - 3s 57us/step - loss: 0.1515 - acc: 0.9559 - val_loss: 0.1590 - val_acc: 0.9498\n",
      "Epoch 18/20\n",
      "60000/60000 [==============================] - 3s 56us/step - loss: 0.1459 - acc: 0.9575 - val_loss: 0.1514 - val_acc: 0.9535\n",
      "Epoch 19/20\n",
      "60000/60000 [==============================] - 4s 63us/step - loss: 0.1403 - acc: 0.9589 - val_loss: 0.1479 - val_acc: 0.9539\n",
      "Epoch 20/20\n",
      "60000/60000 [==============================] - 4s 60us/step - loss: 0.1354 - acc: 0.9607 - val_loss: 0.1456 - val_acc: 0.9548\n"
     ]
    },
    {
     "data": {
      "text/plain": [
       "42"
      ]
     },
     "execution_count": 27,
     "metadata": {},
     "output_type": "execute_result"
    },
    {
     "data": {
      "text/plain": [
       "24"
      ]
     },
     "execution_count": 27,
     "metadata": {},
     "output_type": "execute_result"
    },
    {
     "data": {
      "text/plain": [
       "1"
      ]
     },
     "execution_count": 27,
     "metadata": {},
     "output_type": "execute_result"
    },
    {
     "data": {
      "text/plain": [
       "15"
      ]
     },
     "execution_count": 27,
     "metadata": {},
     "output_type": "execute_result"
    },
    {
     "data": {
      "text/plain": [
       "2"
      ]
     },
     "execution_count": 27,
     "metadata": {},
     "output_type": "execute_result"
    },
    {
     "data": {
      "text/plain": [
       "[<matplotlib.lines.Line2D at 0x2910b729048>]"
      ]
     },
     "execution_count": 27,
     "metadata": {},
     "output_type": "execute_result"
    },
    {
     "data": {
      "text/plain": [
       "[<matplotlib.lines.Line2D at 0x2910b7294e0>]"
      ]
     },
     "execution_count": 27,
     "metadata": {},
     "output_type": "execute_result"
    },
    {
     "data": {
      "text/plain": [
       "Text(0.5,1,'model accuracy')"
      ]
     },
     "execution_count": 27,
     "metadata": {},
     "output_type": "execute_result"
    },
    {
     "data": {
      "text/plain": [
       "Text(0,0.5,'accuracy')"
      ]
     },
     "execution_count": 27,
     "metadata": {},
     "output_type": "execute_result"
    },
    {
     "data": {
      "text/plain": [
       "Text(0.5,0,'epoch')"
      ]
     },
     "execution_count": 27,
     "metadata": {},
     "output_type": "execute_result"
    },
    {
     "data": {
      "text/plain": [
       "<matplotlib.legend.Legend at 0x2910a719b00>"
      ]
     },
     "execution_count": 27,
     "metadata": {},
     "output_type": "execute_result"
    },
    {
     "data": {
      "text/plain": [
       "[<matplotlib.lines.Line2D at 0x2910b775fd0>]"
      ]
     },
     "execution_count": 27,
     "metadata": {},
     "output_type": "execute_result"
    },
    {
     "data": {
      "text/plain": [
       "[<matplotlib.lines.Line2D at 0x2910b77f5c0>]"
      ]
     },
     "execution_count": 27,
     "metadata": {},
     "output_type": "execute_result"
    },
    {
     "data": {
      "text/plain": [
       "Text(0.5,1,'model loss')"
      ]
     },
     "execution_count": 27,
     "metadata": {},
     "output_type": "execute_result"
    },
    {
     "data": {
      "text/plain": [
       "Text(0,0.5,'loss')"
      ]
     },
     "execution_count": 27,
     "metadata": {},
     "output_type": "execute_result"
    },
    {
     "data": {
      "text/plain": [
       "Text(0.5,0,'epoch')"
      ]
     },
     "execution_count": 27,
     "metadata": {},
     "output_type": "execute_result"
    },
    {
     "data": {
      "text/plain": [
       "<matplotlib.legend.Legend at 0x2910b766ac8>"
      ]
     },
     "execution_count": 27,
     "metadata": {},
     "output_type": "execute_result"
    },
    {
     "name": "stdout",
     "output_type": "stream",
     "text": [
      "Analysis of results\n",
      "              precision    recall  f1-score   support\n",
      "\n",
      "           0       0.96      0.98      0.97       980\n",
      "           1       0.98      0.98      0.98      1135\n",
      "           2       0.96      0.94      0.95      1032\n",
      "           3       0.92      0.97      0.95      1010\n",
      "           4       0.95      0.94      0.95       982\n",
      "           5       0.95      0.94      0.94       892\n",
      "           6       0.96      0.96      0.96       958\n",
      "           7       0.97      0.94      0.95      1028\n",
      "           8       0.96      0.94      0.95       974\n",
      "           9       0.93      0.94      0.94      1009\n",
      "\n",
      "   micro avg       0.95      0.95      0.95     10000\n",
      "   macro avg       0.95      0.95      0.95     10000\n",
      "weighted avg       0.96      0.95      0.95     10000\n",
      "\n",
      "[[ 965    0    0    1    0    5    4    2    2    1]\n",
      " [   0 1116    2    5    0    1    3    2    6    0]\n",
      " [   7    2  975   19    6    2    6    8    7    0]\n",
      " [   0    0    2  982    0    9    0    7    7    3]\n",
      " [   1    0    6    1  925    0    9    1    2   37]\n",
      " [   7    3    1   20    2  836    9    0   10    4]\n",
      " [   8    3    4    0    7   11  919    0    6    0]\n",
      " [   1    9   17    7    4    1    0  966    2   21]\n",
      " [   6    1    4   22    4    9    7    5  916    0]\n",
      " [   6    8    1   10   21    8    0    6    1  948]]\n",
      "Train on 60000 samples, validate on 10000 samples\n",
      "Epoch 1/20\n",
      "60000/60000 [==============================] - 5s 87us/step - loss: 1.3574 - acc: 0.6628 - val_loss: 0.5733 - val_acc: 0.8525\n",
      "Epoch 2/20\n",
      "60000/60000 [==============================] - 3s 57us/step - loss: 0.4675 - acc: 0.8721 - val_loss: 0.3731 - val_acc: 0.8967\n",
      "Epoch 3/20\n",
      "60000/60000 [==============================] - 4s 65us/step - loss: 0.3612 - acc: 0.8966 - val_loss: 0.3210 - val_acc: 0.9070\n",
      "Epoch 4/20\n",
      "60000/60000 [==============================] - 4s 64us/step - loss: 0.3175 - acc: 0.9086 - val_loss: 0.2872 - val_acc: 0.9180\n",
      "Epoch 5/20\n",
      "60000/60000 [==============================] - 3s 57us/step - loss: 0.2895 - acc: 0.9160 - val_loss: 0.2636 - val_acc: 0.9255\n",
      "Epoch 6/20\n",
      "60000/60000 [==============================] - 3s 56us/step - loss: 0.2682 - acc: 0.9222 - val_loss: 0.2463 - val_acc: 0.9294\n",
      "Epoch 7/20\n",
      "60000/60000 [==============================] - 3s 55us/step - loss: 0.2504 - acc: 0.9275 - val_loss: 0.2356 - val_acc: 0.9320\n",
      "Epoch 8/20\n",
      "60000/60000 [==============================] - 3s 57us/step - loss: 0.2352 - acc: 0.9322 - val_loss: 0.2203 - val_acc: 0.9366\n",
      "Epoch 9/20\n",
      "60000/60000 [==============================] - 4s 59us/step - loss: 0.2219 - acc: 0.9362 - val_loss: 0.2085 - val_acc: 0.9384\n",
      "Epoch 10/20\n",
      "60000/60000 [==============================] - 3s 55us/step - loss: 0.2099 - acc: 0.9399 - val_loss: 0.2005 - val_acc: 0.9426\n",
      "Epoch 11/20\n",
      "60000/60000 [==============================] - 3s 55us/step - loss: 0.1992 - acc: 0.9422 - val_loss: 0.1919 - val_acc: 0.9434\n",
      "Epoch 12/20\n",
      "60000/60000 [==============================] - 3s 55us/step - loss: 0.1895 - acc: 0.9454 - val_loss: 0.1816 - val_acc: 0.9460\n",
      "Epoch 13/20\n",
      "60000/60000 [==============================] - 3s 55us/step - loss: 0.1808 - acc: 0.9477 - val_loss: 0.1755 - val_acc: 0.9465\n",
      "Epoch 14/20\n",
      "60000/60000 [==============================] - 3s 56us/step - loss: 0.1730 - acc: 0.9497 - val_loss: 0.1695 - val_acc: 0.9513\n",
      "Epoch 15/20\n",
      "60000/60000 [==============================] - 3s 55us/step - loss: 0.1660 - acc: 0.9515 - val_loss: 0.1628 - val_acc: 0.9515\n",
      "Epoch 16/20\n",
      "60000/60000 [==============================] - 3s 55us/step - loss: 0.1591 - acc: 0.9546 - val_loss: 0.1598 - val_acc: 0.9524\n",
      "Epoch 17/20\n",
      "60000/60000 [==============================] - 3s 58us/step - loss: 0.1527 - acc: 0.9561 - val_loss: 0.1513 - val_acc: 0.9542\n",
      "Epoch 18/20\n",
      "60000/60000 [==============================] - 3s 57us/step - loss: 0.1474 - acc: 0.9576 - val_loss: 0.1478 - val_acc: 0.9574\n",
      "Epoch 19/20\n",
      "60000/60000 [==============================] - 4s 61us/step - loss: 0.1419 - acc: 0.9594 - val_loss: 0.1454 - val_acc: 0.9570\n",
      "Epoch 20/20\n",
      "60000/60000 [==============================] - 4s 60us/step - loss: 0.1369 - acc: 0.9606 - val_loss: 0.1408 - val_acc: 0.9592\n"
     ]
    },
    {
     "data": {
      "text/plain": [
       "42"
      ]
     },
     "execution_count": 27,
     "metadata": {},
     "output_type": "execute_result"
    },
    {
     "data": {
      "text/plain": [
       "23"
      ]
     },
     "execution_count": 27,
     "metadata": {},
     "output_type": "execute_result"
    },
    {
     "data": {
      "text/plain": [
       "1"
      ]
     },
     "execution_count": 27,
     "metadata": {},
     "output_type": "execute_result"
    },
    {
     "data": {
      "text/plain": [
       "15"
      ]
     },
     "execution_count": 27,
     "metadata": {},
     "output_type": "execute_result"
    },
    {
     "data": {
      "text/plain": [
       "2"
      ]
     },
     "execution_count": 27,
     "metadata": {},
     "output_type": "execute_result"
    },
    {
     "data": {
      "text/plain": [
       "[<matplotlib.lines.Line2D at 0x2910babd898>]"
      ]
     },
     "execution_count": 27,
     "metadata": {},
     "output_type": "execute_result"
    },
    {
     "data": {
      "text/plain": [
       "[<matplotlib.lines.Line2D at 0x2910babdda0>]"
      ]
     },
     "execution_count": 27,
     "metadata": {},
     "output_type": "execute_result"
    },
    {
     "data": {
      "text/plain": [
       "Text(0.5,1,'model accuracy')"
      ]
     },
     "execution_count": 27,
     "metadata": {},
     "output_type": "execute_result"
    },
    {
     "data": {
      "text/plain": [
       "Text(0,0.5,'accuracy')"
      ]
     },
     "execution_count": 27,
     "metadata": {},
     "output_type": "execute_result"
    },
    {
     "data": {
      "text/plain": [
       "Text(0.5,0,'epoch')"
      ]
     },
     "execution_count": 27,
     "metadata": {},
     "output_type": "execute_result"
    },
    {
     "data": {
      "text/plain": [
       "<matplotlib.legend.Legend at 0x2910babdeb8>"
      ]
     },
     "execution_count": 27,
     "metadata": {},
     "output_type": "execute_result"
    },
    {
     "data": {
      "text/plain": [
       "[<matplotlib.lines.Line2D at 0x2910cb06860>]"
      ]
     },
     "execution_count": 27,
     "metadata": {},
     "output_type": "execute_result"
    },
    {
     "data": {
      "text/plain": [
       "[<matplotlib.lines.Line2D at 0x2910cb069b0>]"
      ]
     },
     "execution_count": 27,
     "metadata": {},
     "output_type": "execute_result"
    },
    {
     "data": {
      "text/plain": [
       "Text(0.5,1,'model loss')"
      ]
     },
     "execution_count": 27,
     "metadata": {},
     "output_type": "execute_result"
    },
    {
     "data": {
      "text/plain": [
       "Text(0,0.5,'loss')"
      ]
     },
     "execution_count": 27,
     "metadata": {},
     "output_type": "execute_result"
    },
    {
     "data": {
      "text/plain": [
       "Text(0.5,0,'epoch')"
      ]
     },
     "execution_count": 27,
     "metadata": {},
     "output_type": "execute_result"
    },
    {
     "data": {
      "text/plain": [
       "<matplotlib.legend.Legend at 0x2910caf7278>"
      ]
     },
     "execution_count": 27,
     "metadata": {},
     "output_type": "execute_result"
    },
    {
     "name": "stdout",
     "output_type": "stream",
     "text": [
      "Analysis of results\n",
      "              precision    recall  f1-score   support\n",
      "\n",
      "           0       0.97      0.99      0.98       980\n",
      "           1       0.97      0.99      0.98      1135\n",
      "           2       0.94      0.97      0.95      1032\n",
      "           3       0.95      0.95      0.95      1010\n",
      "           4       0.95      0.97      0.96       982\n",
      "           5       0.96      0.95      0.95       892\n",
      "           6       0.96      0.97      0.96       958\n",
      "           7       0.96      0.95      0.95      1028\n",
      "           8       0.96      0.94      0.95       974\n",
      "           9       0.97      0.92      0.94      1009\n",
      "\n",
      "   micro avg       0.96      0.96      0.96     10000\n",
      "   macro avg       0.96      0.96      0.96     10000\n",
      "weighted avg       0.96      0.96      0.96     10000\n",
      "\n",
      "[[ 966    0    2    1    0    3    6    1    1    0]\n",
      " [   0 1120    2    2    0    1    4    2    4    0]\n",
      " [   4    2  999    4    4    0    4    7    7    1]\n",
      " [   0    3   14  962    1    8    0   11    9    2]\n",
      " [   1    0    4    0  952    0    6    2    3   14]\n",
      " [   8    2    0   13    3  846   10    0    6    4]\n",
      " [   7    3    5    0    5   10  926    1    1    0]\n",
      " [   1   10   22    4    1    1    0  978    1   10]\n",
      " [   5    2    8   16    5    8    9    8  911    2]\n",
      " [   4    7    5   11   28    3    1   11    7  932]]\n",
      "Train on 60000 samples, validate on 10000 samples\n",
      "Epoch 1/20\n",
      "60000/60000 [==============================] - 5s 83us/step - loss: 1.2792 - acc: 0.6676 - val_loss: 0.5521 - val_acc: 0.8576\n",
      "Epoch 2/20\n",
      "60000/60000 [==============================] - 4s 62us/step - loss: 0.4574 - acc: 0.8742 - val_loss: 0.3666 - val_acc: 0.8982\n",
      "Epoch 3/20\n",
      "60000/60000 [==============================] - 3s 58us/step - loss: 0.3560 - acc: 0.8982 - val_loss: 0.3154 - val_acc: 0.9092\n",
      "Epoch 4/20\n",
      "60000/60000 [==============================] - 4s 72us/step - loss: 0.3138 - acc: 0.9097 - val_loss: 0.2836 - val_acc: 0.9199\n",
      "Epoch 5/20\n",
      "60000/60000 [==============================] - 4s 62us/step - loss: 0.2868 - acc: 0.9166 - val_loss: 0.2664 - val_acc: 0.9226\n",
      "Epoch 6/20\n",
      "60000/60000 [==============================] - 3s 57us/step - loss: 0.2663 - acc: 0.9228 - val_loss: 0.2471 - val_acc: 0.9289\n",
      "Epoch 7/20\n",
      "60000/60000 [==============================] - 4s 60us/step - loss: 0.2490 - acc: 0.9278 - val_loss: 0.2338 - val_acc: 0.9326\n",
      "Epoch 8/20\n",
      "60000/60000 [==============================] - 4s 64us/step - loss: 0.2343 - acc: 0.9320 - val_loss: 0.2212 - val_acc: 0.9352\n",
      "Epoch 9/20\n",
      "60000/60000 [==============================] - 4s 63us/step - loss: 0.2209 - acc: 0.9359 - val_loss: 0.2097 - val_acc: 0.9386\n",
      "Epoch 10/20\n",
      "60000/60000 [==============================] - 4s 60us/step - loss: 0.2092 - acc: 0.9388 - val_loss: 0.2010 - val_acc: 0.9398\n",
      "Epoch 11/20\n",
      "60000/60000 [==============================] - 4s 66us/step - loss: 0.1985 - acc: 0.9426 - val_loss: 0.2004 - val_acc: 0.9399\n",
      "Epoch 12/20\n",
      "60000/60000 [==============================] - 4s 64us/step - loss: 0.1885 - acc: 0.9459 - val_loss: 0.1851 - val_acc: 0.9449\n",
      "Epoch 13/20\n",
      "60000/60000 [==============================] - 4s 61us/step - loss: 0.1793 - acc: 0.9486 - val_loss: 0.1784 - val_acc: 0.9478\n",
      "Epoch 14/20\n",
      "60000/60000 [==============================] - 3s 56us/step - loss: 0.1716 - acc: 0.9511 - val_loss: 0.1679 - val_acc: 0.9501\n",
      "Epoch 15/20\n",
      "60000/60000 [==============================] - 4s 63us/step - loss: 0.1643 - acc: 0.9523 - val_loss: 0.1634 - val_acc: 0.9526\n",
      "Epoch 16/20\n",
      "60000/60000 [==============================] - 4s 63us/step - loss: 0.1574 - acc: 0.9547 - val_loss: 0.1579 - val_acc: 0.9529\n",
      "Epoch 17/20\n",
      "60000/60000 [==============================] - 4s 72us/step - loss: 0.1512 - acc: 0.9566 - val_loss: 0.1538 - val_acc: 0.9541\n",
      "Epoch 18/20\n",
      "60000/60000 [==============================] - 4s 69us/step - loss: 0.1452 - acc: 0.9580 - val_loss: 0.1493 - val_acc: 0.9559\n",
      "Epoch 19/20\n",
      "60000/60000 [==============================] - 4s 70us/step - loss: 0.1396 - acc: 0.9599 - val_loss: 0.1418 - val_acc: 0.9571\n",
      "Epoch 20/20\n",
      "60000/60000 [==============================] - 4s 62us/step - loss: 0.1346 - acc: 0.9612 - val_loss: 0.1390 - val_acc: 0.9587\n"
     ]
    },
    {
     "data": {
      "text/plain": [
       "42"
      ]
     },
     "execution_count": 27,
     "metadata": {},
     "output_type": "execute_result"
    },
    {
     "data": {
      "text/plain": [
       "24"
      ]
     },
     "execution_count": 27,
     "metadata": {},
     "output_type": "execute_result"
    },
    {
     "data": {
      "text/plain": [
       "1"
      ]
     },
     "execution_count": 27,
     "metadata": {},
     "output_type": "execute_result"
    },
    {
     "data": {
      "text/plain": [
       "15"
      ]
     },
     "execution_count": 27,
     "metadata": {},
     "output_type": "execute_result"
    },
    {
     "data": {
      "text/plain": [
       "2"
      ]
     },
     "execution_count": 27,
     "metadata": {},
     "output_type": "execute_result"
    },
    {
     "data": {
      "text/plain": [
       "[<matplotlib.lines.Line2D at 0x2910ce69128>]"
      ]
     },
     "execution_count": 27,
     "metadata": {},
     "output_type": "execute_result"
    },
    {
     "data": {
      "text/plain": [
       "[<matplotlib.lines.Line2D at 0x2910ce69630>]"
      ]
     },
     "execution_count": 27,
     "metadata": {},
     "output_type": "execute_result"
    },
    {
     "data": {
      "text/plain": [
       "Text(0.5,1,'model accuracy')"
      ]
     },
     "execution_count": 27,
     "metadata": {},
     "output_type": "execute_result"
    },
    {
     "data": {
      "text/plain": [
       "Text(0,0.5,'accuracy')"
      ]
     },
     "execution_count": 27,
     "metadata": {},
     "output_type": "execute_result"
    },
    {
     "data": {
      "text/plain": [
       "Text(0.5,0,'epoch')"
      ]
     },
     "execution_count": 27,
     "metadata": {},
     "output_type": "execute_result"
    },
    {
     "data": {
      "text/plain": [
       "<matplotlib.legend.Legend at 0x2910ce69ac8>"
      ]
     },
     "execution_count": 27,
     "metadata": {},
     "output_type": "execute_result"
    },
    {
     "data": {
      "text/plain": [
       "[<matplotlib.lines.Line2D at 0x2910cec2c18>]"
      ]
     },
     "execution_count": 27,
     "metadata": {},
     "output_type": "execute_result"
    },
    {
     "data": {
      "text/plain": [
       "[<matplotlib.lines.Line2D at 0x2910cecb198>]"
      ]
     },
     "execution_count": 27,
     "metadata": {},
     "output_type": "execute_result"
    },
    {
     "data": {
      "text/plain": [
       "Text(0.5,1,'model loss')"
      ]
     },
     "execution_count": 27,
     "metadata": {},
     "output_type": "execute_result"
    },
    {
     "data": {
      "text/plain": [
       "Text(0,0.5,'loss')"
      ]
     },
     "execution_count": 27,
     "metadata": {},
     "output_type": "execute_result"
    },
    {
     "data": {
      "text/plain": [
       "Text(0.5,0,'epoch')"
      ]
     },
     "execution_count": 27,
     "metadata": {},
     "output_type": "execute_result"
    },
    {
     "data": {
      "text/plain": [
       "<matplotlib.legend.Legend at 0x2910ceb2630>"
      ]
     },
     "execution_count": 27,
     "metadata": {},
     "output_type": "execute_result"
    },
    {
     "name": "stdout",
     "output_type": "stream",
     "text": [
      "Analysis of results\n",
      "              precision    recall  f1-score   support\n",
      "\n",
      "           0       0.96      0.99      0.97       980\n",
      "           1       0.97      0.99      0.98      1135\n",
      "           2       0.96      0.97      0.96      1032\n",
      "           3       0.95      0.95      0.95      1010\n",
      "           4       0.95      0.96      0.96       982\n",
      "           5       0.96      0.95      0.95       892\n",
      "           6       0.96      0.96      0.96       958\n",
      "           7       0.97      0.95      0.96      1028\n",
      "           8       0.96      0.93      0.95       974\n",
      "           9       0.95      0.95      0.95      1009\n",
      "\n",
      "   micro avg       0.96      0.96      0.96     10000\n",
      "   macro avg       0.96      0.96      0.96     10000\n",
      "weighted avg       0.96      0.96      0.96     10000\n",
      "\n",
      "[[ 970    0    1    1    0    2    4    1    1    0]\n",
      " [   0 1118    4    1    1    1    4    2    4    0]\n",
      " [   7    1  997    6    4    0    1    8    6    2]\n",
      " [   1    1   12  963    0   12    0    9    8    4]\n",
      " [   1    1    8    0  941    0    6    2    2   21]\n",
      " [   9    1    0   13    2  844   10    0    7    6]\n",
      " [   9    3    1    1   10   10  917    0    7    0]\n",
      " [   1   11   15    4    5    2    0  973    1   16]\n",
      " [   6    5    4   16    8    6    8    7  910    4]\n",
      " [   9    9    1    9   16    2    1    6    2  954]]\n",
      "Train on 60000 samples, validate on 10000 samples\n",
      "Epoch 1/20\n",
      "60000/60000 [==============================] - 5s 80us/step - loss: 1.3621 - acc: 0.6548 - val_loss: 0.5754 - val_acc: 0.8552\n",
      "Epoch 2/20\n",
      "60000/60000 [==============================] - 4s 68us/step - loss: 0.4659 - acc: 0.8731 - val_loss: 0.3729 - val_acc: 0.8940\n",
      "Epoch 3/20\n",
      "60000/60000 [==============================] - 4s 66us/step - loss: 0.3611 - acc: 0.8968 - val_loss: 0.3201 - val_acc: 0.9076\n",
      "Epoch 4/20\n",
      "60000/60000 [==============================] - 4s 74us/step - loss: 0.3188 - acc: 0.9079 - val_loss: 0.2906 - val_acc: 0.9138\n",
      "Epoch 5/20\n",
      "60000/60000 [==============================] - 4s 65us/step - loss: 0.2911 - acc: 0.9150 - val_loss: 0.2799 - val_acc: 0.9204\n",
      "Epoch 6/20\n",
      "60000/60000 [==============================] - 4s 66us/step - loss: 0.2710 - acc: 0.9207 - val_loss: 0.2563 - val_acc: 0.9256\n",
      "Epoch 7/20\n",
      "60000/60000 [==============================] - 4s 71us/step - loss: 0.2535 - acc: 0.9261 - val_loss: 0.2390 - val_acc: 0.9320\n",
      "Epoch 8/20\n",
      "60000/60000 [==============================] - 4s 67us/step - loss: 0.2382 - acc: 0.9302 - val_loss: 0.2276 - val_acc: 0.9360\n",
      "Epoch 9/20\n",
      "60000/60000 [==============================] - 4s 71us/step - loss: 0.2249 - acc: 0.9345 - val_loss: 0.2163 - val_acc: 0.9383\n",
      "Epoch 10/20\n",
      "60000/60000 [==============================] - 4s 74us/step - loss: 0.2126 - acc: 0.9380 - val_loss: 0.2049 - val_acc: 0.9404\n",
      "Epoch 11/20\n",
      "60000/60000 [==============================] - 4s 70us/step - loss: 0.2010 - acc: 0.9421 - val_loss: 0.1994 - val_acc: 0.9409\n",
      "Epoch 12/20\n",
      "60000/60000 [==============================] - 4s 66us/step - loss: 0.1905 - acc: 0.9454 - val_loss: 0.1885 - val_acc: 0.9457\n",
      "Epoch 13/20\n",
      "60000/60000 [==============================] - 4s 65us/step - loss: 0.1808 - acc: 0.9476 - val_loss: 0.1794 - val_acc: 0.9467\n",
      "Epoch 14/20\n",
      "60000/60000 [==============================] - 4s 68us/step - loss: 0.1721 - acc: 0.9503 - val_loss: 0.1707 - val_acc: 0.9491\n",
      "Epoch 15/20\n",
      "60000/60000 [==============================] - 5s 84us/step - loss: 0.1641 - acc: 0.9527 - val_loss: 0.1638 - val_acc: 0.9523\n",
      "Epoch 16/20\n",
      "60000/60000 [==============================] - 4s 72us/step - loss: 0.1563 - acc: 0.9551 - val_loss: 0.1579 - val_acc: 0.9538\n",
      "Epoch 17/20\n",
      "60000/60000 [==============================] - 4s 65us/step - loss: 0.1493 - acc: 0.9571 - val_loss: 0.1516 - val_acc: 0.9555\n",
      "Epoch 18/20\n",
      "60000/60000 [==============================] - 5s 76us/step - loss: 0.1433 - acc: 0.9588 - val_loss: 0.1488 - val_acc: 0.9565\n",
      "Epoch 19/20\n",
      "60000/60000 [==============================] - 4s 70us/step - loss: 0.1375 - acc: 0.9604 - val_loss: 0.1428 - val_acc: 0.9578\n",
      "Epoch 20/20\n",
      "60000/60000 [==============================] - 4s 70us/step - loss: 0.1320 - acc: 0.9624 - val_loss: 0.1383 - val_acc: 0.9583\n"
     ]
    },
    {
     "data": {
      "text/plain": [
       "42"
      ]
     },
     "execution_count": 27,
     "metadata": {},
     "output_type": "execute_result"
    },
    {
     "data": {
      "text/plain": [
       "24"
      ]
     },
     "execution_count": 27,
     "metadata": {},
     "output_type": "execute_result"
    },
    {
     "data": {
      "text/plain": [
       "1"
      ]
     },
     "execution_count": 27,
     "metadata": {},
     "output_type": "execute_result"
    },
    {
     "data": {
      "text/plain": [
       "15"
      ]
     },
     "execution_count": 27,
     "metadata": {},
     "output_type": "execute_result"
    },
    {
     "data": {
      "text/plain": [
       "2"
      ]
     },
     "execution_count": 27,
     "metadata": {},
     "output_type": "execute_result"
    },
    {
     "data": {
      "text/plain": [
       "[<matplotlib.lines.Line2D at 0x2910d201f60>]"
      ]
     },
     "execution_count": 27,
     "metadata": {},
     "output_type": "execute_result"
    },
    {
     "data": {
      "text/plain": [
       "[<matplotlib.lines.Line2D at 0x2910e1f7438>]"
      ]
     },
     "execution_count": 27,
     "metadata": {},
     "output_type": "execute_result"
    },
    {
     "data": {
      "text/plain": [
       "Text(0.5,1,'model accuracy')"
      ]
     },
     "execution_count": 27,
     "metadata": {},
     "output_type": "execute_result"
    },
    {
     "data": {
      "text/plain": [
       "Text(0,0.5,'accuracy')"
      ]
     },
     "execution_count": 27,
     "metadata": {},
     "output_type": "execute_result"
    },
    {
     "data": {
      "text/plain": [
       "Text(0.5,0,'epoch')"
      ]
     },
     "execution_count": 27,
     "metadata": {},
     "output_type": "execute_result"
    },
    {
     "data": {
      "text/plain": [
       "<matplotlib.legend.Legend at 0x2910e1f7a58>"
      ]
     },
     "execution_count": 27,
     "metadata": {},
     "output_type": "execute_result"
    },
    {
     "data": {
      "text/plain": [
       "[<matplotlib.lines.Line2D at 0x2910e24ef28>]"
      ]
     },
     "execution_count": 27,
     "metadata": {},
     "output_type": "execute_result"
    },
    {
     "data": {
      "text/plain": [
       "[<matplotlib.lines.Line2D at 0x2910e2580b8>]"
      ]
     },
     "execution_count": 27,
     "metadata": {},
     "output_type": "execute_result"
    },
    {
     "data": {
      "text/plain": [
       "Text(0.5,1,'model loss')"
      ]
     },
     "execution_count": 27,
     "metadata": {},
     "output_type": "execute_result"
    },
    {
     "data": {
      "text/plain": [
       "Text(0,0.5,'loss')"
      ]
     },
     "execution_count": 27,
     "metadata": {},
     "output_type": "execute_result"
    },
    {
     "data": {
      "text/plain": [
       "Text(0.5,0,'epoch')"
      ]
     },
     "execution_count": 27,
     "metadata": {},
     "output_type": "execute_result"
    },
    {
     "data": {
      "text/plain": [
       "<matplotlib.legend.Legend at 0x2910e258a58>"
      ]
     },
     "execution_count": 27,
     "metadata": {},
     "output_type": "execute_result"
    },
    {
     "name": "stdout",
     "output_type": "stream",
     "text": [
      "Analysis of results\n",
      "              precision    recall  f1-score   support\n",
      "\n",
      "           0       0.97      0.98      0.98       980\n",
      "           1       0.98      0.99      0.98      1135\n",
      "           2       0.96      0.96      0.96      1032\n",
      "           3       0.95      0.95      0.95      1010\n",
      "           4       0.95      0.96      0.95       982\n",
      "           5       0.95      0.95      0.95       892\n",
      "           6       0.95      0.97      0.96       958\n",
      "           7       0.96      0.95      0.96      1028\n",
      "           8       0.95      0.94      0.95       974\n",
      "           9       0.96      0.92      0.94      1009\n",
      "\n",
      "   micro avg       0.96      0.96      0.96     10000\n",
      "   macro avg       0.96      0.96      0.96     10000\n",
      "weighted avg       0.96      0.96      0.96     10000\n",
      "\n",
      "[[ 959    0    1    3    0    7    7    1    0    2]\n",
      " [   0 1120    2    1    0    1    2    2    7    0]\n",
      " [   5    1  995    6    3    1    8    6    6    1]\n",
      " [   0    2   11  963    0   12    0   10   10    2]\n",
      " [   1    0    4    0  944    0   13    2    3   15]\n",
      " [   5    1    0   12    2  847   11    1   10    3]\n",
      " [   5    3    1    2    5    7  930    1    4    0]\n",
      " [   0   11   16    4    3    2    0  978    1   13]\n",
      " [   4    1    4   15    5    7   10    7  920    1]\n",
      " [   5    6    2   11   34    7    1   10    6  927]]\n",
      "Train on 60000 samples, validate on 10000 samples\n",
      "Epoch 1/20\n",
      "60000/60000 [==============================] - 5s 89us/step - loss: 1.3653 - acc: 0.6457 - val_loss: 0.5973 - val_acc: 0.8490\n",
      "Epoch 2/20\n",
      "60000/60000 [==============================] - 5s 80us/step - loss: 0.4782 - acc: 0.8721 - val_loss: 0.3845 - val_acc: 0.8920\n",
      "Epoch 3/20\n",
      "60000/60000 [==============================] - 5s 78us/step - loss: 0.3686 - acc: 0.8952 - val_loss: 0.3311 - val_acc: 0.9036\n",
      "Epoch 4/20\n",
      "60000/60000 [==============================] - 5s 91us/step - loss: 0.3269 - acc: 0.9057 - val_loss: 0.3000 - val_acc: 0.9137\n",
      "Epoch 5/20\n",
      "60000/60000 [==============================] - 6s 97us/step - loss: 0.3007 - acc: 0.9129 - val_loss: 0.2795 - val_acc: 0.9209\n",
      "Epoch 6/20\n",
      "60000/60000 [==============================] - 5s 79us/step - loss: 0.2801 - acc: 0.9198 - val_loss: 0.2656 - val_acc: 0.9253\n",
      "Epoch 7/20\n",
      "60000/60000 [==============================] - 5s 82us/step - loss: 0.2633 - acc: 0.9243 - val_loss: 0.2523 - val_acc: 0.9283\n",
      "Epoch 8/20\n",
      "60000/60000 [==============================] - 6s 95us/step - loss: 0.2494 - acc: 0.9280 - val_loss: 0.2401 - val_acc: 0.9302\n",
      "Epoch 9/20\n",
      "60000/60000 [==============================] - 5s 85us/step - loss: 0.2368 - acc: 0.9322 - val_loss: 0.2285 - val_acc: 0.9338\n",
      "Epoch 10/20\n",
      "60000/60000 [==============================] - 5s 87us/step - loss: 0.2253 - acc: 0.9348 - val_loss: 0.2180 - val_acc: 0.9378\n",
      "Epoch 11/20\n",
      "60000/60000 [==============================] - 5s 86us/step - loss: 0.2153 - acc: 0.9382 - val_loss: 0.2083 - val_acc: 0.9389\n",
      "Epoch 12/20\n",
      "60000/60000 [==============================] - 5s 86us/step - loss: 0.2060 - acc: 0.9407 - val_loss: 0.2020 - val_acc: 0.9405\n",
      "Epoch 13/20\n",
      "60000/60000 [==============================] - 5s 88us/step - loss: 0.1972 - acc: 0.9435 - val_loss: 0.1947 - val_acc: 0.9416\n",
      "Epoch 14/20\n",
      "60000/60000 [==============================] - 5s 87us/step - loss: 0.1893 - acc: 0.9461 - val_loss: 0.1878 - val_acc: 0.9432\n",
      "Epoch 15/20\n",
      "60000/60000 [==============================] - 5s 85us/step - loss: 0.1821 - acc: 0.9485 - val_loss: 0.1804 - val_acc: 0.9464\n",
      "Epoch 16/20\n",
      "60000/60000 [==============================] - 6s 94us/step - loss: 0.1748 - acc: 0.9504 - val_loss: 0.1778 - val_acc: 0.9464\n",
      "Epoch 17/20\n",
      "60000/60000 [==============================] - 7s 110us/step - loss: 0.1684 - acc: 0.9517 - val_loss: 0.1685 - val_acc: 0.9496\n",
      "Epoch 18/20\n",
      "60000/60000 [==============================] - 5s 91us/step - loss: 0.1622 - acc: 0.9539 - val_loss: 0.1632 - val_acc: 0.9515\n",
      "Epoch 19/20\n",
      "60000/60000 [==============================] - 6s 99us/step - loss: 0.1563 - acc: 0.9547 - val_loss: 0.1624 - val_acc: 0.9523\n",
      "Epoch 20/20\n",
      "60000/60000 [==============================] - 6s 107us/step - loss: 0.1511 - acc: 0.9570 - val_loss: 0.1575 - val_acc: 0.9531\n"
     ]
    },
    {
     "data": {
      "text/plain": [
       "42"
      ]
     },
     "execution_count": 27,
     "metadata": {},
     "output_type": "execute_result"
    },
    {
     "data": {
      "text/plain": [
       "23"
      ]
     },
     "execution_count": 27,
     "metadata": {},
     "output_type": "execute_result"
    },
    {
     "data": {
      "text/plain": [
       "1"
      ]
     },
     "execution_count": 27,
     "metadata": {},
     "output_type": "execute_result"
    },
    {
     "data": {
      "text/plain": [
       "15"
      ]
     },
     "execution_count": 27,
     "metadata": {},
     "output_type": "execute_result"
    },
    {
     "data": {
      "text/plain": [
       "2"
      ]
     },
     "execution_count": 27,
     "metadata": {},
     "output_type": "execute_result"
    },
    {
     "data": {
      "text/plain": [
       "[<matplotlib.lines.Line2D at 0x2910e594828>]"
      ]
     },
     "execution_count": 27,
     "metadata": {},
     "output_type": "execute_result"
    },
    {
     "data": {
      "text/plain": [
       "[<matplotlib.lines.Line2D at 0x2910e594cc0>]"
      ]
     },
     "execution_count": 27,
     "metadata": {},
     "output_type": "execute_result"
    },
    {
     "data": {
      "text/plain": [
       "Text(0.5,1,'model accuracy')"
      ]
     },
     "execution_count": 27,
     "metadata": {},
     "output_type": "execute_result"
    },
    {
     "data": {
      "text/plain": [
       "Text(0,0.5,'accuracy')"
      ]
     },
     "execution_count": 27,
     "metadata": {},
     "output_type": "execute_result"
    },
    {
     "data": {
      "text/plain": [
       "Text(0.5,0,'epoch')"
      ]
     },
     "execution_count": 27,
     "metadata": {},
     "output_type": "execute_result"
    },
    {
     "data": {
      "text/plain": [
       "<matplotlib.legend.Legend at 0x2910e56dcf8>"
      ]
     },
     "execution_count": 27,
     "metadata": {},
     "output_type": "execute_result"
    },
    {
     "data": {
      "text/plain": [
       "[<matplotlib.lines.Line2D at 0x2910f5dd7f0>]"
      ]
     },
     "execution_count": 27,
     "metadata": {},
     "output_type": "execute_result"
    },
    {
     "data": {
      "text/plain": [
       "[<matplotlib.lines.Line2D at 0x2910f5ddda0>]"
      ]
     },
     "execution_count": 27,
     "metadata": {},
     "output_type": "execute_result"
    },
    {
     "data": {
      "text/plain": [
       "Text(0.5,1,'model loss')"
      ]
     },
     "execution_count": 27,
     "metadata": {},
     "output_type": "execute_result"
    },
    {
     "data": {
      "text/plain": [
       "Text(0,0.5,'loss')"
      ]
     },
     "execution_count": 27,
     "metadata": {},
     "output_type": "execute_result"
    },
    {
     "data": {
      "text/plain": [
       "Text(0.5,0,'epoch')"
      ]
     },
     "execution_count": 27,
     "metadata": {},
     "output_type": "execute_result"
    },
    {
     "data": {
      "text/plain": [
       "<matplotlib.legend.Legend at 0x2910f5dde48>"
      ]
     },
     "execution_count": 27,
     "metadata": {},
     "output_type": "execute_result"
    },
    {
     "name": "stdout",
     "output_type": "stream",
     "text": [
      "Analysis of results\n",
      "              precision    recall  f1-score   support\n",
      "\n",
      "           0       0.96      0.98      0.97       980\n",
      "           1       0.98      0.98      0.98      1135\n",
      "           2       0.96      0.95      0.95      1032\n",
      "           3       0.95      0.94      0.95      1010\n",
      "           4       0.95      0.96      0.96       982\n",
      "           5       0.95      0.94      0.95       892\n",
      "           6       0.94      0.96      0.95       958\n",
      "           7       0.96      0.94      0.95      1028\n",
      "           8       0.93      0.95      0.94       974\n",
      "           9       0.96      0.92      0.94      1009\n",
      "\n",
      "   micro avg       0.95      0.95      0.95     10000\n",
      "   macro avg       0.95      0.95      0.95     10000\n",
      "weighted avg       0.95      0.95      0.95     10000\n",
      "\n",
      "[[ 965    0    1    2    0    3    6    2    1    0]\n",
      " [   0 1113    2    2    1    1    4    2   10    0]\n",
      " [   9    2  976    6    4    1   11    9   12    2]\n",
      " [   2    1    7  953    1   17    1   10   16    2]\n",
      " [   1    0    4    0  945    0   12    2    3   15]\n",
      " [   9    2    0   14    1  838   11    1   12    4]\n",
      " [   8    3    2    0    6   10  924    0    5    0]\n",
      " [   1   10   24    4    5    1    0  968    1   14]\n",
      " [   7    1    2   14    6    4   11    6  922    1]\n",
      " [   7    6    2   11   28    6    1   13    8  927]]\n",
      "Train on 60000 samples, validate on 10000 samples\n",
      "Epoch 1/20\n",
      "60000/60000 [==============================] - 7s 124us/step - loss: 1.4616 - acc: 0.6055 - val_loss: 0.6416 - val_acc: 0.8459\n",
      "Epoch 2/20\n",
      "60000/60000 [==============================] - 5s 91us/step - loss: 0.4987 - acc: 0.8676 - val_loss: 0.3821 - val_acc: 0.8950\n",
      "Epoch 3/20\n",
      "60000/60000 [==============================] - 5s 91us/step - loss: 0.3667 - acc: 0.8975 - val_loss: 0.3237 - val_acc: 0.9079\n",
      "Epoch 4/20\n",
      "60000/60000 [==============================] - 6s 96us/step - loss: 0.3176 - acc: 0.9083 - val_loss: 0.2880 - val_acc: 0.9185\n",
      "Epoch 5/20\n",
      "60000/60000 [==============================] - 5s 87us/step - loss: 0.2881 - acc: 0.9177 - val_loss: 0.2691 - val_acc: 0.9210\n",
      "Epoch 6/20\n",
      "60000/60000 [==============================] - 6s 97us/step - loss: 0.2656 - acc: 0.9233 - val_loss: 0.2459 - val_acc: 0.9291\n",
      "Epoch 7/20\n",
      "60000/60000 [==============================] - 5s 80us/step - loss: 0.2476 - acc: 0.9291 - val_loss: 0.2297 - val_acc: 0.9348\n",
      "Epoch 8/20\n",
      "60000/60000 [==============================] - 4s 67us/step - loss: 0.2324 - acc: 0.9335 - val_loss: 0.2182 - val_acc: 0.9355\n",
      "Epoch 9/20\n",
      "60000/60000 [==============================] - 4s 74us/step - loss: 0.2196 - acc: 0.9368 - val_loss: 0.2071 - val_acc: 0.9391\n",
      "Epoch 10/20\n",
      "60000/60000 [==============================] - 5s 77us/step - loss: 0.2082 - acc: 0.9403 - val_loss: 0.1980 - val_acc: 0.9406\n",
      "Epoch 11/20\n",
      "60000/60000 [==============================] - 5s 81us/step - loss: 0.1979 - acc: 0.9435 - val_loss: 0.1905 - val_acc: 0.9427\n",
      "Epoch 12/20\n",
      "60000/60000 [==============================] - 5s 83us/step - loss: 0.1890 - acc: 0.9461 - val_loss: 0.1813 - val_acc: 0.9455\n",
      "Epoch 13/20\n",
      "60000/60000 [==============================] - 4s 63us/step - loss: 0.1805 - acc: 0.9482 - val_loss: 0.1758 - val_acc: 0.9466\n",
      "Epoch 14/20\n",
      "60000/60000 [==============================] - 4s 73us/step - loss: 0.1728 - acc: 0.9500 - val_loss: 0.1683 - val_acc: 0.9498\n",
      "Epoch 15/20\n",
      "60000/60000 [==============================] - 5s 77us/step - loss: 0.1660 - acc: 0.9521 - val_loss: 0.1624 - val_acc: 0.9513\n",
      "Epoch 16/20\n",
      "60000/60000 [==============================] - 5s 79us/step - loss: 0.1593 - acc: 0.9542 - val_loss: 0.1580 - val_acc: 0.9525\n",
      "Epoch 17/20\n",
      "60000/60000 [==============================] - 5s 87us/step - loss: 0.1537 - acc: 0.9560 - val_loss: 0.1537 - val_acc: 0.9539\n",
      "Epoch 18/20\n",
      "60000/60000 [==============================] - 4s 69us/step - loss: 0.1480 - acc: 0.9571 - val_loss: 0.1474 - val_acc: 0.9556\n",
      "Epoch 19/20\n",
      "60000/60000 [==============================] - 4s 66us/step - loss: 0.1429 - acc: 0.9590 - val_loss: 0.1430 - val_acc: 0.9564\n",
      "Epoch 20/20\n",
      "60000/60000 [==============================] - 4s 66us/step - loss: 0.1382 - acc: 0.9603 - val_loss: 0.1399 - val_acc: 0.9580\n"
     ]
    },
    {
     "data": {
      "text/plain": [
       "42"
      ]
     },
     "execution_count": 27,
     "metadata": {},
     "output_type": "execute_result"
    },
    {
     "data": {
      "text/plain": [
       "23"
      ]
     },
     "execution_count": 27,
     "metadata": {},
     "output_type": "execute_result"
    },
    {
     "data": {
      "text/plain": [
       "1"
      ]
     },
     "execution_count": 27,
     "metadata": {},
     "output_type": "execute_result"
    },
    {
     "data": {
      "text/plain": [
       "14"
      ]
     },
     "execution_count": 27,
     "metadata": {},
     "output_type": "execute_result"
    },
    {
     "data": {
      "text/plain": [
       "2"
      ]
     },
     "execution_count": 27,
     "metadata": {},
     "output_type": "execute_result"
    },
    {
     "data": {
      "text/plain": [
       "[<matplotlib.lines.Line2D at 0x2910f92a0b8>]"
      ]
     },
     "execution_count": 27,
     "metadata": {},
     "output_type": "execute_result"
    },
    {
     "data": {
      "text/plain": [
       "[<matplotlib.lines.Line2D at 0x2910f92a550>]"
      ]
     },
     "execution_count": 27,
     "metadata": {},
     "output_type": "execute_result"
    },
    {
     "data": {
      "text/plain": [
       "Text(0.5,1,'model accuracy')"
      ]
     },
     "execution_count": 27,
     "metadata": {},
     "output_type": "execute_result"
    },
    {
     "data": {
      "text/plain": [
       "Text(0,0.5,'accuracy')"
      ]
     },
     "execution_count": 27,
     "metadata": {},
     "output_type": "execute_result"
    },
    {
     "data": {
      "text/plain": [
       "Text(0.5,0,'epoch')"
      ]
     },
     "execution_count": 27,
     "metadata": {},
     "output_type": "execute_result"
    },
    {
     "data": {
      "text/plain": [
       "<matplotlib.legend.Legend at 0x2910f90ba90>"
      ]
     },
     "execution_count": 27,
     "metadata": {},
     "output_type": "execute_result"
    },
    {
     "data": {
      "text/plain": [
       "[<matplotlib.lines.Line2D at 0x2910f9a1518>]"
      ]
     },
     "execution_count": 27,
     "metadata": {},
     "output_type": "execute_result"
    },
    {
     "data": {
      "text/plain": [
       "[<matplotlib.lines.Line2D at 0x2910f9a1668>]"
      ]
     },
     "execution_count": 27,
     "metadata": {},
     "output_type": "execute_result"
    },
    {
     "data": {
      "text/plain": [
       "Text(0.5,1,'model loss')"
      ]
     },
     "execution_count": 27,
     "metadata": {},
     "output_type": "execute_result"
    },
    {
     "data": {
      "text/plain": [
       "Text(0,0.5,'loss')"
      ]
     },
     "execution_count": 27,
     "metadata": {},
     "output_type": "execute_result"
    },
    {
     "data": {
      "text/plain": [
       "Text(0.5,0,'epoch')"
      ]
     },
     "execution_count": 27,
     "metadata": {},
     "output_type": "execute_result"
    },
    {
     "data": {
      "text/plain": [
       "<matplotlib.legend.Legend at 0x2910f989fd0>"
      ]
     },
     "execution_count": 27,
     "metadata": {},
     "output_type": "execute_result"
    },
    {
     "name": "stdout",
     "output_type": "stream",
     "text": [
      "Analysis of results\n",
      "              precision    recall  f1-score   support\n",
      "\n",
      "           0       0.96      0.99      0.97       980\n",
      "           1       0.98      0.98      0.98      1135\n",
      "           2       0.96      0.95      0.96      1032\n",
      "           3       0.95      0.95      0.95      1010\n",
      "           4       0.95      0.96      0.95       982\n",
      "           5       0.95      0.95      0.95       892\n",
      "           6       0.97      0.95      0.96       958\n",
      "           7       0.95      0.96      0.95      1028\n",
      "           8       0.95      0.95      0.95       974\n",
      "           9       0.95      0.94      0.94      1009\n",
      "\n",
      "   micro avg       0.96      0.96      0.96     10000\n",
      "   macro avg       0.96      0.96      0.96     10000\n",
      "weighted avg       0.96      0.96      0.96     10000\n",
      "\n",
      "[[ 967    0    1    3    0    3    1    4    1    0]\n",
      " [   0 1116    3    2    0    1    3    2    8    0]\n",
      " [   8    1  983    9    7    0    2   11   10    1]\n",
      " [   0    1    9  963    1   10    0   11   10    5]\n",
      " [   1    0    4    0  940    0    6    2    3   26]\n",
      " [   8    1    0   12    2  846    9    1    8    5]\n",
      " [  12    3    1    0   12   13  912    0    5    0]\n",
      " [   2    8   17    4    1    1    0  982    0   13]\n",
      " [   4    2    3   14    5    7    7    6  921    5]\n",
      " [   5    5    1    8   20    5    1   11    3  950]]\n",
      "Train on 60000 samples, validate on 10000 samples\n",
      "Epoch 1/20\n",
      "60000/60000 [==============================] - 6s 101us/step - loss: 1.3901 - acc: 0.6331 - val_loss: 0.6122 - val_acc: 0.8398\n",
      "Epoch 2/20\n",
      "60000/60000 [==============================] - 5s 75us/step - loss: 0.4890 - acc: 0.8687 - val_loss: 0.3891 - val_acc: 0.8919\n",
      "Epoch 3/20\n",
      "60000/60000 [==============================] - 6s 95us/step - loss: 0.3722 - acc: 0.8949 - val_loss: 0.3298 - val_acc: 0.9045\n",
      "Epoch 4/20\n",
      "60000/60000 [==============================] - 6s 96us/step - loss: 0.3255 - acc: 0.9080 - val_loss: 0.2964 - val_acc: 0.9160\n",
      "Epoch 5/20\n",
      "60000/60000 [==============================] - 7s 110us/step - loss: 0.2958 - acc: 0.9157 - val_loss: 0.2725 - val_acc: 0.9218\n",
      "Epoch 6/20\n",
      "60000/60000 [==============================] - 5s 91us/step - loss: 0.2735 - acc: 0.9216 - val_loss: 0.2575 - val_acc: 0.9276\n",
      "Epoch 7/20\n",
      "60000/60000 [==============================] - 5s 85us/step - loss: 0.2563 - acc: 0.9262 - val_loss: 0.2400 - val_acc: 0.9328\n",
      "Epoch 8/20\n",
      "60000/60000 [==============================] - 4s 71us/step - loss: 0.2408 - acc: 0.9312 - val_loss: 0.2297 - val_acc: 0.9349\n",
      "Epoch 9/20\n",
      "60000/60000 [==============================] - 4s 74us/step - loss: 0.2277 - acc: 0.9346 - val_loss: 0.2165 - val_acc: 0.9403\n",
      "Epoch 10/20\n",
      "60000/60000 [==============================] - 5s 82us/step - loss: 0.2158 - acc: 0.9378 - val_loss: 0.2048 - val_acc: 0.9425\n",
      "Epoch 11/20\n",
      "60000/60000 [==============================] - 5s 91us/step - loss: 0.2053 - acc: 0.9410 - val_loss: 0.1982 - val_acc: 0.9435\n",
      "Epoch 12/20\n",
      "60000/60000 [==============================] - 5s 87us/step - loss: 0.1958 - acc: 0.9438 - val_loss: 0.1888 - val_acc: 0.9475\n",
      "Epoch 13/20\n",
      "60000/60000 [==============================] - 6s 101us/step - loss: 0.1866 - acc: 0.9455 - val_loss: 0.1799 - val_acc: 0.9468\n",
      "Epoch 14/20\n",
      "60000/60000 [==============================] - 6s 104us/step - loss: 0.1784 - acc: 0.9489 - val_loss: 0.1746 - val_acc: 0.9501\n",
      "Epoch 15/20\n",
      "60000/60000 [==============================] - 5s 91us/step - loss: 0.1708 - acc: 0.9505 - val_loss: 0.1693 - val_acc: 0.9506\n",
      "Epoch 16/20\n",
      "60000/60000 [==============================] - 6s 98us/step - loss: 0.1638 - acc: 0.9529 - val_loss: 0.1649 - val_acc: 0.9521\n",
      "Epoch 17/20\n",
      "60000/60000 [==============================] - 6s 107us/step - loss: 0.1573 - acc: 0.9549 - val_loss: 0.1576 - val_acc: 0.9556\n",
      "Epoch 18/20\n",
      "60000/60000 [==============================] - 6s 103us/step - loss: 0.1513 - acc: 0.9564 - val_loss: 0.1559 - val_acc: 0.9553\n",
      "Epoch 19/20\n",
      "60000/60000 [==============================] - 5s 91us/step - loss: 0.1458 - acc: 0.9584 - val_loss: 0.1485 - val_acc: 0.9574\n",
      "Epoch 20/20\n",
      "60000/60000 [==============================] - 6s 95us/step - loss: 0.1403 - acc: 0.9595 - val_loss: 0.1422 - val_acc: 0.9590\n"
     ]
    },
    {
     "data": {
      "text/plain": [
       "42"
      ]
     },
     "execution_count": 27,
     "metadata": {},
     "output_type": "execute_result"
    },
    {
     "data": {
      "text/plain": [
       "24"
      ]
     },
     "execution_count": 27,
     "metadata": {},
     "output_type": "execute_result"
    },
    {
     "data": {
      "text/plain": [
       "1"
      ]
     },
     "execution_count": 27,
     "metadata": {},
     "output_type": "execute_result"
    },
    {
     "data": {
      "text/plain": [
       "14"
      ]
     },
     "execution_count": 27,
     "metadata": {},
     "output_type": "execute_result"
    },
    {
     "data": {
      "text/plain": [
       "2"
      ]
     },
     "execution_count": 27,
     "metadata": {},
     "output_type": "execute_result"
    },
    {
     "data": {
      "text/plain": [
       "[<matplotlib.lines.Line2D at 0x2910fccaa58>]"
      ]
     },
     "execution_count": 27,
     "metadata": {},
     "output_type": "execute_result"
    },
    {
     "data": {
      "text/plain": [
       "[<matplotlib.lines.Line2D at 0x2910fccaef0>]"
      ]
     },
     "execution_count": 27,
     "metadata": {},
     "output_type": "execute_result"
    },
    {
     "data": {
      "text/plain": [
       "Text(0.5,1,'model accuracy')"
      ]
     },
     "execution_count": 27,
     "metadata": {},
     "output_type": "execute_result"
    },
    {
     "data": {
      "text/plain": [
       "Text(0,0.5,'accuracy')"
      ]
     },
     "execution_count": 27,
     "metadata": {},
     "output_type": "execute_result"
    },
    {
     "data": {
      "text/plain": [
       "Text(0.5,0,'epoch')"
      ]
     },
     "execution_count": 27,
     "metadata": {},
     "output_type": "execute_result"
    },
    {
     "data": {
      "text/plain": [
       "<matplotlib.legend.Legend at 0x2910fcbb470>"
      ]
     },
     "execution_count": 27,
     "metadata": {},
     "output_type": "execute_result"
    },
    {
     "data": {
      "text/plain": [
       "[<matplotlib.lines.Line2D at 0x2910fd5da20>]"
      ]
     },
     "execution_count": 27,
     "metadata": {},
     "output_type": "execute_result"
    },
    {
     "data": {
      "text/plain": [
       "[<matplotlib.lines.Line2D at 0x2910fd5db70>]"
      ]
     },
     "execution_count": 27,
     "metadata": {},
     "output_type": "execute_result"
    },
    {
     "data": {
      "text/plain": [
       "Text(0.5,1,'model loss')"
      ]
     },
     "execution_count": 27,
     "metadata": {},
     "output_type": "execute_result"
    },
    {
     "data": {
      "text/plain": [
       "Text(0,0.5,'loss')"
      ]
     },
     "execution_count": 27,
     "metadata": {},
     "output_type": "execute_result"
    },
    {
     "data": {
      "text/plain": [
       "Text(0.5,0,'epoch')"
      ]
     },
     "execution_count": 27,
     "metadata": {},
     "output_type": "execute_result"
    },
    {
     "data": {
      "text/plain": [
       "<matplotlib.legend.Legend at 0x2910fd4c518>"
      ]
     },
     "execution_count": 27,
     "metadata": {},
     "output_type": "execute_result"
    },
    {
     "name": "stdout",
     "output_type": "stream",
     "text": [
      "Analysis of results\n",
      "              precision    recall  f1-score   support\n",
      "\n",
      "           0       0.97      0.99      0.98       980\n",
      "           1       0.98      0.98      0.98      1135\n",
      "           2       0.96      0.96      0.96      1032\n",
      "           3       0.94      0.97      0.95      1010\n",
      "           4       0.95      0.96      0.96       982\n",
      "           5       0.96      0.93      0.95       892\n",
      "           6       0.96      0.96      0.96       958\n",
      "           7       0.96      0.96      0.96      1028\n",
      "           8       0.96      0.94      0.95       974\n",
      "           9       0.95      0.94      0.95      1009\n",
      "\n",
      "   micro avg       0.96      0.96      0.96     10000\n",
      "   macro avg       0.96      0.96      0.96     10000\n",
      "weighted avg       0.96      0.96      0.96     10000\n",
      "\n",
      "[[ 966    0    0    3    0    6    2    2    1    0]\n",
      " [   0 1116    2    2    0    1    3    3    8    0]\n",
      " [   5    3  988    5    9    1    3   12    5    1]\n",
      " [   0    0    8  977    0    4    1    9    5    6]\n",
      " [   1    1    4    0  945    0    7    2    2   20]\n",
      " [   9    1    1   19    5  830    9    2    9    7]\n",
      " [  10    3    4    1   10    9  918    0    3    0]\n",
      " [   0    7   17    2    2    1    0  984    2   13]\n",
      " [   3    2    4   18    6    6    9    6  916    4]\n",
      " [   7    6    2   12   17    3    1    9    2  950]]\n",
      "Train on 60000 samples, validate on 10000 samples\n",
      "Epoch 1/20\n",
      "60000/60000 [==============================] - 8s 128us/step - loss: 1.4661 - acc: 0.6167 - val_loss: 0.6402 - val_acc: 0.8377\n",
      "Epoch 2/20\n",
      "60000/60000 [==============================] - 6s 92us/step - loss: 0.5009 - acc: 0.8655 - val_loss: 0.3944 - val_acc: 0.8891\n",
      "Epoch 3/20\n",
      "60000/60000 [==============================] - 5s 86us/step - loss: 0.3714 - acc: 0.8952 - val_loss: 0.3277 - val_acc: 0.9062\n",
      "Epoch 4/20\n",
      "60000/60000 [==============================] - 5s 80us/step - loss: 0.3205 - acc: 0.9081 - val_loss: 0.2883 - val_acc: 0.9164\n",
      "Epoch 5/20\n",
      "60000/60000 [==============================] - 7s 116us/step - loss: 0.2890 - acc: 0.9180 - val_loss: 0.2654 - val_acc: 0.9229\n",
      "Epoch 6/20\n",
      "60000/60000 [==============================] - 7s 111us/step - loss: 0.2654 - acc: 0.9231 - val_loss: 0.2470 - val_acc: 0.9282\n",
      "Epoch 7/20\n",
      "60000/60000 [==============================] - 7s 109us/step - loss: 0.2471 - acc: 0.9289 - val_loss: 0.2371 - val_acc: 0.9315\n",
      "Epoch 8/20\n",
      "60000/60000 [==============================] - 7s 109us/step - loss: 0.2312 - acc: 0.9335 - val_loss: 0.2227 - val_acc: 0.9374\n",
      "Epoch 9/20\n",
      "60000/60000 [==============================] - 6s 105us/step - loss: 0.2173 - acc: 0.9382 - val_loss: 0.2088 - val_acc: 0.9404\n",
      "Epoch 10/20\n",
      "60000/60000 [==============================] - 7s 111us/step - loss: 0.2054 - acc: 0.9411 - val_loss: 0.1985 - val_acc: 0.9417\n",
      "Epoch 11/20\n",
      "60000/60000 [==============================] - 7s 111us/step - loss: 0.1944 - acc: 0.9439 - val_loss: 0.1888 - val_acc: 0.9459\n",
      "Epoch 12/20\n",
      "60000/60000 [==============================] - 6s 105us/step - loss: 0.1851 - acc: 0.9464 - val_loss: 0.1801 - val_acc: 0.9475\n",
      "Epoch 13/20\n",
      "60000/60000 [==============================] - 7s 118us/step - loss: 0.1764 - acc: 0.9487 - val_loss: 0.1736 - val_acc: 0.9483\n",
      "Epoch 14/20\n",
      "60000/60000 [==============================] - 7s 113us/step - loss: 0.1680 - acc: 0.9514 - val_loss: 0.1690 - val_acc: 0.9495\n",
      "Epoch 15/20\n",
      "60000/60000 [==============================] - 5s 88us/step - loss: 0.1607 - acc: 0.9536 - val_loss: 0.1656 - val_acc: 0.9522\n",
      "Epoch 16/20\n",
      "60000/60000 [==============================] - 5s 83us/step - loss: 0.1540 - acc: 0.9558 - val_loss: 0.1559 - val_acc: 0.9543\n",
      "Epoch 17/20\n",
      "60000/60000 [==============================] - 5s 83us/step - loss: 0.1478 - acc: 0.9574 - val_loss: 0.1508 - val_acc: 0.9564\n",
      "Epoch 18/20\n",
      "60000/60000 [==============================] - 5s 88us/step - loss: 0.1420 - acc: 0.9590 - val_loss: 0.1460 - val_acc: 0.9574\n",
      "Epoch 19/20\n",
      "60000/60000 [==============================] - 7s 113us/step - loss: 0.1367 - acc: 0.9611 - val_loss: 0.1442 - val_acc: 0.9575\n",
      "Epoch 20/20\n",
      "60000/60000 [==============================] - 6s 102us/step - loss: 0.1317 - acc: 0.9625 - val_loss: 0.1412 - val_acc: 0.9582\n"
     ]
    },
    {
     "data": {
      "text/plain": [
       "42"
      ]
     },
     "execution_count": 27,
     "metadata": {},
     "output_type": "execute_result"
    },
    {
     "data": {
      "text/plain": [
       "24"
      ]
     },
     "execution_count": 27,
     "metadata": {},
     "output_type": "execute_result"
    },
    {
     "data": {
      "text/plain": [
       "1"
      ]
     },
     "execution_count": 27,
     "metadata": {},
     "output_type": "execute_result"
    },
    {
     "data": {
      "text/plain": [
       "15"
      ]
     },
     "execution_count": 27,
     "metadata": {},
     "output_type": "execute_result"
    },
    {
     "data": {
      "text/plain": [
       "2"
      ]
     },
     "execution_count": 27,
     "metadata": {},
     "output_type": "execute_result"
    },
    {
     "data": {
      "text/plain": [
       "[<matplotlib.lines.Line2D at 0x291100a92e8>]"
      ]
     },
     "execution_count": 27,
     "metadata": {},
     "output_type": "execute_result"
    },
    {
     "data": {
      "text/plain": [
       "[<matplotlib.lines.Line2D at 0x291100a9780>]"
      ]
     },
     "execution_count": 27,
     "metadata": {},
     "output_type": "execute_result"
    },
    {
     "data": {
      "text/plain": [
       "Text(0.5,1,'model accuracy')"
      ]
     },
     "execution_count": 27,
     "metadata": {},
     "output_type": "execute_result"
    },
    {
     "data": {
      "text/plain": [
       "Text(0,0.5,'accuracy')"
      ]
     },
     "execution_count": 27,
     "metadata": {},
     "output_type": "execute_result"
    },
    {
     "data": {
      "text/plain": [
       "Text(0.5,0,'epoch')"
      ]
     },
     "execution_count": 27,
     "metadata": {},
     "output_type": "execute_result"
    },
    {
     "data": {
      "text/plain": [
       "<matplotlib.legend.Legend at 0x291100a9c18>"
      ]
     },
     "execution_count": 27,
     "metadata": {},
     "output_type": "execute_result"
    },
    {
     "data": {
      "text/plain": [
       "[<matplotlib.lines.Line2D at 0x2911011e748>]"
      ]
     },
     "execution_count": 27,
     "metadata": {},
     "output_type": "execute_result"
    },
    {
     "data": {
      "text/plain": [
       "[<matplotlib.lines.Line2D at 0x2911011e898>]"
      ]
     },
     "execution_count": 27,
     "metadata": {},
     "output_type": "execute_result"
    },
    {
     "data": {
      "text/plain": [
       "Text(0.5,1,'model loss')"
      ]
     },
     "execution_count": 27,
     "metadata": {},
     "output_type": "execute_result"
    },
    {
     "data": {
      "text/plain": [
       "Text(0,0.5,'loss')"
      ]
     },
     "execution_count": 27,
     "metadata": {},
     "output_type": "execute_result"
    },
    {
     "data": {
      "text/plain": [
       "Text(0.5,0,'epoch')"
      ]
     },
     "execution_count": 27,
     "metadata": {},
     "output_type": "execute_result"
    },
    {
     "data": {
      "text/plain": [
       "<matplotlib.legend.Legend at 0x29110126208>"
      ]
     },
     "execution_count": 27,
     "metadata": {},
     "output_type": "execute_result"
    },
    {
     "name": "stdout",
     "output_type": "stream",
     "text": [
      "Analysis of results\n",
      "              precision    recall  f1-score   support\n",
      "\n",
      "           0       0.96      0.98      0.97       980\n",
      "           1       0.98      0.98      0.98      1135\n",
      "           2       0.97      0.95      0.96      1032\n",
      "           3       0.94      0.96      0.95      1010\n",
      "           4       0.94      0.97      0.96       982\n",
      "           5       0.96      0.94      0.95       892\n",
      "           6       0.96      0.96      0.96       958\n",
      "           7       0.96      0.95      0.96      1028\n",
      "           8       0.93      0.95      0.94       974\n",
      "           9       0.97      0.93      0.95      1009\n",
      "\n",
      "   micro avg       0.96      0.96      0.96     10000\n",
      "   macro avg       0.96      0.96      0.96     10000\n",
      "weighted avg       0.96      0.96      0.96     10000\n",
      "\n",
      "[[ 964    0    0    1    1    3    5    3    3    0]\n",
      " [   0 1109    2    2    1    1    5    2   13    0]\n",
      " [   8    1  982    7    7    1    6    8   12    0]\n",
      " [   0    0    3  969    0   12    1    9   16    0]\n",
      " [   1    0    5    0  954    0    6    2    2   12]\n",
      " [   8    1    0   15    3  842    7    0   11    5]\n",
      " [   8    3    1    0   10    8  921    0    7    0]\n",
      " [   1   10   14   10    4    2    0  977    2    8]\n",
      " [   4    1    2   13    6    7    7    6  926    2]\n",
      " [   7    7    1   13   25    2    1    7    8  938]]\n",
      "Train on 60000 samples, validate on 10000 samples\n",
      "Epoch 1/20\n",
      "60000/60000 [==============================] - 9s 153us/step - loss: 1.3895 - acc: 0.6332 - val_loss: 0.5996 - val_acc: 0.8455\n",
      "Epoch 2/20\n",
      "60000/60000 [==============================] - 7s 118us/step - loss: 0.4761 - acc: 0.8702 - val_loss: 0.3799 - val_acc: 0.8915\n",
      "Epoch 3/20\n",
      "60000/60000 [==============================] - 6s 105us/step - loss: 0.3611 - acc: 0.8962 - val_loss: 0.3194 - val_acc: 0.9080\n",
      "Epoch 4/20\n",
      "60000/60000 [==============================] - 8s 127us/step - loss: 0.3151 - acc: 0.9087 - val_loss: 0.2897 - val_acc: 0.9143\n",
      "Epoch 5/20\n",
      "60000/60000 [==============================] - 7s 115us/step - loss: 0.2847 - acc: 0.9175 - val_loss: 0.2636 - val_acc: 0.9221\n",
      "Epoch 6/20\n",
      "60000/60000 [==============================] - 5s 83us/step - loss: 0.2625 - acc: 0.9239 - val_loss: 0.2483 - val_acc: 0.9260\n",
      "Epoch 7/20\n",
      "60000/60000 [==============================] - 5s 86us/step - loss: 0.2442 - acc: 0.9293 - val_loss: 0.2289 - val_acc: 0.9332\n",
      "Epoch 8/20\n",
      "60000/60000 [==============================] - 6s 98us/step - loss: 0.2290 - acc: 0.9338 - val_loss: 0.2155 - val_acc: 0.9358\n",
      "Epoch 9/20\n",
      "60000/60000 [==============================] - 7s 114us/step - loss: 0.2155 - acc: 0.9372 - val_loss: 0.2064 - val_acc: 0.9394\n",
      "Epoch 10/20\n",
      "60000/60000 [==============================] - 6s 93us/step - loss: 0.2037 - acc: 0.9412 - val_loss: 0.1948 - val_acc: 0.9414\n",
      "Epoch 11/20\n",
      "60000/60000 [==============================] - 6s 98us/step - loss: 0.1934 - acc: 0.9446 - val_loss: 0.1874 - val_acc: 0.9447\n",
      "Epoch 12/20\n",
      "60000/60000 [==============================] - 5s 89us/step - loss: 0.1841 - acc: 0.9478 - val_loss: 0.1776 - val_acc: 0.9468\n",
      "Epoch 13/20\n",
      "60000/60000 [==============================] - 7s 112us/step - loss: 0.1758 - acc: 0.9499 - val_loss: 0.1706 - val_acc: 0.9500\n",
      "Epoch 14/20\n",
      "60000/60000 [==============================] - 8s 134us/step - loss: 0.1679 - acc: 0.9523 - val_loss: 0.1650 - val_acc: 0.9502\n",
      "Epoch 15/20\n",
      "60000/60000 [==============================] - 7s 120us/step - loss: 0.1611 - acc: 0.9538 - val_loss: 0.1611 - val_acc: 0.9524\n",
      "Epoch 16/20\n",
      "60000/60000 [==============================] - 6s 101us/step - loss: 0.1547 - acc: 0.9562 - val_loss: 0.1540 - val_acc: 0.9543\n",
      "Epoch 17/20\n",
      "60000/60000 [==============================] - 7s 123us/step - loss: 0.1487 - acc: 0.9577 - val_loss: 0.1497 - val_acc: 0.9554\n",
      "Epoch 18/20\n",
      "60000/60000 [==============================] - 5s 81us/step - loss: 0.1433 - acc: 0.9591 - val_loss: 0.1451 - val_acc: 0.9561\n",
      "Epoch 19/20\n",
      "60000/60000 [==============================] - 5s 85us/step - loss: 0.1381 - acc: 0.9610 - val_loss: 0.1401 - val_acc: 0.9570\n",
      "Epoch 20/20\n",
      "60000/60000 [==============================] - 5s 85us/step - loss: 0.1332 - acc: 0.9623 - val_loss: 0.1348 - val_acc: 0.9595\n"
     ]
    },
    {
     "data": {
      "text/plain": [
       "42"
      ]
     },
     "execution_count": 27,
     "metadata": {},
     "output_type": "execute_result"
    },
    {
     "data": {
      "text/plain": [
       "24"
      ]
     },
     "execution_count": 27,
     "metadata": {},
     "output_type": "execute_result"
    },
    {
     "data": {
      "text/plain": [
       "1"
      ]
     },
     "execution_count": 27,
     "metadata": {},
     "output_type": "execute_result"
    },
    {
     "data": {
      "text/plain": [
       "15"
      ]
     },
     "execution_count": 27,
     "metadata": {},
     "output_type": "execute_result"
    },
    {
     "data": {
      "text/plain": [
       "2"
      ]
     },
     "execution_count": 27,
     "metadata": {},
     "output_type": "execute_result"
    },
    {
     "data": {
      "text/plain": [
       "[<matplotlib.lines.Line2D at 0x2911046f048>]"
      ]
     },
     "execution_count": 27,
     "metadata": {},
     "output_type": "execute_result"
    },
    {
     "data": {
      "text/plain": [
       "[<matplotlib.lines.Line2D at 0x2911046f4e0>]"
      ]
     },
     "execution_count": 27,
     "metadata": {},
     "output_type": "execute_result"
    },
    {
     "data": {
      "text/plain": [
       "Text(0.5,1,'model accuracy')"
      ]
     },
     "execution_count": 27,
     "metadata": {},
     "output_type": "execute_result"
    },
    {
     "data": {
      "text/plain": [
       "Text(0,0.5,'accuracy')"
      ]
     },
     "execution_count": 27,
     "metadata": {},
     "output_type": "execute_result"
    },
    {
     "data": {
      "text/plain": [
       "Text(0.5,0,'epoch')"
      ]
     },
     "execution_count": 27,
     "metadata": {},
     "output_type": "execute_result"
    },
    {
     "data": {
      "text/plain": [
       "<matplotlib.legend.Legend at 0x2911044ca20>"
      ]
     },
     "execution_count": 27,
     "metadata": {},
     "output_type": "execute_result"
    },
    {
     "data": {
      "text/plain": [
       "[<matplotlib.lines.Line2D at 0x291104d7fd0>]"
      ]
     },
     "execution_count": 27,
     "metadata": {},
     "output_type": "execute_result"
    },
    {
     "data": {
      "text/plain": [
       "[<matplotlib.lines.Line2D at 0x291104e1160>]"
      ]
     },
     "execution_count": 27,
     "metadata": {},
     "output_type": "execute_result"
    },
    {
     "data": {
      "text/plain": [
       "Text(0.5,1,'model loss')"
      ]
     },
     "execution_count": 27,
     "metadata": {},
     "output_type": "execute_result"
    },
    {
     "data": {
      "text/plain": [
       "Text(0,0.5,'loss')"
      ]
     },
     "execution_count": 27,
     "metadata": {},
     "output_type": "execute_result"
    },
    {
     "data": {
      "text/plain": [
       "Text(0.5,0,'epoch')"
      ]
     },
     "execution_count": 27,
     "metadata": {},
     "output_type": "execute_result"
    },
    {
     "data": {
      "text/plain": [
       "<matplotlib.legend.Legend at 0x291104e1ac8>"
      ]
     },
     "execution_count": 27,
     "metadata": {},
     "output_type": "execute_result"
    },
    {
     "name": "stdout",
     "output_type": "stream",
     "text": [
      "Analysis of results\n",
      "              precision    recall  f1-score   support\n",
      "\n",
      "           0       0.97      0.98      0.97       980\n",
      "           1       0.97      0.99      0.98      1135\n",
      "           2       0.96      0.96      0.96      1032\n",
      "           3       0.95      0.96      0.96      1010\n",
      "           4       0.96      0.95      0.96       982\n",
      "           5       0.97      0.95      0.96       892\n",
      "           6       0.95      0.97      0.96       958\n",
      "           7       0.97      0.95      0.96      1028\n",
      "           8       0.95      0.95      0.95       974\n",
      "           9       0.95      0.94      0.94      1009\n",
      "\n",
      "   micro avg       0.96      0.96      0.96     10000\n",
      "   macro avg       0.96      0.96      0.96     10000\n",
      "weighted avg       0.96      0.96      0.96     10000\n",
      "\n",
      "[[ 963    0    0    1    0    3    8    1    3    1]\n",
      " [   0 1119    3    1    0    1    5    2    4    0]\n",
      " [   7    3  988    6    2    0    9    8    8    1]\n",
      " [   0    2   10  969    1    7    0    9    9    3]\n",
      " [   1    0    5    0  937    0   10    2    2   25]\n",
      " [   9    2    0   11    1  843   11    0   11    4]\n",
      " [   7    3    0    0    8    8  928    0    4    0]\n",
      " [   2    9   15    5    3    2    0  976    2   14]\n",
      " [   3    2    3   16    4    5   10    5  921    5]\n",
      " [   5    8    1    9   20    3    1    7    4  951]]\n",
      "Train on 60000 samples, validate on 10000 samples\n",
      "Epoch 1/20\n",
      "60000/60000 [==============================] - 8s 140us/step - loss: 1.4527 - acc: 0.6341 - val_loss: 0.6302 - val_acc: 0.8460\n",
      "Epoch 2/20\n",
      "60000/60000 [==============================] - 6s 94us/step - loss: 0.4885 - acc: 0.8687 - val_loss: 0.3837 - val_acc: 0.8926\n",
      "Epoch 3/20\n",
      "60000/60000 [==============================] - 6s 97us/step - loss: 0.3659 - acc: 0.8956 - val_loss: 0.3313 - val_acc: 0.9029\n",
      "Epoch 4/20\n",
      "60000/60000 [==============================] - 5s 90us/step - loss: 0.3205 - acc: 0.9081 - val_loss: 0.2949 - val_acc: 0.9138\n",
      "Epoch 5/20\n",
      "60000/60000 [==============================] - 5s 83us/step - loss: 0.2928 - acc: 0.9160 - val_loss: 0.2727 - val_acc: 0.9217\n",
      "Epoch 6/20\n",
      "60000/60000 [==============================] - 5s 80us/step - loss: 0.2728 - acc: 0.9217 - val_loss: 0.2520 - val_acc: 0.9268\n",
      "Epoch 7/20\n",
      "60000/60000 [==============================] - 5s 82us/step - loss: 0.2556 - acc: 0.9266 - val_loss: 0.2450 - val_acc: 0.9302\n",
      "Epoch 8/20\n",
      "60000/60000 [==============================] - 5s 81us/step - loss: 0.2417 - acc: 0.9304 - val_loss: 0.2266 - val_acc: 0.9355\n",
      "Epoch 9/20\n",
      "60000/60000 [==============================] - 5s 91us/step - loss: 0.2287 - acc: 0.9333 - val_loss: 0.2183 - val_acc: 0.9353\n",
      "Epoch 10/20\n",
      "60000/60000 [==============================] - 7s 110us/step - loss: 0.2170 - acc: 0.9371 - val_loss: 0.2058 - val_acc: 0.9406\n",
      "Epoch 11/20\n",
      "60000/60000 [==============================] - 7s 116us/step - loss: 0.2061 - acc: 0.9405 - val_loss: 0.1951 - val_acc: 0.9427\n",
      "Epoch 12/20\n",
      "60000/60000 [==============================] - 6s 101us/step - loss: 0.1962 - acc: 0.9432 - val_loss: 0.1924 - val_acc: 0.9435\n",
      "Epoch 13/20\n",
      "60000/60000 [==============================] - 5s 78us/step - loss: 0.1868 - acc: 0.9453 - val_loss: 0.1837 - val_acc: 0.9444\n",
      "Epoch 14/20\n",
      "60000/60000 [==============================] - 5s 76us/step - loss: 0.1789 - acc: 0.9481 - val_loss: 0.1724 - val_acc: 0.9496\n",
      "Epoch 15/20\n",
      "60000/60000 [==============================] - 5s 76us/step - loss: 0.1707 - acc: 0.9509 - val_loss: 0.1719 - val_acc: 0.9478\n",
      "Epoch 16/20\n",
      "60000/60000 [==============================] - 5s 76us/step - loss: 0.1638 - acc: 0.9522 - val_loss: 0.1594 - val_acc: 0.9528\n",
      "Epoch 17/20\n",
      "60000/60000 [==============================] - 5s 77us/step - loss: 0.1570 - acc: 0.9543 - val_loss: 0.1543 - val_acc: 0.9536\n",
      "Epoch 18/20\n",
      "60000/60000 [==============================] - 5s 79us/step - loss: 0.1507 - acc: 0.9566 - val_loss: 0.1488 - val_acc: 0.9555\n",
      "Epoch 19/20\n",
      "60000/60000 [==============================] - 5s 79us/step - loss: 0.1451 - acc: 0.9586 - val_loss: 0.1427 - val_acc: 0.9575\n",
      "Epoch 20/20\n",
      "60000/60000 [==============================] - 5s 78us/step - loss: 0.1399 - acc: 0.9595 - val_loss: 0.1392 - val_acc: 0.9586\n"
     ]
    },
    {
     "data": {
      "text/plain": [
       "42"
      ]
     },
     "execution_count": 27,
     "metadata": {},
     "output_type": "execute_result"
    },
    {
     "data": {
      "text/plain": [
       "24"
      ]
     },
     "execution_count": 27,
     "metadata": {},
     "output_type": "execute_result"
    },
    {
     "data": {
      "text/plain": [
       "1"
      ]
     },
     "execution_count": 27,
     "metadata": {},
     "output_type": "execute_result"
    },
    {
     "data": {
      "text/plain": [
       "15"
      ]
     },
     "execution_count": 27,
     "metadata": {},
     "output_type": "execute_result"
    },
    {
     "data": {
      "text/plain": [
       "2"
      ]
     },
     "execution_count": 27,
     "metadata": {},
     "output_type": "execute_result"
    },
    {
     "data": {
      "text/plain": [
       "[<matplotlib.lines.Line2D at 0x29110821898>]"
      ]
     },
     "execution_count": 27,
     "metadata": {},
     "output_type": "execute_result"
    },
    {
     "data": {
      "text/plain": [
       "[<matplotlib.lines.Line2D at 0x29110821d30>]"
      ]
     },
     "execution_count": 27,
     "metadata": {},
     "output_type": "execute_result"
    },
    {
     "data": {
      "text/plain": [
       "Text(0.5,1,'model accuracy')"
      ]
     },
     "execution_count": 27,
     "metadata": {},
     "output_type": "execute_result"
    },
    {
     "data": {
      "text/plain": [
       "Text(0,0.5,'accuracy')"
      ]
     },
     "execution_count": 27,
     "metadata": {},
     "output_type": "execute_result"
    },
    {
     "data": {
      "text/plain": [
       "Text(0.5,0,'epoch')"
      ]
     },
     "execution_count": 27,
     "metadata": {},
     "output_type": "execute_result"
    },
    {
     "data": {
      "text/plain": [
       "<matplotlib.legend.Legend at 0x291108042b0>"
      ]
     },
     "execution_count": 27,
     "metadata": {},
     "output_type": "execute_result"
    },
    {
     "data": {
      "text/plain": [
       "[<matplotlib.lines.Line2D at 0x2911eb9c860>]"
      ]
     },
     "execution_count": 27,
     "metadata": {},
     "output_type": "execute_result"
    },
    {
     "data": {
      "text/plain": [
       "[<matplotlib.lines.Line2D at 0x2911eb9c9b0>]"
      ]
     },
     "execution_count": 27,
     "metadata": {},
     "output_type": "execute_result"
    },
    {
     "data": {
      "text/plain": [
       "Text(0.5,1,'model loss')"
      ]
     },
     "execution_count": 27,
     "metadata": {},
     "output_type": "execute_result"
    },
    {
     "data": {
      "text/plain": [
       "Text(0,0.5,'loss')"
      ]
     },
     "execution_count": 27,
     "metadata": {},
     "output_type": "execute_result"
    },
    {
     "data": {
      "text/plain": [
       "Text(0.5,0,'epoch')"
      ]
     },
     "execution_count": 27,
     "metadata": {},
     "output_type": "execute_result"
    },
    {
     "data": {
      "text/plain": [
       "<matplotlib.legend.Legend at 0x2911eb8c278>"
      ]
     },
     "execution_count": 27,
     "metadata": {},
     "output_type": "execute_result"
    },
    {
     "name": "stdout",
     "output_type": "stream",
     "text": [
      "Analysis of results\n",
      "              precision    recall  f1-score   support\n",
      "\n",
      "           0       0.96      0.98      0.97       980\n",
      "           1       0.98      0.98      0.98      1135\n",
      "           2       0.96      0.95      0.96      1032\n",
      "           3       0.95      0.95      0.95      1010\n",
      "           4       0.95      0.96      0.96       982\n",
      "           5       0.96      0.93      0.95       892\n",
      "           6       0.96      0.96      0.96       958\n",
      "           7       0.95      0.96      0.96      1028\n",
      "           8       0.95      0.95      0.95       974\n",
      "           9       0.96      0.94      0.95      1009\n",
      "\n",
      "   micro avg       0.96      0.96      0.96     10000\n",
      "   macro avg       0.96      0.96      0.96     10000\n",
      "weighted avg       0.96      0.96      0.96     10000\n",
      "\n",
      "[[ 965    0    1    2    1    3    5    1    1    1]\n",
      " [   0 1114    3    2    0    1    3    3    9    0]\n",
      " [   7    1  985    6    8    1    5   10    8    1]\n",
      " [   1    2   12  960    0    8    0   14    9    4]\n",
      " [   1    0    6    0  945    0    7    2    3   18]\n",
      " [  10    2    1   18    2  834   10    0   10    5]\n",
      " [   8    3    2    0    8   10  924    0    3    0]\n",
      " [   0    8   14    4    2    1    0  988    1   10]\n",
      " [   4    1    2   12    6    4    7    9  927    2]\n",
      " [   5    7    0    9   21    5    1   12    5  944]]\n",
      "Train on 60000 samples, validate on 10000 samples\n",
      "Epoch 1/20\n",
      "60000/60000 [==============================] - 6s 108us/step - loss: 1.3854 - acc: 0.6526 - val_loss: 0.5856 - val_acc: 0.8498\n",
      "Epoch 2/20\n",
      "60000/60000 [==============================] - 5s 83us/step - loss: 0.4698 - acc: 0.8710 - val_loss: 0.3786 - val_acc: 0.8898\n",
      "Epoch 3/20\n",
      "60000/60000 [==============================] - 5s 84us/step - loss: 0.3595 - acc: 0.8970 - val_loss: 0.3190 - val_acc: 0.9068\n",
      "Epoch 4/20\n",
      "60000/60000 [==============================] - 5s 85us/step - loss: 0.3145 - acc: 0.9097 - val_loss: 0.2871 - val_acc: 0.9161\n",
      "Epoch 5/20\n",
      "60000/60000 [==============================] - 6s 106us/step - loss: 0.2850 - acc: 0.9176 - val_loss: 0.2652 - val_acc: 0.9234\n",
      "Epoch 6/20\n",
      "60000/60000 [==============================] - 7s 108us/step - loss: 0.2628 - acc: 0.9241 - val_loss: 0.2444 - val_acc: 0.9286\n",
      "Epoch 7/20\n",
      "60000/60000 [==============================] - 7s 115us/step - loss: 0.2445 - acc: 0.9291 - val_loss: 0.2293 - val_acc: 0.9347\n",
      "Epoch 8/20\n",
      "60000/60000 [==============================] - 9s 146us/step - loss: 0.2293 - acc: 0.9327 - val_loss: 0.2145 - val_acc: 0.9375\n",
      "Epoch 9/20\n",
      "60000/60000 [==============================] - 7s 125us/step - loss: 0.2160 - acc: 0.9376 - val_loss: 0.2029 - val_acc: 0.9397\n",
      "Epoch 10/20\n",
      "60000/60000 [==============================] - 8s 132us/step - loss: 0.2044 - acc: 0.9409 - val_loss: 0.1946 - val_acc: 0.9433\n",
      "Epoch 11/20\n",
      "60000/60000 [==============================] - 6s 94us/step - loss: 0.1942 - acc: 0.9443 - val_loss: 0.1860 - val_acc: 0.9458\n",
      "Epoch 12/20\n",
      "60000/60000 [==============================] - 6s 98us/step - loss: 0.1848 - acc: 0.9474 - val_loss: 0.1799 - val_acc: 0.9464\n",
      "Epoch 13/20\n",
      "60000/60000 [==============================] - 5s 91us/step - loss: 0.1767 - acc: 0.9491 - val_loss: 0.1704 - val_acc: 0.9492\n",
      "Epoch 14/20\n",
      "60000/60000 [==============================] - 5s 84us/step - loss: 0.1686 - acc: 0.9513 - val_loss: 0.1667 - val_acc: 0.9492\n",
      "Epoch 15/20\n",
      "60000/60000 [==============================] - 5s 85us/step - loss: 0.1619 - acc: 0.9531 - val_loss: 0.1579 - val_acc: 0.9530\n",
      "Epoch 16/20\n",
      "60000/60000 [==============================] - 5s 85us/step - loss: 0.1551 - acc: 0.9551 - val_loss: 0.1540 - val_acc: 0.9547\n",
      "Epoch 17/20\n",
      "60000/60000 [==============================] - 5s 84us/step - loss: 0.1489 - acc: 0.9570 - val_loss: 0.1490 - val_acc: 0.9551\n",
      "Epoch 18/20\n",
      "60000/60000 [==============================] - 5s 85us/step - loss: 0.1435 - acc: 0.9585 - val_loss: 0.1441 - val_acc: 0.9563\n",
      "Epoch 19/20\n",
      "60000/60000 [==============================] - 5s 82us/step - loss: 0.1380 - acc: 0.9602 - val_loss: 0.1405 - val_acc: 0.9579\n",
      "Epoch 20/20\n",
      "60000/60000 [==============================] - 5s 85us/step - loss: 0.1330 - acc: 0.9612 - val_loss: 0.1365 - val_acc: 0.9591\n"
     ]
    },
    {
     "data": {
      "text/plain": [
       "42"
      ]
     },
     "execution_count": 27,
     "metadata": {},
     "output_type": "execute_result"
    },
    {
     "data": {
      "text/plain": [
       "24"
      ]
     },
     "execution_count": 27,
     "metadata": {},
     "output_type": "execute_result"
    },
    {
     "data": {
      "text/plain": [
       "1"
      ]
     },
     "execution_count": 27,
     "metadata": {},
     "output_type": "execute_result"
    },
    {
     "data": {
      "text/plain": [
       "15"
      ]
     },
     "execution_count": 27,
     "metadata": {},
     "output_type": "execute_result"
    },
    {
     "data": {
      "text/plain": [
       "2"
      ]
     },
     "execution_count": 27,
     "metadata": {},
     "output_type": "execute_result"
    },
    {
     "data": {
      "text/plain": [
       "[<matplotlib.lines.Line2D at 0x2911eee8128>]"
      ]
     },
     "execution_count": 27,
     "metadata": {},
     "output_type": "execute_result"
    },
    {
     "data": {
      "text/plain": [
       "[<matplotlib.lines.Line2D at 0x2911eee85c0>]"
      ]
     },
     "execution_count": 27,
     "metadata": {},
     "output_type": "execute_result"
    },
    {
     "data": {
      "text/plain": [
       "Text(0.5,1,'model accuracy')"
      ]
     },
     "execution_count": 27,
     "metadata": {},
     "output_type": "execute_result"
    },
    {
     "data": {
      "text/plain": [
       "Text(0,0.5,'accuracy')"
      ]
     },
     "execution_count": 27,
     "metadata": {},
     "output_type": "execute_result"
    },
    {
     "data": {
      "text/plain": [
       "Text(0.5,0,'epoch')"
      ]
     },
     "execution_count": 27,
     "metadata": {},
     "output_type": "execute_result"
    },
    {
     "data": {
      "text/plain": [
       "<matplotlib.legend.Legend at 0x2911eee8b70>"
      ]
     },
     "execution_count": 27,
     "metadata": {},
     "output_type": "execute_result"
    },
    {
     "data": {
      "text/plain": [
       "[<matplotlib.lines.Line2D at 0x2911ff2f0f0>]"
      ]
     },
     "execution_count": 27,
     "metadata": {},
     "output_type": "execute_result"
    },
    {
     "data": {
      "text/plain": [
       "[<matplotlib.lines.Line2D at 0x2911ff2f240>]"
      ]
     },
     "execution_count": 27,
     "metadata": {},
     "output_type": "execute_result"
    },
    {
     "data": {
      "text/plain": [
       "Text(0.5,1,'model loss')"
      ]
     },
     "execution_count": 27,
     "metadata": {},
     "output_type": "execute_result"
    },
    {
     "data": {
      "text/plain": [
       "Text(0,0.5,'loss')"
      ]
     },
     "execution_count": 27,
     "metadata": {},
     "output_type": "execute_result"
    },
    {
     "data": {
      "text/plain": [
       "Text(0.5,0,'epoch')"
      ]
     },
     "execution_count": 27,
     "metadata": {},
     "output_type": "execute_result"
    },
    {
     "data": {
      "text/plain": [
       "<matplotlib.legend.Legend at 0x2911ff17ac8>"
      ]
     },
     "execution_count": 27,
     "metadata": {},
     "output_type": "execute_result"
    },
    {
     "name": "stdout",
     "output_type": "stream",
     "text": [
      "Analysis of results\n",
      "              precision    recall  f1-score   support\n",
      "\n",
      "           0       0.97      0.98      0.98       980\n",
      "           1       0.98      0.99      0.98      1135\n",
      "           2       0.96      0.96      0.96      1032\n",
      "           3       0.93      0.96      0.95      1010\n",
      "           4       0.95      0.96      0.96       982\n",
      "           5       0.95      0.94      0.94       892\n",
      "           6       0.97      0.96      0.96       958\n",
      "           7       0.97      0.95      0.96      1028\n",
      "           8       0.96      0.95      0.95       974\n",
      "           9       0.96      0.93      0.94      1009\n",
      "\n",
      "   micro avg       0.96      0.96      0.96     10000\n",
      "   macro avg       0.96      0.96      0.96     10000\n",
      "weighted avg       0.96      0.96      0.96     10000\n",
      "\n",
      "[[ 964    0    0    1    0    3    7    2    3    0]\n",
      " [   0 1120    2    2    0    2    2    1    6    0]\n",
      " [   5    2  995    9    3    1    3    9    4    1]\n",
      " [   0    0    6  974    1   13    0    5   10    1]\n",
      " [   1    0    6    0  945    0    7    2    4   17]\n",
      " [   8    1    2   19    2  839    9    1    7    4]\n",
      " [   8    3    4    0   10   13  918    0    2    0]\n",
      " [   1    7   14    5    3    2    0  977    2   17]\n",
      " [   4    2    2   18    5    7    4    7  921    4]\n",
      " [   6    7    1   17   22    6    1    7    4  938]]\n",
      "Train on 60000 samples, validate on 10000 samples\n",
      "Epoch 1/20\n",
      "60000/60000 [==============================] - 7s 113us/step - loss: 1.4179 - acc: 0.6415 - val_loss: 0.6156 - val_acc: 0.8457\n",
      "Epoch 2/20\n",
      "60000/60000 [==============================] - 5s 83us/step - loss: 0.4900 - acc: 0.8670 - val_loss: 0.3870 - val_acc: 0.8906\n",
      "Epoch 3/20\n",
      "60000/60000 [==============================] - 5s 81us/step - loss: 0.3709 - acc: 0.8945 - val_loss: 0.3305 - val_acc: 0.9054\n",
      "Epoch 4/20\n",
      "60000/60000 [==============================] - 5s 83us/step - loss: 0.3247 - acc: 0.9060 - val_loss: 0.2975 - val_acc: 0.9132\n",
      "Epoch 5/20\n",
      "60000/60000 [==============================] - 5s 80us/step - loss: 0.2958 - acc: 0.9144 - val_loss: 0.2752 - val_acc: 0.9186\n",
      "Epoch 6/20\n",
      "60000/60000 [==============================] - 5s 80us/step - loss: 0.2737 - acc: 0.9205 - val_loss: 0.2584 - val_acc: 0.9248\n",
      "Epoch 7/20\n",
      "60000/60000 [==============================] - 5s 79us/step - loss: 0.2560 - acc: 0.9254 - val_loss: 0.2472 - val_acc: 0.9278\n",
      "Epoch 8/20\n",
      "60000/60000 [==============================] - 5s 80us/step - loss: 0.2408 - acc: 0.9302 - val_loss: 0.2311 - val_acc: 0.9326\n",
      "Epoch 9/20\n",
      "60000/60000 [==============================] - 5s 78us/step - loss: 0.2272 - acc: 0.9341 - val_loss: 0.2215 - val_acc: 0.9361\n",
      "Epoch 10/20\n",
      "60000/60000 [==============================] - 5s 78us/step - loss: 0.2147 - acc: 0.9378 - val_loss: 0.2086 - val_acc: 0.9384\n",
      "Epoch 11/20\n",
      "60000/60000 [==============================] - 5s 78us/step - loss: 0.2046 - acc: 0.9405 - val_loss: 0.1999 - val_acc: 0.9397\n",
      "Epoch 12/20\n",
      "60000/60000 [==============================] - 4s 74us/step - loss: 0.1944 - acc: 0.9442 - val_loss: 0.1916 - val_acc: 0.9429\n",
      "Epoch 13/20\n",
      "60000/60000 [==============================] - 4s 74us/step - loss: 0.1855 - acc: 0.9460 - val_loss: 0.1815 - val_acc: 0.9455\n",
      "Epoch 14/20\n",
      "60000/60000 [==============================] - 4s 74us/step - loss: 0.1775 - acc: 0.9484 - val_loss: 0.1753 - val_acc: 0.9482\n",
      "Epoch 15/20\n",
      "60000/60000 [==============================] - 5s 81us/step - loss: 0.1699 - acc: 0.9507 - val_loss: 0.1716 - val_acc: 0.9480\n",
      "Epoch 16/20\n",
      "60000/60000 [==============================] - 5s 78us/step - loss: 0.1630 - acc: 0.9528 - val_loss: 0.1651 - val_acc: 0.9511\n",
      "Epoch 17/20\n",
      "60000/60000 [==============================] - 5s 80us/step - loss: 0.1568 - acc: 0.9544 - val_loss: 0.1580 - val_acc: 0.9529\n",
      "Epoch 18/20\n",
      "60000/60000 [==============================] - 5s 79us/step - loss: 0.1505 - acc: 0.9564 - val_loss: 0.1530 - val_acc: 0.9537\n",
      "Epoch 19/20\n",
      "60000/60000 [==============================] - 5s 79us/step - loss: 0.1452 - acc: 0.9575 - val_loss: 0.1552 - val_acc: 0.9544\n",
      "Epoch 20/20\n",
      "60000/60000 [==============================] - 5s 80us/step - loss: 0.1397 - acc: 0.9595 - val_loss: 0.1441 - val_acc: 0.9557\n"
     ]
    },
    {
     "data": {
      "text/plain": [
       "42"
      ]
     },
     "execution_count": 27,
     "metadata": {},
     "output_type": "execute_result"
    },
    {
     "data": {
      "text/plain": [
       "24"
      ]
     },
     "execution_count": 27,
     "metadata": {},
     "output_type": "execute_result"
    },
    {
     "data": {
      "text/plain": [
       "1"
      ]
     },
     "execution_count": 27,
     "metadata": {},
     "output_type": "execute_result"
    },
    {
     "data": {
      "text/plain": [
       "15"
      ]
     },
     "execution_count": 27,
     "metadata": {},
     "output_type": "execute_result"
    },
    {
     "data": {
      "text/plain": [
       "2"
      ]
     },
     "execution_count": 27,
     "metadata": {},
     "output_type": "execute_result"
    },
    {
     "data": {
      "text/plain": [
       "[<matplotlib.lines.Line2D at 0x2912026c978>]"
      ]
     },
     "execution_count": 27,
     "metadata": {},
     "output_type": "execute_result"
    },
    {
     "data": {
      "text/plain": [
       "[<matplotlib.lines.Line2D at 0x2912026ce10>]"
      ]
     },
     "execution_count": 27,
     "metadata": {},
     "output_type": "execute_result"
    },
    {
     "data": {
      "text/plain": [
       "Text(0.5,1,'model accuracy')"
      ]
     },
     "execution_count": 27,
     "metadata": {},
     "output_type": "execute_result"
    },
    {
     "data": {
      "text/plain": [
       "Text(0,0.5,'accuracy')"
      ]
     },
     "execution_count": 27,
     "metadata": {},
     "output_type": "execute_result"
    },
    {
     "data": {
      "text/plain": [
       "Text(0.5,0,'epoch')"
      ]
     },
     "execution_count": 27,
     "metadata": {},
     "output_type": "execute_result"
    },
    {
     "data": {
      "text/plain": [
       "<matplotlib.legend.Legend at 0x2912025c390>"
      ]
     },
     "execution_count": 27,
     "metadata": {},
     "output_type": "execute_result"
    },
    {
     "data": {
      "text/plain": [
       "[<matplotlib.lines.Line2D at 0x291212b7940>]"
      ]
     },
     "execution_count": 27,
     "metadata": {},
     "output_type": "execute_result"
    },
    {
     "data": {
      "text/plain": [
       "[<matplotlib.lines.Line2D at 0x291212b7ef0>]"
      ]
     },
     "execution_count": 27,
     "metadata": {},
     "output_type": "execute_result"
    },
    {
     "data": {
      "text/plain": [
       "Text(0.5,1,'model loss')"
      ]
     },
     "execution_count": 27,
     "metadata": {},
     "output_type": "execute_result"
    },
    {
     "data": {
      "text/plain": [
       "Text(0,0.5,'loss')"
      ]
     },
     "execution_count": 27,
     "metadata": {},
     "output_type": "execute_result"
    },
    {
     "data": {
      "text/plain": [
       "Text(0.5,0,'epoch')"
      ]
     },
     "execution_count": 27,
     "metadata": {},
     "output_type": "execute_result"
    },
    {
     "data": {
      "text/plain": [
       "<matplotlib.legend.Legend at 0x29121253358>"
      ]
     },
     "execution_count": 27,
     "metadata": {},
     "output_type": "execute_result"
    },
    {
     "name": "stdout",
     "output_type": "stream",
     "text": [
      "Analysis of results\n",
      "              precision    recall  f1-score   support\n",
      "\n",
      "           0       0.96      0.98      0.97       980\n",
      "           1       0.98      0.98      0.98      1135\n",
      "           2       0.95      0.95      0.95      1032\n",
      "           3       0.95      0.95      0.95      1010\n",
      "           4       0.95      0.96      0.95       982\n",
      "           5       0.96      0.94      0.95       892\n",
      "           6       0.95      0.96      0.96       958\n",
      "           7       0.97      0.94      0.95      1028\n",
      "           8       0.94      0.94      0.94       974\n",
      "           9       0.94      0.94      0.94      1009\n",
      "\n",
      "   micro avg       0.96      0.96      0.96     10000\n",
      "   macro avg       0.96      0.96      0.96     10000\n",
      "weighted avg       0.96      0.96      0.96     10000\n",
      "\n",
      "[[ 963    0    1    3    1    3    6    1    1    1]\n",
      " [   0 1114    4    2    1    1    4    1    8    0]\n",
      " [  11    1  982    6    9    0    6    9    7    1]\n",
      " [   1    1    7  961    0   12    1    9   12    6]\n",
      " [   1    0    7    0  941    0    7    3    3   20]\n",
      " [  10    1    2   12    2  838   11    0   10    6]\n",
      " [  10    3    1    0    8    7  924    0    5    0]\n",
      " [   0    9   20    2    4    1    0  971    2   19]\n",
      " [   5    1    3   13    5    8    9    4  919    7]\n",
      " [   5    6    2    8   23    6    1    8    6  944]]\n",
      "Train on 60000 samples, validate on 10000 samples\n",
      "Epoch 1/20\n",
      "60000/60000 [==============================] - 7s 118us/step - loss: 1.3790 - acc: 0.6620 - val_loss: 0.5962 - val_acc: 0.8515\n",
      "Epoch 2/20\n",
      "60000/60000 [==============================] - 5s 89us/step - loss: 0.4797 - acc: 0.8709 - val_loss: 0.3864 - val_acc: 0.8922\n",
      "Epoch 3/20\n",
      "60000/60000 [==============================] - 6s 102us/step - loss: 0.3674 - acc: 0.8944 - val_loss: 0.3286 - val_acc: 0.9069\n",
      "Epoch 4/20\n",
      "60000/60000 [==============================] - 6s 108us/step - loss: 0.3213 - acc: 0.9070 - val_loss: 0.2919 - val_acc: 0.9169\n",
      "Epoch 5/20\n",
      "60000/60000 [==============================] - 6s 103us/step - loss: 0.2917 - acc: 0.9152 - val_loss: 0.2674 - val_acc: 0.9229\n",
      "Epoch 6/20\n",
      "60000/60000 [==============================] - 5s 91us/step - loss: 0.2695 - acc: 0.9221 - val_loss: 0.2609 - val_acc: 0.9232\n",
      "Epoch 7/20\n",
      "60000/60000 [==============================] - 6s 101us/step - loss: 0.2517 - acc: 0.9269 - val_loss: 0.2410 - val_acc: 0.9285\n",
      "Epoch 8/20\n",
      "60000/60000 [==============================] - 6s 94us/step - loss: 0.2368 - acc: 0.9317 - val_loss: 0.2230 - val_acc: 0.9358\n",
      "Epoch 9/20\n",
      "60000/60000 [==============================] - 6s 92us/step - loss: 0.2238 - acc: 0.9354 - val_loss: 0.2166 - val_acc: 0.9382\n",
      "Epoch 10/20\n",
      "60000/60000 [==============================] - 6s 94us/step - loss: 0.2119 - acc: 0.9385 - val_loss: 0.2052 - val_acc: 0.9385\n",
      "Epoch 11/20\n",
      "60000/60000 [==============================] - 5s 85us/step - loss: 0.2019 - acc: 0.9418 - val_loss: 0.1941 - val_acc: 0.9435\n",
      "Epoch 12/20\n",
      "60000/60000 [==============================] - 5s 82us/step - loss: 0.1924 - acc: 0.9446 - val_loss: 0.1880 - val_acc: 0.9436\n",
      "Epoch 13/20\n",
      "60000/60000 [==============================] - 5s 79us/step - loss: 0.1844 - acc: 0.9474 - val_loss: 0.1800 - val_acc: 0.9473\n",
      "Epoch 14/20\n",
      "60000/60000 [==============================] - 5s 81us/step - loss: 0.1764 - acc: 0.9496 - val_loss: 0.1782 - val_acc: 0.9477\n",
      "Epoch 15/20\n",
      "60000/60000 [==============================] - 5s 81us/step - loss: 0.1695 - acc: 0.9514 - val_loss: 0.1682 - val_acc: 0.9520\n",
      "Epoch 16/20\n",
      "60000/60000 [==============================] - 5s 84us/step - loss: 0.1625 - acc: 0.9540 - val_loss: 0.1626 - val_acc: 0.9524\n",
      "Epoch 17/20\n",
      "60000/60000 [==============================] - 5s 81us/step - loss: 0.1564 - acc: 0.9556 - val_loss: 0.1586 - val_acc: 0.9539\n",
      "Epoch 18/20\n",
      "60000/60000 [==============================] - 5s 77us/step - loss: 0.1506 - acc: 0.9569 - val_loss: 0.1537 - val_acc: 0.9559\n",
      "Epoch 19/20\n",
      "60000/60000 [==============================] - 5s 80us/step - loss: 0.1456 - acc: 0.9583 - val_loss: 0.1483 - val_acc: 0.9563\n",
      "Epoch 20/20\n",
      "60000/60000 [==============================] - 5s 84us/step - loss: 0.1405 - acc: 0.9608 - val_loss: 0.1433 - val_acc: 0.9585\n"
     ]
    },
    {
     "data": {
      "text/plain": [
       "42"
      ]
     },
     "execution_count": 27,
     "metadata": {},
     "output_type": "execute_result"
    },
    {
     "data": {
      "text/plain": [
       "23"
      ]
     },
     "execution_count": 27,
     "metadata": {},
     "output_type": "execute_result"
    },
    {
     "data": {
      "text/plain": [
       "1"
      ]
     },
     "execution_count": 27,
     "metadata": {},
     "output_type": "execute_result"
    },
    {
     "data": {
      "text/plain": [
       "15"
      ]
     },
     "execution_count": 27,
     "metadata": {},
     "output_type": "execute_result"
    },
    {
     "data": {
      "text/plain": [
       "2"
      ]
     },
     "execution_count": 27,
     "metadata": {},
     "output_type": "execute_result"
    },
    {
     "data": {
      "text/plain": [
       "[<matplotlib.lines.Line2D at 0x291215fb208>]"
      ]
     },
     "execution_count": 27,
     "metadata": {},
     "output_type": "execute_result"
    },
    {
     "data": {
      "text/plain": [
       "[<matplotlib.lines.Line2D at 0x291215fb6a0>]"
      ]
     },
     "execution_count": 27,
     "metadata": {},
     "output_type": "execute_result"
    },
    {
     "data": {
      "text/plain": [
       "Text(0.5,1,'model accuracy')"
      ]
     },
     "execution_count": 27,
     "metadata": {},
     "output_type": "execute_result"
    },
    {
     "data": {
      "text/plain": [
       "Text(0,0.5,'accuracy')"
      ]
     },
     "execution_count": 27,
     "metadata": {},
     "output_type": "execute_result"
    },
    {
     "data": {
      "text/plain": [
       "Text(0.5,0,'epoch')"
      ]
     },
     "execution_count": 27,
     "metadata": {},
     "output_type": "execute_result"
    },
    {
     "data": {
      "text/plain": [
       "<matplotlib.legend.Legend at 0x291215fba20>"
      ]
     },
     "execution_count": 27,
     "metadata": {},
     "output_type": "execute_result"
    },
    {
     "data": {
      "text/plain": [
       "[<matplotlib.lines.Line2D at 0x2912264b1d0>]"
      ]
     },
     "execution_count": 27,
     "metadata": {},
     "output_type": "execute_result"
    },
    {
     "data": {
      "text/plain": [
       "[<matplotlib.lines.Line2D at 0x2912264b320>]"
      ]
     },
     "execution_count": 27,
     "metadata": {},
     "output_type": "execute_result"
    },
    {
     "data": {
      "text/plain": [
       "Text(0.5,1,'model loss')"
      ]
     },
     "execution_count": 27,
     "metadata": {},
     "output_type": "execute_result"
    },
    {
     "data": {
      "text/plain": [
       "Text(0,0.5,'loss')"
      ]
     },
     "execution_count": 27,
     "metadata": {},
     "output_type": "execute_result"
    },
    {
     "data": {
      "text/plain": [
       "Text(0.5,0,'epoch')"
      ]
     },
     "execution_count": 27,
     "metadata": {},
     "output_type": "execute_result"
    },
    {
     "data": {
      "text/plain": [
       "<matplotlib.legend.Legend at 0x29122633ba8>"
      ]
     },
     "execution_count": 27,
     "metadata": {},
     "output_type": "execute_result"
    },
    {
     "name": "stdout",
     "output_type": "stream",
     "text": [
      "Analysis of results\n",
      "              precision    recall  f1-score   support\n",
      "\n",
      "           0       0.97      0.98      0.98       980\n",
      "           1       0.98      0.99      0.98      1135\n",
      "           2       0.96      0.96      0.96      1032\n",
      "           3       0.94      0.96      0.95      1010\n",
      "           4       0.96      0.95      0.96       982\n",
      "           5       0.97      0.93      0.95       892\n",
      "           6       0.95      0.97      0.96       958\n",
      "           7       0.96      0.95      0.96      1028\n",
      "           8       0.96      0.94      0.95       974\n",
      "           9       0.94      0.94      0.94      1009\n",
      "\n",
      "   micro avg       0.96      0.96      0.96     10000\n",
      "   macro avg       0.96      0.96      0.96     10000\n",
      "weighted avg       0.96      0.96      0.96     10000\n",
      "\n",
      "[[ 963    0    1    1    0    4    6    1    3    1]\n",
      " [   0 1118    2    2    1    1    5    2    4    0]\n",
      " [   6    1  989    9    5    0    5    9    8    0]\n",
      " [   0    1    7  970    0    8    1   10    8    5]\n",
      " [   1    0    3    1  937    0    9    2    2   27]\n",
      " [   7    1    0   20    1  834   12    1   10    6]\n",
      " [   7    3    1    2    7    9  926    0    3    0]\n",
      " [   0    7   17    4    2    1    0  979    0   18]\n",
      " [   3    2    3   16    7    4   10    9  916    4]\n",
      " [   5    6    2   10   17    3    1    7    5  953]]\n",
      "Train on 60000 samples, validate on 10000 samples\n",
      "Epoch 1/20\n",
      "60000/60000 [==============================] - 6s 103us/step - loss: 1.4622 - acc: 0.6274 - val_loss: 0.6542 - val_acc: 0.8303\n",
      "Epoch 2/20\n",
      "60000/60000 [==============================] - 5s 79us/step - loss: 0.4997 - acc: 0.8640 - val_loss: 0.3863 - val_acc: 0.8946\n",
      "Epoch 3/20\n",
      "60000/60000 [==============================] - 5s 80us/step - loss: 0.3670 - acc: 0.8959 - val_loss: 0.3264 - val_acc: 0.9066\n",
      "Epoch 4/20\n",
      "60000/60000 [==============================] - 5s 83us/step - loss: 0.3197 - acc: 0.9077 - val_loss: 0.2949 - val_acc: 0.9155\n",
      "Epoch 5/20\n",
      "60000/60000 [==============================] - 6s 93us/step - loss: 0.2910 - acc: 0.9165 - val_loss: 0.2684 - val_acc: 0.9235\n",
      "Epoch 6/20\n",
      "60000/60000 [==============================] - 5s 83us/step - loss: 0.2694 - acc: 0.9223 - val_loss: 0.2520 - val_acc: 0.9275\n",
      "Epoch 7/20\n",
      "60000/60000 [==============================] - 4s 72us/step - loss: 0.2517 - acc: 0.9279 - val_loss: 0.2350 - val_acc: 0.9330\n",
      "Epoch 8/20\n",
      "60000/60000 [==============================] - 5s 80us/step - loss: 0.2369 - acc: 0.9317 - val_loss: 0.2254 - val_acc: 0.9347\n",
      "Epoch 9/20\n",
      "60000/60000 [==============================] - 5s 77us/step - loss: 0.2237 - acc: 0.9350 - val_loss: 0.2123 - val_acc: 0.9383\n",
      "Epoch 10/20\n",
      "60000/60000 [==============================] - 5s 78us/step - loss: 0.2122 - acc: 0.9389 - val_loss: 0.2024 - val_acc: 0.9409\n",
      "Epoch 11/20\n",
      "60000/60000 [==============================] - 4s 75us/step - loss: 0.2013 - acc: 0.9415 - val_loss: 0.1935 - val_acc: 0.9423\n",
      "Epoch 12/20\n",
      "60000/60000 [==============================] - 5s 77us/step - loss: 0.1916 - acc: 0.9446 - val_loss: 0.1863 - val_acc: 0.9440\n",
      "Epoch 13/20\n",
      "60000/60000 [==============================] - 6s 98us/step - loss: 0.1830 - acc: 0.9471 - val_loss: 0.1761 - val_acc: 0.9483\n",
      "Epoch 14/20\n",
      "60000/60000 [==============================] - 5s 90us/step - loss: 0.1749 - acc: 0.9491 - val_loss: 0.1704 - val_acc: 0.9505\n",
      "Epoch 15/20\n",
      "60000/60000 [==============================] - 5s 86us/step - loss: 0.1676 - acc: 0.9515 - val_loss: 0.1643 - val_acc: 0.9530\n",
      "Epoch 16/20\n",
      "60000/60000 [==============================] - 5s 81us/step - loss: 0.1610 - acc: 0.9537 - val_loss: 0.1590 - val_acc: 0.9537\n",
      "Epoch 17/20\n",
      "60000/60000 [==============================] - 5s 79us/step - loss: 0.1547 - acc: 0.9552 - val_loss: 0.1606 - val_acc: 0.9526\n",
      "Epoch 18/20\n",
      "60000/60000 [==============================] - 5s 78us/step - loss: 0.1488 - acc: 0.9570 - val_loss: 0.1506 - val_acc: 0.9563\n",
      "Epoch 19/20\n",
      "60000/60000 [==============================] - 5s 79us/step - loss: 0.1435 - acc: 0.9583 - val_loss: 0.1478 - val_acc: 0.9570\n",
      "Epoch 20/20\n",
      "60000/60000 [==============================] - 4s 73us/step - loss: 0.1385 - acc: 0.9600 - val_loss: 0.1475 - val_acc: 0.9564\n"
     ]
    },
    {
     "data": {
      "text/plain": [
       "42"
      ]
     },
     "execution_count": 27,
     "metadata": {},
     "output_type": "execute_result"
    },
    {
     "data": {
      "text/plain": [
       "24"
      ]
     },
     "execution_count": 27,
     "metadata": {},
     "output_type": "execute_result"
    },
    {
     "data": {
      "text/plain": [
       "1"
      ]
     },
     "execution_count": 27,
     "metadata": {},
     "output_type": "execute_result"
    },
    {
     "data": {
      "text/plain": [
       "15"
      ]
     },
     "execution_count": 27,
     "metadata": {},
     "output_type": "execute_result"
    },
    {
     "data": {
      "text/plain": [
       "2"
      ]
     },
     "execution_count": 27,
     "metadata": {},
     "output_type": "execute_result"
    },
    {
     "data": {
      "text/plain": [
       "[<matplotlib.lines.Line2D at 0x2912298ba58>]"
      ]
     },
     "execution_count": 27,
     "metadata": {},
     "output_type": "execute_result"
    },
    {
     "data": {
      "text/plain": [
       "[<matplotlib.lines.Line2D at 0x2912298bef0>]"
      ]
     },
     "execution_count": 27,
     "metadata": {},
     "output_type": "execute_result"
    },
    {
     "data": {
      "text/plain": [
       "Text(0.5,1,'model accuracy')"
      ]
     },
     "execution_count": 27,
     "metadata": {},
     "output_type": "execute_result"
    },
    {
     "data": {
      "text/plain": [
       "Text(0,0.5,'accuracy')"
      ]
     },
     "execution_count": 27,
     "metadata": {},
     "output_type": "execute_result"
    },
    {
     "data": {
      "text/plain": [
       "Text(0.5,0,'epoch')"
      ]
     },
     "execution_count": 27,
     "metadata": {},
     "output_type": "execute_result"
    },
    {
     "data": {
      "text/plain": [
       "<matplotlib.legend.Legend at 0x2912299c4a8>"
      ]
     },
     "execution_count": 27,
     "metadata": {},
     "output_type": "execute_result"
    },
    {
     "data": {
      "text/plain": [
       "[<matplotlib.lines.Line2D at 0x29122a03a20>]"
      ]
     },
     "execution_count": 27,
     "metadata": {},
     "output_type": "execute_result"
    },
    {
     "data": {
      "text/plain": [
       "[<matplotlib.lines.Line2D at 0x29122a03fd0>]"
      ]
     },
     "execution_count": 27,
     "metadata": {},
     "output_type": "execute_result"
    },
    {
     "data": {
      "text/plain": [
       "Text(0.5,1,'model loss')"
      ]
     },
     "execution_count": 27,
     "metadata": {},
     "output_type": "execute_result"
    },
    {
     "data": {
      "text/plain": [
       "Text(0,0.5,'loss')"
      ]
     },
     "execution_count": 27,
     "metadata": {},
     "output_type": "execute_result"
    },
    {
     "data": {
      "text/plain": [
       "Text(0.5,0,'epoch')"
      ]
     },
     "execution_count": 27,
     "metadata": {},
     "output_type": "execute_result"
    },
    {
     "data": {
      "text/plain": [
       "<matplotlib.legend.Legend at 0x291229f3438>"
      ]
     },
     "execution_count": 27,
     "metadata": {},
     "output_type": "execute_result"
    },
    {
     "name": "stdout",
     "output_type": "stream",
     "text": [
      "Analysis of results\n",
      "              precision    recall  f1-score   support\n",
      "\n",
      "           0       0.96      0.98      0.97       980\n",
      "           1       0.98      0.98      0.98      1135\n",
      "           2       0.97      0.95      0.96      1032\n",
      "           3       0.95      0.96      0.95      1010\n",
      "           4       0.95      0.95      0.95       982\n",
      "           5       0.97      0.93      0.95       892\n",
      "           6       0.94      0.97      0.95       958\n",
      "           7       0.95      0.96      0.96      1028\n",
      "           8       0.97      0.91      0.94       974\n",
      "           9       0.94      0.95      0.94      1009\n",
      "\n",
      "   micro avg       0.96      0.96      0.96     10000\n",
      "   macro avg       0.96      0.96      0.96     10000\n",
      "weighted avg       0.96      0.96      0.96     10000\n",
      "\n",
      "[[ 965    0    0    2    0    4    7    1    1    0]\n",
      " [   0 1116    2    2    1    1    6    2    5    0]\n",
      " [  10    1  982    6    7    1   10   11    3    1]\n",
      " [   1    0   10  971    0    9    0   11    2    6]\n",
      " [   1    0    5    0  934    0   13    2    2   25]\n",
      " [   9    1    0   18    3  832   12    3    8    6]\n",
      " [   9    3    0    1    5    6  931    1    2    0]\n",
      " [   0    9   14    1    3    1    0  986    0   14]\n",
      " [   8    2    4   17    8    7   15    9  890   14]\n",
      " [   6    6    0    8   21    1    0    7    3  957]]\n",
      "Train on 60000 samples, validate on 10000 samples\n",
      "Epoch 1/20\n",
      "60000/60000 [==============================] - 7s 117us/step - loss: 1.5281 - acc: 0.6049 - val_loss: 0.6706 - val_acc: 0.8357\n",
      "Epoch 2/20\n",
      "60000/60000 [==============================] - 5s 75us/step - loss: 0.5064 - acc: 0.8654 - val_loss: 0.3961 - val_acc: 0.8893\n",
      "Epoch 3/20\n",
      "60000/60000 [==============================] - 5s 85us/step - loss: 0.3733 - acc: 0.8936 - val_loss: 0.3304 - val_acc: 0.9061\n",
      "Epoch 4/20\n",
      "60000/60000 [==============================] - 5s 79us/step - loss: 0.3269 - acc: 0.9050 - val_loss: 0.2992 - val_acc: 0.9109\n",
      "Epoch 5/20\n",
      "60000/60000 [==============================] - 5s 84us/step - loss: 0.2983 - acc: 0.9131 - val_loss: 0.2754 - val_acc: 0.9221\n",
      "Epoch 6/20\n",
      "60000/60000 [==============================] - 6s 96us/step - loss: 0.2765 - acc: 0.9206 - val_loss: 0.2593 - val_acc: 0.9256\n",
      "Epoch 7/20\n",
      "60000/60000 [==============================] - 5s 81us/step - loss: 0.2588 - acc: 0.9250 - val_loss: 0.2417 - val_acc: 0.9324\n",
      "Epoch 8/20\n",
      "60000/60000 [==============================] - 5s 82us/step - loss: 0.2428 - acc: 0.9293 - val_loss: 0.2310 - val_acc: 0.9341\n",
      "Epoch 9/20\n",
      "60000/60000 [==============================] - 5s 78us/step - loss: 0.2291 - acc: 0.9335 - val_loss: 0.2189 - val_acc: 0.9382\n",
      "Epoch 10/20\n",
      "60000/60000 [==============================] - 5s 79us/step - loss: 0.2164 - acc: 0.9375 - val_loss: 0.2057 - val_acc: 0.9413\n",
      "Epoch 11/20\n",
      "60000/60000 [==============================] - 5s 75us/step - loss: 0.2055 - acc: 0.9406 - val_loss: 0.1969 - val_acc: 0.9435\n",
      "Epoch 12/20\n",
      "60000/60000 [==============================] - 5s 80us/step - loss: 0.1957 - acc: 0.9436 - val_loss: 0.1878 - val_acc: 0.9444\n",
      "Epoch 13/20\n",
      "60000/60000 [==============================] - 5s 79us/step - loss: 0.1862 - acc: 0.9470 - val_loss: 0.1812 - val_acc: 0.9488\n",
      "Epoch 14/20\n",
      "60000/60000 [==============================] - 5s 75us/step - loss: 0.1776 - acc: 0.9487 - val_loss: 0.1749 - val_acc: 0.9500\n",
      "Epoch 15/20\n",
      "60000/60000 [==============================] - 4s 74us/step - loss: 0.1697 - acc: 0.9508 - val_loss: 0.1688 - val_acc: 0.9523\n",
      "Epoch 16/20\n",
      "60000/60000 [==============================] - 5s 78us/step - loss: 0.1626 - acc: 0.9532 - val_loss: 0.1628 - val_acc: 0.9542\n",
      "Epoch 17/20\n",
      "60000/60000 [==============================] - 4s 72us/step - loss: 0.1560 - acc: 0.9547 - val_loss: 0.1559 - val_acc: 0.9549\n",
      "Epoch 18/20\n",
      "60000/60000 [==============================] - 4s 73us/step - loss: 0.1496 - acc: 0.9571 - val_loss: 0.1513 - val_acc: 0.9565\n",
      "Epoch 19/20\n",
      "60000/60000 [==============================] - 4s 71us/step - loss: 0.1439 - acc: 0.9581 - val_loss: 0.1476 - val_acc: 0.9574\n",
      "Epoch 20/20\n",
      "60000/60000 [==============================] - 4s 72us/step - loss: 0.1386 - acc: 0.9600 - val_loss: 0.1405 - val_acc: 0.9589\n"
     ]
    },
    {
     "data": {
      "text/plain": [
       "42"
      ]
     },
     "execution_count": 27,
     "metadata": {},
     "output_type": "execute_result"
    },
    {
     "data": {
      "text/plain": [
       "23"
      ]
     },
     "execution_count": 27,
     "metadata": {},
     "output_type": "execute_result"
    },
    {
     "data": {
      "text/plain": [
       "1"
      ]
     },
     "execution_count": 27,
     "metadata": {},
     "output_type": "execute_result"
    },
    {
     "data": {
      "text/plain": [
       "15"
      ]
     },
     "execution_count": 27,
     "metadata": {},
     "output_type": "execute_result"
    },
    {
     "data": {
      "text/plain": [
       "2"
      ]
     },
     "execution_count": 27,
     "metadata": {},
     "output_type": "execute_result"
    },
    {
     "data": {
      "text/plain": [
       "[<matplotlib.lines.Line2D at 0x29123cf1f28>]"
      ]
     },
     "execution_count": 27,
     "metadata": {},
     "output_type": "execute_result"
    },
    {
     "data": {
      "text/plain": [
       "[<matplotlib.lines.Line2D at 0x29123d0b400>]"
      ]
     },
     "execution_count": 27,
     "metadata": {},
     "output_type": "execute_result"
    },
    {
     "data": {
      "text/plain": [
       "Text(0.5,1,'model accuracy')"
      ]
     },
     "execution_count": 27,
     "metadata": {},
     "output_type": "execute_result"
    },
    {
     "data": {
      "text/plain": [
       "Text(0,0.5,'accuracy')"
      ]
     },
     "execution_count": 27,
     "metadata": {},
     "output_type": "execute_result"
    },
    {
     "data": {
      "text/plain": [
       "Text(0.5,0,'epoch')"
      ]
     },
     "execution_count": 27,
     "metadata": {},
     "output_type": "execute_result"
    },
    {
     "data": {
      "text/plain": [
       "<matplotlib.legend.Legend at 0x29123d0b9b0>"
      ]
     },
     "execution_count": 27,
     "metadata": {},
     "output_type": "execute_result"
    },
    {
     "data": {
      "text/plain": [
       "[<matplotlib.lines.Line2D at 0x29123d97438>]"
      ]
     },
     "execution_count": 27,
     "metadata": {},
     "output_type": "execute_result"
    },
    {
     "data": {
      "text/plain": [
       "[<matplotlib.lines.Line2D at 0x29123d97588>]"
      ]
     },
     "execution_count": 27,
     "metadata": {},
     "output_type": "execute_result"
    },
    {
     "data": {
      "text/plain": [
       "Text(0.5,1,'model loss')"
      ]
     },
     "execution_count": 27,
     "metadata": {},
     "output_type": "execute_result"
    },
    {
     "data": {
      "text/plain": [
       "Text(0,0.5,'loss')"
      ]
     },
     "execution_count": 27,
     "metadata": {},
     "output_type": "execute_result"
    },
    {
     "data": {
      "text/plain": [
       "Text(0.5,0,'epoch')"
      ]
     },
     "execution_count": 27,
     "metadata": {},
     "output_type": "execute_result"
    },
    {
     "data": {
      "text/plain": [
       "<matplotlib.legend.Legend at 0x29123d97e80>"
      ]
     },
     "execution_count": 27,
     "metadata": {},
     "output_type": "execute_result"
    },
    {
     "name": "stdout",
     "output_type": "stream",
     "text": [
      "Analysis of results\n",
      "              precision    recall  f1-score   support\n",
      "\n",
      "           0       0.97      0.98      0.98       980\n",
      "           1       0.98      0.99      0.98      1135\n",
      "           2       0.96      0.96      0.96      1032\n",
      "           3       0.94      0.96      0.95      1010\n",
      "           4       0.94      0.96      0.95       982\n",
      "           5       0.96      0.94      0.95       892\n",
      "           6       0.95      0.96      0.96       958\n",
      "           7       0.97      0.95      0.96      1028\n",
      "           8       0.96      0.94      0.95       974\n",
      "           9       0.96      0.93      0.95      1009\n",
      "\n",
      "   micro avg       0.96      0.96      0.96     10000\n",
      "   macro avg       0.96      0.96      0.96     10000\n",
      "weighted avg       0.96      0.96      0.96     10000\n",
      "\n",
      "[[ 963    0    1    1    0    4    8    1    1    1]\n",
      " [   0 1118    2    2    0    1    5    2    5    0]\n",
      " [   6    1  993    8    6    1    4    9    4    0]\n",
      " [   0    0    9  974    0   10    0    8    8    1]\n",
      " [   1    0    5    0  944    0    9    2    2   19]\n",
      " [   8    1    0   19    2  838   10    1    8    5]\n",
      " [   8    3    3    1    8    8  924    0    3    0]\n",
      " [   1    9   17    3    4    2    0  980    0   12]\n",
      " [   3    2    5   16   10    9    8    7  912    2]\n",
      " [   5    7    2   12   25    3    1    5    6  943]]\n",
      "Train on 60000 samples, validate on 10000 samples\n",
      "Epoch 1/20\n",
      "60000/60000 [==============================] - 6s 106us/step - loss: 1.5115 - acc: 0.6175 - val_loss: 0.6448 - val_acc: 0.8384\n",
      "Epoch 2/20\n",
      "60000/60000 [==============================] - 5s 80us/step - loss: 0.4938 - acc: 0.8676 - val_loss: 0.3903 - val_acc: 0.8908\n",
      "Epoch 3/20\n",
      "60000/60000 [==============================] - 4s 74us/step - loss: 0.3701 - acc: 0.8957 - val_loss: 0.3256 - val_acc: 0.9060\n",
      "Epoch 4/20\n",
      "60000/60000 [==============================] - 4s 75us/step - loss: 0.3248 - acc: 0.9071 - val_loss: 0.2964 - val_acc: 0.9132\n",
      "Epoch 5/20\n",
      "60000/60000 [==============================] - 4s 74us/step - loss: 0.2968 - acc: 0.9140 - val_loss: 0.2753 - val_acc: 0.9191\n",
      "Epoch 6/20\n",
      "60000/60000 [==============================] - 5s 78us/step - loss: 0.2752 - acc: 0.9208 - val_loss: 0.2599 - val_acc: 0.9244\n",
      "Epoch 7/20\n",
      "60000/60000 [==============================] - 4s 73us/step - loss: 0.2573 - acc: 0.9258 - val_loss: 0.2435 - val_acc: 0.9302\n",
      "Epoch 8/20\n",
      "60000/60000 [==============================] - 6s 94us/step - loss: 0.2422 - acc: 0.9306 - val_loss: 0.2337 - val_acc: 0.9308\n",
      "Epoch 9/20\n",
      "60000/60000 [==============================] - 5s 81us/step - loss: 0.2287 - acc: 0.9339 - val_loss: 0.2194 - val_acc: 0.9364\n",
      "Epoch 10/20\n",
      "60000/60000 [==============================] - 5s 89us/step - loss: 0.2168 - acc: 0.9372 - val_loss: 0.2093 - val_acc: 0.9404\n",
      "Epoch 11/20\n",
      "60000/60000 [==============================] - 5s 80us/step - loss: 0.2065 - acc: 0.9404 - val_loss: 0.2002 - val_acc: 0.9433\n",
      "Epoch 12/20\n",
      "60000/60000 [==============================] - 5s 90us/step - loss: 0.1961 - acc: 0.9432 - val_loss: 0.1904 - val_acc: 0.9444\n",
      "Epoch 13/20\n",
      "60000/60000 [==============================] - 5s 85us/step - loss: 0.1875 - acc: 0.9460 - val_loss: 0.1841 - val_acc: 0.9458\n",
      "Epoch 14/20\n",
      "60000/60000 [==============================] - 5s 90us/step - loss: 0.1793 - acc: 0.9478 - val_loss: 0.1780 - val_acc: 0.9468\n",
      "Epoch 15/20\n",
      "60000/60000 [==============================] - 6s 93us/step - loss: 0.1719 - acc: 0.9508 - val_loss: 0.1706 - val_acc: 0.9508\n",
      "Epoch 16/20\n",
      "60000/60000 [==============================] - 6s 96us/step - loss: 0.1648 - acc: 0.9523 - val_loss: 0.1643 - val_acc: 0.9518\n",
      "Epoch 17/20\n",
      "60000/60000 [==============================] - 5s 88us/step - loss: 0.1586 - acc: 0.9539 - val_loss: 0.1591 - val_acc: 0.9536\n",
      "Epoch 18/20\n",
      "60000/60000 [==============================] - 6s 92us/step - loss: 0.1520 - acc: 0.9561 - val_loss: 0.1562 - val_acc: 0.9536\n",
      "Epoch 19/20\n",
      "60000/60000 [==============================] - 6s 108us/step - loss: 0.1469 - acc: 0.9576 - val_loss: 0.1497 - val_acc: 0.9561\n",
      "Epoch 20/20\n",
      "60000/60000 [==============================] - 7s 111us/step - loss: 0.1414 - acc: 0.9590 - val_loss: 0.1442 - val_acc: 0.9582\n"
     ]
    },
    {
     "data": {
      "text/plain": [
       "42"
      ]
     },
     "execution_count": 27,
     "metadata": {},
     "output_type": "execute_result"
    },
    {
     "data": {
      "text/plain": [
       "24"
      ]
     },
     "execution_count": 27,
     "metadata": {},
     "output_type": "execute_result"
    },
    {
     "data": {
      "text/plain": [
       "1"
      ]
     },
     "execution_count": 27,
     "metadata": {},
     "output_type": "execute_result"
    },
    {
     "data": {
      "text/plain": [
       "15"
      ]
     },
     "execution_count": 27,
     "metadata": {},
     "output_type": "execute_result"
    },
    {
     "data": {
      "text/plain": [
       "2"
      ]
     },
     "execution_count": 27,
     "metadata": {},
     "output_type": "execute_result"
    },
    {
     "data": {
      "text/plain": [
       "[<matplotlib.lines.Line2D at 0x291240d5dd8>]"
      ]
     },
     "execution_count": 27,
     "metadata": {},
     "output_type": "execute_result"
    },
    {
     "data": {
      "text/plain": [
       "[<matplotlib.lines.Line2D at 0x291240e6320>]"
      ]
     },
     "execution_count": 27,
     "metadata": {},
     "output_type": "execute_result"
    },
    {
     "data": {
      "text/plain": [
       "Text(0.5,1,'model accuracy')"
      ]
     },
     "execution_count": 27,
     "metadata": {},
     "output_type": "execute_result"
    },
    {
     "data": {
      "text/plain": [
       "Text(0,0.5,'accuracy')"
      ]
     },
     "execution_count": 27,
     "metadata": {},
     "output_type": "execute_result"
    },
    {
     "data": {
      "text/plain": [
       "Text(0.5,0,'epoch')"
      ]
     },
     "execution_count": 27,
     "metadata": {},
     "output_type": "execute_result"
    },
    {
     "data": {
      "text/plain": [
       "<matplotlib.legend.Legend at 0x291240c67f0>"
      ]
     },
     "execution_count": 27,
     "metadata": {},
     "output_type": "execute_result"
    },
    {
     "data": {
      "text/plain": [
       "[<matplotlib.lines.Line2D at 0x29125124e80>]"
      ]
     },
     "execution_count": 27,
     "metadata": {},
     "output_type": "execute_result"
    },
    {
     "data": {
      "text/plain": [
       "[<matplotlib.lines.Line2D at 0x2912512f400>]"
      ]
     },
     "execution_count": 27,
     "metadata": {},
     "output_type": "execute_result"
    },
    {
     "data": {
      "text/plain": [
       "Text(0.5,1,'model loss')"
      ]
     },
     "execution_count": 27,
     "metadata": {},
     "output_type": "execute_result"
    },
    {
     "data": {
      "text/plain": [
       "Text(0,0.5,'loss')"
      ]
     },
     "execution_count": 27,
     "metadata": {},
     "output_type": "execute_result"
    },
    {
     "data": {
      "text/plain": [
       "Text(0.5,0,'epoch')"
      ]
     },
     "execution_count": 27,
     "metadata": {},
     "output_type": "execute_result"
    },
    {
     "data": {
      "text/plain": [
       "<matplotlib.legend.Legend at 0x2912512f978>"
      ]
     },
     "execution_count": 27,
     "metadata": {},
     "output_type": "execute_result"
    },
    {
     "name": "stdout",
     "output_type": "stream",
     "text": [
      "Analysis of results\n",
      "              precision    recall  f1-score   support\n",
      "\n",
      "           0       0.97      0.98      0.97       980\n",
      "           1       0.98      0.98      0.98      1135\n",
      "           2       0.96      0.97      0.96      1032\n",
      "           3       0.94      0.96      0.95      1010\n",
      "           4       0.95      0.96      0.95       982\n",
      "           5       0.95      0.94      0.95       892\n",
      "           6       0.96      0.96      0.96       958\n",
      "           7       0.95      0.95      0.95      1028\n",
      "           8       0.96      0.94      0.95       974\n",
      "           9       0.96      0.93      0.94      1009\n",
      "\n",
      "   micro avg       0.96      0.96      0.96     10000\n",
      "   macro avg       0.96      0.96      0.96     10000\n",
      "weighted avg       0.96      0.96      0.96     10000\n",
      "\n",
      "[[ 963    0    1    2    0    6    5    2    1    0]\n",
      " [   0 1116    2    2    0    2    4    3    6    0]\n",
      " [   7    1  996    7    6    0    3    7    4    1]\n",
      " [   0    1    6  969    0   13    0    9   10    2]\n",
      " [   1    0    4    0  944    0    8    4    2   19]\n",
      " [   7    3    1   17    4  837    9    2    7    5]\n",
      " [   8    3    2    0    7    9  923    1    5    0]\n",
      " [   1    8   15    7    2    2    0  980    0   13]\n",
      " [   4    1    7   16    7    3   10    9  915    2]\n",
      " [   6    6    1   12   25    6    1   11    2  939]]\n",
      "Train on 60000 samples, validate on 10000 samples\n",
      "Epoch 1/20\n",
      "60000/60000 [==============================] - 7s 123us/step - loss: 1.3528 - acc: 0.6820 - val_loss: 0.5933 - val_acc: 0.8463\n",
      "Epoch 2/20\n",
      "60000/60000 [==============================] - 5s 86us/step - loss: 0.4757 - acc: 0.8707 - val_loss: 0.3776 - val_acc: 0.8934\n",
      "Epoch 3/20\n",
      "60000/60000 [==============================] - 5s 86us/step - loss: 0.3599 - acc: 0.8979 - val_loss: 0.3208 - val_acc: 0.9076\n",
      "Epoch 4/20\n",
      "60000/60000 [==============================] - 5s 83us/step - loss: 0.3146 - acc: 0.9100 - val_loss: 0.2864 - val_acc: 0.9189\n",
      "Epoch 5/20\n",
      "60000/60000 [==============================] - 5s 85us/step - loss: 0.2863 - acc: 0.9176 - val_loss: 0.2668 - val_acc: 0.9240\n",
      "Epoch 6/20\n",
      "60000/60000 [==============================] - 5s 82us/step - loss: 0.2652 - acc: 0.9241 - val_loss: 0.2495 - val_acc: 0.9274\n",
      "Epoch 7/20\n",
      "60000/60000 [==============================] - 5s 84us/step - loss: 0.2480 - acc: 0.9284 - val_loss: 0.2344 - val_acc: 0.9313\n",
      "Epoch 8/20\n",
      "60000/60000 [==============================] - 5s 84us/step - loss: 0.2337 - acc: 0.9325 - val_loss: 0.2231 - val_acc: 0.9335\n",
      "Epoch 9/20\n",
      "60000/60000 [==============================] - 5s 85us/step - loss: 0.2208 - acc: 0.9360 - val_loss: 0.2124 - val_acc: 0.9373\n",
      "Epoch 10/20\n",
      "60000/60000 [==============================] - 5s 90us/step - loss: 0.2098 - acc: 0.9396 - val_loss: 0.2018 - val_acc: 0.9399\n",
      "Epoch 11/20\n",
      "60000/60000 [==============================] - 5s 83us/step - loss: 0.1996 - acc: 0.9419 - val_loss: 0.1931 - val_acc: 0.9433\n",
      "Epoch 12/20\n",
      "60000/60000 [==============================] - 5s 87us/step - loss: 0.1897 - acc: 0.9450 - val_loss: 0.1828 - val_acc: 0.9462\n",
      "Epoch 13/20\n",
      "60000/60000 [==============================] - 5s 87us/step - loss: 0.1810 - acc: 0.9479 - val_loss: 0.1789 - val_acc: 0.9468\n",
      "Epoch 14/20\n",
      "60000/60000 [==============================] - 5s 87us/step - loss: 0.1732 - acc: 0.9502 - val_loss: 0.1707 - val_acc: 0.9490\n",
      "Epoch 15/20\n",
      "60000/60000 [==============================] - 6s 104us/step - loss: 0.1657 - acc: 0.9523 - val_loss: 0.1668 - val_acc: 0.9496\n",
      "Epoch 16/20\n",
      "60000/60000 [==============================] - 6s 95us/step - loss: 0.1588 - acc: 0.9544 - val_loss: 0.1599 - val_acc: 0.9529\n",
      "Epoch 17/20\n",
      "60000/60000 [==============================] - 6s 104us/step - loss: 0.1523 - acc: 0.9561 - val_loss: 0.1558 - val_acc: 0.9537\n",
      "Epoch 18/20\n",
      "60000/60000 [==============================] - 7s 118us/step - loss: 0.1464 - acc: 0.9577 - val_loss: 0.1478 - val_acc: 0.9548\n",
      "Epoch 19/20\n",
      "60000/60000 [==============================] - 6s 93us/step - loss: 0.1409 - acc: 0.9597 - val_loss: 0.1442 - val_acc: 0.9570\n",
      "Epoch 20/20\n",
      "60000/60000 [==============================] - 5s 91us/step - loss: 0.1356 - acc: 0.9612 - val_loss: 0.1386 - val_acc: 0.9597\n"
     ]
    },
    {
     "data": {
      "text/plain": [
       "42"
      ]
     },
     "execution_count": 27,
     "metadata": {},
     "output_type": "execute_result"
    },
    {
     "data": {
      "text/plain": [
       "24"
      ]
     },
     "execution_count": 27,
     "metadata": {},
     "output_type": "execute_result"
    },
    {
     "data": {
      "text/plain": [
       "1"
      ]
     },
     "execution_count": 27,
     "metadata": {},
     "output_type": "execute_result"
    },
    {
     "data": {
      "text/plain": [
       "15"
      ]
     },
     "execution_count": 27,
     "metadata": {},
     "output_type": "execute_result"
    },
    {
     "data": {
      "text/plain": [
       "2"
      ]
     },
     "execution_count": 27,
     "metadata": {},
     "output_type": "execute_result"
    },
    {
     "data": {
      "text/plain": [
       "[<matplotlib.lines.Line2D at 0x29125468748>]"
      ]
     },
     "execution_count": 27,
     "metadata": {},
     "output_type": "execute_result"
    },
    {
     "data": {
      "text/plain": [
       "[<matplotlib.lines.Line2D at 0x29125468be0>]"
      ]
     },
     "execution_count": 27,
     "metadata": {},
     "output_type": "execute_result"
    },
    {
     "data": {
      "text/plain": [
       "Text(0.5,1,'model accuracy')"
      ]
     },
     "execution_count": 27,
     "metadata": {},
     "output_type": "execute_result"
    },
    {
     "data": {
      "text/plain": [
       "Text(0,0.5,'accuracy')"
      ]
     },
     "execution_count": 27,
     "metadata": {},
     "output_type": "execute_result"
    },
    {
     "data": {
      "text/plain": [
       "Text(0.5,0,'epoch')"
      ]
     },
     "execution_count": 27,
     "metadata": {},
     "output_type": "execute_result"
    },
    {
     "data": {
      "text/plain": [
       "<matplotlib.legend.Legend at 0x29125459240>"
      ]
     },
     "execution_count": 27,
     "metadata": {},
     "output_type": "execute_result"
    },
    {
     "data": {
      "text/plain": [
       "[<matplotlib.lines.Line2D at 0x291264b6278>]"
      ]
     },
     "execution_count": 27,
     "metadata": {},
     "output_type": "execute_result"
    },
    {
     "data": {
      "text/plain": [
       "[<matplotlib.lines.Line2D at 0x291264b67b8>]"
      ]
     },
     "execution_count": 27,
     "metadata": {},
     "output_type": "execute_result"
    },
    {
     "data": {
      "text/plain": [
       "Text(0.5,1,'model loss')"
      ]
     },
     "execution_count": 27,
     "metadata": {},
     "output_type": "execute_result"
    },
    {
     "data": {
      "text/plain": [
       "Text(0,0.5,'loss')"
      ]
     },
     "execution_count": 27,
     "metadata": {},
     "output_type": "execute_result"
    },
    {
     "data": {
      "text/plain": [
       "Text(0.5,0,'epoch')"
      ]
     },
     "execution_count": 27,
     "metadata": {},
     "output_type": "execute_result"
    },
    {
     "data": {
      "text/plain": [
       "<matplotlib.legend.Legend at 0x2912649fc50>"
      ]
     },
     "execution_count": 27,
     "metadata": {},
     "output_type": "execute_result"
    },
    {
     "name": "stdout",
     "output_type": "stream",
     "text": [
      "Analysis of results\n",
      "              precision    recall  f1-score   support\n",
      "\n",
      "           0       0.97      0.98      0.98       980\n",
      "           1       0.97      0.99      0.98      1135\n",
      "           2       0.96      0.96      0.96      1032\n",
      "           3       0.95      0.96      0.96      1010\n",
      "           4       0.96      0.96      0.96       982\n",
      "           5       0.96      0.94      0.95       892\n",
      "           6       0.96      0.96      0.96       958\n",
      "           7       0.96      0.95      0.95      1028\n",
      "           8       0.96      0.94      0.95       974\n",
      "           9       0.95      0.94      0.95      1009\n",
      "\n",
      "   micro avg       0.96      0.96      0.96     10000\n",
      "   macro avg       0.96      0.96      0.96     10000\n",
      "weighted avg       0.96      0.96      0.96     10000\n",
      "\n",
      "[[ 960    0    0    2    0    6    8    2    1    1]\n",
      " [   0 1121    3    2    0    1    2    2    4    0]\n",
      " [   3    3  991    5    4    1    6   10    8    1]\n",
      " [   0    2    9  974    1    5    0   10    7    2]\n",
      " [   1    0    7    0  940    0    7    3    2   22]\n",
      " [   6    3    0   15    0  841   12    1    7    7]\n",
      " [   7    3    1    0    5   15  922    1    4    0]\n",
      " [   1   13   13    4    2    1    0  978    1   15]\n",
      " [   3    2    3   15    6    8    7    7  920    3]\n",
      " [   7    8    2   10   18    2    1    7    4  950]]\n",
      "Train on 60000 samples, validate on 10000 samples\n",
      "Epoch 1/20\n",
      "60000/60000 [==============================] - 9s 142us/step - loss: 1.4213 - acc: 0.6335 - val_loss: 0.6207 - val_acc: 0.8417\n",
      "Epoch 2/20\n",
      "60000/60000 [==============================] - 6s 97us/step - loss: 0.4945 - acc: 0.8668 - val_loss: 0.3905 - val_acc: 0.8901\n",
      "Epoch 3/20\n",
      "60000/60000 [==============================] - 6s 97us/step - loss: 0.3710 - acc: 0.8949 - val_loss: 0.3232 - val_acc: 0.9089\n",
      "Epoch 4/20\n",
      "60000/60000 [==============================] - 6s 105us/step - loss: 0.3236 - acc: 0.9077 - val_loss: 0.2909 - val_acc: 0.9173\n",
      "Epoch 5/20\n",
      "60000/60000 [==============================] - 6s 98us/step - loss: 0.2938 - acc: 0.9159 - val_loss: 0.2700 - val_acc: 0.9233\n",
      "Epoch 6/20\n",
      "60000/60000 [==============================] - 6s 94us/step - loss: 0.2721 - acc: 0.9214 - val_loss: 0.2533 - val_acc: 0.9267\n",
      "Epoch 7/20\n",
      "60000/60000 [==============================] - 7s 114us/step - loss: 0.2541 - acc: 0.9267 - val_loss: 0.2384 - val_acc: 0.9320\n",
      "Epoch 8/20\n",
      "60000/60000 [==============================] - 7s 120us/step - loss: 0.2391 - acc: 0.9308 - val_loss: 0.2261 - val_acc: 0.9341\n",
      "Epoch 9/20\n",
      "60000/60000 [==============================] - 6s 93us/step - loss: 0.2258 - acc: 0.9355 - val_loss: 0.2146 - val_acc: 0.9363\n",
      "Epoch 10/20\n",
      "60000/60000 [==============================] - 6s 99us/step - loss: 0.2139 - acc: 0.9382 - val_loss: 0.2048 - val_acc: 0.9373\n",
      "Epoch 11/20\n",
      "60000/60000 [==============================] - 6s 98us/step - loss: 0.2031 - acc: 0.9417 - val_loss: 0.1947 - val_acc: 0.9427\n",
      "Epoch 12/20\n",
      "60000/60000 [==============================] - 6s 108us/step - loss: 0.1935 - acc: 0.9445 - val_loss: 0.1871 - val_acc: 0.9443\n",
      "Epoch 13/20\n",
      "60000/60000 [==============================] - 6s 103us/step - loss: 0.1843 - acc: 0.9464 - val_loss: 0.1791 - val_acc: 0.9466\n",
      "Epoch 14/20\n",
      "60000/60000 [==============================] - 6s 97us/step - loss: 0.1768 - acc: 0.9488 - val_loss: 0.1741 - val_acc: 0.9476\n",
      "Epoch 15/20\n",
      "60000/60000 [==============================] - 6s 94us/step - loss: 0.1692 - acc: 0.9510 - val_loss: 0.1668 - val_acc: 0.9491\n",
      "Epoch 16/20\n",
      "60000/60000 [==============================] - 5s 90us/step - loss: 0.1624 - acc: 0.9528 - val_loss: 0.1606 - val_acc: 0.9510\n",
      "Epoch 17/20\n",
      "60000/60000 [==============================] - 5s 92us/step - loss: 0.1560 - acc: 0.9548 - val_loss: 0.1562 - val_acc: 0.9520\n",
      "Epoch 18/20\n",
      "60000/60000 [==============================] - 5s 92us/step - loss: 0.1502 - acc: 0.9566 - val_loss: 0.1519 - val_acc: 0.9535\n",
      "Epoch 19/20\n",
      "60000/60000 [==============================] - 6s 99us/step - loss: 0.1445 - acc: 0.9585 - val_loss: 0.1447 - val_acc: 0.9553\n",
      "Epoch 20/20\n",
      "60000/60000 [==============================] - 6s 100us/step - loss: 0.1396 - acc: 0.9593 - val_loss: 0.1413 - val_acc: 0.9571\n"
     ]
    },
    {
     "data": {
      "text/plain": [
       "42"
      ]
     },
     "execution_count": 27,
     "metadata": {},
     "output_type": "execute_result"
    },
    {
     "data": {
      "text/plain": [
       "24"
      ]
     },
     "execution_count": 27,
     "metadata": {},
     "output_type": "execute_result"
    },
    {
     "data": {
      "text/plain": [
       "1"
      ]
     },
     "execution_count": 27,
     "metadata": {},
     "output_type": "execute_result"
    },
    {
     "data": {
      "text/plain": [
       "15"
      ]
     },
     "execution_count": 27,
     "metadata": {},
     "output_type": "execute_result"
    },
    {
     "data": {
      "text/plain": [
       "2"
      ]
     },
     "execution_count": 27,
     "metadata": {},
     "output_type": "execute_result"
    },
    {
     "data": {
      "text/plain": [
       "[<matplotlib.lines.Line2D at 0x291267f1ac8>]"
      ]
     },
     "execution_count": 27,
     "metadata": {},
     "output_type": "execute_result"
    },
    {
     "data": {
      "text/plain": [
       "[<matplotlib.lines.Line2D at 0x291267f1f60>]"
      ]
     },
     "execution_count": 27,
     "metadata": {},
     "output_type": "execute_result"
    },
    {
     "data": {
      "text/plain": [
       "Text(0.5,1,'model accuracy')"
      ]
     },
     "execution_count": 27,
     "metadata": {},
     "output_type": "execute_result"
    },
    {
     "data": {
      "text/plain": [
       "Text(0,0.5,'accuracy')"
      ]
     },
     "execution_count": 27,
     "metadata": {},
     "output_type": "execute_result"
    },
    {
     "data": {
      "text/plain": [
       "Text(0.5,0,'epoch')"
      ]
     },
     "execution_count": 27,
     "metadata": {},
     "output_type": "execute_result"
    },
    {
     "data": {
      "text/plain": [
       "<matplotlib.legend.Legend at 0x291267df5c0>"
      ]
     },
     "execution_count": 27,
     "metadata": {},
     "output_type": "execute_result"
    },
    {
     "data": {
      "text/plain": [
       "[<matplotlib.lines.Line2D at 0x29126871a90>]"
      ]
     },
     "execution_count": 27,
     "metadata": {},
     "output_type": "execute_result"
    },
    {
     "data": {
      "text/plain": [
       "[<matplotlib.lines.Line2D at 0x29126871f28>]"
      ]
     },
     "execution_count": 27,
     "metadata": {},
     "output_type": "execute_result"
    },
    {
     "data": {
      "text/plain": [
       "Text(0.5,1,'model loss')"
      ]
     },
     "execution_count": 27,
     "metadata": {},
     "output_type": "execute_result"
    },
    {
     "data": {
      "text/plain": [
       "Text(0,0.5,'loss')"
      ]
     },
     "execution_count": 27,
     "metadata": {},
     "output_type": "execute_result"
    },
    {
     "data": {
      "text/plain": [
       "Text(0.5,0,'epoch')"
      ]
     },
     "execution_count": 27,
     "metadata": {},
     "output_type": "execute_result"
    },
    {
     "data": {
      "text/plain": [
       "<matplotlib.legend.Legend at 0x29126863588>"
      ]
     },
     "execution_count": 27,
     "metadata": {},
     "output_type": "execute_result"
    },
    {
     "name": "stdout",
     "output_type": "stream",
     "text": [
      "Analysis of results\n",
      "              precision    recall  f1-score   support\n",
      "\n",
      "           0       0.97      0.98      0.98       980\n",
      "           1       0.98      0.99      0.98      1135\n",
      "           2       0.96      0.96      0.96      1032\n",
      "           3       0.95      0.96      0.95      1010\n",
      "           4       0.96      0.95      0.96       982\n",
      "           5       0.95      0.95      0.95       892\n",
      "           6       0.96      0.96      0.96       958\n",
      "           7       0.96      0.95      0.95      1028\n",
      "           8       0.94      0.95      0.94       974\n",
      "           9       0.95      0.94      0.94      1009\n",
      "\n",
      "   micro avg       0.96      0.96      0.96     10000\n",
      "   macro avg       0.96      0.96      0.96     10000\n",
      "weighted avg       0.96      0.96      0.96     10000\n",
      "\n",
      "[[ 963    0    1    2    0    6    3    2    3    0]\n",
      " [   0 1119    2    2    0    1    3    1    7    0]\n",
      " [   3    2  987    9    4    2    4    9   11    1]\n",
      " [   0    1   10  965    0   15    0    8   11    0]\n",
      " [   1    2    5    0  930    0    7    2    5   30]\n",
      " [   7    1    1   11    1  845   11    0   10    5]\n",
      " [   9    3    2    1    7   10  920    1    5    0]\n",
      " [   1   10   15    6    2    1    0  975    2   16]\n",
      " [   4    1    3   16    4    8    6    8  922    2]\n",
      " [   5    8    1    9   17    4    1   10    9  945]]\n",
      "Train on 60000 samples, validate on 10000 samples\n",
      "Epoch 1/20\n",
      "60000/60000 [==============================] - 8s 129us/step - loss: 1.3880 - acc: 0.6625 - val_loss: 0.5867 - val_acc: 0.8594\n",
      "Epoch 2/20\n",
      "60000/60000 [==============================] - 6s 97us/step - loss: 0.4655 - acc: 0.8750 - val_loss: 0.3810 - val_acc: 0.8951\n",
      "Epoch 3/20\n",
      "60000/60000 [==============================] - 6s 101us/step - loss: 0.3607 - acc: 0.8986 - val_loss: 0.3288 - val_acc: 0.9061\n",
      "Epoch 4/20\n",
      "60000/60000 [==============================] - 7s 109us/step - loss: 0.3194 - acc: 0.9084 - val_loss: 0.2930 - val_acc: 0.9151\n",
      "Epoch 5/20\n",
      "60000/60000 [==============================] - 6s 101us/step - loss: 0.2933 - acc: 0.9158 - val_loss: 0.2716 - val_acc: 0.9223\n",
      "Epoch 6/20\n",
      "60000/60000 [==============================] - 6s 95us/step - loss: 0.2729 - acc: 0.9210 - val_loss: 0.2609 - val_acc: 0.9240\n",
      "Epoch 7/20\n",
      "60000/60000 [==============================] - 6s 93us/step - loss: 0.2557 - acc: 0.9265 - val_loss: 0.2423 - val_acc: 0.9299\n",
      "Epoch 8/20\n",
      "60000/60000 [==============================] - 6s 99us/step - loss: 0.2411 - acc: 0.9307 - val_loss: 0.2300 - val_acc: 0.9333\n",
      "Epoch 9/20\n",
      "60000/60000 [==============================] - 6s 97us/step - loss: 0.2280 - acc: 0.9346 - val_loss: 0.2226 - val_acc: 0.9362\n",
      "Epoch 10/20\n",
      "60000/60000 [==============================] - 8s 129us/step - loss: 0.2159 - acc: 0.9380 - val_loss: 0.2058 - val_acc: 0.9407\n",
      "Epoch 11/20\n",
      "60000/60000 [==============================] - 7s 123us/step - loss: 0.2050 - acc: 0.9407 - val_loss: 0.1959 - val_acc: 0.9425\n",
      "Epoch 12/20\n",
      "60000/60000 [==============================] - 7s 115us/step - loss: 0.1951 - acc: 0.9434 - val_loss: 0.1904 - val_acc: 0.9453\n",
      "Epoch 13/20\n",
      "60000/60000 [==============================] - 7s 116us/step - loss: 0.1864 - acc: 0.9462 - val_loss: 0.1815 - val_acc: 0.9461\n",
      "Epoch 14/20\n",
      "60000/60000 [==============================] - 6s 104us/step - loss: 0.1781 - acc: 0.9484 - val_loss: 0.1773 - val_acc: 0.9476\n",
      "Epoch 15/20\n",
      "60000/60000 [==============================] - 6s 102us/step - loss: 0.1703 - acc: 0.9509 - val_loss: 0.1661 - val_acc: 0.9506\n",
      "Epoch 16/20\n",
      "60000/60000 [==============================] - 6s 100us/step - loss: 0.1636 - acc: 0.9524 - val_loss: 0.1613 - val_acc: 0.9507\n",
      "Epoch 17/20\n",
      "60000/60000 [==============================] - 6s 93us/step - loss: 0.1566 - acc: 0.9539 - val_loss: 0.1563 - val_acc: 0.9533\n",
      "Epoch 18/20\n",
      "60000/60000 [==============================] - 6s 95us/step - loss: 0.1512 - acc: 0.9561 - val_loss: 0.1496 - val_acc: 0.9555\n",
      "Epoch 19/20\n",
      "60000/60000 [==============================] - 6s 98us/step - loss: 0.1458 - acc: 0.9575 - val_loss: 0.1451 - val_acc: 0.9569\n",
      "Epoch 20/20\n",
      "60000/60000 [==============================] - 6s 94us/step - loss: 0.1405 - acc: 0.9590 - val_loss: 0.1434 - val_acc: 0.9565\n"
     ]
    },
    {
     "data": {
      "text/plain": [
       "42"
      ]
     },
     "execution_count": 27,
     "metadata": {},
     "output_type": "execute_result"
    },
    {
     "data": {
      "text/plain": [
       "24"
      ]
     },
     "execution_count": 27,
     "metadata": {},
     "output_type": "execute_result"
    },
    {
     "data": {
      "text/plain": [
       "1"
      ]
     },
     "execution_count": 27,
     "metadata": {},
     "output_type": "execute_result"
    },
    {
     "data": {
      "text/plain": [
       "15"
      ]
     },
     "execution_count": 27,
     "metadata": {},
     "output_type": "execute_result"
    },
    {
     "data": {
      "text/plain": [
       "2"
      ]
     },
     "execution_count": 27,
     "metadata": {},
     "output_type": "execute_result"
    },
    {
     "data": {
      "text/plain": [
       "[<matplotlib.lines.Line2D at 0x29126bb8358>]"
      ]
     },
     "execution_count": 27,
     "metadata": {},
     "output_type": "execute_result"
    },
    {
     "data": {
      "text/plain": [
       "[<matplotlib.lines.Line2D at 0x29126bb8898>]"
      ]
     },
     "execution_count": 27,
     "metadata": {},
     "output_type": "execute_result"
    },
    {
     "data": {
      "text/plain": [
       "Text(0.5,1,'model accuracy')"
      ]
     },
     "execution_count": 27,
     "metadata": {},
     "output_type": "execute_result"
    },
    {
     "data": {
      "text/plain": [
       "Text(0,0.5,'accuracy')"
      ]
     },
     "execution_count": 27,
     "metadata": {},
     "output_type": "execute_result"
    },
    {
     "data": {
      "text/plain": [
       "Text(0.5,0,'epoch')"
      ]
     },
     "execution_count": 27,
     "metadata": {},
     "output_type": "execute_result"
    },
    {
     "data": {
      "text/plain": [
       "<matplotlib.legend.Legend at 0x29126ba0e10>"
      ]
     },
     "execution_count": 27,
     "metadata": {},
     "output_type": "execute_result"
    },
    {
     "data": {
      "text/plain": [
       "[<matplotlib.lines.Line2D at 0x29127c00320>]"
      ]
     },
     "execution_count": 27,
     "metadata": {},
     "output_type": "execute_result"
    },
    {
     "data": {
      "text/plain": [
       "[<matplotlib.lines.Line2D at 0x29127c00470>]"
      ]
     },
     "execution_count": 27,
     "metadata": {},
     "output_type": "execute_result"
    },
    {
     "data": {
      "text/plain": [
       "Text(0.5,1,'model loss')"
      ]
     },
     "execution_count": 27,
     "metadata": {},
     "output_type": "execute_result"
    },
    {
     "data": {
      "text/plain": [
       "Text(0,0.5,'loss')"
      ]
     },
     "execution_count": 27,
     "metadata": {},
     "output_type": "execute_result"
    },
    {
     "data": {
      "text/plain": [
       "Text(0.5,0,'epoch')"
      ]
     },
     "execution_count": 27,
     "metadata": {},
     "output_type": "execute_result"
    },
    {
     "data": {
      "text/plain": [
       "<matplotlib.legend.Legend at 0x29127c00c88>"
      ]
     },
     "execution_count": 27,
     "metadata": {},
     "output_type": "execute_result"
    },
    {
     "name": "stdout",
     "output_type": "stream",
     "text": [
      "Analysis of results\n",
      "              precision    recall  f1-score   support\n",
      "\n",
      "           0       0.96      0.99      0.97       980\n",
      "           1       0.98      0.98      0.98      1135\n",
      "           2       0.94      0.96      0.95      1032\n",
      "           3       0.95      0.95      0.95      1010\n",
      "           4       0.96      0.95      0.96       982\n",
      "           5       0.97      0.93      0.95       892\n",
      "           6       0.95      0.96      0.96       958\n",
      "           7       0.95      0.95      0.95      1028\n",
      "           8       0.94      0.94      0.94       974\n",
      "           9       0.95      0.94      0.95      1009\n",
      "\n",
      "   micro avg       0.96      0.96      0.96     10000\n",
      "   macro avg       0.96      0.96      0.96     10000\n",
      "weighted avg       0.96      0.96      0.96     10000\n",
      "\n",
      "[[ 966    0    1    2    0    3    3    3    2    0]\n",
      " [   0 1110    3    2    0    2    3    2   13    0]\n",
      " [   5    1  995    7    3    0    4   10    6    1]\n",
      " [   1    1   19  962    0    8    0    9    9    1]\n",
      " [   1    0    8    1  937    0    9    3    2   21]\n",
      " [  10    1    1   15    2  832   12    1   13    5]\n",
      " [   8    3    3    0    8    7  924    0    5    0]\n",
      " [   2    8   22    3    0    1    0  977    1   14]\n",
      " [   4    3    7   12    4    4   12    8  917    3]\n",
      " [   7    6    2    9   20    2    1   12    5  945]]\n",
      "Train on 60000 samples, validate on 10000 samples\n",
      "Epoch 1/20\n",
      "60000/60000 [==============================] - 8s 125us/step - loss: 1.3756 - acc: 0.6655 - val_loss: 0.5984 - val_acc: 0.8584\n",
      "Epoch 2/20\n",
      "60000/60000 [==============================] - 6s 99us/step - loss: 0.4786 - acc: 0.8726 - val_loss: 0.3827 - val_acc: 0.8946\n",
      "Epoch 3/20\n",
      "60000/60000 [==============================] - 10s 172us/step - loss: 0.3670 - acc: 0.8965 - val_loss: 0.3331 - val_acc: 0.9050\n",
      "Epoch 4/20\n",
      "60000/60000 [==============================] - 10s 166us/step - loss: 0.3243 - acc: 0.9073 - val_loss: 0.2993 - val_acc: 0.9151\n",
      "Epoch 5/20\n",
      "60000/60000 [==============================] - 11s 180us/step - loss: 0.2973 - acc: 0.9144 - val_loss: 0.2755 - val_acc: 0.9208\n",
      "Epoch 6/20\n",
      "60000/60000 [==============================] - 13s 218us/step - loss: 0.2762 - acc: 0.9207 - val_loss: 0.2601 - val_acc: 0.9265\n",
      "Epoch 7/20\n",
      "60000/60000 [==============================] - 10s 170us/step - loss: 0.2591 - acc: 0.9261 - val_loss: 0.2466 - val_acc: 0.9296\n",
      "Epoch 8/20\n",
      "60000/60000 [==============================] - 9s 150us/step - loss: 0.2437 - acc: 0.9300 - val_loss: 0.2329 - val_acc: 0.9352\n",
      "Epoch 9/20\n",
      "60000/60000 [==============================] - 10s 159us/step - loss: 0.2301 - acc: 0.9337 - val_loss: 0.2232 - val_acc: 0.9368\n",
      "Epoch 10/20\n",
      "60000/60000 [==============================] - 10s 162us/step - loss: 0.2182 - acc: 0.9372 - val_loss: 0.2115 - val_acc: 0.9400\n",
      "Epoch 11/20\n",
      "60000/60000 [==============================] - 6s 105us/step - loss: 0.2074 - acc: 0.9395 - val_loss: 0.2030 - val_acc: 0.9412\n",
      "Epoch 12/20\n",
      "60000/60000 [==============================] - 7s 119us/step - loss: 0.1974 - acc: 0.9422 - val_loss: 0.1947 - val_acc: 0.9445\n",
      "Epoch 13/20\n",
      "60000/60000 [==============================] - 8s 130us/step - loss: 0.1882 - acc: 0.9452 - val_loss: 0.1868 - val_acc: 0.9463\n",
      "Epoch 14/20\n",
      "60000/60000 [==============================] - 6s 104us/step - loss: 0.1795 - acc: 0.9480 - val_loss: 0.1786 - val_acc: 0.9480\n",
      "Epoch 15/20\n",
      "60000/60000 [==============================] - 6s 102us/step - loss: 0.1717 - acc: 0.9504 - val_loss: 0.1712 - val_acc: 0.9499\n",
      "Epoch 16/20\n",
      "60000/60000 [==============================] - 7s 118us/step - loss: 0.1640 - acc: 0.9522 - val_loss: 0.1658 - val_acc: 0.9511\n",
      "Epoch 17/20\n",
      "60000/60000 [==============================] - 6s 102us/step - loss: 0.1574 - acc: 0.9544 - val_loss: 0.1639 - val_acc: 0.9531\n",
      "Epoch 18/20\n",
      "60000/60000 [==============================] - 6s 107us/step - loss: 0.1515 - acc: 0.9559 - val_loss: 0.1582 - val_acc: 0.9533\n",
      "Epoch 19/20\n",
      "60000/60000 [==============================] - 6s 105us/step - loss: 0.1455 - acc: 0.9575 - val_loss: 0.1529 - val_acc: 0.9565\n",
      "Epoch 20/20\n",
      "60000/60000 [==============================] - 7s 112us/step - loss: 0.1403 - acc: 0.9599 - val_loss: 0.1475 - val_acc: 0.9555\n"
     ]
    },
    {
     "data": {
      "text/plain": [
       "42"
      ]
     },
     "execution_count": 27,
     "metadata": {},
     "output_type": "execute_result"
    },
    {
     "data": {
      "text/plain": [
       "23"
      ]
     },
     "execution_count": 27,
     "metadata": {},
     "output_type": "execute_result"
    },
    {
     "data": {
      "text/plain": [
       "1"
      ]
     },
     "execution_count": 27,
     "metadata": {},
     "output_type": "execute_result"
    },
    {
     "data": {
      "text/plain": [
       "15"
      ]
     },
     "execution_count": 27,
     "metadata": {},
     "output_type": "execute_result"
    },
    {
     "data": {
      "text/plain": [
       "2"
      ]
     },
     "execution_count": 27,
     "metadata": {},
     "output_type": "execute_result"
    },
    {
     "data": {
      "text/plain": [
       "[<matplotlib.lines.Line2D at 0x29127f44ba8>]"
      ]
     },
     "execution_count": 27,
     "metadata": {},
     "output_type": "execute_result"
    },
    {
     "data": {
      "text/plain": [
       "[<matplotlib.lines.Line2D at 0x29127f530f0>]"
      ]
     },
     "execution_count": 27,
     "metadata": {},
     "output_type": "execute_result"
    },
    {
     "data": {
      "text/plain": [
       "Text(0.5,1,'model accuracy')"
      ]
     },
     "execution_count": 27,
     "metadata": {},
     "output_type": "execute_result"
    },
    {
     "data": {
      "text/plain": [
       "Text(0,0.5,'accuracy')"
      ]
     },
     "execution_count": 27,
     "metadata": {},
     "output_type": "execute_result"
    },
    {
     "data": {
      "text/plain": [
       "Text(0.5,0,'epoch')"
      ]
     },
     "execution_count": 27,
     "metadata": {},
     "output_type": "execute_result"
    },
    {
     "data": {
      "text/plain": [
       "<matplotlib.legend.Legend at 0x29127f345c0>"
      ]
     },
     "execution_count": 27,
     "metadata": {},
     "output_type": "execute_result"
    },
    {
     "data": {
      "text/plain": [
       "[<matplotlib.lines.Line2D at 0x29128f8d6d8>]"
      ]
     },
     "execution_count": 27,
     "metadata": {},
     "output_type": "execute_result"
    },
    {
     "data": {
      "text/plain": [
       "[<matplotlib.lines.Line2D at 0x29128f8dc88>]"
      ]
     },
     "execution_count": 27,
     "metadata": {},
     "output_type": "execute_result"
    },
    {
     "data": {
      "text/plain": [
       "Text(0.5,1,'model loss')"
      ]
     },
     "execution_count": 27,
     "metadata": {},
     "output_type": "execute_result"
    },
    {
     "data": {
      "text/plain": [
       "Text(0,0.5,'loss')"
      ]
     },
     "execution_count": 27,
     "metadata": {},
     "output_type": "execute_result"
    },
    {
     "data": {
      "text/plain": [
       "Text(0.5,0,'epoch')"
      ]
     },
     "execution_count": 27,
     "metadata": {},
     "output_type": "execute_result"
    },
    {
     "data": {
      "text/plain": [
       "<matplotlib.legend.Legend at 0x29128f97208>"
      ]
     },
     "execution_count": 27,
     "metadata": {},
     "output_type": "execute_result"
    },
    {
     "name": "stdout",
     "output_type": "stream",
     "text": [
      "Analysis of results\n",
      "              precision    recall  f1-score   support\n",
      "\n",
      "           0       0.96      0.99      0.97       980\n",
      "           1       0.98      0.98      0.98      1135\n",
      "           2       0.95      0.96      0.95      1032\n",
      "           3       0.95      0.96      0.95      1010\n",
      "           4       0.96      0.95      0.95       982\n",
      "           5       0.95      0.94      0.94       892\n",
      "           6       0.96      0.95      0.96       958\n",
      "           7       0.96      0.95      0.95      1028\n",
      "           8       0.96      0.93      0.94       974\n",
      "           9       0.94      0.94      0.94      1009\n",
      "\n",
      "   micro avg       0.96      0.96      0.96     10000\n",
      "   macro avg       0.96      0.95      0.96     10000\n",
      "weighted avg       0.96      0.96      0.96     10000\n",
      "\n",
      "[[ 969    0    1    2    0    3    3    1    1    0]\n",
      " [   0 1116    3    2    0    1    3    2    8    0]\n",
      " [   7    1  993    7    4    0    3    8    7    2]\n",
      " [   0    0   13  968    0   12    0    9    5    3]\n",
      " [   2    0    7    0  928    0    7    2    2   34]\n",
      " [   7    2    1   14    2  840   10    1    9    6]\n",
      " [  13    3    4    1    7   13  912    2    3    0]\n",
      " [   1    7   20    5    3    2    0  973    0   17]\n",
      " [   7    3    5   11    6   13   12   10  904    3]\n",
      " [   8    6    2   11   17    3    0    8    2  952]]\n",
      "Train on 60000 samples, validate on 10000 samples\n",
      "Epoch 1/20\n",
      "60000/60000 [==============================] - 17s 276us/step - loss: 1.4607 - acc: 0.6494 - val_loss: 0.6132 - val_acc: 0.8461\n",
      "Epoch 2/20\n",
      "60000/60000 [==============================] - 16s 259us/step - loss: 0.4785 - acc: 0.8726 - val_loss: 0.3835 - val_acc: 0.8935\n",
      "Epoch 3/20\n",
      "60000/60000 [==============================] - 19s 320us/step - loss: 0.3643 - acc: 0.8967 - val_loss: 0.3237 - val_acc: 0.9060\n",
      "Epoch 4/20\n",
      "60000/60000 [==============================] - 8s 139us/step - loss: 0.3209 - acc: 0.9083 - val_loss: 0.2929 - val_acc: 0.9153\n",
      "Epoch 5/20\n",
      "60000/60000 [==============================] - 8s 133us/step - loss: 0.2934 - acc: 0.9159 - val_loss: 0.2747 - val_acc: 0.9193\n",
      "Epoch 6/20\n",
      "60000/60000 [==============================] - 6s 96us/step - loss: 0.2724 - acc: 0.9214 - val_loss: 0.2543 - val_acc: 0.9260\n",
      "Epoch 7/20\n",
      "60000/60000 [==============================] - 5s 87us/step - loss: 0.2553 - acc: 0.9266 - val_loss: 0.2391 - val_acc: 0.9304\n",
      "Epoch 8/20\n",
      "60000/60000 [==============================] - 6s 95us/step - loss: 0.2406 - acc: 0.9311 - val_loss: 0.2283 - val_acc: 0.9328\n",
      "Epoch 9/20\n",
      "60000/60000 [==============================] - 5s 87us/step - loss: 0.2269 - acc: 0.9349 - val_loss: 0.2163 - val_acc: 0.9349\n",
      "Epoch 10/20\n",
      "60000/60000 [==============================] - 5s 90us/step - loss: 0.2155 - acc: 0.9379 - val_loss: 0.2058 - val_acc: 0.9394\n",
      "Epoch 11/20\n",
      "60000/60000 [==============================] - 5s 91us/step - loss: 0.2045 - acc: 0.9410 - val_loss: 0.1970 - val_acc: 0.9404\n",
      "Epoch 12/20\n",
      "60000/60000 [==============================] - 5s 90us/step - loss: 0.1951 - acc: 0.9437 - val_loss: 0.1887 - val_acc: 0.9445\n",
      "Epoch 13/20\n",
      "60000/60000 [==============================] - 5s 86us/step - loss: 0.1862 - acc: 0.9458 - val_loss: 0.1819 - val_acc: 0.9460\n",
      "Epoch 14/20\n",
      "60000/60000 [==============================] - 5s 86us/step - loss: 0.1783 - acc: 0.9483 - val_loss: 0.1753 - val_acc: 0.9485\n",
      "Epoch 15/20\n",
      "60000/60000 [==============================] - 5s 86us/step - loss: 0.1710 - acc: 0.9503 - val_loss: 0.1690 - val_acc: 0.9507\n",
      "Epoch 16/20\n",
      "60000/60000 [==============================] - 5s 87us/step - loss: 0.1640 - acc: 0.9521 - val_loss: 0.1648 - val_acc: 0.9502\n",
      "Epoch 17/20\n",
      "60000/60000 [==============================] - 5s 88us/step - loss: 0.1579 - acc: 0.9540 - val_loss: 0.1574 - val_acc: 0.9515\n",
      "Epoch 18/20\n",
      "60000/60000 [==============================] - 6s 92us/step - loss: 0.1518 - acc: 0.9556 - val_loss: 0.1531 - val_acc: 0.9536\n",
      "Epoch 19/20\n",
      "60000/60000 [==============================] - 5s 90us/step - loss: 0.1463 - acc: 0.9579 - val_loss: 0.1514 - val_acc: 0.9554\n",
      "Epoch 20/20\n",
      "60000/60000 [==============================] - 5s 88us/step - loss: 0.1409 - acc: 0.9588 - val_loss: 0.1426 - val_acc: 0.9566\n"
     ]
    },
    {
     "data": {
      "text/plain": [
       "42"
      ]
     },
     "execution_count": 27,
     "metadata": {},
     "output_type": "execute_result"
    },
    {
     "data": {
      "text/plain": [
       "23"
      ]
     },
     "execution_count": 27,
     "metadata": {},
     "output_type": "execute_result"
    },
    {
     "data": {
      "text/plain": [
       "1"
      ]
     },
     "execution_count": 27,
     "metadata": {},
     "output_type": "execute_result"
    },
    {
     "data": {
      "text/plain": [
       "15"
      ]
     },
     "execution_count": 27,
     "metadata": {},
     "output_type": "execute_result"
    },
    {
     "data": {
      "text/plain": [
       "2"
      ]
     },
     "execution_count": 27,
     "metadata": {},
     "output_type": "execute_result"
    },
    {
     "data": {
      "text/plain": [
       "[<matplotlib.lines.Line2D at 0x29129415f28>]"
      ]
     },
     "execution_count": 27,
     "metadata": {},
     "output_type": "execute_result"
    },
    {
     "data": {
      "text/plain": [
       "[<matplotlib.lines.Line2D at 0x29129424400>]"
      ]
     },
     "execution_count": 27,
     "metadata": {},
     "output_type": "execute_result"
    },
    {
     "data": {
      "text/plain": [
       "Text(0.5,1,'model accuracy')"
      ]
     },
     "execution_count": 27,
     "metadata": {},
     "output_type": "execute_result"
    },
    {
     "data": {
      "text/plain": [
       "Text(0,0.5,'accuracy')"
      ]
     },
     "execution_count": 27,
     "metadata": {},
     "output_type": "execute_result"
    },
    {
     "data": {
      "text/plain": [
       "Text(0.5,0,'epoch')"
      ]
     },
     "execution_count": 27,
     "metadata": {},
     "output_type": "execute_result"
    },
    {
     "data": {
      "text/plain": [
       "<matplotlib.legend.Legend at 0x29129431a20>"
      ]
     },
     "execution_count": 27,
     "metadata": {},
     "output_type": "execute_result"
    },
    {
     "data": {
      "text/plain": [
       "[<matplotlib.lines.Line2D at 0x29129496ef0>]"
      ]
     },
     "execution_count": 27,
     "metadata": {},
     "output_type": "execute_result"
    },
    {
     "data": {
      "text/plain": [
       "[<matplotlib.lines.Line2D at 0x2912949f080>]"
      ]
     },
     "execution_count": 27,
     "metadata": {},
     "output_type": "execute_result"
    },
    {
     "data": {
      "text/plain": [
       "Text(0.5,1,'model loss')"
      ]
     },
     "execution_count": 27,
     "metadata": {},
     "output_type": "execute_result"
    },
    {
     "data": {
      "text/plain": [
       "Text(0,0.5,'loss')"
      ]
     },
     "execution_count": 27,
     "metadata": {},
     "output_type": "execute_result"
    },
    {
     "data": {
      "text/plain": [
       "Text(0.5,0,'epoch')"
      ]
     },
     "execution_count": 27,
     "metadata": {},
     "output_type": "execute_result"
    },
    {
     "data": {
      "text/plain": [
       "<matplotlib.legend.Legend at 0x291294869e8>"
      ]
     },
     "execution_count": 27,
     "metadata": {},
     "output_type": "execute_result"
    },
    {
     "name": "stdout",
     "output_type": "stream",
     "text": [
      "Analysis of results\n",
      "              precision    recall  f1-score   support\n",
      "\n",
      "           0       0.96      0.99      0.97       980\n",
      "           1       0.97      0.99      0.98      1135\n",
      "           2       0.96      0.94      0.95      1032\n",
      "           3       0.95      0.96      0.95      1010\n",
      "           4       0.96      0.96      0.96       982\n",
      "           5       0.96      0.94      0.95       892\n",
      "           6       0.95      0.96      0.96       958\n",
      "           7       0.96      0.95      0.95      1028\n",
      "           8       0.94      0.94      0.94       974\n",
      "           9       0.95      0.94      0.94      1009\n",
      "\n",
      "   micro avg       0.96      0.96      0.96     10000\n",
      "   macro avg       0.96      0.96      0.96     10000\n",
      "weighted avg       0.96      0.96      0.96     10000\n",
      "\n",
      "[[ 966    0    0    0    0    4    5    2    2    1]\n",
      " [   0 1118    2    2    0    1    3    2    7    0]\n",
      " [   7    3  975   10    5    2    9    9   10    2]\n",
      " [   0    1    4  966    0   11    1   11   15    1]\n",
      " [   1    0    7    0  939    0    9    2    3   21]\n",
      " [   7    1    0   15    3  838   11    0   11    6]\n",
      " [   8    3    1    1    8   11  924    0    2    0]\n",
      " [   2   12   15    3    4    0    0  975    1   16]\n",
      " [   4    3    6   14    5    8    8    6  917    3]\n",
      " [   7    7    2    9   18    2    1   11    4  948]]\n",
      "Train on 60000 samples, validate on 10000 samples\n",
      "Epoch 1/20\n",
      "60000/60000 [==============================] - 8s 136us/step - loss: 1.3891 - acc: 0.6466 - val_loss: 0.6242 - val_acc: 0.8416\n",
      "Epoch 2/20\n",
      "60000/60000 [==============================] - 5s 89us/step - loss: 0.4907 - acc: 0.8667 - val_loss: 0.3846 - val_acc: 0.8942\n",
      "Epoch 3/20\n",
      "60000/60000 [==============================] - 5s 91us/step - loss: 0.3687 - acc: 0.8946 - val_loss: 0.3223 - val_acc: 0.9087\n",
      "Epoch 4/20\n",
      "60000/60000 [==============================] - 5s 88us/step - loss: 0.3239 - acc: 0.9071 - val_loss: 0.2933 - val_acc: 0.9163\n",
      "Epoch 5/20\n",
      "60000/60000 [==============================] - 5s 86us/step - loss: 0.2970 - acc: 0.9154 - val_loss: 0.2759 - val_acc: 0.9229\n",
      "Epoch 6/20\n",
      "60000/60000 [==============================] - 5s 87us/step - loss: 0.2768 - acc: 0.9206 - val_loss: 0.2586 - val_acc: 0.9272\n",
      "Epoch 7/20\n",
      "60000/60000 [==============================] - 5s 86us/step - loss: 0.2601 - acc: 0.9252 - val_loss: 0.2442 - val_acc: 0.9321\n",
      "Epoch 8/20\n",
      "60000/60000 [==============================] - 6s 96us/step - loss: 0.2460 - acc: 0.9294 - val_loss: 0.2351 - val_acc: 0.9323\n",
      "Epoch 9/20\n",
      "60000/60000 [==============================] - 5s 91us/step - loss: 0.2336 - acc: 0.9328 - val_loss: 0.2215 - val_acc: 0.9349\n",
      "Epoch 10/20\n",
      "60000/60000 [==============================] - 5s 87us/step - loss: 0.2221 - acc: 0.9366 - val_loss: 0.2149 - val_acc: 0.9402\n",
      "Epoch 11/20\n",
      "60000/60000 [==============================] - 5s 88us/step - loss: 0.2121 - acc: 0.9396 - val_loss: 0.2028 - val_acc: 0.9419\n",
      "Epoch 12/20\n",
      "60000/60000 [==============================] - 6s 94us/step - loss: 0.2029 - acc: 0.9423 - val_loss: 0.2008 - val_acc: 0.9436\n",
      "Epoch 13/20\n",
      "60000/60000 [==============================] - 6s 96us/step - loss: 0.1947 - acc: 0.9439 - val_loss: 0.1891 - val_acc: 0.9457\n",
      "Epoch 14/20\n",
      "60000/60000 [==============================] - 6s 99us/step - loss: 0.1865 - acc: 0.9467 - val_loss: 0.1842 - val_acc: 0.9471\n",
      "Epoch 15/20\n",
      "60000/60000 [==============================] - 6s 96us/step - loss: 0.1792 - acc: 0.9485 - val_loss: 0.1763 - val_acc: 0.9481\n",
      "Epoch 16/20\n",
      "60000/60000 [==============================] - 6s 100us/step - loss: 0.1720 - acc: 0.9509 - val_loss: 0.1716 - val_acc: 0.9507\n",
      "Epoch 17/20\n",
      "60000/60000 [==============================] - 6s 96us/step - loss: 0.1653 - acc: 0.9523 - val_loss: 0.1644 - val_acc: 0.9525\n",
      "Epoch 18/20\n",
      "60000/60000 [==============================] - 6s 95us/step - loss: 0.1594 - acc: 0.9545 - val_loss: 0.1599 - val_acc: 0.9530\n",
      "Epoch 19/20\n",
      "60000/60000 [==============================] - 6s 99us/step - loss: 0.1536 - acc: 0.9559 - val_loss: 0.1549 - val_acc: 0.9548\n",
      "Epoch 20/20\n",
      "60000/60000 [==============================] - 6s 95us/step - loss: 0.1484 - acc: 0.9576 - val_loss: 0.1531 - val_acc: 0.9559\n"
     ]
    },
    {
     "data": {
      "text/plain": [
       "42"
      ]
     },
     "execution_count": 27,
     "metadata": {},
     "output_type": "execute_result"
    },
    {
     "data": {
      "text/plain": [
       "23"
      ]
     },
     "execution_count": 27,
     "metadata": {},
     "output_type": "execute_result"
    },
    {
     "data": {
      "text/plain": [
       "1"
      ]
     },
     "execution_count": 27,
     "metadata": {},
     "output_type": "execute_result"
    },
    {
     "data": {
      "text/plain": [
       "15"
      ]
     },
     "execution_count": 27,
     "metadata": {},
     "output_type": "execute_result"
    },
    {
     "data": {
      "text/plain": [
       "2"
      ]
     },
     "execution_count": 27,
     "metadata": {},
     "output_type": "execute_result"
    },
    {
     "data": {
      "text/plain": [
       "[<matplotlib.lines.Line2D at 0x2912a7c17b8>]"
      ]
     },
     "execution_count": 27,
     "metadata": {},
     "output_type": "execute_result"
    },
    {
     "data": {
      "text/plain": [
       "[<matplotlib.lines.Line2D at 0x2912a7c1c50>]"
      ]
     },
     "execution_count": 27,
     "metadata": {},
     "output_type": "execute_result"
    },
    {
     "data": {
      "text/plain": [
       "Text(0.5,1,'model accuracy')"
      ]
     },
     "execution_count": 27,
     "metadata": {},
     "output_type": "execute_result"
    },
    {
     "data": {
      "text/plain": [
       "Text(0,0.5,'accuracy')"
      ]
     },
     "execution_count": 27,
     "metadata": {},
     "output_type": "execute_result"
    },
    {
     "data": {
      "text/plain": [
       "Text(0.5,0,'epoch')"
      ]
     },
     "execution_count": 27,
     "metadata": {},
     "output_type": "execute_result"
    },
    {
     "data": {
      "text/plain": [
       "<matplotlib.legend.Legend at 0x2912a7c1dd8>"
      ]
     },
     "execution_count": 27,
     "metadata": {},
     "output_type": "execute_result"
    },
    {
     "data": {
      "text/plain": [
       "[<matplotlib.lines.Line2D at 0x2912b80b780>]"
      ]
     },
     "execution_count": 27,
     "metadata": {},
     "output_type": "execute_result"
    },
    {
     "data": {
      "text/plain": [
       "[<matplotlib.lines.Line2D at 0x2912b80bd30>]"
      ]
     },
     "execution_count": 27,
     "metadata": {},
     "output_type": "execute_result"
    },
    {
     "data": {
      "text/plain": [
       "Text(0.5,1,'model loss')"
      ]
     },
     "execution_count": 27,
     "metadata": {},
     "output_type": "execute_result"
    },
    {
     "data": {
      "text/plain": [
       "Text(0,0.5,'loss')"
      ]
     },
     "execution_count": 27,
     "metadata": {},
     "output_type": "execute_result"
    },
    {
     "data": {
      "text/plain": [
       "Text(0.5,0,'epoch')"
      ]
     },
     "execution_count": 27,
     "metadata": {},
     "output_type": "execute_result"
    },
    {
     "data": {
      "text/plain": [
       "<matplotlib.legend.Legend at 0x2912b7fb198>"
      ]
     },
     "execution_count": 27,
     "metadata": {},
     "output_type": "execute_result"
    },
    {
     "name": "stdout",
     "output_type": "stream",
     "text": [
      "Analysis of results\n",
      "              precision    recall  f1-score   support\n",
      "\n",
      "           0       0.97      0.98      0.97       980\n",
      "           1       0.98      0.98      0.98      1135\n",
      "           2       0.97      0.94      0.95      1032\n",
      "           3       0.94      0.96      0.95      1010\n",
      "           4       0.96      0.95      0.96       982\n",
      "           5       0.95      0.95      0.95       892\n",
      "           6       0.96      0.96      0.96       958\n",
      "           7       0.97      0.94      0.96      1028\n",
      "           8       0.93      0.95      0.94       974\n",
      "           9       0.94      0.94      0.94      1009\n",
      "\n",
      "   micro avg       0.96      0.96      0.96     10000\n",
      "   macro avg       0.96      0.96      0.96     10000\n",
      "weighted avg       0.96      0.96      0.96     10000\n",
      "\n",
      "[[ 958    0    0    2    1    5    5    4    3    2]\n",
      " [   0 1112    2    2    0    1    4    2   11    1]\n",
      " [   7    1  965   14    7    2    9    8   16    3]\n",
      " [   1    0    5  971    0   11    0    4   13    5]\n",
      " [   1    0    4    0  934    1    9    2    5   26]\n",
      " [   7    1    1   12    2  850    7    0    6    6]\n",
      " [   6    3    2    0    8   11  922    0    6    0]\n",
      " [   1    7   16    8    3    1    0  969    3   20]\n",
      " [   3    1    2   18    4    5    8    4  928    1]\n",
      " [   5    7    2    8   15    8    1    6    7  950]]\n",
      "Train on 60000 samples, validate on 10000 samples\n",
      "Epoch 1/20\n",
      "60000/60000 [==============================] - 7s 123us/step - loss: 1.3969 - acc: 0.6618 - val_loss: 0.6046 - val_acc: 0.8487\n",
      "Epoch 2/20\n",
      "60000/60000 [==============================] - 5s 91us/step - loss: 0.4818 - acc: 0.8703 - val_loss: 0.3797 - val_acc: 0.8918\n",
      "Epoch 3/20\n",
      "60000/60000 [==============================] - 6s 93us/step - loss: 0.3655 - acc: 0.8977 - val_loss: 0.3207 - val_acc: 0.9072\n",
      "Epoch 4/20\n",
      "60000/60000 [==============================] - 6s 95us/step - loss: 0.3220 - acc: 0.9080 - val_loss: 0.2960 - val_acc: 0.9153\n",
      "Epoch 5/20\n",
      "60000/60000 [==============================] - 6s 92us/step - loss: 0.2955 - acc: 0.9149 - val_loss: 0.2764 - val_acc: 0.9202\n",
      "Epoch 6/20\n",
      "60000/60000 [==============================] - 6s 96us/step - loss: 0.2751 - acc: 0.9208 - val_loss: 0.2598 - val_acc: 0.9240\n",
      "Epoch 7/20\n",
      "60000/60000 [==============================] - 6s 94us/step - loss: 0.2589 - acc: 0.9257 - val_loss: 0.2421 - val_acc: 0.9300\n",
      "Epoch 8/20\n",
      "60000/60000 [==============================] - 5s 90us/step - loss: 0.2439 - acc: 0.9306 - val_loss: 0.2334 - val_acc: 0.9329\n",
      "Epoch 9/20\n",
      "60000/60000 [==============================] - 6s 92us/step - loss: 0.2307 - acc: 0.9335 - val_loss: 0.2179 - val_acc: 0.9357\n",
      "Epoch 10/20\n",
      "60000/60000 [==============================] - 5s 91us/step - loss: 0.2192 - acc: 0.9373 - val_loss: 0.2093 - val_acc: 0.9374\n",
      "Epoch 11/20\n",
      "60000/60000 [==============================] - 5s 90us/step - loss: 0.2088 - acc: 0.9393 - val_loss: 0.2020 - val_acc: 0.9412\n",
      "Epoch 12/20\n",
      "60000/60000 [==============================] - 5s 91us/step - loss: 0.1991 - acc: 0.9428 - val_loss: 0.1923 - val_acc: 0.9433\n",
      "Epoch 13/20\n",
      "60000/60000 [==============================] - 6s 97us/step - loss: 0.1902 - acc: 0.9453 - val_loss: 0.1856 - val_acc: 0.9459\n",
      "Epoch 14/20\n",
      "60000/60000 [==============================] - 6s 107us/step - loss: 0.1822 - acc: 0.9476 - val_loss: 0.1770 - val_acc: 0.9477\n",
      "Epoch 15/20\n",
      "60000/60000 [==============================] - 7s 111us/step - loss: 0.1743 - acc: 0.9493 - val_loss: 0.1709 - val_acc: 0.9496\n",
      "Epoch 16/20\n",
      "60000/60000 [==============================] - 6s 98us/step - loss: 0.1672 - acc: 0.9518 - val_loss: 0.1652 - val_acc: 0.9521\n",
      "Epoch 17/20\n",
      "60000/60000 [==============================] - 6s 101us/step - loss: 0.1605 - acc: 0.9538 - val_loss: 0.1596 - val_acc: 0.9527\n",
      "Epoch 18/20\n",
      "60000/60000 [==============================] - 5s 90us/step - loss: 0.1545 - acc: 0.9557 - val_loss: 0.1570 - val_acc: 0.9529\n",
      "Epoch 19/20\n",
      "60000/60000 [==============================] - 6s 97us/step - loss: 0.1486 - acc: 0.9569 - val_loss: 0.1536 - val_acc: 0.9552\n",
      "Epoch 20/20\n",
      "60000/60000 [==============================] - 5s 89us/step - loss: 0.1432 - acc: 0.9587 - val_loss: 0.1465 - val_acc: 0.9555\n"
     ]
    },
    {
     "data": {
      "text/plain": [
       "42"
      ]
     },
     "execution_count": 27,
     "metadata": {},
     "output_type": "execute_result"
    },
    {
     "data": {
      "text/plain": [
       "24"
      ]
     },
     "execution_count": 27,
     "metadata": {},
     "output_type": "execute_result"
    },
    {
     "data": {
      "text/plain": [
       "1"
      ]
     },
     "execution_count": 27,
     "metadata": {},
     "output_type": "execute_result"
    },
    {
     "data": {
      "text/plain": [
       "15"
      ]
     },
     "execution_count": 27,
     "metadata": {},
     "output_type": "execute_result"
    },
    {
     "data": {
      "text/plain": [
       "2"
      ]
     },
     "execution_count": 27,
     "metadata": {},
     "output_type": "execute_result"
    },
    {
     "data": {
      "text/plain": [
       "[<matplotlib.lines.Line2D at 0x2912bb5d048>]"
      ]
     },
     "execution_count": 27,
     "metadata": {},
     "output_type": "execute_result"
    },
    {
     "data": {
      "text/plain": [
       "[<matplotlib.lines.Line2D at 0x2912bb5d4e0>]"
      ]
     },
     "execution_count": 27,
     "metadata": {},
     "output_type": "execute_result"
    },
    {
     "data": {
      "text/plain": [
       "Text(0.5,1,'model accuracy')"
      ]
     },
     "execution_count": 27,
     "metadata": {},
     "output_type": "execute_result"
    },
    {
     "data": {
      "text/plain": [
       "Text(0,0.5,'accuracy')"
      ]
     },
     "execution_count": 27,
     "metadata": {},
     "output_type": "execute_result"
    },
    {
     "data": {
      "text/plain": [
       "Text(0.5,0,'epoch')"
      ]
     },
     "execution_count": 27,
     "metadata": {},
     "output_type": "execute_result"
    },
    {
     "data": {
      "text/plain": [
       "<matplotlib.legend.Legend at 0x2912bb3ca20>"
      ]
     },
     "execution_count": 27,
     "metadata": {},
     "output_type": "execute_result"
    },
    {
     "data": {
      "text/plain": [
       "[<matplotlib.lines.Line2D at 0x2912bbc5fd0>]"
      ]
     },
     "execution_count": 27,
     "metadata": {},
     "output_type": "execute_result"
    },
    {
     "data": {
      "text/plain": [
       "[<matplotlib.lines.Line2D at 0x2912bbce160>]"
      ]
     },
     "execution_count": 27,
     "metadata": {},
     "output_type": "execute_result"
    },
    {
     "data": {
      "text/plain": [
       "Text(0.5,1,'model loss')"
      ]
     },
     "execution_count": 27,
     "metadata": {},
     "output_type": "execute_result"
    },
    {
     "data": {
      "text/plain": [
       "Text(0,0.5,'loss')"
      ]
     },
     "execution_count": 27,
     "metadata": {},
     "output_type": "execute_result"
    },
    {
     "data": {
      "text/plain": [
       "Text(0.5,0,'epoch')"
      ]
     },
     "execution_count": 27,
     "metadata": {},
     "output_type": "execute_result"
    },
    {
     "data": {
      "text/plain": [
       "<matplotlib.legend.Legend at 0x2912bbb69e8>"
      ]
     },
     "execution_count": 27,
     "metadata": {},
     "output_type": "execute_result"
    },
    {
     "name": "stdout",
     "output_type": "stream",
     "text": [
      "Analysis of results\n",
      "              precision    recall  f1-score   support\n",
      "\n",
      "           0       0.96      0.98      0.97       980\n",
      "           1       0.98      0.98      0.98      1135\n",
      "           2       0.95      0.95      0.95      1032\n",
      "           3       0.96      0.94      0.95      1010\n",
      "           4       0.94      0.97      0.95       982\n",
      "           5       0.94      0.94      0.94       892\n",
      "           6       0.95      0.96      0.96       958\n",
      "           7       0.96      0.95      0.96      1028\n",
      "           8       0.94      0.95      0.95       974\n",
      "           9       0.97      0.92      0.94      1009\n",
      "\n",
      "   micro avg       0.96      0.96      0.96     10000\n",
      "   macro avg       0.96      0.96      0.95     10000\n",
      "weighted avg       0.96      0.96      0.96     10000\n",
      "\n",
      "[[ 965    0    0    0    0    6    5    2    2    0]\n",
      " [   0 1116    2    2    0    1    4    2    8    0]\n",
      " [   8    2  982    6    6    2    8   10    8    0]\n",
      " [   0    1   12  951    0   18    1   12   14    1]\n",
      " [   1    0    4    0  949    1    8    2    3   14]\n",
      " [   9    1    1   13    4  841   11    0    8    4]\n",
      " [   8    3    3    0    6   10  923    1    4    0]\n",
      " [   3   10   20    3    3    0    0  979    1    9]\n",
      " [   4    1    4   10    7    5   12    7  923    1]\n",
      " [  10    7    1    8   35    7    1    7    7  926]]\n",
      "Train on 60000 samples, validate on 10000 samples\n",
      "Epoch 1/20\n",
      "60000/60000 [==============================] - 8s 128us/step - loss: 1.4493 - acc: 0.6395 - val_loss: 0.6072 - val_acc: 0.8585\n",
      "Epoch 2/20\n",
      "60000/60000 [==============================] - 6s 97us/step - loss: 0.4809 - acc: 0.8722 - val_loss: 0.3798 - val_acc: 0.8971\n",
      "Epoch 3/20\n",
      "60000/60000 [==============================] - 6s 99us/step - loss: 0.3665 - acc: 0.8964 - val_loss: 0.3252 - val_acc: 0.9064\n",
      "Epoch 4/20\n",
      "60000/60000 [==============================] - 6s 104us/step - loss: 0.3221 - acc: 0.9068 - val_loss: 0.2894 - val_acc: 0.9182\n",
      "Epoch 5/20\n",
      "60000/60000 [==============================] - 8s 133us/step - loss: 0.2950 - acc: 0.9151 - val_loss: 0.2744 - val_acc: 0.9228\n",
      "Epoch 6/20\n",
      "60000/60000 [==============================] - 7s 112us/step - loss: 0.2741 - acc: 0.9204 - val_loss: 0.2548 - val_acc: 0.9258\n",
      "Epoch 7/20\n",
      "60000/60000 [==============================] - 6s 108us/step - loss: 0.2571 - acc: 0.9258 - val_loss: 0.2393 - val_acc: 0.9315\n",
      "Epoch 8/20\n",
      "60000/60000 [==============================] - 6s 94us/step - loss: 0.2422 - acc: 0.9304 - val_loss: 0.2272 - val_acc: 0.9354\n",
      "Epoch 9/20\n",
      "60000/60000 [==============================] - 6s 101us/step - loss: 0.2293 - acc: 0.9343 - val_loss: 0.2212 - val_acc: 0.9366\n",
      "Epoch 10/20\n",
      "60000/60000 [==============================] - 6s 97us/step - loss: 0.2174 - acc: 0.9369 - val_loss: 0.2115 - val_acc: 0.9381\n",
      "Epoch 11/20\n",
      "60000/60000 [==============================] - 6s 94us/step - loss: 0.2068 - acc: 0.9403 - val_loss: 0.1981 - val_acc: 0.9427\n",
      "Epoch 12/20\n",
      "60000/60000 [==============================] - 6s 98us/step - loss: 0.1970 - acc: 0.9435 - val_loss: 0.1910 - val_acc: 0.9446\n",
      "Epoch 13/20\n",
      "60000/60000 [==============================] - 7s 112us/step - loss: 0.1881 - acc: 0.9459 - val_loss: 0.1825 - val_acc: 0.9465\n",
      "Epoch 14/20\n",
      "60000/60000 [==============================] - 7s 111us/step - loss: 0.1802 - acc: 0.9485 - val_loss: 0.1772 - val_acc: 0.9483\n",
      "Epoch 15/20\n",
      "60000/60000 [==============================] - 7s 114us/step - loss: 0.1728 - acc: 0.9504 - val_loss: 0.1715 - val_acc: 0.9496\n",
      "Epoch 16/20\n",
      "60000/60000 [==============================] - 7s 109us/step - loss: 0.1661 - acc: 0.9528 - val_loss: 0.1682 - val_acc: 0.9509\n",
      "Epoch 17/20\n",
      "60000/60000 [==============================] - 6s 103us/step - loss: 0.1597 - acc: 0.9537 - val_loss: 0.1618 - val_acc: 0.9530\n",
      "Epoch 18/20\n",
      "60000/60000 [==============================] - 6s 101us/step - loss: 0.1535 - acc: 0.9551 - val_loss: 0.1589 - val_acc: 0.9522\n",
      "Epoch 19/20\n",
      "60000/60000 [==============================] - 5s 91us/step - loss: 0.1481 - acc: 0.9572 - val_loss: 0.1520 - val_acc: 0.9548\n",
      "Epoch 20/20\n",
      "60000/60000 [==============================] - 6s 96us/step - loss: 0.1430 - acc: 0.9586 - val_loss: 0.1448 - val_acc: 0.9573\n"
     ]
    },
    {
     "data": {
      "text/plain": [
       "42"
      ]
     },
     "execution_count": 27,
     "metadata": {},
     "output_type": "execute_result"
    },
    {
     "data": {
      "text/plain": [
       "24"
      ]
     },
     "execution_count": 27,
     "metadata": {},
     "output_type": "execute_result"
    },
    {
     "data": {
      "text/plain": [
       "1"
      ]
     },
     "execution_count": 27,
     "metadata": {},
     "output_type": "execute_result"
    },
    {
     "data": {
      "text/plain": [
       "15"
      ]
     },
     "execution_count": 27,
     "metadata": {},
     "output_type": "execute_result"
    },
    {
     "data": {
      "text/plain": [
       "2"
      ]
     },
     "execution_count": 27,
     "metadata": {},
     "output_type": "execute_result"
    },
    {
     "data": {
      "text/plain": [
       "[<matplotlib.lines.Line2D at 0x29122d11dd8>]"
      ]
     },
     "execution_count": 27,
     "metadata": {},
     "output_type": "execute_result"
    },
    {
     "data": {
      "text/plain": [
       "[<matplotlib.lines.Line2D at 0x2912bf053c8>]"
      ]
     },
     "execution_count": 27,
     "metadata": {},
     "output_type": "execute_result"
    },
    {
     "data": {
      "text/plain": [
       "Text(0.5,1,'model accuracy')"
      ]
     },
     "execution_count": 27,
     "metadata": {},
     "output_type": "execute_result"
    },
    {
     "data": {
      "text/plain": [
       "Text(0,0.5,'accuracy')"
      ]
     },
     "execution_count": 27,
     "metadata": {},
     "output_type": "execute_result"
    },
    {
     "data": {
      "text/plain": [
       "Text(0.5,0,'epoch')"
      ]
     },
     "execution_count": 27,
     "metadata": {},
     "output_type": "execute_result"
    },
    {
     "data": {
      "text/plain": [
       "<matplotlib.legend.Legend at 0x2912baff240>"
      ]
     },
     "execution_count": 27,
     "metadata": {},
     "output_type": "execute_result"
    },
    {
     "data": {
      "text/plain": [
       "[<matplotlib.lines.Line2D at 0x2912cf3e5f8>]"
      ]
     },
     "execution_count": 27,
     "metadata": {},
     "output_type": "execute_result"
    },
    {
     "data": {
      "text/plain": [
       "[<matplotlib.lines.Line2D at 0x2912cf3e748>]"
      ]
     },
     "execution_count": 27,
     "metadata": {},
     "output_type": "execute_result"
    },
    {
     "data": {
      "text/plain": [
       "Text(0.5,1,'model loss')"
      ]
     },
     "execution_count": 27,
     "metadata": {},
     "output_type": "execute_result"
    },
    {
     "data": {
      "text/plain": [
       "Text(0,0.5,'loss')"
      ]
     },
     "execution_count": 27,
     "metadata": {},
     "output_type": "execute_result"
    },
    {
     "data": {
      "text/plain": [
       "Text(0.5,0,'epoch')"
      ]
     },
     "execution_count": 27,
     "metadata": {},
     "output_type": "execute_result"
    },
    {
     "data": {
      "text/plain": [
       "<matplotlib.legend.Legend at 0x2912cf27d68>"
      ]
     },
     "execution_count": 27,
     "metadata": {},
     "output_type": "execute_result"
    },
    {
     "name": "stdout",
     "output_type": "stream",
     "text": [
      "Analysis of results\n",
      "              precision    recall  f1-score   support\n",
      "\n",
      "           0       0.97      0.98      0.97       980\n",
      "           1       0.98      0.98      0.98      1135\n",
      "           2       0.96      0.96      0.96      1032\n",
      "           3       0.93      0.96      0.95      1010\n",
      "           4       0.95      0.96      0.96       982\n",
      "           5       0.96      0.93      0.95       892\n",
      "           6       0.96      0.96      0.96       958\n",
      "           7       0.96      0.95      0.96      1028\n",
      "           8       0.95      0.94      0.94       974\n",
      "           9       0.96      0.94      0.95      1009\n",
      "\n",
      "   micro avg       0.96      0.96      0.96     10000\n",
      "   macro avg       0.96      0.96      0.96     10000\n",
      "weighted avg       0.96      0.96      0.96     10000\n",
      "\n",
      "[[ 959    0    1    2    1    4    7    2    2    2]\n",
      " [   0 1115    2    2    0    1    5    2    8    0]\n",
      " [   6    2  986   11    6    1    2    8    8    2]\n",
      " [   1    0    9  971    0    8    0   10    9    2]\n",
      " [   1    0    7    1  947    0    5    1    4   16]\n",
      " [   8    1    1   17    1  830   12    2   14    6]\n",
      " [   7    3    3    1    8   10  924    0    2    0]\n",
      " [   1   10   16    8    6    1    0  975    1   10]\n",
      " [   3    1    3   18    7    6   10    4  919    3]\n",
      " [   3    6    2   11   25    1    1    8    5  947]]\n",
      "Train on 60000 samples, validate on 10000 samples\n",
      "Epoch 1/20\n",
      "60000/60000 [==============================] - 7s 124us/step - loss: 1.4588 - acc: 0.6332 - val_loss: 0.6409 - val_acc: 0.8446\n",
      "Epoch 2/20\n",
      "60000/60000 [==============================] - 6s 96us/step - loss: 0.4993 - acc: 0.8650 - val_loss: 0.3931 - val_acc: 0.8892\n",
      "Epoch 3/20\n",
      "60000/60000 [==============================] - 6s 92us/step - loss: 0.3741 - acc: 0.8941 - val_loss: 0.3331 - val_acc: 0.9034\n",
      "Epoch 4/20\n",
      "60000/60000 [==============================] - 6s 94us/step - loss: 0.3269 - acc: 0.9057 - val_loss: 0.2998 - val_acc: 0.9149\n",
      "Epoch 5/20\n",
      "60000/60000 [==============================] - 6s 92us/step - loss: 0.2968 - acc: 0.9144 - val_loss: 0.2756 - val_acc: 0.9187\n",
      "Epoch 6/20\n",
      "60000/60000 [==============================] - 6s 98us/step - loss: 0.2746 - acc: 0.9211 - val_loss: 0.2546 - val_acc: 0.9264\n",
      "Epoch 7/20\n",
      "60000/60000 [==============================] - 6s 97us/step - loss: 0.2561 - acc: 0.9266 - val_loss: 0.2394 - val_acc: 0.9306\n",
      "Epoch 8/20\n",
      "60000/60000 [==============================] - 6s 99us/step - loss: 0.2407 - acc: 0.9303 - val_loss: 0.2301 - val_acc: 0.9320\n",
      "Epoch 9/20\n",
      "60000/60000 [==============================] - 6s 93us/step - loss: 0.2267 - acc: 0.9346 - val_loss: 0.2177 - val_acc: 0.9352\n",
      "Epoch 10/20\n",
      "60000/60000 [==============================] - 6s 93us/step - loss: 0.2145 - acc: 0.9375 - val_loss: 0.2087 - val_acc: 0.9400\n",
      "Epoch 11/20\n",
      "60000/60000 [==============================] - 6s 96us/step - loss: 0.2040 - acc: 0.9412 - val_loss: 0.1965 - val_acc: 0.9420\n",
      "Epoch 12/20\n",
      "60000/60000 [==============================] - 6s 96us/step - loss: 0.1942 - acc: 0.9442 - val_loss: 0.1930 - val_acc: 0.9431\n",
      "Epoch 13/20\n",
      "60000/60000 [==============================] - 6s 98us/step - loss: 0.1849 - acc: 0.9468 - val_loss: 0.1814 - val_acc: 0.9466\n",
      "Epoch 14/20\n",
      "60000/60000 [==============================] - 6s 93us/step - loss: 0.1768 - acc: 0.9492 - val_loss: 0.1746 - val_acc: 0.9474\n",
      "Epoch 15/20\n",
      "60000/60000 [==============================] - 6s 93us/step - loss: 0.1691 - acc: 0.9512 - val_loss: 0.1686 - val_acc: 0.9510\n",
      "Epoch 16/20\n",
      "60000/60000 [==============================] - 6s 94us/step - loss: 0.1620 - acc: 0.9536 - val_loss: 0.1613 - val_acc: 0.9520\n",
      "Epoch 17/20\n",
      "60000/60000 [==============================] - 6s 94us/step - loss: 0.1556 - acc: 0.9556 - val_loss: 0.1586 - val_acc: 0.9522\n",
      "Epoch 18/20\n",
      "60000/60000 [==============================] - 6s 98us/step - loss: 0.1495 - acc: 0.9573 - val_loss: 0.1518 - val_acc: 0.9539\n",
      "Epoch 19/20\n",
      "60000/60000 [==============================] - 6s 96us/step - loss: 0.1440 - acc: 0.9585 - val_loss: 0.1471 - val_acc: 0.9552\n",
      "Epoch 20/20\n",
      "60000/60000 [==============================] - 6s 93us/step - loss: 0.1388 - acc: 0.9599 - val_loss: 0.1450 - val_acc: 0.9565\n"
     ]
    },
    {
     "data": {
      "text/plain": [
       "42"
      ]
     },
     "execution_count": 27,
     "metadata": {},
     "output_type": "execute_result"
    },
    {
     "data": {
      "text/plain": [
       "24"
      ]
     },
     "execution_count": 27,
     "metadata": {},
     "output_type": "execute_result"
    },
    {
     "data": {
      "text/plain": [
       "1"
      ]
     },
     "execution_count": 27,
     "metadata": {},
     "output_type": "execute_result"
    },
    {
     "data": {
      "text/plain": [
       "15"
      ]
     },
     "execution_count": 27,
     "metadata": {},
     "output_type": "execute_result"
    },
    {
     "data": {
      "text/plain": [
       "2"
      ]
     },
     "execution_count": 27,
     "metadata": {},
     "output_type": "execute_result"
    },
    {
     "data": {
      "text/plain": [
       "[<matplotlib.lines.Line2D at 0x2912e265c88>]"
      ]
     },
     "execution_count": 27,
     "metadata": {},
     "output_type": "execute_result"
    },
    {
     "data": {
      "text/plain": [
       "[<matplotlib.lines.Line2D at 0x2912e2771d0>]"
      ]
     },
     "execution_count": 27,
     "metadata": {},
     "output_type": "execute_result"
    },
    {
     "data": {
      "text/plain": [
       "Text(0.5,1,'model accuracy')"
      ]
     },
     "execution_count": 27,
     "metadata": {},
     "output_type": "execute_result"
    },
    {
     "data": {
      "text/plain": [
       "Text(0,0.5,'accuracy')"
      ]
     },
     "execution_count": 27,
     "metadata": {},
     "output_type": "execute_result"
    },
    {
     "data": {
      "text/plain": [
       "Text(0.5,0,'epoch')"
      ]
     },
     "execution_count": 27,
     "metadata": {},
     "output_type": "execute_result"
    },
    {
     "data": {
      "text/plain": [
       "<matplotlib.legend.Legend at 0x2912e254780>"
      ]
     },
     "execution_count": 27,
     "metadata": {},
     "output_type": "execute_result"
    },
    {
     "data": {
      "text/plain": [
       "[<matplotlib.lines.Line2D at 0x2912e2e3c50>]"
      ]
     },
     "execution_count": 27,
     "metadata": {},
     "output_type": "execute_result"
    },
    {
     "data": {
      "text/plain": [
       "[<matplotlib.lines.Line2D at 0x2912e2eb1d0>]"
      ]
     },
     "execution_count": 27,
     "metadata": {},
     "output_type": "execute_result"
    },
    {
     "data": {
      "text/plain": [
       "Text(0.5,1,'model loss')"
      ]
     },
     "execution_count": 27,
     "metadata": {},
     "output_type": "execute_result"
    },
    {
     "data": {
      "text/plain": [
       "Text(0,0.5,'loss')"
      ]
     },
     "execution_count": 27,
     "metadata": {},
     "output_type": "execute_result"
    },
    {
     "data": {
      "text/plain": [
       "Text(0.5,0,'epoch')"
      ]
     },
     "execution_count": 27,
     "metadata": {},
     "output_type": "execute_result"
    },
    {
     "data": {
      "text/plain": [
       "<matplotlib.legend.Legend at 0x2912e2e3da0>"
      ]
     },
     "execution_count": 27,
     "metadata": {},
     "output_type": "execute_result"
    },
    {
     "name": "stdout",
     "output_type": "stream",
     "text": [
      "Analysis of results\n",
      "              precision    recall  f1-score   support\n",
      "\n",
      "           0       0.96      0.99      0.97       980\n",
      "           1       0.97      0.99      0.98      1135\n",
      "           2       0.97      0.95      0.96      1032\n",
      "           3       0.93      0.97      0.95      1010\n",
      "           4       0.96      0.95      0.95       982\n",
      "           5       0.95      0.95      0.95       892\n",
      "           6       0.96      0.95      0.96       958\n",
      "           7       0.95      0.95      0.95      1028\n",
      "           8       0.97      0.92      0.95       974\n",
      "           9       0.94      0.94      0.94      1009\n",
      "\n",
      "   micro avg       0.96      0.96      0.96     10000\n",
      "   macro avg       0.96      0.96      0.96     10000\n",
      "weighted avg       0.96      0.96      0.96     10000\n",
      "\n",
      "[[ 966    0    0    2    0    5    2    2    1    2]\n",
      " [   0 1120    3    2    1    1    3    2    3    0]\n",
      " [   7    6  981   12    4    0    5   11    6    0]\n",
      " [   0    1    3  979    0   11    0    8    5    3]\n",
      " [   1    1    5    1  934    0    7    3    3   27]\n",
      " [   7    2    1   13    2  846    9    0    5    7]\n",
      " [  11    4    4    1    7   15  913    0    3    0]\n",
      " [   0   11   11    5    2    1    0  980    0   18]\n",
      " [   5    5    2   21    9   10    7    9  900    6]\n",
      " [   5    9    2   12   17    2    1   13    2  946]]\n",
      "Train on 60000 samples, validate on 10000 samples\n",
      "Epoch 1/20\n",
      "60000/60000 [==============================] - 8s 130us/step - loss: 1.3983 - acc: 0.6642 - val_loss: 0.5989 - val_acc: 0.8520\n",
      "Epoch 2/20\n",
      "60000/60000 [==============================] - 6s 99us/step - loss: 0.4837 - acc: 0.8700 - val_loss: 0.3823 - val_acc: 0.8957\n",
      "Epoch 3/20\n",
      "60000/60000 [==============================] - 6s 97us/step - loss: 0.3699 - acc: 0.8957 - val_loss: 0.3247 - val_acc: 0.9088\n",
      "Epoch 4/20\n",
      "60000/60000 [==============================] - 6s 99us/step - loss: 0.3253 - acc: 0.9060 - val_loss: 0.2941 - val_acc: 0.9162\n",
      "Epoch 5/20\n",
      "60000/60000 [==============================] - 6s 102us/step - loss: 0.2971 - acc: 0.9140 - val_loss: 0.2737 - val_acc: 0.9213\n",
      "Epoch 6/20\n",
      "60000/60000 [==============================] - 6s 100us/step - loss: 0.2755 - acc: 0.9196 - val_loss: 0.2548 - val_acc: 0.9257\n",
      "Epoch 7/20\n",
      "60000/60000 [==============================] - 6s 96us/step - loss: 0.2579 - acc: 0.9249 - val_loss: 0.2422 - val_acc: 0.9312\n",
      "Epoch 8/20\n",
      "60000/60000 [==============================] - 6s 99us/step - loss: 0.2431 - acc: 0.9297 - val_loss: 0.2265 - val_acc: 0.9353\n",
      "Epoch 9/20\n",
      "60000/60000 [==============================] - 6s 95us/step - loss: 0.2290 - acc: 0.9337 - val_loss: 0.2173 - val_acc: 0.9391\n",
      "Epoch 10/20\n",
      "60000/60000 [==============================] - 6s 99us/step - loss: 0.2171 - acc: 0.9370 - val_loss: 0.2060 - val_acc: 0.9396\n",
      "Epoch 11/20\n",
      "60000/60000 [==============================] - 7s 110us/step - loss: 0.2060 - acc: 0.9405 - val_loss: 0.2002 - val_acc: 0.9413\n",
      "Epoch 12/20\n",
      "60000/60000 [==============================] - 6s 94us/step - loss: 0.1959 - acc: 0.9431 - val_loss: 0.1898 - val_acc: 0.9435\n",
      "Epoch 13/20\n",
      "60000/60000 [==============================] - 6s 95us/step - loss: 0.1872 - acc: 0.9454 - val_loss: 0.1825 - val_acc: 0.9477\n",
      "Epoch 14/20\n",
      "60000/60000 [==============================] - 6s 95us/step - loss: 0.1788 - acc: 0.9484 - val_loss: 0.1762 - val_acc: 0.9495\n",
      "Epoch 15/20\n",
      "60000/60000 [==============================] - 6s 106us/step - loss: 0.1713 - acc: 0.9503 - val_loss: 0.1699 - val_acc: 0.9493\n",
      "Epoch 16/20\n",
      "60000/60000 [==============================] - 7s 124us/step - loss: 0.1641 - acc: 0.9524 - val_loss: 0.1667 - val_acc: 0.9513\n",
      "Epoch 17/20\n",
      "60000/60000 [==============================] - 7s 114us/step - loss: 0.1575 - acc: 0.9541 - val_loss: 0.1583 - val_acc: 0.9529\n",
      "Epoch 18/20\n",
      "60000/60000 [==============================] - 7s 111us/step - loss: 0.1516 - acc: 0.9564 - val_loss: 0.1532 - val_acc: 0.9543\n",
      "Epoch 19/20\n",
      "60000/60000 [==============================] - 6s 97us/step - loss: 0.1461 - acc: 0.9576 - val_loss: 0.1478 - val_acc: 0.9559\n",
      "Epoch 20/20\n",
      "60000/60000 [==============================] - 6s 101us/step - loss: 0.1407 - acc: 0.9590 - val_loss: 0.1453 - val_acc: 0.9565\n"
     ]
    },
    {
     "data": {
      "text/plain": [
       "42"
      ]
     },
     "execution_count": 27,
     "metadata": {},
     "output_type": "execute_result"
    },
    {
     "data": {
      "text/plain": [
       "24"
      ]
     },
     "execution_count": 27,
     "metadata": {},
     "output_type": "execute_result"
    },
    {
     "data": {
      "text/plain": [
       "1"
      ]
     },
     "execution_count": 27,
     "metadata": {},
     "output_type": "execute_result"
    },
    {
     "data": {
      "text/plain": [
       "15"
      ]
     },
     "execution_count": 27,
     "metadata": {},
     "output_type": "execute_result"
    },
    {
     "data": {
      "text/plain": [
       "2"
      ]
     },
     "execution_count": 27,
     "metadata": {},
     "output_type": "execute_result"
    },
    {
     "data": {
      "text/plain": [
       "[<matplotlib.lines.Line2D at 0x2912f5f6518>]"
      ]
     },
     "execution_count": 27,
     "metadata": {},
     "output_type": "execute_result"
    },
    {
     "data": {
      "text/plain": [
       "[<matplotlib.lines.Line2D at 0x2912f5f69b0>]"
      ]
     },
     "execution_count": 27,
     "metadata": {},
     "output_type": "execute_result"
    },
    {
     "data": {
      "text/plain": [
       "Text(0.5,1,'model accuracy')"
      ]
     },
     "execution_count": 27,
     "metadata": {},
     "output_type": "execute_result"
    },
    {
     "data": {
      "text/plain": [
       "Text(0,0.5,'accuracy')"
      ]
     },
     "execution_count": 27,
     "metadata": {},
     "output_type": "execute_result"
    },
    {
     "data": {
      "text/plain": [
       "Text(0.5,0,'epoch')"
      ]
     },
     "execution_count": 27,
     "metadata": {},
     "output_type": "execute_result"
    },
    {
     "data": {
      "text/plain": [
       "<matplotlib.legend.Legend at 0x2912f61bfd0>"
      ]
     },
     "execution_count": 27,
     "metadata": {},
     "output_type": "execute_result"
    },
    {
     "data": {
      "text/plain": [
       "[<matplotlib.lines.Line2D at 0x2912f6764e0>]"
      ]
     },
     "execution_count": 27,
     "metadata": {},
     "output_type": "execute_result"
    },
    {
     "data": {
      "text/plain": [
       "[<matplotlib.lines.Line2D at 0x2912f676630>]"
      ]
     },
     "execution_count": 27,
     "metadata": {},
     "output_type": "execute_result"
    },
    {
     "data": {
      "text/plain": [
       "Text(0.5,1,'model loss')"
      ]
     },
     "execution_count": 27,
     "metadata": {},
     "output_type": "execute_result"
    },
    {
     "data": {
      "text/plain": [
       "Text(0,0.5,'loss')"
      ]
     },
     "execution_count": 27,
     "metadata": {},
     "output_type": "execute_result"
    },
    {
     "data": {
      "text/plain": [
       "Text(0.5,0,'epoch')"
      ]
     },
     "execution_count": 27,
     "metadata": {},
     "output_type": "execute_result"
    },
    {
     "data": {
      "text/plain": [
       "<matplotlib.legend.Legend at 0x2912f65ef98>"
      ]
     },
     "execution_count": 27,
     "metadata": {},
     "output_type": "execute_result"
    },
    {
     "name": "stdout",
     "output_type": "stream",
     "text": [
      "Analysis of results\n",
      "              precision    recall  f1-score   support\n",
      "\n",
      "           0       0.97      0.99      0.98       980\n",
      "           1       0.98      0.98      0.98      1135\n",
      "           2       0.96      0.95      0.96      1032\n",
      "           3       0.96      0.95      0.95      1010\n",
      "           4       0.95      0.96      0.96       982\n",
      "           5       0.95      0.95      0.95       892\n",
      "           6       0.95      0.97      0.96       958\n",
      "           7       0.97      0.94      0.95      1028\n",
      "           8       0.94      0.94      0.94       974\n",
      "           9       0.93      0.94      0.94      1009\n",
      "\n",
      "   micro avg       0.96      0.96      0.96     10000\n",
      "   macro avg       0.96      0.96      0.96     10000\n",
      "weighted avg       0.96      0.96      0.96     10000\n",
      "\n",
      "[[ 966    0    1    1    0    4    5    1    1    1]\n",
      " [   0 1115    2    2    0    1    5    1    9    0]\n",
      " [   6    1  983   10    6    1    9    7    8    1]\n",
      " [   2    0    9  956    0   15    0    8   16    4]\n",
      " [   1    0    4    0  941    0    9    2    2   23]\n",
      " [   9    1    2    8    2  843   10    2    9    6]\n",
      " [   7    3    2    0    7   10  925    0    4    0]\n",
      " [   0   10   16    4    5    1    0  963    1   28]\n",
      " [   3    2    4   13    5    7   10    5  920    5]\n",
      " [   5    7    1    6   22    1    1    5    8  953]]\n",
      "Train on 60000 samples, validate on 10000 samples\n",
      "Epoch 1/20\n",
      "60000/60000 [==============================] - 9s 147us/step - loss: 1.4690 - acc: 0.6143 - val_loss: 0.6401 - val_acc: 0.8431\n",
      "Epoch 2/20\n",
      "60000/60000 [==============================] - 8s 132us/step - loss: 0.4943 - acc: 0.8690 - val_loss: 0.3841 - val_acc: 0.8931\n",
      "Epoch 3/20\n",
      "60000/60000 [==============================] - 11s 183us/step - loss: 0.3680 - acc: 0.8964 - val_loss: 0.3283 - val_acc: 0.9042\n",
      "Epoch 4/20\n",
      "60000/60000 [==============================] - 10s 169us/step - loss: 0.3211 - acc: 0.9076 - val_loss: 0.2915 - val_acc: 0.9158\n",
      "Epoch 5/20\n",
      "60000/60000 [==============================] - 10s 171us/step - loss: 0.2916 - acc: 0.9158 - val_loss: 0.2664 - val_acc: 0.9235\n",
      "Epoch 6/20\n",
      "60000/60000 [==============================] - 9s 152us/step - loss: 0.2693 - acc: 0.9227 - val_loss: 0.2496 - val_acc: 0.9284\n",
      "Epoch 7/20\n",
      "60000/60000 [==============================] - 8s 125us/step - loss: 0.2508 - acc: 0.9277 - val_loss: 0.2346 - val_acc: 0.9313\n",
      "Epoch 8/20\n",
      "60000/60000 [==============================] - 8s 128us/step - loss: 0.2350 - acc: 0.9323 - val_loss: 0.2191 - val_acc: 0.9367\n",
      "Epoch 9/20\n",
      "60000/60000 [==============================] - 8s 128us/step - loss: 0.2211 - acc: 0.9360 - val_loss: 0.2091 - val_acc: 0.9403\n",
      "Epoch 10/20\n",
      "60000/60000 [==============================] - 9s 155us/step - loss: 0.2092 - acc: 0.9395 - val_loss: 0.1967 - val_acc: 0.9437\n",
      "Epoch 11/20\n",
      "60000/60000 [==============================] - 10s 164us/step - loss: 0.1984 - acc: 0.9423 - val_loss: 0.1895 - val_acc: 0.9451\n",
      "Epoch 12/20\n",
      "60000/60000 [==============================] - 10s 166us/step - loss: 0.1890 - acc: 0.9451 - val_loss: 0.1834 - val_acc: 0.9475\n",
      "Epoch 13/20\n",
      "60000/60000 [==============================] - 9s 151us/step - loss: 0.1802 - acc: 0.9476 - val_loss: 0.1722 - val_acc: 0.9506\n",
      "Epoch 14/20\n",
      "60000/60000 [==============================] - 10s 158us/step - loss: 0.1718 - acc: 0.9499 - val_loss: 0.1674 - val_acc: 0.9501\n",
      "Epoch 15/20\n",
      "60000/60000 [==============================] - 9s 146us/step - loss: 0.1646 - acc: 0.9523 - val_loss: 0.1604 - val_acc: 0.9521\n",
      "Epoch 16/20\n",
      "60000/60000 [==============================] - 10s 169us/step - loss: 0.1578 - acc: 0.9538 - val_loss: 0.1542 - val_acc: 0.9544\n",
      "Epoch 17/20\n",
      "60000/60000 [==============================] - 10s 160us/step - loss: 0.1514 - acc: 0.9560 - val_loss: 0.1496 - val_acc: 0.9548\n",
      "Epoch 18/20\n",
      "60000/60000 [==============================] - 10s 162us/step - loss: 0.1458 - acc: 0.9579 - val_loss: 0.1455 - val_acc: 0.9567\n",
      "Epoch 19/20\n",
      "60000/60000 [==============================] - 9s 153us/step - loss: 0.1406 - acc: 0.9594 - val_loss: 0.1410 - val_acc: 0.9584\n",
      "Epoch 20/20\n",
      "60000/60000 [==============================] - 9s 151us/step - loss: 0.1357 - acc: 0.9600 - val_loss: 0.1344 - val_acc: 0.9596\n"
     ]
    },
    {
     "data": {
      "text/plain": [
       "42"
      ]
     },
     "execution_count": 27,
     "metadata": {},
     "output_type": "execute_result"
    },
    {
     "data": {
      "text/plain": [
       "24"
      ]
     },
     "execution_count": 27,
     "metadata": {},
     "output_type": "execute_result"
    },
    {
     "data": {
      "text/plain": [
       "1"
      ]
     },
     "execution_count": 27,
     "metadata": {},
     "output_type": "execute_result"
    },
    {
     "data": {
      "text/plain": [
       "15"
      ]
     },
     "execution_count": 27,
     "metadata": {},
     "output_type": "execute_result"
    },
    {
     "data": {
      "text/plain": [
       "2"
      ]
     },
     "execution_count": 27,
     "metadata": {},
     "output_type": "execute_result"
    },
    {
     "data": {
      "text/plain": [
       "[<matplotlib.lines.Line2D at 0x29130c1cd68>]"
      ]
     },
     "execution_count": 27,
     "metadata": {},
     "output_type": "execute_result"
    },
    {
     "data": {
      "text/plain": [
       "[<matplotlib.lines.Line2D at 0x29130c252b0>]"
      ]
     },
     "execution_count": 27,
     "metadata": {},
     "output_type": "execute_result"
    },
    {
     "data": {
      "text/plain": [
       "Text(0.5,1,'model accuracy')"
      ]
     },
     "execution_count": 27,
     "metadata": {},
     "output_type": "execute_result"
    },
    {
     "data": {
      "text/plain": [
       "Text(0,0.5,'accuracy')"
      ]
     },
     "execution_count": 27,
     "metadata": {},
     "output_type": "execute_result"
    },
    {
     "data": {
      "text/plain": [
       "Text(0.5,0,'epoch')"
      ]
     },
     "execution_count": 27,
     "metadata": {},
     "output_type": "execute_result"
    },
    {
     "data": {
      "text/plain": [
       "<matplotlib.legend.Legend at 0x29130c36780>"
      ]
     },
     "execution_count": 27,
     "metadata": {},
     "output_type": "execute_result"
    },
    {
     "data": {
      "text/plain": [
       "[<matplotlib.lines.Line2D at 0x29130ca6208>]"
      ]
     },
     "execution_count": 27,
     "metadata": {},
     "output_type": "execute_result"
    },
    {
     "data": {
      "text/plain": [
       "[<matplotlib.lines.Line2D at 0x29130ca67b8>]"
      ]
     },
     "execution_count": 27,
     "metadata": {},
     "output_type": "execute_result"
    },
    {
     "data": {
      "text/plain": [
       "Text(0.5,1,'model loss')"
      ]
     },
     "execution_count": 27,
     "metadata": {},
     "output_type": "execute_result"
    },
    {
     "data": {
      "text/plain": [
       "Text(0,0.5,'loss')"
      ]
     },
     "execution_count": 27,
     "metadata": {},
     "output_type": "execute_result"
    },
    {
     "data": {
      "text/plain": [
       "Text(0.5,0,'epoch')"
      ]
     },
     "execution_count": 27,
     "metadata": {},
     "output_type": "execute_result"
    },
    {
     "data": {
      "text/plain": [
       "<matplotlib.legend.Legend at 0x29130c8fcc0>"
      ]
     },
     "execution_count": 27,
     "metadata": {},
     "output_type": "execute_result"
    },
    {
     "name": "stdout",
     "output_type": "stream",
     "text": [
      "Analysis of results\n",
      "              precision    recall  f1-score   support\n",
      "\n",
      "           0       0.97      0.98      0.97       980\n",
      "           1       0.98      0.98      0.98      1135\n",
      "           2       0.97      0.96      0.96      1032\n",
      "           3       0.95      0.96      0.95      1010\n",
      "           4       0.96      0.96      0.96       982\n",
      "           5       0.96      0.95      0.95       892\n",
      "           6       0.96      0.96      0.96       958\n",
      "           7       0.97      0.95      0.96      1028\n",
      "           8       0.94      0.94      0.94       974\n",
      "           9       0.95      0.94      0.95      1009\n",
      "\n",
      "   micro avg       0.96      0.96      0.96     10000\n",
      "   macro avg       0.96      0.96      0.96     10000\n",
      "weighted avg       0.96      0.96      0.96     10000\n",
      "\n",
      "[[ 963    0    1    1    0    4    6    2    2    1]\n",
      " [   0 1115    1    3    0    1    5    2    8    0]\n",
      " [   9    1  986    8    5    0    3    8   10    2]\n",
      " [   0    0    5  974    0   11    0    7    8    5]\n",
      " [   1    0    2    1  945    0    9    1    2   21]\n",
      " [   7    1    1   12    2  846    9    0   11    3]\n",
      " [   6    3    0    0    9   10  924    0    6    0]\n",
      " [   2   11   16    3    3    0    0  973    2   18]\n",
      " [   4    2    2   19    6    6    8    6  918    3]\n",
      " [   5    6    2    9   18    3    1    7    6  952]]\n",
      "Train on 60000 samples, validate on 10000 samples\n",
      "Epoch 1/20\n",
      "60000/60000 [==============================] - 11s 178us/step - loss: 1.4756 - acc: 0.6226 - val_loss: 0.6314 - val_acc: 0.8399\n",
      "Epoch 2/20\n",
      "60000/60000 [==============================] - 7s 117us/step - loss: 0.4903 - acc: 0.8682 - val_loss: 0.3847 - val_acc: 0.8946\n",
      "Epoch 3/20\n",
      "60000/60000 [==============================] - 7s 116us/step - loss: 0.3661 - acc: 0.8965 - val_loss: 0.3214 - val_acc: 0.9087\n",
      "Epoch 4/20\n",
      "60000/60000 [==============================] - 7s 116us/step - loss: 0.3213 - acc: 0.9080 - val_loss: 0.2930 - val_acc: 0.9173\n",
      "Epoch 5/20\n",
      "60000/60000 [==============================] - 8s 129us/step - loss: 0.2935 - acc: 0.9160 - val_loss: 0.2733 - val_acc: 0.9239\n",
      "Epoch 6/20\n",
      "60000/60000 [==============================] - 8s 126us/step - loss: 0.2724 - acc: 0.9219 - val_loss: 0.2530 - val_acc: 0.9273\n",
      "Epoch 7/20\n",
      "60000/60000 [==============================] - 7s 119us/step - loss: 0.2555 - acc: 0.9261 - val_loss: 0.2408 - val_acc: 0.9306\n",
      "Epoch 8/20\n",
      "60000/60000 [==============================] - 7s 112us/step - loss: 0.2402 - acc: 0.9309 - val_loss: 0.2328 - val_acc: 0.9322\n",
      "Epoch 9/20\n",
      "60000/60000 [==============================] - 7s 114us/step - loss: 0.2273 - acc: 0.9341 - val_loss: 0.2171 - val_acc: 0.9374\n",
      "Epoch 10/20\n",
      "60000/60000 [==============================] - 9s 148us/step - loss: 0.2154 - acc: 0.9376 - val_loss: 0.2079 - val_acc: 0.9378\n",
      "Epoch 11/20\n",
      "60000/60000 [==============================] - 8s 132us/step - loss: 0.2048 - acc: 0.9406 - val_loss: 0.2005 - val_acc: 0.9408\n",
      "Epoch 12/20\n",
      "60000/60000 [==============================] - 7s 117us/step - loss: 0.1951 - acc: 0.9433 - val_loss: 0.1904 - val_acc: 0.9438\n",
      "Epoch 13/20\n",
      "60000/60000 [==============================] - 7s 109us/step - loss: 0.1859 - acc: 0.9461 - val_loss: 0.1841 - val_acc: 0.9454\n",
      "Epoch 14/20\n",
      "60000/60000 [==============================] - 7s 109us/step - loss: 0.1778 - acc: 0.9488 - val_loss: 0.1750 - val_acc: 0.9475\n",
      "Epoch 15/20\n",
      "60000/60000 [==============================] - 6s 104us/step - loss: 0.1706 - acc: 0.9509 - val_loss: 0.1700 - val_acc: 0.9489\n",
      "Epoch 16/20\n",
      "60000/60000 [==============================] - 6s 107us/step - loss: 0.1635 - acc: 0.9531 - val_loss: 0.1651 - val_acc: 0.9506\n",
      "Epoch 17/20\n",
      "60000/60000 [==============================] - 6s 102us/step - loss: 0.1572 - acc: 0.9547 - val_loss: 0.1573 - val_acc: 0.9524\n",
      "Epoch 18/20\n",
      "60000/60000 [==============================] - 6s 99us/step - loss: 0.1511 - acc: 0.9567 - val_loss: 0.1548 - val_acc: 0.9547\n",
      "Epoch 19/20\n",
      "60000/60000 [==============================] - 6s 100us/step - loss: 0.1454 - acc: 0.9578 - val_loss: 0.1490 - val_acc: 0.9568\n",
      "Epoch 20/20\n",
      "60000/60000 [==============================] - 6s 105us/step - loss: 0.1402 - acc: 0.9599 - val_loss: 0.1428 - val_acc: 0.9588\n"
     ]
    },
    {
     "data": {
      "text/plain": [
       "42"
      ]
     },
     "execution_count": 27,
     "metadata": {},
     "output_type": "execute_result"
    },
    {
     "data": {
      "text/plain": [
       "24"
      ]
     },
     "execution_count": 27,
     "metadata": {},
     "output_type": "execute_result"
    },
    {
     "data": {
      "text/plain": [
       "1"
      ]
     },
     "execution_count": 27,
     "metadata": {},
     "output_type": "execute_result"
    },
    {
     "data": {
      "text/plain": [
       "15"
      ]
     },
     "execution_count": 27,
     "metadata": {},
     "output_type": "execute_result"
    },
    {
     "data": {
      "text/plain": [
       "2"
      ]
     },
     "execution_count": 27,
     "metadata": {},
     "output_type": "execute_result"
    },
    {
     "data": {
      "text/plain": [
       "[<matplotlib.lines.Line2D at 0x29130fdcac8>]"
      ]
     },
     "execution_count": 27,
     "metadata": {},
     "output_type": "execute_result"
    },
    {
     "data": {
      "text/plain": [
       "[<matplotlib.lines.Line2D at 0x29130fdcf60>]"
      ]
     },
     "execution_count": 27,
     "metadata": {},
     "output_type": "execute_result"
    },
    {
     "data": {
      "text/plain": [
       "Text(0.5,1,'model accuracy')"
      ]
     },
     "execution_count": 27,
     "metadata": {},
     "output_type": "execute_result"
    },
    {
     "data": {
      "text/plain": [
       "Text(0,0.5,'accuracy')"
      ]
     },
     "execution_count": 27,
     "metadata": {},
     "output_type": "execute_result"
    },
    {
     "data": {
      "text/plain": [
       "Text(0.5,0,'epoch')"
      ]
     },
     "execution_count": 27,
     "metadata": {},
     "output_type": "execute_result"
    },
    {
     "data": {
      "text/plain": [
       "<matplotlib.legend.Legend at 0x291310024e0>"
      ]
     },
     "execution_count": 27,
     "metadata": {},
     "output_type": "execute_result"
    },
    {
     "data": {
      "text/plain": [
       "[<matplotlib.lines.Line2D at 0x29131061a90>]"
      ]
     },
     "execution_count": 27,
     "metadata": {},
     "output_type": "execute_result"
    },
    {
     "data": {
      "text/plain": [
       "[<matplotlib.lines.Line2D at 0x29131061f28>]"
      ]
     },
     "execution_count": 27,
     "metadata": {},
     "output_type": "execute_result"
    },
    {
     "data": {
      "text/plain": [
       "Text(0.5,1,'model loss')"
      ]
     },
     "execution_count": 27,
     "metadata": {},
     "output_type": "execute_result"
    },
    {
     "data": {
      "text/plain": [
       "Text(0,0.5,'loss')"
      ]
     },
     "execution_count": 27,
     "metadata": {},
     "output_type": "execute_result"
    },
    {
     "data": {
      "text/plain": [
       "Text(0.5,0,'epoch')"
      ]
     },
     "execution_count": 27,
     "metadata": {},
     "output_type": "execute_result"
    },
    {
     "data": {
      "text/plain": [
       "<matplotlib.legend.Legend at 0x291310504a8>"
      ]
     },
     "execution_count": 27,
     "metadata": {},
     "output_type": "execute_result"
    },
    {
     "name": "stdout",
     "output_type": "stream",
     "text": [
      "Analysis of results\n",
      "              precision    recall  f1-score   support\n",
      "\n",
      "           0       0.97      0.98      0.98       980\n",
      "           1       0.98      0.99      0.98      1135\n",
      "           2       0.96      0.96      0.96      1032\n",
      "           3       0.94      0.96      0.95      1010\n",
      "           4       0.95      0.96      0.95       982\n",
      "           5       0.96      0.93      0.95       892\n",
      "           6       0.96      0.97      0.96       958\n",
      "           7       0.96      0.96      0.96      1028\n",
      "           8       0.96      0.95      0.95       974\n",
      "           9       0.95      0.93      0.94      1009\n",
      "\n",
      "   micro avg       0.96      0.96      0.96     10000\n",
      "   macro avg       0.96      0.96      0.96     10000\n",
      "weighted avg       0.96      0.96      0.96     10000\n",
      "\n",
      "[[ 960    0    1    1    0    6    6    2    3    1]\n",
      " [   0 1119    3    2    0    1    3    1    6    0]\n",
      " [   5    2  994    8    6    0    5    5    6    1]\n",
      " [   0    1    5  974    0    7    0   11    8    4]\n",
      " [   1    1    6    0  940    0    5    2    3   24]\n",
      " [   7    2    1   21    3  833    9    1    9    6]\n",
      " [   8    3    4    0    6    8  925    1    3    0]\n",
      " [   0    9   17    4    1    1    0  982    0   14]\n",
      " [   3    2    3   15    6    7    7    5  923    3]\n",
      " [   5    8    3   13   26    4    1    8    3  938]]\n",
      "\n",
      "\n",
      "\n",
      "\n",
      " ########################## FINISHED ##########################\n",
      "\n",
      " Total execution time 4008.715296284522\n"
     ]
    }
   ],
   "source": [
    "#global variables\n",
    "plots_folder = Path(\"plots/\")\n",
    "models_folder = Path(\"models/\")\n",
    "times_dict = {\"Compilation time\": [], \"Training time\": []}\n",
    "total_history = []\n",
    "text_file = \"score file.txt\"\n",
    "train_scores = []\n",
    "evaluation_scores = []\n",
    "model_name = \"fnn_mnist\"\n",
    "\n",
    "#neural net architecture config\n",
    "n_hlayers = 0\n",
    "n_neurons = 401\n",
    "initial_neurons = 128\n",
    "neurons_step = 10\n",
    "n_epochs= 20\n",
    "n_batch_size= 128\n",
    "    \n",
    "text_file =  model_name + \"_\" + text_file\n",
    "\n",
    "start_time = time.clock()\n",
    "print(\"Using keras version %s\" % keras.__version__)\n",
    "\n",
    "#Load the MNIST dataset\n",
    "(x_train, y_train), (x_test, y_test) = mnist.load_data()  # loading of MNIST dataset\n",
    "\n",
    "#check sizes\n",
    "print(\"\\n\")\n",
    "print(\"Number of training examples: '{0}'\".format(x_train.shape[0]))\n",
    "print(\"Size of train samples: '{0}'\".format(x_train.shape[1:]))\n",
    "print(\"Size of test samples: '{0}'\".format(x_test.shape[1:]))\n",
    "\n",
    "#Data to 1D and normalization\n",
    "x_train = x_train.reshape(60000, 784) #60000 observations of 784 features\n",
    "x_test = x_test.reshape(10000, 784) # 10000 observations of 784 features\n",
    "\n",
    "x_train = x_train.astype('float32')\n",
    "x_test = x_test.astype('float32')\n",
    "x_train = x_train / 255\n",
    "x_test = x_test / 255\n",
    "\n",
    "# Adapts labels to one hot encoding vector for softmax classifier\n",
    "y_train = np_utils.to_categorical(y_train, 10)\n",
    "y_test = np_utils.to_categorical(y_test, 10)\n",
    "    \n",
    "#Neural network architecture\n",
    "if n_neurons==0:\n",
    "    neurons=64\n",
    "    model_name = \"fnn_fixed_neurons\"\n",
    "    plots_folder = plots_folder / model_name\n",
    "    text_file = model_name + \"_\" + text_file\n",
    "    for layers in range(n_hlayers):\n",
    "        nn = Sequential()\n",
    "        nn.add(Dense(initial_neurons, activation='relu', input_shape=(784,)))\n",
    "        for i in range(layers):\n",
    "            nn.add(Dense(neurons, activation = 'relu'))\n",
    "        nn.add(Dense(10, activation='softmax'))\n",
    "\n",
    "        #Model visualization\n",
    "        #The plot of the model needs pydot, graphviz and pydot-ng\n",
    "        #plot_model(nn, to_file='nn.png', show_shapes = True)\n",
    "\n",
    "        #Compile the model\n",
    "        time_compiling = time.clock()\n",
    "        nn.compile(optimizer = 'sgd', loss='categorical_crossentropy', metrics = ['accuracy'])\n",
    "        print(\"Compiling the network time {0} with layers equal to {1}\".format(time.clock() - time_compiling, layers + 1))\n",
    "        times_dict[\"Compilation time\"].append(time.clock() - time_compiling)\n",
    "        time_training = time.clock()\n",
    "        #train the model\n",
    "        history = nn.fit(x_train, y_train, batch_size = n_batch_size, epochs=n_epochs, validation_data=(x_test,y_test))\n",
    "        print(\"Training time {0} with layers equal to {1}\".format(time.clock() - time_training, layers + 1))\n",
    "        times_dict[\"Training time\"].append(time.clock() - time_training)\n",
    "        train_scores.append((history.history[\"acc\"][-1], history.history[\"loss\"][-1]))\n",
    "\n",
    "        #Evaluate the model\n",
    "        score = nn.evaluate(x_test, y_test, verbose=0) #returns loss and metrics (accuracy)\n",
    "        evaluation_scores.append(score)\n",
    "\n",
    "        with open('{}'.format(text_file), 'a') as f:\n",
    "            f.write(\"Scores for neural network with {} layers: \\n\".format(layers + 1))\n",
    "            f.write(\"Loss {}\".format(score[0]))\n",
    "            f.write(\"\\n\")\n",
    "            f.write(\"Accuracy {}\".format(score[1]))\n",
    "            f.write(\"\\n\\n\")\n",
    "\n",
    "        #Store plots\n",
    "        # Accuracy plot\n",
    "        plt.plot(history.history['acc'])\n",
    "        plt.plot(history.history['val_acc'])\n",
    "        plt.title('model accuracy')\n",
    "        plt.ylabel('accuracy')\n",
    "        plt.xlabel('epoch')\n",
    "        plt.legend(['train', 'test'], loc='upper left')\n",
    "        plot_name = \"model_accuracy_with_{}_layers_and_{}_neurons.\".format(layers+1, neurons)\n",
    "        plt.savefig(plots_folder / plot_name)\n",
    "        plt.close()\n",
    "        # Loss plot\n",
    "        plt.plot(history.history['loss'])\n",
    "        plt.plot(history.history['val_loss'])\n",
    "        plt.title('model loss')\n",
    "        plt.ylabel('loss')\n",
    "        plt.xlabel('epoch')\n",
    "        plt.legend(['train', 'test'], loc='upper left')\n",
    "        plot_name = 'model_loss_with_{}_layers_{}_neurons.'.format(layers + 1, neurons)\n",
    "        plt.savefig(plots_folder / plot_name)\n",
    "        plt.close()\n",
    "\n",
    "        total_history.append(history)\n",
    "\n",
    "        # Confusion Matrix\n",
    "        # Compute probabilities\n",
    "        Y_pred = nn.predict(x_test)\n",
    "        # Assign most probable label\n",
    "        y_pred = np.argmax(Y_pred, axis=1)\n",
    "        # Plot statistics\n",
    "        print('Analysis of results')\n",
    "        target_names = ['0', '1', '2', '3', '4', '5', '6', '7', '8', '9']\n",
    "        print(classification_report(np.argmax(y_test, axis=1), y_pred, target_names=target_names))\n",
    "        print(confusion_matrix(np.argmax(y_test, axis=1), y_pred))\n",
    "else:\n",
    "    layers = 2\n",
    "    model_name = \"fnn_fixed_layers\"\n",
    "    plots_folder = plots_folder / model_name\n",
    "    text_file = model_name + \"_\" + text_file\n",
    "    for neurons in range(2, n_neurons, neurons_step):\n",
    "        nn = Sequential()\n",
    "        nn.add(Dense(initial_neurons, activation='relu', input_shape=(784,)))\n",
    "        for i in range(layers):\n",
    "            nn.add(Dense(neurons, activation = 'relu'))\n",
    "        nn.add(Dense(10, activation='softmax'))\n",
    "\n",
    "        #Model visualization\n",
    "        #The plot of the model needs pydot, graphviz and pydot-ng\n",
    "        #plot_model(nn, to_file='nn.png', show_shapes = True)\n",
    "\n",
    "        #Compile the model\n",
    "        time_compiling = time.clock()\n",
    "        nn.compile(optimizer = 'sgd', loss='categorical_crossentropy', metrics = ['accuracy'])\n",
    "        times_dict[\"Compilation time\"].append(time.clock() - time_compiling)\n",
    "        time_training = time.clock()\n",
    "        #train the model\n",
    "        history = nn.fit(x_train, y_train, batch_size = n_batch_size, epochs=n_epochs, validation_data=(x_test,y_test))\n",
    "        times_dict[\"Training time\"].append(time.clock() - time_training)\n",
    "        train_scores.append((history.history[\"acc\"][-1], history.history[\"loss\"][-1]))\n",
    "\n",
    "        #Evaluate the model\n",
    "        score = nn.evaluate(x_test, y_test, verbose=0) #returns loss and metrics (accuracy)\n",
    "        evaluation_scores.append(score)\n",
    "\n",
    "        with open('{}'.format(text_file), 'a') as f:\n",
    "            f.write(\"Scores for neural network with {} layers: \\n\".format(layers + 1))\n",
    "            f.write(\"Loss {}\".format(score[0]))\n",
    "            f.write(\"\\n\")\n",
    "            f.write(\"Accuracy {}\".format(score[1]))\n",
    "            f.write(\"\\n\\n\")\n",
    "\n",
    "        #Store plots\n",
    "        # Accuracy plot\n",
    "        plt.plot(history.history['acc'])\n",
    "        plt.plot(history.history['val_acc'])\n",
    "        plt.title('model accuracy')\n",
    "        plt.ylabel('accuracy')\n",
    "        plt.xlabel('epoch')\n",
    "        plt.legend(['train', 'test'], loc='upper left')\n",
    "        plot_name = \"model_accuracy_with_{}_layers_and_{}_neurons.\".format(layers+1, neurons)\n",
    "        plt.savefig(plots_folder / plot_name)\n",
    "        plt.close()\n",
    "        # Loss plot\n",
    "        plt.plot(history.history['loss'])\n",
    "        plt.plot(history.history['val_loss'])\n",
    "        plt.title('model loss')\n",
    "        plt.ylabel('loss')\n",
    "        plt.xlabel('epoch')\n",
    "        plt.legend(['train', 'test'], loc='upper left')\n",
    "        plot_name = 'model_loss_with_{}_layers_{}_neurons.'.format(layers + 1, neurons)\n",
    "        plt.savefig(plots_folder / plot_name)\n",
    "        plt.close()\n",
    "\n",
    "        total_history.append(history)\n",
    "\n",
    "        # Confusion Matrix\n",
    "        # Compute probabilities\n",
    "        Y_pred = nn.predict(x_test)\n",
    "        # Assign most probable label\n",
    "        y_pred = np.argmax(Y_pred, axis=1)\n",
    "        # Plot statistics\n",
    "        print('Analysis of results')\n",
    "        target_names = ['0', '1', '2', '3', '4', '5', '6', '7', '8', '9']\n",
    "        print(classification_report(np.argmax(y_test, axis=1), y_pred, target_names=target_names))\n",
    "        print(confusion_matrix(np.argmax(y_test, axis=1), y_pred))\n",
    "\n",
    "#Execution time\n",
    "print(\"\\n\\n\\n\\n ########################## FINISHED ##########################\")\n",
    "print(\"\\n Total execution time {}\".format(time.clock()-start_time))\n",
    "\n",
    "# Ejemplo Confunde el 0 con el 6 (7 errores), el 9 con el 4 (20 errores) y el 3 con el 8 (21 errores).\n",
    "#La NN tiene un 96% accuracy"
   ]
  },
  {
   "cell_type": "code",
   "execution_count": 28,
   "metadata": {},
   "outputs": [
    {
     "data": {
      "text/plain": [
       "[<matplotlib.lines.Line2D at 0x29155590780>]"
      ]
     },
     "execution_count": 28,
     "metadata": {},
     "output_type": "execute_result"
    },
    {
     "data": {
      "text/plain": [
       "[<matplotlib.lines.Line2D at 0x291555904a8>]"
      ]
     },
     "execution_count": 28,
     "metadata": {},
     "output_type": "execute_result"
    },
    {
     "data": {
      "text/plain": [
       "[<matplotlib.lines.Line2D at 0x29155590b70>]"
      ]
     },
     "execution_count": 28,
     "metadata": {},
     "output_type": "execute_result"
    },
    {
     "data": {
      "text/plain": [
       "[<matplotlib.lines.Line2D at 0x291555a2ac8>]"
      ]
     },
     "execution_count": 28,
     "metadata": {},
     "output_type": "execute_result"
    },
    {
     "data": {
      "text/plain": [
       "[<matplotlib.lines.Line2D at 0x291555a2fd0>]"
      ]
     },
     "execution_count": 28,
     "metadata": {},
     "output_type": "execute_result"
    },
    {
     "data": {
      "text/plain": [
       "[<matplotlib.lines.Line2D at 0x291555a2748>]"
      ]
     },
     "execution_count": 28,
     "metadata": {},
     "output_type": "execute_result"
    },
    {
     "data": {
      "text/plain": [
       "[<matplotlib.lines.Line2D at 0x29155a19cc0>]"
      ]
     },
     "execution_count": 28,
     "metadata": {},
     "output_type": "execute_result"
    },
    {
     "data": {
      "text/plain": [
       "[<matplotlib.lines.Line2D at 0x29156a4ee48>]"
      ]
     },
     "execution_count": 28,
     "metadata": {},
     "output_type": "execute_result"
    },
    {
     "data": {
      "text/plain": [
       "[<matplotlib.lines.Line2D at 0x29156a4eef0>]"
      ]
     },
     "execution_count": 28,
     "metadata": {},
     "output_type": "execute_result"
    },
    {
     "data": {
      "text/plain": [
       "[<matplotlib.lines.Line2D at 0x29155574e80>]"
      ]
     },
     "execution_count": 28,
     "metadata": {},
     "output_type": "execute_result"
    },
    {
     "data": {
      "text/plain": [
       "[<matplotlib.lines.Line2D at 0x29155535860>]"
      ]
     },
     "execution_count": 28,
     "metadata": {},
     "output_type": "execute_result"
    },
    {
     "data": {
      "text/plain": [
       "[<matplotlib.lines.Line2D at 0x29155574b38>]"
      ]
     },
     "execution_count": 28,
     "metadata": {},
     "output_type": "execute_result"
    },
    {
     "data": {
      "text/plain": [
       "[<matplotlib.lines.Line2D at 0x2915552bcc0>]"
      ]
     },
     "execution_count": 28,
     "metadata": {},
     "output_type": "execute_result"
    },
    {
     "data": {
      "text/plain": [
       "[<matplotlib.lines.Line2D at 0x2915552bd68>]"
      ]
     },
     "execution_count": 28,
     "metadata": {},
     "output_type": "execute_result"
    },
    {
     "data": {
      "text/plain": [
       "[<matplotlib.lines.Line2D at 0x2915552b518>]"
      ]
     },
     "execution_count": 28,
     "metadata": {},
     "output_type": "execute_result"
    },
    {
     "data": {
      "text/plain": [
       "[<matplotlib.lines.Line2D at 0x2915552b940>]"
      ]
     },
     "execution_count": 28,
     "metadata": {},
     "output_type": "execute_result"
    },
    {
     "data": {
      "text/plain": [
       "[<matplotlib.lines.Line2D at 0x291555812b0>]"
      ]
     },
     "execution_count": 28,
     "metadata": {},
     "output_type": "execute_result"
    },
    {
     "data": {
      "text/plain": [
       "[<matplotlib.lines.Line2D at 0x29155581358>]"
      ]
     },
     "execution_count": 28,
     "metadata": {},
     "output_type": "execute_result"
    },
    {
     "data": {
      "text/plain": [
       "[<matplotlib.lines.Line2D at 0x29155581be0>]"
      ]
     },
     "execution_count": 28,
     "metadata": {},
     "output_type": "execute_result"
    },
    {
     "data": {
      "text/plain": [
       "[<matplotlib.lines.Line2D at 0x29155588f98>]"
      ]
     },
     "execution_count": 28,
     "metadata": {},
     "output_type": "execute_result"
    },
    {
     "data": {
      "text/plain": [
       "[<matplotlib.lines.Line2D at 0x29155588f28>]"
      ]
     },
     "execution_count": 28,
     "metadata": {},
     "output_type": "execute_result"
    },
    {
     "data": {
      "text/plain": [
       "[<matplotlib.lines.Line2D at 0x29155588cc0>]"
      ]
     },
     "execution_count": 28,
     "metadata": {},
     "output_type": "execute_result"
    },
    {
     "data": {
      "text/plain": [
       "[<matplotlib.lines.Line2D at 0x291555880b8>]"
      ]
     },
     "execution_count": 28,
     "metadata": {},
     "output_type": "execute_result"
    },
    {
     "data": {
      "text/plain": [
       "[<matplotlib.lines.Line2D at 0x29155a2cbe0>]"
      ]
     },
     "execution_count": 28,
     "metadata": {},
     "output_type": "execute_result"
    },
    {
     "data": {
      "text/plain": [
       "[<matplotlib.lines.Line2D at 0x29155a2c4a8>]"
      ]
     },
     "execution_count": 28,
     "metadata": {},
     "output_type": "execute_result"
    },
    {
     "data": {
      "text/plain": [
       "[<matplotlib.lines.Line2D at 0x291540cb9b0>]"
      ]
     },
     "execution_count": 28,
     "metadata": {},
     "output_type": "execute_result"
    },
    {
     "data": {
      "text/plain": [
       "[<matplotlib.lines.Line2D at 0x2913106f4e0>]"
      ]
     },
     "execution_count": 28,
     "metadata": {},
     "output_type": "execute_result"
    },
    {
     "data": {
      "text/plain": [
       "[<matplotlib.lines.Line2D at 0x2913108e2b0>]"
      ]
     },
     "execution_count": 28,
     "metadata": {},
     "output_type": "execute_result"
    },
    {
     "data": {
      "text/plain": [
       "[<matplotlib.lines.Line2D at 0x29131093320>]"
      ]
     },
     "execution_count": 28,
     "metadata": {},
     "output_type": "execute_result"
    },
    {
     "data": {
      "text/plain": [
       "[<matplotlib.lines.Line2D at 0x291310fd0b8>]"
      ]
     },
     "execution_count": 28,
     "metadata": {},
     "output_type": "execute_result"
    },
    {
     "data": {
      "text/plain": [
       "[<matplotlib.lines.Line2D at 0x291310fd208>]"
      ]
     },
     "execution_count": 28,
     "metadata": {},
     "output_type": "execute_result"
    },
    {
     "data": {
      "text/plain": [
       "[<matplotlib.lines.Line2D at 0x291310fd9e8>]"
      ]
     },
     "execution_count": 28,
     "metadata": {},
     "output_type": "execute_result"
    },
    {
     "data": {
      "text/plain": [
       "[<matplotlib.lines.Line2D at 0x291310fda58>]"
      ]
     },
     "execution_count": 28,
     "metadata": {},
     "output_type": "execute_result"
    },
    {
     "data": {
      "text/plain": [
       "[<matplotlib.lines.Line2D at 0x29131103208>]"
      ]
     },
     "execution_count": 28,
     "metadata": {},
     "output_type": "execute_result"
    },
    {
     "data": {
      "text/plain": [
       "[<matplotlib.lines.Line2D at 0x29131103710>]"
      ]
     },
     "execution_count": 28,
     "metadata": {},
     "output_type": "execute_result"
    },
    {
     "data": {
      "text/plain": [
       "[<matplotlib.lines.Line2D at 0x291311037b8>]"
      ]
     },
     "execution_count": 28,
     "metadata": {},
     "output_type": "execute_result"
    },
    {
     "data": {
      "text/plain": [
       "[<matplotlib.lines.Line2D at 0x29131103c18>]"
      ]
     },
     "execution_count": 28,
     "metadata": {},
     "output_type": "execute_result"
    },
    {
     "data": {
      "text/plain": [
       "[<matplotlib.lines.Line2D at 0x2913110c278>]"
      ]
     },
     "execution_count": 28,
     "metadata": {},
     "output_type": "execute_result"
    },
    {
     "data": {
      "text/plain": [
       "[<matplotlib.lines.Line2D at 0x2913110c8d0>]"
      ]
     },
     "execution_count": 28,
     "metadata": {},
     "output_type": "execute_result"
    },
    {
     "data": {
      "text/plain": [
       "[<matplotlib.lines.Line2D at 0x2913110c9b0>]"
      ]
     },
     "execution_count": 28,
     "metadata": {},
     "output_type": "execute_result"
    },
    {
     "data": {
      "text/plain": [
       "<matplotlib.legend.Legend at 0x2913110b0f0>"
      ]
     },
     "execution_count": 28,
     "metadata": {},
     "output_type": "execute_result"
    },
    {
     "data": {
      "text/plain": [
       "Text(0.5,1,'model accuracy by number of neurons')"
      ]
     },
     "execution_count": 28,
     "metadata": {},
     "output_type": "execute_result"
    },
    {
     "data": {
      "text/plain": [
       "Text(0,0.5,'accuracy')"
      ]
     },
     "execution_count": 28,
     "metadata": {},
     "output_type": "execute_result"
    },
    {
     "data": {
      "text/plain": [
       "Text(0.5,0,'epoch')"
      ]
     },
     "execution_count": 28,
     "metadata": {},
     "output_type": "execute_result"
    },
    {
     "data": {
      "text/plain": [
       "<Figure size 1296x1152 with 0 Axes>"
      ]
     },
     "execution_count": 28,
     "metadata": {},
     "output_type": "execute_result"
    },
    {
     "data": {
      "image/png": "[encoded data removed]",
      "text/plain": [
       "<Figure size 432x288 with 1 Axes>"
      ]
     },
     "metadata": {},
     "output_type": "display_data"
    },
    {
     "data": {
      "text/plain": [
       "<Figure size 1296x1152 with 0 Axes>"
      ]
     },
     "metadata": {},
     "output_type": "display_data"
    }
   ],
   "source": [
    "legend = []\n",
    "if n_neurons == 0:\n",
    "    for i in range(n_hlayers):\n",
    "        plt.plot(total_history[i].history['acc'])\n",
    "        legend.append('{} layers'.format(i+1))\n",
    "    plt.legend(legend, loc='lower right')\n",
    "    plt.title('model accuracy by layers')\n",
    "else:\n",
    "    for i in range(len(range(2, n_neurons, neurons_step))):\n",
    "        plt.plot(total_history[i].history['acc'])\n",
    "        legend.append('{} neurons'.format((i+1)*neurons_step))\n",
    "    plt.legend(legend, loc='lower right')\n",
    "    plt.title('model accuracy by number of neurons')\n",
    "plt.ylabel('accuracy')\n",
    "plt.xlabel('epoch')\n",
    "plot_name = \"model_accuracy_by_{}\".format(model_name)\n",
    "plt.savefig(plots_folder / plot_name)    \n",
    "plt.figure(figsize=(18, 16))"
   ]
  },
  {
   "cell_type": "code",
   "execution_count": 34,
   "metadata": {},
   "outputs": [
    {
     "data": {
      "text/plain": [
       "Text(0.5,0,'neurons (x10)')"
      ]
     },
     "execution_count": 34,
     "metadata": {},
     "output_type": "execute_result"
    },
    {
     "data": {
      "text/plain": [
       "[<matplotlib.lines.Line2D at 0x29132524160>]"
      ]
     },
     "execution_count": 34,
     "metadata": {},
     "output_type": "execute_result"
    },
    {
     "data": {
      "text/plain": [
       "<matplotlib.legend.Legend at 0x291325826a0>"
      ]
     },
     "execution_count": 34,
     "metadata": {},
     "output_type": "execute_result"
    },
    {
     "data": {
      "text/plain": [
       "Text(0.5,1,'model accuracy by fnn_fixed_layers')"
      ]
     },
     "execution_count": 34,
     "metadata": {},
     "output_type": "execute_result"
    },
    {
     "data": {
      "text/plain": [
       "Text(0,0.5,'accuracy')"
      ]
     },
     "execution_count": 34,
     "metadata": {},
     "output_type": "execute_result"
    },
    {
     "data": {
      "text/plain": [
       "<Figure size 1296x1152 with 0 Axes>"
      ]
     },
     "execution_count": 34,
     "metadata": {},
     "output_type": "execute_result"
    },
    {
     "data": {
      "image/png": "[encoded data removed]",
      "text/plain": [
       "<Figure size 432x288 with 1 Axes>"
      ]
     },
     "metadata": {},
     "output_type": "display_data"
    },
    {
     "data": {
      "text/plain": [
       "<Figure size 1296x1152 with 0 Axes>"
      ]
     },
     "metadata": {},
     "output_type": "display_data"
    }
   ],
   "source": [
    "accs = []\n",
    "if n_neurons == 0:\n",
    "    plt.xlabel('layers')\n",
    "    for i in range(n_hlayers):\n",
    "        accs.append(total_history[i].history['acc'][-1])\n",
    "else:\n",
    "    plt.xlabel('neurons (x10)')\n",
    "    for i in range(len(range(2, n_neurons, neurons_step))):\n",
    "        accs.append(total_history[i].history['acc'][-1])\n",
    "plt.plot(accs)\n",
    "plt.legend([\"accuracy\"], loc='lower right')\n",
    "plt.title('model accuracy by {}'.format(model_name))\n",
    "plt.ylabel('accuracy')\n",
    "plot_name = \"model_accuracy_by_{}_end_train\".format(model_name)\n",
    "plt.savefig(plots_folder / plot_name)\n",
    "plt.figure(figsize=(18, 16))"
   ]
  },
  {
   "cell_type": "markdown",
   "metadata": {
    "hideCode": false,
    "hidePrompt": false
   },
   "source": [
    "**What is the impact of using more fully connected layers?**"
   ]
  },
  {
   "cell_type": "markdown",
   "metadata": {},
   "source": [
    "Our original code will be rewrited in order to control the number of hidden layers via a global variables called *n_layers* and we will iterate adding that number of hidden layers and comparing the results for *Execution time*, *Accuracy* and *Overfit*.\n",
    "\n",
    "**Observations**\n",
    "1. **Loss / Accuracy**: As we increment the number of layers, usually the first epoch have more loss than the neural network with one less hidden layer but in the following epochs, this loss reduces greatly achieving better accuracy as more hidden layers are in the neural network.\n",
    "2. **Execution time**: It can be seen that compiling time for each new architecture with more layers increases a little. The important one, training time, increases notably as we increment the number of layers. See the table.\n",
    "\n",
    "3. **Overfitting**: An increment on the number of layers is translated to an overfit of the model to the train data in early epochs, meaning that as epochs go, more overfitted is the model.\n",
    "4. It can be seen that the model accuracy increases as more layers are used."
   ]
  },
  {
   "cell_type": "code",
   "execution_count": 11,
   "metadata": {},
   "outputs": [
    {
     "data": {
      "text/html": [
       "<div>\n",
       "<style scoped>\n",
       "    .dataframe tbody tr th:only-of-type {\n",
       "        vertical-align: middle;\n",
       "    }\n",
       "\n",
       "    .dataframe tbody tr th {\n",
       "        vertical-align: top;\n",
       "    }\n",
       "\n",
       "    .dataframe thead th {\n",
       "        text-align: right;\n",
       "    }\n",
       "</style>\n",
       "<table border=\"1\" class=\"dataframe\">\n",
       "  <thead>\n",
       "    <tr style=\"text-align: right;\">\n",
       "      <th></th>\n",
       "      <th>Compilation time</th>\n",
       "      <th>Training time</th>\n",
       "    </tr>\n",
       "  </thead>\n",
       "  <tbody>\n",
       "    <tr>\n",
       "      <th>0</th>\n",
       "      <td>0.062095</td>\n",
       "      <td>40.741848</td>\n",
       "    </tr>\n",
       "    <tr>\n",
       "      <th>1</th>\n",
       "      <td>0.064641</td>\n",
       "      <td>43.340195</td>\n",
       "    </tr>\n",
       "    <tr>\n",
       "      <th>2</th>\n",
       "      <td>0.057543</td>\n",
       "      <td>47.575815</td>\n",
       "    </tr>\n",
       "    <tr>\n",
       "      <th>3</th>\n",
       "      <td>0.178859</td>\n",
       "      <td>47.775040</td>\n",
       "    </tr>\n",
       "    <tr>\n",
       "      <th>4</th>\n",
       "      <td>0.058968</td>\n",
       "      <td>51.453802</td>\n",
       "    </tr>\n",
       "    <tr>\n",
       "      <th>5</th>\n",
       "      <td>0.083213</td>\n",
       "      <td>58.632684</td>\n",
       "    </tr>\n",
       "    <tr>\n",
       "      <th>6</th>\n",
       "      <td>0.065071</td>\n",
       "      <td>59.571938</td>\n",
       "    </tr>\n",
       "    <tr>\n",
       "      <th>7</th>\n",
       "      <td>0.068126</td>\n",
       "      <td>68.751527</td>\n",
       "    </tr>\n",
       "    <tr>\n",
       "      <th>8</th>\n",
       "      <td>0.105532</td>\n",
       "      <td>65.098420</td>\n",
       "    </tr>\n",
       "    <tr>\n",
       "      <th>9</th>\n",
       "      <td>0.059949</td>\n",
       "      <td>63.728539</td>\n",
       "    </tr>\n",
       "  </tbody>\n",
       "</table>\n",
       "</div>"
      ],
      "text/plain": [
       "   Compilation time  Training time\n",
       "0          0.062095      40.741848\n",
       "1          0.064641      43.340195\n",
       "2          0.057543      47.575815\n",
       "3          0.178859      47.775040\n",
       "4          0.058968      51.453802\n",
       "5          0.083213      58.632684\n",
       "6          0.065071      59.571938\n",
       "7          0.068126      68.751527\n",
       "8          0.105532      65.098420\n",
       "9          0.059949      63.728539"
      ]
     },
     "execution_count": 11,
     "metadata": {},
     "output_type": "execute_result"
    }
   ],
   "source": [
    "times_df"
   ]
  },
  {
   "cell_type": "code",
   "execution_count": 32,
   "metadata": {},
   "outputs": [
    {
     "name": "stdout",
     "output_type": "stream",
     "text": [
      "    Compilation time  Training time\n",
      "0           0.055802      47.947479\n",
      "1           0.077883      51.792892\n",
      "2           0.055119      50.463595\n",
      "3           0.065108      50.621776\n",
      "4           0.055141      50.499480\n",
      "5           0.058145      54.086513\n",
      "6           0.065021      56.869419\n",
      "7           0.053210      54.719876\n",
      "8           0.059923      59.743045\n",
      "9           0.137334      60.796580\n",
      "10          0.057382      67.133086\n",
      "11          0.057005      78.889623\n",
      "12          0.068088      73.143212\n",
      "13          0.058191      71.083842\n",
      "14          0.061237      77.597369\n",
      "15          0.055412      84.911355\n",
      "16          0.066315     108.297998\n",
      "17          0.116726      98.397048\n",
      "18          0.087252     111.641004\n",
      "19          0.142608     123.621867\n",
      "20          0.545281     128.514980\n",
      "21          0.104430     108.078645\n",
      "22          0.107077     118.461728\n",
      "23          0.125893      97.139773\n",
      "24          0.074221     108.984443\n",
      "25          0.068068      98.996843\n",
      "26          0.060766      98.141547\n",
      "27          0.052394     105.820765\n",
      "28          0.087662     110.789414\n",
      "29          0.105689     122.555573\n",
      "30          0.111155     125.802197\n",
      "31          0.063764     162.784012\n",
      "32          0.092644     148.296793\n",
      "33          0.076433     114.287868\n",
      "34          0.053956     115.989889\n",
      "35          0.056926     126.441522\n",
      "36          0.058361     116.050506\n",
      "37          0.076554     124.102406\n",
      "38          0.063167     184.660686\n",
      "39          0.140502     142.187375\n"
     ]
    },
    {
     "data": {
      "text/plain": [
       "Text(0.5,0,'Neurons (x10)')"
      ]
     },
     "execution_count": 32,
     "metadata": {},
     "output_type": "execute_result"
    },
    {
     "data": {
      "text/plain": [
       "Text(0,0.5,'Time')"
      ]
     },
     "execution_count": 32,
     "metadata": {},
     "output_type": "execute_result"
    },
    {
     "data": {
      "image/png": "[encoded data removed]",
      "text/plain": [
       "<Figure size 432x288 with 1 Axes>"
      ]
     },
     "metadata": {},
     "output_type": "display_data"
    }
   ],
   "source": [
    "# compilation_time = [0.24594317327546378, 0.043510568686087936, 0.04459838010097883, 0.045250085238876636, 0.056358901495514147, 0.052324446456623264, 0.053702240227266884, 0.05874068365619678, 0.05362408092014448, 0.05278094211780626] \n",
    "# train_time = [39.99011794503713, 43.14482466451, 47.26708281148467, 49.6701730114778, 51.091938377238876, 51.03244404152338, 52.43567205865202, 55.833798198711065, 59.904547097023624, 61.02969902625591]\n",
    "\n",
    "times_df = pd.DataFrame(times_dict)\n",
    "print(times_df)\n",
    "ax = times_df.plot(title = 'Execution times comparisson by layers', legend = True)\n",
    "if n_neurons == 0:\n",
    "    ax.set_xlabel(\"Layers\")\n",
    "else:\n",
    "    ax.set_xlabel(\"Neurons (x10)\")\n",
    "ax.set_ylabel(\"Time\")\n",
    "plot_name = \"execution_times\"\n",
    "fig = ax.get_figure()\n",
    "fig.savefig(plots_folder / plot_name)"
   ]
  },
  {
   "cell_type": "markdown",
   "metadata": {},
   "source": [
    "**What is the impact of increasing the number of neurons per layer?**"
   ]
  },
  {
   "cell_type": "markdown",
   "metadata": {},
   "source": [
    "From increasing the number of neurons we can draw conclusions similar to the increase of the number of layers:\n",
    "1. An increase in the overall of the training time.\n",
    "2. As more neurons are used, higher is the accuracy.\n",
    "3. Using more neurons seems to be **harder** to get overfitting issues compared to when increasing the number of layers, that makes the overfitting to happen earlier (in epochs)."
   ]
  },
  {
   "cell_type": "markdown",
   "metadata": {},
   "source": [
    "**What is the best performance you can get out of a basic neural net?**"
   ]
  },
  {
   "cell_type": "markdown",
   "metadata": {},
   "source": [
    "Because FNN can get good scores with the MNIST10 dataset, we will use the CIFAR10 dataset and try to achieve a good performance."
   ]
  },
  {
   "cell_type": "code",
   "execution_count": 21,
   "metadata": {},
   "outputs": [
    {
     "name": "stdout",
     "output_type": "stream",
     "text": [
      "Using keras version 2.2.2\n",
      "\n",
      "\n",
      "Number of training examples: '50000'\n",
      "Number of test examples: '10000'\n",
      "Size of train samples: '(32, 32, 3)'\n",
      "--Call--\n",
      "> \u001b[1;32mc:\\users\\worldsensing\\anaconda3\\lib\\site-packages\\ipython\\core\\displayhook.py\u001b[0m(247)\u001b[0;36m__call__\u001b[1;34m()\u001b[0m\n",
      "\u001b[1;32m    246 \u001b[1;33m\u001b[1;33m\u001b[0m\u001b[0m\n",
      "\u001b[0m\u001b[1;32m--> 247 \u001b[1;33m    \u001b[1;32mdef\u001b[0m \u001b[0m__call__\u001b[0m\u001b[1;33m(\u001b[0m\u001b[0mself\u001b[0m\u001b[1;33m,\u001b[0m \u001b[0mresult\u001b[0m\u001b[1;33m=\u001b[0m\u001b[1;32mNone\u001b[0m\u001b[1;33m)\u001b[0m\u001b[1;33m:\u001b[0m\u001b[1;33m\u001b[0m\u001b[0m\n",
      "\u001b[0m\u001b[1;32m    248 \u001b[1;33m        \"\"\"Printing with history cache management.\n",
      "\u001b[0m\n",
      "ipdb> c\n",
      "Epoch 1/20\n",
      "50000/50000 [==============================] - 14s 275us/step - loss: 2.0359 - acc: 0.2152\n",
      "Epoch 2/20\n",
      "50000/50000 [==============================] - 14s 288us/step - loss: 1.8486 - acc: 0.3041\n",
      "Epoch 3/20\n",
      "50000/50000 [==============================] - 13s 260us/step - loss: 1.7761 - acc: 0.3476\n",
      "Epoch 4/20\n",
      "50000/50000 [==============================] - 15s 300us/step - loss: 1.7090 - acc: 0.3744\n",
      "Epoch 5/20\n",
      "50000/50000 [==============================] - 15s 303us/step - loss: 1.6575 - acc: 0.3985\n",
      "Epoch 6/20\n",
      "50000/50000 [==============================] - 16s 319us/step - loss: 1.6155 - acc: 0.4155\n",
      "Epoch 7/20\n",
      "50000/50000 [==============================] - 14s 286us/step - loss: 1.5756 - acc: 0.4324\n",
      "Epoch 8/20\n",
      "50000/50000 [==============================] - 14s 288us/step - loss: 1.5504 - acc: 0.4416\n",
      "Epoch 9/20\n",
      "50000/50000 [==============================] - 15s 292us/step - loss: 1.5185 - acc: 0.4547\n",
      "Epoch 10/20\n",
      "50000/50000 [==============================] - 14s 285us/step - loss: 1.4821 - acc: 0.4691\n",
      "Epoch 11/20\n",
      "50000/50000 [==============================] - 13s 270us/step - loss: 1.4669 - acc: 0.4733\n",
      "Epoch 12/20\n",
      "50000/50000 [==============================] - 13s 254us/step - loss: 1.4472 - acc: 0.4791\n",
      "Epoch 13/20\n",
      "50000/50000 [==============================] - 13s 258us/step - loss: 1.4189 - acc: 0.4932\n",
      "Epoch 14/20\n",
      "50000/50000 [==============================] - 13s 259us/step - loss: 1.4049 - acc: 0.4935\n",
      "Epoch 15/20\n",
      "50000/50000 [==============================] - 13s 256us/step - loss: 1.3818 - acc: 0.5049\n",
      "Epoch 16/20\n",
      "50000/50000 [==============================] - 13s 263us/step - loss: 1.3680 - acc: 0.5088\n",
      "Epoch 17/20\n",
      "50000/50000 [==============================] - 13s 260us/step - loss: 1.3445 - acc: 0.5189\n",
      "Epoch 18/20\n",
      "50000/50000 [==============================] - 13s 260us/step - loss: 1.3351 - acc: 0.5223\n",
      "Epoch 19/20\n",
      "50000/50000 [==============================] - 13s 263us/step - loss: 1.3174 - acc: 0.5262\n",
      "Epoch 20/20\n",
      "50000/50000 [==============================] - 13s 254us/step - loss: 1.3003 - acc: 0.53470s - loss: 1.2997 - acc:\n"
     ]
    },
    {
     "data": {
      "text/plain": [
       "[<matplotlib.lines.Line2D at 0x22e15bc0208>]"
      ]
     },
     "execution_count": 21,
     "metadata": {},
     "output_type": "execute_result"
    },
    {
     "data": {
      "text/plain": [
       "Text(0.5,1,'model accuracy')"
      ]
     },
     "execution_count": 21,
     "metadata": {},
     "output_type": "execute_result"
    },
    {
     "data": {
      "text/plain": [
       "Text(0,0.5,'accuracy')"
      ]
     },
     "execution_count": 21,
     "metadata": {},
     "output_type": "execute_result"
    },
    {
     "data": {
      "text/plain": [
       "Text(0.5,0,'epoch')"
      ]
     },
     "execution_count": 21,
     "metadata": {},
     "output_type": "execute_result"
    },
    {
     "data": {
      "text/plain": [
       "<matplotlib.legend.Legend at 0x22e15bc07f0>"
      ]
     },
     "execution_count": 21,
     "metadata": {},
     "output_type": "execute_result"
    },
    {
     "data": {
      "text/plain": [
       "[<matplotlib.lines.Line2D at 0x22e159e0710>]"
      ]
     },
     "execution_count": 21,
     "metadata": {},
     "output_type": "execute_result"
    },
    {
     "data": {
      "text/plain": [
       "Text(0.5,1,'model loss')"
      ]
     },
     "execution_count": 21,
     "metadata": {},
     "output_type": "execute_result"
    },
    {
     "data": {
      "text/plain": [
       "Text(0,0.5,'loss')"
      ]
     },
     "execution_count": 21,
     "metadata": {},
     "output_type": "execute_result"
    },
    {
     "data": {
      "text/plain": [
       "Text(0.5,0,'epoch')"
      ]
     },
     "execution_count": 21,
     "metadata": {},
     "output_type": "execute_result"
    },
    {
     "data": {
      "text/plain": [
       "<matplotlib.legend.Legend at 0x22e159e0860>"
      ]
     },
     "execution_count": 21,
     "metadata": {},
     "output_type": "execute_result"
    },
    {
     "name": "stdout",
     "output_type": "stream",
     "text": [
      "Analysis of results\n",
      "              precision    recall  f1-score   support\n",
      "\n",
      "           0       0.50      0.59      0.54      1000\n",
      "           1       0.61      0.58      0.60      1000\n",
      "           2       0.39      0.21      0.27      1000\n",
      "           3       0.32      0.22      0.26      1000\n",
      "           4       0.42      0.43      0.42      1000\n",
      "           5       0.43      0.40      0.42      1000\n",
      "           6       0.46      0.62      0.53      1000\n",
      "           7       0.48      0.61      0.54      1000\n",
      "           8       0.56      0.68      0.62      1000\n",
      "           9       0.61      0.52      0.56      1000\n",
      "\n",
      "   micro avg       0.49      0.49      0.49     10000\n",
      "   macro avg       0.48      0.49      0.48     10000\n",
      "weighted avg       0.48      0.49      0.48     10000\n",
      "\n",
      "[[589  27  39  22  31  10  31  51 162  38]\n",
      " [ 79 582   7  37  17   7  23  34  89 125]\n",
      " [108  23 212  67 196  94 140 110  40  10]\n",
      " [ 44  25  66 221  49 240 183  86  50  36]\n",
      " [ 65  13  89  38 430  43 147 132  33  10]\n",
      " [ 33  15  56 152  53 404 107 118  50  12]\n",
      " [  5  15  37  44 147  61 616  42  19  14]\n",
      " [ 72  22  29  48  78  53  31 610  20  37]\n",
      " [110  53   4  26  20  14  17  19 680  57]\n",
      " [ 65 181   6  44   8  12  31  69  64 520]]\n"
     ]
    },
    {
     "ename": "FileNotFoundError",
     "evalue": "[Errno 2] No such file or directory: 'models\\\\fnn_cifar.json'",
     "output_type": "error",
     "traceback": [
      "\u001b[1;31m---------------------------------------------------------------------------\u001b[0m",
      "\u001b[1;31mFileNotFoundError\u001b[0m                         Traceback (most recent call last)",
      "\u001b[1;32m<ipython-input-21-cb214e88005f>\u001b[0m in \u001b[0;36m<module>\u001b[1;34m()\u001b[0m\n\u001b[0;32m     94\u001b[0m \u001b[0mnn_json\u001b[0m \u001b[1;33m=\u001b[0m \u001b[0mnn\u001b[0m\u001b[1;33m.\u001b[0m\u001b[0mto_json\u001b[0m\u001b[1;33m(\u001b[0m\u001b[1;33m)\u001b[0m\u001b[1;33m\u001b[0m\u001b[0m\n\u001b[0;32m     95\u001b[0m \u001b[0mjson_file_name\u001b[0m \u001b[1;33m=\u001b[0m \u001b[1;34m'{0}.json'\u001b[0m\u001b[1;33m.\u001b[0m\u001b[0mformat\u001b[0m\u001b[1;33m(\u001b[0m\u001b[0mmodel_name\u001b[0m\u001b[1;33m)\u001b[0m\u001b[1;33m\u001b[0m\u001b[0m\n\u001b[1;32m---> 96\u001b[1;33m \u001b[1;32mwith\u001b[0m \u001b[0mopen\u001b[0m\u001b[1;33m(\u001b[0m\u001b[0mmodels_folder\u001b[0m \u001b[1;33m/\u001b[0m \u001b[0mjson_file_name\u001b[0m\u001b[1;33m,\u001b[0m \u001b[1;34m'w'\u001b[0m\u001b[1;33m)\u001b[0m \u001b[1;32mas\u001b[0m \u001b[0mjson_file\u001b[0m\u001b[1;33m:\u001b[0m\u001b[1;33m\u001b[0m\u001b[0m\n\u001b[0m\u001b[0;32m     97\u001b[0m     \u001b[0mjson_file\u001b[0m\u001b[1;33m.\u001b[0m\u001b[0mwrite\u001b[0m\u001b[1;33m(\u001b[0m\u001b[0mnn_json\u001b[0m\u001b[1;33m)\u001b[0m\u001b[1;33m\u001b[0m\u001b[0m\n\u001b[0;32m     98\u001b[0m \u001b[0mweights_file_name\u001b[0m \u001b[1;33m=\u001b[0m \u001b[1;34m\"weights-{0}_\"\u001b[0m\u001b[1;33m.\u001b[0m\u001b[0mformat\u001b[0m\u001b[1;33m(\u001b[0m\u001b[0mmodel_name\u001b[0m\u001b[1;33m)\u001b[0m \u001b[1;33m+\u001b[0m \u001b[0mstr\u001b[0m\u001b[1;33m(\u001b[0m\u001b[0mscore\u001b[0m\u001b[1;33m[\u001b[0m\u001b[1;36m1\u001b[0m\u001b[1;33m]\u001b[0m\u001b[1;33m)\u001b[0m \u001b[1;33m+\u001b[0m \u001b[1;34m\".hdf5\"\u001b[0m\u001b[1;33m\u001b[0m\u001b[0m\n",
      "\u001b[1;31mFileNotFoundError\u001b[0m: [Errno 2] No such file or directory: 'models\\\\fnn_cifar.json'"
     ]
    },
    {
     "data": {
      "image/png": "[encoded data removed]",
      "text/plain": [
       "<Figure size 432x288 with 1 Axes>"
      ]
     },
     "metadata": {},
     "output_type": "display_data"
    }
   ],
   "source": [
    "#NN architecture\n",
    "# n_hlayers = 10\n",
    "# n_neurons = 401\n",
    "\n",
    "initial_neurons = 128\n",
    "neurons = 200\n",
    "layers = 10\n",
    "neurons_step = 8\n",
    "n_epochs= 40\n",
    "n_batch_size= 128\n",
    "\n",
    "\n",
    "#global variables\n",
    "plots_folder = Path(\"plots/\")\n",
    "models_folder = Path(\"models/\")\n",
    "dataset_name = \"cifar\"\n",
    "model_name = 'fnn_{}'.format(dataset_name)\n",
    "cifar_nn_times_dict = {\"Compilation time\": [], \"Training time\": []}\n",
    "cifar_fnn_total_history = []\n",
    "text_file = \"CIFAR-FNN score file.txt\"\n",
    "cifar_fnn_train_scores = []\n",
    "cifar_fnn_evaluation_scores = []\n",
    "start_time = time.clock()\n",
    "print(\"Using keras version {0}\".format(keras.__version__))\n",
    "\n",
    "# Load the dataset\n",
    "(x_train, y_train), (x_test, y_test) = cifar10.load_data()  # loading of CIFAR10 dataset\n",
    "\n",
    "# check sizes\n",
    "print(\"\\n\")\n",
    "print(\"Number of training examples: '{0}'\".format(x_train.shape[0]))\n",
    "print(\"Number of test examples: '{0}'\".format(x_test.shape[0]))\n",
    "print(\"Size of train samples: '{0}'\".format(x_train.shape[1:]))\n",
    "\n",
    "x_train = x_train.astype('float32')\n",
    "x_test = x_test.astype('float32')\n",
    "x_train = x_train / 255\n",
    "x_test = x_test / 255\n",
    "\n",
    "x_train = x_train.reshape(50000,np.prod(x_train.shape[1:]))\n",
    "x_test = x_test.reshape(10000, np.prod(x_train.shape[1:]))\n",
    "bp()\n",
    "\n",
    "# Adapts labels to one hot encoding vector for softmax classifier\n",
    "y_train = np_utils.to_categorical(y_train, 10)\n",
    "y_test = np_utils.to_categorical(y_test, 10)\n",
    "\n",
    "# Neural network architecture\n",
    "nn = Sequential()\n",
    "nn.add(Dense(initial_neurons, activation='relu', input_shape=x_train.shape[1:]))\n",
    "for i in range(layers):\n",
    "    nn.add(Dense(neurons, activation = 'relu'))\n",
    "nn.add(Dense(10, activation='softmax'))\n",
    "\n",
    "# Compile the model\n",
    "nn.compile(optimizer='adam', loss='categorical_crossentropy', metrics=['accuracy'])\n",
    "\n",
    "history = nn.fit(x_train, y_train, batch_size=128, epochs=20)\n",
    "\n",
    "# Evaluate the model\n",
    "score = nn.evaluate(x_test, y_test, verbose=0)\n",
    "\n",
    "# Store plots\n",
    "# Accuracy plot\n",
    "plt.plot(history.history['acc'])\n",
    "plt.title('model accuracy')\n",
    "plt.ylabel('accuracy')\n",
    "plt.xlabel('epoch')\n",
    "plt.legend(['train'], loc='upper left')\n",
    "plot_name = 'model_accuracy_{0}.pdf'.format(model_name)\n",
    "plt.savefig(plots_folder / plot_name)\n",
    "plt.close()\n",
    "# Loss plot\n",
    "plt.plot(history.history['loss'])\n",
    "plt.title('model loss')\n",
    "plt.ylabel('loss')\n",
    "plt.xlabel('epoch')\n",
    "plt.legend(['train'], loc='upper left')\n",
    "plot_name = 'model_loss_{0}.pdf'.format(model_name)\n",
    "plt.savefig(plots_folder / plot_name)\n",
    "\n",
    "# Confusion Matrix\n",
    "# Compute probabilities\n",
    "Y_pred = nn.predict(test_input_shape)\n",
    "# Assign most probable label\n",
    "y_pred = np.argmax(Y_pred, axis=1)\n",
    "# Plot statistics\n",
    "print('Analysis of results')\n",
    "target_names = ['0', '1', '2', '3', '4', '5', '6', '7', '8', '9']\n",
    "print(classification_report(np.argmax(y_test, axis=1), y_pred, target_names=target_names))\n",
    "print(confusion_matrix(np.argmax(y_test, axis=1), y_pred))\n",
    "\n",
    "# Saving model and weights\n",
    "nn_json = nn.to_json()\n",
    "json_file_name = '{0}.json'.format(model_name)\n",
    "with open(models_folder / json_file_name, 'w') as json_file:\n",
    "    json_file.write(nn_json)\n",
    "weights_file_name = \"weights-{0}_\".format(model_name) + str(score[1]) + \".hdf5\"\n",
    "weights_file = models_folder / weights_file_name\n",
    "nn.save_weights(weights_file, overwrite=True)\n",
    "\n",
    "# Loading model and weights\n",
    "json_file = open(models_folder / json_file_name, 'r')\n",
    "nn_json = json_file.read()\n",
    "json_file.close()\n",
    "nn = model_from_json(nn_json)\n",
    "nn.load_weights(weights_file)\n",
    "\n",
    "#measuring execution time\n",
    "print(\"Total execution time {} seconds\".format(time.clock() - start_time))"
   ]
  },
  {
   "cell_type": "markdown",
   "metadata": {
    "collapsed": true
   },
   "source": [
    "## CNN"
   ]
  },
  {
   "cell_type": "markdown",
   "metadata": {},
   "source": [
    "For the CNN part the CIFAR10 dataset will be used."
   ]
  },
  {
   "cell_type": "code",
   "execution_count": 3,
   "metadata": {},
   "outputs": [
    {
     "name": "stderr",
     "output_type": "stream",
     "text": [
      "C:\\Users\\Worldsensing\\Anaconda3\\lib\\site-packages\\ipykernel_launcher.py:19: UserWarning: \n",
      "This call to matplotlib.use() has no effect because the backend has already\n",
      "been chosen; matplotlib.use() must be called *before* pylab, matplotlib.pyplot,\n",
      "or matplotlib.backends is imported for the first time.\n",
      "\n",
      "The backend was *originally* set to 'module://ipykernel.pylab.backend_inline' by the following code:\n",
      "  File \"C:\\Users\\Worldsensing\\Anaconda3\\lib\\runpy.py\", line 193, in _run_module_as_main\n",
      "    \"__main__\", mod_spec)\n",
      "  File \"C:\\Users\\Worldsensing\\Anaconda3\\lib\\runpy.py\", line 85, in _run_code\n",
      "    exec(code, run_globals)\n",
      "  File \"C:\\Users\\Worldsensing\\Anaconda3\\lib\\site-packages\\ipykernel_launcher.py\", line 16, in <module>\n",
      "    app.launch_new_instance()\n",
      "  File \"C:\\Users\\Worldsensing\\Anaconda3\\lib\\site-packages\\traitlets\\config\\application.py\", line 658, in launch_instance\n",
      "    app.start()\n",
      "  File \"C:\\Users\\Worldsensing\\Anaconda3\\lib\\site-packages\\ipykernel\\kernelapp.py\", line 477, in start\n",
      "    ioloop.IOLoop.instance().start()\n",
      "  File \"C:\\Users\\Worldsensing\\Anaconda3\\lib\\site-packages\\zmq\\eventloop\\ioloop.py\", line 177, in start\n",
      "    super(ZMQIOLoop, self).start()\n",
      "  File \"C:\\Users\\Worldsensing\\Anaconda3\\lib\\site-packages\\tornado\\ioloop.py\", line 888, in start\n",
      "    handler_func(fd_obj, events)\n",
      "  File \"C:\\Users\\Worldsensing\\Anaconda3\\lib\\site-packages\\tornado\\stack_context.py\", line 277, in null_wrapper\n",
      "    return fn(*args, **kwargs)\n",
      "  File \"C:\\Users\\Worldsensing\\Anaconda3\\lib\\site-packages\\zmq\\eventloop\\zmqstream.py\", line 440, in _handle_events\n",
      "    self._handle_recv()\n",
      "  File \"C:\\Users\\Worldsensing\\Anaconda3\\lib\\site-packages\\zmq\\eventloop\\zmqstream.py\", line 472, in _handle_recv\n",
      "    self._run_callback(callback, msg)\n",
      "  File \"C:\\Users\\Worldsensing\\Anaconda3\\lib\\site-packages\\zmq\\eventloop\\zmqstream.py\", line 414, in _run_callback\n",
      "    callback(*args, **kwargs)\n",
      "  File \"C:\\Users\\Worldsensing\\Anaconda3\\lib\\site-packages\\tornado\\stack_context.py\", line 277, in null_wrapper\n",
      "    return fn(*args, **kwargs)\n",
      "  File \"C:\\Users\\Worldsensing\\Anaconda3\\lib\\site-packages\\ipykernel\\kernelbase.py\", line 283, in dispatcher\n",
      "    return self.dispatch_shell(stream, msg)\n",
      "  File \"C:\\Users\\Worldsensing\\Anaconda3\\lib\\site-packages\\ipykernel\\kernelbase.py\", line 235, in dispatch_shell\n",
      "    handler(stream, idents, msg)\n",
      "  File \"C:\\Users\\Worldsensing\\Anaconda3\\lib\\site-packages\\ipykernel\\kernelbase.py\", line 399, in execute_request\n",
      "    user_expressions, allow_stdin)\n",
      "  File \"C:\\Users\\Worldsensing\\Anaconda3\\lib\\site-packages\\ipykernel\\ipkernel.py\", line 196, in do_execute\n",
      "    res = shell.run_cell(code, store_history=store_history, silent=silent)\n",
      "  File \"C:\\Users\\Worldsensing\\Anaconda3\\lib\\site-packages\\ipykernel\\zmqshell.py\", line 533, in run_cell\n",
      "    return super(ZMQInteractiveShell, self).run_cell(*args, **kwargs)\n",
      "  File \"C:\\Users\\Worldsensing\\Anaconda3\\lib\\site-packages\\IPython\\core\\interactiveshell.py\", line 2698, in run_cell\n",
      "    interactivity=interactivity, compiler=compiler, result=result)\n",
      "  File \"C:\\Users\\Worldsensing\\Anaconda3\\lib\\site-packages\\IPython\\core\\interactiveshell.py\", line 2808, in run_ast_nodes\n",
      "    if self.run_code(code, result):\n",
      "  File \"C:\\Users\\Worldsensing\\Anaconda3\\lib\\site-packages\\IPython\\core\\interactiveshell.py\", line 2862, in run_code\n",
      "    exec(code_obj, self.user_global_ns, self.user_ns)\n",
      "  File \"<ipython-input-1-b0e48495b435>\", line 24, in <module>\n",
      "    get_ipython().magic('matplotlib inline')\n",
      "  File \"C:\\Users\\Worldsensing\\Anaconda3\\lib\\site-packages\\IPython\\core\\interactiveshell.py\", line 2146, in magic\n",
      "    return self.run_line_magic(magic_name, magic_arg_s)\n",
      "  File \"C:\\Users\\Worldsensing\\Anaconda3\\lib\\site-packages\\IPython\\core\\interactiveshell.py\", line 2067, in run_line_magic\n",
      "    result = fn(*args,**kwargs)\n",
      "  File \"<decorator-gen-108>\", line 2, in matplotlib\n",
      "  File \"C:\\Users\\Worldsensing\\Anaconda3\\lib\\site-packages\\IPython\\core\\magic.py\", line 187, in <lambda>\n",
      "    call = lambda f, *a, **k: f(*a, **k)\n",
      "  File \"C:\\Users\\Worldsensing\\Anaconda3\\lib\\site-packages\\IPython\\core\\magics\\pylab.py\", line 99, in matplotlib\n",
      "    gui, backend = self.shell.enable_matplotlib(args.gui)\n",
      "  File \"C:\\Users\\Worldsensing\\Anaconda3\\lib\\site-packages\\IPython\\core\\interactiveshell.py\", line 2930, in enable_matplotlib\n",
      "    pt.activate_matplotlib(backend)\n",
      "  File \"C:\\Users\\Worldsensing\\Anaconda3\\lib\\site-packages\\IPython\\core\\pylabtools.py\", line 307, in activate_matplotlib\n",
      "    matplotlib.pyplot.switch_backend(backend)\n",
      "  File \"C:\\Users\\Worldsensing\\Anaconda3\\lib\\site-packages\\matplotlib\\pyplot.py\", line 231, in switch_backend\n",
      "    matplotlib.use(newbackend, warn=False, force=True)\n",
      "  File \"C:\\Users\\Worldsensing\\Anaconda3\\lib\\site-packages\\matplotlib\\__init__.py\", line 1422, in use\n",
      "    reload(sys.modules['matplotlib.backends'])\n",
      "  File \"C:\\Users\\Worldsensing\\Anaconda3\\lib\\importlib\\__init__.py\", line 166, in reload\n",
      "    _bootstrap._exec(spec, module)\n",
      "  File \"C:\\Users\\Worldsensing\\Anaconda3\\lib\\site-packages\\matplotlib\\backends\\__init__.py\", line 16, in <module>\n",
      "    line for line in traceback.format_stack()\n",
      "\n",
      "\n"
     ]
    }
   ],
   "source": [
    "from __future__ import division\n",
    "from pathlib import Path\n",
    "import time\n",
    "\n",
    "from IPython.core.interactiveshell import InteractiveShell\n",
    "InteractiveShell.ast_node_interactivity = \"all\"\n",
    "\n",
    "import ipdb\n",
    "from ipdb import set_trace as bp\n",
    "\n",
    "import keras\n",
    "from keras.datasets import cifar10\n",
    "from keras.utils import np_utils\n",
    "from keras.models import Sequential\n",
    "from keras.layers import Dense, Activation, Conv2D, MaxPooling2D, Flatten\n",
    "from keras.utils import plot_model\n",
    "from keras.models import model_from_json #to load a model from a json file.\n",
    "import matplotlib\n",
    "matplotlib.use('Agg')\n",
    "import matplotlib.pyplot as plt\n",
    "from sklearn.metrics import classification_report, confusion_matrix\n",
    "import numpy as np\n",
    "import pandas as pd\n",
    "\n",
    "np.random.seed(12345678)\n",
    "%matplotlib inline"
   ]
  },
  {
   "cell_type": "code",
   "execution_count": null,
   "metadata": {
    "collapsed": true
   },
   "outputs": [],
   "source": [
    "#global variables\n",
    "plots_folder = Path(\"plots/\")\n",
    "models_folder = Path(\"models/\")\n",
    "times_dict = {\"Compilation time\": [], \"Training time\": []}\n",
    "total_history = []\n",
    "text_file = \"CNN score file.txt\"\n",
    "train_scores = []\n",
    "evaluation_scores = []\n",
    "\n",
    "#neural net architecture config\n",
    "n_hlayers = 0\n",
    "n_neurons = 10\n",
    "initial_neurons = 128\n",
    "neurons_step = 2\n",
    "n_epochs= 20\n",
    "n_batch_size= 128\n",
    "    \n",
    "text_file =  model_name + \"_\" + text_file\n",
    "\n",
    "start_time = time.clock()\n",
    "print(\"Using keras version %s\" % keras.__version__)\n",
    "\n",
    "# Load the dataset\n",
    "(x_train, y_train), (x_test, y_test) = cifar10.load_data()  # loading of MNIST dataset\n",
    "\n",
    "# check sizes\n",
    "print(\"\\n\")\n",
    "print(\"Number of training examples: '{0}'\".format(x_train.shape[0]))\n",
    "print(\"Number of test examples: '{0}'\".format(x_test.shape[0]))\n",
    "print(\"Size of train samples: '{0}'\".format(x_train.shape[1:]))\n",
    "\n",
    "# Data to 1D and normalization\n",
    "#x_train = x_train.reshape(60000, 784)  # 60000 observations of 784 features\n",
    "#x_test = x_test.reshape(10000, 784)  # 10000 observations of 784 features\n",
    "\n",
    "x_train = x_train.astype('float32')\n",
    "x_test = x_test.astype('float32')\n",
    "x_train = x_train / 255\n",
    "x_test = x_test / 255\n",
    "\n",
    "train_input_shape = x_train.reshape(*x_train.shape)\n",
    "test_input_shape = x_test.reshape(*x_test.shape)\n",
    "\n",
    "# Adapts labels to one hot encoding vector for softmax classifier\n",
    "y_train = np_utils.to_categorical(y_train, 10)\n",
    "y_test = np_utils.to_categorical(y_test, 10)\n",
    "\n",
    "# Neural network architecture\n",
    "# CNN\n",
    "nn = Sequential()\n",
    "nn.add(Conv2D(32, kernel_size=(3,3), activation = 'relu', input_shape=x_train.shape[1:]))\n",
    "nn.add(MaxPooling2D(pool_size=(2,2)))\n",
    "nn.add(Conv2D(64,(3,3), activation = 'relu'))\n",
    "nn.add(MaxPooling2D(pool_size=(2,2)))\n",
    "nn.add(Flatten())\n",
    "nn.add(Dense(128, activation='relu'))\n",
    "nn.add(Dense(10, activation='softmax'))\n",
    "\n",
    "# Model visualization\n",
    "# The plot of the model needs pydot, graphviz and pydot-ng\n",
    "#plot_model(nn, to_file='nn.png', show_shapes=True)\n",
    "\n",
    "# Compile the model\n",
    "nn.compile(optimizer='sgd', loss='categorical_crossentropy', metrics=['accuracy'])\n",
    "\n",
    "history = nn.fit(train_input_shape, y_train, batch_size=128, epochs=20)\n",
    "\n",
    "# Evaluate the model\n",
    "score = nn.evaluate(test_input_shape, y_test, verbose=0)\n",
    "\n",
    "# Store plots\n",
    "# Accuracy plot\n",
    "plt.plot(history.history['acc'])\n",
    "plt.title('model accuracy')\n",
    "plt.ylabel('accuracy')\n",
    "plt.xlabel('epoch')\n",
    "plt.legend(['train'], loc='upper left')\n",
    "plot_name = 'model_accuracy_{0}.pdf'.format(model_name)\n",
    "plt.savefig(plots_folder / plot_name)\n",
    "plt.close()\n",
    "# Loss plot\n",
    "plt.plot(history.history['loss'])\n",
    "plt.title('model loss')\n",
    "plt.ylabel('loss')\n",
    "plt.xlabel('epoch')\n",
    "plt.legend(['train'], loc='upper left')\n",
    "plot_name = 'model_loss_{0}.pdf'.format(model_name)\n",
    "plt.savefig(plots_folder / plot_name)\n",
    "\n",
    "# Confusion Matrix\n",
    "# Compute probabilities\n",
    "Y_pred = nn.predict(test_input_shape)\n",
    "# Assign most probable label\n",
    "y_pred = np.argmax(Y_pred, axis=1)\n",
    "# Plot statistics\n",
    "print('Analysis of results')\n",
    "target_names = ['0', '1', '2', '3', '4', '5', '6', '7', '8', '9']\n",
    "print(classification_report(np.argmax(y_test, axis=1), y_pred, target_names=target_names))\n",
    "print(confusion_matrix(np.argmax(y_test, axis=1), y_pred))\n",
    "\n",
    "# Saving model and weights\n",
    "nn_json = nn.to_json()\n",
    "json_file_name = '{0}.json'.format(model_name)\n",
    "with open(models_folder / json_file_name, 'w') as json_file:\n",
    "    json_file.write(nn_json)\n",
    "weights_file_name = \"weights-{0}_\".format(model_name) + str(score[1]) + \".hdf5\"\n",
    "weights_file = models_folder / weights_file_name\n",
    "nn.save_weights(weights_file, overwrite=True)\n",
    "\n",
    "# Loading model and weights\n",
    "json_file = open(models_folder / json_file_name, 'r')\n",
    "nn_json = json_file.read()\n",
    "json_file.close()\n",
    "nn = model_from_json(nn_json)\n",
    "nn.load_weights(weights_file)\n",
    "\n",
    "#measuring execution time\n",
    "print(\"Total execution time {} seconds\".format(time.clock() - start_time))"
   ]
  },
  {
   "cell_type": "markdown",
   "metadata": {},
   "source": [
    "#### Questions\n",
    "1. **Can you design and train a model that overfits on the training data (or on a subset of it)?**\n",
    "2. **When overfitting, what is the result of applying various regularization techniques?**\n",
    "3. **When using ReLUs, how many neurons are dead after a training?**\n",
    "4. **Adding data augmentation improves performance?**\n",
    "5. **How do the different learning algorithms behave for equal architectures? Does regularization have the same affect when using different algorithms?**\n",
    "6. **How hard is it to match the performance of an adaptative algorithm (e.g., Adam) by using an algorithm where parameters have to be hand tunned (e.g., SGD)?**\n",
    "7. **What is the result of using different weight initializations in the training process?**"
   ]
  },
  {
   "cell_type": "markdown",
   "metadata": {},
   "source": [
    "## Experiments"
   ]
  },
  {
   "cell_type": "markdown",
   "metadata": {},
   "source": [
    "### Self normalizing activation function"
   ]
  },
  {
   "cell_type": "markdown",
   "metadata": {},
   "source": [
    "### Autoencoder"
   ]
  },
  {
   "cell_type": "markdown",
   "metadata": {},
   "source": [
    "### House numbers, mnist and transer learning"
   ]
  },
  {
   "cell_type": "markdown",
   "metadata": {},
   "source": [
    "### Loss function visualization"
   ]
  }
 ],
 "metadata": {
  "hide_code_all_hidden": false,
  "kernelspec": {
   "display_name": "Python 3",
   "language": "python",
   "name": "python3"
  },
  "language_info": {
   "codemirror_mode": {
    "name": "ipython",
    "version": 3
   },
   "file_extension": ".py",
   "mimetype": "text/x-python",
   "name": "python",
   "nbconvert_exporter": "python",
   "pygments_lexer": "ipython3",
   "version": "3.6.6"
  }
 },
 "nbformat": 4,
 "nbformat_minor": 1
}
