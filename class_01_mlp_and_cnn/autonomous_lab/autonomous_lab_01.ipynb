{
 "cells": [
  {
   "cell_type": "markdown",
   "metadata": {
    "collapsed": true,
    "hideCode": false,
    "hidePrompt": false
   },
   "source": [
    "# MAI - Deep Learning: Autonomous Lab 01"
   ]
  },
  {
   "cell_type": "markdown",
   "metadata": {
    "hideCode": false,
    "hidePrompt": false
   },
   "source": [
    "Jamie Arjona Martínez"
   ]
  },
  {
   "cell_type": "code",
   "execution_count": 1,
   "metadata": {},
   "outputs": [
    {
     "name": "stderr",
     "output_type": "stream",
     "text": [
      "Using TensorFlow backend.\n"
     ]
    }
   ],
   "source": [
    "from __future__ import division\n",
    "from pathlib import Path\n",
    "import time\n",
    "from IPython.core.interactiveshell import InteractiveShell\n",
    "InteractiveShell.ast_node_interactivity = \"all\"\n",
    "\n",
    "import ipdb\n",
    "from ipdb import set_trace as bp\n",
    "\n",
    "import keras\n",
    "from keras.datasets import mnist\n",
    "from keras.utils import np_utils\n",
    "from keras.models import Sequential\n",
    "from keras.layers import Dense, Activation\n",
    "from keras.utils import plot_model\n",
    "from keras.models import model_from_json #to load a model from a json file.\n",
    "import matplotlib\n",
    "import matplotlib.pyplot as plt\n",
    "from sklearn.metrics import classification_report, confusion_matrix\n",
    "import numpy as np\n",
    "np.random.seed(12345678)\n",
    "import pandas as pd\n",
    "\n",
    "%matplotlib inline"
   ]
  },
  {
   "cell_type": "markdown",
   "metadata": {
    "hideCode": false,
    "hidePrompt": false
   },
   "source": [
    "## Feedforward NN\n"
   ]
  },
  {
   "cell_type": "markdown",
   "metadata": {},
   "source": [
    "### The code"
   ]
  },
  {
   "cell_type": "code",
   "execution_count": 69,
   "metadata": {},
   "outputs": [
    {
     "name": "stdout",
     "output_type": "stream",
     "text": [
      "Using keras version 2.2.2\n",
      "\n",
      "\n",
      "Number of training examples: '60000'\n",
      "Size of train samples: '(28, 28)'\n",
      "Size of test samples: '(28, 28)'\n",
      "Train on 60000 samples, validate on 10000 samples\n",
      "Epoch 1/20\n",
      "60000/60000 [==============================] - 4s 66us/step - loss: 2.1193 - acc: 0.1907 - val_loss: 2.0099 - val_acc: 0.2334\n",
      "Epoch 2/20\n",
      "60000/60000 [==============================] - 2s 38us/step - loss: 1.9285 - acc: 0.2879 - val_loss: 1.8507 - val_acc: 0.3061\n",
      "Epoch 3/20\n",
      "60000/60000 [==============================] - 2s 38us/step - loss: 1.8212 - acc: 0.3080 - val_loss: 1.7815 - val_acc: 0.3216\n",
      "Epoch 4/20\n",
      "60000/60000 [==============================] - 2s 38us/step - loss: 1.7572 - acc: 0.3185 - val_loss: 1.7204 - val_acc: 0.3275\n",
      "Epoch 5/20\n",
      "60000/60000 [==============================] - 2s 38us/step - loss: 1.7034 - acc: 0.3260 - val_loss: 1.6766 - val_acc: 0.3361\n",
      "Epoch 6/20\n",
      "60000/60000 [==============================] - 2s 39us/step - loss: 1.6662 - acc: 0.3335 - val_loss: 1.6446 - val_acc: 0.3412\n",
      "Epoch 7/20\n",
      "60000/60000 [==============================] - 2s 39us/step - loss: 1.6368 - acc: 0.3439 - val_loss: 1.6179 - val_acc: 0.3616\n",
      "Epoch 8/20\n",
      "60000/60000 [==============================] - 3s 42us/step - loss: 1.6089 - acc: 0.3584 - val_loss: 1.5905 - val_acc: 0.3700\n",
      "Epoch 9/20\n",
      "60000/60000 [==============================] - 2s 41us/step - loss: 1.5815 - acc: 0.3717 - val_loss: 1.5631 - val_acc: 0.3841\n",
      "Epoch 10/20\n",
      "60000/60000 [==============================] - 2s 39us/step - loss: 1.5536 - acc: 0.3848 - val_loss: 1.5340 - val_acc: 0.4006\n",
      "Epoch 11/20\n",
      "60000/60000 [==============================] - 2s 39us/step - loss: 1.5004 - acc: 0.4291 - val_loss: 1.4546 - val_acc: 0.4778\n",
      "Epoch 12/20\n",
      "60000/60000 [==============================] - 2s 40us/step - loss: 1.4063 - acc: 0.5027 - val_loss: 1.3621 - val_acc: 0.5294\n",
      "Epoch 13/20\n",
      "60000/60000 [==============================] - 2s 37us/step - loss: 1.3201 - acc: 0.5361 - val_loss: 1.2933 - val_acc: 0.5438\n",
      "Epoch 14/20\n",
      "60000/60000 [==============================] - 2s 37us/step - loss: 1.2612 - acc: 0.5573 - val_loss: 1.2393 - val_acc: 0.5686\n",
      "Epoch 15/20\n",
      "60000/60000 [==============================] - 2s 37us/step - loss: 1.2066 - acc: 0.5895 - val_loss: 1.1782 - val_acc: 0.5952\n",
      "Epoch 16/20\n",
      "60000/60000 [==============================] - 2s 37us/step - loss: 1.1349 - acc: 0.6257 - val_loss: 1.1033 - val_acc: 0.6375\n",
      "Epoch 17/20\n",
      "60000/60000 [==============================] - 2s 36us/step - loss: 1.0615 - acc: 0.6657 - val_loss: 1.0331 - val_acc: 0.6726\n",
      "Epoch 18/20\n",
      "60000/60000 [==============================] - 2s 38us/step - loss: 0.9949 - acc: 0.6849 - val_loss: 0.9748 - val_acc: 0.6900\n",
      "Epoch 19/20\n",
      "60000/60000 [==============================] - 2s 37us/step - loss: 0.9426 - acc: 0.6974 - val_loss: 0.9322 - val_acc: 0.6972\n",
      "Epoch 20/20\n",
      "60000/60000 [==============================] - 2s 38us/step - loss: 0.9027 - acc: 0.7072 - val_loss: 0.9005 - val_acc: 0.7047\n"
     ]
    },
    {
     "data": {
      "text/plain": [
       "42"
      ]
     },
     "execution_count": 69,
     "metadata": {},
     "output_type": "execute_result"
    },
    {
     "data": {
      "text/plain": [
       "23"
      ]
     },
     "execution_count": 69,
     "metadata": {},
     "output_type": "execute_result"
    },
    {
     "data": {
      "text/plain": [
       "1"
      ]
     },
     "execution_count": 69,
     "metadata": {},
     "output_type": "execute_result"
    },
    {
     "data": {
      "text/plain": [
       "15"
      ]
     },
     "execution_count": 69,
     "metadata": {},
     "output_type": "execute_result"
    },
    {
     "data": {
      "text/plain": [
       "2"
      ]
     },
     "execution_count": 69,
     "metadata": {},
     "output_type": "execute_result"
    },
    {
     "data": {
      "text/plain": [
       "[<matplotlib.lines.Line2D at 0x16045976978>]"
      ]
     },
     "execution_count": 69,
     "metadata": {},
     "output_type": "execute_result"
    },
    {
     "data": {
      "text/plain": [
       "[<matplotlib.lines.Line2D at 0x16045989198>]"
      ]
     },
     "execution_count": 69,
     "metadata": {},
     "output_type": "execute_result"
    },
    {
     "data": {
      "text/plain": [
       "Text(0.5,1,'model accuracy')"
      ]
     },
     "execution_count": 69,
     "metadata": {},
     "output_type": "execute_result"
    },
    {
     "data": {
      "text/plain": [
       "Text(0,0.5,'accuracy')"
      ]
     },
     "execution_count": 69,
     "metadata": {},
     "output_type": "execute_result"
    },
    {
     "data": {
      "text/plain": [
       "Text(0.5,0,'epoch')"
      ]
     },
     "execution_count": 69,
     "metadata": {},
     "output_type": "execute_result"
    },
    {
     "data": {
      "text/plain": [
       "<matplotlib.legend.Legend at 0x16045951748>"
      ]
     },
     "execution_count": 69,
     "metadata": {},
     "output_type": "execute_result"
    },
    {
     "data": {
      "text/plain": [
       "[<matplotlib.lines.Line2D at 0x160459d76d8>]"
      ]
     },
     "execution_count": 69,
     "metadata": {},
     "output_type": "execute_result"
    },
    {
     "data": {
      "text/plain": [
       "[<matplotlib.lines.Line2D at 0x160459d7828>]"
      ]
     },
     "execution_count": 69,
     "metadata": {},
     "output_type": "execute_result"
    },
    {
     "data": {
      "text/plain": [
       "Text(0.5,1,'model loss')"
      ]
     },
     "execution_count": 69,
     "metadata": {},
     "output_type": "execute_result"
    },
    {
     "data": {
      "text/plain": [
       "Text(0,0.5,'loss')"
      ]
     },
     "execution_count": 69,
     "metadata": {},
     "output_type": "execute_result"
    },
    {
     "data": {
      "text/plain": [
       "Text(0.5,0,'epoch')"
      ]
     },
     "execution_count": 69,
     "metadata": {},
     "output_type": "execute_result"
    },
    {
     "data": {
      "text/plain": [
       "<matplotlib.legend.Legend at 0x160459c70f0>"
      ]
     },
     "execution_count": 69,
     "metadata": {},
     "output_type": "execute_result"
    },
    {
     "name": "stdout",
     "output_type": "stream",
     "text": [
      "Analysis of results\n",
      "              precision    recall  f1-score   support\n",
      "\n",
      "           0       0.91      0.93      0.92       980\n",
      "           1       0.98      0.96      0.97      1135\n",
      "           2       0.28      0.02      0.03      1032\n",
      "           3       0.60      0.78      0.68      1010\n",
      "           4       0.84      0.91      0.87       982\n",
      "           5       0.73      0.66      0.69       892\n",
      "           6       0.36      0.89      0.51       958\n",
      "           7       0.92      0.89      0.90      1028\n",
      "           8       0.65      0.12      0.20       974\n",
      "           9       0.82      0.87      0.84      1009\n",
      "\n",
      "   micro avg       0.70      0.70      0.70     10000\n",
      "   macro avg       0.71      0.70      0.66     10000\n",
      "weighted avg       0.71      0.70      0.67     10000\n",
      "\n",
      "[[ 907    0    0   17    0   48    1    7    0    0]\n",
      " [   0 1093    1    1   23    0    7    0    1    9]\n",
      " [   1    0   16   63   32    7  875    4   27    7]\n",
      " [   7    0    1  791    0  147   25   17   13    9]\n",
      " [   0    6    8    2  891    0   12    1    1   61]\n",
      " [  73    0    1  192    1  588   13   13    3    8]\n",
      " [   3    1   11   48   16    5  854    0   17    3]\n",
      " [   0    4    1   10    8    1    4  918    1   81]\n",
      " [   2    1   18  181   22   10  599    9  116   16]\n",
      " [   3    6    0   22   65    2    4   34    0  873]]\n",
      "Train on 60000 samples, validate on 10000 samples\n",
      "Epoch 1/20\n",
      "60000/60000 [==============================] - 4s 63us/step - loss: 1.8007 - acc: 0.3532 - val_loss: 1.2641 - val_acc: 0.6390\n",
      "Epoch 2/20\n",
      "60000/60000 [==============================] - 2s 38us/step - loss: 0.8751 - acc: 0.7556 - val_loss: 0.6347 - val_acc: 0.8158\n",
      "Epoch 3/20\n",
      "60000/60000 [==============================] - 2s 38us/step - loss: 0.5559 - acc: 0.8422 - val_loss: 0.4756 - val_acc: 0.8635\n",
      "Epoch 4/20\n",
      "60000/60000 [==============================] - 2s 38us/step - loss: 0.4449 - acc: 0.8746 - val_loss: 0.3953 - val_acc: 0.8847\n",
      "Epoch 5/20\n",
      "60000/60000 [==============================] - 2s 38us/step - loss: 0.3800 - acc: 0.8931 - val_loss: 0.3469 - val_acc: 0.9018\n",
      "Epoch 6/20\n",
      "60000/60000 [==============================] - 2s 38us/step - loss: 0.3338 - acc: 0.9055 - val_loss: 0.3072 - val_acc: 0.9128\n",
      "Epoch 7/20\n",
      "60000/60000 [==============================] - 2s 39us/step - loss: 0.2987 - acc: 0.9156 - val_loss: 0.2788 - val_acc: 0.9197\n",
      "Epoch 8/20\n",
      "60000/60000 [==============================] - 2s 39us/step - loss: 0.2722 - acc: 0.9231 - val_loss: 0.2570 - val_acc: 0.9248\n",
      "Epoch 9/20\n",
      "60000/60000 [==============================] - 2s 39us/step - loss: 0.2506 - acc: 0.9290 - val_loss: 0.2402 - val_acc: 0.9314\n",
      "Epoch 10/20\n",
      "60000/60000 [==============================] - 2s 41us/step - loss: 0.2326 - acc: 0.9335 - val_loss: 0.2248 - val_acc: 0.9338\n",
      "Epoch 11/20\n",
      "60000/60000 [==============================] - 3s 45us/step - loss: 0.2173 - acc: 0.9378 - val_loss: 0.2122 - val_acc: 0.9376\n",
      "Epoch 12/20\n",
      "60000/60000 [==============================] - 2s 39us/step - loss: 0.2045 - acc: 0.9420 - val_loss: 0.2032 - val_acc: 0.9398\n",
      "Epoch 13/20\n",
      "60000/60000 [==============================] - 2s 38us/step - loss: 0.1923 - acc: 0.9454 - val_loss: 0.1934 - val_acc: 0.9439\n",
      "Epoch 14/20\n",
      "60000/60000 [==============================] - 2s 38us/step - loss: 0.1826 - acc: 0.9482 - val_loss: 0.1847 - val_acc: 0.9448\n",
      "Epoch 15/20\n",
      "60000/60000 [==============================] - 2s 37us/step - loss: 0.1735 - acc: 0.9507 - val_loss: 0.1760 - val_acc: 0.9478\n",
      "Epoch 16/20\n",
      "60000/60000 [==============================] - 2s 40us/step - loss: 0.1653 - acc: 0.9526 - val_loss: 0.1790 - val_acc: 0.9465\n",
      "Epoch 17/20\n",
      "60000/60000 [==============================] - 2s 41us/step - loss: 0.1583 - acc: 0.9549 - val_loss: 0.1705 - val_acc: 0.9494\n",
      "Epoch 18/20\n",
      "60000/60000 [==============================] - 2s 37us/step - loss: 0.1519 - acc: 0.9578 - val_loss: 0.1637 - val_acc: 0.9510\n",
      "Epoch 19/20\n",
      "60000/60000 [==============================] - 2s 38us/step - loss: 0.1456 - acc: 0.9589 - val_loss: 0.1616 - val_acc: 0.9530\n",
      "Epoch 20/20\n",
      "60000/60000 [==============================] - 2s 37us/step - loss: 0.1400 - acc: 0.9606 - val_loss: 0.1537 - val_acc: 0.9547\n"
     ]
    },
    {
     "data": {
      "text/plain": [
       "42"
      ]
     },
     "execution_count": 69,
     "metadata": {},
     "output_type": "execute_result"
    },
    {
     "data": {
      "text/plain": [
       "23"
      ]
     },
     "execution_count": 69,
     "metadata": {},
     "output_type": "execute_result"
    },
    {
     "data": {
      "text/plain": [
       "1"
      ]
     },
     "execution_count": 69,
     "metadata": {},
     "output_type": "execute_result"
    },
    {
     "data": {
      "text/plain": [
       "15"
      ]
     },
     "execution_count": 69,
     "metadata": {},
     "output_type": "execute_result"
    },
    {
     "data": {
      "text/plain": [
       "2"
      ]
     },
     "execution_count": 69,
     "metadata": {},
     "output_type": "execute_result"
    },
    {
     "data": {
      "text/plain": [
       "[<matplotlib.lines.Line2D at 0x16049ac16d8>]"
      ]
     },
     "execution_count": 69,
     "metadata": {},
     "output_type": "execute_result"
    },
    {
     "data": {
      "text/plain": [
       "[<matplotlib.lines.Line2D at 0x16049ac1b70>]"
      ]
     },
     "execution_count": 69,
     "metadata": {},
     "output_type": "execute_result"
    },
    {
     "data": {
      "text/plain": [
       "Text(0.5,1,'model accuracy')"
      ]
     },
     "execution_count": 69,
     "metadata": {},
     "output_type": "execute_result"
    },
    {
     "data": {
      "text/plain": [
       "Text(0,0.5,'accuracy')"
      ]
     },
     "execution_count": 69,
     "metadata": {},
     "output_type": "execute_result"
    },
    {
     "data": {
      "text/plain": [
       "Text(0.5,0,'epoch')"
      ]
     },
     "execution_count": 69,
     "metadata": {},
     "output_type": "execute_result"
    },
    {
     "data": {
      "text/plain": [
       "<matplotlib.legend.Legend at 0x16049adf2e8>"
      ]
     },
     "execution_count": 69,
     "metadata": {},
     "output_type": "execute_result"
    },
    {
     "data": {
      "text/plain": [
       "[<matplotlib.lines.Line2D at 0x160196f67f0>]"
      ]
     },
     "execution_count": 69,
     "metadata": {},
     "output_type": "execute_result"
    },
    {
     "data": {
      "text/plain": [
       "[<matplotlib.lines.Line2D at 0x160196f6cf8>]"
      ]
     },
     "execution_count": 69,
     "metadata": {},
     "output_type": "execute_result"
    },
    {
     "data": {
      "text/plain": [
       "Text(0.5,1,'model loss')"
      ]
     },
     "execution_count": 69,
     "metadata": {},
     "output_type": "execute_result"
    },
    {
     "data": {
      "text/plain": [
       "Text(0,0.5,'loss')"
      ]
     },
     "execution_count": 69,
     "metadata": {},
     "output_type": "execute_result"
    },
    {
     "data": {
      "text/plain": [
       "Text(0.5,0,'epoch')"
      ]
     },
     "execution_count": 69,
     "metadata": {},
     "output_type": "execute_result"
    },
    {
     "data": {
      "text/plain": [
       "<matplotlib.legend.Legend at 0x160458edfd0>"
      ]
     },
     "execution_count": 69,
     "metadata": {},
     "output_type": "execute_result"
    },
    {
     "name": "stdout",
     "output_type": "stream",
     "text": [
      "Analysis of results\n",
      "              precision    recall  f1-score   support\n",
      "\n",
      "           0       0.97      0.98      0.97       980\n",
      "           1       0.98      0.98      0.98      1135\n",
      "           2       0.94      0.97      0.95      1032\n",
      "           3       0.95      0.95      0.95      1010\n",
      "           4       0.96      0.95      0.95       982\n",
      "           5       0.97      0.93      0.95       892\n",
      "           6       0.95      0.97      0.96       958\n",
      "           7       0.96      0.94      0.95      1028\n",
      "           8       0.94      0.93      0.93       974\n",
      "           9       0.95      0.94      0.94      1009\n",
      "\n",
      "   micro avg       0.95      0.95      0.95     10000\n",
      "   macro avg       0.95      0.95      0.95     10000\n",
      "weighted avg       0.95      0.95      0.95     10000\n",
      "\n",
      "[[ 959    0    3    3    0    4    4    2    4    1]\n",
      " [   0 1116    2    2    0    1    4    2    8    0]\n",
      " [   4    1  997    3    4    0    2    7   10    4]\n",
      " [   2    1   15  959    0    8    0   12   10    3]\n",
      " [   2    0    9    0  934    0    9    3    5   20]\n",
      " [   6    3    0   19    2  832   14    3   10    3]\n",
      " [   5    4    3    0   11    7  926    0    2    0]\n",
      " [   2    7   27    6    2    0    0  967    0   17]\n",
      " [   5    3    6   17    7    8   11    4  908    5]\n",
      " [   8    2    3    5   18    2    0    8   14  949]]\n",
      "Train on 60000 samples, validate on 10000 samples\n",
      "Epoch 1/20\n",
      "60000/60000 [==============================] - 4s 66us/step - loss: 1.8202 - acc: 0.4579 - val_loss: 1.0114 - val_acc: 0.7580\n",
      "Epoch 2/20\n",
      "60000/60000 [==============================] - 2s 39us/step - loss: 0.6554 - acc: 0.8262 - val_loss: 0.4692 - val_acc: 0.8638\n",
      "Epoch 3/20\n",
      "60000/60000 [==============================] - 2s 39us/step - loss: 0.4313 - acc: 0.8765 - val_loss: 0.3722 - val_acc: 0.8917\n",
      "Epoch 4/20\n",
      "60000/60000 [==============================] - 2s 39us/step - loss: 0.3678 - acc: 0.8940 - val_loss: 0.3329 - val_acc: 0.8999\n",
      "Epoch 5/20\n",
      "60000/60000 [==============================] - 2s 39us/step - loss: 0.3313 - acc: 0.9042 - val_loss: 0.3021 - val_acc: 0.9087\n",
      "Epoch 6/20\n",
      "60000/60000 [==============================] - 2s 39us/step - loss: 0.3046 - acc: 0.9126 - val_loss: 0.2832 - val_acc: 0.9162\n",
      "Epoch 7/20\n",
      "60000/60000 [==============================] - 2s 39us/step - loss: 0.2821 - acc: 0.9188 - val_loss: 0.2631 - val_acc: 0.9216\n",
      "Epoch 8/20\n",
      "60000/60000 [==============================] - 2s 38us/step - loss: 0.2637 - acc: 0.9241 - val_loss: 0.2480 - val_acc: 0.9269\n",
      "Epoch 9/20\n",
      "60000/60000 [==============================] - 2s 38us/step - loss: 0.2472 - acc: 0.9289 - val_loss: 0.2307 - val_acc: 0.9333\n",
      "Epoch 10/20\n",
      "60000/60000 [==============================] - 2s 39us/step - loss: 0.2329 - acc: 0.9329 - val_loss: 0.2199 - val_acc: 0.9355\n",
      "Epoch 11/20\n",
      "60000/60000 [==============================] - 2s 38us/step - loss: 0.2198 - acc: 0.9369 - val_loss: 0.2100 - val_acc: 0.9377\n",
      "Epoch 12/20\n",
      "60000/60000 [==============================] - 2s 39us/step - loss: 0.2081 - acc: 0.9403 - val_loss: 0.1975 - val_acc: 0.9420\n",
      "Epoch 13/20\n",
      "60000/60000 [==============================] - 2s 39us/step - loss: 0.1973 - acc: 0.9437 - val_loss: 0.1899 - val_acc: 0.9464\n",
      "Epoch 14/20\n",
      "60000/60000 [==============================] - 2s 40us/step - loss: 0.1877 - acc: 0.9465 - val_loss: 0.1838 - val_acc: 0.9480\n",
      "Epoch 15/20\n",
      "60000/60000 [==============================] - 2s 38us/step - loss: 0.1787 - acc: 0.9491 - val_loss: 0.1722 - val_acc: 0.9509\n",
      "Epoch 16/20\n",
      "60000/60000 [==============================] - 2s 39us/step - loss: 0.1710 - acc: 0.9511 - val_loss: 0.1687 - val_acc: 0.9524\n",
      "Epoch 17/20\n",
      "60000/60000 [==============================] - 2s 39us/step - loss: 0.1635 - acc: 0.9530 - val_loss: 0.1612 - val_acc: 0.9540\n",
      "Epoch 18/20\n",
      "60000/60000 [==============================] - 2s 39us/step - loss: 0.1568 - acc: 0.9553 - val_loss: 0.1566 - val_acc: 0.9551\n",
      "Epoch 19/20\n",
      "60000/60000 [==============================] - 2s 39us/step - loss: 0.1508 - acc: 0.9561 - val_loss: 0.1493 - val_acc: 0.9569\n",
      "Epoch 20/20\n",
      "60000/60000 [==============================] - 2s 39us/step - loss: 0.1448 - acc: 0.9585 - val_loss: 0.1466 - val_acc: 0.9573\n"
     ]
    },
    {
     "data": {
      "text/plain": [
       "42"
      ]
     },
     "execution_count": 69,
     "metadata": {},
     "output_type": "execute_result"
    },
    {
     "data": {
      "text/plain": [
       "24"
      ]
     },
     "execution_count": 69,
     "metadata": {},
     "output_type": "execute_result"
    },
    {
     "data": {
      "text/plain": [
       "1"
      ]
     },
     "execution_count": 69,
     "metadata": {},
     "output_type": "execute_result"
    },
    {
     "data": {
      "text/plain": [
       "15"
      ]
     },
     "execution_count": 69,
     "metadata": {},
     "output_type": "execute_result"
    },
    {
     "data": {
      "text/plain": [
       "2"
      ]
     },
     "execution_count": 69,
     "metadata": {},
     "output_type": "execute_result"
    },
    {
     "data": {
      "text/plain": [
       "[<matplotlib.lines.Line2D at 0x16041e25128>]"
      ]
     },
     "execution_count": 69,
     "metadata": {},
     "output_type": "execute_result"
    },
    {
     "data": {
      "text/plain": [
       "[<matplotlib.lines.Line2D at 0x16044cb9668>]"
      ]
     },
     "execution_count": 69,
     "metadata": {},
     "output_type": "execute_result"
    },
    {
     "data": {
      "text/plain": [
       "Text(0.5,1,'model accuracy')"
      ]
     },
     "execution_count": 69,
     "metadata": {},
     "output_type": "execute_result"
    },
    {
     "data": {
      "text/plain": [
       "Text(0,0.5,'accuracy')"
      ]
     },
     "execution_count": 69,
     "metadata": {},
     "output_type": "execute_result"
    },
    {
     "data": {
      "text/plain": [
       "Text(0.5,0,'epoch')"
      ]
     },
     "execution_count": 69,
     "metadata": {},
     "output_type": "execute_result"
    },
    {
     "data": {
      "text/plain": [
       "<matplotlib.legend.Legend at 0x16044cb9240>"
      ]
     },
     "execution_count": 69,
     "metadata": {},
     "output_type": "execute_result"
    },
    {
     "data": {
      "text/plain": [
       "[<matplotlib.lines.Line2D at 0x16041b747f0>]"
      ]
     },
     "execution_count": 69,
     "metadata": {},
     "output_type": "execute_result"
    },
    {
     "data": {
      "text/plain": [
       "[<matplotlib.lines.Line2D at 0x16041b405f8>]"
      ]
     },
     "execution_count": 69,
     "metadata": {},
     "output_type": "execute_result"
    },
    {
     "data": {
      "text/plain": [
       "Text(0.5,1,'model loss')"
      ]
     },
     "execution_count": 69,
     "metadata": {},
     "output_type": "execute_result"
    },
    {
     "data": {
      "text/plain": [
       "Text(0,0.5,'loss')"
      ]
     },
     "execution_count": 69,
     "metadata": {},
     "output_type": "execute_result"
    },
    {
     "data": {
      "text/plain": [
       "Text(0.5,0,'epoch')"
      ]
     },
     "execution_count": 69,
     "metadata": {},
     "output_type": "execute_result"
    },
    {
     "data": {
      "text/plain": [
       "<matplotlib.legend.Legend at 0x16041b55208>"
      ]
     },
     "execution_count": 69,
     "metadata": {},
     "output_type": "execute_result"
    },
    {
     "name": "stdout",
     "output_type": "stream",
     "text": [
      "Analysis of results\n",
      "              precision    recall  f1-score   support\n",
      "\n",
      "           0       0.97      0.98      0.97       980\n",
      "           1       0.97      0.98      0.98      1135\n",
      "           2       0.96      0.96      0.96      1032\n",
      "           3       0.93      0.97      0.95      1010\n",
      "           4       0.95      0.96      0.96       982\n",
      "           5       0.96      0.93      0.95       892\n",
      "           6       0.96      0.96      0.96       958\n",
      "           7       0.97      0.94      0.95      1028\n",
      "           8       0.95      0.93      0.94       974\n",
      "           9       0.95      0.94      0.95      1009\n",
      "\n",
      "   micro avg       0.96      0.96      0.96     10000\n",
      "   macro avg       0.96      0.96      0.96     10000\n",
      "weighted avg       0.96      0.96      0.96     10000\n",
      "\n",
      "[[ 961    1    2    1    0    4    6    4    1    0]\n",
      " [   0 1114    2    2    1    1    4    2    9    0]\n",
      " [   3    2  995   10    4    2    2    4   10    0]\n",
      " [   0    1    9  975    1    6    0    9    8    1]\n",
      " [   2    0    4    0  947    0    9    2    2   16]\n",
      " [   6    2    2   24    4  831    9    1    9    4]\n",
      " [   7    3    1    0    9   10  924    1    3    0]\n",
      " [   2   13   15    6    3    1    0  964    1   23]\n",
      " [   5    2    7   19    8    7    7    4  910    5]\n",
      " [   7    6    1   12   19    2    0    6    4  952]]\n",
      "Train on 60000 samples, validate on 10000 samples\n",
      "Epoch 1/20\n",
      "60000/60000 [==============================] - 4s 66us/step - loss: 1.6406 - acc: 0.5075 - val_loss: 0.8538 - val_acc: 0.7922\n",
      "Epoch 2/20\n",
      "60000/60000 [==============================] - 2s 39us/step - loss: 0.6041 - acc: 0.8399 - val_loss: 0.4427 - val_acc: 0.8768\n",
      "Epoch 3/20\n",
      "60000/60000 [==============================] - 2s 41us/step - loss: 0.4094 - acc: 0.8853 - val_loss: 0.3552 - val_acc: 0.8990\n",
      "Epoch 4/20\n",
      "60000/60000 [==============================] - 4s 67us/step - loss: 0.3450 - acc: 0.9014 - val_loss: 0.3106 - val_acc: 0.9086\n",
      "Epoch 5/20\n",
      "60000/60000 [==============================] - 3s 48us/step - loss: 0.3083 - acc: 0.9116 - val_loss: 0.2857 - val_acc: 0.9168\n",
      "Epoch 6/20\n",
      "60000/60000 [==============================] - 3s 48us/step - loss: 0.2819 - acc: 0.9194 - val_loss: 0.2647 - val_acc: 0.9231\n",
      "Epoch 7/20\n",
      "60000/60000 [==============================] - 3s 52us/step - loss: 0.2610 - acc: 0.9245 - val_loss: 0.2427 - val_acc: 0.9306\n",
      "Epoch 8/20\n",
      "60000/60000 [==============================] - 3s 43us/step - loss: 0.2439 - acc: 0.9300 - val_loss: 0.2317 - val_acc: 0.9338\n",
      "Epoch 9/20\n",
      "60000/60000 [==============================] - 2s 41us/step - loss: 0.2290 - acc: 0.9336 - val_loss: 0.2174 - val_acc: 0.9378\n",
      "Epoch 10/20\n",
      "60000/60000 [==============================] - 2s 40us/step - loss: 0.2165 - acc: 0.9369 - val_loss: 0.2092 - val_acc: 0.9382\n",
      "Epoch 11/20\n",
      "60000/60000 [==============================] - 2s 39us/step - loss: 0.2050 - acc: 0.9404 - val_loss: 0.1962 - val_acc: 0.9431\n",
      "Epoch 12/20\n",
      "60000/60000 [==============================] - 3s 42us/step - loss: 0.1946 - acc: 0.9430 - val_loss: 0.1920 - val_acc: 0.9436\n",
      "Epoch 13/20\n",
      "60000/60000 [==============================] - 2s 40us/step - loss: 0.1859 - acc: 0.9453 - val_loss: 0.1820 - val_acc: 0.9472\n",
      "Epoch 14/20\n",
      "60000/60000 [==============================] - 2s 39us/step - loss: 0.1771 - acc: 0.9482 - val_loss: 0.1771 - val_acc: 0.9479\n",
      "Epoch 15/20\n",
      "60000/60000 [==============================] - 2s 39us/step - loss: 0.1697 - acc: 0.9506 - val_loss: 0.1678 - val_acc: 0.9503\n",
      "Epoch 16/20\n",
      "60000/60000 [==============================] - 2s 40us/step - loss: 0.1630 - acc: 0.9528 - val_loss: 0.1606 - val_acc: 0.9529\n",
      "Epoch 17/20\n",
      "60000/60000 [==============================] - 2s 39us/step - loss: 0.1563 - acc: 0.9546 - val_loss: 0.1558 - val_acc: 0.9540\n",
      "Epoch 18/20\n",
      "60000/60000 [==============================] - 2s 39us/step - loss: 0.1509 - acc: 0.9559 - val_loss: 0.1516 - val_acc: 0.9552\n",
      "Epoch 19/20\n",
      "60000/60000 [==============================] - 3s 42us/step - loss: 0.1451 - acc: 0.9578 - val_loss: 0.1475 - val_acc: 0.9575\n",
      "Epoch 20/20\n",
      "60000/60000 [==============================] - 2s 40us/step - loss: 0.1400 - acc: 0.9594 - val_loss: 0.1439 - val_acc: 0.9578\n"
     ]
    },
    {
     "data": {
      "text/plain": [
       "42"
      ]
     },
     "execution_count": 69,
     "metadata": {},
     "output_type": "execute_result"
    },
    {
     "data": {
      "text/plain": [
       "24"
      ]
     },
     "execution_count": 69,
     "metadata": {},
     "output_type": "execute_result"
    },
    {
     "data": {
      "text/plain": [
       "1"
      ]
     },
     "execution_count": 69,
     "metadata": {},
     "output_type": "execute_result"
    },
    {
     "data": {
      "text/plain": [
       "15"
      ]
     },
     "execution_count": 69,
     "metadata": {},
     "output_type": "execute_result"
    },
    {
     "data": {
      "text/plain": [
       "2"
      ]
     },
     "execution_count": 69,
     "metadata": {},
     "output_type": "execute_result"
    },
    {
     "data": {
      "text/plain": [
       "[<matplotlib.lines.Line2D at 0x160339b62b0>]"
      ]
     },
     "execution_count": 69,
     "metadata": {},
     "output_type": "execute_result"
    },
    {
     "data": {
      "text/plain": [
       "[<matplotlib.lines.Line2D at 0x160339b6128>]"
      ]
     },
     "execution_count": 69,
     "metadata": {},
     "output_type": "execute_result"
    },
    {
     "data": {
      "text/plain": [
       "Text(0.5,1,'model accuracy')"
      ]
     },
     "execution_count": 69,
     "metadata": {},
     "output_type": "execute_result"
    },
    {
     "data": {
      "text/plain": [
       "Text(0,0.5,'accuracy')"
      ]
     },
     "execution_count": 69,
     "metadata": {},
     "output_type": "execute_result"
    },
    {
     "data": {
      "text/plain": [
       "Text(0.5,0,'epoch')"
      ]
     },
     "execution_count": 69,
     "metadata": {},
     "output_type": "execute_result"
    },
    {
     "data": {
      "text/plain": [
       "<matplotlib.legend.Legend at 0x16033f73d68>"
      ]
     },
     "execution_count": 69,
     "metadata": {},
     "output_type": "execute_result"
    },
    {
     "data": {
      "text/plain": [
       "[<matplotlib.lines.Line2D at 0x16033948f28>]"
      ]
     },
     "execution_count": 69,
     "metadata": {},
     "output_type": "execute_result"
    },
    {
     "data": {
      "text/plain": [
       "[<matplotlib.lines.Line2D at 0x16033956f60>]"
      ]
     },
     "execution_count": 69,
     "metadata": {},
     "output_type": "execute_result"
    },
    {
     "data": {
      "text/plain": [
       "Text(0.5,1,'model loss')"
      ]
     },
     "execution_count": 69,
     "metadata": {},
     "output_type": "execute_result"
    },
    {
     "data": {
      "text/plain": [
       "Text(0,0.5,'loss')"
      ]
     },
     "execution_count": 69,
     "metadata": {},
     "output_type": "execute_result"
    },
    {
     "data": {
      "text/plain": [
       "Text(0.5,0,'epoch')"
      ]
     },
     "execution_count": 69,
     "metadata": {},
     "output_type": "execute_result"
    },
    {
     "data": {
      "text/plain": [
       "<matplotlib.legend.Legend at 0x16033964908>"
      ]
     },
     "execution_count": 69,
     "metadata": {},
     "output_type": "execute_result"
    },
    {
     "name": "stdout",
     "output_type": "stream",
     "text": [
      "Analysis of results\n",
      "              precision    recall  f1-score   support\n",
      "\n",
      "           0       0.97      0.99      0.98       980\n",
      "           1       0.98      0.99      0.98      1135\n",
      "           2       0.96      0.96      0.96      1032\n",
      "           3       0.93      0.97      0.95      1010\n",
      "           4       0.96      0.96      0.96       982\n",
      "           5       0.96      0.93      0.94       892\n",
      "           6       0.96      0.95      0.96       958\n",
      "           7       0.97      0.94      0.96      1028\n",
      "           8       0.95      0.94      0.95       974\n",
      "           9       0.95      0.94      0.94      1009\n",
      "\n",
      "   micro avg       0.96      0.96      0.96     10000\n",
      "   macro avg       0.96      0.96      0.96     10000\n",
      "weighted avg       0.96      0.96      0.96     10000\n",
      "\n",
      "[[ 966    0    2    2    0    5    3    1    1    0]\n",
      " [   0 1121    3    2    0    2    1    2    4    0]\n",
      " [   6    1  993   12    3    1    3    4    7    2]\n",
      " [   0    0    7  982    0    2    0    8   11    0]\n",
      " [   1    0    1    1  944    0   11    1    4   19]\n",
      " [   8    1    1   23    2  828   12    1   11    5]\n",
      " [   9    3    3    3    9   13  914    0    4    0]\n",
      " [   0   10   18    3    3    2    0  970    1   21]\n",
      " [   3    2    6   18    5    9    8    4  915    4]\n",
      " [   6    7    4   12   19    3    1    8    4  945]]\n",
      "Train on 60000 samples, validate on 10000 samples\n",
      "Epoch 1/20\n",
      "60000/60000 [==============================] - 4s 70us/step - loss: 1.5410 - acc: 0.5615 - val_loss: 0.7669 - val_acc: 0.8040\n",
      "Epoch 2/20\n",
      "60000/60000 [==============================] - 2s 41us/step - loss: 0.5842 - acc: 0.8396 - val_loss: 0.4512 - val_acc: 0.8741\n",
      "Epoch 3/20\n",
      "60000/60000 [==============================] - 4s 63us/step - loss: 0.4192 - acc: 0.8802 - val_loss: 0.3649 - val_acc: 0.8954\n",
      "Epoch 4/20\n",
      "60000/60000 [==============================] - 3s 49us/step - loss: 0.3592 - acc: 0.8974 - val_loss: 0.3269 - val_acc: 0.9050\n",
      "Epoch 5/20\n",
      "60000/60000 [==============================] - 3s 43us/step - loss: 0.3236 - acc: 0.9067 - val_loss: 0.2999 - val_acc: 0.9127\n",
      "Epoch 6/20\n",
      "60000/60000 [==============================] - 3s 47us/step - loss: 0.2980 - acc: 0.9148 - val_loss: 0.2815 - val_acc: 0.9199\n",
      "Epoch 7/20\n",
      "60000/60000 [==============================] - 3s 42us/step - loss: 0.2773 - acc: 0.9196 - val_loss: 0.2653 - val_acc: 0.9220\n",
      "Epoch 8/20\n",
      "60000/60000 [==============================] - 2s 40us/step - loss: 0.2589 - acc: 0.9247 - val_loss: 0.2501 - val_acc: 0.9271\n",
      "Epoch 9/20\n",
      "60000/60000 [==============================] - 2s 40us/step - loss: 0.2424 - acc: 0.9296 - val_loss: 0.2327 - val_acc: 0.9321\n",
      "Epoch 10/20\n",
      "60000/60000 [==============================] - 3s 43us/step - loss: 0.2280 - acc: 0.9347 - val_loss: 0.2231 - val_acc: 0.9350\n",
      "Epoch 11/20\n",
      "60000/60000 [==============================] - 3s 47us/step - loss: 0.2152 - acc: 0.9377 - val_loss: 0.2125 - val_acc: 0.9365\n",
      "Epoch 12/20\n",
      "60000/60000 [==============================] - 2s 41us/step - loss: 0.2034 - acc: 0.9416 - val_loss: 0.2013 - val_acc: 0.9402\n",
      "Epoch 13/20\n",
      "60000/60000 [==============================] - 2s 41us/step - loss: 0.1923 - acc: 0.9453 - val_loss: 0.1906 - val_acc: 0.9441\n",
      "Epoch 14/20\n",
      "60000/60000 [==============================] - 3s 42us/step - loss: 0.1828 - acc: 0.9477 - val_loss: 0.1846 - val_acc: 0.9459\n",
      "Epoch 15/20\n",
      "60000/60000 [==============================] - 3s 45us/step - loss: 0.1743 - acc: 0.9501 - val_loss: 0.1819 - val_acc: 0.9442\n",
      "Epoch 16/20\n",
      "60000/60000 [==============================] - 3s 53us/step - loss: 0.1666 - acc: 0.9522 - val_loss: 0.1751 - val_acc: 0.9488\n",
      "Epoch 17/20\n",
      "60000/60000 [==============================] - 3s 42us/step - loss: 0.1596 - acc: 0.9543 - val_loss: 0.1633 - val_acc: 0.9525\n",
      "Epoch 18/20\n",
      "60000/60000 [==============================] - 3s 42us/step - loss: 0.1534 - acc: 0.9562 - val_loss: 0.1625 - val_acc: 0.9529\n",
      "Epoch 19/20\n",
      "60000/60000 [==============================] - 2s 40us/step - loss: 0.1470 - acc: 0.9578 - val_loss: 0.1555 - val_acc: 0.9553\n",
      "Epoch 20/20\n",
      "60000/60000 [==============================] - 2s 41us/step - loss: 0.1420 - acc: 0.9591 - val_loss: 0.1505 - val_acc: 0.9565\n"
     ]
    },
    {
     "data": {
      "text/plain": [
       "42"
      ]
     },
     "execution_count": 69,
     "metadata": {},
     "output_type": "execute_result"
    },
    {
     "data": {
      "text/plain": [
       "24"
      ]
     },
     "execution_count": 69,
     "metadata": {},
     "output_type": "execute_result"
    },
    {
     "data": {
      "text/plain": [
       "1"
      ]
     },
     "execution_count": 69,
     "metadata": {},
     "output_type": "execute_result"
    },
    {
     "data": {
      "text/plain": [
       "15"
      ]
     },
     "execution_count": 69,
     "metadata": {},
     "output_type": "execute_result"
    },
    {
     "data": {
      "text/plain": [
       "2"
      ]
     },
     "execution_count": 69,
     "metadata": {},
     "output_type": "execute_result"
    },
    {
     "data": {
      "text/plain": [
       "[<matplotlib.lines.Line2D at 0x1602e55c518>]"
      ]
     },
     "execution_count": 69,
     "metadata": {},
     "output_type": "execute_result"
    },
    {
     "data": {
      "text/plain": [
       "[<matplotlib.lines.Line2D at 0x1602e55ca58>]"
      ]
     },
     "execution_count": 69,
     "metadata": {},
     "output_type": "execute_result"
    },
    {
     "data": {
      "text/plain": [
       "Text(0.5,1,'model accuracy')"
      ]
     },
     "execution_count": 69,
     "metadata": {},
     "output_type": "execute_result"
    },
    {
     "data": {
      "text/plain": [
       "Text(0,0.5,'accuracy')"
      ]
     },
     "execution_count": 69,
     "metadata": {},
     "output_type": "execute_result"
    },
    {
     "data": {
      "text/plain": [
       "Text(0.5,0,'epoch')"
      ]
     },
     "execution_count": 69,
     "metadata": {},
     "output_type": "execute_result"
    },
    {
     "data": {
      "text/plain": [
       "<matplotlib.legend.Legend at 0x1602e59f748>"
      ]
     },
     "execution_count": 69,
     "metadata": {},
     "output_type": "execute_result"
    },
    {
     "data": {
      "text/plain": [
       "[<matplotlib.lines.Line2D at 0x1602ff719b0>]"
      ]
     },
     "execution_count": 69,
     "metadata": {},
     "output_type": "execute_result"
    },
    {
     "data": {
      "text/plain": [
       "[<matplotlib.lines.Line2D at 0x1602ff71518>]"
      ]
     },
     "execution_count": 69,
     "metadata": {},
     "output_type": "execute_result"
    },
    {
     "data": {
      "text/plain": [
       "Text(0.5,1,'model loss')"
      ]
     },
     "execution_count": 69,
     "metadata": {},
     "output_type": "execute_result"
    },
    {
     "data": {
      "text/plain": [
       "Text(0,0.5,'loss')"
      ]
     },
     "execution_count": 69,
     "metadata": {},
     "output_type": "execute_result"
    },
    {
     "data": {
      "text/plain": [
       "Text(0.5,0,'epoch')"
      ]
     },
     "execution_count": 69,
     "metadata": {},
     "output_type": "execute_result"
    },
    {
     "data": {
      "text/plain": [
       "<matplotlib.legend.Legend at 0x1602a4a5cf8>"
      ]
     },
     "execution_count": 69,
     "metadata": {},
     "output_type": "execute_result"
    },
    {
     "name": "stdout",
     "output_type": "stream",
     "text": [
      "Analysis of results\n",
      "              precision    recall  f1-score   support\n",
      "\n",
      "           0       0.96      0.99      0.97       980\n",
      "           1       0.98      0.99      0.98      1135\n",
      "           2       0.96      0.95      0.96      1032\n",
      "           3       0.93      0.96      0.95      1010\n",
      "           4       0.95      0.96      0.96       982\n",
      "           5       0.95      0.94      0.94       892\n",
      "           6       0.97      0.96      0.96       958\n",
      "           7       0.96      0.95      0.95      1028\n",
      "           8       0.96      0.93      0.94       974\n",
      "           9       0.95      0.94      0.94      1009\n",
      "\n",
      "   micro avg       0.96      0.96      0.96     10000\n",
      "   macro avg       0.96      0.96      0.96     10000\n",
      "weighted avg       0.96      0.96      0.96     10000\n",
      "\n",
      "[[ 970    0    1    1    0    3    2    1    1    1]\n",
      " [   0 1118    2    2    0    2    1    2    8    0]\n",
      " [   6    4  978   15    9    1    6    4    9    0]\n",
      " [   1    0    6  972    0    8    0   10    9    4]\n",
      " [   1    0    6    0  944    1    7    2    2   19]\n",
      " [  10    1    1   17    3  838   10    1    7    4]\n",
      " [  10    3    3    1    5   12  919    2    3    0]\n",
      " [   1   12   12    5    5    0    0  973    1   19]\n",
      " [   4    3    5   23    6   14    5    4  905    5]\n",
      " [   8    5    0    8   22    5    0   11    2  948]]\n",
      "Train on 60000 samples, validate on 10000 samples\n",
      "Epoch 1/20\n",
      "60000/60000 [==============================] - 4s 70us/step - loss: 1.3967 - acc: 0.6103 - val_loss: 0.6325 - val_acc: 0.8268\n",
      "Epoch 2/20\n",
      "60000/60000 [==============================] - 3s 42us/step - loss: 0.5033 - acc: 0.8605 - val_loss: 0.3994 - val_acc: 0.8872\n",
      "Epoch 3/20\n",
      "60000/60000 [==============================] - 3s 42us/step - loss: 0.3774 - acc: 0.8932 - val_loss: 0.3336 - val_acc: 0.9042\n",
      "Epoch 4/20\n",
      "60000/60000 [==============================] - 3s 51us/step - loss: 0.3264 - acc: 0.9073 - val_loss: 0.2977 - val_acc: 0.9134\n",
      "Epoch 5/20\n",
      "60000/60000 [==============================] - 2s 41us/step - loss: 0.2955 - acc: 0.9160 - val_loss: 0.2751 - val_acc: 0.9210\n",
      "Epoch 6/20\n",
      "60000/60000 [==============================] - 2s 41us/step - loss: 0.2728 - acc: 0.9225 - val_loss: 0.2585 - val_acc: 0.9238\n",
      "Epoch 7/20\n",
      "60000/60000 [==============================] - 2s 40us/step - loss: 0.2541 - acc: 0.9276 - val_loss: 0.2429 - val_acc: 0.9287\n",
      "Epoch 8/20\n",
      "60000/60000 [==============================] - 2s 41us/step - loss: 0.2383 - acc: 0.9322 - val_loss: 0.2279 - val_acc: 0.9332\n",
      "Epoch 9/20\n",
      "60000/60000 [==============================] - 2s 41us/step - loss: 0.2239 - acc: 0.9365 - val_loss: 0.2166 - val_acc: 0.9354\n",
      "Epoch 10/20\n",
      "60000/60000 [==============================] - 3s 44us/step - loss: 0.2118 - acc: 0.9401 - val_loss: 0.2051 - val_acc: 0.9386\n",
      "Epoch 11/20\n",
      "60000/60000 [==============================] - 3s 52us/step - loss: 0.2000 - acc: 0.9435 - val_loss: 0.1989 - val_acc: 0.9406\n",
      "Epoch 12/20\n",
      "60000/60000 [==============================] - 3s 48us/step - loss: 0.1904 - acc: 0.9455 - val_loss: 0.1866 - val_acc: 0.9442\n",
      "Epoch 13/20\n",
      "60000/60000 [==============================] - 3s 43us/step - loss: 0.1811 - acc: 0.9486 - val_loss: 0.1814 - val_acc: 0.9452\n",
      "Epoch 14/20\n",
      "60000/60000 [==============================] - 2s 41us/step - loss: 0.1728 - acc: 0.9507 - val_loss: 0.1746 - val_acc: 0.9475\n",
      "Epoch 15/20\n",
      "60000/60000 [==============================] - 3s 42us/step - loss: 0.1651 - acc: 0.9528 - val_loss: 0.1652 - val_acc: 0.9519\n",
      "Epoch 16/20\n",
      "60000/60000 [==============================] - 3s 42us/step - loss: 0.1578 - acc: 0.9547 - val_loss: 0.1616 - val_acc: 0.9518\n",
      "Epoch 17/20\n",
      "60000/60000 [==============================] - 2s 42us/step - loss: 0.1509 - acc: 0.9559 - val_loss: 0.1565 - val_acc: 0.9535\n",
      "Epoch 18/20\n",
      "60000/60000 [==============================] - 3s 42us/step - loss: 0.1449 - acc: 0.9580 - val_loss: 0.1563 - val_acc: 0.9542\n",
      "Epoch 19/20\n",
      "60000/60000 [==============================] - 2s 42us/step - loss: 0.1392 - acc: 0.9596 - val_loss: 0.1484 - val_acc: 0.9566\n",
      "Epoch 20/20\n",
      "60000/60000 [==============================] - 3s 43us/step - loss: 0.1341 - acc: 0.9611 - val_loss: 0.1415 - val_acc: 0.9576\n"
     ]
    },
    {
     "data": {
      "text/plain": [
       "42"
      ]
     },
     "execution_count": 69,
     "metadata": {},
     "output_type": "execute_result"
    },
    {
     "data": {
      "text/plain": [
       "23"
      ]
     },
     "execution_count": 69,
     "metadata": {},
     "output_type": "execute_result"
    },
    {
     "data": {
      "text/plain": [
       "1"
      ]
     },
     "execution_count": 69,
     "metadata": {},
     "output_type": "execute_result"
    },
    {
     "data": {
      "text/plain": [
       "15"
      ]
     },
     "execution_count": 69,
     "metadata": {},
     "output_type": "execute_result"
    },
    {
     "data": {
      "text/plain": [
       "2"
      ]
     },
     "execution_count": 69,
     "metadata": {},
     "output_type": "execute_result"
    },
    {
     "data": {
      "text/plain": [
       "[<matplotlib.lines.Line2D at 0x1603d0da860>]"
      ]
     },
     "execution_count": 69,
     "metadata": {},
     "output_type": "execute_result"
    },
    {
     "data": {
      "text/plain": [
       "[<matplotlib.lines.Line2D at 0x1603d0da4a8>]"
      ]
     },
     "execution_count": 69,
     "metadata": {},
     "output_type": "execute_result"
    },
    {
     "data": {
      "text/plain": [
       "Text(0.5,1,'model accuracy')"
      ]
     },
     "execution_count": 69,
     "metadata": {},
     "output_type": "execute_result"
    },
    {
     "data": {
      "text/plain": [
       "Text(0,0.5,'accuracy')"
      ]
     },
     "execution_count": 69,
     "metadata": {},
     "output_type": "execute_result"
    },
    {
     "data": {
      "text/plain": [
       "Text(0.5,0,'epoch')"
      ]
     },
     "execution_count": 69,
     "metadata": {},
     "output_type": "execute_result"
    },
    {
     "data": {
      "text/plain": [
       "<matplotlib.legend.Legend at 0x1603d0ef908>"
      ]
     },
     "execution_count": 69,
     "metadata": {},
     "output_type": "execute_result"
    },
    {
     "data": {
      "text/plain": [
       "[<matplotlib.lines.Line2D at 0x16038ed11d0>]"
      ]
     },
     "execution_count": 69,
     "metadata": {},
     "output_type": "execute_result"
    },
    {
     "data": {
      "text/plain": [
       "[<matplotlib.lines.Line2D at 0x1601dd21ac8>]"
      ]
     },
     "execution_count": 69,
     "metadata": {},
     "output_type": "execute_result"
    },
    {
     "data": {
      "text/plain": [
       "Text(0.5,1,'model loss')"
      ]
     },
     "execution_count": 69,
     "metadata": {},
     "output_type": "execute_result"
    },
    {
     "data": {
      "text/plain": [
       "Text(0,0.5,'loss')"
      ]
     },
     "execution_count": 69,
     "metadata": {},
     "output_type": "execute_result"
    },
    {
     "data": {
      "text/plain": [
       "Text(0.5,0,'epoch')"
      ]
     },
     "execution_count": 69,
     "metadata": {},
     "output_type": "execute_result"
    },
    {
     "data": {
      "text/plain": [
       "<matplotlib.legend.Legend at 0x16038ee2940>"
      ]
     },
     "execution_count": 69,
     "metadata": {},
     "output_type": "execute_result"
    },
    {
     "name": "stdout",
     "output_type": "stream",
     "text": [
      "Analysis of results\n",
      "              precision    recall  f1-score   support\n",
      "\n",
      "           0       0.97      0.99      0.98       980\n",
      "           1       0.98      0.99      0.98      1135\n",
      "           2       0.95      0.95      0.95      1032\n",
      "           3       0.95      0.96      0.95      1010\n",
      "           4       0.95      0.96      0.96       982\n",
      "           5       0.96      0.94      0.95       892\n",
      "           6       0.96      0.97      0.96       958\n",
      "           7       0.96      0.94      0.95      1028\n",
      "           8       0.96      0.94      0.95       974\n",
      "           9       0.94      0.94      0.94      1009\n",
      "\n",
      "   micro avg       0.96      0.96      0.96     10000\n",
      "   macro avg       0.96      0.96      0.96     10000\n",
      "weighted avg       0.96      0.96      0.96     10000\n",
      "\n",
      "[[ 967    0    1    2    1    4    3    2    0    0]\n",
      " [   0 1122    3    1    0    1    2    1    5    0]\n",
      " [   6    2  985    8    8    0    5   10    5    3]\n",
      " [   1    1   13  967    0    7    0    8    7    6]\n",
      " [   2    0    5    0  945    0    8    2    4   16]\n",
      " [   8    1    0   14    4  836   10    1   10    8]\n",
      " [   8    3    3    0    5   10  926    0    3    0]\n",
      " [   1   12   22    4    2    0    0  964    0   23]\n",
      " [   3    1    3   15    5   10    7    5  917    8]\n",
      " [   5    4    1    8   24    3    1    7    9  947]]\n",
      "Train on 60000 samples, validate on 10000 samples\n",
      "Epoch 1/20\n",
      "60000/60000 [==============================] - 4s 71us/step - loss: 1.5103 - acc: 0.5833 - val_loss: 0.6952 - val_acc: 0.8279\n",
      "Epoch 2/20\n",
      "60000/60000 [==============================] - 2s 41us/step - loss: 0.5268 - acc: 0.8577 - val_loss: 0.4150 - val_acc: 0.8799\n",
      "Epoch 3/20\n",
      "60000/60000 [==============================] - 3s 43us/step - loss: 0.3892 - acc: 0.8880 - val_loss: 0.3480 - val_acc: 0.8969\n",
      "Epoch 4/20\n",
      "60000/60000 [==============================] - 3s 50us/step - loss: 0.3368 - acc: 0.9026 - val_loss: 0.3075 - val_acc: 0.9097\n",
      "Epoch 5/20\n",
      "60000/60000 [==============================] - 2s 41us/step - loss: 0.3036 - acc: 0.9131 - val_loss: 0.2811 - val_acc: 0.9189\n",
      "Epoch 6/20\n",
      "60000/60000 [==============================] - 3s 42us/step - loss: 0.2786 - acc: 0.9188 - val_loss: 0.2608 - val_acc: 0.9236\n",
      "Epoch 7/20\n",
      "60000/60000 [==============================] - 3s 42us/step - loss: 0.2579 - acc: 0.9254 - val_loss: 0.2428 - val_acc: 0.9288\n",
      "Epoch 8/20\n",
      "60000/60000 [==============================] - 2s 41us/step - loss: 0.2402 - acc: 0.9310 - val_loss: 0.2264 - val_acc: 0.9349\n",
      "Epoch 9/20\n",
      "60000/60000 [==============================] - 2s 41us/step - loss: 0.2249 - acc: 0.9350 - val_loss: 0.2145 - val_acc: 0.9384\n",
      "Epoch 10/20\n",
      "60000/60000 [==============================] - 2s 41us/step - loss: 0.2117 - acc: 0.9388 - val_loss: 0.2020 - val_acc: 0.9401\n",
      "Epoch 11/20\n",
      "60000/60000 [==============================] - 2s 41us/step - loss: 0.2002 - acc: 0.9424 - val_loss: 0.1899 - val_acc: 0.9456\n",
      "Epoch 12/20\n",
      "60000/60000 [==============================] - 3s 42us/step - loss: 0.1901 - acc: 0.9453 - val_loss: 0.1846 - val_acc: 0.9463\n",
      "Epoch 13/20\n",
      "60000/60000 [==============================] - 3s 42us/step - loss: 0.1806 - acc: 0.9478 - val_loss: 0.1743 - val_acc: 0.9505\n",
      "Epoch 14/20\n",
      "60000/60000 [==============================] - 3s 43us/step - loss: 0.1723 - acc: 0.9499 - val_loss: 0.1683 - val_acc: 0.9518\n",
      "Epoch 15/20\n",
      "60000/60000 [==============================] - 3s 48us/step - loss: 0.1644 - acc: 0.9523 - val_loss: 0.1612 - val_acc: 0.9544\n",
      "Epoch 16/20\n",
      "60000/60000 [==============================] - 2s 42us/step - loss: 0.1572 - acc: 0.9539 - val_loss: 0.1549 - val_acc: 0.9563\n",
      "Epoch 17/20\n",
      "60000/60000 [==============================] - 2s 42us/step - loss: 0.1507 - acc: 0.9562 - val_loss: 0.1511 - val_acc: 0.9564\n",
      "Epoch 18/20\n",
      "60000/60000 [==============================] - 3s 42us/step - loss: 0.1444 - acc: 0.9578 - val_loss: 0.1438 - val_acc: 0.9590\n",
      "Epoch 19/20\n",
      "60000/60000 [==============================] - 3s 43us/step - loss: 0.1386 - acc: 0.9597 - val_loss: 0.1399 - val_acc: 0.9596\n",
      "Epoch 20/20\n",
      "60000/60000 [==============================] - 3s 43us/step - loss: 0.1332 - acc: 0.9617 - val_loss: 0.1360 - val_acc: 0.9606\n"
     ]
    },
    {
     "data": {
      "text/plain": [
       "42"
      ]
     },
     "execution_count": 69,
     "metadata": {},
     "output_type": "execute_result"
    },
    {
     "data": {
      "text/plain": [
       "24"
      ]
     },
     "execution_count": 69,
     "metadata": {},
     "output_type": "execute_result"
    },
    {
     "data": {
      "text/plain": [
       "1"
      ]
     },
     "execution_count": 69,
     "metadata": {},
     "output_type": "execute_result"
    },
    {
     "data": {
      "text/plain": [
       "15"
      ]
     },
     "execution_count": 69,
     "metadata": {},
     "output_type": "execute_result"
    },
    {
     "data": {
      "text/plain": [
       "2"
      ]
     },
     "execution_count": 69,
     "metadata": {},
     "output_type": "execute_result"
    },
    {
     "data": {
      "text/plain": [
       "[<matplotlib.lines.Line2D at 0x1602ff206d8>]"
      ]
     },
     "execution_count": 69,
     "metadata": {},
     "output_type": "execute_result"
    },
    {
     "data": {
      "text/plain": [
       "[<matplotlib.lines.Line2D at 0x1603059d630>]"
      ]
     },
     "execution_count": 69,
     "metadata": {},
     "output_type": "execute_result"
    },
    {
     "data": {
      "text/plain": [
       "Text(0.5,1,'model accuracy')"
      ]
     },
     "execution_count": 69,
     "metadata": {},
     "output_type": "execute_result"
    },
    {
     "data": {
      "text/plain": [
       "Text(0,0.5,'accuracy')"
      ]
     },
     "execution_count": 69,
     "metadata": {},
     "output_type": "execute_result"
    },
    {
     "data": {
      "text/plain": [
       "Text(0.5,0,'epoch')"
      ]
     },
     "execution_count": 69,
     "metadata": {},
     "output_type": "execute_result"
    },
    {
     "data": {
      "text/plain": [
       "<matplotlib.legend.Legend at 0x160305313c8>"
      ]
     },
     "execution_count": 69,
     "metadata": {},
     "output_type": "execute_result"
    },
    {
     "data": {
      "text/plain": [
       "[<matplotlib.lines.Line2D at 0x160450f05c0>]"
      ]
     },
     "execution_count": 69,
     "metadata": {},
     "output_type": "execute_result"
    },
    {
     "data": {
      "text/plain": [
       "[<matplotlib.lines.Line2D at 0x1601aa1a8d0>]"
      ]
     },
     "execution_count": 69,
     "metadata": {},
     "output_type": "execute_result"
    },
    {
     "data": {
      "text/plain": [
       "Text(0.5,1,'model loss')"
      ]
     },
     "execution_count": 69,
     "metadata": {},
     "output_type": "execute_result"
    },
    {
     "data": {
      "text/plain": [
       "Text(0,0.5,'loss')"
      ]
     },
     "execution_count": 69,
     "metadata": {},
     "output_type": "execute_result"
    },
    {
     "data": {
      "text/plain": [
       "Text(0.5,0,'epoch')"
      ]
     },
     "execution_count": 69,
     "metadata": {},
     "output_type": "execute_result"
    },
    {
     "data": {
      "text/plain": [
       "<matplotlib.legend.Legend at 0x1601aa1af98>"
      ]
     },
     "execution_count": 69,
     "metadata": {},
     "output_type": "execute_result"
    },
    {
     "name": "stdout",
     "output_type": "stream",
     "text": [
      "Analysis of results\n",
      "              precision    recall  f1-score   support\n",
      "\n",
      "           0       0.97      0.98      0.98       980\n",
      "           1       0.98      0.99      0.98      1135\n",
      "           2       0.96      0.96      0.96      1032\n",
      "           3       0.95      0.96      0.95      1010\n",
      "           4       0.96      0.96      0.96       982\n",
      "           5       0.96      0.95      0.96       892\n",
      "           6       0.96      0.97      0.96       958\n",
      "           7       0.96      0.95      0.96      1028\n",
      "           8       0.96      0.94      0.95       974\n",
      "           9       0.94      0.95      0.95      1009\n",
      "\n",
      "   micro avg       0.96      0.96      0.96     10000\n",
      "   macro avg       0.96      0.96      0.96     10000\n",
      "weighted avg       0.96      0.96      0.96     10000\n",
      "\n",
      "[[ 962    0    0    3    0    3    7    2    1    2]\n",
      " [   0 1119    2    3    0    1    3    1    6    0]\n",
      " [   6    3  989    9    3    0    4    8    8    2]\n",
      " [   1    0   12  969    0   11    0    9    5    3]\n",
      " [   1    0    5    1  944    0    6    2    2   21]\n",
      " [   5    1    0   12    2  846    9    0   10    7]\n",
      " [   6    3    4    1    6    7  925    3    3    0]\n",
      " [   0    7   17    4    3    1    0  979    1   16]\n",
      " [   5    2    3   12    9    7   10    6  915    5]\n",
      " [   6    7    2   11   15    2    1    7    0  958]]\n",
      "Train on 60000 samples, validate on 10000 samples\n",
      "Epoch 1/20\n",
      "60000/60000 [==============================] - 5s 84us/step - loss: 1.3729 - acc: 0.6280 - val_loss: 0.6263 - val_acc: 0.8323\n",
      "Epoch 2/20\n",
      "60000/60000 [==============================] - 3s 50us/step - loss: 0.4993 - acc: 0.8655 - val_loss: 0.4020 - val_acc: 0.8835\n",
      "Epoch 3/20\n",
      "60000/60000 [==============================] - 3s 57us/step - loss: 0.3757 - acc: 0.8944 - val_loss: 0.3362 - val_acc: 0.9041\n",
      "Epoch 4/20\n",
      "60000/60000 [==============================] - 3s 43us/step - loss: 0.3254 - acc: 0.9069 - val_loss: 0.3012 - val_acc: 0.9115\n",
      "Epoch 5/20\n",
      "60000/60000 [==============================] - 3s 43us/step - loss: 0.2948 - acc: 0.9160 - val_loss: 0.2726 - val_acc: 0.9202\n",
      "Epoch 6/20\n",
      "60000/60000 [==============================] - 3s 43us/step - loss: 0.2719 - acc: 0.9224 - val_loss: 0.2553 - val_acc: 0.9246\n",
      "Epoch 7/20\n",
      "60000/60000 [==============================] - 3s 42us/step - loss: 0.2536 - acc: 0.9272 - val_loss: 0.2418 - val_acc: 0.9294\n",
      "Epoch 8/20\n",
      "60000/60000 [==============================] - 3s 43us/step - loss: 0.2379 - acc: 0.9313 - val_loss: 0.2284 - val_acc: 0.9330\n",
      "Epoch 9/20\n",
      "60000/60000 [==============================] - 3s 42us/step - loss: 0.2241 - acc: 0.9358 - val_loss: 0.2198 - val_acc: 0.9339\n",
      "Epoch 10/20\n",
      "60000/60000 [==============================] - 3s 45us/step - loss: 0.2123 - acc: 0.9392 - val_loss: 0.2081 - val_acc: 0.9383\n",
      "Epoch 11/20\n",
      "60000/60000 [==============================] - 3s 46us/step - loss: 0.2009 - acc: 0.9424 - val_loss: 0.1984 - val_acc: 0.9401\n",
      "Epoch 12/20\n",
      "60000/60000 [==============================] - 3s 43us/step - loss: 0.1917 - acc: 0.9446 - val_loss: 0.1891 - val_acc: 0.9455\n",
      "Epoch 13/20\n",
      "60000/60000 [==============================] - 3s 42us/step - loss: 0.1825 - acc: 0.9477 - val_loss: 0.1837 - val_acc: 0.9443\n",
      "Epoch 14/20\n",
      "60000/60000 [==============================] - 3s 43us/step - loss: 0.1743 - acc: 0.9501 - val_loss: 0.1774 - val_acc: 0.9468\n",
      "Epoch 15/20\n",
      "60000/60000 [==============================] - 3s 43us/step - loss: 0.1670 - acc: 0.9519 - val_loss: 0.1687 - val_acc: 0.9507\n",
      "Epoch 16/20\n",
      "60000/60000 [==============================] - 3s 43us/step - loss: 0.1601 - acc: 0.9539 - val_loss: 0.1634 - val_acc: 0.9520\n",
      "Epoch 17/20\n",
      "60000/60000 [==============================] - 3s 43us/step - loss: 0.1533 - acc: 0.9555 - val_loss: 0.1577 - val_acc: 0.9526\n",
      "Epoch 18/20\n",
      "60000/60000 [==============================] - 3s 42us/step - loss: 0.1473 - acc: 0.9572 - val_loss: 0.1544 - val_acc: 0.9533\n",
      "Epoch 19/20\n",
      "60000/60000 [==============================] - 3s 43us/step - loss: 0.1420 - acc: 0.9590 - val_loss: 0.1496 - val_acc: 0.9555\n",
      "Epoch 20/20\n",
      "60000/60000 [==============================] - 3s 43us/step - loss: 0.1367 - acc: 0.9604 - val_loss: 0.1463 - val_acc: 0.9566\n"
     ]
    },
    {
     "data": {
      "text/plain": [
       "42"
      ]
     },
     "execution_count": 69,
     "metadata": {},
     "output_type": "execute_result"
    },
    {
     "data": {
      "text/plain": [
       "24"
      ]
     },
     "execution_count": 69,
     "metadata": {},
     "output_type": "execute_result"
    },
    {
     "data": {
      "text/plain": [
       "1"
      ]
     },
     "execution_count": 69,
     "metadata": {},
     "output_type": "execute_result"
    },
    {
     "data": {
      "text/plain": [
       "15"
      ]
     },
     "execution_count": 69,
     "metadata": {},
     "output_type": "execute_result"
    },
    {
     "data": {
      "text/plain": [
       "2"
      ]
     },
     "execution_count": 69,
     "metadata": {},
     "output_type": "execute_result"
    },
    {
     "data": {
      "text/plain": [
       "[<matplotlib.lines.Line2D at 0x160394716d8>]"
      ]
     },
     "execution_count": 69,
     "metadata": {},
     "output_type": "execute_result"
    },
    {
     "data": {
      "text/plain": [
       "[<matplotlib.lines.Line2D at 0x16039471b70>]"
      ]
     },
     "execution_count": 69,
     "metadata": {},
     "output_type": "execute_result"
    },
    {
     "data": {
      "text/plain": [
       "Text(0.5,1,'model accuracy')"
      ]
     },
     "execution_count": 69,
     "metadata": {},
     "output_type": "execute_result"
    },
    {
     "data": {
      "text/plain": [
       "Text(0,0.5,'accuracy')"
      ]
     },
     "execution_count": 69,
     "metadata": {},
     "output_type": "execute_result"
    },
    {
     "data": {
      "text/plain": [
       "Text(0.5,0,'epoch')"
      ]
     },
     "execution_count": 69,
     "metadata": {},
     "output_type": "execute_result"
    },
    {
     "data": {
      "text/plain": [
       "<matplotlib.legend.Legend at 0x160394660f0>"
      ]
     },
     "execution_count": 69,
     "metadata": {},
     "output_type": "execute_result"
    },
    {
     "data": {
      "text/plain": [
       "[<matplotlib.lines.Line2D at 0x160394b6668>]"
      ]
     },
     "execution_count": 69,
     "metadata": {},
     "output_type": "execute_result"
    },
    {
     "data": {
      "text/plain": [
       "[<matplotlib.lines.Line2D at 0x160394b67b8>]"
      ]
     },
     "execution_count": 69,
     "metadata": {},
     "output_type": "execute_result"
    },
    {
     "data": {
      "text/plain": [
       "Text(0.5,1,'model loss')"
      ]
     },
     "execution_count": 69,
     "metadata": {},
     "output_type": "execute_result"
    },
    {
     "data": {
      "text/plain": [
       "Text(0,0.5,'loss')"
      ]
     },
     "execution_count": 69,
     "metadata": {},
     "output_type": "execute_result"
    },
    {
     "data": {
      "text/plain": [
       "Text(0.5,0,'epoch')"
      ]
     },
     "execution_count": 69,
     "metadata": {},
     "output_type": "execute_result"
    },
    {
     "data": {
      "text/plain": [
       "<matplotlib.legend.Legend at 0x160394be1d0>"
      ]
     },
     "execution_count": 69,
     "metadata": {},
     "output_type": "execute_result"
    },
    {
     "name": "stdout",
     "output_type": "stream",
     "text": [
      "Analysis of results\n",
      "              precision    recall  f1-score   support\n",
      "\n",
      "           0       0.96      0.98      0.97       980\n",
      "           1       0.98      0.98      0.98      1135\n",
      "           2       0.97      0.96      0.96      1032\n",
      "           3       0.93      0.96      0.95      1010\n",
      "           4       0.95      0.96      0.95       982\n",
      "           5       0.95      0.93      0.94       892\n",
      "           6       0.95      0.96      0.96       958\n",
      "           7       0.95      0.96      0.95      1028\n",
      "           8       0.97      0.92      0.94       974\n",
      "           9       0.95      0.94      0.94      1009\n",
      "\n",
      "   micro avg       0.96      0.96      0.96     10000\n",
      "   macro avg       0.96      0.96      0.96     10000\n",
      "weighted avg       0.96      0.96      0.96     10000\n",
      "\n",
      "[[ 962    0    1    1    0    4    7    3    1    1]\n",
      " [   0 1117    2    2    1    1    4    3    5    0]\n",
      " [   5    3  990   10    3    2    2    8    7    2]\n",
      " [   0    0    6  974    0   10    0   11    5    4]\n",
      " [   1    0    3    0  940    0   12    4    2   20]\n",
      " [   8    1    0   21    6  833   10    0    7    6]\n",
      " [   8    3    3    1    7   10  921    3    2    0]\n",
      " [   1    5   13    4    3    2    0  985    1   14]\n",
      " [   5    2    4   20    7   12   11   10  897    6]\n",
      " [   8    7    1   11   20    4    1    9    1  947]]\n",
      "Train on 60000 samples, validate on 10000 samples\n",
      "Epoch 1/20\n",
      "60000/60000 [==============================] - 5s 79us/step - loss: 1.5289 - acc: 0.5759 - val_loss: 0.6550 - val_acc: 0.8283\n",
      "Epoch 2/20\n",
      "60000/60000 [==============================] - 3s 48us/step - loss: 0.5122 - acc: 0.8607 - val_loss: 0.4033 - val_acc: 0.8840\n",
      "Epoch 3/20\n",
      "60000/60000 [==============================] - 3s 44us/step - loss: 0.3780 - acc: 0.8920 - val_loss: 0.3363 - val_acc: 0.9012\n",
      "Epoch 4/20\n",
      "60000/60000 [==============================] - 3s 52us/step - loss: 0.3261 - acc: 0.9061 - val_loss: 0.2993 - val_acc: 0.9122\n",
      "Epoch 5/20\n",
      "60000/60000 [==============================] - 3s 52us/step - loss: 0.2936 - acc: 0.9143 - val_loss: 0.2745 - val_acc: 0.9198\n",
      "Epoch 6/20\n",
      "60000/60000 [==============================] - 3s 45us/step - loss: 0.2699 - acc: 0.9214 - val_loss: 0.2563 - val_acc: 0.9260\n",
      "Epoch 7/20\n",
      "60000/60000 [==============================] - 3s 43us/step - loss: 0.2503 - acc: 0.9279 - val_loss: 0.2406 - val_acc: 0.9308\n",
      "Epoch 8/20\n",
      "60000/60000 [==============================] - 3s 42us/step - loss: 0.2340 - acc: 0.9320 - val_loss: 0.2241 - val_acc: 0.9352\n",
      "Epoch 9/20\n",
      "60000/60000 [==============================] - 3s 43us/step - loss: 0.2197 - acc: 0.9366 - val_loss: 0.2144 - val_acc: 0.9386\n",
      "Epoch 10/20\n",
      "60000/60000 [==============================] - 3s 42us/step - loss: 0.2072 - acc: 0.9407 - val_loss: 0.2057 - val_acc: 0.9404\n",
      "Epoch 11/20\n",
      "60000/60000 [==============================] - 3s 43us/step - loss: 0.1965 - acc: 0.9439 - val_loss: 0.1936 - val_acc: 0.9438\n",
      "Epoch 12/20\n",
      "60000/60000 [==============================] - 3s 43us/step - loss: 0.1870 - acc: 0.9473 - val_loss: 0.1878 - val_acc: 0.9452\n",
      "Epoch 13/20\n",
      "60000/60000 [==============================] - 3s 43us/step - loss: 0.1784 - acc: 0.9493 - val_loss: 0.1775 - val_acc: 0.9479\n",
      "Epoch 14/20\n",
      "60000/60000 [==============================] - 3s 45us/step - loss: 0.1703 - acc: 0.9514 - val_loss: 0.1733 - val_acc: 0.9500\n",
      "Epoch 15/20\n",
      "60000/60000 [==============================] - 3s 43us/step - loss: 0.1632 - acc: 0.9526 - val_loss: 0.1649 - val_acc: 0.9513\n",
      "Epoch 16/20\n",
      "60000/60000 [==============================] - 3s 45us/step - loss: 0.1567 - acc: 0.9550 - val_loss: 0.1602 - val_acc: 0.9522\n",
      "Epoch 17/20\n",
      "60000/60000 [==============================] - 3s 45us/step - loss: 0.1505 - acc: 0.9571 - val_loss: 0.1566 - val_acc: 0.9531\n",
      "Epoch 18/20\n",
      "60000/60000 [==============================] - 3s 44us/step - loss: 0.1451 - acc: 0.9580 - val_loss: 0.1529 - val_acc: 0.9543\n",
      "Epoch 19/20\n",
      "60000/60000 [==============================] - 3s 43us/step - loss: 0.1400 - acc: 0.9595 - val_loss: 0.1482 - val_acc: 0.9564\n",
      "Epoch 20/20\n",
      "60000/60000 [==============================] - 3s 42us/step - loss: 0.1351 - acc: 0.9613 - val_loss: 0.1423 - val_acc: 0.9579\n"
     ]
    },
    {
     "data": {
      "text/plain": [
       "42"
      ]
     },
     "execution_count": 69,
     "metadata": {},
     "output_type": "execute_result"
    },
    {
     "data": {
      "text/plain": [
       "24"
      ]
     },
     "execution_count": 69,
     "metadata": {},
     "output_type": "execute_result"
    },
    {
     "data": {
      "text/plain": [
       "1"
      ]
     },
     "execution_count": 69,
     "metadata": {},
     "output_type": "execute_result"
    },
    {
     "data": {
      "text/plain": [
       "15"
      ]
     },
     "execution_count": 69,
     "metadata": {},
     "output_type": "execute_result"
    },
    {
     "data": {
      "text/plain": [
       "2"
      ]
     },
     "execution_count": 69,
     "metadata": {},
     "output_type": "execute_result"
    },
    {
     "data": {
      "text/plain": [
       "[<matplotlib.lines.Line2D at 0x160397d2d68>]"
      ]
     },
     "execution_count": 69,
     "metadata": {},
     "output_type": "execute_result"
    },
    {
     "data": {
      "text/plain": [
       "[<matplotlib.lines.Line2D at 0x160397de2b0>]"
      ]
     },
     "execution_count": 69,
     "metadata": {},
     "output_type": "execute_result"
    },
    {
     "data": {
      "text/plain": [
       "Text(0.5,1,'model accuracy')"
      ]
     },
     "execution_count": 69,
     "metadata": {},
     "output_type": "execute_result"
    },
    {
     "data": {
      "text/plain": [
       "Text(0,0.5,'accuracy')"
      ]
     },
     "execution_count": 69,
     "metadata": {},
     "output_type": "execute_result"
    },
    {
     "data": {
      "text/plain": [
       "Text(0.5,0,'epoch')"
      ]
     },
     "execution_count": 69,
     "metadata": {},
     "output_type": "execute_result"
    },
    {
     "data": {
      "text/plain": [
       "<matplotlib.legend.Legend at 0x160397de828>"
      ]
     },
     "execution_count": 69,
     "metadata": {},
     "output_type": "execute_result"
    },
    {
     "data": {
      "text/plain": [
       "[<matplotlib.lines.Line2D at 0x1603a8241d0>]"
      ]
     },
     "execution_count": 69,
     "metadata": {},
     "output_type": "execute_result"
    },
    {
     "data": {
      "text/plain": [
       "[<matplotlib.lines.Line2D at 0x1603a824320>]"
      ]
     },
     "execution_count": 69,
     "metadata": {},
     "output_type": "execute_result"
    },
    {
     "data": {
      "text/plain": [
       "Text(0.5,1,'model loss')"
      ]
     },
     "execution_count": 69,
     "metadata": {},
     "output_type": "execute_result"
    },
    {
     "data": {
      "text/plain": [
       "Text(0,0.5,'loss')"
      ]
     },
     "execution_count": 69,
     "metadata": {},
     "output_type": "execute_result"
    },
    {
     "data": {
      "text/plain": [
       "Text(0.5,0,'epoch')"
      ]
     },
     "execution_count": 69,
     "metadata": {},
     "output_type": "execute_result"
    },
    {
     "data": {
      "text/plain": [
       "<matplotlib.legend.Legend at 0x1603a80cba8>"
      ]
     },
     "execution_count": 69,
     "metadata": {},
     "output_type": "execute_result"
    },
    {
     "name": "stdout",
     "output_type": "stream",
     "text": [
      "Analysis of results\n",
      "              precision    recall  f1-score   support\n",
      "\n",
      "           0       0.96      0.99      0.98       980\n",
      "           1       0.98      0.99      0.98      1135\n",
      "           2       0.96      0.96      0.96      1032\n",
      "           3       0.96      0.95      0.95      1010\n",
      "           4       0.96      0.95      0.96       982\n",
      "           5       0.96      0.94      0.95       892\n",
      "           6       0.95      0.96      0.96       958\n",
      "           7       0.96      0.95      0.95      1028\n",
      "           8       0.94      0.95      0.94       974\n",
      "           9       0.95      0.94      0.94      1009\n",
      "\n",
      "   micro avg       0.96      0.96      0.96     10000\n",
      "   macro avg       0.96      0.96      0.96     10000\n",
      "weighted avg       0.96      0.96      0.96     10000\n",
      "\n",
      "[[ 967    0    1    0    0    2    7    1    2    0]\n",
      " [   0 1118    3    2    0    1    4    2    5    0]\n",
      " [   7    1  992    3    4    1    4   10    9    1]\n",
      " [   1    2   10  958    0   12    0    9   12    6]\n",
      " [   1    2    6    0  936    0   10    2    6   19]\n",
      " [   8    1    0   12    3  839    9    1   12    7]\n",
      " [   7    3    0    0    8   10  924    0    6    0]\n",
      " [   2    9   17    4    1    1    0  976    3   15]\n",
      " [   3    2    3   12    4    8    9    7  924    2]\n",
      " [   7    6    1   10   20    3    1    9    7  945]]\n",
      "Train on 60000 samples, validate on 10000 samples\n",
      "Epoch 1/20\n",
      "60000/60000 [==============================] - 4s 72us/step - loss: 1.4810 - acc: 0.6019 - val_loss: 0.6388 - val_acc: 0.8310\n",
      "Epoch 2/20\n",
      "60000/60000 [==============================] - 3s 42us/step - loss: 0.4969 - acc: 0.8624 - val_loss: 0.3940 - val_acc: 0.8882\n",
      "Epoch 3/20\n",
      "60000/60000 [==============================] - 3s 43us/step - loss: 0.3727 - acc: 0.8935 - val_loss: 0.3296 - val_acc: 0.9058\n",
      "Epoch 4/20\n",
      "60000/60000 [==============================] - 3s 43us/step - loss: 0.3224 - acc: 0.9079 - val_loss: 0.2915 - val_acc: 0.9163\n",
      "Epoch 5/20\n",
      "60000/60000 [==============================] - 3s 42us/step - loss: 0.2895 - acc: 0.9168 - val_loss: 0.2653 - val_acc: 0.9249\n",
      "Epoch 6/20\n",
      "60000/60000 [==============================] - 3s 43us/step - loss: 0.2657 - acc: 0.9244 - val_loss: 0.2463 - val_acc: 0.9303\n",
      "Epoch 7/20\n",
      "60000/60000 [==============================] - 3s 47us/step - loss: 0.2459 - acc: 0.9292 - val_loss: 0.2335 - val_acc: 0.9312\n",
      "Epoch 8/20\n",
      "60000/60000 [==============================] - 3s 43us/step - loss: 0.2296 - acc: 0.9340 - val_loss: 0.2203 - val_acc: 0.9362\n",
      "Epoch 9/20\n",
      "60000/60000 [==============================] - 3s 42us/step - loss: 0.2156 - acc: 0.9367 - val_loss: 0.2081 - val_acc: 0.9393\n",
      "Epoch 10/20\n",
      "60000/60000 [==============================] - 3s 43us/step - loss: 0.2032 - acc: 0.9410 - val_loss: 0.1980 - val_acc: 0.9419\n",
      "Epoch 11/20\n",
      "60000/60000 [==============================] - 3s 44us/step - loss: 0.1923 - acc: 0.9444 - val_loss: 0.1861 - val_acc: 0.9460\n",
      "Epoch 12/20\n",
      "60000/60000 [==============================] - 3s 47us/step - loss: 0.1826 - acc: 0.9474 - val_loss: 0.1783 - val_acc: 0.9468\n",
      "Epoch 13/20\n",
      "60000/60000 [==============================] - 3s 49us/step - loss: 0.1741 - acc: 0.9497 - val_loss: 0.1769 - val_acc: 0.9474\n",
      "Epoch 14/20\n",
      "60000/60000 [==============================] - 3s 45us/step - loss: 0.1660 - acc: 0.9520 - val_loss: 0.1697 - val_acc: 0.9502\n",
      "Epoch 15/20\n",
      "60000/60000 [==============================] - 3s 53us/step - loss: 0.1586 - acc: 0.9536 - val_loss: 0.1591 - val_acc: 0.9547\n",
      "Epoch 16/20\n",
      "60000/60000 [==============================] - 3s 44us/step - loss: 0.1520 - acc: 0.9561 - val_loss: 0.1544 - val_acc: 0.9551\n",
      "Epoch 17/20\n",
      "60000/60000 [==============================] - 3s 44us/step - loss: 0.1459 - acc: 0.9576 - val_loss: 0.1504 - val_acc: 0.9545\n",
      "Epoch 18/20\n",
      "60000/60000 [==============================] - 3s 47us/step - loss: 0.1402 - acc: 0.9591 - val_loss: 0.1452 - val_acc: 0.9568\n",
      "Epoch 19/20\n",
      "60000/60000 [==============================] - 3s 44us/step - loss: 0.1351 - acc: 0.9606 - val_loss: 0.1414 - val_acc: 0.9583\n",
      "Epoch 20/20\n",
      "60000/60000 [==============================] - 3s 46us/step - loss: 0.1303 - acc: 0.9618 - val_loss: 0.1376 - val_acc: 0.9592\n"
     ]
    },
    {
     "data": {
      "text/plain": [
       "42"
      ]
     },
     "execution_count": 69,
     "metadata": {},
     "output_type": "execute_result"
    },
    {
     "data": {
      "text/plain": [
       "24"
      ]
     },
     "execution_count": 69,
     "metadata": {},
     "output_type": "execute_result"
    },
    {
     "data": {
      "text/plain": [
       "1"
      ]
     },
     "execution_count": 69,
     "metadata": {},
     "output_type": "execute_result"
    },
    {
     "data": {
      "text/plain": [
       "15"
      ]
     },
     "execution_count": 69,
     "metadata": {},
     "output_type": "execute_result"
    },
    {
     "data": {
      "text/plain": [
       "2"
      ]
     },
     "execution_count": 69,
     "metadata": {},
     "output_type": "execute_result"
    },
    {
     "data": {
      "text/plain": [
       "[<matplotlib.lines.Line2D at 0x1603ab5e9e8>]"
      ]
     },
     "execution_count": 69,
     "metadata": {},
     "output_type": "execute_result"
    },
    {
     "data": {
      "text/plain": [
       "[<matplotlib.lines.Line2D at 0x1603ab5ee80>]"
      ]
     },
     "execution_count": 69,
     "metadata": {},
     "output_type": "execute_result"
    },
    {
     "data": {
      "text/plain": [
       "Text(0.5,1,'model accuracy')"
      ]
     },
     "execution_count": 69,
     "metadata": {},
     "output_type": "execute_result"
    },
    {
     "data": {
      "text/plain": [
       "Text(0,0.5,'accuracy')"
      ]
     },
     "execution_count": 69,
     "metadata": {},
     "output_type": "execute_result"
    },
    {
     "data": {
      "text/plain": [
       "Text(0.5,0,'epoch')"
      ]
     },
     "execution_count": 69,
     "metadata": {},
     "output_type": "execute_result"
    },
    {
     "data": {
      "text/plain": [
       "<matplotlib.legend.Legend at 0x1603ab4a400>"
      ]
     },
     "execution_count": 69,
     "metadata": {},
     "output_type": "execute_result"
    },
    {
     "data": {
      "text/plain": [
       "[<matplotlib.lines.Line2D at 0x1603abd9e10>]"
      ]
     },
     "execution_count": 69,
     "metadata": {},
     "output_type": "execute_result"
    },
    {
     "data": {
      "text/plain": [
       "[<matplotlib.lines.Line2D at 0x1603abe2390>]"
      ]
     },
     "execution_count": 69,
     "metadata": {},
     "output_type": "execute_result"
    },
    {
     "data": {
      "text/plain": [
       "Text(0.5,1,'model loss')"
      ]
     },
     "execution_count": 69,
     "metadata": {},
     "output_type": "execute_result"
    },
    {
     "data": {
      "text/plain": [
       "Text(0,0.5,'loss')"
      ]
     },
     "execution_count": 69,
     "metadata": {},
     "output_type": "execute_result"
    },
    {
     "data": {
      "text/plain": [
       "Text(0.5,0,'epoch')"
      ]
     },
     "execution_count": 69,
     "metadata": {},
     "output_type": "execute_result"
    },
    {
     "data": {
      "text/plain": [
       "<matplotlib.legend.Legend at 0x1603abc9908>"
      ]
     },
     "execution_count": 69,
     "metadata": {},
     "output_type": "execute_result"
    },
    {
     "name": "stdout",
     "output_type": "stream",
     "text": [
      "Analysis of results\n",
      "              precision    recall  f1-score   support\n",
      "\n",
      "           0       0.97      0.98      0.98       980\n",
      "           1       0.98      0.99      0.98      1135\n",
      "           2       0.97      0.96      0.96      1032\n",
      "           3       0.94      0.96      0.95      1010\n",
      "           4       0.96      0.95      0.96       982\n",
      "           5       0.96      0.94      0.95       892\n",
      "           6       0.95      0.97      0.96       958\n",
      "           7       0.97      0.95      0.96      1028\n",
      "           8       0.95      0.95      0.95       974\n",
      "           9       0.94      0.94      0.94      1009\n",
      "\n",
      "   micro avg       0.96      0.96      0.96     10000\n",
      "   macro avg       0.96      0.96      0.96     10000\n",
      "weighted avg       0.96      0.96      0.96     10000\n",
      "\n",
      "[[ 963    0    1    3    0    4    5    1    2    1]\n",
      " [   0 1119    2    1    0    1    5    2    5    0]\n",
      " [   7    1  988   10    4    2    6    5    6    3]\n",
      " [   0    0    3  974    0   13    0    8    9    3]\n",
      " [   1    1    7    0  937    0   10    2    2   22]\n",
      " [   7    1    0   19    1  837   10    0   12    5]\n",
      " [   7    3    2    0    9    9  925    0    3    0]\n",
      " [   0    8   14    4    3    2    0  973    1   23]\n",
      " [   4    2    3   15    5    4    8    4  924    5]\n",
      " [   4    6    1   12   18    4    1    7    4  952]]\n",
      "Train on 60000 samples, validate on 10000 samples\n",
      "Epoch 1/20\n",
      "60000/60000 [==============================] - 5s 75us/step - loss: 1.4469 - acc: 0.6013 - val_loss: 0.6378 - val_acc: 0.8360\n",
      "Epoch 2/20\n",
      "60000/60000 [==============================] - 3s 45us/step - loss: 0.5027 - acc: 0.8634 - val_loss: 0.3918 - val_acc: 0.8876\n",
      "Epoch 3/20\n",
      "60000/60000 [==============================] - 3s 44us/step - loss: 0.3745 - acc: 0.8933 - val_loss: 0.3366 - val_acc: 0.9017\n",
      "Epoch 4/20\n",
      "60000/60000 [==============================] - 3s 44us/step - loss: 0.3245 - acc: 0.9056 - val_loss: 0.2928 - val_acc: 0.9147\n",
      "Epoch 5/20\n",
      "60000/60000 [==============================] - 3s 43us/step - loss: 0.2925 - acc: 0.9151 - val_loss: 0.2687 - val_acc: 0.9217\n",
      "Epoch 6/20\n",
      "60000/60000 [==============================] - 3s 43us/step - loss: 0.2684 - acc: 0.9222 - val_loss: 0.2526 - val_acc: 0.9250\n",
      "Epoch 7/20\n",
      "60000/60000 [==============================] - 3s 47us/step - loss: 0.2493 - acc: 0.9287 - val_loss: 0.2334 - val_acc: 0.9322\n",
      "Epoch 8/20\n",
      "60000/60000 [==============================] - 3s 45us/step - loss: 0.2331 - acc: 0.9330 - val_loss: 0.2203 - val_acc: 0.9348\n",
      "Epoch 9/20\n",
      "60000/60000 [==============================] - 3s 46us/step - loss: 0.2195 - acc: 0.9373 - val_loss: 0.2091 - val_acc: 0.9375\n",
      "Epoch 10/20\n",
      "60000/60000 [==============================] - 3s 46us/step - loss: 0.2067 - acc: 0.9414 - val_loss: 0.2013 - val_acc: 0.9408\n",
      "Epoch 11/20\n",
      "60000/60000 [==============================] - 3s 44us/step - loss: 0.1959 - acc: 0.9440 - val_loss: 0.1872 - val_acc: 0.9434\n",
      "Epoch 12/20\n",
      "60000/60000 [==============================] - 3s 44us/step - loss: 0.1863 - acc: 0.9466 - val_loss: 0.1811 - val_acc: 0.9464\n",
      "Epoch 13/20\n",
      "60000/60000 [==============================] - 3s 45us/step - loss: 0.1775 - acc: 0.9487 - val_loss: 0.1795 - val_acc: 0.9452\n",
      "Epoch 14/20\n",
      "60000/60000 [==============================] - 3s 44us/step - loss: 0.1695 - acc: 0.9512 - val_loss: 0.1688 - val_acc: 0.9483\n",
      "Epoch 15/20\n",
      "60000/60000 [==============================] - 3s 44us/step - loss: 0.1618 - acc: 0.9539 - val_loss: 0.1603 - val_acc: 0.9520\n",
      "Epoch 16/20\n",
      "60000/60000 [==============================] - 3s 44us/step - loss: 0.1556 - acc: 0.9556 - val_loss: 0.1576 - val_acc: 0.9529\n",
      "Epoch 17/20\n",
      "60000/60000 [==============================] - 3s 44us/step - loss: 0.1493 - acc: 0.9573 - val_loss: 0.1497 - val_acc: 0.9556\n",
      "Epoch 18/20\n",
      "60000/60000 [==============================] - 3s 47us/step - loss: 0.1438 - acc: 0.9591 - val_loss: 0.1452 - val_acc: 0.9576\n",
      "Epoch 19/20\n",
      "60000/60000 [==============================] - 3s 54us/step - loss: 0.1386 - acc: 0.9602 - val_loss: 0.1440 - val_acc: 0.9560\n",
      "Epoch 20/20\n",
      "60000/60000 [==============================] - 3s 52us/step - loss: 0.1339 - acc: 0.9612 - val_loss: 0.1371 - val_acc: 0.9596\n"
     ]
    },
    {
     "data": {
      "text/plain": [
       "42"
      ]
     },
     "execution_count": 69,
     "metadata": {},
     "output_type": "execute_result"
    },
    {
     "data": {
      "text/plain": [
       "22"
      ]
     },
     "execution_count": 69,
     "metadata": {},
     "output_type": "execute_result"
    },
    {
     "data": {
      "text/plain": [
       "1"
      ]
     },
     "execution_count": 69,
     "metadata": {},
     "output_type": "execute_result"
    },
    {
     "data": {
      "text/plain": [
       "15"
      ]
     },
     "execution_count": 69,
     "metadata": {},
     "output_type": "execute_result"
    },
    {
     "data": {
      "text/plain": [
       "2"
      ]
     },
     "execution_count": 69,
     "metadata": {},
     "output_type": "execute_result"
    },
    {
     "data": {
      "text/plain": [
       "[<matplotlib.lines.Line2D at 0x1604132e588>]"
      ]
     },
     "execution_count": 69,
     "metadata": {},
     "output_type": "execute_result"
    },
    {
     "data": {
      "text/plain": [
       "[<matplotlib.lines.Line2D at 0x1604132ea20>]"
      ]
     },
     "execution_count": 69,
     "metadata": {},
     "output_type": "execute_result"
    },
    {
     "data": {
      "text/plain": [
       "Text(0.5,1,'model accuracy')"
      ]
     },
     "execution_count": 69,
     "metadata": {},
     "output_type": "execute_result"
    },
    {
     "data": {
      "text/plain": [
       "Text(0,0.5,'accuracy')"
      ]
     },
     "execution_count": 69,
     "metadata": {},
     "output_type": "execute_result"
    },
    {
     "data": {
      "text/plain": [
       "Text(0.5,0,'epoch')"
      ]
     },
     "execution_count": 69,
     "metadata": {},
     "output_type": "execute_result"
    },
    {
     "data": {
      "text/plain": [
       "<matplotlib.legend.Legend at 0x1604132eda0>"
      ]
     },
     "execution_count": 69,
     "metadata": {},
     "output_type": "execute_result"
    },
    {
     "data": {
      "text/plain": [
       "[<matplotlib.lines.Line2D at 0x160413b29b0>]"
      ]
     },
     "execution_count": 69,
     "metadata": {},
     "output_type": "execute_result"
    },
    {
     "data": {
      "text/plain": [
       "[<matplotlib.lines.Line2D at 0x160413b2b00>]"
      ]
     },
     "execution_count": 69,
     "metadata": {},
     "output_type": "execute_result"
    },
    {
     "data": {
      "text/plain": [
       "Text(0.5,1,'model loss')"
      ]
     },
     "execution_count": 69,
     "metadata": {},
     "output_type": "execute_result"
    },
    {
     "data": {
      "text/plain": [
       "Text(0,0.5,'loss')"
      ]
     },
     "execution_count": 69,
     "metadata": {},
     "output_type": "execute_result"
    },
    {
     "data": {
      "text/plain": [
       "Text(0.5,0,'epoch')"
      ]
     },
     "execution_count": 69,
     "metadata": {},
     "output_type": "execute_result"
    },
    {
     "data": {
      "text/plain": [
       "<matplotlib.legend.Legend at 0x160413a23c8>"
      ]
     },
     "execution_count": 69,
     "metadata": {},
     "output_type": "execute_result"
    },
    {
     "name": "stdout",
     "output_type": "stream",
     "text": [
      "Analysis of results\n",
      "              precision    recall  f1-score   support\n",
      "\n",
      "           0       0.97      0.98      0.98       980\n",
      "           1       0.98      0.98      0.98      1135\n",
      "           2       0.95      0.97      0.96      1032\n",
      "           3       0.96      0.95      0.96      1010\n",
      "           4       0.96      0.95      0.95       982\n",
      "           5       0.96      0.95      0.95       892\n",
      "           6       0.95      0.97      0.96       958\n",
      "           7       0.97      0.94      0.96      1028\n",
      "           8       0.96      0.95      0.95       974\n",
      "           9       0.94      0.94      0.94      1009\n",
      "\n",
      "   micro avg       0.96      0.96      0.96     10000\n",
      "   macro avg       0.96      0.96      0.96     10000\n",
      "weighted avg       0.96      0.96      0.96     10000\n",
      "\n",
      "[[ 965    0    1    2    0    4    6    1    1    0]\n",
      " [   0 1117    3    2    0    1    4    2    6    0]\n",
      " [   8    1  996    7    4    0    5    6    4    1]\n",
      " [   1    1   14  963    0   10    0   10    8    3]\n",
      " [   1    0    4    0  934    1   11    1    3   27]\n",
      " [   8    3    1    5    3  846   10    1    9    6]\n",
      " [   6    3    0    0    7    7  932    0    3    0]\n",
      " [   1    8   20    1    2    1    0  970    2   23]\n",
      " [   4    1    5   10    6    8   10    3  924    3]\n",
      " [   5    7    2    8   19    5    2    6    6  949]]\n",
      "Train on 60000 samples, validate on 10000 samples\n",
      "Epoch 1/20\n",
      "60000/60000 [==============================] - 5s 88us/step - loss: 1.4079 - acc: 0.6197 - val_loss: 0.5925 - val_acc: 0.8540\n",
      "Epoch 2/20\n",
      "60000/60000 [==============================] - 3s 48us/step - loss: 0.4725 - acc: 0.8738 - val_loss: 0.3776 - val_acc: 0.8961\n",
      "Epoch 3/20\n",
      "60000/60000 [==============================] - 3s 47us/step - loss: 0.3648 - acc: 0.8963 - val_loss: 0.3244 - val_acc: 0.9097\n",
      "Epoch 4/20\n",
      "60000/60000 [==============================] - 3s 48us/step - loss: 0.3225 - acc: 0.9077 - val_loss: 0.2989 - val_acc: 0.9146\n",
      "Epoch 5/20\n",
      "60000/60000 [==============================] - 3s 47us/step - loss: 0.2949 - acc: 0.9143 - val_loss: 0.2730 - val_acc: 0.9222\n",
      "Epoch 6/20\n",
      "60000/60000 [==============================] - 3s 47us/step - loss: 0.2728 - acc: 0.9204 - val_loss: 0.2563 - val_acc: 0.9263\n",
      "Epoch 7/20\n",
      "60000/60000 [==============================] - 3s 52us/step - loss: 0.2545 - acc: 0.9259 - val_loss: 0.2411 - val_acc: 0.9306\n",
      "Epoch 8/20\n",
      "60000/60000 [==============================] - 3s 53us/step - loss: 0.2384 - acc: 0.9300 - val_loss: 0.2283 - val_acc: 0.9343\n",
      "Epoch 9/20\n",
      "60000/60000 [==============================] - 3s 45us/step - loss: 0.2248 - acc: 0.9350 - val_loss: 0.2149 - val_acc: 0.9391\n",
      "Epoch 10/20\n",
      "60000/60000 [==============================] - 3s 47us/step - loss: 0.2118 - acc: 0.9382 - val_loss: 0.2043 - val_acc: 0.9409\n",
      "Epoch 11/20\n",
      "60000/60000 [==============================] - 3s 46us/step - loss: 0.2009 - acc: 0.9420 - val_loss: 0.1944 - val_acc: 0.9443\n",
      "Epoch 12/20\n",
      "60000/60000 [==============================] - 3s 45us/step - loss: 0.1904 - acc: 0.9451 - val_loss: 0.1931 - val_acc: 0.9415\n",
      "Epoch 13/20\n",
      "60000/60000 [==============================] - 3s 45us/step - loss: 0.1811 - acc: 0.9476 - val_loss: 0.1787 - val_acc: 0.9496\n",
      "Epoch 14/20\n",
      "60000/60000 [==============================] - 3s 45us/step - loss: 0.1726 - acc: 0.9506 - val_loss: 0.1731 - val_acc: 0.9508\n",
      "Epoch 15/20\n",
      "60000/60000 [==============================] - 3s 45us/step - loss: 0.1647 - acc: 0.9525 - val_loss: 0.1661 - val_acc: 0.9527\n",
      "Epoch 16/20\n",
      "60000/60000 [==============================] - 3s 46us/step - loss: 0.1578 - acc: 0.9544 - val_loss: 0.1592 - val_acc: 0.9539\n",
      "Epoch 17/20\n",
      "60000/60000 [==============================] - 3s 45us/step - loss: 0.1513 - acc: 0.9561 - val_loss: 0.1534 - val_acc: 0.9550\n",
      "Epoch 18/20\n",
      "60000/60000 [==============================] - 3s 45us/step - loss: 0.1455 - acc: 0.9580 - val_loss: 0.1479 - val_acc: 0.9569\n",
      "Epoch 19/20\n",
      "60000/60000 [==============================] - 3s 45us/step - loss: 0.1399 - acc: 0.9602 - val_loss: 0.1440 - val_acc: 0.9565\n",
      "Epoch 20/20\n",
      "60000/60000 [==============================] - 3s 46us/step - loss: 0.1345 - acc: 0.9617 - val_loss: 0.1420 - val_acc: 0.9593\n"
     ]
    },
    {
     "data": {
      "text/plain": [
       "42"
      ]
     },
     "execution_count": 69,
     "metadata": {},
     "output_type": "execute_result"
    },
    {
     "data": {
      "text/plain": [
       "24"
      ]
     },
     "execution_count": 69,
     "metadata": {},
     "output_type": "execute_result"
    },
    {
     "data": {
      "text/plain": [
       "1"
      ]
     },
     "execution_count": 69,
     "metadata": {},
     "output_type": "execute_result"
    },
    {
     "data": {
      "text/plain": [
       "15"
      ]
     },
     "execution_count": 69,
     "metadata": {},
     "output_type": "execute_result"
    },
    {
     "data": {
      "text/plain": [
       "2"
      ]
     },
     "execution_count": 69,
     "metadata": {},
     "output_type": "execute_result"
    },
    {
     "data": {
      "text/plain": [
       "[<matplotlib.lines.Line2D at 0x160430cd128>]"
      ]
     },
     "execution_count": 69,
     "metadata": {},
     "output_type": "execute_result"
    },
    {
     "data": {
      "text/plain": [
       "[<matplotlib.lines.Line2D at 0x160430cd5c0>]"
      ]
     },
     "execution_count": 69,
     "metadata": {},
     "output_type": "execute_result"
    },
    {
     "data": {
      "text/plain": [
       "Text(0.5,1,'model accuracy')"
      ]
     },
     "execution_count": 69,
     "metadata": {},
     "output_type": "execute_result"
    },
    {
     "data": {
      "text/plain": [
       "Text(0,0.5,'accuracy')"
      ]
     },
     "execution_count": 69,
     "metadata": {},
     "output_type": "execute_result"
    },
    {
     "data": {
      "text/plain": [
       "Text(0.5,0,'epoch')"
      ]
     },
     "execution_count": 69,
     "metadata": {},
     "output_type": "execute_result"
    },
    {
     "data": {
      "text/plain": [
       "<matplotlib.legend.Legend at 0x160430cdb70>"
      ]
     },
     "execution_count": 69,
     "metadata": {},
     "output_type": "execute_result"
    },
    {
     "data": {
      "text/plain": [
       "[<matplotlib.lines.Line2D at 0x1604314e0b8>]"
      ]
     },
     "execution_count": 69,
     "metadata": {},
     "output_type": "execute_result"
    },
    {
     "data": {
      "text/plain": [
       "[<matplotlib.lines.Line2D at 0x1604314e208>]"
      ]
     },
     "execution_count": 69,
     "metadata": {},
     "output_type": "execute_result"
    },
    {
     "data": {
      "text/plain": [
       "Text(0.5,1,'model loss')"
      ]
     },
     "execution_count": 69,
     "metadata": {},
     "output_type": "execute_result"
    },
    {
     "data": {
      "text/plain": [
       "Text(0,0.5,'loss')"
      ]
     },
     "execution_count": 69,
     "metadata": {},
     "output_type": "execute_result"
    },
    {
     "data": {
      "text/plain": [
       "Text(0.5,0,'epoch')"
      ]
     },
     "execution_count": 69,
     "metadata": {},
     "output_type": "execute_result"
    },
    {
     "data": {
      "text/plain": [
       "<matplotlib.legend.Legend at 0x16043135b70>"
      ]
     },
     "execution_count": 69,
     "metadata": {},
     "output_type": "execute_result"
    },
    {
     "name": "stdout",
     "output_type": "stream",
     "text": [
      "Analysis of results\n",
      "              precision    recall  f1-score   support\n",
      "\n",
      "           0       0.96      0.99      0.97       980\n",
      "           1       0.98      0.98      0.98      1135\n",
      "           2       0.95      0.97      0.96      1032\n",
      "           3       0.95      0.96      0.95      1010\n",
      "           4       0.95      0.97      0.96       982\n",
      "           5       0.96      0.95      0.95       892\n",
      "           6       0.96      0.96      0.96       958\n",
      "           7       0.96      0.96      0.96      1028\n",
      "           8       0.94      0.95      0.94       974\n",
      "           9       0.97      0.92      0.95      1009\n",
      "\n",
      "   micro avg       0.96      0.96      0.96     10000\n",
      "   macro avg       0.96      0.96      0.96     10000\n",
      "weighted avg       0.96      0.96      0.96     10000\n",
      "\n",
      "[[ 967    0    1    2    0    2    5    2    1    0]\n",
      " [   0 1111    3    2    0    2    3    2   12    0]\n",
      " [   4    0  999    6    4    1    4    7    6    1]\n",
      " [   1    0    9  966    0   11    0    9   12    2]\n",
      " [   1    0    8    0  950    0    7    2    3   11]\n",
      " [   7    1    0   12    2  845   11    1   10    3]\n",
      " [   8    3    5    0   10   11  918    0    3    0]\n",
      " [   2    7   19    2    1    0    0  984    3   10]\n",
      " [   5    1    3   14    7    6    9    4  925    0]\n",
      " [   9    5    3   10   27    5    1   12    9  928]]\n",
      "Train on 60000 samples, validate on 10000 samples\n",
      "Epoch 1/20\n",
      "60000/60000 [==============================] - 5s 79us/step - loss: 1.4774 - acc: 0.6068 - val_loss: 0.6376 - val_acc: 0.8409\n",
      "Epoch 2/20\n",
      "60000/60000 [==============================] - 3s 47us/step - loss: 0.4957 - acc: 0.8668 - val_loss: 0.3962 - val_acc: 0.8900\n",
      "Epoch 3/20\n",
      "60000/60000 [==============================] - 3s 46us/step - loss: 0.3721 - acc: 0.8932 - val_loss: 0.3357 - val_acc: 0.9043\n",
      "Epoch 4/20\n",
      "60000/60000 [==============================] - 4s 68us/step - loss: 0.3236 - acc: 0.9074 - val_loss: 0.2987 - val_acc: 0.9121\n",
      "Epoch 5/20\n",
      "60000/60000 [==============================] - 3s 56us/step - loss: 0.2932 - acc: 0.9154 - val_loss: 0.2764 - val_acc: 0.9213\n",
      "Epoch 6/20\n",
      "60000/60000 [==============================] - 3s 42us/step - loss: 0.2697 - acc: 0.9217 - val_loss: 0.2550 - val_acc: 0.9269\n",
      "Epoch 7/20\n",
      "60000/60000 [==============================] - 3s 46us/step - loss: 0.2501 - acc: 0.9274 - val_loss: 0.2370 - val_acc: 0.9318\n",
      "Epoch 8/20\n",
      "60000/60000 [==============================] - 2s 41us/step - loss: 0.2334 - acc: 0.9321 - val_loss: 0.2230 - val_acc: 0.9350\n",
      "Epoch 9/20\n",
      "60000/60000 [==============================] - 2s 41us/step - loss: 0.2190 - acc: 0.9365 - val_loss: 0.2127 - val_acc: 0.9371\n",
      "Epoch 10/20\n",
      "60000/60000 [==============================] - 2s 40us/step - loss: 0.2058 - acc: 0.9407 - val_loss: 0.2023 - val_acc: 0.9385\n",
      "Epoch 11/20\n",
      "60000/60000 [==============================] - 3s 44us/step - loss: 0.1950 - acc: 0.9441 - val_loss: 0.1923 - val_acc: 0.9409\n",
      "Epoch 12/20\n",
      "60000/60000 [==============================] - 3s 47us/step - loss: 0.1850 - acc: 0.9469 - val_loss: 0.1830 - val_acc: 0.9435\n",
      "Epoch 13/20\n",
      "60000/60000 [==============================] - 3s 42us/step - loss: 0.1760 - acc: 0.9487 - val_loss: 0.1776 - val_acc: 0.9452\n",
      "Epoch 14/20\n",
      "60000/60000 [==============================] - 3s 42us/step - loss: 0.1677 - acc: 0.9520 - val_loss: 0.1698 - val_acc: 0.9480\n",
      "Epoch 15/20\n",
      "60000/60000 [==============================] - 2s 41us/step - loss: 0.1604 - acc: 0.9536 - val_loss: 0.1630 - val_acc: 0.9480\n",
      "Epoch 16/20\n",
      "60000/60000 [==============================] - 2s 41us/step - loss: 0.1536 - acc: 0.9556 - val_loss: 0.1580 - val_acc: 0.9491\n",
      "Epoch 17/20\n",
      "60000/60000 [==============================] - 2s 41us/step - loss: 0.1476 - acc: 0.9577 - val_loss: 0.1554 - val_acc: 0.9511\n",
      "Epoch 18/20\n",
      "60000/60000 [==============================] - 2s 40us/step - loss: 0.1419 - acc: 0.9594 - val_loss: 0.1470 - val_acc: 0.9541\n",
      "Epoch 19/20\n",
      "60000/60000 [==============================] - 2s 41us/step - loss: 0.1366 - acc: 0.9614 - val_loss: 0.1477 - val_acc: 0.9533\n",
      "Epoch 20/20\n",
      "60000/60000 [==============================] - 3s 43us/step - loss: 0.1317 - acc: 0.9626 - val_loss: 0.1400 - val_acc: 0.9565\n"
     ]
    },
    {
     "data": {
      "text/plain": [
       "42"
      ]
     },
     "execution_count": 69,
     "metadata": {},
     "output_type": "execute_result"
    },
    {
     "data": {
      "text/plain": [
       "23"
      ]
     },
     "execution_count": 69,
     "metadata": {},
     "output_type": "execute_result"
    },
    {
     "data": {
      "text/plain": [
       "1"
      ]
     },
     "execution_count": 69,
     "metadata": {},
     "output_type": "execute_result"
    },
    {
     "data": {
      "text/plain": [
       "15"
      ]
     },
     "execution_count": 69,
     "metadata": {},
     "output_type": "execute_result"
    },
    {
     "data": {
      "text/plain": [
       "2"
      ]
     },
     "execution_count": 69,
     "metadata": {},
     "output_type": "execute_result"
    },
    {
     "data": {
      "text/plain": [
       "[<matplotlib.lines.Line2D at 0x160434817b8>]"
      ]
     },
     "execution_count": 69,
     "metadata": {},
     "output_type": "execute_result"
    },
    {
     "data": {
      "text/plain": [
       "[<matplotlib.lines.Line2D at 0x16043481c50>]"
      ]
     },
     "execution_count": 69,
     "metadata": {},
     "output_type": "execute_result"
    },
    {
     "data": {
      "text/plain": [
       "Text(0.5,1,'model accuracy')"
      ]
     },
     "execution_count": 69,
     "metadata": {},
     "output_type": "execute_result"
    },
    {
     "data": {
      "text/plain": [
       "Text(0,0.5,'accuracy')"
      ]
     },
     "execution_count": 69,
     "metadata": {},
     "output_type": "execute_result"
    },
    {
     "data": {
      "text/plain": [
       "Text(0.5,0,'epoch')"
      ]
     },
     "execution_count": 69,
     "metadata": {},
     "output_type": "execute_result"
    },
    {
     "data": {
      "text/plain": [
       "<matplotlib.legend.Legend at 0x1604347a1d0>"
      ]
     },
     "execution_count": 69,
     "metadata": {},
     "output_type": "execute_result"
    },
    {
     "data": {
      "text/plain": [
       "[<matplotlib.lines.Line2D at 0x16043501be0>]"
      ]
     },
     "execution_count": 69,
     "metadata": {},
     "output_type": "execute_result"
    },
    {
     "data": {
      "text/plain": [
       "[<matplotlib.lines.Line2D at 0x16043509160>]"
      ]
     },
     "execution_count": 69,
     "metadata": {},
     "output_type": "execute_result"
    },
    {
     "data": {
      "text/plain": [
       "Text(0.5,1,'model loss')"
      ]
     },
     "execution_count": 69,
     "metadata": {},
     "output_type": "execute_result"
    },
    {
     "data": {
      "text/plain": [
       "Text(0,0.5,'loss')"
      ]
     },
     "execution_count": 69,
     "metadata": {},
     "output_type": "execute_result"
    },
    {
     "data": {
      "text/plain": [
       "Text(0.5,0,'epoch')"
      ]
     },
     "execution_count": 69,
     "metadata": {},
     "output_type": "execute_result"
    },
    {
     "data": {
      "text/plain": [
       "<matplotlib.legend.Legend at 0x160434f26d8>"
      ]
     },
     "execution_count": 69,
     "metadata": {},
     "output_type": "execute_result"
    },
    {
     "name": "stdout",
     "output_type": "stream",
     "text": [
      "Analysis of results\n",
      "              precision    recall  f1-score   support\n",
      "\n",
      "           0       0.97      0.98      0.98       980\n",
      "           1       0.98      0.98      0.98      1135\n",
      "           2       0.95      0.96      0.96      1032\n",
      "           3       0.93      0.96      0.95      1010\n",
      "           4       0.96      0.95      0.96       982\n",
      "           5       0.96      0.94      0.95       892\n",
      "           6       0.96      0.96      0.96       958\n",
      "           7       0.95      0.95      0.95      1028\n",
      "           8       0.96      0.93      0.94       974\n",
      "           9       0.94      0.94      0.94      1009\n",
      "\n",
      "   micro avg       0.96      0.96      0.96     10000\n",
      "   macro avg       0.96      0.96      0.96     10000\n",
      "weighted avg       0.96      0.96      0.96     10000\n",
      "\n",
      "[[ 965    0    0    1    0    5    3    4    1    1]\n",
      " [   0 1117    3    2    0    1    3    3    6    0]\n",
      " [   6    1  992    8    4    1    4    9    6    1]\n",
      " [   0    0    8  973    0    7    0   10   10    2]\n",
      " [   1    0    5    1  935    0    8    4    2   26]\n",
      " [   5    1    1   23    3  839    9    1    5    5]\n",
      " [  12    3    5    0    6    8  919    0    5    0]\n",
      " [   0    8   17    3    4    0    0  976    1   19]\n",
      " [   6    2    7   21    4    7    9    9  902    7]\n",
      " [   3    6    1   13   19    3    1   11    5  947]]\n",
      "Train on 60000 samples, validate on 10000 samples\n",
      "Epoch 1/20\n",
      "60000/60000 [==============================] - 5s 88us/step - loss: 1.4330 - acc: 0.6264 - val_loss: 0.6048 - val_acc: 0.8482\n",
      "Epoch 2/20\n",
      "60000/60000 [==============================] - 3s 49us/step - loss: 0.4795 - acc: 0.8706 - val_loss: 0.3798 - val_acc: 0.8936\n",
      "Epoch 3/20\n",
      "60000/60000 [==============================] - 3s 43us/step - loss: 0.3625 - acc: 0.8987 - val_loss: 0.3214 - val_acc: 0.9099\n",
      "Epoch 4/20\n",
      "60000/60000 [==============================] - 3s 42us/step - loss: 0.3179 - acc: 0.9093 - val_loss: 0.2900 - val_acc: 0.9188\n",
      "Epoch 5/20\n",
      "60000/60000 [==============================] - 3s 47us/step - loss: 0.2888 - acc: 0.9173 - val_loss: 0.2667 - val_acc: 0.9246\n",
      "Epoch 6/20\n",
      "60000/60000 [==============================] - 3s 53us/step - loss: 0.2668 - acc: 0.9234 - val_loss: 0.2500 - val_acc: 0.9295\n",
      "Epoch 7/20\n",
      "60000/60000 [==============================] - 3s 48us/step - loss: 0.2491 - acc: 0.9279 - val_loss: 0.2396 - val_acc: 0.9321\n",
      "Epoch 8/20\n",
      "60000/60000 [==============================] - 3s 43us/step - loss: 0.2339 - acc: 0.9322 - val_loss: 0.2232 - val_acc: 0.9356\n",
      "Epoch 9/20\n",
      "60000/60000 [==============================] - 3s 42us/step - loss: 0.2206 - acc: 0.9363 - val_loss: 0.2112 - val_acc: 0.9410\n",
      "Epoch 10/20\n",
      "60000/60000 [==============================] - 3s 44us/step - loss: 0.2091 - acc: 0.9395 - val_loss: 0.2047 - val_acc: 0.9428\n",
      "Epoch 11/20\n",
      "60000/60000 [==============================] - 2s 41us/step - loss: 0.1983 - acc: 0.9428 - val_loss: 0.1950 - val_acc: 0.9448\n",
      "Epoch 12/20\n",
      "60000/60000 [==============================] - 2s 42us/step - loss: 0.1885 - acc: 0.9461 - val_loss: 0.1859 - val_acc: 0.9455\n",
      "Epoch 13/20\n",
      "60000/60000 [==============================] - 3s 47us/step - loss: 0.1796 - acc: 0.9479 - val_loss: 0.1770 - val_acc: 0.9496\n",
      "Epoch 14/20\n",
      "60000/60000 [==============================] - 3s 49us/step - loss: 0.1717 - acc: 0.9501 - val_loss: 0.1737 - val_acc: 0.9498\n",
      "Epoch 15/20\n",
      "60000/60000 [==============================] - 3s 42us/step - loss: 0.1642 - acc: 0.9530 - val_loss: 0.1660 - val_acc: 0.9512\n",
      "Epoch 16/20\n",
      "60000/60000 [==============================] - 2s 41us/step - loss: 0.1572 - acc: 0.9544 - val_loss: 0.1614 - val_acc: 0.9530\n",
      "Epoch 17/20\n",
      "60000/60000 [==============================] - 2s 41us/step - loss: 0.1509 - acc: 0.9562 - val_loss: 0.1546 - val_acc: 0.9541\n",
      "Epoch 18/20\n",
      "60000/60000 [==============================] - 2s 41us/step - loss: 0.1445 - acc: 0.9587 - val_loss: 0.1511 - val_acc: 0.9551\n",
      "Epoch 19/20\n",
      "60000/60000 [==============================] - 2s 41us/step - loss: 0.1396 - acc: 0.9594 - val_loss: 0.1475 - val_acc: 0.9561\n",
      "Epoch 20/20\n",
      "60000/60000 [==============================] - 2s 41us/step - loss: 0.1338 - acc: 0.9614 - val_loss: 0.1415 - val_acc: 0.9565\n"
     ]
    },
    {
     "data": {
      "text/plain": [
       "42"
      ]
     },
     "execution_count": 69,
     "metadata": {},
     "output_type": "execute_result"
    },
    {
     "data": {
      "text/plain": [
       "24"
      ]
     },
     "execution_count": 69,
     "metadata": {},
     "output_type": "execute_result"
    },
    {
     "data": {
      "text/plain": [
       "1"
      ]
     },
     "execution_count": 69,
     "metadata": {},
     "output_type": "execute_result"
    },
    {
     "data": {
      "text/plain": [
       "15"
      ]
     },
     "execution_count": 69,
     "metadata": {},
     "output_type": "execute_result"
    },
    {
     "data": {
      "text/plain": [
       "2"
      ]
     },
     "execution_count": 69,
     "metadata": {},
     "output_type": "execute_result"
    },
    {
     "data": {
      "text/plain": [
       "[<matplotlib.lines.Line2D at 0x16043840518>]"
      ]
     },
     "execution_count": 69,
     "metadata": {},
     "output_type": "execute_result"
    },
    {
     "data": {
      "text/plain": [
       "[<matplotlib.lines.Line2D at 0x160438409b0>]"
      ]
     },
     "execution_count": 69,
     "metadata": {},
     "output_type": "execute_result"
    },
    {
     "data": {
      "text/plain": [
       "Text(0.5,1,'model accuracy')"
      ]
     },
     "execution_count": 69,
     "metadata": {},
     "output_type": "execute_result"
    },
    {
     "data": {
      "text/plain": [
       "Text(0,0.5,'accuracy')"
      ]
     },
     "execution_count": 69,
     "metadata": {},
     "output_type": "execute_result"
    },
    {
     "data": {
      "text/plain": [
       "Text(0.5,0,'epoch')"
      ]
     },
     "execution_count": 69,
     "metadata": {},
     "output_type": "execute_result"
    },
    {
     "data": {
      "text/plain": [
       "<matplotlib.legend.Legend at 0x1604382dfd0>"
      ]
     },
     "execution_count": 69,
     "metadata": {},
     "output_type": "execute_result"
    },
    {
     "data": {
      "text/plain": [
       "[<matplotlib.lines.Line2D at 0x160438c34a8>]"
      ]
     },
     "execution_count": 69,
     "metadata": {},
     "output_type": "execute_result"
    },
    {
     "data": {
      "text/plain": [
       "[<matplotlib.lines.Line2D at 0x160438c35f8>]"
      ]
     },
     "execution_count": 69,
     "metadata": {},
     "output_type": "execute_result"
    },
    {
     "data": {
      "text/plain": [
       "Text(0.5,1,'model loss')"
      ]
     },
     "execution_count": 69,
     "metadata": {},
     "output_type": "execute_result"
    },
    {
     "data": {
      "text/plain": [
       "Text(0,0.5,'loss')"
      ]
     },
     "execution_count": 69,
     "metadata": {},
     "output_type": "execute_result"
    },
    {
     "data": {
      "text/plain": [
       "Text(0.5,0,'epoch')"
      ]
     },
     "execution_count": 69,
     "metadata": {},
     "output_type": "execute_result"
    },
    {
     "data": {
      "text/plain": [
       "<matplotlib.legend.Legend at 0x160438ace80>"
      ]
     },
     "execution_count": 69,
     "metadata": {},
     "output_type": "execute_result"
    },
    {
     "name": "stdout",
     "output_type": "stream",
     "text": [
      "Analysis of results\n",
      "              precision    recall  f1-score   support\n",
      "\n",
      "           0       0.96      0.98      0.97       980\n",
      "           1       0.98      0.99      0.98      1135\n",
      "           2       0.96      0.95      0.95      1032\n",
      "           3       0.96      0.95      0.95      1010\n",
      "           4       0.94      0.97      0.96       982\n",
      "           5       0.96      0.94      0.95       892\n",
      "           6       0.95      0.96      0.96       958\n",
      "           7       0.95      0.96      0.95      1028\n",
      "           8       0.95      0.93      0.94       974\n",
      "           9       0.96      0.93      0.94      1009\n",
      "\n",
      "   micro avg       0.96      0.96      0.96     10000\n",
      "   macro avg       0.96      0.96      0.96     10000\n",
      "weighted avg       0.96      0.96      0.96     10000\n",
      "\n",
      "[[ 964    0    1    2    0    4    6    1    1    1]\n",
      " [   0 1121    2    2    0    0    3    1    6    0]\n",
      " [   8    3  982    6    6    0    6   10   11    0]\n",
      " [   1    1   11  960    0    8    1   13   11    4]\n",
      " [   2    0    4    0  950    0    8    2    2   14]\n",
      " [   8    1    0   14    2  841   10    1   10    5]\n",
      " [   9    3    4    1   10    9  919    0    3    0]\n",
      " [   1    8   21    1    2    0    0  983    1   11]\n",
      " [   4    1    2   13    9   11   10   10  910    4]\n",
      " [   9    6    1    6   27    2    1   16    6  935]]\n",
      "Train on 60000 samples, validate on 10000 samples\n",
      "Epoch 1/20\n",
      "60000/60000 [==============================] - 4s 73us/step - loss: 1.3482 - acc: 0.6489 - val_loss: 0.5537 - val_acc: 0.8616\n",
      "Epoch 2/20\n",
      "60000/60000 [==============================] - 3s 43us/step - loss: 0.4541 - acc: 0.8771 - val_loss: 0.3641 - val_acc: 0.8983\n",
      "Epoch 3/20\n",
      "60000/60000 [==============================] - 3s 42us/step - loss: 0.3501 - acc: 0.9019 - val_loss: 0.3145 - val_acc: 0.9101\n",
      "Epoch 4/20\n",
      "60000/60000 [==============================] - 3s 46us/step - loss: 0.3066 - acc: 0.9127 - val_loss: 0.2825 - val_acc: 0.9189\n",
      "Epoch 5/20\n",
      "60000/60000 [==============================] - 3s 57us/step - loss: 0.2797 - acc: 0.9202 - val_loss: 0.2644 - val_acc: 0.9259\n",
      "Epoch 6/20\n",
      "60000/60000 [==============================] - 3s 44us/step - loss: 0.2586 - acc: 0.9262 - val_loss: 0.2413 - val_acc: 0.9336\n",
      "Epoch 7/20\n",
      "60000/60000 [==============================] - 3s 44us/step - loss: 0.2418 - acc: 0.9308 - val_loss: 0.2314 - val_acc: 0.9351\n",
      "Epoch 8/20\n",
      "60000/60000 [==============================] - 3s 46us/step - loss: 0.2272 - acc: 0.9349 - val_loss: 0.2202 - val_acc: 0.9379\n",
      "Epoch 9/20\n",
      "60000/60000 [==============================] - 3s 47us/step - loss: 0.2148 - acc: 0.9382 - val_loss: 0.2094 - val_acc: 0.9421\n",
      "Epoch 10/20\n",
      "60000/60000 [==============================] - 3s 46us/step - loss: 0.2034 - acc: 0.9420 - val_loss: 0.1978 - val_acc: 0.9438\n",
      "Epoch 11/20\n",
      "60000/60000 [==============================] - 3s 42us/step - loss: 0.1940 - acc: 0.9448 - val_loss: 0.1890 - val_acc: 0.9460\n",
      "Epoch 12/20\n",
      "60000/60000 [==============================] - 3s 45us/step - loss: 0.1847 - acc: 0.9467 - val_loss: 0.1833 - val_acc: 0.9463\n",
      "Epoch 13/20\n",
      "60000/60000 [==============================] - 3s 43us/step - loss: 0.1763 - acc: 0.9496 - val_loss: 0.1748 - val_acc: 0.9486\n",
      "Epoch 14/20\n",
      "60000/60000 [==============================] - 3s 43us/step - loss: 0.1690 - acc: 0.9516 - val_loss: 0.1724 - val_acc: 0.9491\n",
      "Epoch 15/20\n",
      "60000/60000 [==============================] - 3s 42us/step - loss: 0.1621 - acc: 0.9533 - val_loss: 0.1639 - val_acc: 0.9521\n",
      "Epoch 16/20\n",
      "60000/60000 [==============================] - 3s 42us/step - loss: 0.1560 - acc: 0.9553 - val_loss: 0.1602 - val_acc: 0.9533\n",
      "Epoch 17/20\n",
      "60000/60000 [==============================] - 3s 43us/step - loss: 0.1494 - acc: 0.9569 - val_loss: 0.1587 - val_acc: 0.9536\n",
      "Epoch 18/20\n",
      "60000/60000 [==============================] - 3s 43us/step - loss: 0.1437 - acc: 0.9588 - val_loss: 0.1501 - val_acc: 0.9545\n",
      "Epoch 19/20\n",
      "60000/60000 [==============================] - 3s 43us/step - loss: 0.1386 - acc: 0.9606 - val_loss: 0.1456 - val_acc: 0.9564\n",
      "Epoch 20/20\n",
      "60000/60000 [==============================] - 3s 44us/step - loss: 0.1337 - acc: 0.9615 - val_loss: 0.1475 - val_acc: 0.9560\n"
     ]
    },
    {
     "data": {
      "text/plain": [
       "42"
      ]
     },
     "execution_count": 69,
     "metadata": {},
     "output_type": "execute_result"
    },
    {
     "data": {
      "text/plain": [
       "24"
      ]
     },
     "execution_count": 69,
     "metadata": {},
     "output_type": "execute_result"
    },
    {
     "data": {
      "text/plain": [
       "1"
      ]
     },
     "execution_count": 69,
     "metadata": {},
     "output_type": "execute_result"
    },
    {
     "data": {
      "text/plain": [
       "14"
      ]
     },
     "execution_count": 69,
     "metadata": {},
     "output_type": "execute_result"
    },
    {
     "data": {
      "text/plain": [
       "2"
      ]
     },
     "execution_count": 69,
     "metadata": {},
     "output_type": "execute_result"
    },
    {
     "data": {
      "text/plain": [
       "[<matplotlib.lines.Line2D at 0x16049b34d68>]"
      ]
     },
     "execution_count": 69,
     "metadata": {},
     "output_type": "execute_result"
    },
    {
     "data": {
      "text/plain": [
       "[<matplotlib.lines.Line2D at 0x16049b172b0>]"
      ]
     },
     "execution_count": 69,
     "metadata": {},
     "output_type": "execute_result"
    },
    {
     "data": {
      "text/plain": [
       "Text(0.5,1,'model accuracy')"
      ]
     },
     "execution_count": 69,
     "metadata": {},
     "output_type": "execute_result"
    },
    {
     "data": {
      "text/plain": [
       "Text(0,0.5,'accuracy')"
      ]
     },
     "execution_count": 69,
     "metadata": {},
     "output_type": "execute_result"
    },
    {
     "data": {
      "text/plain": [
       "Text(0.5,0,'epoch')"
      ]
     },
     "execution_count": 69,
     "metadata": {},
     "output_type": "execute_result"
    },
    {
     "data": {
      "text/plain": [
       "<matplotlib.legend.Legend at 0x16043bf2780>"
      ]
     },
     "execution_count": 69,
     "metadata": {},
     "output_type": "execute_result"
    },
    {
     "data": {
      "text/plain": [
       "[<matplotlib.lines.Line2D at 0x16049b89cf8>]"
      ]
     },
     "execution_count": 69,
     "metadata": {},
     "output_type": "execute_result"
    },
    {
     "data": {
      "text/plain": [
       "[<matplotlib.lines.Line2D at 0x16049b91278>]"
      ]
     },
     "execution_count": 69,
     "metadata": {},
     "output_type": "execute_result"
    },
    {
     "data": {
      "text/plain": [
       "Text(0.5,1,'model loss')"
      ]
     },
     "execution_count": 69,
     "metadata": {},
     "output_type": "execute_result"
    },
    {
     "data": {
      "text/plain": [
       "Text(0,0.5,'loss')"
      ]
     },
     "execution_count": 69,
     "metadata": {},
     "output_type": "execute_result"
    },
    {
     "data": {
      "text/plain": [
       "Text(0.5,0,'epoch')"
      ]
     },
     "execution_count": 69,
     "metadata": {},
     "output_type": "execute_result"
    },
    {
     "data": {
      "text/plain": [
       "<matplotlib.legend.Legend at 0x16049b79710>"
      ]
     },
     "execution_count": 69,
     "metadata": {},
     "output_type": "execute_result"
    },
    {
     "name": "stdout",
     "output_type": "stream",
     "text": [
      "Analysis of results\n",
      "              precision    recall  f1-score   support\n",
      "\n",
      "           0       0.96      0.99      0.97       980\n",
      "           1       0.98      0.99      0.98      1135\n",
      "           2       0.95      0.96      0.96      1032\n",
      "           3       0.91      0.97      0.94      1010\n",
      "           4       0.95      0.95      0.95       982\n",
      "           5       0.97      0.93      0.95       892\n",
      "           6       0.96      0.96      0.96       958\n",
      "           7       0.96      0.95      0.95      1028\n",
      "           8       0.97      0.92      0.95       974\n",
      "           9       0.95      0.93      0.94      1009\n",
      "\n",
      "   micro avg       0.96      0.96      0.96     10000\n",
      "   macro avg       0.96      0.96      0.96     10000\n",
      "weighted avg       0.96      0.96      0.96     10000\n",
      "\n",
      "[[ 966    0    1    3    0    4    4    1    1    0]\n",
      " [   0 1120    4    2    1    0    4    1    3    0]\n",
      " [   6    1  991    9    7    1    5    8    3    1]\n",
      " [   1    0    5  982    0    3    0    8    6    5]\n",
      " [   2    1    4    0  936    0   10    2    2   25]\n",
      " [   8    2    2   27    3  831    9    2    5    3]\n",
      " [   9    3    6    2    7    8  921    0    2    0]\n",
      " [   1   10   21    5    3    2    0  974    0   12]\n",
      " [   4    1    7   30    6    6    8    8  900    4]\n",
      " [   8    9    1   16   21    4    1    8    2  939]]\n",
      "Train on 60000 samples, validate on 10000 samples\n",
      "Epoch 1/20\n",
      "60000/60000 [==============================] - 5s 75us/step - loss: 1.4415 - acc: 0.5849 - val_loss: 0.6565 - val_acc: 0.8320\n",
      "Epoch 2/20\n",
      "60000/60000 [==============================] - 3s 44us/step - loss: 0.5160 - acc: 0.8579 - val_loss: 0.4054 - val_acc: 0.8866\n",
      "Epoch 3/20\n",
      "60000/60000 [==============================] - 3s 47us/step - loss: 0.3766 - acc: 0.8931 - val_loss: 0.3301 - val_acc: 0.9059\n",
      "Epoch 4/20\n",
      "60000/60000 [==============================] - 3s 44us/step - loss: 0.3207 - acc: 0.9076 - val_loss: 0.2947 - val_acc: 0.9171\n",
      "Epoch 5/20\n",
      "60000/60000 [==============================] - 3s 43us/step - loss: 0.2885 - acc: 0.9169 - val_loss: 0.2698 - val_acc: 0.9242\n",
      "Epoch 6/20\n",
      "60000/60000 [==============================] - 3s 43us/step - loss: 0.2650 - acc: 0.9239 - val_loss: 0.2558 - val_acc: 0.9287\n",
      "Epoch 7/20\n",
      "60000/60000 [==============================] - 3s 43us/step - loss: 0.2469 - acc: 0.9290 - val_loss: 0.2325 - val_acc: 0.9354\n",
      "Epoch 8/20\n",
      "60000/60000 [==============================] - 3s 43us/step - loss: 0.2320 - acc: 0.9333 - val_loss: 0.2220 - val_acc: 0.9365\n",
      "Epoch 9/20\n",
      "60000/60000 [==============================] - 3s 44us/step - loss: 0.2185 - acc: 0.9371 - val_loss: 0.2115 - val_acc: 0.9394\n",
      "Epoch 10/20\n",
      "60000/60000 [==============================] - 3s 43us/step - loss: 0.2071 - acc: 0.9408 - val_loss: 0.2002 - val_acc: 0.9428\n",
      "Epoch 11/20\n",
      "60000/60000 [==============================] - 3s 44us/step - loss: 0.1965 - acc: 0.9437 - val_loss: 0.1910 - val_acc: 0.9457\n",
      "Epoch 12/20\n",
      "60000/60000 [==============================] - 3s 43us/step - loss: 0.1867 - acc: 0.9465 - val_loss: 0.1845 - val_acc: 0.9472\n",
      "Epoch 13/20\n",
      "60000/60000 [==============================] - 3s 43us/step - loss: 0.1784 - acc: 0.9485 - val_loss: 0.1757 - val_acc: 0.9494\n",
      "Epoch 14/20\n",
      "60000/60000 [==============================] - 3s 43us/step - loss: 0.1707 - acc: 0.9506 - val_loss: 0.1722 - val_acc: 0.9507\n",
      "Epoch 15/20\n",
      "60000/60000 [==============================] - 3s 44us/step - loss: 0.1632 - acc: 0.9530 - val_loss: 0.1648 - val_acc: 0.9519\n",
      "Epoch 16/20\n",
      "60000/60000 [==============================] - 3s 47us/step - loss: 0.1564 - acc: 0.9546 - val_loss: 0.1606 - val_acc: 0.9531\n",
      "Epoch 17/20\n",
      "60000/60000 [==============================] - 3s 47us/step - loss: 0.1502 - acc: 0.9564 - val_loss: 0.1571 - val_acc: 0.9551\n",
      "Epoch 18/20\n",
      "60000/60000 [==============================] - 3s 46us/step - loss: 0.1445 - acc: 0.9587 - val_loss: 0.1489 - val_acc: 0.9565\n",
      "Epoch 19/20\n",
      "60000/60000 [==============================] - 3s 44us/step - loss: 0.1390 - acc: 0.9599 - val_loss: 0.1435 - val_acc: 0.9581\n",
      "Epoch 20/20\n",
      "60000/60000 [==============================] - 3s 43us/step - loss: 0.1337 - acc: 0.9618 - val_loss: 0.1420 - val_acc: 0.9567\n"
     ]
    },
    {
     "data": {
      "text/plain": [
       "42"
      ]
     },
     "execution_count": 69,
     "metadata": {},
     "output_type": "execute_result"
    },
    {
     "data": {
      "text/plain": [
       "24"
      ]
     },
     "execution_count": 69,
     "metadata": {},
     "output_type": "execute_result"
    },
    {
     "data": {
      "text/plain": [
       "1"
      ]
     },
     "execution_count": 69,
     "metadata": {},
     "output_type": "execute_result"
    },
    {
     "data": {
      "text/plain": [
       "15"
      ]
     },
     "execution_count": 69,
     "metadata": {},
     "output_type": "execute_result"
    },
    {
     "data": {
      "text/plain": [
       "2"
      ]
     },
     "execution_count": 69,
     "metadata": {},
     "output_type": "execute_result"
    },
    {
     "data": {
      "text/plain": [
       "[<matplotlib.lines.Line2D at 0x16049eb3f98>]"
      ]
     },
     "execution_count": 69,
     "metadata": {},
     "output_type": "execute_result"
    },
    {
     "data": {
      "text/plain": [
       "[<matplotlib.lines.Line2D at 0x16049ec4470>]"
      ]
     },
     "execution_count": 69,
     "metadata": {},
     "output_type": "execute_result"
    },
    {
     "data": {
      "text/plain": [
       "Text(0.5,1,'model accuracy')"
      ]
     },
     "execution_count": 69,
     "metadata": {},
     "output_type": "execute_result"
    },
    {
     "data": {
      "text/plain": [
       "Text(0,0.5,'accuracy')"
      ]
     },
     "execution_count": 69,
     "metadata": {},
     "output_type": "execute_result"
    },
    {
     "data": {
      "text/plain": [
       "Text(0.5,0,'epoch')"
      ]
     },
     "execution_count": 69,
     "metadata": {},
     "output_type": "execute_result"
    },
    {
     "data": {
      "text/plain": [
       "<matplotlib.legend.Legend at 0x16049ea4a90>"
      ]
     },
     "execution_count": 69,
     "metadata": {},
     "output_type": "execute_result"
    },
    {
     "data": {
      "text/plain": [
       "[<matplotlib.lines.Line2D at 0x16049f49898>]"
      ]
     },
     "execution_count": 69,
     "metadata": {},
     "output_type": "execute_result"
    },
    {
     "data": {
      "text/plain": [
       "[<matplotlib.lines.Line2D at 0x16049f499e8>]"
      ]
     },
     "execution_count": 69,
     "metadata": {},
     "output_type": "execute_result"
    },
    {
     "data": {
      "text/plain": [
       "Text(0.5,1,'model loss')"
      ]
     },
     "execution_count": 69,
     "metadata": {},
     "output_type": "execute_result"
    },
    {
     "data": {
      "text/plain": [
       "Text(0,0.5,'loss')"
      ]
     },
     "execution_count": 69,
     "metadata": {},
     "output_type": "execute_result"
    },
    {
     "data": {
      "text/plain": [
       "Text(0.5,0,'epoch')"
      ]
     },
     "execution_count": 69,
     "metadata": {},
     "output_type": "execute_result"
    },
    {
     "data": {
      "text/plain": [
       "<matplotlib.legend.Legend at 0x16049f3a2b0>"
      ]
     },
     "execution_count": 69,
     "metadata": {},
     "output_type": "execute_result"
    },
    {
     "name": "stdout",
     "output_type": "stream",
     "text": [
      "Analysis of results\n",
      "              precision    recall  f1-score   support\n",
      "\n",
      "           0       0.96      0.99      0.97       980\n",
      "           1       0.97      0.99      0.98      1135\n",
      "           2       0.95      0.96      0.96      1032\n",
      "           3       0.96      0.94      0.95      1010\n",
      "           4       0.96      0.96      0.96       982\n",
      "           5       0.96      0.93      0.94       892\n",
      "           6       0.95      0.96      0.95       958\n",
      "           7       0.97      0.94      0.96      1028\n",
      "           8       0.95      0.95      0.95       974\n",
      "           9       0.94      0.95      0.94      1009\n",
      "\n",
      "   micro avg       0.96      0.96      0.96     10000\n",
      "   macro avg       0.96      0.96      0.96     10000\n",
      "weighted avg       0.96      0.96      0.96     10000\n",
      "\n",
      "[[ 968    0    0    1    0    3    6    1    1    0]\n",
      " [   0 1118    3    2    0    1    4    1    6    0]\n",
      " [  10    3  988    3    5    1    9    4    8    1]\n",
      " [   2    1   12  954    0   12    0    8   14    7]\n",
      " [   1    1    6    0  939    1   10    1    2   21]\n",
      " [   9    2    0   16    2  829   13    0   14    7]\n",
      " [   8    3    5    0    9    8  921    1    3    0]\n",
      " [   1   12   16    3    4    1    0  971    0   20]\n",
      " [   6    2    3    9    5    5    9    4  924    7]\n",
      " [   6    7    2    8   17    3    1    5    5  955]]\n",
      "Train on 60000 samples, validate on 10000 samples\n",
      "Epoch 1/20\n",
      "60000/60000 [==============================] - 5s 79us/step - loss: 1.4010 - acc: 0.6517 - val_loss: 0.6267 - val_acc: 0.8394\n",
      "Epoch 2/20\n",
      "60000/60000 [==============================] - 3s 52us/step - loss: 0.4965 - acc: 0.8674 - val_loss: 0.3852 - val_acc: 0.8951\n",
      "Epoch 3/20\n",
      "60000/60000 [==============================] - 3s 48us/step - loss: 0.3693 - acc: 0.8971 - val_loss: 0.3232 - val_acc: 0.9102\n",
      "Epoch 4/20\n",
      "60000/60000 [==============================] - 3s 49us/step - loss: 0.3218 - acc: 0.9083 - val_loss: 0.2931 - val_acc: 0.9179\n",
      "Epoch 5/20\n",
      "60000/60000 [==============================] - 3s 48us/step - loss: 0.2931 - acc: 0.9164 - val_loss: 0.2697 - val_acc: 0.9227\n",
      "Epoch 6/20\n",
      "60000/60000 [==============================] - 3s 44us/step - loss: 0.2718 - acc: 0.9223 - val_loss: 0.2527 - val_acc: 0.9288\n",
      "Epoch 7/20\n",
      "60000/60000 [==============================] - 3s 51us/step - loss: 0.2548 - acc: 0.9270 - val_loss: 0.2376 - val_acc: 0.9326\n",
      "Epoch 8/20\n",
      "60000/60000 [==============================] - 3s 46us/step - loss: 0.2400 - acc: 0.9316 - val_loss: 0.2260 - val_acc: 0.9351\n",
      "Epoch 9/20\n",
      "60000/60000 [==============================] - 3s 50us/step - loss: 0.2266 - acc: 0.9351 - val_loss: 0.2202 - val_acc: 0.9367\n",
      "Epoch 10/20\n",
      "60000/60000 [==============================] - 3s 47us/step - loss: 0.2147 - acc: 0.9387 - val_loss: 0.2080 - val_acc: 0.9409\n",
      "Epoch 11/20\n",
      "60000/60000 [==============================] - 3s 46us/step - loss: 0.2046 - acc: 0.9412 - val_loss: 0.2012 - val_acc: 0.9422\n",
      "Epoch 12/20\n",
      "60000/60000 [==============================] - 3s 50us/step - loss: 0.1947 - acc: 0.9434 - val_loss: 0.1908 - val_acc: 0.9458\n",
      "Epoch 13/20\n",
      "60000/60000 [==============================] - 3s 44us/step - loss: 0.1855 - acc: 0.9465 - val_loss: 0.1843 - val_acc: 0.9466\n",
      "Epoch 14/20\n",
      "60000/60000 [==============================] - 3s 46us/step - loss: 0.1772 - acc: 0.9490 - val_loss: 0.1744 - val_acc: 0.9495\n",
      "Epoch 15/20\n",
      "60000/60000 [==============================] - 3s 46us/step - loss: 0.1697 - acc: 0.9509 - val_loss: 0.1740 - val_acc: 0.9481\n",
      "Epoch 16/20\n",
      "60000/60000 [==============================] - 3s 47us/step - loss: 0.1625 - acc: 0.9534 - val_loss: 0.1607 - val_acc: 0.9523\n",
      "Epoch 17/20\n",
      "60000/60000 [==============================] - 3s 44us/step - loss: 0.1562 - acc: 0.9546 - val_loss: 0.1574 - val_acc: 0.9532\n",
      "Epoch 18/20\n",
      "60000/60000 [==============================] - 3s 48us/step - loss: 0.1502 - acc: 0.9564 - val_loss: 0.1507 - val_acc: 0.9554\n",
      "Epoch 19/20\n",
      "60000/60000 [==============================] - 5s 77us/step - loss: 0.1444 - acc: 0.9579 - val_loss: 0.1486 - val_acc: 0.9558\n",
      "Epoch 20/20\n",
      "60000/60000 [==============================] - 3s 52us/step - loss: 0.1394 - acc: 0.9598 - val_loss: 0.1449 - val_acc: 0.9570\n"
     ]
    },
    {
     "data": {
      "text/plain": [
       "42"
      ]
     },
     "execution_count": 69,
     "metadata": {},
     "output_type": "execute_result"
    },
    {
     "data": {
      "text/plain": [
       "24"
      ]
     },
     "execution_count": 69,
     "metadata": {},
     "output_type": "execute_result"
    },
    {
     "data": {
      "text/plain": [
       "1"
      ]
     },
     "execution_count": 69,
     "metadata": {},
     "output_type": "execute_result"
    },
    {
     "data": {
      "text/plain": [
       "14"
      ]
     },
     "execution_count": 69,
     "metadata": {},
     "output_type": "execute_result"
    },
    {
     "data": {
      "text/plain": [
       "2"
      ]
     },
     "execution_count": 69,
     "metadata": {},
     "output_type": "execute_result"
    },
    {
     "data": {
      "text/plain": [
       "[<matplotlib.lines.Line2D at 0x1604a2b91d0>]"
      ]
     },
     "execution_count": 69,
     "metadata": {},
     "output_type": "execute_result"
    },
    {
     "data": {
      "text/plain": [
       "[<matplotlib.lines.Line2D at 0x1604a2b9668>]"
      ]
     },
     "execution_count": 69,
     "metadata": {},
     "output_type": "execute_result"
    },
    {
     "data": {
      "text/plain": [
       "Text(0.5,1,'model accuracy')"
      ]
     },
     "execution_count": 69,
     "metadata": {},
     "output_type": "execute_result"
    },
    {
     "data": {
      "text/plain": [
       "Text(0,0.5,'accuracy')"
      ]
     },
     "execution_count": 69,
     "metadata": {},
     "output_type": "execute_result"
    },
    {
     "data": {
      "text/plain": [
       "Text(0.5,0,'epoch')"
      ]
     },
     "execution_count": 69,
     "metadata": {},
     "output_type": "execute_result"
    },
    {
     "data": {
      "text/plain": [
       "<matplotlib.legend.Legend at 0x1604a27cba8>"
      ]
     },
     "execution_count": 69,
     "metadata": {},
     "output_type": "execute_result"
    },
    {
     "data": {
      "text/plain": [
       "[<matplotlib.lines.Line2D at 0x1604a310160>]"
      ]
     },
     "execution_count": 69,
     "metadata": {},
     "output_type": "execute_result"
    },
    {
     "data": {
      "text/plain": [
       "[<matplotlib.lines.Line2D at 0x1604a310710>]"
      ]
     },
     "execution_count": 69,
     "metadata": {},
     "output_type": "execute_result"
    },
    {
     "data": {
      "text/plain": [
       "Text(0.5,1,'model loss')"
      ]
     },
     "execution_count": 69,
     "metadata": {},
     "output_type": "execute_result"
    },
    {
     "data": {
      "text/plain": [
       "Text(0,0.5,'loss')"
      ]
     },
     "execution_count": 69,
     "metadata": {},
     "output_type": "execute_result"
    },
    {
     "data": {
      "text/plain": [
       "Text(0.5,0,'epoch')"
      ]
     },
     "execution_count": 69,
     "metadata": {},
     "output_type": "execute_result"
    },
    {
     "data": {
      "text/plain": [
       "<matplotlib.legend.Legend at 0x1604a2f8b38>"
      ]
     },
     "execution_count": 69,
     "metadata": {},
     "output_type": "execute_result"
    },
    {
     "name": "stdout",
     "output_type": "stream",
     "text": [
      "Analysis of results\n",
      "              precision    recall  f1-score   support\n",
      "\n",
      "           0       0.96      0.98      0.97       980\n",
      "           1       0.98      0.98      0.98      1135\n",
      "           2       0.96      0.95      0.96      1032\n",
      "           3       0.95      0.96      0.96      1010\n",
      "           4       0.94      0.97      0.96       982\n",
      "           5       0.96      0.94      0.95       892\n",
      "           6       0.96      0.96      0.96       958\n",
      "           7       0.96      0.95      0.95      1028\n",
      "           8       0.94      0.95      0.94       974\n",
      "           9       0.96      0.92      0.94      1009\n",
      "\n",
      "   micro avg       0.96      0.96      0.96     10000\n",
      "   macro avg       0.96      0.96      0.96     10000\n",
      "weighted avg       0.96      0.96      0.96     10000\n",
      "\n",
      "[[ 960    0    0    2    0    5    9    2    1    1]\n",
      " [   0 1110    3    2    0    0    4    2   14    0]\n",
      " [   6    2  984    7    6    1    6   10   10    0]\n",
      " [   1    0    6  973    0   10    0    8   10    2]\n",
      " [   1    0    9    0  952    0    3    2    2   13]\n",
      " [   9    1    0   14    3  836   11    3   10    5]\n",
      " [   9    3    1    1    6    9  924    0    5    0]\n",
      " [   2    7   18    5    4    0    0  975    4   13]\n",
      " [   4    1    3   11    5    8    7    5  927    3]\n",
      " [   9    7    1    9   34    3    0    9    8  929]]\n",
      "Train on 60000 samples, validate on 10000 samples\n",
      "Epoch 1/20\n",
      "60000/60000 [==============================] - 5s 79us/step - loss: 1.4594 - acc: 0.6106 - val_loss: 0.6244 - val_acc: 0.8392\n",
      "Epoch 2/20\n",
      "60000/60000 [==============================] - 3s 47us/step - loss: 0.4837 - acc: 0.8692 - val_loss: 0.3836 - val_acc: 0.8959\n",
      "Epoch 3/20\n",
      "60000/60000 [==============================] - 3s 52us/step - loss: 0.3635 - acc: 0.8957 - val_loss: 0.3255 - val_acc: 0.9077\n",
      "Epoch 4/20\n",
      "60000/60000 [==============================] - 3s 46us/step - loss: 0.3188 - acc: 0.9077 - val_loss: 0.2940 - val_acc: 0.9160\n",
      "Epoch 5/20\n",
      "60000/60000 [==============================] - 3s 50us/step - loss: 0.2910 - acc: 0.9159 - val_loss: 0.2682 - val_acc: 0.9235\n",
      "Epoch 6/20\n",
      "60000/60000 [==============================] - 3s 48us/step - loss: 0.2687 - acc: 0.9215 - val_loss: 0.2495 - val_acc: 0.9297\n",
      "Epoch 7/20\n",
      "60000/60000 [==============================] - 3s 45us/step - loss: 0.2508 - acc: 0.9278 - val_loss: 0.2363 - val_acc: 0.9321\n",
      "Epoch 8/20\n",
      "60000/60000 [==============================] - 3s 46us/step - loss: 0.2354 - acc: 0.9321 - val_loss: 0.2236 - val_acc: 0.9364\n",
      "Epoch 9/20\n",
      "60000/60000 [==============================] - 3s 44us/step - loss: 0.2220 - acc: 0.9357 - val_loss: 0.2138 - val_acc: 0.9387\n",
      "Epoch 10/20\n",
      "60000/60000 [==============================] - 3s 45us/step - loss: 0.2100 - acc: 0.9389 - val_loss: 0.2052 - val_acc: 0.9401\n",
      "Epoch 11/20\n",
      "60000/60000 [==============================] - 3s 44us/step - loss: 0.1996 - acc: 0.9420 - val_loss: 0.1972 - val_acc: 0.9415\n",
      "Epoch 12/20\n",
      "60000/60000 [==============================] - 3s 45us/step - loss: 0.1901 - acc: 0.9446 - val_loss: 0.1865 - val_acc: 0.9449\n",
      "Epoch 13/20\n",
      "60000/60000 [==============================] - 3s 45us/step - loss: 0.1812 - acc: 0.9474 - val_loss: 0.1810 - val_acc: 0.9468\n",
      "Epoch 14/20\n",
      "60000/60000 [==============================] - 3s 45us/step - loss: 0.1735 - acc: 0.9494 - val_loss: 0.1725 - val_acc: 0.9494\n",
      "Epoch 15/20\n",
      "60000/60000 [==============================] - 3s 45us/step - loss: 0.1659 - acc: 0.9520 - val_loss: 0.1662 - val_acc: 0.9509\n",
      "Epoch 16/20\n",
      "60000/60000 [==============================] - 3s 45us/step - loss: 0.1588 - acc: 0.9537 - val_loss: 0.1645 - val_acc: 0.9519\n",
      "Epoch 17/20\n",
      "60000/60000 [==============================] - 3s 45us/step - loss: 0.1528 - acc: 0.9555 - val_loss: 0.1590 - val_acc: 0.9529\n",
      "Epoch 18/20\n",
      "60000/60000 [==============================] - 3s 45us/step - loss: 0.1473 - acc: 0.9571 - val_loss: 0.1516 - val_acc: 0.9551\n",
      "Epoch 19/20\n",
      "60000/60000 [==============================] - 3s 45us/step - loss: 0.1415 - acc: 0.9589 - val_loss: 0.1478 - val_acc: 0.9554\n",
      "Epoch 20/20\n",
      "60000/60000 [==============================] - 3s 44us/step - loss: 0.1367 - acc: 0.9606 - val_loss: 0.1423 - val_acc: 0.9565\n"
     ]
    },
    {
     "data": {
      "text/plain": [
       "42"
      ]
     },
     "execution_count": 69,
     "metadata": {},
     "output_type": "execute_result"
    },
    {
     "data": {
      "text/plain": [
       "23"
      ]
     },
     "execution_count": 69,
     "metadata": {},
     "output_type": "execute_result"
    },
    {
     "data": {
      "text/plain": [
       "1"
      ]
     },
     "execution_count": 69,
     "metadata": {},
     "output_type": "execute_result"
    },
    {
     "data": {
      "text/plain": [
       "15"
      ]
     },
     "execution_count": 69,
     "metadata": {},
     "output_type": "execute_result"
    },
    {
     "data": {
      "text/plain": [
       "2"
      ]
     },
     "execution_count": 69,
     "metadata": {},
     "output_type": "execute_result"
    },
    {
     "data": {
      "text/plain": [
       "[<matplotlib.lines.Line2D at 0x1605138ea20>]"
      ]
     },
     "execution_count": 69,
     "metadata": {},
     "output_type": "execute_result"
    },
    {
     "data": {
      "text/plain": [
       "[<matplotlib.lines.Line2D at 0x1605138eeb8>]"
      ]
     },
     "execution_count": 69,
     "metadata": {},
     "output_type": "execute_result"
    },
    {
     "data": {
      "text/plain": [
       "Text(0.5,1,'model accuracy')"
      ]
     },
     "execution_count": 69,
     "metadata": {},
     "output_type": "execute_result"
    },
    {
     "data": {
      "text/plain": [
       "Text(0,0.5,'accuracy')"
      ]
     },
     "execution_count": 69,
     "metadata": {},
     "output_type": "execute_result"
    },
    {
     "data": {
      "text/plain": [
       "Text(0.5,0,'epoch')"
      ]
     },
     "execution_count": 69,
     "metadata": {},
     "output_type": "execute_result"
    },
    {
     "data": {
      "text/plain": [
       "<matplotlib.legend.Legend at 0x160513b9518>"
      ]
     },
     "execution_count": 69,
     "metadata": {},
     "output_type": "execute_result"
    },
    {
     "data": {
      "text/plain": [
       "[<matplotlib.lines.Line2D at 0x1605140ae48>]"
      ]
     },
     "execution_count": 69,
     "metadata": {},
     "output_type": "execute_result"
    },
    {
     "data": {
      "text/plain": [
       "[<matplotlib.lines.Line2D at 0x160514133c8>]"
      ]
     },
     "execution_count": 69,
     "metadata": {},
     "output_type": "execute_result"
    },
    {
     "data": {
      "text/plain": [
       "Text(0.5,1,'model loss')"
      ]
     },
     "execution_count": 69,
     "metadata": {},
     "output_type": "execute_result"
    },
    {
     "data": {
      "text/plain": [
       "Text(0,0.5,'loss')"
      ]
     },
     "execution_count": 69,
     "metadata": {},
     "output_type": "execute_result"
    },
    {
     "data": {
      "text/plain": [
       "Text(0.5,0,'epoch')"
      ]
     },
     "execution_count": 69,
     "metadata": {},
     "output_type": "execute_result"
    },
    {
     "data": {
      "text/plain": [
       "<matplotlib.legend.Legend at 0x160513fc860>"
      ]
     },
     "execution_count": 69,
     "metadata": {},
     "output_type": "execute_result"
    },
    {
     "name": "stdout",
     "output_type": "stream",
     "text": [
      "Analysis of results\n",
      "              precision    recall  f1-score   support\n",
      "\n",
      "           0       0.96      0.98      0.97       980\n",
      "           1       0.97      0.98      0.98      1135\n",
      "           2       0.95      0.96      0.95      1032\n",
      "           3       0.95      0.95      0.95      1010\n",
      "           4       0.95      0.96      0.96       982\n",
      "           5       0.95      0.93      0.94       892\n",
      "           6       0.96      0.96      0.96       958\n",
      "           7       0.96      0.95      0.96      1028\n",
      "           8       0.94      0.95      0.94       974\n",
      "           9       0.96      0.93      0.94      1009\n",
      "\n",
      "   micro avg       0.96      0.96      0.96     10000\n",
      "   macro avg       0.96      0.96      0.96     10000\n",
      "weighted avg       0.96      0.96      0.96     10000\n",
      "\n",
      "[[ 964    0    1    0    0    4    5    3    2    1]\n",
      " [   0 1116    3    2    0    1    3    2    8    0]\n",
      " [   7    3  986    9    6    1    4   10    6    0]\n",
      " [   0    2   14  958    0   12    0   11   10    3]\n",
      " [   1    0    4    0  945    0    9    2    2   19]\n",
      " [   8    1    2   13    5  831    8    2   18    4]\n",
      " [   9    3    1    0    8   10  921    0    6    0]\n",
      " [   1   10   20    3    1    1    0  977    3   12]\n",
      " [   3    2    2   11    6    7    9    5  928    1]\n",
      " [   6    8    2   10   25    4    1    6    8  939]]\n",
      "Train on 60000 samples, validate on 10000 samples\n",
      "Epoch 1/20\n",
      "60000/60000 [==============================] - 5s 80us/step - loss: 1.4214 - acc: 0.6273 - val_loss: 0.6044 - val_acc: 0.8445\n",
      "Epoch 2/20\n",
      "60000/60000 [==============================] - 3s 49us/step - loss: 0.4858 - acc: 0.8664 - val_loss: 0.3889 - val_acc: 0.8894\n",
      "Epoch 3/20\n",
      "60000/60000 [==============================] - 4s 62us/step - loss: 0.3709 - acc: 0.8937 - val_loss: 0.3254 - val_acc: 0.9049\n",
      "Epoch 4/20\n",
      "60000/60000 [==============================] - 4s 63us/step - loss: 0.3257 - acc: 0.9059 - val_loss: 0.2920 - val_acc: 0.9150\n",
      "Epoch 5/20\n",
      "60000/60000 [==============================] - 3s 58us/step - loss: 0.2961 - acc: 0.9142 - val_loss: 0.2719 - val_acc: 0.9205\n",
      "Epoch 6/20\n",
      "60000/60000 [==============================] - 3s 56us/step - loss: 0.2733 - acc: 0.9209 - val_loss: 0.2540 - val_acc: 0.9260\n",
      "Epoch 7/20\n",
      "60000/60000 [==============================] - 3s 55us/step - loss: 0.2543 - acc: 0.9257 - val_loss: 0.2390 - val_acc: 0.9302\n",
      "Epoch 8/20\n",
      "60000/60000 [==============================] - 3s 54us/step - loss: 0.2387 - acc: 0.9303 - val_loss: 0.2281 - val_acc: 0.9340\n",
      "Epoch 9/20\n",
      "60000/60000 [==============================] - 4s 59us/step - loss: 0.2245 - acc: 0.9345 - val_loss: 0.2167 - val_acc: 0.9367\n",
      "Epoch 10/20\n",
      "60000/60000 [==============================] - 4s 60us/step - loss: 0.2120 - acc: 0.9389 - val_loss: 0.2028 - val_acc: 0.9405\n",
      "Epoch 11/20\n",
      "60000/60000 [==============================] - 4s 59us/step - loss: 0.2008 - acc: 0.9420 - val_loss: 0.1951 - val_acc: 0.9426\n",
      "Epoch 12/20\n",
      "60000/60000 [==============================] - 3s 57us/step - loss: 0.1905 - acc: 0.9447 - val_loss: 0.1866 - val_acc: 0.9454\n",
      "Epoch 13/20\n",
      "60000/60000 [==============================] - 3s 56us/step - loss: 0.1810 - acc: 0.9482 - val_loss: 0.1781 - val_acc: 0.9472\n",
      "Epoch 14/20\n",
      "60000/60000 [==============================] - 3s 58us/step - loss: 0.1727 - acc: 0.9505 - val_loss: 0.1695 - val_acc: 0.9503\n",
      "Epoch 15/20\n",
      "60000/60000 [==============================] - 3s 54us/step - loss: 0.1652 - acc: 0.9524 - val_loss: 0.1639 - val_acc: 0.9521\n",
      "Epoch 16/20\n",
      "60000/60000 [==============================] - 3s 56us/step - loss: 0.1578 - acc: 0.9542 - val_loss: 0.1585 - val_acc: 0.9527\n",
      "Epoch 17/20\n",
      "60000/60000 [==============================] - 4s 59us/step - loss: 0.1515 - acc: 0.9564 - val_loss: 0.1532 - val_acc: 0.9545\n",
      "Epoch 18/20\n",
      "60000/60000 [==============================] - 4s 59us/step - loss: 0.1453 - acc: 0.9582 - val_loss: 0.1482 - val_acc: 0.9553\n",
      "Epoch 19/20\n",
      "60000/60000 [==============================] - 3s 52us/step - loss: 0.1398 - acc: 0.9599 - val_loss: 0.1446 - val_acc: 0.9571\n",
      "Epoch 20/20\n",
      "60000/60000 [==============================] - 3s 57us/step - loss: 0.1346 - acc: 0.9615 - val_loss: 0.1408 - val_acc: 0.9570\n"
     ]
    },
    {
     "data": {
      "text/plain": [
       "42"
      ]
     },
     "execution_count": 69,
     "metadata": {},
     "output_type": "execute_result"
    },
    {
     "data": {
      "text/plain": [
       "24"
      ]
     },
     "execution_count": 69,
     "metadata": {},
     "output_type": "execute_result"
    },
    {
     "data": {
      "text/plain": [
       "1"
      ]
     },
     "execution_count": 69,
     "metadata": {},
     "output_type": "execute_result"
    },
    {
     "data": {
      "text/plain": [
       "14"
      ]
     },
     "execution_count": 69,
     "metadata": {},
     "output_type": "execute_result"
    },
    {
     "data": {
      "text/plain": [
       "2"
      ]
     },
     "execution_count": 69,
     "metadata": {},
     "output_type": "execute_result"
    },
    {
     "data": {
      "text/plain": [
       "[<matplotlib.lines.Line2D at 0x16052740780>]"
      ]
     },
     "execution_count": 69,
     "metadata": {},
     "output_type": "execute_result"
    },
    {
     "data": {
      "text/plain": [
       "[<matplotlib.lines.Line2D at 0x16052740c18>]"
      ]
     },
     "execution_count": 69,
     "metadata": {},
     "output_type": "execute_result"
    },
    {
     "data": {
      "text/plain": [
       "Text(0.5,1,'model accuracy')"
      ]
     },
     "execution_count": 69,
     "metadata": {},
     "output_type": "execute_result"
    },
    {
     "data": {
      "text/plain": [
       "Text(0,0.5,'accuracy')"
      ]
     },
     "execution_count": 69,
     "metadata": {},
     "output_type": "execute_result"
    },
    {
     "data": {
      "text/plain": [
       "Text(0.5,0,'epoch')"
      ]
     },
     "execution_count": 69,
     "metadata": {},
     "output_type": "execute_result"
    },
    {
     "data": {
      "text/plain": [
       "<matplotlib.legend.Legend at 0x16051742278>"
      ]
     },
     "execution_count": 69,
     "metadata": {},
     "output_type": "execute_result"
    },
    {
     "data": {
      "text/plain": [
       "[<matplotlib.lines.Line2D at 0x16052799710>]"
      ]
     },
     "execution_count": 69,
     "metadata": {},
     "output_type": "execute_result"
    },
    {
     "data": {
      "text/plain": [
       "[<matplotlib.lines.Line2D at 0x16052799860>]"
      ]
     },
     "execution_count": 69,
     "metadata": {},
     "output_type": "execute_result"
    },
    {
     "data": {
      "text/plain": [
       "Text(0.5,1,'model loss')"
      ]
     },
     "execution_count": 69,
     "metadata": {},
     "output_type": "execute_result"
    },
    {
     "data": {
      "text/plain": [
       "Text(0,0.5,'loss')"
      ]
     },
     "execution_count": 69,
     "metadata": {},
     "output_type": "execute_result"
    },
    {
     "data": {
      "text/plain": [
       "Text(0.5,0,'epoch')"
      ]
     },
     "execution_count": 69,
     "metadata": {},
     "output_type": "execute_result"
    },
    {
     "data": {
      "text/plain": [
       "<matplotlib.legend.Legend at 0x16052789128>"
      ]
     },
     "execution_count": 69,
     "metadata": {},
     "output_type": "execute_result"
    },
    {
     "name": "stdout",
     "output_type": "stream",
     "text": [
      "Analysis of results\n",
      "              precision    recall  f1-score   support\n",
      "\n",
      "           0       0.97      0.99      0.98       980\n",
      "           1       0.98      0.98      0.98      1135\n",
      "           2       0.94      0.97      0.96      1032\n",
      "           3       0.94      0.95      0.94      1010\n",
      "           4       0.95      0.96      0.96       982\n",
      "           5       0.95      0.94      0.95       892\n",
      "           6       0.96      0.96      0.96       958\n",
      "           7       0.96      0.95      0.96      1028\n",
      "           8       0.95      0.92      0.94       974\n",
      "           9       0.96      0.93      0.94      1009\n",
      "\n",
      "   micro avg       0.96      0.96      0.96     10000\n",
      "   macro avg       0.96      0.96      0.96     10000\n",
      "weighted avg       0.96      0.96      0.96     10000\n",
      "\n",
      "[[ 966    0    1    3    0    3    4    2    1    0]\n",
      " [   0 1115    3    2    0    1    3    2    9    0]\n",
      " [   5    1  998    8    5    0    2    7    4    2]\n",
      " [   0    0   15  960    0    9    1   10   13    2]\n",
      " [   1    0    7    0  947    0    7    1    2   17]\n",
      " [   7    2    0   15    4  840   10    2    7    5]\n",
      " [   7    3    3    1    8   10  924    0    2    0]\n",
      " [   0    8   19    2    2    1    0  981    3   12]\n",
      " [   6    1    9   20    5   13   10    6  899    5]\n",
      " [   5    6    2   11   26    5    1   11    2  940]]\n",
      "Train on 60000 samples, validate on 10000 samples\n",
      "Epoch 1/20\n",
      "60000/60000 [==============================] - 5s 85us/step - loss: 1.3859 - acc: 0.6528 - val_loss: 0.5934 - val_acc: 0.8579\n",
      "Epoch 2/20\n",
      "60000/60000 [==============================] - 3s 53us/step - loss: 0.4774 - acc: 0.8719 - val_loss: 0.3794 - val_acc: 0.8935\n",
      "Epoch 3/20\n",
      "60000/60000 [==============================] - 3s 53us/step - loss: 0.3651 - acc: 0.8963 - val_loss: 0.3194 - val_acc: 0.9096\n",
      "Epoch 4/20\n",
      "60000/60000 [==============================] - 3s 52us/step - loss: 0.3193 - acc: 0.9089 - val_loss: 0.2926 - val_acc: 0.9173\n",
      "Epoch 5/20\n",
      "60000/60000 [==============================] - 3s 52us/step - loss: 0.2903 - acc: 0.9168 - val_loss: 0.2661 - val_acc: 0.9239\n",
      "Epoch 6/20\n",
      "60000/60000 [==============================] - 3s 54us/step - loss: 0.2679 - acc: 0.9237 - val_loss: 0.2486 - val_acc: 0.9293\n",
      "Epoch 7/20\n",
      "60000/60000 [==============================] - 3s 53us/step - loss: 0.2500 - acc: 0.9282 - val_loss: 0.2321 - val_acc: 0.9334\n",
      "Epoch 8/20\n",
      "60000/60000 [==============================] - 3s 52us/step - loss: 0.2345 - acc: 0.9328 - val_loss: 0.2182 - val_acc: 0.9389\n",
      "Epoch 9/20\n",
      "60000/60000 [==============================] - 3s 57us/step - loss: 0.2210 - acc: 0.9370 - val_loss: 0.2081 - val_acc: 0.9406\n",
      "Epoch 10/20\n",
      "60000/60000 [==============================] - 3s 53us/step - loss: 0.2089 - acc: 0.9405 - val_loss: 0.1987 - val_acc: 0.9429\n",
      "Epoch 11/20\n",
      "60000/60000 [==============================] - 3s 53us/step - loss: 0.1981 - acc: 0.9430 - val_loss: 0.1889 - val_acc: 0.9433\n",
      "Epoch 12/20\n",
      "60000/60000 [==============================] - 3s 54us/step - loss: 0.1887 - acc: 0.9460 - val_loss: 0.1827 - val_acc: 0.9465\n",
      "Epoch 13/20\n",
      "60000/60000 [==============================] - 3s 53us/step - loss: 0.1802 - acc: 0.9483 - val_loss: 0.1731 - val_acc: 0.9492\n",
      "Epoch 14/20\n",
      "60000/60000 [==============================] - 3s 54us/step - loss: 0.1719 - acc: 0.9506 - val_loss: 0.1676 - val_acc: 0.9509\n",
      "Epoch 15/20\n",
      "60000/60000 [==============================] - 3s 55us/step - loss: 0.1649 - acc: 0.9524 - val_loss: 0.1608 - val_acc: 0.9530\n",
      "Epoch 16/20\n",
      "60000/60000 [==============================] - 3s 54us/step - loss: 0.1584 - acc: 0.9544 - val_loss: 0.1555 - val_acc: 0.9545\n",
      "Epoch 17/20\n",
      "60000/60000 [==============================] - 3s 53us/step - loss: 0.1523 - acc: 0.9557 - val_loss: 0.1509 - val_acc: 0.9554\n",
      "Epoch 18/20\n",
      "60000/60000 [==============================] - 3s 53us/step - loss: 0.1470 - acc: 0.9578 - val_loss: 0.1486 - val_acc: 0.9566\n",
      "Epoch 19/20\n",
      "60000/60000 [==============================] - 3s 53us/step - loss: 0.1416 - acc: 0.9600 - val_loss: 0.1416 - val_acc: 0.9584\n",
      "Epoch 20/20\n",
      "60000/60000 [==============================] - 3s 54us/step - loss: 0.1367 - acc: 0.9609 - val_loss: 0.1375 - val_acc: 0.9597\n"
     ]
    },
    {
     "data": {
      "text/plain": [
       "42"
      ]
     },
     "execution_count": 69,
     "metadata": {},
     "output_type": "execute_result"
    },
    {
     "data": {
      "text/plain": [
       "24"
      ]
     },
     "execution_count": 69,
     "metadata": {},
     "output_type": "execute_result"
    },
    {
     "data": {
      "text/plain": [
       "1"
      ]
     },
     "execution_count": 69,
     "metadata": {},
     "output_type": "execute_result"
    },
    {
     "data": {
      "text/plain": [
       "15"
      ]
     },
     "execution_count": 69,
     "metadata": {},
     "output_type": "execute_result"
    },
    {
     "data": {
      "text/plain": [
       "2"
      ]
     },
     "execution_count": 69,
     "metadata": {},
     "output_type": "execute_result"
    },
    {
     "data": {
      "text/plain": [
       "[<matplotlib.lines.Line2D at 0x16052ad8fd0>]"
      ]
     },
     "execution_count": 69,
     "metadata": {},
     "output_type": "execute_result"
    },
    {
     "data": {
      "text/plain": [
       "[<matplotlib.lines.Line2D at 0x16052aff4a8>]"
      ]
     },
     "execution_count": 69,
     "metadata": {},
     "output_type": "execute_result"
    },
    {
     "data": {
      "text/plain": [
       "Text(0.5,1,'model accuracy')"
      ]
     },
     "execution_count": 69,
     "metadata": {},
     "output_type": "execute_result"
    },
    {
     "data": {
      "text/plain": [
       "Text(0,0.5,'accuracy')"
      ]
     },
     "execution_count": 69,
     "metadata": {},
     "output_type": "execute_result"
    },
    {
     "data": {
      "text/plain": [
       "Text(0.5,0,'epoch')"
      ]
     },
     "execution_count": 69,
     "metadata": {},
     "output_type": "execute_result"
    },
    {
     "data": {
      "text/plain": [
       "<matplotlib.legend.Legend at 0x16052ac59e8>"
      ]
     },
     "execution_count": 69,
     "metadata": {},
     "output_type": "execute_result"
    },
    {
     "data": {
      "text/plain": [
       "[<matplotlib.lines.Line2D at 0x16052b53f60>]"
      ]
     },
     "execution_count": 69,
     "metadata": {},
     "output_type": "execute_result"
    },
    {
     "data": {
      "text/plain": [
       "[<matplotlib.lines.Line2D at 0x16052b5b0f0>]"
      ]
     },
     "execution_count": 69,
     "metadata": {},
     "output_type": "execute_result"
    },
    {
     "data": {
      "text/plain": [
       "Text(0.5,1,'model loss')"
      ]
     },
     "execution_count": 69,
     "metadata": {},
     "output_type": "execute_result"
    },
    {
     "data": {
      "text/plain": [
       "Text(0,0.5,'loss')"
      ]
     },
     "execution_count": 69,
     "metadata": {},
     "output_type": "execute_result"
    },
    {
     "data": {
      "text/plain": [
       "Text(0.5,0,'epoch')"
      ]
     },
     "execution_count": 69,
     "metadata": {},
     "output_type": "execute_result"
    },
    {
     "data": {
      "text/plain": [
       "<matplotlib.legend.Legend at 0x16052b42978>"
      ]
     },
     "execution_count": 69,
     "metadata": {},
     "output_type": "execute_result"
    },
    {
     "name": "stdout",
     "output_type": "stream",
     "text": [
      "Analysis of results\n",
      "              precision    recall  f1-score   support\n",
      "\n",
      "           0       0.97      0.98      0.98       980\n",
      "           1       0.98      0.98      0.98      1135\n",
      "           2       0.96      0.95      0.96      1032\n",
      "           3       0.95      0.96      0.96      1010\n",
      "           4       0.96      0.96      0.96       982\n",
      "           5       0.96      0.95      0.95       892\n",
      "           6       0.95      0.97      0.96       958\n",
      "           7       0.96      0.95      0.96      1028\n",
      "           8       0.95      0.95      0.95       974\n",
      "           9       0.95      0.94      0.94      1009\n",
      "\n",
      "   micro avg       0.96      0.96      0.96     10000\n",
      "   macro avg       0.96      0.96      0.96     10000\n",
      "weighted avg       0.96      0.96      0.96     10000\n",
      "\n",
      "[[ 963    0    0    2    0    4    6    3    2    0]\n",
      " [   0 1116    2    2    0    1    4    2    8    0]\n",
      " [   8    3  980    9    4    3    6    9    8    2]\n",
      " [   0    0    7  974    0   10    0   10    9    0]\n",
      " [   1    1    3    0  944    0   10    2    2   19]\n",
      " [   8    2    1    9    1  845   10    2   10    4]\n",
      " [   6    3    3    0    8    8  927    0    3    0]\n",
      " [   0    7   18    4    1    1    0  976    2   19]\n",
      " [   3    1    3   11    4    3   11    5  928    5]\n",
      " [   6    7    1    9   24    4    1    6    7  944]]\n",
      "Train on 60000 samples, validate on 10000 samples\n",
      "Epoch 1/20\n",
      "60000/60000 [==============================] - 5s 91us/step - loss: 1.4667 - acc: 0.6228 - val_loss: 0.6540 - val_acc: 0.8344\n",
      "Epoch 2/20\n",
      "60000/60000 [==============================] - 3s 56us/step - loss: 0.5076 - acc: 0.8635 - val_loss: 0.3896 - val_acc: 0.8909\n",
      "Epoch 3/20\n",
      "60000/60000 [==============================] - 3s 54us/step - loss: 0.3745 - acc: 0.8950 - val_loss: 0.3278 - val_acc: 0.9062\n",
      "Epoch 4/20\n",
      "60000/60000 [==============================] - 3s 55us/step - loss: 0.3256 - acc: 0.9066 - val_loss: 0.2954 - val_acc: 0.9141\n",
      "Epoch 5/20\n",
      "60000/60000 [==============================] - 3s 54us/step - loss: 0.2951 - acc: 0.9156 - val_loss: 0.2701 - val_acc: 0.9225\n",
      "Epoch 6/20\n",
      "60000/60000 [==============================] - 3s 56us/step - loss: 0.2726 - acc: 0.9208 - val_loss: 0.2534 - val_acc: 0.9284\n",
      "Epoch 7/20\n",
      "60000/60000 [==============================] - 3s 58us/step - loss: 0.2536 - acc: 0.9267 - val_loss: 0.2373 - val_acc: 0.9321\n",
      "Epoch 8/20\n",
      "60000/60000 [==============================] - 4s 66us/step - loss: 0.2372 - acc: 0.9308 - val_loss: 0.2244 - val_acc: 0.9349\n",
      "Epoch 9/20\n",
      "60000/60000 [==============================] - 4s 58us/step - loss: 0.2231 - acc: 0.9356 - val_loss: 0.2125 - val_acc: 0.9395\n",
      "Epoch 10/20\n",
      "60000/60000 [==============================] - 3s 57us/step - loss: 0.2103 - acc: 0.9398 - val_loss: 0.1995 - val_acc: 0.9423\n",
      "Epoch 11/20\n",
      "60000/60000 [==============================] - 4s 65us/step - loss: 0.1987 - acc: 0.9431 - val_loss: 0.1923 - val_acc: 0.9434\n",
      "Epoch 12/20\n",
      "60000/60000 [==============================] - 3s 57us/step - loss: 0.1889 - acc: 0.9459 - val_loss: 0.1841 - val_acc: 0.9464\n",
      "Epoch 13/20\n",
      "60000/60000 [==============================] - 3s 55us/step - loss: 0.1797 - acc: 0.9487 - val_loss: 0.1766 - val_acc: 0.9478\n",
      "Epoch 14/20\n",
      "60000/60000 [==============================] - 3s 55us/step - loss: 0.1716 - acc: 0.9508 - val_loss: 0.1684 - val_acc: 0.9500\n",
      "Epoch 15/20\n",
      "60000/60000 [==============================] - 3s 55us/step - loss: 0.1646 - acc: 0.9530 - val_loss: 0.1638 - val_acc: 0.9504\n",
      "Epoch 16/20\n",
      "60000/60000 [==============================] - 3s 55us/step - loss: 0.1576 - acc: 0.9547 - val_loss: 0.1585 - val_acc: 0.9518\n",
      "Epoch 17/20\n",
      "60000/60000 [==============================] - 3s 58us/step - loss: 0.1513 - acc: 0.9566 - val_loss: 0.1546 - val_acc: 0.9534\n",
      "Epoch 18/20\n",
      "60000/60000 [==============================] - 3s 58us/step - loss: 0.1461 - acc: 0.9578 - val_loss: 0.1488 - val_acc: 0.9543\n",
      "Epoch 19/20\n",
      "60000/60000 [==============================] - 3s 56us/step - loss: 0.1408 - acc: 0.9595 - val_loss: 0.1448 - val_acc: 0.9562\n",
      "Epoch 20/20\n",
      "60000/60000 [==============================] - 3s 55us/step - loss: 0.1359 - acc: 0.9611 - val_loss: 0.1411 - val_acc: 0.9577\n"
     ]
    },
    {
     "data": {
      "text/plain": [
       "42"
      ]
     },
     "execution_count": 69,
     "metadata": {},
     "output_type": "execute_result"
    },
    {
     "data": {
      "text/plain": [
       "24"
      ]
     },
     "execution_count": 69,
     "metadata": {},
     "output_type": "execute_result"
    },
    {
     "data": {
      "text/plain": [
       "1"
      ]
     },
     "execution_count": 69,
     "metadata": {},
     "output_type": "execute_result"
    },
    {
     "data": {
      "text/plain": [
       "15"
      ]
     },
     "execution_count": 69,
     "metadata": {},
     "output_type": "execute_result"
    },
    {
     "data": {
      "text/plain": [
       "2"
      ]
     },
     "execution_count": 69,
     "metadata": {},
     "output_type": "execute_result"
    },
    {
     "data": {
      "text/plain": [
       "[<matplotlib.lines.Line2D at 0x16053e87860>]"
      ]
     },
     "execution_count": 69,
     "metadata": {},
     "output_type": "execute_result"
    },
    {
     "data": {
      "text/plain": [
       "[<matplotlib.lines.Line2D at 0x16053e87cf8>]"
      ]
     },
     "execution_count": 69,
     "metadata": {},
     "output_type": "execute_result"
    },
    {
     "data": {
      "text/plain": [
       "Text(0.5,1,'model accuracy')"
      ]
     },
     "execution_count": 69,
     "metadata": {},
     "output_type": "execute_result"
    },
    {
     "data": {
      "text/plain": [
       "Text(0,0.5,'accuracy')"
      ]
     },
     "execution_count": 69,
     "metadata": {},
     "output_type": "execute_result"
    },
    {
     "data": {
      "text/plain": [
       "Text(0.5,0,'epoch')"
      ]
     },
     "execution_count": 69,
     "metadata": {},
     "output_type": "execute_result"
    },
    {
     "data": {
      "text/plain": [
       "<matplotlib.legend.Legend at 0x16053e72358>"
      ]
     },
     "execution_count": 69,
     "metadata": {},
     "output_type": "execute_result"
    },
    {
     "data": {
      "text/plain": [
       "[<matplotlib.lines.Line2D at 0x16053ee77f0>]"
      ]
     },
     "execution_count": 69,
     "metadata": {},
     "output_type": "execute_result"
    },
    {
     "data": {
      "text/plain": [
       "[<matplotlib.lines.Line2D at 0x16053ee7940>]"
      ]
     },
     "execution_count": 69,
     "metadata": {},
     "output_type": "execute_result"
    },
    {
     "data": {
      "text/plain": [
       "Text(0.5,1,'model loss')"
      ]
     },
     "execution_count": 69,
     "metadata": {},
     "output_type": "execute_result"
    },
    {
     "data": {
      "text/plain": [
       "Text(0,0.5,'loss')"
      ]
     },
     "execution_count": 69,
     "metadata": {},
     "output_type": "execute_result"
    },
    {
     "data": {
      "text/plain": [
       "Text(0.5,0,'epoch')"
      ]
     },
     "execution_count": 69,
     "metadata": {},
     "output_type": "execute_result"
    },
    {
     "data": {
      "text/plain": [
       "<matplotlib.legend.Legend at 0x16053ed72e8>"
      ]
     },
     "execution_count": 69,
     "metadata": {},
     "output_type": "execute_result"
    },
    {
     "name": "stdout",
     "output_type": "stream",
     "text": [
      "Analysis of results\n",
      "              precision    recall  f1-score   support\n",
      "\n",
      "           0       0.96      0.99      0.97       980\n",
      "           1       0.98      0.99      0.98      1135\n",
      "           2       0.96      0.96      0.96      1032\n",
      "           3       0.94      0.96      0.95      1010\n",
      "           4       0.95      0.96      0.95       982\n",
      "           5       0.96      0.94      0.95       892\n",
      "           6       0.96      0.97      0.96       958\n",
      "           7       0.96      0.95      0.96      1028\n",
      "           8       0.95      0.94      0.94       974\n",
      "           9       0.95      0.93      0.94      1009\n",
      "\n",
      "   micro avg       0.96      0.96      0.96     10000\n",
      "   macro avg       0.96      0.96      0.96     10000\n",
      "weighted avg       0.96      0.96      0.96     10000\n",
      "\n",
      "[[ 966    0    0    2    0    4    5    1    2    0]\n",
      " [   0 1119    3    2    0    1    4    2    4    0]\n",
      " [   7    2  993    8    4    1    2    8    6    1]\n",
      " [   0    0   11  965    0   10    0   10   12    2]\n",
      " [   1    0    8    0  939    1    7    3    3   20]\n",
      " [   9    1    0   16    2  841    9    1    7    6]\n",
      " [  10    4    1    1    5    8  925    1    3    0]\n",
      " [   1   11   15    2    4    0    0  981    2   12]\n",
      " [   5    2    5   15    6    7   11    7  912    4]\n",
      " [   8    6    2   12   26    4    1    8    6  936]]\n",
      "Train on 60000 samples, validate on 10000 samples\n",
      "Epoch 1/20\n",
      "60000/60000 [==============================] - 5s 90us/step - loss: 1.4328 - acc: 0.6301 - val_loss: 0.6080 - val_acc: 0.8465\n",
      "Epoch 2/20\n",
      "60000/60000 [==============================] - 3s 55us/step - loss: 0.4856 - acc: 0.8684 - val_loss: 0.3835 - val_acc: 0.8939\n",
      "Epoch 3/20\n",
      "60000/60000 [==============================] - 3s 55us/step - loss: 0.3681 - acc: 0.8955 - val_loss: 0.3257 - val_acc: 0.9086\n",
      "Epoch 4/20\n",
      "60000/60000 [==============================] - 3s 55us/step - loss: 0.3216 - acc: 0.9073 - val_loss: 0.2952 - val_acc: 0.9129\n",
      "Epoch 5/20\n",
      "60000/60000 [==============================] - 3s 56us/step - loss: 0.2927 - acc: 0.9154 - val_loss: 0.2679 - val_acc: 0.9234\n",
      "Epoch 6/20\n",
      "60000/60000 [==============================] - 3s 55us/step - loss: 0.2707 - acc: 0.9221 - val_loss: 0.2505 - val_acc: 0.9296\n",
      "Epoch 7/20\n",
      "60000/60000 [==============================] - 3s 56us/step - loss: 0.2533 - acc: 0.9265 - val_loss: 0.2384 - val_acc: 0.9322\n",
      "Epoch 8/20\n",
      "60000/60000 [==============================] - 3s 54us/step - loss: 0.2384 - acc: 0.9313 - val_loss: 0.2212 - val_acc: 0.9361\n",
      "Epoch 9/20\n",
      "60000/60000 [==============================] - 3s 54us/step - loss: 0.2251 - acc: 0.9351 - val_loss: 0.2122 - val_acc: 0.9383\n",
      "Epoch 10/20\n",
      "60000/60000 [==============================] - 3s 54us/step - loss: 0.2133 - acc: 0.9383 - val_loss: 0.2024 - val_acc: 0.9418\n",
      "Epoch 11/20\n",
      "60000/60000 [==============================] - 4s 59us/step - loss: 0.2028 - acc: 0.9412 - val_loss: 0.1931 - val_acc: 0.9443\n",
      "Epoch 12/20\n",
      "60000/60000 [==============================] - 3s 55us/step - loss: 0.1932 - acc: 0.9445 - val_loss: 0.1847 - val_acc: 0.9467\n",
      "Epoch 13/20\n",
      "60000/60000 [==============================] - 3s 55us/step - loss: 0.1842 - acc: 0.9466 - val_loss: 0.1757 - val_acc: 0.9489\n",
      "Epoch 14/20\n",
      "60000/60000 [==============================] - 4s 62us/step - loss: 0.1765 - acc: 0.9491 - val_loss: 0.1722 - val_acc: 0.9492\n",
      "Epoch 15/20\n",
      "60000/60000 [==============================] - 3s 56us/step - loss: 0.1688 - acc: 0.9513 - val_loss: 0.1653 - val_acc: 0.9507\n",
      "Epoch 16/20\n",
      "60000/60000 [==============================] - 3s 57us/step - loss: 0.1623 - acc: 0.9534 - val_loss: 0.1599 - val_acc: 0.9531\n",
      "Epoch 17/20\n",
      "60000/60000 [==============================] - 3s 55us/step - loss: 0.1561 - acc: 0.9554 - val_loss: 0.1542 - val_acc: 0.9544\n",
      "Epoch 18/20\n",
      "60000/60000 [==============================] - 3s 56us/step - loss: 0.1498 - acc: 0.9572 - val_loss: 0.1526 - val_acc: 0.9548\n",
      "Epoch 19/20\n",
      "60000/60000 [==============================] - 3s 57us/step - loss: 0.1445 - acc: 0.9579 - val_loss: 0.1458 - val_acc: 0.9561\n",
      "Epoch 20/20\n",
      "60000/60000 [==============================] - 3s 55us/step - loss: 0.1392 - acc: 0.9599 - val_loss: 0.1462 - val_acc: 0.9576\n"
     ]
    },
    {
     "data": {
      "text/plain": [
       "42"
      ]
     },
     "execution_count": 69,
     "metadata": {},
     "output_type": "execute_result"
    },
    {
     "data": {
      "text/plain": [
       "24"
      ]
     },
     "execution_count": 69,
     "metadata": {},
     "output_type": "execute_result"
    },
    {
     "data": {
      "text/plain": [
       "1"
      ]
     },
     "execution_count": 69,
     "metadata": {},
     "output_type": "execute_result"
    },
    {
     "data": {
      "text/plain": [
       "15"
      ]
     },
     "execution_count": 69,
     "metadata": {},
     "output_type": "execute_result"
    },
    {
     "data": {
      "text/plain": [
       "2"
      ]
     },
     "execution_count": 69,
     "metadata": {},
     "output_type": "execute_result"
    },
    {
     "data": {
      "text/plain": [
       "[<matplotlib.lines.Line2D at 0x1605446f0f0>]"
      ]
     },
     "execution_count": 69,
     "metadata": {},
     "output_type": "execute_result"
    },
    {
     "data": {
      "text/plain": [
       "[<matplotlib.lines.Line2D at 0x1605446f588>]"
      ]
     },
     "execution_count": 69,
     "metadata": {},
     "output_type": "execute_result"
    },
    {
     "data": {
      "text/plain": [
       "Text(0.5,1,'model accuracy')"
      ]
     },
     "execution_count": 69,
     "metadata": {},
     "output_type": "execute_result"
    },
    {
     "data": {
      "text/plain": [
       "Text(0,0.5,'accuracy')"
      ]
     },
     "execution_count": 69,
     "metadata": {},
     "output_type": "execute_result"
    },
    {
     "data": {
      "text/plain": [
       "Text(0.5,0,'epoch')"
      ]
     },
     "execution_count": 69,
     "metadata": {},
     "output_type": "execute_result"
    },
    {
     "data": {
      "text/plain": [
       "<matplotlib.legend.Legend at 0x1605443cac8>"
      ]
     },
     "execution_count": 69,
     "metadata": {},
     "output_type": "execute_result"
    },
    {
     "data": {
      "text/plain": [
       "[<matplotlib.lines.Line2D at 0x160544cc080>]"
      ]
     },
     "execution_count": 69,
     "metadata": {},
     "output_type": "execute_result"
    },
    {
     "data": {
      "text/plain": [
       "[<matplotlib.lines.Line2D at 0x160544cc1d0>]"
      ]
     },
     "execution_count": 69,
     "metadata": {},
     "output_type": "execute_result"
    },
    {
     "data": {
      "text/plain": [
       "Text(0.5,1,'model loss')"
      ]
     },
     "execution_count": 69,
     "metadata": {},
     "output_type": "execute_result"
    },
    {
     "data": {
      "text/plain": [
       "Text(0,0.5,'loss')"
      ]
     },
     "execution_count": 69,
     "metadata": {},
     "output_type": "execute_result"
    },
    {
     "data": {
      "text/plain": [
       "Text(0.5,0,'epoch')"
      ]
     },
     "execution_count": 69,
     "metadata": {},
     "output_type": "execute_result"
    },
    {
     "data": {
      "text/plain": [
       "<matplotlib.legend.Legend at 0x160544ccac8>"
      ]
     },
     "execution_count": 69,
     "metadata": {},
     "output_type": "execute_result"
    },
    {
     "name": "stdout",
     "output_type": "stream",
     "text": [
      "Analysis of results\n",
      "              precision    recall  f1-score   support\n",
      "\n",
      "           0       0.96      0.99      0.97       980\n",
      "           1       0.98      0.98      0.98      1135\n",
      "           2       0.97      0.95      0.96      1032\n",
      "           3       0.93      0.96      0.95      1010\n",
      "           4       0.95      0.96      0.96       982\n",
      "           5       0.94      0.94      0.94       892\n",
      "           6       0.96      0.96      0.96       958\n",
      "           7       0.96      0.96      0.96      1028\n",
      "           8       0.95      0.94      0.95       974\n",
      "           9       0.97      0.92      0.94      1009\n",
      "\n",
      "   micro avg       0.96      0.96      0.96     10000\n",
      "   macro avg       0.96      0.96      0.96     10000\n",
      "weighted avg       0.96      0.96      0.96     10000\n",
      "\n",
      "[[ 966    0    1    2    0    3    6    1    1    0]\n",
      " [   0 1113    3    1    0    1    5    2   10    0]\n",
      " [   6    1  985   13    4    3    3    8    9    0]\n",
      " [   0    0    8  970    0   16    0    8    7    1]\n",
      " [   1    0    4    0  946    1    9    3    3   15]\n",
      " [   8    1    1   16    3  842   10    0    7    4]\n",
      " [   9    3    3    1    7    8  924    0    3    0]\n",
      " [   4    6   12    6    2    1    0  987    1    9]\n",
      " [   4    1    2   20    5   13    8    5  914    2]\n",
      " [  11    7    1   13   25    8    1    9    5  929]]\n",
      "Train on 60000 samples, validate on 10000 samples\n",
      "Epoch 1/20\n",
      "60000/60000 [==============================] - 5s 90us/step - loss: 1.4796 - acc: 0.6125 - val_loss: 0.6325 - val_acc: 0.8491\n",
      "Epoch 2/20\n",
      "60000/60000 [==============================] - 3s 55us/step - loss: 0.4901 - acc: 0.8690 - val_loss: 0.3888 - val_acc: 0.8927\n",
      "Epoch 3/20\n",
      "60000/60000 [==============================] - 3s 55us/step - loss: 0.3675 - acc: 0.8947 - val_loss: 0.3204 - val_acc: 0.9078\n",
      "Epoch 4/20\n",
      "60000/60000 [==============================] - 3s 55us/step - loss: 0.3219 - acc: 0.9071 - val_loss: 0.2975 - val_acc: 0.9170\n",
      "Epoch 5/20\n",
      "60000/60000 [==============================] - 3s 55us/step - loss: 0.2934 - acc: 0.9147 - val_loss: 0.2712 - val_acc: 0.9242\n",
      "Epoch 6/20\n",
      "60000/60000 [==============================] - 3s 56us/step - loss: 0.2722 - acc: 0.9213 - val_loss: 0.2517 - val_acc: 0.9270\n",
      "Epoch 7/20\n",
      "60000/60000 [==============================] - 3s 56us/step - loss: 0.2549 - acc: 0.9263 - val_loss: 0.2385 - val_acc: 0.9312\n",
      "Epoch 8/20\n",
      "60000/60000 [==============================] - 4s 61us/step - loss: 0.2398 - acc: 0.9308 - val_loss: 0.2290 - val_acc: 0.9331\n",
      "Epoch 9/20\n",
      "60000/60000 [==============================] - 3s 57us/step - loss: 0.2263 - acc: 0.9343 - val_loss: 0.2155 - val_acc: 0.9369\n",
      "Epoch 10/20\n",
      "60000/60000 [==============================] - 3s 58us/step - loss: 0.2141 - acc: 0.9379 - val_loss: 0.2057 - val_acc: 0.9407\n",
      "Epoch 11/20\n",
      "60000/60000 [==============================] - 3s 58us/step - loss: 0.2037 - acc: 0.9416 - val_loss: 0.1948 - val_acc: 0.9406\n",
      "Epoch 12/20\n",
      "60000/60000 [==============================] - 4s 59us/step - loss: 0.1935 - acc: 0.9442 - val_loss: 0.1850 - val_acc: 0.9447\n",
      "Epoch 13/20\n",
      "60000/60000 [==============================] - 3s 58us/step - loss: 0.1845 - acc: 0.9467 - val_loss: 0.1769 - val_acc: 0.9469\n",
      "Epoch 14/20\n",
      "60000/60000 [==============================] - 4s 68us/step - loss: 0.1760 - acc: 0.9491 - val_loss: 0.1711 - val_acc: 0.9480\n",
      "Epoch 15/20\n",
      "60000/60000 [==============================] - 4s 61us/step - loss: 0.1683 - acc: 0.9516 - val_loss: 0.1705 - val_acc: 0.9484\n",
      "Epoch 16/20\n",
      "60000/60000 [==============================] - 3s 56us/step - loss: 0.1614 - acc: 0.9531 - val_loss: 0.1608 - val_acc: 0.9505\n",
      "Epoch 17/20\n",
      "60000/60000 [==============================] - 3s 56us/step - loss: 0.1548 - acc: 0.9551 - val_loss: 0.1550 - val_acc: 0.9526\n",
      "Epoch 18/20\n",
      "60000/60000 [==============================] - 3s 56us/step - loss: 0.1487 - acc: 0.9565 - val_loss: 0.1503 - val_acc: 0.9539\n",
      "Epoch 19/20\n",
      "60000/60000 [==============================] - 3s 57us/step - loss: 0.1432 - acc: 0.9581 - val_loss: 0.1456 - val_acc: 0.9542\n",
      "Epoch 20/20\n",
      "60000/60000 [==============================] - 3s 56us/step - loss: 0.1378 - acc: 0.9602 - val_loss: 0.1388 - val_acc: 0.9571\n"
     ]
    },
    {
     "data": {
      "text/plain": [
       "42"
      ]
     },
     "execution_count": 69,
     "metadata": {},
     "output_type": "execute_result"
    },
    {
     "data": {
      "text/plain": [
       "24"
      ]
     },
     "execution_count": 69,
     "metadata": {},
     "output_type": "execute_result"
    },
    {
     "data": {
      "text/plain": [
       "1"
      ]
     },
     "execution_count": 69,
     "metadata": {},
     "output_type": "execute_result"
    },
    {
     "data": {
      "text/plain": [
       "15"
      ]
     },
     "execution_count": 69,
     "metadata": {},
     "output_type": "execute_result"
    },
    {
     "data": {
      "text/plain": [
       "2"
      ]
     },
     "execution_count": 69,
     "metadata": {},
     "output_type": "execute_result"
    },
    {
     "data": {
      "text/plain": [
       "[<matplotlib.lines.Line2D at 0x16055909940>]"
      ]
     },
     "execution_count": 69,
     "metadata": {},
     "output_type": "execute_result"
    },
    {
     "data": {
      "text/plain": [
       "[<matplotlib.lines.Line2D at 0x16055909dd8>]"
      ]
     },
     "execution_count": 69,
     "metadata": {},
     "output_type": "execute_result"
    },
    {
     "data": {
      "text/plain": [
       "Text(0.5,1,'model accuracy')"
      ]
     },
     "execution_count": 69,
     "metadata": {},
     "output_type": "execute_result"
    },
    {
     "data": {
      "text/plain": [
       "Text(0,0.5,'accuracy')"
      ]
     },
     "execution_count": 69,
     "metadata": {},
     "output_type": "execute_result"
    },
    {
     "data": {
      "text/plain": [
       "Text(0.5,0,'epoch')"
      ]
     },
     "execution_count": 69,
     "metadata": {},
     "output_type": "execute_result"
    },
    {
     "data": {
      "text/plain": [
       "<matplotlib.legend.Legend at 0x160558f3358>"
      ]
     },
     "execution_count": 69,
     "metadata": {},
     "output_type": "execute_result"
    },
    {
     "data": {
      "text/plain": [
       "[<matplotlib.lines.Line2D at 0x16055983d68>]"
      ]
     },
     "execution_count": 69,
     "metadata": {},
     "output_type": "execute_result"
    },
    {
     "data": {
      "text/plain": [
       "[<matplotlib.lines.Line2D at 0x1605598d2e8>]"
      ]
     },
     "execution_count": 69,
     "metadata": {},
     "output_type": "execute_result"
    },
    {
     "data": {
      "text/plain": [
       "Text(0.5,1,'model loss')"
      ]
     },
     "execution_count": 69,
     "metadata": {},
     "output_type": "execute_result"
    },
    {
     "data": {
      "text/plain": [
       "Text(0,0.5,'loss')"
      ]
     },
     "execution_count": 69,
     "metadata": {},
     "output_type": "execute_result"
    },
    {
     "data": {
      "text/plain": [
       "Text(0.5,0,'epoch')"
      ]
     },
     "execution_count": 69,
     "metadata": {},
     "output_type": "execute_result"
    },
    {
     "data": {
      "text/plain": [
       "<matplotlib.legend.Legend at 0x16055974780>"
      ]
     },
     "execution_count": 69,
     "metadata": {},
     "output_type": "execute_result"
    },
    {
     "name": "stdout",
     "output_type": "stream",
     "text": [
      "Analysis of results\n",
      "              precision    recall  f1-score   support\n",
      "\n",
      "           0       0.97      0.98      0.98       980\n",
      "           1       0.97      0.99      0.98      1135\n",
      "           2       0.97      0.95      0.96      1032\n",
      "           3       0.95      0.96      0.95      1010\n",
      "           4       0.95      0.96      0.95       982\n",
      "           5       0.95      0.95      0.95       892\n",
      "           6       0.95      0.96      0.96       958\n",
      "           7       0.96      0.94      0.95      1028\n",
      "           8       0.95      0.95      0.95       974\n",
      "           9       0.95      0.93      0.94      1009\n",
      "\n",
      "   micro avg       0.96      0.96      0.96     10000\n",
      "   macro avg       0.96      0.96      0.96     10000\n",
      "weighted avg       0.96      0.96      0.96     10000\n",
      "\n",
      "[[ 962    0    1    2    0    4    7    1    3    0]\n",
      " [   0 1118    3    2    0    1    4    2    5    0]\n",
      " [   6    2  984   12    7    0    5   10    6    0]\n",
      " [   1    2    7  965    0   11    0   11   10    3]\n",
      " [   1    1    3    1  940    0    8    4    4   20]\n",
      " [   6    2    1   12    2  844   10    1    9    5]\n",
      " [   7    3    1    0    7   11  924    0    5    0]\n",
      " [   1   13   13    8    5    1    0  971    1   15]\n",
      " [   4    1    4   13    5    9    9    4  921    4]\n",
      " [   5   10    2    6   24    4    1    8    7  942]]\n",
      "Train on 60000 samples, validate on 10000 samples\n",
      "Epoch 1/20\n",
      "60000/60000 [==============================] - 5s 91us/step - loss: 1.4341 - acc: 0.6264 - val_loss: 0.6164 - val_acc: 0.8462\n",
      "Epoch 2/20\n",
      "60000/60000 [==============================] - 3s 58us/step - loss: 0.4861 - acc: 0.8685 - val_loss: 0.3943 - val_acc: 0.8890\n",
      "Epoch 3/20\n",
      "60000/60000 [==============================] - 4s 61us/step - loss: 0.3705 - acc: 0.8941 - val_loss: 0.3323 - val_acc: 0.9018\n",
      "Epoch 4/20\n",
      "60000/60000 [==============================] - 3s 53us/step - loss: 0.3242 - acc: 0.9074 - val_loss: 0.3050 - val_acc: 0.9106\n",
      "Epoch 5/20\n",
      "60000/60000 [==============================] - 3s 49us/step - loss: 0.2946 - acc: 0.9149 - val_loss: 0.2755 - val_acc: 0.9171\n",
      "Epoch 6/20\n",
      "60000/60000 [==============================] - 3s 50us/step - loss: 0.2724 - acc: 0.9210 - val_loss: 0.2583 - val_acc: 0.9250\n",
      "Epoch 7/20\n",
      "60000/60000 [==============================] - 3s 48us/step - loss: 0.2549 - acc: 0.9264 - val_loss: 0.2436 - val_acc: 0.9295\n",
      "Epoch 8/20\n",
      "60000/60000 [==============================] - 3s 49us/step - loss: 0.2394 - acc: 0.9306 - val_loss: 0.2300 - val_acc: 0.9332\n",
      "Epoch 9/20\n",
      "60000/60000 [==============================] - 3s 48us/step - loss: 0.2263 - acc: 0.9355 - val_loss: 0.2165 - val_acc: 0.9369\n",
      "Epoch 10/20\n",
      "60000/60000 [==============================] - 3s 48us/step - loss: 0.2144 - acc: 0.9381 - val_loss: 0.2095 - val_acc: 0.9380\n",
      "Epoch 11/20\n",
      "60000/60000 [==============================] - 3s 49us/step - loss: 0.2033 - acc: 0.9411 - val_loss: 0.2047 - val_acc: 0.9418\n",
      "Epoch 12/20\n",
      "60000/60000 [==============================] - 3s 48us/step - loss: 0.1940 - acc: 0.9445 - val_loss: 0.1880 - val_acc: 0.9448\n",
      "Epoch 13/20\n",
      "60000/60000 [==============================] - 3s 49us/step - loss: 0.1848 - acc: 0.9470 - val_loss: 0.1845 - val_acc: 0.9461\n",
      "Epoch 14/20\n",
      "60000/60000 [==============================] - 3s 48us/step - loss: 0.1761 - acc: 0.9490 - val_loss: 0.1774 - val_acc: 0.9458\n",
      "Epoch 15/20\n",
      "60000/60000 [==============================] - 3s 48us/step - loss: 0.1688 - acc: 0.9516 - val_loss: 0.1682 - val_acc: 0.9509\n",
      "Epoch 16/20\n",
      "60000/60000 [==============================] - 3s 51us/step - loss: 0.1616 - acc: 0.9535 - val_loss: 0.1608 - val_acc: 0.9530\n",
      "Epoch 17/20\n",
      "60000/60000 [==============================] - 3s 48us/step - loss: 0.1545 - acc: 0.9561 - val_loss: 0.1561 - val_acc: 0.9547\n",
      "Epoch 18/20\n",
      "60000/60000 [==============================] - 3s 52us/step - loss: 0.1489 - acc: 0.9573 - val_loss: 0.1525 - val_acc: 0.9552\n",
      "Epoch 19/20\n",
      "60000/60000 [==============================] - 3s 51us/step - loss: 0.1427 - acc: 0.9592 - val_loss: 0.1449 - val_acc: 0.9569\n",
      "Epoch 20/20\n",
      "60000/60000 [==============================] - 3s 48us/step - loss: 0.1377 - acc: 0.9606 - val_loss: 0.1436 - val_acc: 0.9574\n"
     ]
    },
    {
     "data": {
      "text/plain": [
       "42"
      ]
     },
     "execution_count": 69,
     "metadata": {},
     "output_type": "execute_result"
    },
    {
     "data": {
      "text/plain": [
       "24"
      ]
     },
     "execution_count": 69,
     "metadata": {},
     "output_type": "execute_result"
    },
    {
     "data": {
      "text/plain": [
       "1"
      ]
     },
     "execution_count": 69,
     "metadata": {},
     "output_type": "execute_result"
    },
    {
     "data": {
      "text/plain": [
       "15"
      ]
     },
     "execution_count": 69,
     "metadata": {},
     "output_type": "execute_result"
    },
    {
     "data": {
      "text/plain": [
       "2"
      ]
     },
     "execution_count": 69,
     "metadata": {},
     "output_type": "execute_result"
    },
    {
     "data": {
      "text/plain": [
       "[<matplotlib.lines.Line2D at 0x16055cdc6a0>]"
      ]
     },
     "execution_count": 69,
     "metadata": {},
     "output_type": "execute_result"
    },
    {
     "data": {
      "text/plain": [
       "[<matplotlib.lines.Line2D at 0x16055cdcb38>]"
      ]
     },
     "execution_count": 69,
     "metadata": {},
     "output_type": "execute_result"
    },
    {
     "data": {
      "text/plain": [
       "Text(0.5,1,'model accuracy')"
      ]
     },
     "execution_count": 69,
     "metadata": {},
     "output_type": "execute_result"
    },
    {
     "data": {
      "text/plain": [
       "Text(0,0.5,'accuracy')"
      ]
     },
     "execution_count": 69,
     "metadata": {},
     "output_type": "execute_result"
    },
    {
     "data": {
      "text/plain": [
       "Text(0.5,0,'epoch')"
      ]
     },
     "execution_count": 69,
     "metadata": {},
     "output_type": "execute_result"
    },
    {
     "data": {
      "text/plain": [
       "<matplotlib.legend.Legend at 0x16055cc90b8>"
      ]
     },
     "execution_count": 69,
     "metadata": {},
     "output_type": "execute_result"
    },
    {
     "data": {
      "text/plain": [
       "[<matplotlib.lines.Line2D at 0x16056d25630>]"
      ]
     },
     "execution_count": 69,
     "metadata": {},
     "output_type": "execute_result"
    },
    {
     "data": {
      "text/plain": [
       "[<matplotlib.lines.Line2D at 0x16056d25780>]"
      ]
     },
     "execution_count": 69,
     "metadata": {},
     "output_type": "execute_result"
    },
    {
     "data": {
      "text/plain": [
       "Text(0.5,1,'model loss')"
      ]
     },
     "execution_count": 69,
     "metadata": {},
     "output_type": "execute_result"
    },
    {
     "data": {
      "text/plain": [
       "Text(0,0.5,'loss')"
      ]
     },
     "execution_count": 69,
     "metadata": {},
     "output_type": "execute_result"
    },
    {
     "data": {
      "text/plain": [
       "Text(0.5,0,'epoch')"
      ]
     },
     "execution_count": 69,
     "metadata": {},
     "output_type": "execute_result"
    },
    {
     "data": {
      "text/plain": [
       "<matplotlib.legend.Legend at 0x16056d25e80>"
      ]
     },
     "execution_count": 69,
     "metadata": {},
     "output_type": "execute_result"
    },
    {
     "name": "stdout",
     "output_type": "stream",
     "text": [
      "Analysis of results\n",
      "              precision    recall  f1-score   support\n",
      "\n",
      "           0       0.96      0.99      0.97       980\n",
      "           1       0.98      0.98      0.98      1135\n",
      "           2       0.96      0.96      0.96      1032\n",
      "           3       0.96      0.95      0.95      1010\n",
      "           4       0.94      0.97      0.95       982\n",
      "           5       0.95      0.95      0.95       892\n",
      "           6       0.95      0.97      0.96       958\n",
      "           7       0.96      0.95      0.96      1028\n",
      "           8       0.94      0.95      0.95       974\n",
      "           9       0.97      0.91      0.94      1009\n",
      "\n",
      "   micro avg       0.96      0.96      0.96     10000\n",
      "   macro avg       0.96      0.96      0.96     10000\n",
      "weighted avg       0.96      0.96      0.96     10000\n",
      "\n",
      "[[ 966    0    1    1    0    2    5    3    2    0]\n",
      " [   0 1116    3    2    0    1    4    2    7    0]\n",
      " [   6    2  991    6    3    2    6    9    6    1]\n",
      " [   0    1    9  957    0   16    1   11   12    3]\n",
      " [   1    0    6    0  949    0   12    1    2   11]\n",
      " [   9    1    1    6    2  848   10    0   10    5]\n",
      " [   6    3    1    0    9   10  927    0    2    0]\n",
      " [   1   11   18    3    2    1    0  978    3   11]\n",
      " [   6    1    3   12    5    9    9    6  923    0]\n",
      " [   9    7    2    8   37    6    1   10   10  919]]\n",
      "Train on 60000 samples, validate on 10000 samples\n",
      "Epoch 1/20\n",
      "60000/60000 [==============================] - 5s 85us/step - loss: 1.4505 - acc: 0.6195 - val_loss: 0.6279 - val_acc: 0.8457\n",
      "Epoch 2/20\n",
      "60000/60000 [==============================] - 3s 49us/step - loss: 0.4917 - acc: 0.8687 - val_loss: 0.3844 - val_acc: 0.8966\n",
      "Epoch 3/20\n",
      "60000/60000 [==============================] - 3s 49us/step - loss: 0.3673 - acc: 0.8967 - val_loss: 0.3240 - val_acc: 0.9096\n",
      "Epoch 4/20\n",
      "60000/60000 [==============================] - 3s 49us/step - loss: 0.3209 - acc: 0.9070 - val_loss: 0.2922 - val_acc: 0.9178\n",
      "Epoch 5/20\n",
      "60000/60000 [==============================] - 3s 49us/step - loss: 0.2919 - acc: 0.9167 - val_loss: 0.2675 - val_acc: 0.9246\n",
      "Epoch 6/20\n",
      "60000/60000 [==============================] - 3s 49us/step - loss: 0.2705 - acc: 0.9222 - val_loss: 0.2505 - val_acc: 0.9288\n",
      "Epoch 7/20\n",
      "60000/60000 [==============================] - 3s 49us/step - loss: 0.2531 - acc: 0.9276 - val_loss: 0.2375 - val_acc: 0.9314\n",
      "Epoch 8/20\n",
      "60000/60000 [==============================] - 3s 49us/step - loss: 0.2378 - acc: 0.9311 - val_loss: 0.2228 - val_acc: 0.9368\n",
      "Epoch 9/20\n",
      "60000/60000 [==============================] - 3s 49us/step - loss: 0.2244 - acc: 0.9351 - val_loss: 0.2128 - val_acc: 0.9379\n",
      "Epoch 10/20\n",
      "60000/60000 [==============================] - 3s 50us/step - loss: 0.2127 - acc: 0.9379 - val_loss: 0.2023 - val_acc: 0.9415\n",
      "Epoch 11/20\n",
      "60000/60000 [==============================] - 3s 49us/step - loss: 0.2019 - acc: 0.9414 - val_loss: 0.1924 - val_acc: 0.9445\n",
      "Epoch 12/20\n",
      "60000/60000 [==============================] - 3s 49us/step - loss: 0.1926 - acc: 0.9442 - val_loss: 0.1878 - val_acc: 0.9448\n",
      "Epoch 13/20\n",
      "60000/60000 [==============================] - 3s 49us/step - loss: 0.1834 - acc: 0.9470 - val_loss: 0.1792 - val_acc: 0.9467\n",
      "Epoch 14/20\n",
      "60000/60000 [==============================] - 3s 55us/step - loss: 0.1754 - acc: 0.9493 - val_loss: 0.1717 - val_acc: 0.9493\n",
      "Epoch 15/20\n",
      "60000/60000 [==============================] - 5s 79us/step - loss: 0.1679 - acc: 0.9517 - val_loss: 0.1647 - val_acc: 0.9509\n",
      "Epoch 16/20\n",
      "60000/60000 [==============================] - 4s 73us/step - loss: 0.1613 - acc: 0.9536 - val_loss: 0.1605 - val_acc: 0.9528\n",
      "Epoch 17/20\n",
      "60000/60000 [==============================] - 4s 60us/step - loss: 0.1551 - acc: 0.9553 - val_loss: 0.1541 - val_acc: 0.9548\n",
      "Epoch 18/20\n",
      "60000/60000 [==============================] - 4s 63us/step - loss: 0.1493 - acc: 0.9572 - val_loss: 0.1525 - val_acc: 0.9557\n",
      "Epoch 19/20\n",
      "60000/60000 [==============================] - 4s 61us/step - loss: 0.1437 - acc: 0.9582 - val_loss: 0.1478 - val_acc: 0.9567\n",
      "Epoch 20/20\n",
      "60000/60000 [==============================] - 4s 59us/step - loss: 0.1388 - acc: 0.9604 - val_loss: 0.1438 - val_acc: 0.9569\n"
     ]
    },
    {
     "data": {
      "text/plain": [
       "42"
      ]
     },
     "execution_count": 69,
     "metadata": {},
     "output_type": "execute_result"
    },
    {
     "data": {
      "text/plain": [
       "24"
      ]
     },
     "execution_count": 69,
     "metadata": {},
     "output_type": "execute_result"
    },
    {
     "data": {
      "text/plain": [
       "1"
      ]
     },
     "execution_count": 69,
     "metadata": {},
     "output_type": "execute_result"
    },
    {
     "data": {
      "text/plain": [
       "15"
      ]
     },
     "execution_count": 69,
     "metadata": {},
     "output_type": "execute_result"
    },
    {
     "data": {
      "text/plain": [
       "2"
      ]
     },
     "execution_count": 69,
     "metadata": {},
     "output_type": "execute_result"
    },
    {
     "data": {
      "text/plain": [
       "[<matplotlib.lines.Line2D at 0x16057076ef0>]"
      ]
     },
     "execution_count": 69,
     "metadata": {},
     "output_type": "execute_result"
    },
    {
     "data": {
      "text/plain": [
       "[<matplotlib.lines.Line2D at 0x160570893c8>]"
      ]
     },
     "execution_count": 69,
     "metadata": {},
     "output_type": "execute_result"
    },
    {
     "data": {
      "text/plain": [
       "Text(0.5,1,'model accuracy')"
      ]
     },
     "execution_count": 69,
     "metadata": {},
     "output_type": "execute_result"
    },
    {
     "data": {
      "text/plain": [
       "Text(0,0.5,'accuracy')"
      ]
     },
     "execution_count": 69,
     "metadata": {},
     "output_type": "execute_result"
    },
    {
     "data": {
      "text/plain": [
       "Text(0.5,0,'epoch')"
      ]
     },
     "execution_count": 69,
     "metadata": {},
     "output_type": "execute_result"
    },
    {
     "data": {
      "text/plain": [
       "<matplotlib.legend.Legend at 0x16057063908>"
      ]
     },
     "execution_count": 69,
     "metadata": {},
     "output_type": "execute_result"
    },
    {
     "data": {
      "text/plain": [
       "[<matplotlib.lines.Line2D at 0x160570efe80>]"
      ]
     },
     "execution_count": 69,
     "metadata": {},
     "output_type": "execute_result"
    },
    {
     "data": {
      "text/plain": [
       "[<matplotlib.lines.Line2D at 0x160570f9400>]"
      ]
     },
     "execution_count": 69,
     "metadata": {},
     "output_type": "execute_result"
    },
    {
     "data": {
      "text/plain": [
       "Text(0.5,1,'model loss')"
      ]
     },
     "execution_count": 69,
     "metadata": {},
     "output_type": "execute_result"
    },
    {
     "data": {
      "text/plain": [
       "Text(0,0.5,'loss')"
      ]
     },
     "execution_count": 69,
     "metadata": {},
     "output_type": "execute_result"
    },
    {
     "data": {
      "text/plain": [
       "Text(0.5,0,'epoch')"
      ]
     },
     "execution_count": 69,
     "metadata": {},
     "output_type": "execute_result"
    },
    {
     "data": {
      "text/plain": [
       "<matplotlib.legend.Legend at 0x160570e0978>"
      ]
     },
     "execution_count": 69,
     "metadata": {},
     "output_type": "execute_result"
    },
    {
     "name": "stdout",
     "output_type": "stream",
     "text": [
      "Analysis of results\n",
      "              precision    recall  f1-score   support\n",
      "\n",
      "           0       0.96      0.99      0.97       980\n",
      "           1       0.98      0.98      0.98      1135\n",
      "           2       0.96      0.96      0.96      1032\n",
      "           3       0.95      0.95      0.95      1010\n",
      "           4       0.95      0.96      0.95       982\n",
      "           5       0.96      0.94      0.95       892\n",
      "           6       0.95      0.96      0.96       958\n",
      "           7       0.94      0.96      0.95      1028\n",
      "           8       0.96      0.94      0.95       974\n",
      "           9       0.96      0.92      0.94      1009\n",
      "\n",
      "   micro avg       0.96      0.96      0.96     10000\n",
      "   macro avg       0.96      0.96      0.96     10000\n",
      "weighted avg       0.96      0.96      0.96     10000\n",
      "\n",
      "[[ 967    0    1    2    0    3    4    2    1    0]\n",
      " [   0 1116    3    2    0    1    4    2    7    0]\n",
      " [   6    1  987    7    5    2    8    9    7    0]\n",
      " [   1    0   14  963    0   12    0   11    7    2]\n",
      " [   1    0    6    0  941    0    9    3    2   20]\n",
      " [   9    2    2   12    3  841   11    1    5    6]\n",
      " [  10    3    2    1    9    9  922    0    2    0]\n",
      " [   0   10   13    3    1    2    0  991    0    8]\n",
      " [   6    3    1   14    7    6   11   13  911    2]\n",
      " [   9    7    1    9   26    3    1   17    6  930]]\n",
      "Train on 60000 samples, validate on 10000 samples\n",
      "Epoch 1/20\n",
      "60000/60000 [==============================] - 6s 97us/step - loss: 1.4174 - acc: 0.6188 - val_loss: 0.6197 - val_acc: 0.8450\n",
      "Epoch 2/20\n",
      "60000/60000 [==============================] - 3s 58us/step - loss: 0.4899 - acc: 0.8679 - val_loss: 0.3912 - val_acc: 0.8932\n",
      "Epoch 3/20\n",
      "60000/60000 [==============================] - 4s 59us/step - loss: 0.3683 - acc: 0.8952 - val_loss: 0.3231 - val_acc: 0.9064\n",
      "Epoch 4/20\n",
      "60000/60000 [==============================] - 4s 65us/step - loss: 0.3225 - acc: 0.9073 - val_loss: 0.2921 - val_acc: 0.9149\n",
      "Epoch 5/20\n",
      "60000/60000 [==============================] - 4s 62us/step - loss: 0.2937 - acc: 0.9152 - val_loss: 0.2694 - val_acc: 0.9233\n",
      "Epoch 6/20\n",
      "60000/60000 [==============================] - 4s 59us/step - loss: 0.2716 - acc: 0.9215 - val_loss: 0.2523 - val_acc: 0.9285\n",
      "Epoch 7/20\n",
      "60000/60000 [==============================] - 4s 59us/step - loss: 0.2537 - acc: 0.9266 - val_loss: 0.2388 - val_acc: 0.9322\n",
      "Epoch 8/20\n",
      "60000/60000 [==============================] - 3s 58us/step - loss: 0.2384 - acc: 0.9320 - val_loss: 0.2238 - val_acc: 0.9362\n",
      "Epoch 9/20\n",
      "60000/60000 [==============================] - 4s 58us/step - loss: 0.2249 - acc: 0.9357 - val_loss: 0.2140 - val_acc: 0.9385\n",
      "Epoch 10/20\n",
      "60000/60000 [==============================] - 4s 59us/step - loss: 0.2132 - acc: 0.9387 - val_loss: 0.2010 - val_acc: 0.9417\n",
      "Epoch 11/20\n",
      "60000/60000 [==============================] - 3s 58us/step - loss: 0.2020 - acc: 0.9418 - val_loss: 0.1943 - val_acc: 0.9430\n",
      "Epoch 12/20\n",
      "60000/60000 [==============================] - 3s 58us/step - loss: 0.1919 - acc: 0.9445 - val_loss: 0.1852 - val_acc: 0.9440\n",
      "Epoch 13/20\n",
      "60000/60000 [==============================] - 4s 58us/step - loss: 0.1829 - acc: 0.9470 - val_loss: 0.1756 - val_acc: 0.9464\n",
      "Epoch 14/20\n",
      "60000/60000 [==============================] - 4s 59us/step - loss: 0.1747 - acc: 0.9501 - val_loss: 0.1691 - val_acc: 0.9492\n",
      "Epoch 15/20\n",
      "60000/60000 [==============================] - 4s 61us/step - loss: 0.1666 - acc: 0.9522 - val_loss: 0.1649 - val_acc: 0.9505\n",
      "Epoch 16/20\n",
      "60000/60000 [==============================] - 4s 59us/step - loss: 0.1599 - acc: 0.9538 - val_loss: 0.1615 - val_acc: 0.9529\n",
      "Epoch 17/20\n",
      "60000/60000 [==============================] - 4s 60us/step - loss: 0.1533 - acc: 0.9554 - val_loss: 0.1522 - val_acc: 0.9536\n",
      "Epoch 18/20\n",
      "60000/60000 [==============================] - 4s 59us/step - loss: 0.1470 - acc: 0.9579 - val_loss: 0.1463 - val_acc: 0.9555\n",
      "Epoch 19/20\n",
      "60000/60000 [==============================] - 4s 58us/step - loss: 0.1417 - acc: 0.9586 - val_loss: 0.1427 - val_acc: 0.9575\n",
      "Epoch 20/20\n",
      "60000/60000 [==============================] - 4s 59us/step - loss: 0.1362 - acc: 0.9606 - val_loss: 0.1365 - val_acc: 0.9594\n"
     ]
    },
    {
     "data": {
      "text/plain": [
       "42"
      ]
     },
     "execution_count": 69,
     "metadata": {},
     "output_type": "execute_result"
    },
    {
     "data": {
      "text/plain": [
       "23"
      ]
     },
     "execution_count": 69,
     "metadata": {},
     "output_type": "execute_result"
    },
    {
     "data": {
      "text/plain": [
       "1"
      ]
     },
     "execution_count": 69,
     "metadata": {},
     "output_type": "execute_result"
    },
    {
     "data": {
      "text/plain": [
       "15"
      ]
     },
     "execution_count": 69,
     "metadata": {},
     "output_type": "execute_result"
    },
    {
     "data": {
      "text/plain": [
       "2"
      ]
     },
     "execution_count": 69,
     "metadata": {},
     "output_type": "execute_result"
    },
    {
     "data": {
      "text/plain": [
       "[<matplotlib.lines.Line2D at 0x16057446780>]"
      ]
     },
     "execution_count": 69,
     "metadata": {},
     "output_type": "execute_result"
    },
    {
     "data": {
      "text/plain": [
       "[<matplotlib.lines.Line2D at 0x16057446c18>]"
      ]
     },
     "execution_count": 69,
     "metadata": {},
     "output_type": "execute_result"
    },
    {
     "data": {
      "text/plain": [
       "Text(0.5,1,'model accuracy')"
      ]
     },
     "execution_count": 69,
     "metadata": {},
     "output_type": "execute_result"
    },
    {
     "data": {
      "text/plain": [
       "Text(0,0.5,'accuracy')"
      ]
     },
     "execution_count": 69,
     "metadata": {},
     "output_type": "execute_result"
    },
    {
     "data": {
      "text/plain": [
       "Text(0.5,0,'epoch')"
      ]
     },
     "execution_count": 69,
     "metadata": {},
     "output_type": "execute_result"
    },
    {
     "data": {
      "text/plain": [
       "<matplotlib.legend.Legend at 0x16057434198>"
      ]
     },
     "execution_count": 69,
     "metadata": {},
     "output_type": "execute_result"
    },
    {
     "data": {
      "text/plain": [
       "[<matplotlib.lines.Line2D at 0x160574c3710>]"
      ]
     },
     "execution_count": 69,
     "metadata": {},
     "output_type": "execute_result"
    },
    {
     "data": {
      "text/plain": [
       "[<matplotlib.lines.Line2D at 0x160574c3860>]"
      ]
     },
     "execution_count": 69,
     "metadata": {},
     "output_type": "execute_result"
    },
    {
     "data": {
      "text/plain": [
       "Text(0.5,1,'model loss')"
      ]
     },
     "execution_count": 69,
     "metadata": {},
     "output_type": "execute_result"
    },
    {
     "data": {
      "text/plain": [
       "Text(0,0.5,'loss')"
      ]
     },
     "execution_count": 69,
     "metadata": {},
     "output_type": "execute_result"
    },
    {
     "data": {
      "text/plain": [
       "Text(0.5,0,'epoch')"
      ]
     },
     "execution_count": 69,
     "metadata": {},
     "output_type": "execute_result"
    },
    {
     "data": {
      "text/plain": [
       "<matplotlib.legend.Legend at 0x160574b1208>"
      ]
     },
     "execution_count": 69,
     "metadata": {},
     "output_type": "execute_result"
    },
    {
     "name": "stdout",
     "output_type": "stream",
     "text": [
      "Analysis of results\n",
      "              precision    recall  f1-score   support\n",
      "\n",
      "           0       0.96      0.98      0.97       980\n",
      "           1       0.98      0.98      0.98      1135\n",
      "           2       0.96      0.96      0.96      1032\n",
      "           3       0.95      0.96      0.95      1010\n",
      "           4       0.95      0.96      0.95       982\n",
      "           5       0.95      0.95      0.95       892\n",
      "           6       0.95      0.97      0.96       958\n",
      "           7       0.97      0.96      0.96      1028\n",
      "           8       0.96      0.94      0.95       974\n",
      "           9       0.95      0.94      0.94      1009\n",
      "\n",
      "   micro avg       0.96      0.96      0.96     10000\n",
      "   macro avg       0.96      0.96      0.96     10000\n",
      "weighted avg       0.96      0.96      0.96     10000\n",
      "\n",
      "[[ 960    0    1    2    0    5    7    3    1    1]\n",
      " [   0 1114    3    2    1    1    5    1    8    0]\n",
      " [   4    1  992    5    7    2    6    9    6    0]\n",
      " [   1    0   13  965    0   10    0    8    9    4]\n",
      " [   1    0    4    1  940    0   11    1    3   21]\n",
      " [   9    1    0   11    3  846   10    0    6    6]\n",
      " [   7    3    0    0    7   10  927    0    4    0]\n",
      " [   1    7   14    1    3    2    0  983    2   15]\n",
      " [   4    1    4   16    7    7   10    3  918    4]\n",
      " [   8    6    2   10   20    3    0    7    4  949]]\n",
      "Train on 60000 samples, validate on 10000 samples\n",
      "Epoch 1/20\n",
      "60000/60000 [==============================] - 6s 97us/step - loss: 1.4076 - acc: 0.6281 - val_loss: 0.5965 - val_acc: 0.8496\n",
      "Epoch 2/20\n",
      "60000/60000 [==============================] - 4s 60us/step - loss: 0.4795 - acc: 0.8690 - val_loss: 0.3813 - val_acc: 0.8898\n",
      "Epoch 3/20\n",
      "60000/60000 [==============================] - 4s 59us/step - loss: 0.3644 - acc: 0.8962 - val_loss: 0.3218 - val_acc: 0.9091\n",
      "Epoch 4/20\n",
      "60000/60000 [==============================] - 4s 61us/step - loss: 0.3190 - acc: 0.9084 - val_loss: 0.2874 - val_acc: 0.9176\n",
      "Epoch 5/20\n",
      "60000/60000 [==============================] - 4s 60us/step - loss: 0.2905 - acc: 0.9160 - val_loss: 0.2706 - val_acc: 0.9186\n",
      "Epoch 6/20\n",
      "60000/60000 [==============================] - 4s 63us/step - loss: 0.2686 - acc: 0.9221 - val_loss: 0.2493 - val_acc: 0.9256\n",
      "Epoch 7/20\n",
      "60000/60000 [==============================] - 3s 58us/step - loss: 0.2512 - acc: 0.9269 - val_loss: 0.2329 - val_acc: 0.9329\n",
      "Epoch 8/20\n",
      "60000/60000 [==============================] - 3s 58us/step - loss: 0.2357 - acc: 0.9322 - val_loss: 0.2229 - val_acc: 0.9362\n",
      "Epoch 9/20\n",
      "60000/60000 [==============================] - 4s 58us/step - loss: 0.2226 - acc: 0.9356 - val_loss: 0.2096 - val_acc: 0.9395\n",
      "Epoch 10/20\n",
      "60000/60000 [==============================] - 3s 58us/step - loss: 0.2107 - acc: 0.9395 - val_loss: 0.2008 - val_acc: 0.9407\n",
      "Epoch 11/20\n",
      "60000/60000 [==============================] - 4s 60us/step - loss: 0.2002 - acc: 0.9427 - val_loss: 0.1908 - val_acc: 0.9430\n",
      "Epoch 12/20\n",
      "60000/60000 [==============================] - 4s 60us/step - loss: 0.1907 - acc: 0.9453 - val_loss: 0.1838 - val_acc: 0.9460\n",
      "Epoch 13/20\n",
      "60000/60000 [==============================] - 4s 59us/step - loss: 0.1821 - acc: 0.9472 - val_loss: 0.1762 - val_acc: 0.9474\n",
      "Epoch 14/20\n",
      "60000/60000 [==============================] - 4s 59us/step - loss: 0.1740 - acc: 0.9498 - val_loss: 0.1715 - val_acc: 0.9504\n",
      "Epoch 15/20\n",
      "60000/60000 [==============================] - 4s 60us/step - loss: 0.1668 - acc: 0.9516 - val_loss: 0.1643 - val_acc: 0.9502\n",
      "Epoch 16/20\n",
      "60000/60000 [==============================] - 4s 60us/step - loss: 0.1603 - acc: 0.9535 - val_loss: 0.1578 - val_acc: 0.9521\n",
      "Epoch 17/20\n",
      "60000/60000 [==============================] - 4s 59us/step - loss: 0.1541 - acc: 0.9557 - val_loss: 0.1539 - val_acc: 0.9537\n",
      "Epoch 18/20\n",
      "60000/60000 [==============================] - 4s 58us/step - loss: 0.1484 - acc: 0.9573 - val_loss: 0.1479 - val_acc: 0.9563\n",
      "Epoch 19/20\n",
      "60000/60000 [==============================] - 3s 57us/step - loss: 0.1432 - acc: 0.9591 - val_loss: 0.1454 - val_acc: 0.9548\n",
      "Epoch 20/20\n",
      "60000/60000 [==============================] - 3s 58us/step - loss: 0.1382 - acc: 0.9606 - val_loss: 0.1418 - val_acc: 0.9575\n"
     ]
    },
    {
     "data": {
      "text/plain": [
       "42"
      ]
     },
     "execution_count": 69,
     "metadata": {},
     "output_type": "execute_result"
    },
    {
     "data": {
      "text/plain": [
       "24"
      ]
     },
     "execution_count": 69,
     "metadata": {},
     "output_type": "execute_result"
    },
    {
     "data": {
      "text/plain": [
       "1"
      ]
     },
     "execution_count": 69,
     "metadata": {},
     "output_type": "execute_result"
    },
    {
     "data": {
      "text/plain": [
       "15"
      ]
     },
     "execution_count": 69,
     "metadata": {},
     "output_type": "execute_result"
    },
    {
     "data": {
      "text/plain": [
       "2"
      ]
     },
     "execution_count": 69,
     "metadata": {},
     "output_type": "execute_result"
    },
    {
     "data": {
      "text/plain": [
       "[<matplotlib.lines.Line2D at 0x160587f1fd0>]"
      ]
     },
     "execution_count": 69,
     "metadata": {},
     "output_type": "execute_result"
    },
    {
     "data": {
      "text/plain": [
       "[<matplotlib.lines.Line2D at 0x160588084a8>]"
      ]
     },
     "execution_count": 69,
     "metadata": {},
     "output_type": "execute_result"
    },
    {
     "data": {
      "text/plain": [
       "Text(0.5,1,'model accuracy')"
      ]
     },
     "execution_count": 69,
     "metadata": {},
     "output_type": "execute_result"
    },
    {
     "data": {
      "text/plain": [
       "Text(0,0.5,'accuracy')"
      ]
     },
     "execution_count": 69,
     "metadata": {},
     "output_type": "execute_result"
    },
    {
     "data": {
      "text/plain": [
       "Text(0.5,0,'epoch')"
      ]
     },
     "execution_count": 69,
     "metadata": {},
     "output_type": "execute_result"
    },
    {
     "data": {
      "text/plain": [
       "<matplotlib.legend.Legend at 0x160587ddac8>"
      ]
     },
     "execution_count": 69,
     "metadata": {},
     "output_type": "execute_result"
    },
    {
     "data": {
      "text/plain": [
       "[<matplotlib.lines.Line2D at 0x1605886cf60>]"
      ]
     },
     "execution_count": 69,
     "metadata": {},
     "output_type": "execute_result"
    },
    {
     "data": {
      "text/plain": [
       "[<matplotlib.lines.Line2D at 0x160588750f0>]"
      ]
     },
     "execution_count": 69,
     "metadata": {},
     "output_type": "execute_result"
    },
    {
     "data": {
      "text/plain": [
       "Text(0.5,1,'model loss')"
      ]
     },
     "execution_count": 69,
     "metadata": {},
     "output_type": "execute_result"
    },
    {
     "data": {
      "text/plain": [
       "Text(0,0.5,'loss')"
      ]
     },
     "execution_count": 69,
     "metadata": {},
     "output_type": "execute_result"
    },
    {
     "data": {
      "text/plain": [
       "Text(0.5,0,'epoch')"
      ]
     },
     "execution_count": 69,
     "metadata": {},
     "output_type": "execute_result"
    },
    {
     "data": {
      "text/plain": [
       "<matplotlib.legend.Legend at 0x1605885ba58>"
      ]
     },
     "execution_count": 69,
     "metadata": {},
     "output_type": "execute_result"
    },
    {
     "name": "stdout",
     "output_type": "stream",
     "text": [
      "Analysis of results\n",
      "              precision    recall  f1-score   support\n",
      "\n",
      "           0       0.97      0.98      0.98       980\n",
      "           1       0.98      0.99      0.98      1135\n",
      "           2       0.96      0.96      0.96      1032\n",
      "           3       0.95      0.95      0.95      1010\n",
      "           4       0.95      0.96      0.96       982\n",
      "           5       0.94      0.95      0.94       892\n",
      "           6       0.95      0.98      0.96       958\n",
      "           7       0.96      0.95      0.95      1028\n",
      "           8       0.97      0.92      0.94       974\n",
      "           9       0.95      0.94      0.94      1009\n",
      "\n",
      "   micro avg       0.96      0.96      0.96     10000\n",
      "   macro avg       0.96      0.96      0.96     10000\n",
      "weighted avg       0.96      0.96      0.96     10000\n",
      "\n",
      "[[ 965    0    1    1    0    3    6    1    2    1]\n",
      " [   0 1120    3    1    0    1    4    2    4    0]\n",
      " [   6    1  990    7    6    1    8    7    6    0]\n",
      " [   0    1    9  961    0   15    0   13    6    5]\n",
      " [   1    0    6    0  941    1   11    3    2   17]\n",
      " [   9    1    1   12    4  844   11    0    6    4]\n",
      " [   6    3    0    0    4    9  936    0    0    0]\n",
      " [   1    9   16    3    3    1    0  975    1   19]\n",
      " [   4    4    4   19    6   14   12   10  897    4]\n",
      " [   7    6    1    9   23    7    1    8    1  946]]\n",
      "Train on 60000 samples, validate on 10000 samples\n",
      "Epoch 1/20\n",
      "60000/60000 [==============================] - 6s 95us/step - loss: 1.3876 - acc: 0.6480 - val_loss: 0.5816 - val_acc: 0.8517\n",
      "Epoch 2/20\n",
      "60000/60000 [==============================] - 3s 57us/step - loss: 0.4706 - acc: 0.8743 - val_loss: 0.3745 - val_acc: 0.8953\n",
      "Epoch 3/20\n",
      "60000/60000 [==============================] - 3s 57us/step - loss: 0.3601 - acc: 0.8982 - val_loss: 0.3210 - val_acc: 0.9097\n",
      "Epoch 4/20\n",
      "60000/60000 [==============================] - 3s 58us/step - loss: 0.3183 - acc: 0.9084 - val_loss: 0.2869 - val_acc: 0.9166\n",
      "Epoch 5/20\n",
      "60000/60000 [==============================] - 3s 57us/step - loss: 0.2918 - acc: 0.9158 - val_loss: 0.2657 - val_acc: 0.9248\n",
      "Epoch 6/20\n",
      "60000/60000 [==============================] - 3s 58us/step - loss: 0.2713 - acc: 0.9220 - val_loss: 0.2526 - val_acc: 0.9289\n",
      "Epoch 7/20\n",
      "60000/60000 [==============================] - 3s 57us/step - loss: 0.2539 - acc: 0.9271 - val_loss: 0.2351 - val_acc: 0.9332\n",
      "Epoch 8/20\n",
      "60000/60000 [==============================] - 3s 58us/step - loss: 0.2390 - acc: 0.9314 - val_loss: 0.2260 - val_acc: 0.9346\n",
      "Epoch 9/20\n",
      "60000/60000 [==============================] - 4s 61us/step - loss: 0.2259 - acc: 0.9359 - val_loss: 0.2127 - val_acc: 0.9379\n",
      "Epoch 10/20\n",
      "60000/60000 [==============================] - 4s 61us/step - loss: 0.2139 - acc: 0.9391 - val_loss: 0.2038 - val_acc: 0.9429\n",
      "Epoch 11/20\n",
      "60000/60000 [==============================] - 4s 62us/step - loss: 0.2037 - acc: 0.9418 - val_loss: 0.1921 - val_acc: 0.9456\n",
      "Epoch 12/20\n",
      "60000/60000 [==============================] - 4s 61us/step - loss: 0.1937 - acc: 0.9443 - val_loss: 0.1852 - val_acc: 0.9472\n",
      "Epoch 13/20\n",
      "60000/60000 [==============================] - 4s 61us/step - loss: 0.1846 - acc: 0.9473 - val_loss: 0.1794 - val_acc: 0.9475\n",
      "Epoch 14/20\n",
      "60000/60000 [==============================] - 4s 62us/step - loss: 0.1768 - acc: 0.9494 - val_loss: 0.1708 - val_acc: 0.9510\n",
      "Epoch 15/20\n",
      "60000/60000 [==============================] - 4s 68us/step - loss: 0.1696 - acc: 0.9517 - val_loss: 0.1648 - val_acc: 0.9523\n",
      "Epoch 16/20\n",
      "60000/60000 [==============================] - 4s 62us/step - loss: 0.1629 - acc: 0.9534 - val_loss: 0.1590 - val_acc: 0.9536\n",
      "Epoch 17/20\n",
      "60000/60000 [==============================] - 3s 58us/step - loss: 0.1565 - acc: 0.9554 - val_loss: 0.1544 - val_acc: 0.9552\n",
      "Epoch 18/20\n",
      "60000/60000 [==============================] - 3s 58us/step - loss: 0.1507 - acc: 0.9565 - val_loss: 0.1522 - val_acc: 0.9549\n",
      "Epoch 19/20\n",
      "60000/60000 [==============================] - 4s 58us/step - loss: 0.1457 - acc: 0.9581 - val_loss: 0.1448 - val_acc: 0.9569\n",
      "Epoch 20/20\n",
      "60000/60000 [==============================] - 4s 69us/step - loss: 0.1403 - acc: 0.9598 - val_loss: 0.1441 - val_acc: 0.9559\n"
     ]
    },
    {
     "data": {
      "text/plain": [
       "42"
      ]
     },
     "execution_count": 69,
     "metadata": {},
     "output_type": "execute_result"
    },
    {
     "data": {
      "text/plain": [
       "24"
      ]
     },
     "execution_count": 69,
     "metadata": {},
     "output_type": "execute_result"
    },
    {
     "data": {
      "text/plain": [
       "1"
      ]
     },
     "execution_count": 69,
     "metadata": {},
     "output_type": "execute_result"
    },
    {
     "data": {
      "text/plain": [
       "15"
      ]
     },
     "execution_count": 69,
     "metadata": {},
     "output_type": "execute_result"
    },
    {
     "data": {
      "text/plain": [
       "2"
      ]
     },
     "execution_count": 69,
     "metadata": {},
     "output_type": "execute_result"
    },
    {
     "data": {
      "text/plain": [
       "[<matplotlib.lines.Line2D at 0x16059b8f860>]"
      ]
     },
     "execution_count": 69,
     "metadata": {},
     "output_type": "execute_result"
    },
    {
     "data": {
      "text/plain": [
       "[<matplotlib.lines.Line2D at 0x16059b8fcf8>]"
      ]
     },
     "execution_count": 69,
     "metadata": {},
     "output_type": "execute_result"
    },
    {
     "data": {
      "text/plain": [
       "Text(0.5,1,'model accuracy')"
      ]
     },
     "execution_count": 69,
     "metadata": {},
     "output_type": "execute_result"
    },
    {
     "data": {
      "text/plain": [
       "Text(0,0.5,'accuracy')"
      ]
     },
     "execution_count": 69,
     "metadata": {},
     "output_type": "execute_result"
    },
    {
     "data": {
      "text/plain": [
       "Text(0.5,0,'epoch')"
      ]
     },
     "execution_count": 69,
     "metadata": {},
     "output_type": "execute_result"
    },
    {
     "data": {
      "text/plain": [
       "<matplotlib.legend.Legend at 0x16059b7e358>"
      ]
     },
     "execution_count": 69,
     "metadata": {},
     "output_type": "execute_result"
    },
    {
     "data": {
      "text/plain": [
       "[<matplotlib.lines.Line2D at 0x16059c0c7f0>]"
      ]
     },
     "execution_count": 69,
     "metadata": {},
     "output_type": "execute_result"
    },
    {
     "data": {
      "text/plain": [
       "[<matplotlib.lines.Line2D at 0x16059c0cda0>]"
      ]
     },
     "execution_count": 69,
     "metadata": {},
     "output_type": "execute_result"
    },
    {
     "data": {
      "text/plain": [
       "Text(0.5,1,'model loss')"
      ]
     },
     "execution_count": 69,
     "metadata": {},
     "output_type": "execute_result"
    },
    {
     "data": {
      "text/plain": [
       "Text(0,0.5,'loss')"
      ]
     },
     "execution_count": 69,
     "metadata": {},
     "output_type": "execute_result"
    },
    {
     "data": {
      "text/plain": [
       "Text(0.5,0,'epoch')"
      ]
     },
     "execution_count": 69,
     "metadata": {},
     "output_type": "execute_result"
    },
    {
     "data": {
      "text/plain": [
       "<matplotlib.legend.Legend at 0x16059c172e8>"
      ]
     },
     "execution_count": 69,
     "metadata": {},
     "output_type": "execute_result"
    },
    {
     "name": "stdout",
     "output_type": "stream",
     "text": [
      "Analysis of results\n",
      "              precision    recall  f1-score   support\n",
      "\n",
      "           0       0.96      0.98      0.97       980\n",
      "           1       0.98      0.99      0.98      1135\n",
      "           2       0.96      0.95      0.96      1032\n",
      "           3       0.95      0.96      0.95      1010\n",
      "           4       0.96      0.95      0.95       982\n",
      "           5       0.95      0.95      0.95       892\n",
      "           6       0.94      0.96      0.95       958\n",
      "           7       0.95      0.96      0.96      1028\n",
      "           8       0.97      0.92      0.95       974\n",
      "           9       0.94      0.94      0.94      1009\n",
      "\n",
      "   micro avg       0.96      0.96      0.96     10000\n",
      "   macro avg       0.96      0.96      0.96     10000\n",
      "weighted avg       0.96      0.96      0.96     10000\n",
      "\n",
      "[[ 962    0    0    2    0    4    8    3    1    0]\n",
      " [   0 1119    1    3    1    1    3    2    5    0]\n",
      " [   7    3  985    9    3    1    9    8    6    1]\n",
      " [   1    0   11  966    0    8    0   10    6    8]\n",
      " [   1    0    7    0  929    2   10    2    2   29]\n",
      " [   7    2    0    9    0  847   12    2    6    7]\n",
      " [   9    3    3    1    6   10  922    2    2    0]\n",
      " [   1    8   15    4    3    1    0  985    0   11]\n",
      " [   5    4    4   16    8   11   12    9  898    7]\n",
      " [   7    8    1   10   20    7    1    9    0  946]]\n",
      "Train on 60000 samples, validate on 10000 samples\n",
      "Epoch 1/20\n",
      "60000/60000 [==============================] - 6s 94us/step - loss: 1.4268 - acc: 0.6397 - val_loss: 0.6095 - val_acc: 0.8519\n",
      "Epoch 2/20\n",
      "60000/60000 [==============================] - 3s 54us/step - loss: 0.4833 - acc: 0.8711 - val_loss: 0.3842 - val_acc: 0.8925\n",
      "Epoch 3/20\n",
      "60000/60000 [==============================] - 4s 68us/step - loss: 0.3645 - acc: 0.8966 - val_loss: 0.3189 - val_acc: 0.9116\n",
      "Epoch 4/20\n",
      "60000/60000 [==============================] - 3s 58us/step - loss: 0.3190 - acc: 0.9086 - val_loss: 0.2916 - val_acc: 0.9171\n",
      "Epoch 5/20\n",
      "60000/60000 [==============================] - 3s 52us/step - loss: 0.2911 - acc: 0.9161 - val_loss: 0.2652 - val_acc: 0.9244\n",
      "Epoch 6/20\n",
      "60000/60000 [==============================] - 4s 64us/step - loss: 0.2694 - acc: 0.9224 - val_loss: 0.2512 - val_acc: 0.9292\n",
      "Epoch 7/20\n",
      "60000/60000 [==============================] - 4s 58us/step - loss: 0.2520 - acc: 0.9282 - val_loss: 0.2325 - val_acc: 0.9328\n",
      "Epoch 8/20\n",
      "60000/60000 [==============================] - 4s 60us/step - loss: 0.2370 - acc: 0.9326 - val_loss: 0.2255 - val_acc: 0.9337\n",
      "Epoch 9/20\n",
      "60000/60000 [==============================] - 3s 54us/step - loss: 0.2242 - acc: 0.9364 - val_loss: 0.2101 - val_acc: 0.9402\n",
      "Epoch 10/20\n",
      "60000/60000 [==============================] - 3s 53us/step - loss: 0.2120 - acc: 0.9398 - val_loss: 0.2018 - val_acc: 0.9401\n",
      "Epoch 11/20\n",
      "60000/60000 [==============================] - 3s 53us/step - loss: 0.2012 - acc: 0.9431 - val_loss: 0.1918 - val_acc: 0.9440\n",
      "Epoch 12/20\n",
      "60000/60000 [==============================] - 4s 69us/step - loss: 0.1908 - acc: 0.9456 - val_loss: 0.1877 - val_acc: 0.9434\n",
      "Epoch 13/20\n",
      "60000/60000 [==============================] - 3s 58us/step - loss: 0.1821 - acc: 0.9484 - val_loss: 0.1760 - val_acc: 0.9486\n",
      "Epoch 14/20\n",
      "60000/60000 [==============================] - 3s 52us/step - loss: 0.1738 - acc: 0.9504 - val_loss: 0.1706 - val_acc: 0.9495\n",
      "Epoch 15/20\n",
      "60000/60000 [==============================] - 4s 62us/step - loss: 0.1664 - acc: 0.9531 - val_loss: 0.1632 - val_acc: 0.9522\n",
      "Epoch 16/20\n",
      "60000/60000 [==============================] - 3s 58us/step - loss: 0.1590 - acc: 0.9551 - val_loss: 0.1562 - val_acc: 0.9540\n",
      "Epoch 17/20\n",
      "60000/60000 [==============================] - 3s 56us/step - loss: 0.1528 - acc: 0.9569 - val_loss: 0.1529 - val_acc: 0.9547\n",
      "Epoch 18/20\n",
      "60000/60000 [==============================] - 3s 53us/step - loss: 0.1470 - acc: 0.9576 - val_loss: 0.1476 - val_acc: 0.9570\n",
      "Epoch 19/20\n",
      "60000/60000 [==============================] - 3s 52us/step - loss: 0.1414 - acc: 0.9597 - val_loss: 0.1415 - val_acc: 0.9572\n",
      "Epoch 20/20\n",
      "60000/60000 [==============================] - 3s 51us/step - loss: 0.1362 - acc: 0.9609 - val_loss: 0.1391 - val_acc: 0.9584\n"
     ]
    },
    {
     "data": {
      "text/plain": [
       "42"
      ]
     },
     "execution_count": 69,
     "metadata": {},
     "output_type": "execute_result"
    },
    {
     "data": {
      "text/plain": [
       "23"
      ]
     },
     "execution_count": 69,
     "metadata": {},
     "output_type": "execute_result"
    },
    {
     "data": {
      "text/plain": [
       "1"
      ]
     },
     "execution_count": 69,
     "metadata": {},
     "output_type": "execute_result"
    },
    {
     "data": {
      "text/plain": [
       "15"
      ]
     },
     "execution_count": 69,
     "metadata": {},
     "output_type": "execute_result"
    },
    {
     "data": {
      "text/plain": [
       "2"
      ]
     },
     "execution_count": 69,
     "metadata": {},
     "output_type": "execute_result"
    },
    {
     "data": {
      "text/plain": [
       "[<matplotlib.lines.Line2D at 0x16059f6e0f0>]"
      ]
     },
     "execution_count": 69,
     "metadata": {},
     "output_type": "execute_result"
    },
    {
     "data": {
      "text/plain": [
       "[<matplotlib.lines.Line2D at 0x16059f6e588>]"
      ]
     },
     "execution_count": 69,
     "metadata": {},
     "output_type": "execute_result"
    },
    {
     "data": {
      "text/plain": [
       "Text(0.5,1,'model accuracy')"
      ]
     },
     "execution_count": 69,
     "metadata": {},
     "output_type": "execute_result"
    },
    {
     "data": {
      "text/plain": [
       "Text(0,0.5,'accuracy')"
      ]
     },
     "execution_count": 69,
     "metadata": {},
     "output_type": "execute_result"
    },
    {
     "data": {
      "text/plain": [
       "Text(0.5,0,'epoch')"
      ]
     },
     "execution_count": 69,
     "metadata": {},
     "output_type": "execute_result"
    },
    {
     "data": {
      "text/plain": [
       "<matplotlib.legend.Legend at 0x16059f4bac8>"
      ]
     },
     "execution_count": 69,
     "metadata": {},
     "output_type": "execute_result"
    },
    {
     "data": {
      "text/plain": [
       "[<matplotlib.lines.Line2D at 0x1605afb3080>]"
      ]
     },
     "execution_count": 69,
     "metadata": {},
     "output_type": "execute_result"
    },
    {
     "data": {
      "text/plain": [
       "[<matplotlib.lines.Line2D at 0x1605afb31d0>]"
      ]
     },
     "execution_count": 69,
     "metadata": {},
     "output_type": "execute_result"
    },
    {
     "data": {
      "text/plain": [
       "Text(0.5,1,'model loss')"
      ]
     },
     "execution_count": 69,
     "metadata": {},
     "output_type": "execute_result"
    },
    {
     "data": {
      "text/plain": [
       "Text(0,0.5,'loss')"
      ]
     },
     "execution_count": 69,
     "metadata": {},
     "output_type": "execute_result"
    },
    {
     "data": {
      "text/plain": [
       "Text(0.5,0,'epoch')"
      ]
     },
     "execution_count": 69,
     "metadata": {},
     "output_type": "execute_result"
    },
    {
     "data": {
      "text/plain": [
       "<matplotlib.legend.Legend at 0x1605afb3b38>"
      ]
     },
     "execution_count": 69,
     "metadata": {},
     "output_type": "execute_result"
    },
    {
     "name": "stdout",
     "output_type": "stream",
     "text": [
      "Analysis of results\n",
      "              precision    recall  f1-score   support\n",
      "\n",
      "           0       0.96      0.98      0.97       980\n",
      "           1       0.98      0.98      0.98      1135\n",
      "           2       0.95      0.97      0.96      1032\n",
      "           3       0.95      0.96      0.96      1010\n",
      "           4       0.96      0.96      0.96       982\n",
      "           5       0.97      0.94      0.95       892\n",
      "           6       0.95      0.97      0.96       958\n",
      "           7       0.96      0.95      0.95      1028\n",
      "           8       0.94      0.95      0.94       974\n",
      "           9       0.96      0.93      0.94      1009\n",
      "\n",
      "   micro avg       0.96      0.96      0.96     10000\n",
      "   macro avg       0.96      0.96      0.96     10000\n",
      "weighted avg       0.96      0.96      0.96     10000\n",
      "\n",
      "[[ 964    0    1    2    1    2    8    1    1    0]\n",
      " [   0 1114    2    2    1    1    5    2    8    0]\n",
      " [   5    1  999    5    3    0    6    7    5    1]\n",
      " [   0    0   13  966    0    8    1    8   13    1]\n",
      " [   1    0    7    0  945    0    5    2    3   19]\n",
      " [   8    1    0   12    2  837   11    2   15    4]\n",
      " [   9    3    2    1    6    8  925    0    4    0]\n",
      " [   0   10   23    2    4    1    0  976    1   11]\n",
      " [   6    2    4   14    4    4    8    7  921    4]\n",
      " [   6    8    2    9   21    2    1   11   12  937]]\n",
      "Train on 60000 samples, validate on 10000 samples\n",
      "Epoch 1/20\n",
      "60000/60000 [==============================] - 5s 90us/step - loss: 1.5374 - acc: 0.6044 - val_loss: 0.6696 - val_acc: 0.8305\n",
      "Epoch 2/20\n",
      "60000/60000 [==============================] - 3s 53us/step - loss: 0.5127 - acc: 0.8606 - val_loss: 0.4004 - val_acc: 0.8867\n",
      "Epoch 3/20\n",
      "60000/60000 [==============================] - 3s 54us/step - loss: 0.3752 - acc: 0.8935 - val_loss: 0.3337 - val_acc: 0.9026\n",
      "Epoch 4/20\n",
      "60000/60000 [==============================] - 3s 53us/step - loss: 0.3249 - acc: 0.9059 - val_loss: 0.2964 - val_acc: 0.9143\n",
      "Epoch 5/20\n",
      "60000/60000 [==============================] - 3s 53us/step - loss: 0.2942 - acc: 0.9147 - val_loss: 0.2747 - val_acc: 0.9205\n",
      "Epoch 6/20\n",
      "60000/60000 [==============================] - 3s 55us/step - loss: 0.2720 - acc: 0.9210 - val_loss: 0.2560 - val_acc: 0.9236\n",
      "Epoch 7/20\n",
      "60000/60000 [==============================] - 3s 53us/step - loss: 0.2535 - acc: 0.9266 - val_loss: 0.2410 - val_acc: 0.9309\n",
      "Epoch 8/20\n",
      "60000/60000 [==============================] - 3s 52us/step - loss: 0.2378 - acc: 0.9314 - val_loss: 0.2276 - val_acc: 0.9348\n",
      "Epoch 9/20\n",
      "60000/60000 [==============================] - 3s 53us/step - loss: 0.2240 - acc: 0.9353 - val_loss: 0.2155 - val_acc: 0.9365\n",
      "Epoch 10/20\n",
      "60000/60000 [==============================] - 3s 53us/step - loss: 0.2121 - acc: 0.9388 - val_loss: 0.2041 - val_acc: 0.9396\n",
      "Epoch 11/20\n",
      "60000/60000 [==============================] - 3s 52us/step - loss: 0.2008 - acc: 0.9423 - val_loss: 0.1966 - val_acc: 0.9425\n",
      "Epoch 12/20\n",
      "60000/60000 [==============================] - 3s 52us/step - loss: 0.1912 - acc: 0.9448 - val_loss: 0.1904 - val_acc: 0.9412\n",
      "Epoch 13/20\n",
      "60000/60000 [==============================] - 4s 74us/step - loss: 0.1822 - acc: 0.9474 - val_loss: 0.1800 - val_acc: 0.9461\n",
      "Epoch 14/20\n",
      "60000/60000 [==============================] - 4s 71us/step - loss: 0.1741 - acc: 0.9500 - val_loss: 0.1725 - val_acc: 0.9484\n",
      "Epoch 15/20\n",
      "60000/60000 [==============================] - 5s 75us/step - loss: 0.1664 - acc: 0.9522 - val_loss: 0.1675 - val_acc: 0.9506\n",
      "Epoch 16/20\n",
      "60000/60000 [==============================] - 3s 53us/step - loss: 0.1597 - acc: 0.9541 - val_loss: 0.1606 - val_acc: 0.9519\n",
      "Epoch 17/20\n",
      "60000/60000 [==============================] - 3s 55us/step - loss: 0.1530 - acc: 0.9566 - val_loss: 0.1536 - val_acc: 0.9532\n",
      "Epoch 18/20\n",
      "60000/60000 [==============================] - 3s 53us/step - loss: 0.1472 - acc: 0.9577 - val_loss: 0.1509 - val_acc: 0.9540\n",
      "Epoch 19/20\n",
      "60000/60000 [==============================] - 3s 53us/step - loss: 0.1416 - acc: 0.9592 - val_loss: 0.1468 - val_acc: 0.9564\n",
      "Epoch 20/20\n",
      "60000/60000 [==============================] - 3s 53us/step - loss: 0.1364 - acc: 0.9605 - val_loss: 0.1418 - val_acc: 0.9578\n"
     ]
    },
    {
     "data": {
      "text/plain": [
       "42"
      ]
     },
     "execution_count": 69,
     "metadata": {},
     "output_type": "execute_result"
    },
    {
     "data": {
      "text/plain": [
       "24"
      ]
     },
     "execution_count": 69,
     "metadata": {},
     "output_type": "execute_result"
    },
    {
     "data": {
      "text/plain": [
       "1"
      ]
     },
     "execution_count": 69,
     "metadata": {},
     "output_type": "execute_result"
    },
    {
     "data": {
      "text/plain": [
       "15"
      ]
     },
     "execution_count": 69,
     "metadata": {},
     "output_type": "execute_result"
    },
    {
     "data": {
      "text/plain": [
       "2"
      ]
     },
     "execution_count": 69,
     "metadata": {},
     "output_type": "execute_result"
    },
    {
     "data": {
      "text/plain": [
       "[<matplotlib.lines.Line2D at 0x1605b300940>]"
      ]
     },
     "execution_count": 69,
     "metadata": {},
     "output_type": "execute_result"
    },
    {
     "data": {
      "text/plain": [
       "[<matplotlib.lines.Line2D at 0x1605b300dd8>]"
      ]
     },
     "execution_count": 69,
     "metadata": {},
     "output_type": "execute_result"
    },
    {
     "data": {
      "text/plain": [
       "Text(0.5,1,'model accuracy')"
      ]
     },
     "execution_count": 69,
     "metadata": {},
     "output_type": "execute_result"
    },
    {
     "data": {
      "text/plain": [
       "Text(0,0.5,'accuracy')"
      ]
     },
     "execution_count": 69,
     "metadata": {},
     "output_type": "execute_result"
    },
    {
     "data": {
      "text/plain": [
       "Text(0.5,0,'epoch')"
      ]
     },
     "execution_count": 69,
     "metadata": {},
     "output_type": "execute_result"
    },
    {
     "data": {
      "text/plain": [
       "<matplotlib.legend.Legend at 0x1605b2ef358>"
      ]
     },
     "execution_count": 69,
     "metadata": {},
     "output_type": "execute_result"
    },
    {
     "data": {
      "text/plain": [
       "[<matplotlib.lines.Line2D at 0x1605b37cd68>]"
      ]
     },
     "execution_count": 69,
     "metadata": {},
     "output_type": "execute_result"
    },
    {
     "data": {
      "text/plain": [
       "[<matplotlib.lines.Line2D at 0x1605b3852e8>]"
      ]
     },
     "execution_count": 69,
     "metadata": {},
     "output_type": "execute_result"
    },
    {
     "data": {
      "text/plain": [
       "Text(0.5,1,'model loss')"
      ]
     },
     "execution_count": 69,
     "metadata": {},
     "output_type": "execute_result"
    },
    {
     "data": {
      "text/plain": [
       "Text(0,0.5,'loss')"
      ]
     },
     "execution_count": 69,
     "metadata": {},
     "output_type": "execute_result"
    },
    {
     "data": {
      "text/plain": [
       "Text(0.5,0,'epoch')"
      ]
     },
     "execution_count": 69,
     "metadata": {},
     "output_type": "execute_result"
    },
    {
     "data": {
      "text/plain": [
       "<matplotlib.legend.Legend at 0x1605b385898>"
      ]
     },
     "execution_count": 69,
     "metadata": {},
     "output_type": "execute_result"
    },
    {
     "name": "stdout",
     "output_type": "stream",
     "text": [
      "Analysis of results\n",
      "              precision    recall  f1-score   support\n",
      "\n",
      "           0       0.97      0.98      0.97       980\n",
      "           1       0.98      0.99      0.98      1135\n",
      "           2       0.96      0.95      0.96      1032\n",
      "           3       0.94      0.96      0.95      1010\n",
      "           4       0.97      0.95      0.96       982\n",
      "           5       0.95      0.95      0.95       892\n",
      "           6       0.95      0.96      0.96       958\n",
      "           7       0.95      0.95      0.95      1028\n",
      "           8       0.97      0.93      0.95       974\n",
      "           9       0.94      0.95      0.95      1009\n",
      "\n",
      "   micro avg       0.96      0.96      0.96     10000\n",
      "   macro avg       0.96      0.96      0.96     10000\n",
      "weighted avg       0.96      0.96      0.96     10000\n",
      "\n",
      "[[ 958    0    1    1    0    8    5    6    1    0]\n",
      " [   0 1119    3    2    0    1    3    2    5    0]\n",
      " [   8    1  985   10    3    1    9   10    3    2]\n",
      " [   0    1    7  973    0   12    0    8    5    4]\n",
      " [   1    0    3    0  934    0   12    3    2   27]\n",
      " [   7    1    0   13    1  847   10    1    6    6]\n",
      " [   6    3    4    0    7   10  924    3    1    0]\n",
      " [   1    9   16    9    3    1    0  976    0   13]\n",
      " [   4    1    5   20    5   10   12    7  905    5]\n",
      " [   5    8    1   10   14    3    1    9    1  957]]\n",
      "Train on 60000 samples, validate on 10000 samples\n",
      "Epoch 1/20\n",
      "60000/60000 [==============================] - 8s 130us/step - loss: 1.4385 - acc: 0.6317 - val_loss: 0.6251 - val_acc: 0.8433\n",
      "Epoch 2/20\n",
      "60000/60000 [==============================] - 5s 83us/step - loss: 0.4920 - acc: 0.8663 - val_loss: 0.3818 - val_acc: 0.8967\n",
      "Epoch 3/20\n",
      "60000/60000 [==============================] - 3s 58us/step - loss: 0.3655 - acc: 0.8953 - val_loss: 0.3235 - val_acc: 0.9074\n",
      "Epoch 4/20\n",
      "60000/60000 [==============================] - 3s 57us/step - loss: 0.3163 - acc: 0.9084 - val_loss: 0.2871 - val_acc: 0.9152\n",
      "Epoch 5/20\n",
      "60000/60000 [==============================] - 4s 58us/step - loss: 0.2861 - acc: 0.9169 - val_loss: 0.2623 - val_acc: 0.9239\n",
      "Epoch 6/20\n",
      "60000/60000 [==============================] - 4s 59us/step - loss: 0.2639 - acc: 0.9238 - val_loss: 0.2490 - val_acc: 0.9289\n",
      "Epoch 7/20\n",
      "60000/60000 [==============================] - 3s 58us/step - loss: 0.2454 - acc: 0.9284 - val_loss: 0.2322 - val_acc: 0.9344\n",
      "Epoch 8/20\n",
      "60000/60000 [==============================] - 3s 57us/step - loss: 0.2305 - acc: 0.9341 - val_loss: 0.2183 - val_acc: 0.9371\n",
      "Epoch 9/20\n",
      "60000/60000 [==============================] - 3s 57us/step - loss: 0.2174 - acc: 0.9381 - val_loss: 0.2117 - val_acc: 0.9387\n",
      "Epoch 10/20\n",
      "60000/60000 [==============================] - 3s 57us/step - loss: 0.2057 - acc: 0.9409 - val_loss: 0.1976 - val_acc: 0.9436\n",
      "Epoch 11/20\n",
      "60000/60000 [==============================] - 3s 55us/step - loss: 0.1952 - acc: 0.9434 - val_loss: 0.1891 - val_acc: 0.9449\n",
      "Epoch 12/20\n",
      "60000/60000 [==============================] - 3s 55us/step - loss: 0.1857 - acc: 0.9466 - val_loss: 0.1839 - val_acc: 0.9464\n",
      "Epoch 13/20\n",
      "60000/60000 [==============================] - 3s 55us/step - loss: 0.1774 - acc: 0.9484 - val_loss: 0.1756 - val_acc: 0.9474\n",
      "Epoch 14/20\n",
      "60000/60000 [==============================] - 3s 54us/step - loss: 0.1697 - acc: 0.9505 - val_loss: 0.1722 - val_acc: 0.9501\n",
      "Epoch 15/20\n",
      "60000/60000 [==============================] - 3s 54us/step - loss: 0.1628 - acc: 0.9523 - val_loss: 0.1628 - val_acc: 0.9506\n",
      "Epoch 16/20\n",
      "60000/60000 [==============================] - 3s 55us/step - loss: 0.1562 - acc: 0.9540 - val_loss: 0.1609 - val_acc: 0.9518\n",
      "Epoch 17/20\n",
      "60000/60000 [==============================] - 3s 55us/step - loss: 0.1501 - acc: 0.9564 - val_loss: 0.1534 - val_acc: 0.9540\n",
      "Epoch 18/20\n",
      "60000/60000 [==============================] - 3s 54us/step - loss: 0.1446 - acc: 0.9579 - val_loss: 0.1483 - val_acc: 0.9556\n",
      "Epoch 19/20\n",
      "60000/60000 [==============================] - 3s 55us/step - loss: 0.1396 - acc: 0.9591 - val_loss: 0.1484 - val_acc: 0.9552\n",
      "Epoch 20/20\n",
      "60000/60000 [==============================] - 3s 54us/step - loss: 0.1349 - acc: 0.9610 - val_loss: 0.1415 - val_acc: 0.9582\n"
     ]
    },
    {
     "data": {
      "text/plain": [
       "42"
      ]
     },
     "execution_count": 69,
     "metadata": {},
     "output_type": "execute_result"
    },
    {
     "data": {
      "text/plain": [
       "24"
      ]
     },
     "execution_count": 69,
     "metadata": {},
     "output_type": "execute_result"
    },
    {
     "data": {
      "text/plain": [
       "1"
      ]
     },
     "execution_count": 69,
     "metadata": {},
     "output_type": "execute_result"
    },
    {
     "data": {
      "text/plain": [
       "15"
      ]
     },
     "execution_count": 69,
     "metadata": {},
     "output_type": "execute_result"
    },
    {
     "data": {
      "text/plain": [
       "2"
      ]
     },
     "execution_count": 69,
     "metadata": {},
     "output_type": "execute_result"
    },
    {
     "data": {
      "text/plain": [
       "[<matplotlib.lines.Line2D at 0x1605b6d2b70>]"
      ]
     },
     "execution_count": 69,
     "metadata": {},
     "output_type": "execute_result"
    },
    {
     "data": {
      "text/plain": [
       "[<matplotlib.lines.Line2D at 0x1605b6fb0b8>]"
      ]
     },
     "execution_count": 69,
     "metadata": {},
     "output_type": "execute_result"
    },
    {
     "data": {
      "text/plain": [
       "Text(0.5,1,'model accuracy')"
      ]
     },
     "execution_count": 69,
     "metadata": {},
     "output_type": "execute_result"
    },
    {
     "data": {
      "text/plain": [
       "Text(0,0.5,'accuracy')"
      ]
     },
     "execution_count": 69,
     "metadata": {},
     "output_type": "execute_result"
    },
    {
     "data": {
      "text/plain": [
       "Text(0.5,0,'epoch')"
      ]
     },
     "execution_count": 69,
     "metadata": {},
     "output_type": "execute_result"
    },
    {
     "data": {
      "text/plain": [
       "<matplotlib.legend.Legend at 0x1605b6c0588>"
      ]
     },
     "execution_count": 69,
     "metadata": {},
     "output_type": "execute_result"
    },
    {
     "data": {
      "text/plain": [
       "[<matplotlib.lines.Line2D at 0x1605b74db00>]"
      ]
     },
     "execution_count": 69,
     "metadata": {},
     "output_type": "execute_result"
    },
    {
     "data": {
      "text/plain": [
       "[<matplotlib.lines.Line2D at 0x1605b759048>]"
      ]
     },
     "execution_count": 69,
     "metadata": {},
     "output_type": "execute_result"
    },
    {
     "data": {
      "text/plain": [
       "Text(0.5,1,'model loss')"
      ]
     },
     "execution_count": 69,
     "metadata": {},
     "output_type": "execute_result"
    },
    {
     "data": {
      "text/plain": [
       "Text(0,0.5,'loss')"
      ]
     },
     "execution_count": 69,
     "metadata": {},
     "output_type": "execute_result"
    },
    {
     "data": {
      "text/plain": [
       "Text(0.5,0,'epoch')"
      ]
     },
     "execution_count": 69,
     "metadata": {},
     "output_type": "execute_result"
    },
    {
     "data": {
      "text/plain": [
       "<matplotlib.legend.Legend at 0x1605b73f518>"
      ]
     },
     "execution_count": 69,
     "metadata": {},
     "output_type": "execute_result"
    },
    {
     "name": "stdout",
     "output_type": "stream",
     "text": [
      "Analysis of results\n",
      "              precision    recall  f1-score   support\n",
      "\n",
      "           0       0.96      0.98      0.97       980\n",
      "           1       0.98      0.99      0.98      1135\n",
      "           2       0.95      0.96      0.95      1032\n",
      "           3       0.94      0.95      0.95      1010\n",
      "           4       0.95      0.96      0.96       982\n",
      "           5       0.94      0.95      0.94       892\n",
      "           6       0.96      0.96      0.96       958\n",
      "           7       0.96      0.96      0.96      1028\n",
      "           8       0.96      0.94      0.95       974\n",
      "           9       0.96      0.93      0.95      1009\n",
      "\n",
      "   micro avg       0.96      0.96      0.96     10000\n",
      "   macro avg       0.96      0.96      0.96     10000\n",
      "weighted avg       0.96      0.96      0.96     10000\n",
      "\n",
      "[[ 963    0    1    3    0    5    5    1    1    1]\n",
      " [   0 1119    2    2    0    2    3    2    5    0]\n",
      " [   7    2  986    9    6    1    3   10    8    0]\n",
      " [   0    0   14  963    0   15    0   10    6    2]\n",
      " [   1    0    7    0  947    0    4    3    3   17]\n",
      " [   7    1    1   13    1  845   10    0    8    6]\n",
      " [  10    3    2    0    8   12  920    0    3    0]\n",
      " [   0    8   17    2    2    2    0  988    1    8]\n",
      " [   4    1    2   20    5   12    8    8  912    2]\n",
      " [   8    7    3    9   23    4    1   11    4  939]]\n",
      "Train on 60000 samples, validate on 10000 samples\n",
      "Epoch 1/20\n",
      "60000/60000 [==============================] - 6s 94us/step - loss: 1.4049 - acc: 0.6547 - val_loss: 0.5866 - val_acc: 0.8533\n",
      "Epoch 2/20\n",
      "60000/60000 [==============================] - 4s 60us/step - loss: 0.4671 - acc: 0.8739 - val_loss: 0.3732 - val_acc: 0.8958\n",
      "Epoch 3/20\n",
      "60000/60000 [==============================] - 3s 55us/step - loss: 0.3579 - acc: 0.8973 - val_loss: 0.3197 - val_acc: 0.9068\n",
      "Epoch 4/20\n",
      "60000/60000 [==============================] - 3s 56us/step - loss: 0.3169 - acc: 0.9084 - val_loss: 0.2901 - val_acc: 0.9184\n",
      "Epoch 5/20\n",
      "60000/60000 [==============================] - 3s 55us/step - loss: 0.2910 - acc: 0.9160 - val_loss: 0.2685 - val_acc: 0.9240\n",
      "Epoch 6/20\n",
      "60000/60000 [==============================] - 3s 55us/step - loss: 0.2708 - acc: 0.9218 - val_loss: 0.2527 - val_acc: 0.9281\n",
      "Epoch 7/20\n",
      "60000/60000 [==============================] - 3s 56us/step - loss: 0.2544 - acc: 0.9265 - val_loss: 0.2395 - val_acc: 0.9309\n",
      "Epoch 8/20\n",
      "60000/60000 [==============================] - 3s 55us/step - loss: 0.2397 - acc: 0.9305 - val_loss: 0.2329 - val_acc: 0.9345\n",
      "Epoch 9/20\n",
      "60000/60000 [==============================] - 3s 58us/step - loss: 0.2263 - acc: 0.9346 - val_loss: 0.2139 - val_acc: 0.9376\n",
      "Epoch 10/20\n",
      "60000/60000 [==============================] - 3s 55us/step - loss: 0.2144 - acc: 0.9378 - val_loss: 0.2063 - val_acc: 0.9411\n",
      "Epoch 11/20\n",
      "60000/60000 [==============================] - 3s 55us/step - loss: 0.2040 - acc: 0.9410 - val_loss: 0.2016 - val_acc: 0.9414\n",
      "Epoch 12/20\n",
      "60000/60000 [==============================] - 3s 55us/step - loss: 0.1943 - acc: 0.9440 - val_loss: 0.1859 - val_acc: 0.9465\n",
      "Epoch 13/20\n",
      "60000/60000 [==============================] - 3s 56us/step - loss: 0.1858 - acc: 0.9462 - val_loss: 0.1796 - val_acc: 0.9469\n",
      "Epoch 14/20\n",
      "60000/60000 [==============================] - 3s 56us/step - loss: 0.1776 - acc: 0.9488 - val_loss: 0.1741 - val_acc: 0.9494\n",
      "Epoch 15/20\n",
      "60000/60000 [==============================] - 3s 55us/step - loss: 0.1700 - acc: 0.9519 - val_loss: 0.1662 - val_acc: 0.9506\n",
      "Epoch 16/20\n",
      "60000/60000 [==============================] - 3s 55us/step - loss: 0.1631 - acc: 0.9535 - val_loss: 0.1648 - val_acc: 0.9519\n",
      "Epoch 17/20\n",
      "60000/60000 [==============================] - 4s 61us/step - loss: 0.1564 - acc: 0.9551 - val_loss: 0.1552 - val_acc: 0.9548\n",
      "Epoch 18/20\n",
      "60000/60000 [==============================] - 3s 56us/step - loss: 0.1505 - acc: 0.9572 - val_loss: 0.1517 - val_acc: 0.9548\n",
      "Epoch 19/20\n",
      "60000/60000 [==============================] - 3s 58us/step - loss: 0.1451 - acc: 0.9584 - val_loss: 0.1453 - val_acc: 0.9572\n",
      "Epoch 20/20\n",
      "60000/60000 [==============================] - 4s 61us/step - loss: 0.1399 - acc: 0.9598 - val_loss: 0.1411 - val_acc: 0.9572\n"
     ]
    },
    {
     "data": {
      "text/plain": [
       "42"
      ]
     },
     "execution_count": 69,
     "metadata": {},
     "output_type": "execute_result"
    },
    {
     "data": {
      "text/plain": [
       "23"
      ]
     },
     "execution_count": 69,
     "metadata": {},
     "output_type": "execute_result"
    },
    {
     "data": {
      "text/plain": [
       "1"
      ]
     },
     "execution_count": 69,
     "metadata": {},
     "output_type": "execute_result"
    },
    {
     "data": {
      "text/plain": [
       "15"
      ]
     },
     "execution_count": 69,
     "metadata": {},
     "output_type": "execute_result"
    },
    {
     "data": {
      "text/plain": [
       "2"
      ]
     },
     "execution_count": 69,
     "metadata": {},
     "output_type": "execute_result"
    },
    {
     "data": {
      "text/plain": [
       "[<matplotlib.lines.Line2D at 0x1605ca6e828>]"
      ]
     },
     "execution_count": 69,
     "metadata": {},
     "output_type": "execute_result"
    },
    {
     "data": {
      "text/plain": [
       "[<matplotlib.lines.Line2D at 0x1605ca6ecc0>]"
      ]
     },
     "execution_count": 69,
     "metadata": {},
     "output_type": "execute_result"
    },
    {
     "data": {
      "text/plain": [
       "Text(0.5,1,'model accuracy')"
      ]
     },
     "execution_count": 69,
     "metadata": {},
     "output_type": "execute_result"
    },
    {
     "data": {
      "text/plain": [
       "Text(0,0.5,'accuracy')"
      ]
     },
     "execution_count": 69,
     "metadata": {},
     "output_type": "execute_result"
    },
    {
     "data": {
      "text/plain": [
       "Text(0.5,0,'epoch')"
      ]
     },
     "execution_count": 69,
     "metadata": {},
     "output_type": "execute_result"
    },
    {
     "data": {
      "text/plain": [
       "<matplotlib.legend.Legend at 0x1605ca57320>"
      ]
     },
     "execution_count": 69,
     "metadata": {},
     "output_type": "execute_result"
    },
    {
     "data": {
      "text/plain": [
       "[<matplotlib.lines.Line2D at 0x1605caf6c50>]"
      ]
     },
     "execution_count": 69,
     "metadata": {},
     "output_type": "execute_result"
    },
    {
     "data": {
      "text/plain": [
       "[<matplotlib.lines.Line2D at 0x1605cb011d0>]"
      ]
     },
     "execution_count": 69,
     "metadata": {},
     "output_type": "execute_result"
    },
    {
     "data": {
      "text/plain": [
       "Text(0.5,1,'model loss')"
      ]
     },
     "execution_count": 69,
     "metadata": {},
     "output_type": "execute_result"
    },
    {
     "data": {
      "text/plain": [
       "Text(0,0.5,'loss')"
      ]
     },
     "execution_count": 69,
     "metadata": {},
     "output_type": "execute_result"
    },
    {
     "data": {
      "text/plain": [
       "Text(0.5,0,'epoch')"
      ]
     },
     "execution_count": 69,
     "metadata": {},
     "output_type": "execute_result"
    },
    {
     "data": {
      "text/plain": [
       "<matplotlib.legend.Legend at 0x1605cae8668>"
      ]
     },
     "execution_count": 69,
     "metadata": {},
     "output_type": "execute_result"
    },
    {
     "name": "stdout",
     "output_type": "stream",
     "text": [
      "Analysis of results\n",
      "              precision    recall  f1-score   support\n",
      "\n",
      "           0       0.97      0.98      0.98       980\n",
      "           1       0.98      0.98      0.98      1135\n",
      "           2       0.97      0.95      0.96      1032\n",
      "           3       0.94      0.95      0.95      1010\n",
      "           4       0.96      0.96      0.96       982\n",
      "           5       0.96      0.94      0.95       892\n",
      "           6       0.95      0.97      0.96       958\n",
      "           7       0.96      0.94      0.95      1028\n",
      "           8       0.94      0.95      0.94       974\n",
      "           9       0.94      0.94      0.94      1009\n",
      "\n",
      "   micro avg       0.96      0.96      0.96     10000\n",
      "   macro avg       0.96      0.96      0.96     10000\n",
      "weighted avg       0.96      0.96      0.96     10000\n",
      "\n",
      "[[ 963    0    1    2    0    5    5    2    1    1]\n",
      " [   0 1114    1    3    0    1    5    2    9    0]\n",
      " [   6    2  980   10    3    0   10   10   10    1]\n",
      " [   1    1    8  964    0    9    0    9   16    2]\n",
      " [   1    0    5    1  939    0    7    2    3   24]\n",
      " [   7    1    1   11    2  841   11    1   11    6]\n",
      " [   8    3    2    0    6   10  926    0    3    0]\n",
      " [   0    8   12    9    3    1    0  969    2   24]\n",
      " [   3    1    3   13    4    5    9    7  926    3]\n",
      " [   6    5    2    9   19    4    1    6    7  950]]\n",
      "Train on 60000 samples, validate on 10000 samples\n",
      "Epoch 1/20\n",
      "60000/60000 [==============================] - 6s 95us/step - loss: 1.4742 - acc: 0.6324 - val_loss: 0.6340 - val_acc: 0.8518\n",
      "Epoch 2/20\n",
      "60000/60000 [==============================] - 3s 56us/step - loss: 0.4845 - acc: 0.8730 - val_loss: 0.3844 - val_acc: 0.8903\n",
      "Epoch 3/20\n",
      "60000/60000 [==============================] - 4s 64us/step - loss: 0.3643 - acc: 0.8969 - val_loss: 0.3276 - val_acc: 0.9032\n",
      "Epoch 4/20\n",
      "60000/60000 [==============================] - 4s 59us/step - loss: 0.3200 - acc: 0.9081 - val_loss: 0.2979 - val_acc: 0.9122\n",
      "Epoch 5/20\n",
      "60000/60000 [==============================] - 3s 57us/step - loss: 0.2918 - acc: 0.9166 - val_loss: 0.2699 - val_acc: 0.9214\n",
      "Epoch 6/20\n",
      "60000/60000 [==============================] - 3s 57us/step - loss: 0.2701 - acc: 0.9224 - val_loss: 0.2507 - val_acc: 0.9265\n",
      "Epoch 7/20\n",
      "60000/60000 [==============================] - 3s 57us/step - loss: 0.2530 - acc: 0.9277 - val_loss: 0.2378 - val_acc: 0.9300\n",
      "Epoch 8/20\n",
      "60000/60000 [==============================] - 3s 56us/step - loss: 0.2377 - acc: 0.9315 - val_loss: 0.2243 - val_acc: 0.9355\n",
      "Epoch 9/20\n",
      "60000/60000 [==============================] - 3s 56us/step - loss: 0.2241 - acc: 0.9359 - val_loss: 0.2114 - val_acc: 0.9372\n",
      "Epoch 10/20\n",
      "60000/60000 [==============================] - 3s 55us/step - loss: 0.2122 - acc: 0.9395 - val_loss: 0.2029 - val_acc: 0.9385\n",
      "Epoch 11/20\n",
      "60000/60000 [==============================] - 4s 61us/step - loss: 0.2018 - acc: 0.9421 - val_loss: 0.1945 - val_acc: 0.9428\n",
      "Epoch 12/20\n",
      "60000/60000 [==============================] - 3s 57us/step - loss: 0.1918 - acc: 0.9452 - val_loss: 0.1844 - val_acc: 0.9435\n",
      "Epoch 13/20\n",
      "60000/60000 [==============================] - 3s 56us/step - loss: 0.1835 - acc: 0.9476 - val_loss: 0.1748 - val_acc: 0.9462\n",
      "Epoch 14/20\n",
      "60000/60000 [==============================] - 3s 56us/step - loss: 0.1756 - acc: 0.9499 - val_loss: 0.1689 - val_acc: 0.9490\n",
      "Epoch 15/20\n",
      "60000/60000 [==============================] - 3s 58us/step - loss: 0.1683 - acc: 0.9517 - val_loss: 0.1658 - val_acc: 0.9499\n",
      "Epoch 16/20\n",
      "60000/60000 [==============================] - 3s 55us/step - loss: 0.1620 - acc: 0.9526 - val_loss: 0.1612 - val_acc: 0.9511\n",
      "Epoch 17/20\n",
      "60000/60000 [==============================] - 3s 56us/step - loss: 0.1556 - acc: 0.9552 - val_loss: 0.1590 - val_acc: 0.9521\n",
      "Epoch 18/20\n",
      "60000/60000 [==============================] - 3s 58us/step - loss: 0.1503 - acc: 0.9566 - val_loss: 0.1504 - val_acc: 0.9559\n",
      "Epoch 19/20\n",
      "60000/60000 [==============================] - 3s 56us/step - loss: 0.1446 - acc: 0.9580 - val_loss: 0.1435 - val_acc: 0.9579\n",
      "Epoch 20/20\n",
      "60000/60000 [==============================] - 3s 56us/step - loss: 0.1401 - acc: 0.9590 - val_loss: 0.1388 - val_acc: 0.9572\n"
     ]
    },
    {
     "data": {
      "text/plain": [
       "42"
      ]
     },
     "execution_count": 69,
     "metadata": {},
     "output_type": "execute_result"
    },
    {
     "data": {
      "text/plain": [
       "24"
      ]
     },
     "execution_count": 69,
     "metadata": {},
     "output_type": "execute_result"
    },
    {
     "data": {
      "text/plain": [
       "1"
      ]
     },
     "execution_count": 69,
     "metadata": {},
     "output_type": "execute_result"
    },
    {
     "data": {
      "text/plain": [
       "15"
      ]
     },
     "execution_count": 69,
     "metadata": {},
     "output_type": "execute_result"
    },
    {
     "data": {
      "text/plain": [
       "2"
      ]
     },
     "execution_count": 69,
     "metadata": {},
     "output_type": "execute_result"
    },
    {
     "data": {
      "text/plain": [
       "[<matplotlib.lines.Line2D at 0x1605de42550>]"
      ]
     },
     "execution_count": 69,
     "metadata": {},
     "output_type": "execute_result"
    },
    {
     "data": {
      "text/plain": [
       "[<matplotlib.lines.Line2D at 0x1605de429e8>]"
      ]
     },
     "execution_count": 69,
     "metadata": {},
     "output_type": "execute_result"
    },
    {
     "data": {
      "text/plain": [
       "Text(0.5,1,'model accuracy')"
      ]
     },
     "execution_count": 69,
     "metadata": {},
     "output_type": "execute_result"
    },
    {
     "data": {
      "text/plain": [
       "Text(0,0.5,'accuracy')"
      ]
     },
     "execution_count": 69,
     "metadata": {},
     "output_type": "execute_result"
    },
    {
     "data": {
      "text/plain": [
       "Text(0.5,0,'epoch')"
      ]
     },
     "execution_count": 69,
     "metadata": {},
     "output_type": "execute_result"
    },
    {
     "data": {
      "text/plain": [
       "<matplotlib.legend.Legend at 0x1605de42f60>"
      ]
     },
     "execution_count": 69,
     "metadata": {},
     "output_type": "execute_result"
    },
    {
     "data": {
      "text/plain": [
       "[<matplotlib.lines.Line2D at 0x1605debb4e0>]"
      ]
     },
     "execution_count": 69,
     "metadata": {},
     "output_type": "execute_result"
    },
    {
     "data": {
      "text/plain": [
       "[<matplotlib.lines.Line2D at 0x1605debb630>]"
      ]
     },
     "execution_count": 69,
     "metadata": {},
     "output_type": "execute_result"
    },
    {
     "data": {
      "text/plain": [
       "Text(0.5,1,'model loss')"
      ]
     },
     "execution_count": 69,
     "metadata": {},
     "output_type": "execute_result"
    },
    {
     "data": {
      "text/plain": [
       "Text(0,0.5,'loss')"
      ]
     },
     "execution_count": 69,
     "metadata": {},
     "output_type": "execute_result"
    },
    {
     "data": {
      "text/plain": [
       "Text(0.5,0,'epoch')"
      ]
     },
     "execution_count": 69,
     "metadata": {},
     "output_type": "execute_result"
    },
    {
     "data": {
      "text/plain": [
       "<matplotlib.legend.Legend at 0x1605dea4eb8>"
      ]
     },
     "execution_count": 69,
     "metadata": {},
     "output_type": "execute_result"
    },
    {
     "name": "stdout",
     "output_type": "stream",
     "text": [
      "Analysis of results\n",
      "              precision    recall  f1-score   support\n",
      "\n",
      "           0       0.97      0.98      0.97       980\n",
      "           1       0.98      0.98      0.98      1135\n",
      "           2       0.95      0.97      0.96      1032\n",
      "           3       0.96      0.95      0.95      1010\n",
      "           4       0.95      0.96      0.96       982\n",
      "           5       0.96      0.94      0.95       892\n",
      "           6       0.95      0.97      0.96       958\n",
      "           7       0.96      0.95      0.96      1028\n",
      "           8       0.95      0.94      0.95       974\n",
      "           9       0.95      0.93      0.94      1009\n",
      "\n",
      "   micro avg       0.96      0.96      0.96     10000\n",
      "   macro avg       0.96      0.96      0.96     10000\n",
      "weighted avg       0.96      0.96      0.96     10000\n",
      "\n",
      "[[ 962    0    1    0    0    4    8    1    3    1]\n",
      " [   0 1116    2    2    1    1    4    2    7    0]\n",
      " [   5    1  996    5    3    0    4    8    8    2]\n",
      " [   2    0   13  956    0   10    0   12   14    3]\n",
      " [   1    0    9    0  941    0    9    1    2   19]\n",
      " [   8    2    1   13    2  838   10    2    8    8]\n",
      " [   6    3    3    1    5    9  925    2    4    0]\n",
      " [   0    7   21    2    2    1    0  979    0   16]\n",
      " [   4    1    5   13    6    6   10    7  920    2]\n",
      " [   6    8    1    7   27    5    1    8    7  939]]\n",
      "Train on 60000 samples, validate on 10000 samples\n",
      "Epoch 1/20\n",
      "60000/60000 [==============================] - 6s 101us/step - loss: 1.4169 - acc: 0.6484 - val_loss: 0.6056 - val_acc: 0.8509\n",
      "Epoch 2/20\n",
      "60000/60000 [==============================] - 3s 56us/step - loss: 0.4829 - acc: 0.8698 - val_loss: 0.3830 - val_acc: 0.8953\n",
      "Epoch 3/20\n",
      "60000/60000 [==============================] - 3s 58us/step - loss: 0.3644 - acc: 0.8967 - val_loss: 0.3266 - val_acc: 0.9073\n",
      "Epoch 4/20\n",
      "60000/60000 [==============================] - 4s 62us/step - loss: 0.3182 - acc: 0.9090 - val_loss: 0.2878 - val_acc: 0.9182\n",
      "Epoch 5/20\n",
      "60000/60000 [==============================] - 3s 58us/step - loss: 0.2893 - acc: 0.9160 - val_loss: 0.2706 - val_acc: 0.9229\n",
      "Epoch 6/20\n",
      "60000/60000 [==============================] - 3s 56us/step - loss: 0.2679 - acc: 0.9230 - val_loss: 0.2514 - val_acc: 0.9282\n",
      "Epoch 7/20\n",
      "60000/60000 [==============================] - 3s 56us/step - loss: 0.2506 - acc: 0.9279 - val_loss: 0.2359 - val_acc: 0.9329\n",
      "Epoch 8/20\n",
      "60000/60000 [==============================] - 4s 62us/step - loss: 0.2359 - acc: 0.9316 - val_loss: 0.2242 - val_acc: 0.9351\n",
      "Epoch 9/20\n",
      "60000/60000 [==============================] - 3s 57us/step - loss: 0.2233 - acc: 0.9358 - val_loss: 0.2134 - val_acc: 0.9374\n",
      "Epoch 10/20\n",
      "60000/60000 [==============================] - 3s 56us/step - loss: 0.2121 - acc: 0.9389 - val_loss: 0.2038 - val_acc: 0.9395\n",
      "Epoch 11/20\n",
      "60000/60000 [==============================] - 3s 57us/step - loss: 0.2014 - acc: 0.9428 - val_loss: 0.1927 - val_acc: 0.9444\n",
      "Epoch 12/20\n",
      "60000/60000 [==============================] - 3s 58us/step - loss: 0.1924 - acc: 0.9439 - val_loss: 0.1863 - val_acc: 0.9450\n",
      "Epoch 13/20\n",
      "60000/60000 [==============================] - 4s 61us/step - loss: 0.1839 - acc: 0.9467 - val_loss: 0.1781 - val_acc: 0.9483\n",
      "Epoch 14/20\n",
      "60000/60000 [==============================] - 4s 59us/step - loss: 0.1758 - acc: 0.9496 - val_loss: 0.1762 - val_acc: 0.9490\n",
      "Epoch 15/20\n",
      "60000/60000 [==============================] - 3s 57us/step - loss: 0.1681 - acc: 0.9513 - val_loss: 0.1647 - val_acc: 0.9516\n",
      "Epoch 16/20\n",
      "60000/60000 [==============================] - 4s 62us/step - loss: 0.1613 - acc: 0.9530 - val_loss: 0.1597 - val_acc: 0.9528\n",
      "Epoch 17/20\n",
      "60000/60000 [==============================] - 4s 64us/step - loss: 0.1549 - acc: 0.9549 - val_loss: 0.1546 - val_acc: 0.9533\n",
      "Epoch 18/20\n",
      "60000/60000 [==============================] - 4s 63us/step - loss: 0.1488 - acc: 0.9568 - val_loss: 0.1483 - val_acc: 0.9567\n",
      "Epoch 19/20\n",
      "60000/60000 [==============================] - 4s 58us/step - loss: 0.1432 - acc: 0.9579 - val_loss: 0.1448 - val_acc: 0.9574\n",
      "Epoch 20/20\n",
      "60000/60000 [==============================] - 4s 59us/step - loss: 0.1379 - acc: 0.9599 - val_loss: 0.1410 - val_acc: 0.9588\n"
     ]
    },
    {
     "data": {
      "text/plain": [
       "42"
      ]
     },
     "execution_count": 69,
     "metadata": {},
     "output_type": "execute_result"
    },
    {
     "data": {
      "text/plain": [
       "24"
      ]
     },
     "execution_count": 69,
     "metadata": {},
     "output_type": "execute_result"
    },
    {
     "data": {
      "text/plain": [
       "1"
      ]
     },
     "execution_count": 69,
     "metadata": {},
     "output_type": "execute_result"
    },
    {
     "data": {
      "text/plain": [
       "15"
      ]
     },
     "execution_count": 69,
     "metadata": {},
     "output_type": "execute_result"
    },
    {
     "data": {
      "text/plain": [
       "2"
      ]
     },
     "execution_count": 69,
     "metadata": {},
     "output_type": "execute_result"
    },
    {
     "data": {
      "text/plain": [
       "[<matplotlib.lines.Line2D at 0x1605e20ada0>]"
      ]
     },
     "execution_count": 69,
     "metadata": {},
     "output_type": "execute_result"
    },
    {
     "data": {
      "text/plain": [
       "[<matplotlib.lines.Line2D at 0x1605e21a2e8>]"
      ]
     },
     "execution_count": 69,
     "metadata": {},
     "output_type": "execute_result"
    },
    {
     "data": {
      "text/plain": [
       "Text(0.5,1,'model accuracy')"
      ]
     },
     "execution_count": 69,
     "metadata": {},
     "output_type": "execute_result"
    },
    {
     "data": {
      "text/plain": [
       "Text(0,0.5,'accuracy')"
      ]
     },
     "execution_count": 69,
     "metadata": {},
     "output_type": "execute_result"
    },
    {
     "data": {
      "text/plain": [
       "Text(0.5,0,'epoch')"
      ]
     },
     "execution_count": 69,
     "metadata": {},
     "output_type": "execute_result"
    },
    {
     "data": {
      "text/plain": [
       "<matplotlib.legend.Legend at 0x1605e1f47b8>"
      ]
     },
     "execution_count": 69,
     "metadata": {},
     "output_type": "execute_result"
    },
    {
     "data": {
      "text/plain": [
       "[<matplotlib.lines.Line2D at 0x1605e283d30>]"
      ]
     },
     "execution_count": 69,
     "metadata": {},
     "output_type": "execute_result"
    },
    {
     "data": {
      "text/plain": [
       "[<matplotlib.lines.Line2D at 0x1605e28b2b0>]"
      ]
     },
     "execution_count": 69,
     "metadata": {},
     "output_type": "execute_result"
    },
    {
     "data": {
      "text/plain": [
       "Text(0.5,1,'model loss')"
      ]
     },
     "execution_count": 69,
     "metadata": {},
     "output_type": "execute_result"
    },
    {
     "data": {
      "text/plain": [
       "Text(0,0.5,'loss')"
      ]
     },
     "execution_count": 69,
     "metadata": {},
     "output_type": "execute_result"
    },
    {
     "data": {
      "text/plain": [
       "Text(0.5,0,'epoch')"
      ]
     },
     "execution_count": 69,
     "metadata": {},
     "output_type": "execute_result"
    },
    {
     "data": {
      "text/plain": [
       "<matplotlib.legend.Legend at 0x1605e273748>"
      ]
     },
     "execution_count": 69,
     "metadata": {},
     "output_type": "execute_result"
    },
    {
     "name": "stdout",
     "output_type": "stream",
     "text": [
      "Analysis of results\n",
      "              precision    recall  f1-score   support\n",
      "\n",
      "           0       0.96      0.98      0.97       980\n",
      "           1       0.98      0.98      0.98      1135\n",
      "           2       0.96      0.96      0.96      1032\n",
      "           3       0.95      0.95      0.95      1010\n",
      "           4       0.96      0.96      0.96       982\n",
      "           5       0.95      0.94      0.95       892\n",
      "           6       0.95      0.97      0.96       958\n",
      "           7       0.97      0.96      0.96      1028\n",
      "           8       0.93      0.95      0.94       974\n",
      "           9       0.97      0.92      0.95      1009\n",
      "\n",
      "   micro avg       0.96      0.96      0.96     10000\n",
      "   macro avg       0.96      0.96      0.96     10000\n",
      "weighted avg       0.96      0.96      0.96     10000\n",
      "\n",
      "[[ 965    0    1    1    0    4    5    2    1    1]\n",
      " [   0 1113    3    2    0    1    4    3    9    0]\n",
      " [   7    1  991    9    3    1    8    5    7    0]\n",
      " [   1    1   11  963    0   12    0    7   15    0]\n",
      " [   1    1    4    0  946    0   11    1    4   14]\n",
      " [   9    1    1   11    0  842   12    0   12    4]\n",
      " [   9    3    1    1    5    7  926    2    4    0]\n",
      " [   1    8   17    4    2    1    0  982    4    9]\n",
      " [   4    2    2   14    4    8    7    3  930    0]\n",
      " [   7    8    1    9   28    7    1    7   11  930]]\n",
      "Train on 60000 samples, validate on 10000 samples\n",
      "Epoch 1/20\n",
      "60000/60000 [==============================] - 6s 97us/step - loss: 1.3825 - acc: 0.6521 - val_loss: 0.5999 - val_acc: 0.8482\n",
      "Epoch 2/20\n",
      "60000/60000 [==============================] - 3s 56us/step - loss: 0.4817 - acc: 0.8698 - val_loss: 0.3874 - val_acc: 0.8915\n",
      "Epoch 3/20\n",
      "60000/60000 [==============================] - 3s 57us/step - loss: 0.3670 - acc: 0.8961 - val_loss: 0.3263 - val_acc: 0.9079\n",
      "Epoch 4/20\n",
      "60000/60000 [==============================] - 4s 60us/step - loss: 0.3216 - acc: 0.9072 - val_loss: 0.2935 - val_acc: 0.9169\n",
      "Epoch 5/20\n",
      "60000/60000 [==============================] - 3s 57us/step - loss: 0.2928 - acc: 0.9156 - val_loss: 0.2728 - val_acc: 0.9220\n",
      "Epoch 6/20\n",
      "60000/60000 [==============================] - 3s 57us/step - loss: 0.2708 - acc: 0.9217 - val_loss: 0.2518 - val_acc: 0.9281\n",
      "Epoch 7/20\n",
      "60000/60000 [==============================] - 3s 57us/step - loss: 0.2530 - acc: 0.9271 - val_loss: 0.2397 - val_acc: 0.9318\n",
      "Epoch 8/20\n",
      "60000/60000 [==============================] - 3s 57us/step - loss: 0.2375 - acc: 0.9313 - val_loss: 0.2254 - val_acc: 0.9359\n",
      "Epoch 9/20\n",
      "60000/60000 [==============================] - 4s 59us/step - loss: 0.2238 - acc: 0.9350 - val_loss: 0.2115 - val_acc: 0.9388\n",
      "Epoch 10/20\n",
      "60000/60000 [==============================] - 4s 59us/step - loss: 0.2119 - acc: 0.9386 - val_loss: 0.2068 - val_acc: 0.9404\n",
      "Epoch 11/20\n",
      "60000/60000 [==============================] - 3s 56us/step - loss: 0.2010 - acc: 0.9414 - val_loss: 0.1959 - val_acc: 0.9430\n",
      "Epoch 12/20\n",
      "60000/60000 [==============================] - 5s 77us/step - loss: 0.1916 - acc: 0.9451 - val_loss: 0.1870 - val_acc: 0.9454\n",
      "Epoch 13/20\n",
      "60000/60000 [==============================] - 4s 70us/step - loss: 0.1825 - acc: 0.9473 - val_loss: 0.1804 - val_acc: 0.9480\n",
      "Epoch 14/20\n",
      "60000/60000 [==============================] - 4s 61us/step - loss: 0.1742 - acc: 0.9496 - val_loss: 0.1705 - val_acc: 0.9507\n",
      "Epoch 15/20\n",
      "60000/60000 [==============================] - 3s 57us/step - loss: 0.1670 - acc: 0.9518 - val_loss: 0.1679 - val_acc: 0.9516\n",
      "Epoch 16/20\n",
      "60000/60000 [==============================] - 3s 57us/step - loss: 0.1602 - acc: 0.9534 - val_loss: 0.1608 - val_acc: 0.9539\n",
      "Epoch 17/20\n",
      "60000/60000 [==============================] - 4s 60us/step - loss: 0.1538 - acc: 0.9556 - val_loss: 0.1539 - val_acc: 0.9554\n",
      "Epoch 18/20\n",
      "60000/60000 [==============================] - 3s 57us/step - loss: 0.1476 - acc: 0.9567 - val_loss: 0.1520 - val_acc: 0.9565\n",
      "Epoch 19/20\n",
      "60000/60000 [==============================] - 3s 56us/step - loss: 0.1423 - acc: 0.9593 - val_loss: 0.1476 - val_acc: 0.9576\n",
      "Epoch 20/20\n",
      "60000/60000 [==============================] - 3s 56us/step - loss: 0.1374 - acc: 0.9600 - val_loss: 0.1408 - val_acc: 0.9598\n"
     ]
    },
    {
     "data": {
      "text/plain": [
       "42"
      ]
     },
     "execution_count": 69,
     "metadata": {},
     "output_type": "execute_result"
    },
    {
     "data": {
      "text/plain": [
       "24"
      ]
     },
     "execution_count": 69,
     "metadata": {},
     "output_type": "execute_result"
    },
    {
     "data": {
      "text/plain": [
       "1"
      ]
     },
     "execution_count": 69,
     "metadata": {},
     "output_type": "execute_result"
    },
    {
     "data": {
      "text/plain": [
       "15"
      ]
     },
     "execution_count": 69,
     "metadata": {},
     "output_type": "execute_result"
    },
    {
     "data": {
      "text/plain": [
       "2"
      ]
     },
     "execution_count": 69,
     "metadata": {},
     "output_type": "execute_result"
    },
    {
     "data": {
      "text/plain": [
       "[<matplotlib.lines.Line2D at 0x1605f5be630>]"
      ]
     },
     "execution_count": 69,
     "metadata": {},
     "output_type": "execute_result"
    },
    {
     "data": {
      "text/plain": [
       "[<matplotlib.lines.Line2D at 0x1605f5beac8>]"
      ]
     },
     "execution_count": 69,
     "metadata": {},
     "output_type": "execute_result"
    },
    {
     "data": {
      "text/plain": [
       "Text(0.5,1,'model accuracy')"
      ]
     },
     "execution_count": 69,
     "metadata": {},
     "output_type": "execute_result"
    },
    {
     "data": {
      "text/plain": [
       "Text(0,0.5,'accuracy')"
      ]
     },
     "execution_count": 69,
     "metadata": {},
     "output_type": "execute_result"
    },
    {
     "data": {
      "text/plain": [
       "Text(0.5,0,'epoch')"
      ]
     },
     "execution_count": 69,
     "metadata": {},
     "output_type": "execute_result"
    },
    {
     "data": {
      "text/plain": [
       "<matplotlib.legend.Legend at 0x1605f5beef0>"
      ]
     },
     "execution_count": 69,
     "metadata": {},
     "output_type": "execute_result"
    },
    {
     "data": {
      "text/plain": [
       "[<matplotlib.lines.Line2D at 0x160606095c0>]"
      ]
     },
     "execution_count": 69,
     "metadata": {},
     "output_type": "execute_result"
    },
    {
     "data": {
      "text/plain": [
       "[<matplotlib.lines.Line2D at 0x16060609710>]"
      ]
     },
     "execution_count": 69,
     "metadata": {},
     "output_type": "execute_result"
    },
    {
     "data": {
      "text/plain": [
       "Text(0.5,1,'model loss')"
      ]
     },
     "execution_count": 69,
     "metadata": {},
     "output_type": "execute_result"
    },
    {
     "data": {
      "text/plain": [
       "Text(0,0.5,'loss')"
      ]
     },
     "execution_count": 69,
     "metadata": {},
     "output_type": "execute_result"
    },
    {
     "data": {
      "text/plain": [
       "Text(0.5,0,'epoch')"
      ]
     },
     "execution_count": 69,
     "metadata": {},
     "output_type": "execute_result"
    },
    {
     "data": {
      "text/plain": [
       "<matplotlib.legend.Legend at 0x160605f2f98>"
      ]
     },
     "execution_count": 69,
     "metadata": {},
     "output_type": "execute_result"
    },
    {
     "name": "stdout",
     "output_type": "stream",
     "text": [
      "Analysis of results\n",
      "              precision    recall  f1-score   support\n",
      "\n",
      "           0       0.96      0.99      0.97       980\n",
      "           1       0.98      0.99      0.98      1135\n",
      "           2       0.96      0.96      0.96      1032\n",
      "           3       0.96      0.95      0.96      1010\n",
      "           4       0.95      0.97      0.96       982\n",
      "           5       0.96      0.96      0.96       892\n",
      "           6       0.95      0.96      0.96       958\n",
      "           7       0.96      0.96      0.96      1028\n",
      "           8       0.95      0.94      0.94       974\n",
      "           9       0.96      0.93      0.95      1009\n",
      "\n",
      "   micro avg       0.96      0.96      0.96     10000\n",
      "   macro avg       0.96      0.96      0.96     10000\n",
      "weighted avg       0.96      0.96      0.96     10000\n",
      "\n",
      "[[ 967    0    0    1    0    4    5    2    1    0]\n",
      " [   0 1118    3    2    0    1    3    1    7    0]\n",
      " [   7    3  991    5    4    2    6    9    5    0]\n",
      " [   0    0   14  961    0   13    0    9   12    1]\n",
      " [   1    0    4    0  948    0   10    1    2   16]\n",
      " [   8    2    0    6    2  852    9    0    9    4]\n",
      " [   9    3    1    0    7    9  924    0    5    0]\n",
      " [   2    8   18    2    4    0    0  982    1   11]\n",
      " [   6    2    4   14    7    8   12    5  912    4]\n",
      " [   8    5    1    6   26    3    1   10    6  943]]\n",
      "Train on 60000 samples, validate on 10000 samples\n",
      "Epoch 1/20\n",
      "60000/60000 [==============================] - 7s 111us/step - loss: 1.3544 - acc: 0.6529 - val_loss: 0.5844 - val_acc: 0.8534\n",
      "Epoch 2/20\n",
      "60000/60000 [==============================] - 4s 60us/step - loss: 0.4742 - acc: 0.8718 - val_loss: 0.3866 - val_acc: 0.8921\n",
      "Epoch 3/20\n",
      "60000/60000 [==============================] - 4s 59us/step - loss: 0.3675 - acc: 0.8960 - val_loss: 0.3360 - val_acc: 0.9006\n",
      "Epoch 4/20\n",
      "60000/60000 [==============================] - 4s 62us/step - loss: 0.3232 - acc: 0.9077 - val_loss: 0.2945 - val_acc: 0.9153\n",
      "Epoch 5/20\n",
      "60000/60000 [==============================] - 4s 59us/step - loss: 0.2938 - acc: 0.9153 - val_loss: 0.2707 - val_acc: 0.9237\n",
      "Epoch 6/20\n",
      "60000/60000 [==============================] - 4s 59us/step - loss: 0.2715 - acc: 0.9221 - val_loss: 0.2541 - val_acc: 0.9267\n",
      "Epoch 7/20\n",
      "60000/60000 [==============================] - 4s 60us/step - loss: 0.2526 - acc: 0.9270 - val_loss: 0.2374 - val_acc: 0.9321\n",
      "Epoch 8/20\n",
      "60000/60000 [==============================] - 4s 68us/step - loss: 0.2369 - acc: 0.9328 - val_loss: 0.2276 - val_acc: 0.9329\n",
      "Epoch 9/20\n",
      "60000/60000 [==============================] - 4s 64us/step - loss: 0.2227 - acc: 0.9366 - val_loss: 0.2128 - val_acc: 0.9374\n",
      "Epoch 10/20\n",
      "60000/60000 [==============================] - 4s 66us/step - loss: 0.2101 - acc: 0.9399 - val_loss: 0.2035 - val_acc: 0.9407\n",
      "Epoch 11/20\n",
      "60000/60000 [==============================] - 4s 62us/step - loss: 0.1998 - acc: 0.9428 - val_loss: 0.1928 - val_acc: 0.9420\n",
      "Epoch 12/20\n",
      "60000/60000 [==============================] - 3s 58us/step - loss: 0.1900 - acc: 0.9456 - val_loss: 0.1854 - val_acc: 0.9430\n",
      "Epoch 13/20\n",
      "60000/60000 [==============================] - 3s 58us/step - loss: 0.1812 - acc: 0.9479 - val_loss: 0.1786 - val_acc: 0.9473\n",
      "Epoch 14/20\n",
      "60000/60000 [==============================] - 4s 58us/step - loss: 0.1735 - acc: 0.9503 - val_loss: 0.1706 - val_acc: 0.9491\n",
      "Epoch 15/20\n",
      "60000/60000 [==============================] - 4s 65us/step - loss: 0.1663 - acc: 0.9526 - val_loss: 0.1636 - val_acc: 0.9510\n",
      "Epoch 16/20\n",
      "60000/60000 [==============================] - 4s 64us/step - loss: 0.1594 - acc: 0.9542 - val_loss: 0.1581 - val_acc: 0.9525\n",
      "Epoch 17/20\n",
      "60000/60000 [==============================] - 4s 60us/step - loss: 0.1528 - acc: 0.9561 - val_loss: 0.1538 - val_acc: 0.9535\n",
      "Epoch 18/20\n",
      "60000/60000 [==============================] - 4s 60us/step - loss: 0.1476 - acc: 0.9582 - val_loss: 0.1521 - val_acc: 0.9556\n",
      "Epoch 19/20\n",
      "60000/60000 [==============================] - 4s 64us/step - loss: 0.1419 - acc: 0.9592 - val_loss: 0.1489 - val_acc: 0.9553\n",
      "Epoch 20/20\n",
      "60000/60000 [==============================] - 4s 60us/step - loss: 0.1371 - acc: 0.9608 - val_loss: 0.1420 - val_acc: 0.9570\n"
     ]
    },
    {
     "data": {
      "text/plain": [
       "42"
      ]
     },
     "execution_count": 69,
     "metadata": {},
     "output_type": "execute_result"
    },
    {
     "data": {
      "text/plain": [
       "24"
      ]
     },
     "execution_count": 69,
     "metadata": {},
     "output_type": "execute_result"
    },
    {
     "data": {
      "text/plain": [
       "1"
      ]
     },
     "execution_count": 69,
     "metadata": {},
     "output_type": "execute_result"
    },
    {
     "data": {
      "text/plain": [
       "14"
      ]
     },
     "execution_count": 69,
     "metadata": {},
     "output_type": "execute_result"
    },
    {
     "data": {
      "text/plain": [
       "2"
      ]
     },
     "execution_count": 69,
     "metadata": {},
     "output_type": "execute_result"
    },
    {
     "data": {
      "text/plain": [
       "[<matplotlib.lines.Line2D at 0x16060952e80>]"
      ]
     },
     "execution_count": 69,
     "metadata": {},
     "output_type": "execute_result"
    },
    {
     "data": {
      "text/plain": [
       "[<matplotlib.lines.Line2D at 0x1606095f3c8>]"
      ]
     },
     "execution_count": 69,
     "metadata": {},
     "output_type": "execute_result"
    },
    {
     "data": {
      "text/plain": [
       "Text(0.5,1,'model accuracy')"
      ]
     },
     "execution_count": 69,
     "metadata": {},
     "output_type": "execute_result"
    },
    {
     "data": {
      "text/plain": [
       "Text(0,0.5,'accuracy')"
      ]
     },
     "execution_count": 69,
     "metadata": {},
     "output_type": "execute_result"
    },
    {
     "data": {
      "text/plain": [
       "Text(0.5,0,'epoch')"
      ]
     },
     "execution_count": 69,
     "metadata": {},
     "output_type": "execute_result"
    },
    {
     "data": {
      "text/plain": [
       "<matplotlib.legend.Legend at 0x1606095f8d0>"
      ]
     },
     "execution_count": 69,
     "metadata": {},
     "output_type": "execute_result"
    },
    {
     "data": {
      "text/plain": [
       "[<matplotlib.lines.Line2D at 0x160609d4e10>]"
      ]
     },
     "execution_count": 69,
     "metadata": {},
     "output_type": "execute_result"
    },
    {
     "data": {
      "text/plain": [
       "[<matplotlib.lines.Line2D at 0x160609dd390>]"
      ]
     },
     "execution_count": 69,
     "metadata": {},
     "output_type": "execute_result"
    },
    {
     "data": {
      "text/plain": [
       "Text(0.5,1,'model loss')"
      ]
     },
     "execution_count": 69,
     "metadata": {},
     "output_type": "execute_result"
    },
    {
     "data": {
      "text/plain": [
       "Text(0,0.5,'loss')"
      ]
     },
     "execution_count": 69,
     "metadata": {},
     "output_type": "execute_result"
    },
    {
     "data": {
      "text/plain": [
       "Text(0.5,0,'epoch')"
      ]
     },
     "execution_count": 69,
     "metadata": {},
     "output_type": "execute_result"
    },
    {
     "data": {
      "text/plain": [
       "<matplotlib.legend.Legend at 0x160609dd940>"
      ]
     },
     "execution_count": 69,
     "metadata": {},
     "output_type": "execute_result"
    },
    {
     "name": "stdout",
     "output_type": "stream",
     "text": [
      "Analysis of results\n",
      "              precision    recall  f1-score   support\n",
      "\n",
      "           0       0.96      0.98      0.97       980\n",
      "           1       0.97      0.99      0.98      1135\n",
      "           2       0.96      0.96      0.96      1032\n",
      "           3       0.94      0.95      0.95      1010\n",
      "           4       0.96      0.96      0.96       982\n",
      "           5       0.94      0.95      0.95       892\n",
      "           6       0.94      0.97      0.96       958\n",
      "           7       0.96      0.96      0.96      1028\n",
      "           8       0.97      0.93      0.95       974\n",
      "           9       0.95      0.94      0.94      1009\n",
      "\n",
      "   micro avg       0.96      0.96      0.96     10000\n",
      "   macro avg       0.96      0.96      0.96     10000\n",
      "weighted avg       0.96      0.96      0.96     10000\n",
      "\n",
      "[[ 963    0    1    1    0    4    7    3    1    0]\n",
      " [   0 1119    1    3    0    1    4    2    5    0]\n",
      " [   9    2  987    9    3    0    7    8    5    2]\n",
      " [   1    1   14  956    0   16    0   11    6    5]\n",
      " [   1    1    3    0  938    0   14    2    2   21]\n",
      " [   7    1    0   11    2  848   12    1    5    5]\n",
      " [   7    3    0    0    5   12  926    2    3    0]\n",
      " [   1   12   14    6    2    1    0  983    1    8]\n",
      " [   5    2    4   17    7   11   10    8  906    4]\n",
      " [   6    7    4   10   20    6    1    8    3  944]]\n",
      "Train on 60000 samples, validate on 10000 samples\n",
      "Epoch 1/20\n",
      "60000/60000 [==============================] - 6s 99us/step - loss: 1.4523 - acc: 0.6262 - val_loss: 0.6139 - val_acc: 0.8535\n",
      "Epoch 2/20\n",
      "60000/60000 [==============================] - 4s 67us/step - loss: 0.4834 - acc: 0.8717 - val_loss: 0.3798 - val_acc: 0.8949\n",
      "Epoch 3/20\n",
      "60000/60000 [==============================] - 4s 59us/step - loss: 0.3653 - acc: 0.8964 - val_loss: 0.3230 - val_acc: 0.9106\n",
      "Epoch 4/20\n",
      "60000/60000 [==============================] - 4s 63us/step - loss: 0.3195 - acc: 0.9081 - val_loss: 0.2937 - val_acc: 0.9162\n",
      "Epoch 5/20\n",
      "60000/60000 [==============================] - 4s 59us/step - loss: 0.2907 - acc: 0.9167 - val_loss: 0.2690 - val_acc: 0.9234\n",
      "Epoch 6/20\n",
      "60000/60000 [==============================] - 4s 59us/step - loss: 0.2692 - acc: 0.9228 - val_loss: 0.2510 - val_acc: 0.9289\n",
      "Epoch 7/20\n",
      "60000/60000 [==============================] - 4s 61us/step - loss: 0.2510 - acc: 0.9277 - val_loss: 0.2352 - val_acc: 0.9343\n",
      "Epoch 8/20\n",
      "60000/60000 [==============================] - 4s 67us/step - loss: 0.2363 - acc: 0.9321 - val_loss: 0.2218 - val_acc: 0.9378\n",
      "Epoch 9/20\n",
      "60000/60000 [==============================] - 4s 59us/step - loss: 0.2228 - acc: 0.9361 - val_loss: 0.2117 - val_acc: 0.9394\n",
      "Epoch 10/20\n",
      "60000/60000 [==============================] - 4s 59us/step - loss: 0.2115 - acc: 0.9392 - val_loss: 0.2002 - val_acc: 0.9421\n",
      "Epoch 11/20\n",
      "60000/60000 [==============================] - 4s 59us/step - loss: 0.2004 - acc: 0.9425 - val_loss: 0.1929 - val_acc: 0.9441\n",
      "Epoch 12/20\n",
      "60000/60000 [==============================] - 4s 59us/step - loss: 0.1910 - acc: 0.9448 - val_loss: 0.1892 - val_acc: 0.9454\n",
      "Epoch 13/20\n",
      "60000/60000 [==============================] - 4s 59us/step - loss: 0.1824 - acc: 0.9473 - val_loss: 0.1770 - val_acc: 0.9485\n",
      "Epoch 14/20\n",
      "60000/60000 [==============================] - 4s 60us/step - loss: 0.1744 - acc: 0.9495 - val_loss: 0.1704 - val_acc: 0.9510\n",
      "Epoch 15/20\n",
      "60000/60000 [==============================] - 4s 60us/step - loss: 0.1670 - acc: 0.9509 - val_loss: 0.1628 - val_acc: 0.9515\n",
      "Epoch 16/20\n",
      "60000/60000 [==============================] - 5s 80us/step - loss: 0.1599 - acc: 0.9541 - val_loss: 0.1569 - val_acc: 0.9525\n",
      "Epoch 17/20\n",
      "60000/60000 [==============================] - 4s 68us/step - loss: 0.1537 - acc: 0.9560 - val_loss: 0.1527 - val_acc: 0.9547\n",
      "Epoch 18/20\n",
      "60000/60000 [==============================] - 4s 64us/step - loss: 0.1480 - acc: 0.9573 - val_loss: 0.1490 - val_acc: 0.9551\n",
      "Epoch 19/20\n",
      "60000/60000 [==============================] - 4s 60us/step - loss: 0.1425 - acc: 0.9590 - val_loss: 0.1460 - val_acc: 0.9556\n",
      "Epoch 20/20\n",
      "60000/60000 [==============================] - 4s 60us/step - loss: 0.1374 - acc: 0.9605 - val_loss: 0.1413 - val_acc: 0.9577\n"
     ]
    },
    {
     "data": {
      "text/plain": [
       "42"
      ]
     },
     "execution_count": 69,
     "metadata": {},
     "output_type": "execute_result"
    },
    {
     "data": {
      "text/plain": [
       "24"
      ]
     },
     "execution_count": 69,
     "metadata": {},
     "output_type": "execute_result"
    },
    {
     "data": {
      "text/plain": [
       "1"
      ]
     },
     "execution_count": 69,
     "metadata": {},
     "output_type": "execute_result"
    },
    {
     "data": {
      "text/plain": [
       "15"
      ]
     },
     "execution_count": 69,
     "metadata": {},
     "output_type": "execute_result"
    },
    {
     "data": {
      "text/plain": [
       "2"
      ]
     },
     "execution_count": 69,
     "metadata": {},
     "output_type": "execute_result"
    },
    {
     "data": {
      "text/plain": [
       "[<matplotlib.lines.Line2D at 0x1603e8d9710>]"
      ]
     },
     "execution_count": 69,
     "metadata": {},
     "output_type": "execute_result"
    },
    {
     "data": {
      "text/plain": [
       "[<matplotlib.lines.Line2D at 0x1603e8d9ba8>]"
      ]
     },
     "execution_count": 69,
     "metadata": {},
     "output_type": "execute_result"
    },
    {
     "data": {
      "text/plain": [
       "Text(0.5,1,'model accuracy')"
      ]
     },
     "execution_count": 69,
     "metadata": {},
     "output_type": "execute_result"
    },
    {
     "data": {
      "text/plain": [
       "Text(0,0.5,'accuracy')"
      ]
     },
     "execution_count": 69,
     "metadata": {},
     "output_type": "execute_result"
    },
    {
     "data": {
      "text/plain": [
       "Text(0.5,0,'epoch')"
      ]
     },
     "execution_count": 69,
     "metadata": {},
     "output_type": "execute_result"
    },
    {
     "data": {
      "text/plain": [
       "<matplotlib.legend.Legend at 0x1603e8ee198>"
      ]
     },
     "execution_count": 69,
     "metadata": {},
     "output_type": "execute_result"
    },
    {
     "data": {
      "text/plain": [
       "[<matplotlib.lines.Line2D at 0x1603e9536a0>]"
      ]
     },
     "execution_count": 69,
     "metadata": {},
     "output_type": "execute_result"
    },
    {
     "data": {
      "text/plain": [
       "[<matplotlib.lines.Line2D at 0x1603e9537f0>]"
      ]
     },
     "execution_count": 69,
     "metadata": {},
     "output_type": "execute_result"
    },
    {
     "data": {
      "text/plain": [
       "Text(0.5,1,'model loss')"
      ]
     },
     "execution_count": 69,
     "metadata": {},
     "output_type": "execute_result"
    },
    {
     "data": {
      "text/plain": [
       "Text(0,0.5,'loss')"
      ]
     },
     "execution_count": 69,
     "metadata": {},
     "output_type": "execute_result"
    },
    {
     "data": {
      "text/plain": [
       "Text(0.5,0,'epoch')"
      ]
     },
     "execution_count": 69,
     "metadata": {},
     "output_type": "execute_result"
    },
    {
     "data": {
      "text/plain": [
       "<matplotlib.legend.Legend at 0x1603e95d160>"
      ]
     },
     "execution_count": 69,
     "metadata": {},
     "output_type": "execute_result"
    },
    {
     "name": "stdout",
     "output_type": "stream",
     "text": [
      "Analysis of results\n",
      "              precision    recall  f1-score   support\n",
      "\n",
      "           0       0.96      0.98      0.97       980\n",
      "           1       0.98      0.99      0.98      1135\n",
      "           2       0.97      0.94      0.96      1032\n",
      "           3       0.95      0.95      0.95      1010\n",
      "           4       0.95      0.96      0.96       982\n",
      "           5       0.95      0.94      0.95       892\n",
      "           6       0.95      0.97      0.96       958\n",
      "           7       0.96      0.96      0.96      1028\n",
      "           8       0.96      0.94      0.95       974\n",
      "           9       0.95      0.94      0.94      1009\n",
      "\n",
      "   micro avg       0.96      0.96      0.96     10000\n",
      "   macro avg       0.96      0.96      0.96     10000\n",
      "weighted avg       0.96      0.96      0.96     10000\n",
      "\n",
      "[[ 965    0    0    1    1    3    5    1    2    2]\n",
      " [   0 1118    2    2    0    1    4    2    6    0]\n",
      " [   7    3  975    8    7    2    7   12   10    1]\n",
      " [   1    0    7  964    1   15    2    8    9    3]\n",
      " [   1    0    5    0  946    0    9    2    2   17]\n",
      " [   8    2    0   13    3  838   12    3    7    6]\n",
      " [   9    3    2    0    7    9  927    0    1    0]\n",
      " [   1    8   15    2    1    1    0  982    0   18]\n",
      " [   6    2    2   11    6    8   12    7  915    5]\n",
      " [   9    7    0   11   23    4    0    6    2  947]]\n",
      "Train on 60000 samples, validate on 10000 samples\n",
      "Epoch 1/20\n",
      "60000/60000 [==============================] - 6s 103us/step - loss: 1.4740 - acc: 0.6384 - val_loss: 0.6275 - val_acc: 0.8467\n",
      "Epoch 2/20\n",
      "60000/60000 [==============================] - 4s 60us/step - loss: 0.4935 - acc: 0.8659 - val_loss: 0.3818 - val_acc: 0.8931\n",
      "Epoch 3/20\n",
      "60000/60000 [==============================] - 4s 60us/step - loss: 0.3677 - acc: 0.8961 - val_loss: 0.3208 - val_acc: 0.9073\n",
      "Epoch 4/20\n",
      "60000/60000 [==============================] - 4s 60us/step - loss: 0.3215 - acc: 0.9077 - val_loss: 0.2898 - val_acc: 0.9155\n",
      "Epoch 5/20\n",
      "60000/60000 [==============================] - 4s 60us/step - loss: 0.2929 - acc: 0.9157 - val_loss: 0.2675 - val_acc: 0.9233\n",
      "Epoch 6/20\n",
      "60000/60000 [==============================] - 4s 60us/step - loss: 0.2718 - acc: 0.9215 - val_loss: 0.2530 - val_acc: 0.9270\n",
      "Epoch 7/20\n",
      "60000/60000 [==============================] - 4s 60us/step - loss: 0.2543 - acc: 0.9271 - val_loss: 0.2408 - val_acc: 0.9298\n",
      "Epoch 8/20\n",
      "60000/60000 [==============================] - 4s 61us/step - loss: 0.2396 - acc: 0.9313 - val_loss: 0.2283 - val_acc: 0.9351\n",
      "Epoch 9/20\n",
      "60000/60000 [==============================] - 5s 77us/step - loss: 0.2262 - acc: 0.9352 - val_loss: 0.2154 - val_acc: 0.9382\n",
      "Epoch 10/20\n",
      "60000/60000 [==============================] - 5s 80us/step - loss: 0.2148 - acc: 0.9383 - val_loss: 0.2063 - val_acc: 0.9404\n",
      "Epoch 11/20\n",
      "60000/60000 [==============================] - 4s 68us/step - loss: 0.2038 - acc: 0.9412 - val_loss: 0.1980 - val_acc: 0.9418\n",
      "Epoch 12/20\n",
      "60000/60000 [==============================] - 4s 66us/step - loss: 0.1942 - acc: 0.9440 - val_loss: 0.1905 - val_acc: 0.9435\n",
      "Epoch 13/20\n",
      "60000/60000 [==============================] - 4s 63us/step - loss: 0.1853 - acc: 0.9465 - val_loss: 0.1860 - val_acc: 0.9450\n",
      "Epoch 14/20\n",
      "60000/60000 [==============================] - 5s 79us/step - loss: 0.1772 - acc: 0.9491 - val_loss: 0.1731 - val_acc: 0.9487\n",
      "Epoch 15/20\n",
      "60000/60000 [==============================] - 4s 62us/step - loss: 0.1696 - acc: 0.9513 - val_loss: 0.1676 - val_acc: 0.9487\n",
      "Epoch 16/20\n",
      "60000/60000 [==============================] - 5s 83us/step - loss: 0.1630 - acc: 0.9530 - val_loss: 0.1646 - val_acc: 0.9497\n",
      "Epoch 17/20\n",
      "60000/60000 [==============================] - 4s 67us/step - loss: 0.1567 - acc: 0.9551 - val_loss: 0.1558 - val_acc: 0.9526\n",
      "Epoch 18/20\n",
      "60000/60000 [==============================] - 5s 79us/step - loss: 0.1507 - acc: 0.9563 - val_loss: 0.1499 - val_acc: 0.9548\n",
      "Epoch 19/20\n",
      "60000/60000 [==============================] - 4s 70us/step - loss: 0.1451 - acc: 0.9582 - val_loss: 0.1463 - val_acc: 0.9564\n",
      "Epoch 20/20\n",
      "60000/60000 [==============================] - 4s 70us/step - loss: 0.1397 - acc: 0.9593 - val_loss: 0.1413 - val_acc: 0.9577\n"
     ]
    },
    {
     "data": {
      "text/plain": [
       "42"
      ]
     },
     "execution_count": 69,
     "metadata": {},
     "output_type": "execute_result"
    },
    {
     "data": {
      "text/plain": [
       "23"
      ]
     },
     "execution_count": 69,
     "metadata": {},
     "output_type": "execute_result"
    },
    {
     "data": {
      "text/plain": [
       "1"
      ]
     },
     "execution_count": 69,
     "metadata": {},
     "output_type": "execute_result"
    },
    {
     "data": {
      "text/plain": [
       "15"
      ]
     },
     "execution_count": 69,
     "metadata": {},
     "output_type": "execute_result"
    },
    {
     "data": {
      "text/plain": [
       "2"
      ]
     },
     "execution_count": 69,
     "metadata": {},
     "output_type": "execute_result"
    },
    {
     "data": {
      "text/plain": [
       "[<matplotlib.lines.Line2D at 0x16062233f60>]"
      ]
     },
     "execution_count": 69,
     "metadata": {},
     "output_type": "execute_result"
    },
    {
     "data": {
      "text/plain": [
       "[<matplotlib.lines.Line2D at 0x16062241438>]"
      ]
     },
     "execution_count": 69,
     "metadata": {},
     "output_type": "execute_result"
    },
    {
     "data": {
      "text/plain": [
       "Text(0.5,1,'model accuracy')"
      ]
     },
     "execution_count": 69,
     "metadata": {},
     "output_type": "execute_result"
    },
    {
     "data": {
      "text/plain": [
       "Text(0,0.5,'accuracy')"
      ]
     },
     "execution_count": 69,
     "metadata": {},
     "output_type": "execute_result"
    },
    {
     "data": {
      "text/plain": [
       "Text(0.5,0,'epoch')"
      ]
     },
     "execution_count": 69,
     "metadata": {},
     "output_type": "execute_result"
    },
    {
     "data": {
      "text/plain": [
       "<matplotlib.legend.Legend at 0x16062241a58>"
      ]
     },
     "execution_count": 69,
     "metadata": {},
     "output_type": "execute_result"
    },
    {
     "data": {
      "text/plain": [
       "[<matplotlib.lines.Line2D at 0x160622b1ef0>]"
      ]
     },
     "execution_count": 69,
     "metadata": {},
     "output_type": "execute_result"
    },
    {
     "data": {
      "text/plain": [
       "[<matplotlib.lines.Line2D at 0x160622ba080>]"
      ]
     },
     "execution_count": 69,
     "metadata": {},
     "output_type": "execute_result"
    },
    {
     "data": {
      "text/plain": [
       "Text(0.5,1,'model loss')"
      ]
     },
     "execution_count": 69,
     "metadata": {},
     "output_type": "execute_result"
    },
    {
     "data": {
      "text/plain": [
       "Text(0,0.5,'loss')"
      ]
     },
     "execution_count": 69,
     "metadata": {},
     "output_type": "execute_result"
    },
    {
     "data": {
      "text/plain": [
       "Text(0.5,0,'epoch')"
      ]
     },
     "execution_count": 69,
     "metadata": {},
     "output_type": "execute_result"
    },
    {
     "data": {
      "text/plain": [
       "<matplotlib.legend.Legend at 0x160622a19e8>"
      ]
     },
     "execution_count": 69,
     "metadata": {},
     "output_type": "execute_result"
    },
    {
     "name": "stdout",
     "output_type": "stream",
     "text": [
      "Analysis of results\n",
      "              precision    recall  f1-score   support\n",
      "\n",
      "           0       0.97      0.98      0.98       980\n",
      "           1       0.98      0.99      0.98      1135\n",
      "           2       0.94      0.97      0.96      1032\n",
      "           3       0.95      0.95      0.95      1010\n",
      "           4       0.95      0.95      0.95       982\n",
      "           5       0.96      0.94      0.95       892\n",
      "           6       0.96      0.97      0.96       958\n",
      "           7       0.96      0.96      0.96      1028\n",
      "           8       0.95      0.94      0.94       974\n",
      "           9       0.96      0.93      0.94      1009\n",
      "\n",
      "   micro avg       0.96      0.96      0.96     10000\n",
      "   macro avg       0.96      0.96      0.96     10000\n",
      "weighted avg       0.96      0.96      0.96     10000\n",
      "\n",
      "[[ 963    0    1    1    1    4    7    2    1    0]\n",
      " [   0 1118    3    2    0    0    3    2    7    0]\n",
      " [   3    2 1000    5    5    0    2    7    7    1]\n",
      " [   0    0   18  960    0   13    0    8   11    0]\n",
      " [   1    1    7    0  935    0   11    1    4   22]\n",
      " [   8    2    1   15    2  842    9    1    8    4]\n",
      " [   9    3    1    0    6    8  927    0    4    0]\n",
      " [   0    8   20    3    3    1    0  982    1   10]\n",
      " [   3    3    7   16    5    7   10    9  912    2]\n",
      " [   5    8    2   10   23    6    1   10    6  938]]\n",
      "Train on 60000 samples, validate on 10000 samples\n",
      "Epoch 1/20\n",
      "60000/60000 [==============================] - 7s 111us/step - loss: 1.4096 - acc: 0.6507 - val_loss: 0.5831 - val_acc: 0.8585\n",
      "Epoch 2/20\n",
      "60000/60000 [==============================] - 4s 69us/step - loss: 0.4663 - acc: 0.8756 - val_loss: 0.3721 - val_acc: 0.8958\n",
      "Epoch 3/20\n",
      "60000/60000 [==============================] - 4s 69us/step - loss: 0.3556 - acc: 0.8980 - val_loss: 0.3150 - val_acc: 0.9098\n",
      "Epoch 4/20\n",
      "60000/60000 [==============================] - 4s 69us/step - loss: 0.3132 - acc: 0.9098 - val_loss: 0.2850 - val_acc: 0.9188\n",
      "Epoch 5/20\n",
      "60000/60000 [==============================] - 4s 69us/step - loss: 0.2858 - acc: 0.9177 - val_loss: 0.2632 - val_acc: 0.9263\n",
      "Epoch 6/20\n",
      "60000/60000 [==============================] - 4s 71us/step - loss: 0.2654 - acc: 0.9229 - val_loss: 0.2446 - val_acc: 0.9317\n",
      "Epoch 7/20\n",
      "60000/60000 [==============================] - 4s 69us/step - loss: 0.2481 - acc: 0.9283 - val_loss: 0.2356 - val_acc: 0.9335\n",
      "Epoch 8/20\n",
      "60000/60000 [==============================] - 5s 79us/step - loss: 0.2336 - acc: 0.9325 - val_loss: 0.2234 - val_acc: 0.9372\n",
      "Epoch 9/20\n",
      "60000/60000 [==============================] - 5s 85us/step - loss: 0.2206 - acc: 0.9373 - val_loss: 0.2095 - val_acc: 0.9412\n",
      "Epoch 10/20\n",
      "60000/60000 [==============================] - 5s 88us/step - loss: 0.2095 - acc: 0.9397 - val_loss: 0.2017 - val_acc: 0.9424\n",
      "Epoch 11/20\n",
      "60000/60000 [==============================] - 4s 64us/step - loss: 0.1989 - acc: 0.9429 - val_loss: 0.1921 - val_acc: 0.9436\n",
      "Epoch 12/20\n",
      "60000/60000 [==============================] - 4s 68us/step - loss: 0.1900 - acc: 0.9450 - val_loss: 0.1837 - val_acc: 0.9462\n",
      "Epoch 13/20\n",
      "60000/60000 [==============================] - 4s 73us/step - loss: 0.1815 - acc: 0.9478 - val_loss: 0.1787 - val_acc: 0.9485\n",
      "Epoch 14/20\n",
      "60000/60000 [==============================] - 4s 63us/step - loss: 0.1739 - acc: 0.9501 - val_loss: 0.1708 - val_acc: 0.9506\n",
      "Epoch 15/20\n",
      "60000/60000 [==============================] - 4s 61us/step - loss: 0.1666 - acc: 0.9520 - val_loss: 0.1637 - val_acc: 0.9520\n",
      "Epoch 16/20\n",
      "60000/60000 [==============================] - 4s 61us/step - loss: 0.1603 - acc: 0.9539 - val_loss: 0.1559 - val_acc: 0.9532\n",
      "Epoch 17/20\n",
      "60000/60000 [==============================] - 4s 64us/step - loss: 0.1537 - acc: 0.9564 - val_loss: 0.1564 - val_acc: 0.9523\n",
      "Epoch 18/20\n",
      "60000/60000 [==============================] - 4s 64us/step - loss: 0.1482 - acc: 0.9574 - val_loss: 0.1496 - val_acc: 0.9551\n",
      "Epoch 19/20\n",
      "60000/60000 [==============================] - 4s 62us/step - loss: 0.1428 - acc: 0.9590 - val_loss: 0.1453 - val_acc: 0.9563\n",
      "Epoch 20/20\n",
      "60000/60000 [==============================] - 4s 65us/step - loss: 0.1378 - acc: 0.9606 - val_loss: 0.1413 - val_acc: 0.9585\n"
     ]
    },
    {
     "data": {
      "text/plain": [
       "42"
      ]
     },
     "execution_count": 69,
     "metadata": {},
     "output_type": "execute_result"
    },
    {
     "data": {
      "text/plain": [
       "24"
      ]
     },
     "execution_count": 69,
     "metadata": {},
     "output_type": "execute_result"
    },
    {
     "data": {
      "text/plain": [
       "1"
      ]
     },
     "execution_count": 69,
     "metadata": {},
     "output_type": "execute_result"
    },
    {
     "data": {
      "text/plain": [
       "15"
      ]
     },
     "execution_count": 69,
     "metadata": {},
     "output_type": "execute_result"
    },
    {
     "data": {
      "text/plain": [
       "2"
      ]
     },
     "execution_count": 69,
     "metadata": {},
     "output_type": "execute_result"
    },
    {
     "data": {
      "text/plain": [
       "[<matplotlib.lines.Line2D at 0x160635e97f0>]"
      ]
     },
     "execution_count": 69,
     "metadata": {},
     "output_type": "execute_result"
    },
    {
     "data": {
      "text/plain": [
       "[<matplotlib.lines.Line2D at 0x160635e9c88>]"
      ]
     },
     "execution_count": 69,
     "metadata": {},
     "output_type": "execute_result"
    },
    {
     "data": {
      "text/plain": [
       "Text(0.5,1,'model accuracy')"
      ]
     },
     "execution_count": 69,
     "metadata": {},
     "output_type": "execute_result"
    },
    {
     "data": {
      "text/plain": [
       "Text(0,0.5,'accuracy')"
      ]
     },
     "execution_count": 69,
     "metadata": {},
     "output_type": "execute_result"
    },
    {
     "data": {
      "text/plain": [
       "Text(0.5,0,'epoch')"
      ]
     },
     "execution_count": 69,
     "metadata": {},
     "output_type": "execute_result"
    },
    {
     "data": {
      "text/plain": [
       "<matplotlib.legend.Legend at 0x160635d6208>"
      ]
     },
     "execution_count": 69,
     "metadata": {},
     "output_type": "execute_result"
    },
    {
     "data": {
      "text/plain": [
       "[<matplotlib.lines.Line2D at 0x16063661780>]"
      ]
     },
     "execution_count": 69,
     "metadata": {},
     "output_type": "execute_result"
    },
    {
     "data": {
      "text/plain": [
       "[<matplotlib.lines.Line2D at 0x160636618d0>]"
      ]
     },
     "execution_count": 69,
     "metadata": {},
     "output_type": "execute_result"
    },
    {
     "data": {
      "text/plain": [
       "Text(0.5,1,'model loss')"
      ]
     },
     "execution_count": 69,
     "metadata": {},
     "output_type": "execute_result"
    },
    {
     "data": {
      "text/plain": [
       "Text(0,0.5,'loss')"
      ]
     },
     "execution_count": 69,
     "metadata": {},
     "output_type": "execute_result"
    },
    {
     "data": {
      "text/plain": [
       "Text(0.5,0,'epoch')"
      ]
     },
     "execution_count": 69,
     "metadata": {},
     "output_type": "execute_result"
    },
    {
     "data": {
      "text/plain": [
       "<matplotlib.legend.Legend at 0x16063652198>"
      ]
     },
     "execution_count": 69,
     "metadata": {},
     "output_type": "execute_result"
    },
    {
     "name": "stdout",
     "output_type": "stream",
     "text": [
      "Analysis of results\n",
      "              precision    recall  f1-score   support\n",
      "\n",
      "           0       0.96      0.99      0.97       980\n",
      "           1       0.98      0.98      0.98      1135\n",
      "           2       0.95      0.96      0.96      1032\n",
      "           3       0.95      0.96      0.95      1010\n",
      "           4       0.96      0.96      0.96       982\n",
      "           5       0.95      0.94      0.95       892\n",
      "           6       0.95      0.97      0.96       958\n",
      "           7       0.96      0.95      0.96      1028\n",
      "           8       0.96      0.94      0.95       974\n",
      "           9       0.96      0.93      0.94      1009\n",
      "\n",
      "   micro avg       0.96      0.96      0.96     10000\n",
      "   macro avg       0.96      0.96      0.96     10000\n",
      "weighted avg       0.96      0.96      0.96     10000\n",
      "\n",
      "[[ 969    0    1    2    0    2    3    1    1    1]\n",
      " [   0 1116    3    2    0    1    4    2    7    0]\n",
      " [   5    1  995    5    2    1    9    7    7    0]\n",
      " [   1    0    9  972    0   13    0    8    6    1]\n",
      " [   1    0    5    1  943    1   12    1    2   16]\n",
      " [   9    1    2   13    1  840   13    0    9    4]\n",
      " [   8    3    2    0    5   10  925    2    3    0]\n",
      " [   1    9   17    6    1    2    0  980    1   11]\n",
      " [   8    2    7   15    8    4   10    7  911    2]\n",
      " [   9    7    1   10   24    7    1   11    5  934]]\n",
      "Train on 60000 samples, validate on 10000 samples\n",
      "Epoch 1/20\n",
      "60000/60000 [==============================] - 8s 131us/step - loss: 1.3853 - acc: 0.6834 - val_loss: 0.5945 - val_acc: 0.8434\n",
      "Epoch 2/20\n",
      "60000/60000 [==============================] - 4s 71us/step - loss: 0.4765 - acc: 0.8705 - val_loss: 0.3805 - val_acc: 0.8974\n",
      "Epoch 3/20\n",
      "60000/60000 [==============================] - 4s 69us/step - loss: 0.3648 - acc: 0.8966 - val_loss: 0.3238 - val_acc: 0.9070\n",
      "Epoch 4/20\n",
      "60000/60000 [==============================] - 4s 69us/step - loss: 0.3211 - acc: 0.9075 - val_loss: 0.2955 - val_acc: 0.9161\n",
      "Epoch 5/20\n",
      "60000/60000 [==============================] - 4s 68us/step - loss: 0.2938 - acc: 0.9145 - val_loss: 0.2751 - val_acc: 0.9215\n",
      "Epoch 6/20\n",
      "60000/60000 [==============================] - 4s 69us/step - loss: 0.2734 - acc: 0.9203 - val_loss: 0.2573 - val_acc: 0.9264\n",
      "Epoch 7/20\n",
      "60000/60000 [==============================] - 4s 73us/step - loss: 0.2570 - acc: 0.9257 - val_loss: 0.2423 - val_acc: 0.9301\n",
      "Epoch 8/20\n",
      "60000/60000 [==============================] - 4s 73us/step - loss: 0.2426 - acc: 0.9302 - val_loss: 0.2296 - val_acc: 0.9332\n",
      "Epoch 9/20\n",
      "60000/60000 [==============================] - 4s 74us/step - loss: 0.2299 - acc: 0.9343 - val_loss: 0.2214 - val_acc: 0.9344\n",
      "Epoch 10/20\n",
      "60000/60000 [==============================] - 5s 81us/step - loss: 0.2183 - acc: 0.9374 - val_loss: 0.2109 - val_acc: 0.9367\n",
      "Epoch 11/20\n",
      "60000/60000 [==============================] - 4s 72us/step - loss: 0.2075 - acc: 0.9408 - val_loss: 0.2002 - val_acc: 0.9404\n",
      "Epoch 12/20\n",
      "60000/60000 [==============================] - 5s 79us/step - loss: 0.1980 - acc: 0.9435 - val_loss: 0.1920 - val_acc: 0.9441\n",
      "Epoch 13/20\n",
      "60000/60000 [==============================] - 4s 66us/step - loss: 0.1895 - acc: 0.9457 - val_loss: 0.1860 - val_acc: 0.9464\n",
      "Epoch 14/20\n",
      "60000/60000 [==============================] - 4s 67us/step - loss: 0.1815 - acc: 0.9482 - val_loss: 0.1792 - val_acc: 0.9479\n",
      "Epoch 15/20\n",
      "60000/60000 [==============================] - 4s 69us/step - loss: 0.1738 - acc: 0.9501 - val_loss: 0.1707 - val_acc: 0.9493\n",
      "Epoch 16/20\n",
      "60000/60000 [==============================] - 4s 65us/step - loss: 0.1668 - acc: 0.9523 - val_loss: 0.1655 - val_acc: 0.9504\n",
      "Epoch 17/20\n",
      "60000/60000 [==============================] - 4s 68us/step - loss: 0.1602 - acc: 0.9536 - val_loss: 0.1587 - val_acc: 0.9524\n",
      "Epoch 18/20\n",
      "60000/60000 [==============================] - 4s 63us/step - loss: 0.1541 - acc: 0.9553 - val_loss: 0.1540 - val_acc: 0.9544\n",
      "Epoch 19/20\n",
      "60000/60000 [==============================] - 4s 65us/step - loss: 0.1484 - acc: 0.9569 - val_loss: 0.1488 - val_acc: 0.9565\n",
      "Epoch 20/20\n",
      "60000/60000 [==============================] - 4s 65us/step - loss: 0.1431 - acc: 0.9587 - val_loss: 0.1443 - val_acc: 0.9572\n"
     ]
    },
    {
     "data": {
      "text/plain": [
       "42"
      ]
     },
     "execution_count": 69,
     "metadata": {},
     "output_type": "execute_result"
    },
    {
     "data": {
      "text/plain": [
       "23"
      ]
     },
     "execution_count": 69,
     "metadata": {},
     "output_type": "execute_result"
    },
    {
     "data": {
      "text/plain": [
       "1"
      ]
     },
     "execution_count": 69,
     "metadata": {},
     "output_type": "execute_result"
    },
    {
     "data": {
      "text/plain": [
       "15"
      ]
     },
     "execution_count": 69,
     "metadata": {},
     "output_type": "execute_result"
    },
    {
     "data": {
      "text/plain": [
       "2"
      ]
     },
     "execution_count": 69,
     "metadata": {},
     "output_type": "execute_result"
    },
    {
     "data": {
      "text/plain": [
       "[<matplotlib.lines.Line2D at 0x160639bc080>]"
      ]
     },
     "execution_count": 69,
     "metadata": {},
     "output_type": "execute_result"
    },
    {
     "data": {
      "text/plain": [
       "[<matplotlib.lines.Line2D at 0x160639bc518>]"
      ]
     },
     "execution_count": 69,
     "metadata": {},
     "output_type": "execute_result"
    },
    {
     "data": {
      "text/plain": [
       "Text(0.5,1,'model accuracy')"
      ]
     },
     "execution_count": 69,
     "metadata": {},
     "output_type": "execute_result"
    },
    {
     "data": {
      "text/plain": [
       "Text(0,0.5,'accuracy')"
      ]
     },
     "execution_count": 69,
     "metadata": {},
     "output_type": "execute_result"
    },
    {
     "data": {
      "text/plain": [
       "Text(0.5,0,'epoch')"
      ]
     },
     "execution_count": 69,
     "metadata": {},
     "output_type": "execute_result"
    },
    {
     "data": {
      "text/plain": [
       "<matplotlib.legend.Legend at 0x160639bcb38>"
      ]
     },
     "execution_count": 69,
     "metadata": {},
     "output_type": "execute_result"
    },
    {
     "data": {
      "text/plain": [
       "[<matplotlib.lines.Line2D at 0x16063a2cb00>]"
      ]
     },
     "execution_count": 69,
     "metadata": {},
     "output_type": "execute_result"
    },
    {
     "data": {
      "text/plain": [
       "[<matplotlib.lines.Line2D at 0x160639d0048>]"
      ]
     },
     "execution_count": 69,
     "metadata": {},
     "output_type": "execute_result"
    },
    {
     "data": {
      "text/plain": [
       "Text(0.5,1,'model loss')"
      ]
     },
     "execution_count": 69,
     "metadata": {},
     "output_type": "execute_result"
    },
    {
     "data": {
      "text/plain": [
       "Text(0,0.5,'loss')"
      ]
     },
     "execution_count": 69,
     "metadata": {},
     "output_type": "execute_result"
    },
    {
     "data": {
      "text/plain": [
       "Text(0.5,0,'epoch')"
      ]
     },
     "execution_count": 69,
     "metadata": {},
     "output_type": "execute_result"
    },
    {
     "data": {
      "text/plain": [
       "<matplotlib.legend.Legend at 0x160639d05f8>"
      ]
     },
     "execution_count": 69,
     "metadata": {},
     "output_type": "execute_result"
    },
    {
     "name": "stdout",
     "output_type": "stream",
     "text": [
      "Analysis of results\n",
      "              precision    recall  f1-score   support\n",
      "\n",
      "           0       0.96      0.98      0.97       980\n",
      "           1       0.98      0.98      0.98      1135\n",
      "           2       0.96      0.96      0.96      1032\n",
      "           3       0.94      0.95      0.95      1010\n",
      "           4       0.95      0.96      0.95       982\n",
      "           5       0.95      0.94      0.94       892\n",
      "           6       0.97      0.95      0.96       958\n",
      "           7       0.96      0.96      0.96      1028\n",
      "           8       0.95      0.94      0.94       974\n",
      "           9       0.96      0.93      0.94      1009\n",
      "\n",
      "   micro avg       0.96      0.96      0.96     10000\n",
      "   macro avg       0.96      0.96      0.96     10000\n",
      "weighted avg       0.96      0.96      0.96     10000\n",
      "\n",
      "[[ 965    0    0    2    0    5    4    2    2    0]\n",
      " [   0 1116    3    2    0    1    3    2    8    0]\n",
      " [   4    1  995    9    6    1    4    7    5    0]\n",
      " [   2    1    9  964    1   11    0   10    9    3]\n",
      " [   1    1    7    0  943    0    5    1    4   20]\n",
      " [   8    2    0   18    3  836    9    0   11    5]\n",
      " [  10    3    2    0    9   14  914    0    6    0]\n",
      " [   1    9   15    5    2    2    0  983    1   10]\n",
      " [   5    2    3   16    5    9    7    6  919    2]\n",
      " [   9    7    1   11   24    5    1    8    6  937]]\n",
      "Train on 60000 samples, validate on 10000 samples\n",
      "Epoch 1/20\n",
      "60000/60000 [==============================] - 7s 125us/step - loss: 1.3475 - acc: 0.6940 - val_loss: 0.5914 - val_acc: 0.8482\n",
      "Epoch 2/20\n",
      "60000/60000 [==============================] - 4s 73us/step - loss: 0.4790 - acc: 0.8704 - val_loss: 0.3766 - val_acc: 0.8968\n",
      "Epoch 3/20\n",
      "60000/60000 [==============================] - 4s 70us/step - loss: 0.3664 - acc: 0.8961 - val_loss: 0.3214 - val_acc: 0.9090\n",
      "Epoch 4/20\n",
      "60000/60000 [==============================] - 4s 69us/step - loss: 0.3214 - acc: 0.9079 - val_loss: 0.2910 - val_acc: 0.9171\n",
      "Epoch 5/20\n",
      "60000/60000 [==============================] - 4s 69us/step - loss: 0.2931 - acc: 0.9156 - val_loss: 0.2707 - val_acc: 0.9230\n",
      "Epoch 6/20\n",
      "60000/60000 [==============================] - 4s 69us/step - loss: 0.2726 - acc: 0.9209 - val_loss: 0.2571 - val_acc: 0.9277\n",
      "Epoch 7/20\n",
      "60000/60000 [==============================] - 4s 67us/step - loss: 0.2556 - acc: 0.9259 - val_loss: 0.2383 - val_acc: 0.9311\n",
      "Epoch 8/20\n",
      "60000/60000 [==============================] - 4s 68us/step - loss: 0.2408 - acc: 0.9306 - val_loss: 0.2303 - val_acc: 0.9337\n",
      "Epoch 9/20\n",
      "60000/60000 [==============================] - 4s 69us/step - loss: 0.2280 - acc: 0.9340 - val_loss: 0.2154 - val_acc: 0.9386\n",
      "Epoch 10/20\n",
      "60000/60000 [==============================] - 4s 68us/step - loss: 0.2167 - acc: 0.9375 - val_loss: 0.2070 - val_acc: 0.9408\n",
      "Epoch 11/20\n",
      "60000/60000 [==============================] - 4s 67us/step - loss: 0.2066 - acc: 0.9400 - val_loss: 0.1984 - val_acc: 0.9427\n",
      "Epoch 12/20\n",
      "60000/60000 [==============================] - 4s 69us/step - loss: 0.1968 - acc: 0.9429 - val_loss: 0.1912 - val_acc: 0.9437\n",
      "Epoch 13/20\n",
      "60000/60000 [==============================] - 4s 67us/step - loss: 0.1886 - acc: 0.9450 - val_loss: 0.1823 - val_acc: 0.9468\n",
      "Epoch 14/20\n",
      "60000/60000 [==============================] - 4s 72us/step - loss: 0.1806 - acc: 0.9475 - val_loss: 0.1788 - val_acc: 0.9487\n",
      "Epoch 15/20\n",
      "60000/60000 [==============================] - 4s 70us/step - loss: 0.1734 - acc: 0.9494 - val_loss: 0.1718 - val_acc: 0.9468\n",
      "Epoch 16/20\n",
      "60000/60000 [==============================] - 4s 68us/step - loss: 0.1668 - acc: 0.9513 - val_loss: 0.1702 - val_acc: 0.9489\n",
      "Epoch 17/20\n",
      "60000/60000 [==============================] - 4s 68us/step - loss: 0.1603 - acc: 0.9536 - val_loss: 0.1667 - val_acc: 0.9500\n",
      "Epoch 18/20\n",
      "60000/60000 [==============================] - 4s 74us/step - loss: 0.1545 - acc: 0.9548 - val_loss: 0.1560 - val_acc: 0.9530\n",
      "Epoch 19/20\n",
      "60000/60000 [==============================] - 4s 73us/step - loss: 0.1494 - acc: 0.9564 - val_loss: 0.1520 - val_acc: 0.9541\n",
      "Epoch 20/20\n",
      "60000/60000 [==============================] - 4s 72us/step - loss: 0.1446 - acc: 0.9584 - val_loss: 0.1470 - val_acc: 0.9552\n"
     ]
    },
    {
     "data": {
      "text/plain": [
       "42"
      ]
     },
     "execution_count": 69,
     "metadata": {},
     "output_type": "execute_result"
    },
    {
     "data": {
      "text/plain": [
       "23"
      ]
     },
     "execution_count": 69,
     "metadata": {},
     "output_type": "execute_result"
    },
    {
     "data": {
      "text/plain": [
       "1"
      ]
     },
     "execution_count": 69,
     "metadata": {},
     "output_type": "execute_result"
    },
    {
     "data": {
      "text/plain": [
       "15"
      ]
     },
     "execution_count": 69,
     "metadata": {},
     "output_type": "execute_result"
    },
    {
     "data": {
      "text/plain": [
       "2"
      ]
     },
     "execution_count": 69,
     "metadata": {},
     "output_type": "execute_result"
    },
    {
     "data": {
      "text/plain": [
       "[<matplotlib.lines.Line2D at 0x16064d67400>]"
      ]
     },
     "execution_count": 69,
     "metadata": {},
     "output_type": "execute_result"
    },
    {
     "data": {
      "text/plain": [
       "[<matplotlib.lines.Line2D at 0x16064d67898>]"
      ]
     },
     "execution_count": 69,
     "metadata": {},
     "output_type": "execute_result"
    },
    {
     "data": {
      "text/plain": [
       "Text(0.5,1,'model accuracy')"
      ]
     },
     "execution_count": 69,
     "metadata": {},
     "output_type": "execute_result"
    },
    {
     "data": {
      "text/plain": [
       "Text(0,0.5,'accuracy')"
      ]
     },
     "execution_count": 69,
     "metadata": {},
     "output_type": "execute_result"
    },
    {
     "data": {
      "text/plain": [
       "Text(0.5,0,'epoch')"
      ]
     },
     "execution_count": 69,
     "metadata": {},
     "output_type": "execute_result"
    },
    {
     "data": {
      "text/plain": [
       "<matplotlib.legend.Legend at 0x16064d4cdd8>"
      ]
     },
     "execution_count": 69,
     "metadata": {},
     "output_type": "execute_result"
    },
    {
     "data": {
      "text/plain": [
       "[<matplotlib.lines.Line2D at 0x16065da6e80>]"
      ]
     },
     "execution_count": 69,
     "metadata": {},
     "output_type": "execute_result"
    },
    {
     "data": {
      "text/plain": [
       "[<matplotlib.lines.Line2D at 0x16065db1400>]"
      ]
     },
     "execution_count": 69,
     "metadata": {},
     "output_type": "execute_result"
    },
    {
     "data": {
      "text/plain": [
       "Text(0.5,1,'model loss')"
      ]
     },
     "execution_count": 69,
     "metadata": {},
     "output_type": "execute_result"
    },
    {
     "data": {
      "text/plain": [
       "Text(0,0.5,'loss')"
      ]
     },
     "execution_count": 69,
     "metadata": {},
     "output_type": "execute_result"
    },
    {
     "data": {
      "text/plain": [
       "Text(0.5,0,'epoch')"
      ]
     },
     "execution_count": 69,
     "metadata": {},
     "output_type": "execute_result"
    },
    {
     "data": {
      "text/plain": [
       "<matplotlib.legend.Legend at 0x16065d98898>"
      ]
     },
     "execution_count": 69,
     "metadata": {},
     "output_type": "execute_result"
    },
    {
     "name": "stdout",
     "output_type": "stream",
     "text": [
      "Analysis of results\n",
      "              precision    recall  f1-score   support\n",
      "\n",
      "           0       0.96      0.98      0.97       980\n",
      "           1       0.98      0.98      0.98      1135\n",
      "           2       0.95      0.96      0.96      1032\n",
      "           3       0.93      0.96      0.94      1010\n",
      "           4       0.96      0.95      0.96       982\n",
      "           5       0.95      0.93      0.94       892\n",
      "           6       0.96      0.96      0.96       958\n",
      "           7       0.96      0.94      0.95      1028\n",
      "           8       0.95      0.94      0.95       974\n",
      "           9       0.93      0.94      0.94      1009\n",
      "\n",
      "   micro avg       0.96      0.96      0.96     10000\n",
      "   macro avg       0.96      0.95      0.95     10000\n",
      "weighted avg       0.96      0.96      0.96     10000\n",
      "\n",
      "[[ 961    0    0    2    0    4    6    3    1    3]\n",
      " [   0 1116    3    2    0    1    3    2    8    0]\n",
      " [   5    1  994    7    3    1    4    8    6    3]\n",
      " [   2    0    9  967    0   11    0   10   10    1]\n",
      " [   1    0    5    0  933    0    9    2    2   30]\n",
      " [   8    1    0   23    1  829   10    1   11    8]\n",
      " [  11    3    2    1    7   10  921    0    3    0]\n",
      " [   0    8   22    6    2    1    0  968    1   20]\n",
      " [   4    3    4   20    3    7    7    8  912    6]\n",
      " [   5    8    2   10   18    5    1    8    1  951]]\n",
      "Train on 60000 samples, validate on 10000 samples\n",
      "Epoch 1/20\n",
      "60000/60000 [==============================] - 7s 121us/step - loss: 1.3929 - acc: 0.6545 - val_loss: 0.6071 - val_acc: 0.8430\n",
      "Epoch 2/20\n",
      "60000/60000 [==============================] - 4s 72us/step - loss: 0.4833 - acc: 0.8697 - val_loss: 0.3857 - val_acc: 0.8934\n",
      "Epoch 3/20\n",
      "60000/60000 [==============================] - 4s 69us/step - loss: 0.3652 - acc: 0.8974 - val_loss: 0.3251 - val_acc: 0.9105\n",
      "Epoch 4/20\n",
      "60000/60000 [==============================] - 4s 70us/step - loss: 0.3185 - acc: 0.9093 - val_loss: 0.2899 - val_acc: 0.9187\n",
      "Epoch 5/20\n",
      "60000/60000 [==============================] - 5s 85us/step - loss: 0.2896 - acc: 0.9168 - val_loss: 0.2741 - val_acc: 0.9204\n",
      "Epoch 6/20\n",
      "60000/60000 [==============================] - 4s 74us/step - loss: 0.2683 - acc: 0.9227 - val_loss: 0.2512 - val_acc: 0.9280\n",
      "Epoch 7/20\n",
      "60000/60000 [==============================] - 4s 72us/step - loss: 0.2510 - acc: 0.9282 - val_loss: 0.2373 - val_acc: 0.9326\n",
      "Epoch 8/20\n",
      "60000/60000 [==============================] - 4s 70us/step - loss: 0.2359 - acc: 0.9322 - val_loss: 0.2232 - val_acc: 0.9351\n",
      "Epoch 9/20\n",
      "60000/60000 [==============================] - 4s 73us/step - loss: 0.2229 - acc: 0.9362 - val_loss: 0.2169 - val_acc: 0.9370\n",
      "Epoch 10/20\n",
      "60000/60000 [==============================] - 4s 70us/step - loss: 0.2114 - acc: 0.9400 - val_loss: 0.2025 - val_acc: 0.9416\n",
      "Epoch 11/20\n",
      "60000/60000 [==============================] - 5s 81us/step - loss: 0.2006 - acc: 0.9427 - val_loss: 0.1947 - val_acc: 0.9443\n",
      "Epoch 12/20\n",
      "60000/60000 [==============================] - 5s 77us/step - loss: 0.1915 - acc: 0.9458 - val_loss: 0.1874 - val_acc: 0.9464\n",
      "Epoch 13/20\n",
      "60000/60000 [==============================] - 4s 72us/step - loss: 0.1829 - acc: 0.9479 - val_loss: 0.1784 - val_acc: 0.9481\n",
      "Epoch 14/20\n",
      "60000/60000 [==============================] - 4s 70us/step - loss: 0.1749 - acc: 0.9506 - val_loss: 0.1724 - val_acc: 0.9480\n",
      "Epoch 15/20\n",
      "60000/60000 [==============================] - 4s 70us/step - loss: 0.1675 - acc: 0.9526 - val_loss: 0.1651 - val_acc: 0.9515\n",
      "Epoch 16/20\n",
      "60000/60000 [==============================] - 4s 69us/step - loss: 0.1607 - acc: 0.9543 - val_loss: 0.1610 - val_acc: 0.9534\n",
      "Epoch 17/20\n",
      "60000/60000 [==============================] - 4s 70us/step - loss: 0.1547 - acc: 0.9558 - val_loss: 0.1563 - val_acc: 0.9544\n",
      "Epoch 18/20\n",
      "60000/60000 [==============================] - 4s 69us/step - loss: 0.1487 - acc: 0.9576 - val_loss: 0.1522 - val_acc: 0.9548\n",
      "Epoch 19/20\n",
      "60000/60000 [==============================] - 4s 68us/step - loss: 0.1438 - acc: 0.9589 - val_loss: 0.1465 - val_acc: 0.9565\n",
      "Epoch 20/20\n",
      "60000/60000 [==============================] - 4s 69us/step - loss: 0.1385 - acc: 0.9603 - val_loss: 0.1421 - val_acc: 0.9592\n"
     ]
    },
    {
     "data": {
      "text/plain": [
       "42"
      ]
     },
     "execution_count": 69,
     "metadata": {},
     "output_type": "execute_result"
    },
    {
     "data": {
      "text/plain": [
       "24"
      ]
     },
     "execution_count": 69,
     "metadata": {},
     "output_type": "execute_result"
    },
    {
     "data": {
      "text/plain": [
       "1"
      ]
     },
     "execution_count": 69,
     "metadata": {},
     "output_type": "execute_result"
    },
    {
     "data": {
      "text/plain": [
       "15"
      ]
     },
     "execution_count": 69,
     "metadata": {},
     "output_type": "execute_result"
    },
    {
     "data": {
      "text/plain": [
       "2"
      ]
     },
     "execution_count": 69,
     "metadata": {},
     "output_type": "execute_result"
    },
    {
     "data": {
      "text/plain": [
       "[<matplotlib.lines.Line2D at 0x160660fc780>]"
      ]
     },
     "execution_count": 69,
     "metadata": {},
     "output_type": "execute_result"
    },
    {
     "data": {
      "text/plain": [
       "[<matplotlib.lines.Line2D at 0x160660fcc18>]"
      ]
     },
     "execution_count": 69,
     "metadata": {},
     "output_type": "execute_result"
    },
    {
     "data": {
      "text/plain": [
       "Text(0.5,1,'model accuracy')"
      ]
     },
     "execution_count": 69,
     "metadata": {},
     "output_type": "execute_result"
    },
    {
     "data": {
      "text/plain": [
       "Text(0,0.5,'accuracy')"
      ]
     },
     "execution_count": 69,
     "metadata": {},
     "output_type": "execute_result"
    },
    {
     "data": {
      "text/plain": [
       "Text(0.5,0,'epoch')"
      ]
     },
     "execution_count": 69,
     "metadata": {},
     "output_type": "execute_result"
    },
    {
     "data": {
      "text/plain": [
       "<matplotlib.legend.Legend at 0x1606610c208>"
      ]
     },
     "execution_count": 69,
     "metadata": {},
     "output_type": "execute_result"
    },
    {
     "data": {
      "text/plain": [
       "[<matplotlib.lines.Line2D at 0x1606617b710>]"
      ]
     },
     "execution_count": 69,
     "metadata": {},
     "output_type": "execute_result"
    },
    {
     "data": {
      "text/plain": [
       "[<matplotlib.lines.Line2D at 0x1606617b860>]"
      ]
     },
     "execution_count": 69,
     "metadata": {},
     "output_type": "execute_result"
    },
    {
     "data": {
      "text/plain": [
       "Text(0.5,1,'model loss')"
      ]
     },
     "execution_count": 69,
     "metadata": {},
     "output_type": "execute_result"
    },
    {
     "data": {
      "text/plain": [
       "Text(0,0.5,'loss')"
      ]
     },
     "execution_count": 69,
     "metadata": {},
     "output_type": "execute_result"
    },
    {
     "data": {
      "text/plain": [
       "Text(0.5,0,'epoch')"
      ]
     },
     "execution_count": 69,
     "metadata": {},
     "output_type": "execute_result"
    },
    {
     "data": {
      "text/plain": [
       "<matplotlib.legend.Legend at 0x1606616a128>"
      ]
     },
     "execution_count": 69,
     "metadata": {},
     "output_type": "execute_result"
    },
    {
     "name": "stdout",
     "output_type": "stream",
     "text": [
      "Analysis of results\n",
      "              precision    recall  f1-score   support\n",
      "\n",
      "           0       0.97      0.99      0.98       980\n",
      "           1       0.98      0.98      0.98      1135\n",
      "           2       0.97      0.96      0.96      1032\n",
      "           3       0.94      0.96      0.95      1010\n",
      "           4       0.96      0.95      0.95       982\n",
      "           5       0.96      0.94      0.95       892\n",
      "           6       0.97      0.96      0.96       958\n",
      "           7       0.96      0.95      0.95      1028\n",
      "           8       0.95      0.95      0.95       974\n",
      "           9       0.93      0.95      0.94      1009\n",
      "\n",
      "   micro avg       0.96      0.96      0.96     10000\n",
      "   macro avg       0.96      0.96      0.96     10000\n",
      "weighted avg       0.96      0.96      0.96     10000\n",
      "\n",
      "[[ 968    0    0    1    0    4    3    1    2    1]\n",
      " [   0 1117    3    2    0    2    2    2    7    0]\n",
      " [   7    1  988    8    6    1    4    8    8    1]\n",
      " [   0    1    8  973    1    6    0   10    7    4]\n",
      " [   1    0    4    0  935    0    7    3    3   29]\n",
      " [   8    1    0   15    1  842    8    2    8    7]\n",
      " [   8    3    2    1   10   10  917    0    7    0]\n",
      " [   0    7   13    5    5    0    0  974    0   24]\n",
      " [   4    2    3   14    4    8    6    6  923    4]\n",
      " [   6    5    1   11   16    6    0    7    2  955]]\n",
      "Train on 60000 samples, validate on 10000 samples\n",
      "Epoch 1/20\n",
      "60000/60000 [==============================] - 7s 113us/step - loss: 1.4201 - acc: 0.6510 - val_loss: 0.5867 - val_acc: 0.8578\n",
      "Epoch 2/20\n",
      "60000/60000 [==============================] - 4s 71us/step - loss: 0.4755 - acc: 0.8715 - val_loss: 0.3789 - val_acc: 0.8941\n",
      "Epoch 3/20\n",
      "60000/60000 [==============================] - 6s 97us/step - loss: 0.3665 - acc: 0.8960 - val_loss: 0.3224 - val_acc: 0.9080\n",
      "Epoch 4/20\n",
      "60000/60000 [==============================] - 4s 71us/step - loss: 0.3223 - acc: 0.9080 - val_loss: 0.2901 - val_acc: 0.9175\n",
      "Epoch 5/20\n",
      "60000/60000 [==============================] - 4s 74us/step - loss: 0.2937 - acc: 0.9163 - val_loss: 0.2682 - val_acc: 0.9228\n",
      "Epoch 6/20\n",
      "60000/60000 [==============================] - 4s 74us/step - loss: 0.2725 - acc: 0.9214 - val_loss: 0.2530 - val_acc: 0.9277\n",
      "Epoch 7/20\n",
      "60000/60000 [==============================] - 5s 77us/step - loss: 0.2547 - acc: 0.9268 - val_loss: 0.2380 - val_acc: 0.9317\n",
      "Epoch 8/20\n",
      "60000/60000 [==============================] - 4s 72us/step - loss: 0.2398 - acc: 0.9304 - val_loss: 0.2255 - val_acc: 0.9365\n",
      "Epoch 9/20\n",
      "60000/60000 [==============================] - 4s 75us/step - loss: 0.2264 - acc: 0.9349 - val_loss: 0.2169 - val_acc: 0.9382\n",
      "Epoch 10/20\n",
      "60000/60000 [==============================] - 5s 81us/step - loss: 0.2147 - acc: 0.9380 - val_loss: 0.2048 - val_acc: 0.9408\n",
      "Epoch 11/20\n",
      "60000/60000 [==============================] - 4s 74us/step - loss: 0.2039 - acc: 0.9414 - val_loss: 0.1980 - val_acc: 0.9428\n",
      "Epoch 12/20\n",
      "60000/60000 [==============================] - 4s 73us/step - loss: 0.1944 - acc: 0.9443 - val_loss: 0.1888 - val_acc: 0.9446\n",
      "Epoch 13/20\n",
      "60000/60000 [==============================] - 4s 70us/step - loss: 0.1855 - acc: 0.9459 - val_loss: 0.1813 - val_acc: 0.9464\n",
      "Epoch 14/20\n",
      "60000/60000 [==============================] - 5s 75us/step - loss: 0.1771 - acc: 0.9485 - val_loss: 0.1754 - val_acc: 0.9478\n",
      "Epoch 15/20\n",
      "60000/60000 [==============================] - 5s 78us/step - loss: 0.1696 - acc: 0.9507 - val_loss: 0.1664 - val_acc: 0.9509\n",
      "Epoch 16/20\n",
      "60000/60000 [==============================] - 5s 84us/step - loss: 0.1625 - acc: 0.9531 - val_loss: 0.1632 - val_acc: 0.9517\n",
      "Epoch 17/20\n",
      "60000/60000 [==============================] - 5s 91us/step - loss: 0.1560 - acc: 0.9545 - val_loss: 0.1554 - val_acc: 0.9535\n",
      "Epoch 18/20\n",
      "60000/60000 [==============================] - 4s 70us/step - loss: 0.1497 - acc: 0.9562 - val_loss: 0.1517 - val_acc: 0.9553\n",
      "Epoch 19/20\n",
      "60000/60000 [==============================] - 4s 70us/step - loss: 0.1445 - acc: 0.9584 - val_loss: 0.1469 - val_acc: 0.9563\n",
      "Epoch 20/20\n",
      "60000/60000 [==============================] - 4s 71us/step - loss: 0.1390 - acc: 0.9594 - val_loss: 0.1452 - val_acc: 0.9560\n"
     ]
    },
    {
     "data": {
      "text/plain": [
       "42"
      ]
     },
     "execution_count": 69,
     "metadata": {},
     "output_type": "execute_result"
    },
    {
     "data": {
      "text/plain": [
       "24"
      ]
     },
     "execution_count": 69,
     "metadata": {},
     "output_type": "execute_result"
    },
    {
     "data": {
      "text/plain": [
       "1"
      ]
     },
     "execution_count": 69,
     "metadata": {},
     "output_type": "execute_result"
    },
    {
     "data": {
      "text/plain": [
       "14"
      ]
     },
     "execution_count": 69,
     "metadata": {},
     "output_type": "execute_result"
    },
    {
     "data": {
      "text/plain": [
       "2"
      ]
     },
     "execution_count": 69,
     "metadata": {},
     "output_type": "execute_result"
    },
    {
     "data": {
      "text/plain": [
       "[<matplotlib.lines.Line2D at 0x160664c6fd0>]"
      ]
     },
     "execution_count": 69,
     "metadata": {},
     "output_type": "execute_result"
    },
    {
     "data": {
      "text/plain": [
       "[<matplotlib.lines.Line2D at 0x160664d7518>]"
      ]
     },
     "execution_count": 69,
     "metadata": {},
     "output_type": "execute_result"
    },
    {
     "data": {
      "text/plain": [
       "Text(0.5,1,'model accuracy')"
      ]
     },
     "execution_count": 69,
     "metadata": {},
     "output_type": "execute_result"
    },
    {
     "data": {
      "text/plain": [
       "Text(0,0.5,'accuracy')"
      ]
     },
     "execution_count": 69,
     "metadata": {},
     "output_type": "execute_result"
    },
    {
     "data": {
      "text/plain": [
       "Text(0.5,0,'epoch')"
      ]
     },
     "execution_count": 69,
     "metadata": {},
     "output_type": "execute_result"
    },
    {
     "data": {
      "text/plain": [
       "<matplotlib.legend.Legend at 0x160664d7a20>"
      ]
     },
     "execution_count": 69,
     "metadata": {},
     "output_type": "execute_result"
    },
    {
     "data": {
      "text/plain": [
       "[<matplotlib.lines.Line2D at 0x16066545f60>]"
      ]
     },
     "execution_count": 69,
     "metadata": {},
     "output_type": "execute_result"
    },
    {
     "data": {
      "text/plain": [
       "[<matplotlib.lines.Line2D at 0x1606654d0f0>]"
      ]
     },
     "execution_count": 69,
     "metadata": {},
     "output_type": "execute_result"
    },
    {
     "data": {
      "text/plain": [
       "Text(0.5,1,'model loss')"
      ]
     },
     "execution_count": 69,
     "metadata": {},
     "output_type": "execute_result"
    },
    {
     "data": {
      "text/plain": [
       "Text(0,0.5,'loss')"
      ]
     },
     "execution_count": 69,
     "metadata": {},
     "output_type": "execute_result"
    },
    {
     "data": {
      "text/plain": [
       "Text(0.5,0,'epoch')"
      ]
     },
     "execution_count": 69,
     "metadata": {},
     "output_type": "execute_result"
    },
    {
     "data": {
      "text/plain": [
       "<matplotlib.legend.Legend at 0x1606654da58>"
      ]
     },
     "execution_count": 69,
     "metadata": {},
     "output_type": "execute_result"
    },
    {
     "name": "stdout",
     "output_type": "stream",
     "text": [
      "Analysis of results\n",
      "              precision    recall  f1-score   support\n",
      "\n",
      "           0       0.96      0.98      0.97       980\n",
      "           1       0.98      0.98      0.98      1135\n",
      "           2       0.96      0.96      0.96      1032\n",
      "           3       0.92      0.97      0.95      1010\n",
      "           4       0.96      0.95      0.95       982\n",
      "           5       0.96      0.93      0.94       892\n",
      "           6       0.95      0.96      0.96       958\n",
      "           7       0.97      0.94      0.96      1028\n",
      "           8       0.94      0.95      0.94       974\n",
      "           9       0.95      0.93      0.94      1009\n",
      "\n",
      "   micro avg       0.96      0.96      0.96     10000\n",
      "   macro avg       0.96      0.96      0.96     10000\n",
      "weighted avg       0.96      0.96      0.96     10000\n",
      "\n",
      "[[ 965    0    1    2    0    5    5    1    1    0]\n",
      " [   0 1112    3    2    0    1    3    3   11    0]\n",
      " [   6    1  991    8    4    0    7    6    7    2]\n",
      " [   1    0    6  979    0    7    0    6    9    2]\n",
      " [   2    1    5    0  930    0   11    3    7   23]\n",
      " [   8    1    1   27    0  829    9    3    9    5]\n",
      " [  10    3    3    1    8   10  918    0    5    0]\n",
      " [   2    7   20    8    2    1    0  971    3   14]\n",
      " [   3    1    4   18    4    5    8    5  926    0]\n",
      " [   5    7    1   15   20    5    1    7    9  939]]\n",
      "Train on 60000 samples, validate on 10000 samples\n",
      "Epoch 1/20\n",
      "60000/60000 [==============================] - 7s 116us/step - loss: 1.4658 - acc: 0.6415 - val_loss: 0.6412 - val_acc: 0.8371\n",
      "Epoch 2/20\n",
      "60000/60000 [==============================] - 4s 73us/step - loss: 0.4958 - acc: 0.8655 - val_loss: 0.3859 - val_acc: 0.8928\n",
      "Epoch 3/20\n",
      "60000/60000 [==============================] - 4s 70us/step - loss: 0.3678 - acc: 0.8961 - val_loss: 0.3240 - val_acc: 0.9065\n",
      "Epoch 4/20\n",
      "60000/60000 [==============================] - 4s 70us/step - loss: 0.3214 - acc: 0.9075 - val_loss: 0.2902 - val_acc: 0.9169\n",
      "Epoch 5/20\n",
      "60000/60000 [==============================] - 4s 73us/step - loss: 0.2926 - acc: 0.9150 - val_loss: 0.2702 - val_acc: 0.9222\n",
      "Epoch 6/20\n",
      "60000/60000 [==============================] - 4s 70us/step - loss: 0.2718 - acc: 0.9208 - val_loss: 0.2534 - val_acc: 0.9273\n",
      "Epoch 7/20\n",
      "60000/60000 [==============================] - 4s 70us/step - loss: 0.2541 - acc: 0.9268 - val_loss: 0.2385 - val_acc: 0.9309\n",
      "Epoch 8/20\n",
      "60000/60000 [==============================] - 4s 70us/step - loss: 0.2392 - acc: 0.9308 - val_loss: 0.2283 - val_acc: 0.9338\n",
      "Epoch 9/20\n",
      "60000/60000 [==============================] - 4s 73us/step - loss: 0.2256 - acc: 0.9345 - val_loss: 0.2110 - val_acc: 0.9380\n",
      "Epoch 10/20\n",
      "60000/60000 [==============================] - 4s 72us/step - loss: 0.2137 - acc: 0.9383 - val_loss: 0.2021 - val_acc: 0.9431\n",
      "Epoch 11/20\n",
      "60000/60000 [==============================] - 4s 72us/step - loss: 0.2023 - acc: 0.9420 - val_loss: 0.1950 - val_acc: 0.9439\n",
      "Epoch 12/20\n",
      "60000/60000 [==============================] - 4s 72us/step - loss: 0.1924 - acc: 0.9447 - val_loss: 0.1837 - val_acc: 0.9469\n",
      "Epoch 13/20\n",
      "60000/60000 [==============================] - 4s 72us/step - loss: 0.1831 - acc: 0.9473 - val_loss: 0.1778 - val_acc: 0.9487\n",
      "Epoch 14/20\n",
      "60000/60000 [==============================] - 4s 72us/step - loss: 0.1747 - acc: 0.9491 - val_loss: 0.1684 - val_acc: 0.9518\n",
      "Epoch 15/20\n",
      "60000/60000 [==============================] - 4s 73us/step - loss: 0.1671 - acc: 0.9513 - val_loss: 0.1651 - val_acc: 0.9511\n",
      "Epoch 16/20\n",
      "60000/60000 [==============================] - 4s 72us/step - loss: 0.1599 - acc: 0.9538 - val_loss: 0.1610 - val_acc: 0.9532\n",
      "Epoch 17/20\n",
      "60000/60000 [==============================] - 4s 73us/step - loss: 0.1534 - acc: 0.9555 - val_loss: 0.1530 - val_acc: 0.9558\n",
      "Epoch 18/20\n",
      "60000/60000 [==============================] - 4s 71us/step - loss: 0.1471 - acc: 0.9573 - val_loss: 0.1461 - val_acc: 0.9573\n",
      "Epoch 19/20\n",
      "60000/60000 [==============================] - 4s 71us/step - loss: 0.1419 - acc: 0.9589 - val_loss: 0.1420 - val_acc: 0.9577\n",
      "Epoch 20/20\n",
      "60000/60000 [==============================] - 4s 70us/step - loss: 0.1365 - acc: 0.9605 - val_loss: 0.1404 - val_acc: 0.9588\n"
     ]
    },
    {
     "data": {
      "text/plain": [
       "42"
      ]
     },
     "execution_count": 69,
     "metadata": {},
     "output_type": "execute_result"
    },
    {
     "data": {
      "text/plain": [
       "23"
      ]
     },
     "execution_count": 69,
     "metadata": {},
     "output_type": "execute_result"
    },
    {
     "data": {
      "text/plain": [
       "1"
      ]
     },
     "execution_count": 69,
     "metadata": {},
     "output_type": "execute_result"
    },
    {
     "data": {
      "text/plain": [
       "15"
      ]
     },
     "execution_count": 69,
     "metadata": {},
     "output_type": "execute_result"
    },
    {
     "data": {
      "text/plain": [
       "2"
      ]
     },
     "execution_count": 69,
     "metadata": {},
     "output_type": "execute_result"
    },
    {
     "data": {
      "text/plain": [
       "[<matplotlib.lines.Line2D at 0x160675e0860>]"
      ]
     },
     "execution_count": 69,
     "metadata": {},
     "output_type": "execute_result"
    },
    {
     "data": {
      "text/plain": [
       "[<matplotlib.lines.Line2D at 0x160675e0cf8>]"
      ]
     },
     "execution_count": 69,
     "metadata": {},
     "output_type": "execute_result"
    },
    {
     "data": {
      "text/plain": [
       "Text(0.5,1,'model accuracy')"
      ]
     },
     "execution_count": 69,
     "metadata": {},
     "output_type": "execute_result"
    },
    {
     "data": {
      "text/plain": [
       "Text(0,0.5,'accuracy')"
      ]
     },
     "execution_count": 69,
     "metadata": {},
     "output_type": "execute_result"
    },
    {
     "data": {
      "text/plain": [
       "Text(0.5,0,'epoch')"
      ]
     },
     "execution_count": 69,
     "metadata": {},
     "output_type": "execute_result"
    },
    {
     "data": {
      "text/plain": [
       "<matplotlib.legend.Legend at 0x16067608278>"
      ]
     },
     "execution_count": 69,
     "metadata": {},
     "output_type": "execute_result"
    },
    {
     "data": {
      "text/plain": [
       "[<matplotlib.lines.Line2D at 0x160676677f0>]"
      ]
     },
     "execution_count": 69,
     "metadata": {},
     "output_type": "execute_result"
    },
    {
     "data": {
      "text/plain": [
       "[<matplotlib.lines.Line2D at 0x16067667940>]"
      ]
     },
     "execution_count": 69,
     "metadata": {},
     "output_type": "execute_result"
    },
    {
     "data": {
      "text/plain": [
       "Text(0.5,1,'model loss')"
      ]
     },
     "execution_count": 69,
     "metadata": {},
     "output_type": "execute_result"
    },
    {
     "data": {
      "text/plain": [
       "Text(0,0.5,'loss')"
      ]
     },
     "execution_count": 69,
     "metadata": {},
     "output_type": "execute_result"
    },
    {
     "data": {
      "text/plain": [
       "Text(0.5,0,'epoch')"
      ]
     },
     "execution_count": 69,
     "metadata": {},
     "output_type": "execute_result"
    },
    {
     "data": {
      "text/plain": [
       "<matplotlib.legend.Legend at 0x16067656208>"
      ]
     },
     "execution_count": 69,
     "metadata": {},
     "output_type": "execute_result"
    },
    {
     "name": "stdout",
     "output_type": "stream",
     "text": [
      "Analysis of results\n",
      "              precision    recall  f1-score   support\n",
      "\n",
      "           0       0.97      0.99      0.98       980\n",
      "           1       0.98      0.98      0.98      1135\n",
      "           2       0.97      0.95      0.96      1032\n",
      "           3       0.94      0.96      0.95      1010\n",
      "           4       0.95      0.97      0.96       982\n",
      "           5       0.95      0.95      0.95       892\n",
      "           6       0.97      0.96      0.96       958\n",
      "           7       0.97      0.94      0.96      1028\n",
      "           8       0.94      0.95      0.94       974\n",
      "           9       0.95      0.94      0.95      1009\n",
      "\n",
      "   micro avg       0.96      0.96      0.96     10000\n",
      "   macro avg       0.96      0.96      0.96     10000\n",
      "weighted avg       0.96      0.96      0.96     10000\n",
      "\n",
      "[[ 967    0    0    2    0    3    4    1    2    1]\n",
      " [   0 1111    3    2    1    2    3    1   12    0]\n",
      " [   6    1  983   11    6    1    7    7    9    1]\n",
      " [   1    0    4  974    0    9    0    6   12    4]\n",
      " [   1    0    6    0  950    0    2    1    5   17]\n",
      " [   6    1    0   14    2  848    9    0    6    6]\n",
      " [  10    3    0    0   11   13  915    0    6    0]\n",
      " [   0    8   17    7    6    1    0  971    2   16]\n",
      " [   4    1    2   19    5    8    4    6  922    3]\n",
      " [   5    6    1   10   22    5    0    5    8  947]]\n",
      "Train on 60000 samples, validate on 10000 samples\n",
      "Epoch 1/20\n",
      "60000/60000 [==============================] - 7s 119us/step - loss: 1.4006 - acc: 0.6647 - val_loss: 0.6045 - val_acc: 0.8503\n",
      "Epoch 2/20\n",
      "60000/60000 [==============================] - 4s 73us/step - loss: 0.4762 - acc: 0.8724 - val_loss: 0.3829 - val_acc: 0.8932\n",
      "Epoch 3/20\n",
      "60000/60000 [==============================] - 4s 71us/step - loss: 0.3636 - acc: 0.8968 - val_loss: 0.3266 - val_acc: 0.9051\n",
      "Epoch 4/20\n",
      "60000/60000 [==============================] - 6s 93us/step - loss: 0.3199 - acc: 0.9080 - val_loss: 0.2904 - val_acc: 0.9172\n",
      "Epoch 5/20\n",
      "60000/60000 [==============================] - 5s 90us/step - loss: 0.2920 - acc: 0.9166 - val_loss: 0.2707 - val_acc: 0.9220\n",
      "Epoch 6/20\n",
      "60000/60000 [==============================] - 5s 76us/step - loss: 0.2707 - acc: 0.9227 - val_loss: 0.2561 - val_acc: 0.9255\n",
      "Epoch 7/20\n",
      "60000/60000 [==============================] - 5s 78us/step - loss: 0.2531 - acc: 0.9272 - val_loss: 0.2365 - val_acc: 0.9329\n",
      "Epoch 8/20\n",
      "60000/60000 [==============================] - 4s 74us/step - loss: 0.2382 - acc: 0.9314 - val_loss: 0.2244 - val_acc: 0.9357\n",
      "Epoch 9/20\n",
      "60000/60000 [==============================] - 6s 93us/step - loss: 0.2245 - acc: 0.9352 - val_loss: 0.2142 - val_acc: 0.9379\n",
      "Epoch 10/20\n",
      "60000/60000 [==============================] - 10s 160us/step - loss: 0.2128 - acc: 0.9385 - val_loss: 0.2044 - val_acc: 0.9402\n",
      "Epoch 11/20\n",
      "60000/60000 [==============================] - 7s 109us/step - loss: 0.2024 - acc: 0.9418 - val_loss: 0.1943 - val_acc: 0.9439\n",
      "Epoch 12/20\n",
      "60000/60000 [==============================] - 6s 101us/step - loss: 0.1926 - acc: 0.9440 - val_loss: 0.1856 - val_acc: 0.9456\n",
      "Epoch 13/20\n",
      "60000/60000 [==============================] - 5s 78us/step - loss: 0.1843 - acc: 0.9464 - val_loss: 0.1774 - val_acc: 0.9470\n",
      "Epoch 14/20\n",
      "60000/60000 [==============================] - 4s 72us/step - loss: 0.1761 - acc: 0.9489 - val_loss: 0.1709 - val_acc: 0.9481\n",
      "Epoch 15/20\n",
      "60000/60000 [==============================] - 4s 73us/step - loss: 0.1683 - acc: 0.9511 - val_loss: 0.1646 - val_acc: 0.9508\n",
      "Epoch 16/20\n",
      "60000/60000 [==============================] - 4s 73us/step - loss: 0.1620 - acc: 0.9527 - val_loss: 0.1633 - val_acc: 0.9511\n",
      "Epoch 17/20\n",
      "60000/60000 [==============================] - 4s 74us/step - loss: 0.1558 - acc: 0.9548 - val_loss: 0.1577 - val_acc: 0.9533\n",
      "Epoch 18/20\n",
      "60000/60000 [==============================] - 5s 88us/step - loss: 0.1499 - acc: 0.9565 - val_loss: 0.1505 - val_acc: 0.9554\n",
      "Epoch 19/20\n",
      "60000/60000 [==============================] - 5s 80us/step - loss: 0.1443 - acc: 0.9582 - val_loss: 0.1447 - val_acc: 0.9566\n",
      "Epoch 20/20\n",
      "60000/60000 [==============================] - 4s 75us/step - loss: 0.1395 - acc: 0.9594 - val_loss: 0.1416 - val_acc: 0.9569\n"
     ]
    },
    {
     "data": {
      "text/plain": [
       "42"
      ]
     },
     "execution_count": 69,
     "metadata": {},
     "output_type": "execute_result"
    },
    {
     "data": {
      "text/plain": [
       "23"
      ]
     },
     "execution_count": 69,
     "metadata": {},
     "output_type": "execute_result"
    },
    {
     "data": {
      "text/plain": [
       "1"
      ]
     },
     "execution_count": 69,
     "metadata": {},
     "output_type": "execute_result"
    },
    {
     "data": {
      "text/plain": [
       "15"
      ]
     },
     "execution_count": 69,
     "metadata": {},
     "output_type": "execute_result"
    },
    {
     "data": {
      "text/plain": [
       "2"
      ]
     },
     "execution_count": 69,
     "metadata": {},
     "output_type": "execute_result"
    },
    {
     "data": {
      "text/plain": [
       "[<matplotlib.lines.Line2D at 0x16068c300f0>]"
      ]
     },
     "execution_count": 69,
     "metadata": {},
     "output_type": "execute_result"
    },
    {
     "data": {
      "text/plain": [
       "[<matplotlib.lines.Line2D at 0x16068c30588>]"
      ]
     },
     "execution_count": 69,
     "metadata": {},
     "output_type": "execute_result"
    },
    {
     "data": {
      "text/plain": [
       "Text(0.5,1,'model accuracy')"
      ]
     },
     "execution_count": 69,
     "metadata": {},
     "output_type": "execute_result"
    },
    {
     "data": {
      "text/plain": [
       "Text(0,0.5,'accuracy')"
      ]
     },
     "execution_count": 69,
     "metadata": {},
     "output_type": "execute_result"
    },
    {
     "data": {
      "text/plain": [
       "Text(0.5,0,'epoch')"
      ]
     },
     "execution_count": 69,
     "metadata": {},
     "output_type": "execute_result"
    },
    {
     "data": {
      "text/plain": [
       "<matplotlib.legend.Legend at 0x16068c16ac8>"
      ]
     },
     "execution_count": 69,
     "metadata": {},
     "output_type": "execute_result"
    },
    {
     "data": {
      "text/plain": [
       "[<matplotlib.lines.Line2D at 0x16068ca8080>]"
      ]
     },
     "execution_count": 69,
     "metadata": {},
     "output_type": "execute_result"
    },
    {
     "data": {
      "text/plain": [
       "[<matplotlib.lines.Line2D at 0x16068ca81d0>]"
      ]
     },
     "execution_count": 69,
     "metadata": {},
     "output_type": "execute_result"
    },
    {
     "data": {
      "text/plain": [
       "Text(0.5,1,'model loss')"
      ]
     },
     "execution_count": 69,
     "metadata": {},
     "output_type": "execute_result"
    },
    {
     "data": {
      "text/plain": [
       "Text(0,0.5,'loss')"
      ]
     },
     "execution_count": 69,
     "metadata": {},
     "output_type": "execute_result"
    },
    {
     "data": {
      "text/plain": [
       "Text(0.5,0,'epoch')"
      ]
     },
     "execution_count": 69,
     "metadata": {},
     "output_type": "execute_result"
    },
    {
     "data": {
      "text/plain": [
       "<matplotlib.legend.Legend at 0x16068c8fa58>"
      ]
     },
     "execution_count": 69,
     "metadata": {},
     "output_type": "execute_result"
    },
    {
     "name": "stdout",
     "output_type": "stream",
     "text": [
      "Analysis of results\n",
      "              precision    recall  f1-score   support\n",
      "\n",
      "           0       0.96      0.99      0.97       980\n",
      "           1       0.98      0.98      0.98      1135\n",
      "           2       0.95      0.96      0.95      1032\n",
      "           3       0.95      0.95      0.95      1010\n",
      "           4       0.95      0.96      0.95       982\n",
      "           5       0.97      0.93      0.95       892\n",
      "           6       0.95      0.96      0.96       958\n",
      "           7       0.96      0.95      0.96      1028\n",
      "           8       0.94      0.95      0.94       974\n",
      "           9       0.96      0.93      0.94      1009\n",
      "\n",
      "   micro avg       0.96      0.96      0.96     10000\n",
      "   macro avg       0.96      0.96      0.96     10000\n",
      "weighted avg       0.96      0.96      0.96     10000\n",
      "\n",
      "[[ 969    0    1    1    0    2    4    2    1    0]\n",
      " [   0 1115    3    2    0    1    4    2    8    0]\n",
      " [   8    1  989    7    5    0    4    9    8    1]\n",
      " [   1    2   14  963    0    8    0   10   11    1]\n",
      " [   1    0    6    1  938    0   11    2    4   19]\n",
      " [   9    2    2   15    3  834   11    1   10    5]\n",
      " [  10    3    3    0    8    7  921    0    6    0]\n",
      " [   0   10   18    4    2    0    0  977    2   15]\n",
      " [   5    2    4   12    5    6   10    7  921    2]\n",
      " [   9    8    1   11   22    2    1    5    8  942]]\n",
      "Train on 60000 samples, validate on 10000 samples\n",
      "Epoch 1/20\n",
      "60000/60000 [==============================] - 7s 119us/step - loss: 1.3700 - acc: 0.6654 - val_loss: 0.5923 - val_acc: 0.8456\n",
      "Epoch 2/20\n",
      "60000/60000 [==============================] - 5s 78us/step - loss: 0.4784 - acc: 0.8695 - val_loss: 0.3792 - val_acc: 0.8955\n",
      "Epoch 3/20\n",
      "60000/60000 [==============================] - 5s 76us/step - loss: 0.3635 - acc: 0.8977 - val_loss: 0.3208 - val_acc: 0.9089\n",
      "Epoch 4/20\n",
      "60000/60000 [==============================] - 5s 76us/step - loss: 0.3177 - acc: 0.9091 - val_loss: 0.2865 - val_acc: 0.9190\n",
      "Epoch 5/20\n",
      "60000/60000 [==============================] - 5s 75us/step - loss: 0.2880 - acc: 0.9175 - val_loss: 0.2681 - val_acc: 0.9239\n",
      "Epoch 6/20\n",
      "60000/60000 [==============================] - 5s 81us/step - loss: 0.2662 - acc: 0.9239 - val_loss: 0.2507 - val_acc: 0.9301\n",
      "Epoch 7/20\n",
      "60000/60000 [==============================] - 5s 88us/step - loss: 0.2480 - acc: 0.9287 - val_loss: 0.2370 - val_acc: 0.9315\n",
      "Epoch 8/20\n",
      "60000/60000 [==============================] - 5s 84us/step - loss: 0.2329 - acc: 0.9331 - val_loss: 0.2229 - val_acc: 0.9366\n",
      "Epoch 9/20\n",
      "60000/60000 [==============================] - 5s 76us/step - loss: 0.2197 - acc: 0.9369 - val_loss: 0.2098 - val_acc: 0.9397\n",
      "Epoch 10/20\n",
      "60000/60000 [==============================] - 5s 78us/step - loss: 0.2084 - acc: 0.9401 - val_loss: 0.1993 - val_acc: 0.9419\n",
      "Epoch 11/20\n",
      "60000/60000 [==============================] - 5s 75us/step - loss: 0.1976 - acc: 0.9431 - val_loss: 0.1902 - val_acc: 0.9439\n",
      "Epoch 12/20\n",
      "60000/60000 [==============================] - 5s 80us/step - loss: 0.1880 - acc: 0.9459 - val_loss: 0.1841 - val_acc: 0.9458\n",
      "Epoch 13/20\n",
      "60000/60000 [==============================] - 5s 90us/step - loss: 0.1793 - acc: 0.9485 - val_loss: 0.1762 - val_acc: 0.9472\n",
      "Epoch 14/20\n",
      "60000/60000 [==============================] - 5s 90us/step - loss: 0.1714 - acc: 0.9514 - val_loss: 0.1692 - val_acc: 0.9486\n",
      "Epoch 15/20\n",
      "60000/60000 [==============================] - 5s 92us/step - loss: 0.1643 - acc: 0.9526 - val_loss: 0.1656 - val_acc: 0.9516\n",
      "Epoch 16/20\n",
      "60000/60000 [==============================] - 5s 80us/step - loss: 0.1575 - acc: 0.9549 - val_loss: 0.1561 - val_acc: 0.9531\n",
      "Epoch 17/20\n",
      "60000/60000 [==============================] - 5s 82us/step - loss: 0.1513 - acc: 0.9569 - val_loss: 0.1527 - val_acc: 0.9532\n",
      "Epoch 18/20\n",
      "60000/60000 [==============================] - 5s 78us/step - loss: 0.1458 - acc: 0.9577 - val_loss: 0.1503 - val_acc: 0.9555\n",
      "Epoch 19/20\n",
      "60000/60000 [==============================] - 5s 79us/step - loss: 0.1407 - acc: 0.9598 - val_loss: 0.1430 - val_acc: 0.9558\n",
      "Epoch 20/20\n",
      "60000/60000 [==============================] - 5s 86us/step - loss: 0.1354 - acc: 0.9616 - val_loss: 0.1386 - val_acc: 0.9576\n"
     ]
    },
    {
     "data": {
      "text/plain": [
       "42"
      ]
     },
     "execution_count": 69,
     "metadata": {},
     "output_type": "execute_result"
    },
    {
     "data": {
      "text/plain": [
       "24"
      ]
     },
     "execution_count": 69,
     "metadata": {},
     "output_type": "execute_result"
    },
    {
     "data": {
      "text/plain": [
       "1"
      ]
     },
     "execution_count": 69,
     "metadata": {},
     "output_type": "execute_result"
    },
    {
     "data": {
      "text/plain": [
       "15"
      ]
     },
     "execution_count": 69,
     "metadata": {},
     "output_type": "execute_result"
    },
    {
     "data": {
      "text/plain": [
       "2"
      ]
     },
     "execution_count": 69,
     "metadata": {},
     "output_type": "execute_result"
    },
    {
     "data": {
      "text/plain": [
       "[<matplotlib.lines.Line2D at 0x16069007940>]"
      ]
     },
     "execution_count": 69,
     "metadata": {},
     "output_type": "execute_result"
    },
    {
     "data": {
      "text/plain": [
       "[<matplotlib.lines.Line2D at 0x16069007dd8>]"
      ]
     },
     "execution_count": 69,
     "metadata": {},
     "output_type": "execute_result"
    },
    {
     "data": {
      "text/plain": [
       "Text(0.5,1,'model accuracy')"
      ]
     },
     "execution_count": 69,
     "metadata": {},
     "output_type": "execute_result"
    },
    {
     "data": {
      "text/plain": [
       "Text(0,0.5,'accuracy')"
      ]
     },
     "execution_count": 69,
     "metadata": {},
     "output_type": "execute_result"
    },
    {
     "data": {
      "text/plain": [
       "Text(0.5,0,'epoch')"
      ]
     },
     "execution_count": 69,
     "metadata": {},
     "output_type": "execute_result"
    },
    {
     "data": {
      "text/plain": [
       "<matplotlib.legend.Legend at 0x16068ff7358>"
      ]
     },
     "execution_count": 69,
     "metadata": {},
     "output_type": "execute_result"
    },
    {
     "data": {
      "text/plain": [
       "[<matplotlib.lines.Line2D at 0x16069085518>]"
      ]
     },
     "execution_count": 69,
     "metadata": {},
     "output_type": "execute_result"
    },
    {
     "data": {
      "text/plain": [
       "[<matplotlib.lines.Line2D at 0x16069085668>]"
      ]
     },
     "execution_count": 69,
     "metadata": {},
     "output_type": "execute_result"
    },
    {
     "data": {
      "text/plain": [
       "Text(0.5,1,'model loss')"
      ]
     },
     "execution_count": 69,
     "metadata": {},
     "output_type": "execute_result"
    },
    {
     "data": {
      "text/plain": [
       "Text(0,0.5,'loss')"
      ]
     },
     "execution_count": 69,
     "metadata": {},
     "output_type": "execute_result"
    },
    {
     "data": {
      "text/plain": [
       "Text(0.5,0,'epoch')"
      ]
     },
     "execution_count": 69,
     "metadata": {},
     "output_type": "execute_result"
    },
    {
     "data": {
      "text/plain": [
       "<matplotlib.legend.Legend at 0x1606906efd0>"
      ]
     },
     "execution_count": 69,
     "metadata": {},
     "output_type": "execute_result"
    },
    {
     "name": "stdout",
     "output_type": "stream",
     "text": [
      "Analysis of results\n",
      "              precision    recall  f1-score   support\n",
      "\n",
      "           0       0.96      0.98      0.97       980\n",
      "           1       0.98      0.98      0.98      1135\n",
      "           2       0.97      0.96      0.96      1032\n",
      "           3       0.94      0.96      0.95      1010\n",
      "           4       0.95      0.96      0.95       982\n",
      "           5       0.95      0.95      0.95       892\n",
      "           6       0.95      0.97      0.96       958\n",
      "           7       0.96      0.95      0.95      1028\n",
      "           8       0.96      0.93      0.94       974\n",
      "           9       0.95      0.94      0.94      1009\n",
      "\n",
      "   micro avg       0.96      0.96      0.96     10000\n",
      "   macro avg       0.96      0.96      0.96     10000\n",
      "weighted avg       0.96      0.96      0.96     10000\n",
      "\n",
      "[[ 962    0    1    1    0    6    5    2    2    1]\n",
      " [   0 1117    3    2    0    1    5    2    5    0]\n",
      " [   4    1  986   10    6    3    6    8    8    0]\n",
      " [   0    0    5  973    0   12    0   10    8    2]\n",
      " [   1    0    3    0  941    0   11    4    2   20]\n",
      " [   8    1    1   14    2  843   11    0    6    6]\n",
      " [   8    3    0    0    7   10  926    0    4    0]\n",
      " [   2    8   14    6    4    1    0  977    2   14]\n",
      " [   5    1    4   17    6   10   11    9  907    4]\n",
      " [   7    5    1   11   23    4    1    9    4  944]]\n",
      "Train on 60000 samples, validate on 10000 samples\n",
      "Epoch 1/20\n",
      "60000/60000 [==============================] - 7s 123us/step - loss: 1.3900 - acc: 0.6607 - val_loss: 0.6063 - val_acc: 0.8473\n",
      "Epoch 2/20\n",
      "60000/60000 [==============================] - 5s 76us/step - loss: 0.4827 - acc: 0.8701 - val_loss: 0.3801 - val_acc: 0.8964\n",
      "Epoch 3/20\n",
      "60000/60000 [==============================] - 5s 84us/step - loss: 0.3646 - acc: 0.8967 - val_loss: 0.3208 - val_acc: 0.9089\n",
      "Epoch 4/20\n",
      "60000/60000 [==============================] - 5s 77us/step - loss: 0.3196 - acc: 0.9082 - val_loss: 0.2900 - val_acc: 0.9162\n",
      "Epoch 5/20\n",
      "60000/60000 [==============================] - 5s 76us/step - loss: 0.2911 - acc: 0.9162 - val_loss: 0.2708 - val_acc: 0.9218\n",
      "Epoch 6/20\n",
      "60000/60000 [==============================] - 5s 76us/step - loss: 0.2702 - acc: 0.9222 - val_loss: 0.2541 - val_acc: 0.9250\n",
      "Epoch 7/20\n",
      "60000/60000 [==============================] - 6s 102us/step - loss: 0.2526 - acc: 0.9275 - val_loss: 0.2396 - val_acc: 0.9311\n",
      "Epoch 8/20\n",
      "60000/60000 [==============================] - 5s 90us/step - loss: 0.2377 - acc: 0.9315 - val_loss: 0.2288 - val_acc: 0.9355\n",
      "Epoch 9/20\n",
      "60000/60000 [==============================] - 5s 86us/step - loss: 0.2240 - acc: 0.9351 - val_loss: 0.2132 - val_acc: 0.9365\n",
      "Epoch 10/20\n",
      "60000/60000 [==============================] - 5s 76us/step - loss: 0.2124 - acc: 0.9386 - val_loss: 0.2075 - val_acc: 0.9386\n",
      "Epoch 11/20\n",
      "60000/60000 [==============================] - 5s 76us/step - loss: 0.2011 - acc: 0.9420 - val_loss: 0.1951 - val_acc: 0.9419\n",
      "Epoch 12/20\n",
      "60000/60000 [==============================] - 5s 75us/step - loss: 0.1914 - acc: 0.9441 - val_loss: 0.1872 - val_acc: 0.9441\n",
      "Epoch 13/20\n",
      "60000/60000 [==============================] - 5s 76us/step - loss: 0.1822 - acc: 0.9473 - val_loss: 0.1794 - val_acc: 0.9483\n",
      "Epoch 14/20\n",
      "60000/60000 [==============================] - 5s 77us/step - loss: 0.1741 - acc: 0.9490 - val_loss: 0.1726 - val_acc: 0.9484\n",
      "Epoch 15/20\n",
      "60000/60000 [==============================] - 5s 76us/step - loss: 0.1660 - acc: 0.9515 - val_loss: 0.1685 - val_acc: 0.9495\n",
      "Epoch 16/20\n",
      "60000/60000 [==============================] - 5s 76us/step - loss: 0.1592 - acc: 0.9539 - val_loss: 0.1602 - val_acc: 0.9517\n",
      "Epoch 17/20\n",
      "60000/60000 [==============================] - 5s 75us/step - loss: 0.1527 - acc: 0.9561 - val_loss: 0.1565 - val_acc: 0.9525\n",
      "Epoch 18/20\n",
      "60000/60000 [==============================] - 5s 76us/step - loss: 0.1465 - acc: 0.9576 - val_loss: 0.1498 - val_acc: 0.9554\n",
      "Epoch 19/20\n",
      "60000/60000 [==============================] - 5s 75us/step - loss: 0.1406 - acc: 0.9594 - val_loss: 0.1455 - val_acc: 0.9560\n",
      "Epoch 20/20\n",
      "60000/60000 [==============================] - 5s 84us/step - loss: 0.1354 - acc: 0.9603 - val_loss: 0.1393 - val_acc: 0.9584\n"
     ]
    },
    {
     "data": {
      "text/plain": [
       "42"
      ]
     },
     "execution_count": 69,
     "metadata": {},
     "output_type": "execute_result"
    },
    {
     "data": {
      "text/plain": [
       "24"
      ]
     },
     "execution_count": 69,
     "metadata": {},
     "output_type": "execute_result"
    },
    {
     "data": {
      "text/plain": [
       "1"
      ]
     },
     "execution_count": 69,
     "metadata": {},
     "output_type": "execute_result"
    },
    {
     "data": {
      "text/plain": [
       "15"
      ]
     },
     "execution_count": 69,
     "metadata": {},
     "output_type": "execute_result"
    },
    {
     "data": {
      "text/plain": [
       "2"
      ]
     },
     "execution_count": 69,
     "metadata": {},
     "output_type": "execute_result"
    },
    {
     "data": {
      "text/plain": [
       "[<matplotlib.lines.Line2D at 0x1606a3a8da0>]"
      ]
     },
     "execution_count": 69,
     "metadata": {},
     "output_type": "execute_result"
    },
    {
     "data": {
      "text/plain": [
       "[<matplotlib.lines.Line2D at 0x1606a3b22e8>]"
      ]
     },
     "execution_count": 69,
     "metadata": {},
     "output_type": "execute_result"
    },
    {
     "data": {
      "text/plain": [
       "Text(0.5,1,'model accuracy')"
      ]
     },
     "execution_count": 69,
     "metadata": {},
     "output_type": "execute_result"
    },
    {
     "data": {
      "text/plain": [
       "Text(0,0.5,'accuracy')"
      ]
     },
     "execution_count": 69,
     "metadata": {},
     "output_type": "execute_result"
    },
    {
     "data": {
      "text/plain": [
       "Text(0.5,0,'epoch')"
      ]
     },
     "execution_count": 69,
     "metadata": {},
     "output_type": "execute_result"
    },
    {
     "data": {
      "text/plain": [
       "<matplotlib.legend.Legend at 0x1606a3d87b8>"
      ]
     },
     "execution_count": 69,
     "metadata": {},
     "output_type": "execute_result"
    },
    {
     "data": {
      "text/plain": [
       "[<matplotlib.lines.Line2D at 0x1606a42ed30>]"
      ]
     },
     "execution_count": 69,
     "metadata": {},
     "output_type": "execute_result"
    },
    {
     "data": {
      "text/plain": [
       "[<matplotlib.lines.Line2D at 0x1606a43a208>]"
      ]
     },
     "execution_count": 69,
     "metadata": {},
     "output_type": "execute_result"
    },
    {
     "data": {
      "text/plain": [
       "Text(0.5,1,'model loss')"
      ]
     },
     "execution_count": 69,
     "metadata": {},
     "output_type": "execute_result"
    },
    {
     "data": {
      "text/plain": [
       "Text(0,0.5,'loss')"
      ]
     },
     "execution_count": 69,
     "metadata": {},
     "output_type": "execute_result"
    },
    {
     "data": {
      "text/plain": [
       "Text(0.5,0,'epoch')"
      ]
     },
     "execution_count": 69,
     "metadata": {},
     "output_type": "execute_result"
    },
    {
     "data": {
      "text/plain": [
       "<matplotlib.legend.Legend at 0x1606a43a828>"
      ]
     },
     "execution_count": 69,
     "metadata": {},
     "output_type": "execute_result"
    },
    {
     "name": "stdout",
     "output_type": "stream",
     "text": [
      "Analysis of results\n",
      "              precision    recall  f1-score   support\n",
      "\n",
      "           0       0.97      0.98      0.98       980\n",
      "           1       0.98      0.98      0.98      1135\n",
      "           2       0.96      0.96      0.96      1032\n",
      "           3       0.94      0.96      0.95      1010\n",
      "           4       0.95      0.97      0.96       982\n",
      "           5       0.94      0.95      0.94       892\n",
      "           6       0.96      0.96      0.96       958\n",
      "           7       0.96      0.95      0.96      1028\n",
      "           8       0.96      0.93      0.94       974\n",
      "           9       0.96      0.94      0.95      1009\n",
      "\n",
      "   micro avg       0.96      0.96      0.96     10000\n",
      "   macro avg       0.96      0.96      0.96     10000\n",
      "weighted avg       0.96      0.96      0.96     10000\n",
      "\n",
      "[[ 961    0    1    2    0    7    7    1    1    0]\n",
      " [   0 1114    3    2    1    1    3    2    9    0]\n",
      " [   6    2  990    6    7    1    6    8    5    1]\n",
      " [   0    0    7  972    0   12    0    9    8    2]\n",
      " [   1    0    5    0  948    1    4    2    2   19]\n",
      " [   6    1    0   17    3  843    9    1    7    5]\n",
      " [   9    3    3    0    6   17  916    0    4    0]\n",
      " [   0    8   18    5    3    1    0  981    1   11]\n",
      " [   3    3    3   20    7    9   10    7  909    3]\n",
      " [   5    6    2   10   19    3    1    8    5  950]]\n",
      "Train on 60000 samples, validate on 10000 samples\n",
      "Epoch 1/20\n",
      "60000/60000 [==============================] - 7s 123us/step - loss: 1.3433 - acc: 0.6782 - val_loss: 0.5846 - val_acc: 0.8462\n",
      "Epoch 2/20\n",
      "60000/60000 [==============================] - 5s 77us/step - loss: 0.4737 - acc: 0.8694 - val_loss: 0.3780 - val_acc: 0.8948\n",
      "Epoch 3/20\n",
      "60000/60000 [==============================] - 5s 78us/step - loss: 0.3653 - acc: 0.8959 - val_loss: 0.3219 - val_acc: 0.9078\n",
      "Epoch 4/20\n",
      "60000/60000 [==============================] - 5s 77us/step - loss: 0.3215 - acc: 0.9077 - val_loss: 0.2957 - val_acc: 0.9154\n",
      "Epoch 5/20\n",
      "60000/60000 [==============================] - 5s 80us/step - loss: 0.2941 - acc: 0.9147 - val_loss: 0.2694 - val_acc: 0.9214\n",
      "Epoch 6/20\n",
      "60000/60000 [==============================] - 5s 79us/step - loss: 0.2741 - acc: 0.9206 - val_loss: 0.2524 - val_acc: 0.9278\n",
      "Epoch 7/20\n",
      "60000/60000 [==============================] - 5s 76us/step - loss: 0.2566 - acc: 0.9255 - val_loss: 0.2383 - val_acc: 0.9311\n",
      "Epoch 8/20\n",
      "60000/60000 [==============================] - 5s 77us/step - loss: 0.2421 - acc: 0.9299 - val_loss: 0.2281 - val_acc: 0.9342\n",
      "Epoch 9/20\n",
      "60000/60000 [==============================] - 5s 79us/step - loss: 0.2289 - acc: 0.9333 - val_loss: 0.2216 - val_acc: 0.9353\n",
      "Epoch 10/20\n",
      "60000/60000 [==============================] - 5s 81us/step - loss: 0.2164 - acc: 0.9374 - val_loss: 0.2061 - val_acc: 0.9402\n",
      "Epoch 11/20\n",
      "60000/60000 [==============================] - 5s 80us/step - loss: 0.2060 - acc: 0.9411 - val_loss: 0.1945 - val_acc: 0.9440\n",
      "Epoch 12/20\n",
      "60000/60000 [==============================] - 5s 78us/step - loss: 0.1956 - acc: 0.9432 - val_loss: 0.1869 - val_acc: 0.9442\n",
      "Epoch 13/20\n",
      "60000/60000 [==============================] - 5s 78us/step - loss: 0.1864 - acc: 0.9461 - val_loss: 0.1809 - val_acc: 0.9474\n",
      "Epoch 14/20\n",
      "60000/60000 [==============================] - 5s 80us/step - loss: 0.1781 - acc: 0.9489 - val_loss: 0.1720 - val_acc: 0.9485\n",
      "Epoch 15/20\n",
      "60000/60000 [==============================] - 5s 81us/step - loss: 0.1700 - acc: 0.9514 - val_loss: 0.1659 - val_acc: 0.9516\n",
      "Epoch 16/20\n",
      "60000/60000 [==============================] - 5s 76us/step - loss: 0.1630 - acc: 0.9531 - val_loss: 0.1590 - val_acc: 0.9540\n",
      "Epoch 17/20\n",
      "60000/60000 [==============================] - 5s 85us/step - loss: 0.1561 - acc: 0.9551 - val_loss: 0.1552 - val_acc: 0.9526\n",
      "Epoch 18/20\n",
      "60000/60000 [==============================] - 5s 83us/step - loss: 0.1500 - acc: 0.9573 - val_loss: 0.1476 - val_acc: 0.9558\n",
      "Epoch 19/20\n",
      "60000/60000 [==============================] - 5s 79us/step - loss: 0.1440 - acc: 0.9586 - val_loss: 0.1434 - val_acc: 0.9576\n",
      "Epoch 20/20\n",
      "60000/60000 [==============================] - 6s 105us/step - loss: 0.1386 - acc: 0.9605 - val_loss: 0.1426 - val_acc: 0.9564\n"
     ]
    },
    {
     "data": {
      "text/plain": [
       "42"
      ]
     },
     "execution_count": 69,
     "metadata": {},
     "output_type": "execute_result"
    },
    {
     "data": {
      "text/plain": [
       "24"
      ]
     },
     "execution_count": 69,
     "metadata": {},
     "output_type": "execute_result"
    },
    {
     "data": {
      "text/plain": [
       "1"
      ]
     },
     "execution_count": 69,
     "metadata": {},
     "output_type": "execute_result"
    },
    {
     "data": {
      "text/plain": [
       "15"
      ]
     },
     "execution_count": 69,
     "metadata": {},
     "output_type": "execute_result"
    },
    {
     "data": {
      "text/plain": [
       "2"
      ]
     },
     "execution_count": 69,
     "metadata": {},
     "output_type": "execute_result"
    },
    {
     "data": {
      "text/plain": [
       "[<matplotlib.lines.Line2D at 0x1606c72e630>]"
      ]
     },
     "execution_count": 69,
     "metadata": {},
     "output_type": "execute_result"
    },
    {
     "data": {
      "text/plain": [
       "[<matplotlib.lines.Line2D at 0x1606c72eac8>]"
      ]
     },
     "execution_count": 69,
     "metadata": {},
     "output_type": "execute_result"
    },
    {
     "data": {
      "text/plain": [
       "Text(0.5,1,'model accuracy')"
      ]
     },
     "execution_count": 69,
     "metadata": {},
     "output_type": "execute_result"
    },
    {
     "data": {
      "text/plain": [
       "Text(0,0.5,'accuracy')"
      ]
     },
     "execution_count": 69,
     "metadata": {},
     "output_type": "execute_result"
    },
    {
     "data": {
      "text/plain": [
       "Text(0.5,0,'epoch')"
      ]
     },
     "execution_count": 69,
     "metadata": {},
     "output_type": "execute_result"
    },
    {
     "data": {
      "text/plain": [
       "<matplotlib.legend.Legend at 0x1606c72ee48>"
      ]
     },
     "execution_count": 69,
     "metadata": {},
     "output_type": "execute_result"
    },
    {
     "data": {
      "text/plain": [
       "[<matplotlib.lines.Line2D at 0x1606c7b00f0>]"
      ]
     },
     "execution_count": 69,
     "metadata": {},
     "output_type": "execute_result"
    },
    {
     "data": {
      "text/plain": [
       "[<matplotlib.lines.Line2D at 0x1606c7b0240>]"
      ]
     },
     "execution_count": 69,
     "metadata": {},
     "output_type": "execute_result"
    },
    {
     "data": {
      "text/plain": [
       "Text(0.5,1,'model loss')"
      ]
     },
     "execution_count": 69,
     "metadata": {},
     "output_type": "execute_result"
    },
    {
     "data": {
      "text/plain": [
       "Text(0,0.5,'loss')"
      ]
     },
     "execution_count": 69,
     "metadata": {},
     "output_type": "execute_result"
    },
    {
     "data": {
      "text/plain": [
       "Text(0.5,0,'epoch')"
      ]
     },
     "execution_count": 69,
     "metadata": {},
     "output_type": "execute_result"
    },
    {
     "data": {
      "text/plain": [
       "<matplotlib.legend.Legend at 0x1606c799ac8>"
      ]
     },
     "execution_count": 69,
     "metadata": {},
     "output_type": "execute_result"
    },
    {
     "name": "stdout",
     "output_type": "stream",
     "text": [
      "Analysis of results\n",
      "              precision    recall  f1-score   support\n",
      "\n",
      "           0       0.96      0.99      0.98       980\n",
      "           1       0.97      0.99      0.98      1135\n",
      "           2       0.95      0.97      0.96      1032\n",
      "           3       0.95      0.95      0.95      1010\n",
      "           4       0.96      0.96      0.96       982\n",
      "           5       0.93      0.96      0.95       892\n",
      "           6       0.95      0.96      0.96       958\n",
      "           7       0.97      0.94      0.96      1028\n",
      "           8       0.97      0.91      0.94       974\n",
      "           9       0.95      0.93      0.94      1009\n",
      "\n",
      "   micro avg       0.96      0.96      0.96     10000\n",
      "   macro avg       0.96      0.96      0.96     10000\n",
      "weighted avg       0.96      0.96      0.96     10000\n",
      "\n",
      "[[ 967    0    1    1    0    4    4    1    1    1]\n",
      " [   0 1122    3    2    0    1    3    0    4    0]\n",
      " [   3    1  998    7    3    1    7    6    4    2]\n",
      " [   0    2    9  963    0   18    1    9    4    4]\n",
      " [   1    0    9    0  939    0    7    2    3   21]\n",
      " [   6    2    1    6    3  857   10    0    3    4]\n",
      " [   9    3    3    0    6   10  923    1    3    0]\n",
      " [   1    9   22    7    2    1    0  969    1   16]\n",
      " [   7    4    9   20    5   19   12    6  886    6]\n",
      " [   9    9    1   11   20   10    2    7    0  940]]\n",
      "Train on 60000 samples, validate on 10000 samples\n",
      "Epoch 1/20\n",
      "60000/60000 [==============================] - 9s 154us/step - loss: 1.3949 - acc: 0.6626 - val_loss: 0.6102 - val_acc: 0.8378\n",
      "Epoch 2/20\n",
      "60000/60000 [==============================] - 5s 84us/step - loss: 0.4817 - acc: 0.8701 - val_loss: 0.3844 - val_acc: 0.8911\n",
      "Epoch 3/20\n",
      "60000/60000 [==============================] - 5s 87us/step - loss: 0.3672 - acc: 0.8963 - val_loss: 0.3268 - val_acc: 0.9060\n",
      "Epoch 4/20\n",
      "60000/60000 [==============================] - 5s 87us/step - loss: 0.3238 - acc: 0.9065 - val_loss: 0.2976 - val_acc: 0.9142\n",
      "Epoch 5/20\n",
      "60000/60000 [==============================] - 5s 84us/step - loss: 0.2965 - acc: 0.9140 - val_loss: 0.2753 - val_acc: 0.9214\n",
      "Epoch 6/20\n",
      "60000/60000 [==============================] - 5s 80us/step - loss: 0.2758 - acc: 0.9202 - val_loss: 0.2631 - val_acc: 0.9224\n",
      "Epoch 7/20\n",
      "60000/60000 [==============================] - 5s 82us/step - loss: 0.2586 - acc: 0.9251 - val_loss: 0.2430 - val_acc: 0.9303\n",
      "Epoch 8/20\n",
      "60000/60000 [==============================] - 5s 82us/step - loss: 0.2434 - acc: 0.9294 - val_loss: 0.2348 - val_acc: 0.9311\n",
      "Epoch 9/20\n",
      "60000/60000 [==============================] - 5s 85us/step - loss: 0.2301 - acc: 0.9336 - val_loss: 0.2217 - val_acc: 0.9369\n",
      "Epoch 10/20\n",
      "60000/60000 [==============================] - 5s 85us/step - loss: 0.2182 - acc: 0.9368 - val_loss: 0.2086 - val_acc: 0.9411\n",
      "Epoch 11/20\n",
      "60000/60000 [==============================] - 5s 80us/step - loss: 0.2073 - acc: 0.9399 - val_loss: 0.2014 - val_acc: 0.9414\n",
      "Epoch 12/20\n",
      "60000/60000 [==============================] - 5s 78us/step - loss: 0.1975 - acc: 0.9429 - val_loss: 0.1914 - val_acc: 0.9439\n",
      "Epoch 13/20\n",
      "60000/60000 [==============================] - 5s 80us/step - loss: 0.1880 - acc: 0.9459 - val_loss: 0.1823 - val_acc: 0.9480\n",
      "Epoch 14/20\n",
      "60000/60000 [==============================] - 5s 79us/step - loss: 0.1794 - acc: 0.9480 - val_loss: 0.1763 - val_acc: 0.9475\n",
      "Epoch 15/20\n",
      "60000/60000 [==============================] - 5s 79us/step - loss: 0.1718 - acc: 0.9503 - val_loss: 0.1667 - val_acc: 0.9515\n",
      "Epoch 16/20\n",
      "60000/60000 [==============================] - 5s 80us/step - loss: 0.1644 - acc: 0.9527 - val_loss: 0.1606 - val_acc: 0.9528\n",
      "Epoch 17/20\n",
      "60000/60000 [==============================] - 5s 82us/step - loss: 0.1577 - acc: 0.9548 - val_loss: 0.1570 - val_acc: 0.9555\n",
      "Epoch 18/20\n",
      "60000/60000 [==============================] - 5s 78us/step - loss: 0.1512 - acc: 0.9561 - val_loss: 0.1533 - val_acc: 0.9560\n",
      "Epoch 19/20\n",
      "60000/60000 [==============================] - 5s 78us/step - loss: 0.1456 - acc: 0.9582 - val_loss: 0.1461 - val_acc: 0.9569\n",
      "Epoch 20/20\n",
      "60000/60000 [==============================] - 5s 78us/step - loss: 0.1399 - acc: 0.9597 - val_loss: 0.1432 - val_acc: 0.9576\n"
     ]
    },
    {
     "data": {
      "text/plain": [
       "42"
      ]
     },
     "execution_count": 69,
     "metadata": {},
     "output_type": "execute_result"
    },
    {
     "data": {
      "text/plain": [
       "24"
      ]
     },
     "execution_count": 69,
     "metadata": {},
     "output_type": "execute_result"
    },
    {
     "data": {
      "text/plain": [
       "1"
      ]
     },
     "execution_count": 69,
     "metadata": {},
     "output_type": "execute_result"
    },
    {
     "data": {
      "text/plain": [
       "15"
      ]
     },
     "execution_count": 69,
     "metadata": {},
     "output_type": "execute_result"
    },
    {
     "data": {
      "text/plain": [
       "2"
      ]
     },
     "execution_count": 69,
     "metadata": {},
     "output_type": "execute_result"
    },
    {
     "data": {
      "text/plain": [
       "[<matplotlib.lines.Line2D at 0x1606b4c89b0>]"
      ]
     },
     "execution_count": 69,
     "metadata": {},
     "output_type": "execute_result"
    },
    {
     "data": {
      "text/plain": [
       "[<matplotlib.lines.Line2D at 0x1606b4c8e48>]"
      ]
     },
     "execution_count": 69,
     "metadata": {},
     "output_type": "execute_result"
    },
    {
     "data": {
      "text/plain": [
       "Text(0.5,1,'model accuracy')"
      ]
     },
     "execution_count": 69,
     "metadata": {},
     "output_type": "execute_result"
    },
    {
     "data": {
      "text/plain": [
       "Text(0,0.5,'accuracy')"
      ]
     },
     "execution_count": 69,
     "metadata": {},
     "output_type": "execute_result"
    },
    {
     "data": {
      "text/plain": [
       "Text(0.5,0,'epoch')"
      ]
     },
     "execution_count": 69,
     "metadata": {},
     "output_type": "execute_result"
    },
    {
     "data": {
      "text/plain": [
       "<matplotlib.legend.Legend at 0x1606b4e33c8>"
      ]
     },
     "execution_count": 69,
     "metadata": {},
     "output_type": "execute_result"
    },
    {
     "data": {
      "text/plain": [
       "[<matplotlib.lines.Line2D at 0x1606b54c940>]"
      ]
     },
     "execution_count": 69,
     "metadata": {},
     "output_type": "execute_result"
    },
    {
     "data": {
      "text/plain": [
       "[<matplotlib.lines.Line2D at 0x1606b54ca90>]"
      ]
     },
     "execution_count": 69,
     "metadata": {},
     "output_type": "execute_result"
    },
    {
     "data": {
      "text/plain": [
       "Text(0.5,1,'model loss')"
      ]
     },
     "execution_count": 69,
     "metadata": {},
     "output_type": "execute_result"
    },
    {
     "data": {
      "text/plain": [
       "Text(0,0.5,'loss')"
      ]
     },
     "execution_count": 69,
     "metadata": {},
     "output_type": "execute_result"
    },
    {
     "data": {
      "text/plain": [
       "Text(0.5,0,'epoch')"
      ]
     },
     "execution_count": 69,
     "metadata": {},
     "output_type": "execute_result"
    },
    {
     "data": {
      "text/plain": [
       "<matplotlib.legend.Legend at 0x1606b53a358>"
      ]
     },
     "execution_count": 69,
     "metadata": {},
     "output_type": "execute_result"
    },
    {
     "name": "stdout",
     "output_type": "stream",
     "text": [
      "Analysis of results\n",
      "              precision    recall  f1-score   support\n",
      "\n",
      "           0       0.96      0.98      0.97       980\n",
      "           1       0.98      0.98      0.98      1135\n",
      "           2       0.96      0.95      0.96      1032\n",
      "           3       0.95      0.96      0.96      1010\n",
      "           4       0.95      0.96      0.95       982\n",
      "           5       0.96      0.94      0.95       892\n",
      "           6       0.95      0.96      0.95       958\n",
      "           7       0.97      0.95      0.96      1028\n",
      "           8       0.94      0.95      0.94       974\n",
      "           9       0.94      0.94      0.94      1009\n",
      "\n",
      "   micro avg       0.96      0.96      0.96     10000\n",
      "   macro avg       0.96      0.96      0.96     10000\n",
      "weighted avg       0.96      0.96      0.96     10000\n",
      "\n",
      "[[ 964    0    1    3    1    3    6    1    1    0]\n",
      " [   0 1116    2    2    0    1    5    2    7    0]\n",
      " [   7    1  984    5    8    1    7   10    8    1]\n",
      " [   1    1    9  970    0    7    0    8   11    3]\n",
      " [   1    0    4    0  940    0   11    2    2   22]\n",
      " [   8    2    0   12    3  840   10    0   11    6]\n",
      " [  11    3    2    0    7   10  920    1    4    0]\n",
      " [   1    8   15    4    2    1    0  975    2   20]\n",
      " [   6    1    3   14    6    5   10    4  921    4]\n",
      " [   8    6    1    7   24    3    0    5    9  946]]\n",
      "Train on 60000 samples, validate on 10000 samples\n",
      "Epoch 1/20\n",
      "60000/60000 [==============================] - 8s 142us/step - loss: 1.4888 - acc: 0.6451 - val_loss: 0.6238 - val_acc: 0.8467\n",
      "Epoch 2/20\n",
      "60000/60000 [==============================] - 5s 79us/step - loss: 0.4896 - acc: 0.8686 - val_loss: 0.3906 - val_acc: 0.8904\n",
      "Epoch 3/20\n",
      "60000/60000 [==============================] - 5s 79us/step - loss: 0.3717 - acc: 0.8953 - val_loss: 0.3308 - val_acc: 0.9043\n",
      "Epoch 4/20\n",
      "60000/60000 [==============================] - 5s 82us/step - loss: 0.3254 - acc: 0.9066 - val_loss: 0.3024 - val_acc: 0.9126\n",
      "Epoch 5/20\n",
      "60000/60000 [==============================] - 5s 80us/step - loss: 0.2962 - acc: 0.9151 - val_loss: 0.2739 - val_acc: 0.9198\n",
      "Epoch 6/20\n",
      "60000/60000 [==============================] - 5s 80us/step - loss: 0.2740 - acc: 0.9208 - val_loss: 0.2598 - val_acc: 0.9246\n",
      "Epoch 7/20\n",
      "60000/60000 [==============================] - 5s 79us/step - loss: 0.2557 - acc: 0.9268 - val_loss: 0.2414 - val_acc: 0.9302\n",
      "Epoch 8/20\n",
      "60000/60000 [==============================] - 5s 79us/step - loss: 0.2397 - acc: 0.9307 - val_loss: 0.2270 - val_acc: 0.9349\n",
      "Epoch 9/20\n",
      "60000/60000 [==============================] - 5s 78us/step - loss: 0.2255 - acc: 0.9346 - val_loss: 0.2146 - val_acc: 0.9375\n",
      "Epoch 10/20\n",
      "60000/60000 [==============================] - 5s 79us/step - loss: 0.2132 - acc: 0.9387 - val_loss: 0.2033 - val_acc: 0.9405\n",
      "Epoch 11/20\n",
      "60000/60000 [==============================] - 5s 79us/step - loss: 0.2014 - acc: 0.9422 - val_loss: 0.1943 - val_acc: 0.9436\n",
      "Epoch 12/20\n",
      "60000/60000 [==============================] - 5s 79us/step - loss: 0.1910 - acc: 0.9448 - val_loss: 0.1842 - val_acc: 0.9460\n",
      "Epoch 13/20\n",
      "60000/60000 [==============================] - 5s 79us/step - loss: 0.1817 - acc: 0.9477 - val_loss: 0.1783 - val_acc: 0.9481\n",
      "Epoch 14/20\n",
      "60000/60000 [==============================] - 5s 79us/step - loss: 0.1734 - acc: 0.9503 - val_loss: 0.1687 - val_acc: 0.9491\n",
      "Epoch 15/20\n",
      "60000/60000 [==============================] - 5s 79us/step - loss: 0.1656 - acc: 0.9523 - val_loss: 0.1629 - val_acc: 0.9530\n",
      "Epoch 16/20\n",
      "60000/60000 [==============================] - 5s 79us/step - loss: 0.1584 - acc: 0.9547 - val_loss: 0.1587 - val_acc: 0.9545\n",
      "Epoch 17/20\n",
      "60000/60000 [==============================] - 6s 98us/step - loss: 0.1519 - acc: 0.9567 - val_loss: 0.1519 - val_acc: 0.9547\n",
      "Epoch 18/20\n",
      "60000/60000 [==============================] - 5s 83us/step - loss: 0.1458 - acc: 0.9577 - val_loss: 0.1494 - val_acc: 0.9559\n",
      "Epoch 19/20\n",
      "60000/60000 [==============================] - 5s 79us/step - loss: 0.1400 - acc: 0.9601 - val_loss: 0.1432 - val_acc: 0.9576\n",
      "Epoch 20/20\n",
      "60000/60000 [==============================] - 5s 81us/step - loss: 0.1351 - acc: 0.9615 - val_loss: 0.1369 - val_acc: 0.9599\n"
     ]
    },
    {
     "data": {
      "text/plain": [
       "42"
      ]
     },
     "execution_count": 69,
     "metadata": {},
     "output_type": "execute_result"
    },
    {
     "data": {
      "text/plain": [
       "23"
      ]
     },
     "execution_count": 69,
     "metadata": {},
     "output_type": "execute_result"
    },
    {
     "data": {
      "text/plain": [
       "1"
      ]
     },
     "execution_count": 69,
     "metadata": {},
     "output_type": "execute_result"
    },
    {
     "data": {
      "text/plain": [
       "15"
      ]
     },
     "execution_count": 69,
     "metadata": {},
     "output_type": "execute_result"
    },
    {
     "data": {
      "text/plain": [
       "2"
      ]
     },
     "execution_count": 69,
     "metadata": {},
     "output_type": "execute_result"
    },
    {
     "data": {
      "text/plain": [
       "[<matplotlib.lines.Line2D at 0x1606d16f240>]"
      ]
     },
     "execution_count": 69,
     "metadata": {},
     "output_type": "execute_result"
    },
    {
     "data": {
      "text/plain": [
       "[<matplotlib.lines.Line2D at 0x1606d16f6d8>]"
      ]
     },
     "execution_count": 69,
     "metadata": {},
     "output_type": "execute_result"
    },
    {
     "data": {
      "text/plain": [
       "Text(0.5,1,'model accuracy')"
      ]
     },
     "execution_count": 69,
     "metadata": {},
     "output_type": "execute_result"
    },
    {
     "data": {
      "text/plain": [
       "Text(0,0.5,'accuracy')"
      ]
     },
     "execution_count": 69,
     "metadata": {},
     "output_type": "execute_result"
    },
    {
     "data": {
      "text/plain": [
       "Text(0.5,0,'epoch')"
      ]
     },
     "execution_count": 69,
     "metadata": {},
     "output_type": "execute_result"
    },
    {
     "data": {
      "text/plain": [
       "<matplotlib.legend.Legend at 0x1606d16fc50>"
      ]
     },
     "execution_count": 69,
     "metadata": {},
     "output_type": "execute_result"
    },
    {
     "data": {
      "text/plain": [
       "[<matplotlib.lines.Line2D at 0x1606d1f21d0>]"
      ]
     },
     "execution_count": 69,
     "metadata": {},
     "output_type": "execute_result"
    },
    {
     "data": {
      "text/plain": [
       "[<matplotlib.lines.Line2D at 0x1606d1f2320>]"
      ]
     },
     "execution_count": 69,
     "metadata": {},
     "output_type": "execute_result"
    },
    {
     "data": {
      "text/plain": [
       "Text(0.5,1,'model loss')"
      ]
     },
     "execution_count": 69,
     "metadata": {},
     "output_type": "execute_result"
    },
    {
     "data": {
      "text/plain": [
       "Text(0,0.5,'loss')"
      ]
     },
     "execution_count": 69,
     "metadata": {},
     "output_type": "execute_result"
    },
    {
     "data": {
      "text/plain": [
       "Text(0.5,0,'epoch')"
      ]
     },
     "execution_count": 69,
     "metadata": {},
     "output_type": "execute_result"
    },
    {
     "data": {
      "text/plain": [
       "<matplotlib.legend.Legend at 0x1606d1d9ba8>"
      ]
     },
     "execution_count": 69,
     "metadata": {},
     "output_type": "execute_result"
    },
    {
     "name": "stdout",
     "output_type": "stream",
     "text": [
      "Analysis of results\n",
      "              precision    recall  f1-score   support\n",
      "\n",
      "           0       0.97      0.98      0.98       980\n",
      "           1       0.98      0.99      0.98      1135\n",
      "           2       0.98      0.95      0.96      1032\n",
      "           3       0.94      0.97      0.95      1010\n",
      "           4       0.96      0.96      0.96       982\n",
      "           5       0.96      0.95      0.95       892\n",
      "           6       0.95      0.97      0.96       958\n",
      "           7       0.96      0.95      0.95      1028\n",
      "           8       0.95      0.94      0.95       974\n",
      "           9       0.95      0.94      0.95      1009\n",
      "\n",
      "   micro avg       0.96      0.96      0.96     10000\n",
      "   macro avg       0.96      0.96      0.96     10000\n",
      "weighted avg       0.96      0.96      0.96     10000\n",
      "\n",
      "[[ 961    0    0    2    0    5    5    4    2    1]\n",
      " [   0 1118    2    3    0    1    4    2    5    0]\n",
      " [   8    2  977   14    3    0    9    9    9    1]\n",
      " [   0    0    3  979    1    6    0    8   11    2]\n",
      " [   1    0    3    0  942    1   11    3    2   19]\n",
      " [   6    1    0   13    1  850    8    1    8    4]\n",
      " [   3    3    1    0    7   13  925    1    5    0]\n",
      " [   1   10   13    8    1    3    0  978    0   14]\n",
      " [   4    1    1   14    8    7   10    8  917    4]\n",
      " [   5    5    1   14   16    3    1    8    4  952]]\n",
      "\n",
      "\n",
      "\n",
      "\n",
      " ########################## FINISHED ##########################\n",
      "\n",
      " Total execution time 3712.6284423172474\n"
     ]
    }
   ],
   "source": [
    "#global variables\n",
    "plots_folder = Path(\"plots/\")\n",
    "models_folder = Path(\"models/\")\n",
    "times_dict = {\"Compilation time\": [], \"Training time\": []}\n",
    "total_history = []\n",
    "text_file = \"score file.txt\"\n",
    "train_scores = []\n",
    "evaluation_scores = []\n",
    "\n",
    "#neural net architecture config\n",
    "n_hlayers = 0\n",
    "n_neurons = 401\n",
    "initial_neurons = 128\n",
    "neurons_step = 10\n",
    "n_epochs= 20\n",
    "n_batch_size= 128\n",
    "    \n",
    "text_file =  model_name + \"_\" + text_file\n",
    "\n",
    "start_time = time.clock()\n",
    "print(\"Using keras version %s\" % keras.__version__)\n",
    "\n",
    "#Load the MNIST dataset\n",
    "(x_train, y_train), (x_test, y_test) = mnist.load_data()  # loading of MNIST dataset\n",
    "\n",
    "#check sizes\n",
    "print(\"\\n\")\n",
    "print(\"Number of training examples: '{0}'\".format(x_train.shape[0]))\n",
    "print(\"Size of train samples: '{0}'\".format(x_train.shape[1:]))\n",
    "print(\"Size of test samples: '{0}'\".format(x_test.shape[1:]))\n",
    "\n",
    "#Data to 1D and normalization\n",
    "x_train = x_train.reshape(60000, 784) #60000 observations of 784 features\n",
    "x_test = x_test.reshape(10000, 784) # 10000 observations of 784 features\n",
    "\n",
    "x_train = x_train.astype('float32')\n",
    "x_test = x_test.astype('float32')\n",
    "x_train = x_train / 255\n",
    "x_test = x_test / 255\n",
    "\n",
    "# Adapts labels to one hot encoding vector for softmax classifier\n",
    "y_train = np_utils.to_categorical(y_train, 10)\n",
    "y_test = np_utils.to_categorical(y_test, 10)\n",
    "    \n",
    "#Neural network architecture\n",
    "if n_neurons==0:\n",
    "    neurons=64\n",
    "    model_name = \"fnn_fixed_neurons\"\n",
    "    text_file = model_name + \"_\" + text_file\n",
    "    for layers in range(n_hlayers):\n",
    "        nn = Sequential()\n",
    "        nn.add(Dense(initial_neurons, activation='relu', input_shape=(784,)))\n",
    "        for i in range(layers):\n",
    "            nn.add(Dense(neurons, activation = 'relu'))\n",
    "        nn.add(Dense(10, activation='softmax'))\n",
    "\n",
    "        #Model visualization\n",
    "        #The plot of the model needs pydot, graphviz and pydot-ng\n",
    "        #plot_model(nn, to_file='nn.png', show_shapes = True)\n",
    "\n",
    "        #Compile the model\n",
    "        time_compiling = time.clock()\n",
    "        nn.compile(optimizer = 'sgd', loss='categorical_crossentropy', metrics = ['accuracy'])\n",
    "        print(\"Compiling the network time {0} with layers equal to {1}\".format(time.clock() - time_compiling, layers + 1))\n",
    "        times_dict[\"Compilation time\"].append(time.clock() - time_compiling)\n",
    "        time_training = time.clock()\n",
    "        #train the model\n",
    "        history = nn.fit(x_train, y_train, batch_size = n_batch_size, epochs=n_epochs, validation_data=(x_test,y_test))\n",
    "        print(\"Training time {0} with layers equal to {1}\".format(time.clock() - time_training, layers + 1))\n",
    "        times_dict[\"Training time\"].append(time.clock() - time_training)\n",
    "        train_scores.append((history.history[\"acc\"][-1], history.history[\"loss\"][-1]))\n",
    "\n",
    "        #Evaluate the model\n",
    "        score = nn.evaluate(x_test, y_test, verbose=0) #returns loss and metrics (accuracy)\n",
    "        evaluation_scores.append(score)\n",
    "\n",
    "        with open('{}'.format(text_file), 'a') as f:\n",
    "            f.write(\"Scores for neural network with {} layers: \\n\".format(layers + 1))\n",
    "            f.write(\"Loss {}\".format(score[0]))\n",
    "            f.write(\"\\n\")\n",
    "            f.write(\"Accuracy {}\".format(score[1]))\n",
    "            f.write(\"\\n\\n\")\n",
    "\n",
    "        #Store plots\n",
    "        # Accuracy plot\n",
    "        plt.plot(history.history['acc'])\n",
    "        plt.plot(history.history['val_acc'])\n",
    "        plt.title('model accuracy')\n",
    "        plt.ylabel('accuracy')\n",
    "        plt.xlabel('epoch')\n",
    "        plt.legend(['train', 'test'], loc='upper left')\n",
    "        plot_name = \"model_accuracy_with_{}_layers_and_{}_neurons.pdf\".format(layers+1, neurons)\n",
    "        plt.savefig(plots_folder / plot_name)\n",
    "        plt.close()\n",
    "        # Loss plot\n",
    "        plt.plot(history.history['loss'])\n",
    "        plt.plot(history.history['val_loss'])\n",
    "        plt.title('model loss')\n",
    "        plt.ylabel('loss')\n",
    "        plt.xlabel('epoch')\n",
    "        plt.legend(['train', 'test'], loc='upper left')\n",
    "        plot_name = 'model_loss_with_{}_layers_{}_neurons.pdf'.format(layers + 1, neurons)\n",
    "        plt.savefig(plots_folder / plot_name)\n",
    "        plt.close()\n",
    "\n",
    "        total_history.append(history)\n",
    "\n",
    "        # Confusion Matrix\n",
    "        # Compute probabilities\n",
    "        Y_pred = nn.predict(x_test)\n",
    "        # Assign most probable label\n",
    "        y_pred = np.argmax(Y_pred, axis=1)\n",
    "        # Plot statistics\n",
    "        print('Analysis of results')\n",
    "        target_names = ['0', '1', '2', '3', '4', '5', '6', '7', '8', '9']\n",
    "        print(classification_report(np.argmax(y_test, axis=1), y_pred, target_names=target_names))\n",
    "        print(confusion_matrix(np.argmax(y_test, axis=1), y_pred))\n",
    "else:\n",
    "    layers = 2\n",
    "    model_name = \"fnn_fixed_layers\"\n",
    "    text_file = model_name + \"_\" + text_file\n",
    "    for neurons in range(2, n_neurons, neurons_step):\n",
    "        nn = Sequential()\n",
    "        nn.add(Dense(initial_neurons, activation='relu', input_shape=(784,)))\n",
    "        for i in range(layers):\n",
    "            nn.add(Dense(neurons, activation = 'relu'))\n",
    "        nn.add(Dense(10, activation='softmax'))\n",
    "\n",
    "        #Model visualization\n",
    "        #The plot of the model needs pydot, graphviz and pydot-ng\n",
    "        #plot_model(nn, to_file='nn.png', show_shapes = True)\n",
    "\n",
    "        #Compile the model\n",
    "        time_compiling = time.clock()\n",
    "        nn.compile(optimizer = 'sgd', loss='categorical_crossentropy', metrics = ['accuracy'])\n",
    "        times_dict[\"Compilation time\"].append(time.clock() - time_compiling)\n",
    "        time_training = time.clock()\n",
    "        #train the model\n",
    "        history = nn.fit(x_train, y_train, batch_size = n_batch_size, epochs=n_epochs, validation_data=(x_test,y_test))\n",
    "        times_dict[\"Training time\"].append(time.clock() - time_training)\n",
    "        train_scores.append((history.history[\"acc\"][-1], history.history[\"loss\"][-1]))\n",
    "\n",
    "        #Evaluate the model\n",
    "        score = nn.evaluate(x_test, y_test, verbose=0) #returns loss and metrics (accuracy)\n",
    "        evaluation_scores.append(score)\n",
    "\n",
    "        with open('{}'.format(text_file), 'a') as f:\n",
    "            f.write(\"Scores for neural network with {} layers: \\n\".format(layers + 1))\n",
    "            f.write(\"Loss {}\".format(score[0]))\n",
    "            f.write(\"\\n\")\n",
    "            f.write(\"Accuracy {}\".format(score[1]))\n",
    "            f.write(\"\\n\\n\")\n",
    "\n",
    "        #Store plots\n",
    "        # Accuracy plot\n",
    "        plt.plot(history.history['acc'])\n",
    "        plt.plot(history.history['val_acc'])\n",
    "        plt.title('model accuracy')\n",
    "        plt.ylabel('accuracy')\n",
    "        plt.xlabel('epoch')\n",
    "        plt.legend(['train', 'test'], loc='upper left')\n",
    "        plot_name = \"model_accuracy_with_{}_layers_and_{}_neurons.pdf\".format(layers+1, neurons)\n",
    "        plt.savefig(plots_folder / plot_name)\n",
    "        plt.close()\n",
    "        # Loss plot\n",
    "        plt.plot(history.history['loss'])\n",
    "        plt.plot(history.history['val_loss'])\n",
    "        plt.title('model loss')\n",
    "        plt.ylabel('loss')\n",
    "        plt.xlabel('epoch')\n",
    "        plt.legend(['train', 'test'], loc='upper left')\n",
    "        plot_name = 'model_loss_with_{}_layers_{}_neurons.pdf'.format(layers + 1, neurons)\n",
    "        plt.savefig(plots_folder / plot_name)\n",
    "        plt.close()\n",
    "\n",
    "        total_history.append(history)\n",
    "\n",
    "        # Confusion Matrix\n",
    "        # Compute probabilities\n",
    "        Y_pred = nn.predict(x_test)\n",
    "        # Assign most probable label\n",
    "        y_pred = np.argmax(Y_pred, axis=1)\n",
    "        # Plot statistics\n",
    "        print('Analysis of results')\n",
    "        target_names = ['0', '1', '2', '3', '4', '5', '6', '7', '8', '9']\n",
    "        print(classification_report(np.argmax(y_test, axis=1), y_pred, target_names=target_names))\n",
    "        print(confusion_matrix(np.argmax(y_test, axis=1), y_pred))\n",
    "\n",
    "#Execution time\n",
    "print(\"\\n\\n\\n\\n ########################## FINISHED ##########################\")\n",
    "print(\"\\n Total execution time {}\".format(time.clock()-start_time))\n",
    "\n",
    "# Ejemplo Confunde el 0 con el 6 (7 errores), el 9 con el 4 (20 errores) y el 3 con el 8 (21 errores).\n",
    "#La NN tiene un 96% accuracy"
   ]
  },
  {
   "cell_type": "code",
   "execution_count": null,
   "metadata": {},
   "outputs": [
    {
     "data": {
      "text/plain": [
       "[<matplotlib.lines.Line2D at 0x16068cc57f0>]"
      ]
     },
     "execution_count": 71,
     "metadata": {},
     "output_type": "execute_result"
    },
    {
     "data": {
      "text/plain": [
       "[<matplotlib.lines.Line2D at 0x16068cc5da0>]"
      ]
     },
     "execution_count": 71,
     "metadata": {},
     "output_type": "execute_result"
    },
    {
     "data": {
      "text/plain": [
       "[<matplotlib.lines.Line2D at 0x16068ceb198>]"
      ]
     },
     "execution_count": 71,
     "metadata": {},
     "output_type": "execute_result"
    },
    {
     "data": {
      "text/plain": [
       "[<matplotlib.lines.Line2D at 0x16068cebc88>]"
      ]
     },
     "execution_count": 71,
     "metadata": {},
     "output_type": "execute_result"
    },
    {
     "data": {
      "text/plain": [
       "[<matplotlib.lines.Line2D at 0x16068ceb4a8>]"
      ]
     },
     "execution_count": 71,
     "metadata": {},
     "output_type": "execute_result"
    },
    {
     "data": {
      "text/plain": [
       "[<matplotlib.lines.Line2D at 0x16068ca8e80>]"
      ]
     },
     "execution_count": 71,
     "metadata": {},
     "output_type": "execute_result"
    },
    {
     "data": {
      "text/plain": [
       "[<matplotlib.lines.Line2D at 0x16068ca8a20>]"
      ]
     },
     "execution_count": 71,
     "metadata": {},
     "output_type": "execute_result"
    },
    {
     "data": {
      "text/plain": [
       "[<matplotlib.lines.Line2D at 0x16068ca8710>]"
      ]
     },
     "execution_count": 71,
     "metadata": {},
     "output_type": "execute_result"
    },
    {
     "data": {
      "text/plain": [
       "[<matplotlib.lines.Line2D at 0x16068ca8160>]"
      ]
     },
     "execution_count": 71,
     "metadata": {},
     "output_type": "execute_result"
    },
    {
     "data": {
      "text/plain": [
       "[<matplotlib.lines.Line2D at 0x16068cb7048>]"
      ]
     },
     "execution_count": 71,
     "metadata": {},
     "output_type": "execute_result"
    },
    {
     "data": {
      "text/plain": [
       "[<matplotlib.lines.Line2D at 0x16068cf4e80>]"
      ]
     },
     "execution_count": 71,
     "metadata": {},
     "output_type": "execute_result"
    },
    {
     "data": {
      "text/plain": [
       "[<matplotlib.lines.Line2D at 0x16068c65240>]"
      ]
     },
     "execution_count": 71,
     "metadata": {},
     "output_type": "execute_result"
    },
    {
     "data": {
      "text/plain": [
       "[<matplotlib.lines.Line2D at 0x16068c65e48>]"
      ]
     },
     "execution_count": 71,
     "metadata": {},
     "output_type": "execute_result"
    },
    {
     "data": {
      "text/plain": [
       "[<matplotlib.lines.Line2D at 0x16068c65278>]"
      ]
     },
     "execution_count": 71,
     "metadata": {},
     "output_type": "execute_result"
    },
    {
     "data": {
      "text/plain": [
       "[<matplotlib.lines.Line2D at 0x16068c65860>]"
      ]
     },
     "execution_count": 71,
     "metadata": {},
     "output_type": "execute_result"
    },
    {
     "data": {
      "text/plain": [
       "[<matplotlib.lines.Line2D at 0x16068c31390>]"
      ]
     },
     "execution_count": 71,
     "metadata": {},
     "output_type": "execute_result"
    },
    {
     "data": {
      "text/plain": [
       "[<matplotlib.lines.Line2D at 0x16068c31780>]"
      ]
     },
     "execution_count": 71,
     "metadata": {},
     "output_type": "execute_result"
    },
    {
     "data": {
      "text/plain": [
       "[<matplotlib.lines.Line2D at 0x16068c31da0>]"
      ]
     },
     "execution_count": 71,
     "metadata": {},
     "output_type": "execute_result"
    },
    {
     "data": {
      "text/plain": [
       "[<matplotlib.lines.Line2D at 0x16068bf8ef0>]"
      ]
     },
     "execution_count": 71,
     "metadata": {},
     "output_type": "execute_result"
    },
    {
     "data": {
      "text/plain": [
       "[<matplotlib.lines.Line2D at 0x16068c58390>]"
      ]
     },
     "execution_count": 71,
     "metadata": {},
     "output_type": "execute_result"
    },
    {
     "data": {
      "text/plain": [
       "[<matplotlib.lines.Line2D at 0x16068c580b8>]"
      ]
     },
     "execution_count": 71,
     "metadata": {},
     "output_type": "execute_result"
    },
    {
     "data": {
      "text/plain": [
       "[<matplotlib.lines.Line2D at 0x16068c586d8>]"
      ]
     },
     "execution_count": 71,
     "metadata": {},
     "output_type": "execute_result"
    },
    {
     "data": {
      "text/plain": [
       "[<matplotlib.lines.Line2D at 0x16068c6aef0>]"
      ]
     },
     "execution_count": 71,
     "metadata": {},
     "output_type": "execute_result"
    },
    {
     "data": {
      "text/plain": [
       "[<matplotlib.lines.Line2D at 0x16068c6aa90>]"
      ]
     },
     "execution_count": 71,
     "metadata": {},
     "output_type": "execute_result"
    },
    {
     "data": {
      "text/plain": [
       "[<matplotlib.lines.Line2D at 0x16068c6a0f0>]"
      ]
     },
     "execution_count": 71,
     "metadata": {},
     "output_type": "execute_result"
    },
    {
     "data": {
      "text/plain": [
       "[<matplotlib.lines.Line2D at 0x16068c6a7f0>]"
      ]
     },
     "execution_count": 71,
     "metadata": {},
     "output_type": "execute_result"
    },
    {
     "data": {
      "text/plain": [
       "[<matplotlib.lines.Line2D at 0x16068c45d68>]"
      ]
     },
     "execution_count": 71,
     "metadata": {},
     "output_type": "execute_result"
    },
    {
     "data": {
      "text/plain": [
       "[<matplotlib.lines.Line2D at 0x16068c45d30>]"
      ]
     },
     "execution_count": 71,
     "metadata": {},
     "output_type": "execute_result"
    },
    {
     "data": {
      "text/plain": [
       "[<matplotlib.lines.Line2D at 0x16068c452b0>]"
      ]
     },
     "execution_count": 71,
     "metadata": {},
     "output_type": "execute_result"
    },
    {
     "data": {
      "text/plain": [
       "[<matplotlib.lines.Line2D at 0x16068c45320>]"
      ]
     },
     "execution_count": 71,
     "metadata": {},
     "output_type": "execute_result"
    },
    {
     "data": {
      "text/plain": [
       "[<matplotlib.lines.Line2D at 0x16068c0ed68>]"
      ]
     },
     "execution_count": 71,
     "metadata": {},
     "output_type": "execute_result"
    },
    {
     "data": {
      "text/plain": [
       "[<matplotlib.lines.Line2D at 0x16068c0eef0>]"
      ]
     },
     "execution_count": 71,
     "metadata": {},
     "output_type": "execute_result"
    },
    {
     "data": {
      "text/plain": [
       "[<matplotlib.lines.Line2D at 0x16068c0e978>]"
      ]
     },
     "execution_count": 71,
     "metadata": {},
     "output_type": "execute_result"
    },
    {
     "data": {
      "text/plain": [
       "[<matplotlib.lines.Line2D at 0x160676adc50>]"
      ]
     },
     "execution_count": 71,
     "metadata": {},
     "output_type": "execute_result"
    },
    {
     "data": {
      "text/plain": [
       "[<matplotlib.lines.Line2D at 0x160676ad8d0>]"
      ]
     },
     "execution_count": 71,
     "metadata": {},
     "output_type": "execute_result"
    },
    {
     "data": {
      "text/plain": [
       "[<matplotlib.lines.Line2D at 0x160676ad4a8>]"
      ]
     },
     "execution_count": 71,
     "metadata": {},
     "output_type": "execute_result"
    },
    {
     "data": {
      "text/plain": [
       "[<matplotlib.lines.Line2D at 0x1606768ecf8>]"
      ]
     },
     "execution_count": 71,
     "metadata": {},
     "output_type": "execute_result"
    },
    {
     "data": {
      "text/plain": [
       "[<matplotlib.lines.Line2D at 0x1606768e4a8>]"
      ]
     },
     "execution_count": 71,
     "metadata": {},
     "output_type": "execute_result"
    },
    {
     "data": {
      "text/plain": [
       "[<matplotlib.lines.Line2D at 0x1606768e668>]"
      ]
     },
     "execution_count": 71,
     "metadata": {},
     "output_type": "execute_result"
    },
    {
     "data": {
      "text/plain": [
       "[<matplotlib.lines.Line2D at 0x1606768e2b0>]"
      ]
     },
     "execution_count": 71,
     "metadata": {},
     "output_type": "execute_result"
    },
    {
     "data": {
      "text/plain": [
       "[<matplotlib.lines.Line2D at 0x16067697748>]"
      ]
     },
     "execution_count": 71,
     "metadata": {},
     "output_type": "execute_result"
    },
    {
     "data": {
      "text/plain": [
       "[<matplotlib.lines.Line2D at 0x16067697080>]"
      ]
     },
     "execution_count": 71,
     "metadata": {},
     "output_type": "execute_result"
    },
    {
     "data": {
      "text/plain": [
       "[<matplotlib.lines.Line2D at 0x16067684be0>]"
      ]
     },
     "execution_count": 71,
     "metadata": {},
     "output_type": "execute_result"
    },
    {
     "data": {
      "text/plain": [
       "[<matplotlib.lines.Line2D at 0x16067684320>]"
      ]
     },
     "execution_count": 71,
     "metadata": {},
     "output_type": "execute_result"
    },
    {
     "data": {
      "text/plain": [
       "[<matplotlib.lines.Line2D at 0x16067684550>]"
      ]
     },
     "execution_count": 71,
     "metadata": {},
     "output_type": "execute_result"
    },
    {
     "data": {
      "text/plain": [
       "[<matplotlib.lines.Line2D at 0x16067684400>]"
      ]
     },
     "execution_count": 71,
     "metadata": {},
     "output_type": "execute_result"
    },
    {
     "data": {
      "text/plain": [
       "[<matplotlib.lines.Line2D at 0x16067675e80>]"
      ]
     },
     "execution_count": 71,
     "metadata": {},
     "output_type": "execute_result"
    },
    {
     "data": {
      "text/plain": [
       "[<matplotlib.lines.Line2D at 0x16067675128>]"
      ]
     },
     "execution_count": 71,
     "metadata": {},
     "output_type": "execute_result"
    },
    {
     "data": {
      "text/plain": [
       "[<matplotlib.lines.Line2D at 0x16067843fd0>]"
      ]
     },
     "execution_count": 71,
     "metadata": {},
     "output_type": "execute_result"
    },
    {
     "data": {
      "text/plain": [
       "[<matplotlib.lines.Line2D at 0x1606761a710>]"
      ]
     },
     "execution_count": 71,
     "metadata": {},
     "output_type": "execute_result"
    },
    {
     "data": {
      "text/plain": [
       "<matplotlib.legend.Legend at 0x1606761ac88>"
      ]
     },
     "execution_count": 71,
     "metadata": {},
     "output_type": "execute_result"
    },
    {
     "data": {
      "text/plain": [
       "Text(0.5,1,'model accuracy by number of neurons')"
      ]
     },
     "execution_count": 71,
     "metadata": {},
     "output_type": "execute_result"
    },
    {
     "data": {
      "text/plain": [
       "Text(0,0.5,'accuracy')"
      ]
     },
     "execution_count": 71,
     "metadata": {},
     "output_type": "execute_result"
    },
    {
     "data": {
      "text/plain": [
       "Text(0.5,0,'epoch')"
      ]
     },
     "execution_count": 71,
     "metadata": {},
     "output_type": "execute_result"
    },
    {
     "data": {
      "text/plain": [
       "<Figure size 1296x1152 with 0 Axes>"
      ]
     },
     "execution_count": 71,
     "metadata": {},
     "output_type": "execute_result"
    },
    {
     "data": {
      "image/png": "[encoded data removed]",
      "text/plain": [
       "<Figure size 432x288 with 1 Axes>"
      ]
     },
     "metadata": {},
     "output_type": "display_data"
    },
    {
     "data": {
      "text/plain": [
       "<Figure size 1296x1152 with 0 Axes>"
      ]
     },
     "metadata": {},
     "output_type": "display_data"
    }
   ],
   "source": [
    "legend = []\n",
    "if n_neurons == 0:\n",
    "    for i in range(n_hlayers):\n",
    "        plt.plot(total_history[i].history['acc'])\n",
    "        legend.append('{} layers'.format(i+1))\n",
    "    plt.legend(legend, loc='lower right')\n",
    "    plt.title('model accuracy by layers')\n",
    "else:\n",
    "    for i in range(len(range(2, n_neurons, neurons_step))):\n",
    "        plt.plot(total_history[i].history['acc'])\n",
    "        legend.append('{} neurons'.format((i+1)*neurons_step))\n",
    "    plt.legend(legend, loc='lower right')\n",
    "    plt.title('model accuracy by number of neurons')\n",
    "plt.ylabel('accuracy')\n",
    "plt.xlabel('epoch')\n",
    "plot_name = \"model_accuracy_by_{}\".format(model_name)\n",
    "#plt.savefig(plots_folder / plot_name)    \n",
    "plt.figure(figsize=(18, 16))"
   ]
  },
  {
   "cell_type": "code",
   "execution_count": 68,
   "metadata": {},
   "outputs": [
    {
     "data": {
      "text/plain": [
       "[<matplotlib.lines.Line2D at 0x1604538c780>]"
      ]
     },
     "execution_count": 68,
     "metadata": {},
     "output_type": "execute_result"
    },
    {
     "data": {
      "text/plain": [
       "<matplotlib.legend.Legend at 0x16045110208>"
      ]
     },
     "execution_count": 68,
     "metadata": {},
     "output_type": "execute_result"
    },
    {
     "data": {
      "text/plain": [
       "Text(0.5,1,'model accuracy by fnn_fixed_layers')"
      ]
     },
     "execution_count": 68,
     "metadata": {},
     "output_type": "execute_result"
    },
    {
     "data": {
      "text/plain": [
       "Text(0,0.5,'accuracy')"
      ]
     },
     "execution_count": 68,
     "metadata": {},
     "output_type": "execute_result"
    },
    {
     "data": {
      "text/plain": [
       "Text(0.5,0,'layers')"
      ]
     },
     "execution_count": 68,
     "metadata": {},
     "output_type": "execute_result"
    },
    {
     "data": {
      "text/plain": [
       "<Figure size 1296x1152 with 0 Axes>"
      ]
     },
     "execution_count": 68,
     "metadata": {},
     "output_type": "execute_result"
    },
    {
     "data": {
      "image/png": "[encoded data removed]",
      "text/plain": [
       "<Figure size 432x288 with 1 Axes>"
      ]
     },
     "metadata": {},
     "output_type": "display_data"
    },
    {
     "data": {
      "text/plain": [
       "<Figure size 1296x1152 with 0 Axes>"
      ]
     },
     "metadata": {},
     "output_type": "display_data"
    }
   ],
   "source": [
    "accs = []\n",
    "if n_neurons == 0:\n",
    "    for i in range(n_hlayers):\n",
    "        accs.append(total_history[i].history['acc'][-1])\n",
    "else:\n",
    "    for i in range(len(range(2, n_neurons, neurons_step))):\n",
    "        accs.append(total_history[i].history['acc'][-1])\n",
    "plt.plot(accs)\n",
    "plt.legend([\"accuracy\"], loc='lower right')\n",
    "plt.title('model accuracy by {}'.format(model_name))\n",
    "plt.ylabel('accuracy')\n",
    "plt.xlabel('layers')\n",
    "plot_name = \"model_accuracy_by_{}_end_train\".format(model_name)\n",
    "# plt.savefig(plots_folder / plot_name)\n",
    "plt.figure(figsize=(18, 16))"
   ]
  },
  {
   "cell_type": "markdown",
   "metadata": {
    "hideCode": false,
    "hidePrompt": false
   },
   "source": [
    "**What is the impact of using more fully connected layers?**"
   ]
  },
  {
   "cell_type": "markdown",
   "metadata": {},
   "source": [
    "Our original code will be rewrited in order to control the number of hidden layers via a global variables called *n_layers* and we will iterate adding that number of hidden layers and comparing the results for *Execution time*, *Accuracy* and *Overfit*.\n",
    "\n",
    "**Observations**\n",
    "1. **Loss / Accuracy**: As we increment the number of layers, usually the first epoch have more loss than the neural network with one less hidden layer but in the following epochs, this loss reduces greatly achieving better accuracy as more hidden layers are in the neural network.\n",
    "2. **Execution time**: It can be seen that compiling time for each new architecture with more layers increases a little. The important one, training time, increases notably as we increment the number of layers. See the table.\n",
    "\n",
    "3. **Overfitting**: An increment on the number of layers is translated to an overfit of the model to the train data in early epochs, meaning that as epochs go, more overfitted is the model.\n",
    "4. It can be seen that the model accuracy increases as more layers are used."
   ]
  },
  {
   "cell_type": "code",
   "execution_count": 72,
   "metadata": {},
   "outputs": [
    {
     "name": "stdout",
     "output_type": "stream",
     "text": [
      "    Compilation time  Training time\n",
      "0           0.096816      47.962571\n",
      "1           0.046975      48.235103\n",
      "2           0.042444      48.411325\n",
      "3           0.042291      53.318072\n",
      "4           0.042862      55.063720\n",
      "5           0.047598      53.644906\n",
      "6           0.042339      53.117295\n",
      "7           0.044225      55.598140\n",
      "8           0.045431      55.785045\n",
      "9           0.046777      55.671752\n",
      "10          0.045471      56.889878\n",
      "11          0.043127      58.835386\n",
      "12          0.042396      55.970629\n",
      "13          0.053397      55.750248\n",
      "14          0.042777      55.446095\n",
      "15          0.045554      55.505354\n",
      "16          0.042679      61.191555\n",
      "17          0.097888      57.406310\n",
      "18          0.043692      70.076035\n",
      "19          0.043320      66.213153\n",
      "20          0.043814      70.696612\n",
      "21          0.073000      69.192440\n",
      "22          0.042162      71.173200\n",
      "23          0.042000      63.222998\n",
      "24          0.042118      67.784642\n",
      "25          0.043888      73.656941\n",
      "26          0.066471      73.587211\n",
      "27          0.042627      74.606259\n",
      "28          0.042328      70.932465\n",
      "29          0.043311      69.862133\n",
      "30          0.046464      73.544751\n",
      "31          0.042889      70.716104\n",
      "32          0.044438      71.149578\n",
      "33          0.042844      73.512042\n",
      "34          0.044342      73.733184\n",
      "35          0.044381      76.991187\n",
      "36          0.042379      77.111312\n",
      "37          0.043121      83.731247\n",
      "38          0.042209      85.709452\n",
      "39          0.067785      87.986229\n",
      "40          0.042425      87.045797\n",
      "41          0.049715      89.807392\n",
      "42          0.042265      93.908049\n",
      "43          0.045472      88.775121\n",
      "44          0.051291     105.426029\n",
      "45          0.043158     100.196789\n",
      "46          0.043695      98.148595\n",
      "47          0.043361      99.426774\n",
      "48          0.046468     102.755237\n",
      "49          0.043464     100.446728\n"
     ]
    },
    {
     "data": {
      "text/plain": [
       "<matplotlib.axes._subplots.AxesSubplot at 0x1605ca46160>"
      ]
     },
     "execution_count": 72,
     "metadata": {},
     "output_type": "execute_result"
    },
    {
     "data": {
      "image/png": "[encoded data removed]",
      "text/plain": [
       "<Figure size 432x288 with 1 Axes>"
      ]
     },
     "metadata": {},
     "output_type": "display_data"
    }
   ],
   "source": [
    "# compilation_time = [0.24594317327546378, 0.043510568686087936, 0.04459838010097883, 0.045250085238876636, 0.056358901495514147, 0.052324446456623264, 0.053702240227266884, 0.05874068365619678, 0.05362408092014448, 0.05278094211780626] \n",
    "# train_time = [39.99011794503713, 43.14482466451, 47.26708281148467, 49.6701730114778, 51.091938377238876, 51.03244404152338, 52.43567205865202, 55.833798198711065, 59.904547097023624, 61.02969902625591]\n",
    "\n",
    "times_df = pd.DataFrame(times_dict)\n",
    "print(times_df)\n",
    "times_df.plot()"
   ]
  },
  {
   "cell_type": "markdown",
   "metadata": {},
   "source": [
    "**What is the impact of increasing the number of neurons per layer?**"
   ]
  },
  {
   "cell_type": "markdown",
   "metadata": {},
   "source": [
    "From increasing the number of neurons we can draw conclusions similar to the increase of the number of layers:\n",
    "1. An increase in the overall of the training time.\n",
    "2. As more neurons are used, higher is the accuracy.\n",
    "3. Using more neurons seems to be **harder** to get overfitting issues compared to when increasing the number of layers, that makes the overfitting to happen earlier (in epochs)."
   ]
  },
  {
   "cell_type": "markdown",
   "metadata": {},
   "source": [
    "**What is the best performance you can get out of a basic neural net?**"
   ]
  },
  {
   "cell_type": "markdown",
   "metadata": {},
   "source": [
    "Because FNN can get good scores with the MNIST dataset, we will use the CIFAR10 dataset and try to achieve a good performance."
   ]
  },
  {
   "cell_type": "code",
   "execution_count": 21,
   "metadata": {},
   "outputs": [
    {
     "name": "stdout",
     "output_type": "stream",
     "text": [
      "Using keras version 2.2.2\n",
      "\n",
      "\n",
      "Number of training examples: '50000'\n",
      "Number of test examples: '10000'\n",
      "Size of train samples: '(32, 32, 3)'\n",
      "--Call--\n",
      "> \u001b[1;32mc:\\users\\worldsensing\\anaconda3\\lib\\site-packages\\ipython\\core\\displayhook.py\u001b[0m(247)\u001b[0;36m__call__\u001b[1;34m()\u001b[0m\n",
      "\u001b[1;32m    246 \u001b[1;33m\u001b[1;33m\u001b[0m\u001b[0m\n",
      "\u001b[0m\u001b[1;32m--> 247 \u001b[1;33m    \u001b[1;32mdef\u001b[0m \u001b[0m__call__\u001b[0m\u001b[1;33m(\u001b[0m\u001b[0mself\u001b[0m\u001b[1;33m,\u001b[0m \u001b[0mresult\u001b[0m\u001b[1;33m=\u001b[0m\u001b[1;32mNone\u001b[0m\u001b[1;33m)\u001b[0m\u001b[1;33m:\u001b[0m\u001b[1;33m\u001b[0m\u001b[0m\n",
      "\u001b[0m\u001b[1;32m    248 \u001b[1;33m        \"\"\"Printing with history cache management.\n",
      "\u001b[0m\n",
      "ipdb> c\n",
      "Epoch 1/20\n",
      "50000/50000 [==============================] - 14s 275us/step - loss: 2.0359 - acc: 0.2152\n",
      "Epoch 2/20\n",
      "50000/50000 [==============================] - 14s 288us/step - loss: 1.8486 - acc: 0.3041\n",
      "Epoch 3/20\n",
      "50000/50000 [==============================] - 13s 260us/step - loss: 1.7761 - acc: 0.3476\n",
      "Epoch 4/20\n",
      "50000/50000 [==============================] - 15s 300us/step - loss: 1.7090 - acc: 0.3744\n",
      "Epoch 5/20\n",
      "50000/50000 [==============================] - 15s 303us/step - loss: 1.6575 - acc: 0.3985\n",
      "Epoch 6/20\n",
      "50000/50000 [==============================] - 16s 319us/step - loss: 1.6155 - acc: 0.4155\n",
      "Epoch 7/20\n",
      "50000/50000 [==============================] - 14s 286us/step - loss: 1.5756 - acc: 0.4324\n",
      "Epoch 8/20\n",
      "50000/50000 [==============================] - 14s 288us/step - loss: 1.5504 - acc: 0.4416\n",
      "Epoch 9/20\n",
      "50000/50000 [==============================] - 15s 292us/step - loss: 1.5185 - acc: 0.4547\n",
      "Epoch 10/20\n",
      "50000/50000 [==============================] - 14s 285us/step - loss: 1.4821 - acc: 0.4691\n",
      "Epoch 11/20\n",
      "50000/50000 [==============================] - 13s 270us/step - loss: 1.4669 - acc: 0.4733\n",
      "Epoch 12/20\n",
      "50000/50000 [==============================] - 13s 254us/step - loss: 1.4472 - acc: 0.4791\n",
      "Epoch 13/20\n",
      "50000/50000 [==============================] - 13s 258us/step - loss: 1.4189 - acc: 0.4932\n",
      "Epoch 14/20\n",
      "50000/50000 [==============================] - 13s 259us/step - loss: 1.4049 - acc: 0.4935\n",
      "Epoch 15/20\n",
      "50000/50000 [==============================] - 13s 256us/step - loss: 1.3818 - acc: 0.5049\n",
      "Epoch 16/20\n",
      "50000/50000 [==============================] - 13s 263us/step - loss: 1.3680 - acc: 0.5088\n",
      "Epoch 17/20\n",
      "50000/50000 [==============================] - 13s 260us/step - loss: 1.3445 - acc: 0.5189\n",
      "Epoch 18/20\n",
      "50000/50000 [==============================] - 13s 260us/step - loss: 1.3351 - acc: 0.5223\n",
      "Epoch 19/20\n",
      "50000/50000 [==============================] - 13s 263us/step - loss: 1.3174 - acc: 0.5262\n",
      "Epoch 20/20\n",
      "50000/50000 [==============================] - 13s 254us/step - loss: 1.3003 - acc: 0.53470s - loss: 1.2997 - acc:\n"
     ]
    },
    {
     "data": {
      "text/plain": [
       "[<matplotlib.lines.Line2D at 0x22e15bc0208>]"
      ]
     },
     "execution_count": 21,
     "metadata": {},
     "output_type": "execute_result"
    },
    {
     "data": {
      "text/plain": [
       "Text(0.5,1,'model accuracy')"
      ]
     },
     "execution_count": 21,
     "metadata": {},
     "output_type": "execute_result"
    },
    {
     "data": {
      "text/plain": [
       "Text(0,0.5,'accuracy')"
      ]
     },
     "execution_count": 21,
     "metadata": {},
     "output_type": "execute_result"
    },
    {
     "data": {
      "text/plain": [
       "Text(0.5,0,'epoch')"
      ]
     },
     "execution_count": 21,
     "metadata": {},
     "output_type": "execute_result"
    },
    {
     "data": {
      "text/plain": [
       "<matplotlib.legend.Legend at 0x22e15bc07f0>"
      ]
     },
     "execution_count": 21,
     "metadata": {},
     "output_type": "execute_result"
    },
    {
     "data": {
      "text/plain": [
       "[<matplotlib.lines.Line2D at 0x22e159e0710>]"
      ]
     },
     "execution_count": 21,
     "metadata": {},
     "output_type": "execute_result"
    },
    {
     "data": {
      "text/plain": [
       "Text(0.5,1,'model loss')"
      ]
     },
     "execution_count": 21,
     "metadata": {},
     "output_type": "execute_result"
    },
    {
     "data": {
      "text/plain": [
       "Text(0,0.5,'loss')"
      ]
     },
     "execution_count": 21,
     "metadata": {},
     "output_type": "execute_result"
    },
    {
     "data": {
      "text/plain": [
       "Text(0.5,0,'epoch')"
      ]
     },
     "execution_count": 21,
     "metadata": {},
     "output_type": "execute_result"
    },
    {
     "data": {
      "text/plain": [
       "<matplotlib.legend.Legend at 0x22e159e0860>"
      ]
     },
     "execution_count": 21,
     "metadata": {},
     "output_type": "execute_result"
    },
    {
     "name": "stdout",
     "output_type": "stream",
     "text": [
      "Analysis of results\n",
      "              precision    recall  f1-score   support\n",
      "\n",
      "           0       0.50      0.59      0.54      1000\n",
      "           1       0.61      0.58      0.60      1000\n",
      "           2       0.39      0.21      0.27      1000\n",
      "           3       0.32      0.22      0.26      1000\n",
      "           4       0.42      0.43      0.42      1000\n",
      "           5       0.43      0.40      0.42      1000\n",
      "           6       0.46      0.62      0.53      1000\n",
      "           7       0.48      0.61      0.54      1000\n",
      "           8       0.56      0.68      0.62      1000\n",
      "           9       0.61      0.52      0.56      1000\n",
      "\n",
      "   micro avg       0.49      0.49      0.49     10000\n",
      "   macro avg       0.48      0.49      0.48     10000\n",
      "weighted avg       0.48      0.49      0.48     10000\n",
      "\n",
      "[[589  27  39  22  31  10  31  51 162  38]\n",
      " [ 79 582   7  37  17   7  23  34  89 125]\n",
      " [108  23 212  67 196  94 140 110  40  10]\n",
      " [ 44  25  66 221  49 240 183  86  50  36]\n",
      " [ 65  13  89  38 430  43 147 132  33  10]\n",
      " [ 33  15  56 152  53 404 107 118  50  12]\n",
      " [  5  15  37  44 147  61 616  42  19  14]\n",
      " [ 72  22  29  48  78  53  31 610  20  37]\n",
      " [110  53   4  26  20  14  17  19 680  57]\n",
      " [ 65 181   6  44   8  12  31  69  64 520]]\n"
     ]
    },
    {
     "ename": "FileNotFoundError",
     "evalue": "[Errno 2] No such file or directory: 'models\\\\fnn_cifar.json'",
     "traceback": [
      "\u001b[1;31m---------------------------------------------------------------------------\u001b[0m",
      "\u001b[1;31mFileNotFoundError\u001b[0m                         Traceback (most recent call last)",
      "\u001b[1;32m<ipython-input-21-cb214e88005f>\u001b[0m in \u001b[0;36m<module>\u001b[1;34m()\u001b[0m\n\u001b[0;32m     94\u001b[0m \u001b[0mnn_json\u001b[0m \u001b[1;33m=\u001b[0m \u001b[0mnn\u001b[0m\u001b[1;33m.\u001b[0m\u001b[0mto_json\u001b[0m\u001b[1;33m(\u001b[0m\u001b[1;33m)\u001b[0m\u001b[1;33m\u001b[0m\u001b[0m\n\u001b[0;32m     95\u001b[0m \u001b[0mjson_file_name\u001b[0m \u001b[1;33m=\u001b[0m \u001b[1;34m'{0}.json'\u001b[0m\u001b[1;33m.\u001b[0m\u001b[0mformat\u001b[0m\u001b[1;33m(\u001b[0m\u001b[0mmodel_name\u001b[0m\u001b[1;33m)\u001b[0m\u001b[1;33m\u001b[0m\u001b[0m\n\u001b[1;32m---> 96\u001b[1;33m \u001b[1;32mwith\u001b[0m \u001b[0mopen\u001b[0m\u001b[1;33m(\u001b[0m\u001b[0mmodels_folder\u001b[0m \u001b[1;33m/\u001b[0m \u001b[0mjson_file_name\u001b[0m\u001b[1;33m,\u001b[0m \u001b[1;34m'w'\u001b[0m\u001b[1;33m)\u001b[0m \u001b[1;32mas\u001b[0m \u001b[0mjson_file\u001b[0m\u001b[1;33m:\u001b[0m\u001b[1;33m\u001b[0m\u001b[0m\n\u001b[0m\u001b[0;32m     97\u001b[0m     \u001b[0mjson_file\u001b[0m\u001b[1;33m.\u001b[0m\u001b[0mwrite\u001b[0m\u001b[1;33m(\u001b[0m\u001b[0mnn_json\u001b[0m\u001b[1;33m)\u001b[0m\u001b[1;33m\u001b[0m\u001b[0m\n\u001b[0;32m     98\u001b[0m \u001b[0mweights_file_name\u001b[0m \u001b[1;33m=\u001b[0m \u001b[1;34m\"weights-{0}_\"\u001b[0m\u001b[1;33m.\u001b[0m\u001b[0mformat\u001b[0m\u001b[1;33m(\u001b[0m\u001b[0mmodel_name\u001b[0m\u001b[1;33m)\u001b[0m \u001b[1;33m+\u001b[0m \u001b[0mstr\u001b[0m\u001b[1;33m(\u001b[0m\u001b[0mscore\u001b[0m\u001b[1;33m[\u001b[0m\u001b[1;36m1\u001b[0m\u001b[1;33m]\u001b[0m\u001b[1;33m)\u001b[0m \u001b[1;33m+\u001b[0m \u001b[1;34m\".hdf5\"\u001b[0m\u001b[1;33m\u001b[0m\u001b[0m\n",
      "\u001b[1;31mFileNotFoundError\u001b[0m: [Errno 2] No such file or directory: 'models\\\\fnn_cifar.json'"
     ],
     "output_type": "error"
    },
    {
     "data": {
      "image/png": "[encoded data removed]",
      "text/plain": [
       "<Figure size 432x288 with 1 Axes>"
      ]
     },
     "metadata": {},
     "output_type": "display_data"
    }
   ],
   "source": [
    "#NN architecture\n",
    "# n_hlayers = 10\n",
    "# n_neurons = 401\n",
    "\n",
    "initial_neurons = 128\n",
    "neurons = 200\n",
    "layers = 10\n",
    "neurons_step = 8\n",
    "n_epochs= 40\n",
    "n_batch_size= 128\n",
    "\n",
    "\n",
    "#global variables\n",
    "plots_folder = Path(\"plots/\")\n",
    "models_folder = Path(\"models/\")\n",
    "dataset_name = \"cifar\"\n",
    "model_name = 'fnn_{}'.format(dataset_name)\n",
    "cifar_nn_times_dict = {\"Compilation time\": [], \"Training time\": []}\n",
    "cifar_fnn_total_history = []\n",
    "text_file = \"CIFAR-FNN score file.txt\"\n",
    "cifar_fnn_train_scores = []\n",
    "cifar_fnn_evaluation_scores = []\n",
    "start_time = time.clock()\n",
    "print(\"Using keras version {0}\".format(keras.__version__))\n",
    "\n",
    "# Load the dataset\n",
    "(x_train, y_train), (x_test, y_test) = cifar10.load_data()  # loading of CIFAR10 dataset\n",
    "\n",
    "# check sizes\n",
    "print(\"\\n\")\n",
    "print(\"Number of training examples: '{0}'\".format(x_train.shape[0]))\n",
    "print(\"Number of test examples: '{0}'\".format(x_test.shape[0]))\n",
    "print(\"Size of train samples: '{0}'\".format(x_train.shape[1:]))\n",
    "\n",
    "x_train = x_train.astype('float32')\n",
    "x_test = x_test.astype('float32')\n",
    "x_train = x_train / 255\n",
    "x_test = x_test / 255\n",
    "\n",
    "x_train = x_train.reshape(50000,np.prod(x_train.shape[1:]))\n",
    "x_test = x_test.reshape(10000, np.prod(x_train.shape[1:]))\n",
    "bp()\n",
    "\n",
    "# Adapts labels to one hot encoding vector for softmax classifier\n",
    "y_train = np_utils.to_categorical(y_train, 10)\n",
    "y_test = np_utils.to_categorical(y_test, 10)\n",
    "\n",
    "# Neural network architecture\n",
    "nn = Sequential()\n",
    "nn.add(Dense(initial_neurons, activation='relu', input_shape=x_train.shape[1:]))\n",
    "for i in range(layers):\n",
    "    nn.add(Dense(neurons, activation = 'relu'))\n",
    "nn.add(Dense(10, activation='softmax'))\n",
    "\n",
    "# Compile the model\n",
    "nn.compile(optimizer='adam', loss='categorical_crossentropy', metrics=['accuracy'])\n",
    "\n",
    "history = nn.fit(x_train, y_train, batch_size=128, epochs=20)\n",
    "\n",
    "# Evaluate the model\n",
    "score = nn.evaluate(x_test, y_test, verbose=0)\n",
    "\n",
    "# Store plots\n",
    "# Accuracy plot\n",
    "plt.plot(history.history['acc'])\n",
    "plt.title('model accuracy')\n",
    "plt.ylabel('accuracy')\n",
    "plt.xlabel('epoch')\n",
    "plt.legend(['train'], loc='upper left')\n",
    "plot_name = 'model_accuracy_{0}.pdf'.format(model_name)\n",
    "plt.savefig(plots_folder / plot_name)\n",
    "plt.close()\n",
    "# Loss plot\n",
    "plt.plot(history.history['loss'])\n",
    "plt.title('model loss')\n",
    "plt.ylabel('loss')\n",
    "plt.xlabel('epoch')\n",
    "plt.legend(['train'], loc='upper left')\n",
    "plot_name = 'model_loss_{0}.pdf'.format(model_name)\n",
    "plt.savefig(plots_folder / plot_name)\n",
    "\n",
    "# Confusion Matrix\n",
    "# Compute probabilities\n",
    "Y_pred = nn.predict(test_input_shape)\n",
    "# Assign most probable label\n",
    "y_pred = np.argmax(Y_pred, axis=1)\n",
    "# Plot statistics\n",
    "print('Analysis of results')\n",
    "target_names = ['0', '1', '2', '3', '4', '5', '6', '7', '8', '9']\n",
    "print(classification_report(np.argmax(y_test, axis=1), y_pred, target_names=target_names))\n",
    "print(confusion_matrix(np.argmax(y_test, axis=1), y_pred))\n",
    "\n",
    "# Saving model and weights\n",
    "nn_json = nn.to_json()\n",
    "json_file_name = '{0}.json'.format(model_name)\n",
    "with open(models_folder / json_file_name, 'w') as json_file:\n",
    "    json_file.write(nn_json)\n",
    "weights_file_name = \"weights-{0}_\".format(model_name) + str(score[1]) + \".hdf5\"\n",
    "weights_file = models_folder / weights_file_name\n",
    "nn.save_weights(weights_file, overwrite=True)\n",
    "\n",
    "# Loading model and weights\n",
    "json_file = open(models_folder / json_file_name, 'r')\n",
    "nn_json = json_file.read()\n",
    "json_file.close()\n",
    "nn = model_from_json(nn_json)\n",
    "nn.load_weights(weights_file)\n",
    "\n",
    "#measuring execution time\n",
    "print(\"Total execution time {} seconds\".format(time.clock() - start_time))"
   ]
  },
  {
   "cell_type": "markdown",
   "metadata": {
    "collapsed": true
   },
   "source": [
    "## CNN"
   ]
  },
  {
   "cell_type": "markdown",
   "metadata": {},
   "source": [
    "For the CNN part the CIFAR10 dataset will be used."
   ]
  },
  {
   "cell_type": "code",
   "execution_count": 3,
   "metadata": {},
   "outputs": [
    {
     "name": "stderr",
     "output_type": "stream",
     "text": [
      "C:\\Users\\Worldsensing\\Anaconda3\\lib\\site-packages\\ipykernel_launcher.py:19: UserWarning: \n",
      "This call to matplotlib.use() has no effect because the backend has already\n",
      "been chosen; matplotlib.use() must be called *before* pylab, matplotlib.pyplot,\n",
      "or matplotlib.backends is imported for the first time.\n",
      "\n",
      "The backend was *originally* set to 'module://ipykernel.pylab.backend_inline' by the following code:\n",
      "  File \"C:\\Users\\Worldsensing\\Anaconda3\\lib\\runpy.py\", line 193, in _run_module_as_main\n",
      "    \"__main__\", mod_spec)\n",
      "  File \"C:\\Users\\Worldsensing\\Anaconda3\\lib\\runpy.py\", line 85, in _run_code\n",
      "    exec(code, run_globals)\n",
      "  File \"C:\\Users\\Worldsensing\\Anaconda3\\lib\\site-packages\\ipykernel_launcher.py\", line 16, in <module>\n",
      "    app.launch_new_instance()\n",
      "  File \"C:\\Users\\Worldsensing\\Anaconda3\\lib\\site-packages\\traitlets\\config\\application.py\", line 658, in launch_instance\n",
      "    app.start()\n",
      "  File \"C:\\Users\\Worldsensing\\Anaconda3\\lib\\site-packages\\ipykernel\\kernelapp.py\", line 477, in start\n",
      "    ioloop.IOLoop.instance().start()\n",
      "  File \"C:\\Users\\Worldsensing\\Anaconda3\\lib\\site-packages\\zmq\\eventloop\\ioloop.py\", line 177, in start\n",
      "    super(ZMQIOLoop, self).start()\n",
      "  File \"C:\\Users\\Worldsensing\\Anaconda3\\lib\\site-packages\\tornado\\ioloop.py\", line 888, in start\n",
      "    handler_func(fd_obj, events)\n",
      "  File \"C:\\Users\\Worldsensing\\Anaconda3\\lib\\site-packages\\tornado\\stack_context.py\", line 277, in null_wrapper\n",
      "    return fn(*args, **kwargs)\n",
      "  File \"C:\\Users\\Worldsensing\\Anaconda3\\lib\\site-packages\\zmq\\eventloop\\zmqstream.py\", line 440, in _handle_events\n",
      "    self._handle_recv()\n",
      "  File \"C:\\Users\\Worldsensing\\Anaconda3\\lib\\site-packages\\zmq\\eventloop\\zmqstream.py\", line 472, in _handle_recv\n",
      "    self._run_callback(callback, msg)\n",
      "  File \"C:\\Users\\Worldsensing\\Anaconda3\\lib\\site-packages\\zmq\\eventloop\\zmqstream.py\", line 414, in _run_callback\n",
      "    callback(*args, **kwargs)\n",
      "  File \"C:\\Users\\Worldsensing\\Anaconda3\\lib\\site-packages\\tornado\\stack_context.py\", line 277, in null_wrapper\n",
      "    return fn(*args, **kwargs)\n",
      "  File \"C:\\Users\\Worldsensing\\Anaconda3\\lib\\site-packages\\ipykernel\\kernelbase.py\", line 283, in dispatcher\n",
      "    return self.dispatch_shell(stream, msg)\n",
      "  File \"C:\\Users\\Worldsensing\\Anaconda3\\lib\\site-packages\\ipykernel\\kernelbase.py\", line 235, in dispatch_shell\n",
      "    handler(stream, idents, msg)\n",
      "  File \"C:\\Users\\Worldsensing\\Anaconda3\\lib\\site-packages\\ipykernel\\kernelbase.py\", line 399, in execute_request\n",
      "    user_expressions, allow_stdin)\n",
      "  File \"C:\\Users\\Worldsensing\\Anaconda3\\lib\\site-packages\\ipykernel\\ipkernel.py\", line 196, in do_execute\n",
      "    res = shell.run_cell(code, store_history=store_history, silent=silent)\n",
      "  File \"C:\\Users\\Worldsensing\\Anaconda3\\lib\\site-packages\\ipykernel\\zmqshell.py\", line 533, in run_cell\n",
      "    return super(ZMQInteractiveShell, self).run_cell(*args, **kwargs)\n",
      "  File \"C:\\Users\\Worldsensing\\Anaconda3\\lib\\site-packages\\IPython\\core\\interactiveshell.py\", line 2698, in run_cell\n",
      "    interactivity=interactivity, compiler=compiler, result=result)\n",
      "  File \"C:\\Users\\Worldsensing\\Anaconda3\\lib\\site-packages\\IPython\\core\\interactiveshell.py\", line 2808, in run_ast_nodes\n",
      "    if self.run_code(code, result):\n",
      "  File \"C:\\Users\\Worldsensing\\Anaconda3\\lib\\site-packages\\IPython\\core\\interactiveshell.py\", line 2862, in run_code\n",
      "    exec(code_obj, self.user_global_ns, self.user_ns)\n",
      "  File \"<ipython-input-1-b0e48495b435>\", line 24, in <module>\n",
      "    get_ipython().magic('matplotlib inline')\n",
      "  File \"C:\\Users\\Worldsensing\\Anaconda3\\lib\\site-packages\\IPython\\core\\interactiveshell.py\", line 2146, in magic\n",
      "    return self.run_line_magic(magic_name, magic_arg_s)\n",
      "  File \"C:\\Users\\Worldsensing\\Anaconda3\\lib\\site-packages\\IPython\\core\\interactiveshell.py\", line 2067, in run_line_magic\n",
      "    result = fn(*args,**kwargs)\n",
      "  File \"<decorator-gen-108>\", line 2, in matplotlib\n",
      "  File \"C:\\Users\\Worldsensing\\Anaconda3\\lib\\site-packages\\IPython\\core\\magic.py\", line 187, in <lambda>\n",
      "    call = lambda f, *a, **k: f(*a, **k)\n",
      "  File \"C:\\Users\\Worldsensing\\Anaconda3\\lib\\site-packages\\IPython\\core\\magics\\pylab.py\", line 99, in matplotlib\n",
      "    gui, backend = self.shell.enable_matplotlib(args.gui)\n",
      "  File \"C:\\Users\\Worldsensing\\Anaconda3\\lib\\site-packages\\IPython\\core\\interactiveshell.py\", line 2930, in enable_matplotlib\n",
      "    pt.activate_matplotlib(backend)\n",
      "  File \"C:\\Users\\Worldsensing\\Anaconda3\\lib\\site-packages\\IPython\\core\\pylabtools.py\", line 307, in activate_matplotlib\n",
      "    matplotlib.pyplot.switch_backend(backend)\n",
      "  File \"C:\\Users\\Worldsensing\\Anaconda3\\lib\\site-packages\\matplotlib\\pyplot.py\", line 231, in switch_backend\n",
      "    matplotlib.use(newbackend, warn=False, force=True)\n",
      "  File \"C:\\Users\\Worldsensing\\Anaconda3\\lib\\site-packages\\matplotlib\\__init__.py\", line 1422, in use\n",
      "    reload(sys.modules['matplotlib.backends'])\n",
      "  File \"C:\\Users\\Worldsensing\\Anaconda3\\lib\\importlib\\__init__.py\", line 166, in reload\n",
      "    _bootstrap._exec(spec, module)\n",
      "  File \"C:\\Users\\Worldsensing\\Anaconda3\\lib\\site-packages\\matplotlib\\backends\\__init__.py\", line 16, in <module>\n",
      "    line for line in traceback.format_stack()\n",
      "\n",
      "\n"
     ]
    }
   ],
   "source": [
    "from __future__ import division\n",
    "from pathlib import Path\n",
    "import time\n",
    "\n",
    "from IPython.core.interactiveshell import InteractiveShell\n",
    "InteractiveShell.ast_node_interactivity = \"all\"\n",
    "\n",
    "import ipdb\n",
    "from ipdb import set_trace as bp\n",
    "\n",
    "import keras\n",
    "from keras.datasets import cifar10\n",
    "from keras.utils import np_utils\n",
    "from keras.models import Sequential\n",
    "from keras.layers import Dense, Activation, Conv2D, MaxPooling2D, Flatten\n",
    "from keras.utils import plot_model\n",
    "from keras.models import model_from_json #to load a model from a json file.\n",
    "import matplotlib\n",
    "matplotlib.use('Agg')\n",
    "import matplotlib.pyplot as plt\n",
    "from sklearn.metrics import classification_report, confusion_matrix\n",
    "import numpy as np\n",
    "import pandas as pd\n",
    "\n",
    "np.random.seed(12345678)\n",
    "%matplotlib inline"
   ]
  },
  {
   "cell_type": "code",
   "execution_count": null,
   "metadata": {
    "collapsed": true
   },
   "outputs": [],
   "source": [
    "#global variables\n",
    "plots_folder = Path(\"plots/\")\n",
    "models_folder = Path(\"models/\")\n",
    "times_dict = {\"Compilation time\": [], \"Training time\": []}\n",
    "total_history = []\n",
    "text_file = \"CNN score file.txt\"\n",
    "train_scores = []\n",
    "evaluation_scores = []\n",
    "\n",
    "#neural net architecture config\n",
    "n_hlayers = 0\n",
    "n_neurons = 10\n",
    "initial_neurons = 128\n",
    "neurons_step = 2\n",
    "n_epochs= 20\n",
    "n_batch_size= 128\n",
    "    \n",
    "text_file =  model_name + \"_\" + text_file\n",
    "\n",
    "start_time = time.clock()\n",
    "print(\"Using keras version %s\" % keras.__version__)\n",
    "\n",
    "# Load the dataset\n",
    "(x_train, y_train), (x_test, y_test) = cifar10.load_data()  # loading of MNIST dataset\n",
    "\n",
    "# check sizes\n",
    "print(\"\\n\")\n",
    "print(\"Number of training examples: '{0}'\".format(x_train.shape[0]))\n",
    "print(\"Number of test examples: '{0}'\".format(x_test.shape[0]))\n",
    "print(\"Size of train samples: '{0}'\".format(x_train.shape[1:]))\n",
    "\n",
    "# Data to 1D and normalization\n",
    "#x_train = x_train.reshape(60000, 784)  # 60000 observations of 784 features\n",
    "#x_test = x_test.reshape(10000, 784)  # 10000 observations of 784 features\n",
    "\n",
    "x_train = x_train.astype('float32')\n",
    "x_test = x_test.astype('float32')\n",
    "x_train = x_train / 255\n",
    "x_test = x_test / 255\n",
    "\n",
    "train_input_shape = x_train.reshape(*x_train.shape)\n",
    "test_input_shape = x_test.reshape(*x_test.shape)\n",
    "\n",
    "# Adapts labels to one hot encoding vector for softmax classifier\n",
    "y_train = np_utils.to_categorical(y_train, 10)\n",
    "y_test = np_utils.to_categorical(y_test, 10)\n",
    "\n",
    "# Neural network architecture\n",
    "# CNN\n",
    "nn = Sequential()\n",
    "nn.add(Conv2D(32, kernel_size=(3,3), activation = 'relu', input_shape=x_train.shape[1:]))\n",
    "nn.add(MaxPooling2D(pool_size=(2,2)))\n",
    "nn.add(Conv2D(64,(3,3), activation = 'relu'))\n",
    "nn.add(MaxPooling2D(pool_size=(2,2)))\n",
    "nn.add(Flatten())\n",
    "nn.add(Dense(128, activation='relu'))\n",
    "nn.add(Dense(10, activation='softmax'))\n",
    "\n",
    "# Model visualization\n",
    "# The plot of the model needs pydot, graphviz and pydot-ng\n",
    "#plot_model(nn, to_file='nn.png', show_shapes=True)\n",
    "\n",
    "# Compile the model\n",
    "nn.compile(optimizer='sgd', loss='categorical_crossentropy', metrics=['accuracy'])\n",
    "\n",
    "history = nn.fit(train_input_shape, y_train, batch_size=128, epochs=20)\n",
    "\n",
    "# Evaluate the model\n",
    "score = nn.evaluate(test_input_shape, y_test, verbose=0)\n",
    "\n",
    "# Store plots\n",
    "# Accuracy plot\n",
    "plt.plot(history.history['acc'])\n",
    "plt.title('model accuracy')\n",
    "plt.ylabel('accuracy')\n",
    "plt.xlabel('epoch')\n",
    "plt.legend(['train'], loc='upper left')\n",
    "plot_name = 'model_accuracy_{0}.pdf'.format(model_name)\n",
    "plt.savefig(plots_folder / plot_name)\n",
    "plt.close()\n",
    "# Loss plot\n",
    "plt.plot(history.history['loss'])\n",
    "plt.title('model loss')\n",
    "plt.ylabel('loss')\n",
    "plt.xlabel('epoch')\n",
    "plt.legend(['train'], loc='upper left')\n",
    "plot_name = 'model_loss_{0}.pdf'.format(model_name)\n",
    "plt.savefig(plots_folder / plot_name)\n",
    "\n",
    "# Confusion Matrix\n",
    "# Compute probabilities\n",
    "Y_pred = nn.predict(test_input_shape)\n",
    "# Assign most probable label\n",
    "y_pred = np.argmax(Y_pred, axis=1)\n",
    "# Plot statistics\n",
    "print('Analysis of results')\n",
    "target_names = ['0', '1', '2', '3', '4', '5', '6', '7', '8', '9']\n",
    "print(classification_report(np.argmax(y_test, axis=1), y_pred, target_names=target_names))\n",
    "print(confusion_matrix(np.argmax(y_test, axis=1), y_pred))\n",
    "\n",
    "# Saving model and weights\n",
    "nn_json = nn.to_json()\n",
    "json_file_name = '{0}.json'.format(model_name)\n",
    "with open(models_folder / json_file_name, 'w') as json_file:\n",
    "    json_file.write(nn_json)\n",
    "weights_file_name = \"weights-{0}_\".format(model_name) + str(score[1]) + \".hdf5\"\n",
    "weights_file = models_folder / weights_file_name\n",
    "nn.save_weights(weights_file, overwrite=True)\n",
    "\n",
    "# Loading model and weights\n",
    "json_file = open(models_folder / json_file_name, 'r')\n",
    "nn_json = json_file.read()\n",
    "json_file.close()\n",
    "nn = model_from_json(nn_json)\n",
    "nn.load_weights(weights_file)\n",
    "\n",
    "#measuring execution time\n",
    "print(\"Total execution time {} seconds\".format(time.clock() - start_time))"
   ]
  },
  {
   "cell_type": "markdown",
   "metadata": {},
   "source": [
    "#### Questions\n",
    "1. **Can you design and train a model that overfits on the training data (or on a subset of it)?**\n",
    "2. **When overfitting, what is the result of applying various regularization techniques?**\n",
    "3. **When using ReLUs, how many neurons are dead after a training?**\n",
    "4. **Adding data augmentation improves performance?**\n",
    "5. **How do the different learning algorithms behave for equal architectures? Does regularization have the same affect when using different algorithms?**\n",
    "6. **How hard is it to match the performance of an adaptative algorithm (e.g., Adam) by using an algorithm where parameters have to be hand tunned (e.g., SGD)?**\n",
    "7. **What is the result of using different weight initializations in the training process?**"
   ]
  },
  {
   "cell_type": "markdown",
   "metadata": {},
   "source": [
    "## Experiments"
   ]
  },
  {
   "cell_type": "markdown",
   "metadata": {},
   "source": [
    "### Self normalizing activation function"
   ]
  },
  {
   "cell_type": "markdown",
   "metadata": {},
   "source": [
    "### Autoencoder"
   ]
  },
  {
   "cell_type": "markdown",
   "metadata": {},
   "source": [
    "### House numbers, mnist and transer learning"
   ]
  },
  {
   "cell_type": "markdown",
   "metadata": {},
   "source": [
    "### Loss function visualization"
   ]
  }
 ],
 "metadata": {
  "hide_code_all_hidden": false,
  "kernelspec": {
   "display_name": "Python 3",
   "language": "python",
   "name": "python3"
  },
  "language_info": {
   "codemirror_mode": {
    "name": "ipython",
    "version": 3
   },
   "file_extension": ".py",
   "mimetype": "text/x-python",
   "name": "python",
   "nbconvert_exporter": "python",
   "pygments_lexer": "ipython3",
   "version": "3.6.6"
  }
 },
 "nbformat": 4,
 "nbformat_minor": 1
}
